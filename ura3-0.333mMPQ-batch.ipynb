{
 "cells": [
  {
   "cell_type": "code",
   "execution_count": null,
   "metadata": {},
   "outputs": [],
   "source": [
    "%pylab"
   ]
  },
  {
   "cell_type": "code",
   "execution_count": null,
   "metadata": {
    "collapsed": true
   },
   "outputs": [],
   "source": [
    "%matplotlib inline"
   ]
  },
  {
   "cell_type": "code",
   "execution_count": null,
   "metadata": {},
   "outputs": [],
   "source": [
    "import pystan, pickle, popmachine\n",
    "\n",
    "from pystan_cache.pystan_cache import caching_stan"
   ]
  },
  {
   "cell_type": "code",
   "execution_count": null,
   "metadata": {},
   "outputs": [],
   "source": [
    "pystan.__version__"
   ]
  },
  {
   "cell_type": "code",
   "execution_count": null,
   "metadata": {
    "collapsed": true
   },
   "outputs": [],
   "source": [
    "machine = popmachine.Machine('sqlite:///../popmachine_local/.popmachine.db')"
   ]
  },
  {
   "cell_type": "code",
   "execution_count": null,
   "metadata": {
    "collapsed": true
   },
   "outputs": [],
   "source": [
    "ds = machine.search(Strain='ura3', **{'mM PQ':[0.0, .333, 333.0], 'M NaCl':[4.2, None]})\n",
    "\n",
    "# plates = [u'20150517 PQ 3', u'20150715 PQ 8', u'20150702 PQ 6',\n",
    "#        u'20150630 PQ 5', u'20150704 PQ 7', u'20150717 PQ 9']\n",
    "# ds = machine.search(plates=plates, Strain='ura3', **{'mM PQ':[0.0, .333], 'M NaCl':[4.2, None]})\n",
    "\n",
    "ds.log()\n",
    "ds.filter()\n",
    "ds.trim(5)\n",
    "ds.poly_scale(2, groupby=['plate', 'mM PQ'])\n",
    "\n",
    "ds.data = ds.data.iloc[::3,:]\n",
    "\n",
    "ds.meta.loc[ds.meta['mM PQ']=='333.0', 'mM PQ'] = '0.333'"
   ]
  },
  {
   "cell_type": "code",
   "execution_count": null,
   "metadata": {},
   "outputs": [],
   "source": [
    "plt.figure(figsize=(12,4))\n",
    "ds.plot(columns=['plate'], colorby=['mM PQ'])"
   ]
  },
  {
   "cell_type": "code",
   "execution_count": null,
   "metadata": {
    "collapsed": true,
    "scrolled": false
   },
   "outputs": [],
   "source": [
    "xraw ,y, design, labels = ds.build(['mM PQ', 'plate'],scale=True)"
   ]
  },
  {
   "cell_type": "code",
   "execution_count": null,
   "metadata": {},
   "outputs": [],
   "source": [
    "labels"
   ]
  },
  {
   "cell_type": "code",
   "execution_count": null,
   "metadata": {
    "collapsed": true
   },
   "outputs": [],
   "source": [
    "ymean, ystd = y.mean(), y.std()\n",
    "\n",
    "y = (y-y.mean())/y.std()\n",
    "\n",
    "x = (xraw-xraw.mean())/xraw.std()"
   ]
  },
  {
   "cell_type": "code",
   "execution_count": null,
   "metadata": {},
   "outputs": [],
   "source": [
    "y.shape, x.shape"
   ]
  },
  {
   "cell_type": "code",
   "execution_count": null,
   "metadata": {
    "collapsed": true
   },
   "outputs": [],
   "source": [
    "dm = np.zeros((y.shape[1], 2 + 2*ds.meta.plate.unique().shape[0]))\n",
    "dm[:,0] = 1\n",
    "# dm[:,1] = design['mM PQ'] != labels[0].index('0.0') #1 - 2*design['mM PQ']\n",
    "# dm[:,1] = 1 - 2*design['mM PQ']\n",
    "dm[:,1] = 1 - 2*(design['mM PQ'] == labels[0].index('0.0'))\n",
    "\n",
    "for i in range(design.plate.unique().shape[0]):\n",
    "    dm[:,2+i*2:4+i*2] = dm[:,:2] * (design.plate==i).values[:,None]"
   ]
  },
  {
   "cell_type": "code",
   "execution_count": null,
   "metadata": {},
   "outputs": [],
   "source": [
    "plt.figure(figsize=(10,8))\n",
    "plt.imshow(dm, aspect='auto')"
   ]
  },
  {
   "cell_type": "code",
   "execution_count": null,
   "metadata": {},
   "outputs": [],
   "source": [
    "gp_multi = caching_stan.stan_model(file='stan-models/gp_multi.stan')"
   ]
  },
  {
   "cell_type": "code",
   "execution_count": null,
   "metadata": {
    "collapsed": true
   },
   "outputs": [],
   "source": [
    "# random effect\n",
    "\n",
    "p = dm.shape[1]\n",
    "n = x.shape[0]\n",
    "\n",
    "# design = np.zeros((p, 1+p))\n",
    "# design[:,0] = 1\n",
    "# design[:,1:] = np.eye(p)\n",
    "\n",
    "priors = [1, 2] + [3, 4] * ds.meta.plate.unique().shape[0]\n",
    "\n",
    "sim_data = {\n",
    "    'N': n,\n",
    "    'P':y.shape[1],\n",
    "    'K':dm.shape[1],\n",
    "    'L':4,\n",
    "    'prior':priors,     \n",
    "    'length_scale': [1, .5, .3],\n",
    "    'alpha': [1,.4, .3],\n",
    "    'sigma': .2,\n",
    "    'design': dm #[[1,1,0,0],[1,0,1,0],[1,0,0,1]]\n",
    "}"
   ]
  },
  {
   "cell_type": "code",
   "execution_count": null,
   "metadata": {
    "collapsed": true
   },
   "outputs": [],
   "source": [
    "import scipy"
   ]
  },
  {
   "cell_type": "code",
   "execution_count": null,
   "metadata": {},
   "outputs": [],
   "source": [
    "z = np.linspace(0, 10)\n",
    "\n",
    "plt.plot(z, scipy.stats.gamma.pdf(z, 1.5, scale=.4))\n",
    "plt.plot(z, scipy.stats.gamma.pdf(z, 1.5, scale=2))\n",
    "\n",
    "# plt.semilogx()"
   ]
  },
  {
   "cell_type": "code",
   "execution_count": null,
   "metadata": {},
   "outputs": [],
   "source": [
    "train_data = sim_data.copy()\n",
    "train_data['N'] = x.shape[0]\n",
    "train_data['y'] = y.T\n",
    "train_data['x'] = x[:,0]\n",
    "\n",
    "train_data['alpha_prior'] = [[1,1], [1,1], [.1,1], [.1,1]]\n",
    "train_data['length_scale_prior'] = [[1.5,2]] * 4\n",
    "\n",
    "train_data"
   ]
  },
  {
   "cell_type": "code",
   "execution_count": null,
   "metadata": {
    "collapsed": true
   },
   "outputs": [],
   "source": [
    "# tsamples = gp_multi.sampling(data=train_data, chains=2, iter=100, control = {'adapt_delta': 0.8})\n",
    "tsamples = gp_multi.sampling(data=train_data, chains=4, iter=2000, control = {'adapt_delta': 0.8})"
   ]
  },
  {
   "cell_type": "code",
   "execution_count": null,
   "metadata": {},
   "outputs": [],
   "source": [
    "1445./2000, 1953.15/2000, 6000./2000"
   ]
  },
  {
   "cell_type": "code",
   "execution_count": null,
   "metadata": {
    "collapsed": true
   },
   "outputs": [],
   "source": [
    "_ = gp_multi.sampling(data=train_data, chains=4, iter=100, control = {'adapt_delta': 0.8})"
   ]
  },
  {
   "cell_type": "code",
   "execution_count": null,
   "metadata": {},
   "outputs": [],
   "source": [
    "727./2000, 64./100, /100"
   ]
  },
  {
   "cell_type": "code",
   "execution_count": null,
   "metadata": {},
   "outputs": [],
   "source": [
    "64./100*2000/60"
   ]
  },
  {
   "cell_type": "code",
   "execution_count": null,
   "metadata": {},
   "outputs": [],
   "source": [
    "tsamples"
   ]
  },
  {
   "cell_type": "code",
   "execution_count": null,
   "metadata": {},
   "outputs": [],
   "source": [
    "plt.figure(figsize=(10,4))\n",
    "tsamples.traceplot(['length_scale', 'alpha', 'sigma','lp__'])\n",
    "plt.tight_layout()"
   ]
  },
  {
   "cell_type": "code",
   "execution_count": null,
   "metadata": {
    "collapsed": true
   },
   "outputs": [],
   "source": [
    "tsamp = tsamples.extract(permuted=True)"
   ]
  },
  {
   "cell_type": "code",
   "execution_count": null,
   "metadata": {
    "scrolled": false
   },
   "outputs": [],
   "source": [
    "ncol = 2\n",
    "nrow = int(1.*(dm.shape[1]-1)/ncol) + 1\n",
    "\n",
    "plt.figure(figsize=(4*ncol, 4*nrow))\n",
    "\n",
    "for i in range(dm.shape[1]):\n",
    "    \n",
    "    plt.subplot(dm.shape[1]/ncol + 1, ncol, i + 1)\n",
    "    \n",
    "    plt.plot(x, tsamp['f'][:,i,:].mean(0),)\n",
    "    #plt.plot(x, tsamp['f'][:,i,:].T,c='k', alpha=.2)\n",
    "    plt.fill_between(x[:,0], \n",
    "                     tsamp['f'][:,i,:].mean(0)-2*tsamp['f'][:,i,:].std(0),\n",
    "                     tsamp['f'][:,i,:].mean(0)+2*tsamp['f'][:,i,:].std(0),alpha=.1)\n",
    "    plt.plot([x.min(), x.max()], [0, 0], lw=3, c='k')\n",
    "    \n",
    "    if i > 1:\n",
    "        plt.ylim(-1.5, 1.5)\n",
    "    \n",
    "    #plt.plot(x[train_ind],f[i,train_ind].T,'--')"
   ]
  },
  {
   "cell_type": "code",
   "execution_count": null,
   "metadata": {
    "collapsed": true
   },
   "outputs": [],
   "source": [
    "def add_subplot_axes(ax,rect,axisbg='w'):\n",
    "    fig = plt.gcf()\n",
    "    box = ax.get_position()\n",
    "    width = box.width\n",
    "    height = box.height\n",
    "    inax_position  = ax.transAxes.transform(rect[0:2])\n",
    "    transFigure = fig.transFigure.inverted()\n",
    "    infig_position = transFigure.transform(inax_position)    \n",
    "    x = infig_position[0]\n",
    "    y = infig_position[1]\n",
    "    width *= rect[2]\n",
    "    height *= rect[3]  # <= Typo was here\n",
    "    subax = fig.add_axes([x,y,width,height],axisbg=axisbg)\n",
    "    x_labelsize = subax.get_xticklabels()[0].get_size()\n",
    "    y_labelsize = subax.get_yticklabels()[0].get_size()\n",
    "    x_labelsize *= rect[2]**0.5\n",
    "    y_labelsize *= rect[3]**0.5\n",
    "    subax.xaxis.set_tick_params(labelsize=x_labelsize)\n",
    "    subax.yaxis.set_tick_params(labelsize=y_labelsize)\n",
    "    return subax\n"
   ]
  },
  {
   "cell_type": "code",
   "execution_count": null,
   "metadata": {},
   "outputs": [],
   "source": [
    "for i in range(2,dm.shape[1]):\n",
    "    \n",
    "    plt.subplot(1, 2, i%2 + 1)\n",
    "    \n",
    "    plt.plot(xraw, tsamp['f'][:,i,:].mean(0),)\n",
    "    #plt.plot(x, tsamp['f'][:,i,:].T,c='k', alpha=.2)\n",
    "    plt.fill_between(xraw[:,0], \n",
    "                     tsamp['f'][:,i,:].mean(0)-2*tsamp['f'][:,i,:].std(0),\n",
    "                     tsamp['f'][:,i,:].mean(0)+2*tsamp['f'][:,i,:].std(0),alpha=.1)\n",
    "    \n",
    "    #if i % 2 == 0:\n",
    "    #    plt.ylim(-.32, .28)\n",
    "    #else:\n",
    "    #    plt.ylim(-.34, .48)\n",
    "    plt.ylim(-1.5, .8)\n",
    "    \n",
    "\n",
    "ax = plt.subplot(121)\n",
    "plt.title('$f_0$', fontsize=16)\n",
    "# plt.legend(fontsize=12)\n",
    "plt.xticks(fontsize=12)\n",
    "plt.yticks(fontsize=12)\n",
    "plt.ylabel('log(OD)', fontsize=16)\n",
    "plt.xlabel('time (h)', fontsize=16)\n",
    "plt.plot([xraw.min(), xraw.max()], [0, 0], lw=1, c='k')\n",
    "\n",
    "# ax = add_subplot_axes(ax, (.2,.8,.3,.2))\n",
    "# temp = tsamp['f'][:,2::2].sum(1)\n",
    "# plt.plot(x, temp.mean(0),)\n",
    "# #plt.plot(x, tsamp['f'][:,i,:].T,c='k', alpha=.2)\n",
    "# plt.fill_between(x[:,0], \n",
    "#                  temp.mean(0)-2*temp.std(0),\n",
    "#                  temp.mean(0)+2*temp.std(0),alpha=.1)\n",
    "\n",
    "\n",
    "ax = plt.subplot(122)\n",
    "plt.title('$f_1$', fontsize=16)\n",
    "# plt.legend(fontsize=12)\n",
    "plt.xticks(fontsize=12)\n",
    "plt.yticks(fontsize=12)\n",
    "plt.xlabel('time (h)', fontsize=16)\n",
    "plt.plot([xraw.min(), xraw.max()], [0, 0], lw=1, c='k')\n",
    "\n",
    "# ax = add_subplot_axes(ax, (.33,.8,.3,.2))\n",
    "# temp = tsamp['f'][:,3::2].sum(1)\n",
    "# plt.plot(x, temp.mean(0),)\n",
    "# #plt.plot(x, tsamp['f'][:,i,:].T,c='k', alpha=.2)\n",
    "# plt.fill_between(x[:,0], \n",
    "#                  temp.mean(0)-2*temp.std(0),\n",
    "#                  temp.mean(0)+2*temp.std(0),alpha=.1)\n",
    "\n",
    "plt.tight_layout()\n",
    "plt.savefig('figures/ura3_0.333mM-PQ_batchFunctions-stan.pdf', bbox_inches='tight')"
   ]
  },
  {
   "cell_type": "code",
   "execution_count": null,
   "metadata": {},
   "outputs": [],
   "source": [
    "plt.subplot(121)\n",
    "temp = tsamp['f'][:,2::2].sum(1)\n",
    "\n",
    "plt.plot(x, temp.mean(0),)\n",
    "#plt.plot(x, tsamp['f'][:,i,:].T,c='k', alpha=.2)\n",
    "plt.fill_between(x[:,0], \n",
    "                 temp.mean(0)-2*temp.std(0),\n",
    "                 temp.mean(0)+2*temp.std(0),alpha=.1)\n",
    "\n",
    "plt.subplot(122)\n",
    "temp = tsamp['f'][:,3::2].sum(1)\n",
    "\n",
    "plt.plot(x, temp.mean(0),)\n",
    "#plt.plot(x, tsamp['f'][:,i,:].T,c='k', alpha=.2)\n",
    "plt.fill_between(x[:,0], \n",
    "                 temp.mean(0)-2*temp.std(0),\n",
    "                 temp.mean(0)+2*temp.std(0),alpha=.1)"
   ]
  },
  {
   "cell_type": "code",
   "execution_count": null,
   "metadata": {},
   "outputs": [],
   "source": [
    "tsamp['f'].shape"
   ]
  },
  {
   "cell_type": "code",
   "execution_count": null,
   "metadata": {},
   "outputs": [],
   "source": [
    "temp = (tsamp['f'][:,2::2,]**2).sum(1)\n",
    "#temp.sort()\n",
    "# temp[:10,0]\n",
    "temp.shape"
   ]
  },
  {
   "cell_type": "code",
   "execution_count": null,
   "metadata": {},
   "outputs": [],
   "source": [
    "plt.subplot(121)\n",
    "\n",
    "temp = ((ystd*tsamp['f'][:,2::2])**2).sum(1)\n",
    "temp.sort(0)\n",
    "\n",
    "plt.plot(x, temp.mean(0),)\n",
    "plt.fill_between(x[:,0], \n",
    "                 temp[int(.025*temp.shape[0]),:],\n",
    "                 temp[int(.975*temp.shape[0]),:],alpha=.1)\n",
    "\n",
    "plt.ylim(-.01, 1.3)\n",
    "plt.title('$f_1$', fontsize=16)\n",
    "# plt.yticks(np.arange(0., .25, .05), fontsize=12)\n",
    "plt.yticks(fontsize=12)\n",
    "plt.xlabel('time (h)', fontsize=16)\n",
    "plt.ylabel('log(OD)$^2$', fontsize=16)\n",
    "\n",
    "plt.subplot(122)\n",
    "temp = ((ystd*tsamp['f'][:,3::2])**2).sum(1)\n",
    "temp.sort(0)\n",
    "\n",
    "plt.plot(x, temp.mean(0),)\n",
    "plt.fill_between(x[:,0], \n",
    "                 temp[int(.025*temp.shape[0]),:],\n",
    "                 temp[int(.975*temp.shape[0]),:],alpha=.1)\n",
    "\n",
    "plt.ylim(-.01, 1.3)\n",
    "\n",
    "plt.title('$f_1$', fontsize=16)\n",
    "plt.xticks(fontsize=12)\n",
    "# plt.yticks(np.arange(0., .25, .05), fontsize=12)\n",
    "plt.yticks(fontsize=12)\n",
    "plt.xlabel('time (h)', fontsize=16)\n",
    "\n",
    "\n",
    "plt.tight_layout()\n",
    "plt.savefig('figures/ura3_0.333mM-PQ_finitePopVariance-stan.pdf', bbox_inches='tight')"
   ]
  },
  {
   "cell_type": "code",
   "execution_count": null,
   "metadata": {},
   "outputs": [],
   "source": [
    "plt.plot(tsamp['alpha'],alpha=.4)\n",
    "plt.semilogy()\n",
    "plt.legend()"
   ]
  },
  {
   "cell_type": "code",
   "execution_count": null,
   "metadata": {},
   "outputs": [],
   "source": [
    "tsamp['alpha'].shape"
   ]
  },
  {
   "cell_type": "code",
   "execution_count": null,
   "metadata": {},
   "outputs": [],
   "source": [
    "for i in range(4):\n",
    "\n",
    "    temp = tsamp['alpha'][:,i]\n",
    "\n",
    "    z = np.linspace(temp.min(), temp.max())\n",
    "    kde = scipy.stats.gaussian_kde(temp)\n",
    "\n",
    "    plt.plot(z, kde(z)/kde(z).max(), label='alpha %d'%i)\n",
    "    \n",
    "temp = tsamp['sigma']\n",
    "z = np.linspace(temp.min(), temp.max())\n",
    "kde = scipy.stats.gaussian_kde(temp)\n",
    "\n",
    "plt.plot(z, kde(z)/kde(z).max(), label='sigma')\n",
    "\n",
    "plt.semilogx()    \n",
    "plt.legend()\n",
    "\n",
    "plt.savefig('figures/ura3_0.333mMPQ-alpha-stan.pdf', bbox_inches='tight')"
   ]
  },
  {
   "cell_type": "code",
   "execution_count": null,
   "metadata": {},
   "outputs": [],
   "source": [
    "for i in range(4):\n",
    "\n",
    "    temp = tsamp['length_scale'][:,i]\n",
    "\n",
    "    z = np.linspace(temp.min(), temp.max())\n",
    "    kde = scipy.stats.gaussian_kde(temp)\n",
    "\n",
    "\n",
    "    plt.plot(z, kde(z), label='length_scale %d'%i)\n",
    "\n",
    "plt.semilogx()    \n",
    "plt.legend()"
   ]
  },
  {
   "cell_type": "markdown",
   "metadata": {},
   "source": [
    "# null model "
   ]
  },
  {
   "cell_type": "code",
   "execution_count": null,
   "metadata": {
    "collapsed": true
   },
   "outputs": [],
   "source": [
    "null_train_data = train_data.copy()\n",
    "null_train_data['design'] = train_data['design'][:,:2]\n",
    "null_train_data['prior'] = null_train_data['prior'][:2]\n",
    "null_train_data['length_scale_prior'] = null_train_data['length_scale_prior'][:2]\n",
    "null_train_data['alpha_prior'] = null_train_data['alpha_prior'][:2]\n",
    "null_train_data['K'] = null_train_data['L'] = 2"
   ]
  },
  {
   "cell_type": "code",
   "execution_count": null,
   "metadata": {
    "collapsed": true
   },
   "outputs": [],
   "source": [
    "nullSamples = gp_multi.sampling(data=null_train_data, chains=4, iter=2000, control = {'adapt_delta': 0.8})"
   ]
  },
  {
   "cell_type": "code",
   "execution_count": null,
   "metadata": {},
   "outputs": [],
   "source": [
    "nullSamples"
   ]
  },
  {
   "cell_type": "code",
   "execution_count": null,
   "metadata": {},
   "outputs": [],
   "source": [
    "plt.figure(figsize=(10,4))\n",
    "nullSamples.traceplot(['length_scale', 'alpha', 'sigma','lp__'])\n",
    "plt.tight_layout()"
   ]
  },
  {
   "cell_type": "code",
   "execution_count": null,
   "metadata": {
    "collapsed": true
   },
   "outputs": [],
   "source": [
    "nsamp = nullSamples.extract(permuted=True)"
   ]
  },
  {
   "cell_type": "code",
   "execution_count": null,
   "metadata": {},
   "outputs": [],
   "source": [
    "ncol = 2\n",
    "nrow = int(1.*(dm.shape[1]-1)/ncol) + 1\n",
    "\n",
    "plt.figure(figsize=(4*ncol, 4*nrow))\n",
    "\n",
    "for i in range(2):\n",
    "    \n",
    "    plt.subplot(dm.shape[1]/ncol + 1, ncol, i + 1)\n",
    "    \n",
    "    plt.plot(x, nsamp['f'][:,i,:].mean(0),)\n",
    "    #plt.plot(x, tsamp['f'][:,i,:].T,c='k', alpha=.2)\n",
    "    plt.fill_between(x[:,0], \n",
    "                     nsamp['f'][:,i,:].mean(0)-2*nsamp['f'][:,i,:].std(0),\n",
    "                     nsamp['f'][:,i,:].mean(0)+2*nsamp['f'][:,i,:].std(0),alpha=.1)\n",
    "    plt.plot([x.min(), x.max()], [0, 0], lw=3, c='k')\n",
    "    \n",
    "    if i > 1:\n",
    "        plt.ylim(-.48, .48)\n",
    "    \n",
    "    #plt.plot(x[train_ind],f[i,train_ind].T,'--')"
   ]
  },
  {
   "cell_type": "code",
   "execution_count": null,
   "metadata": {},
   "outputs": [],
   "source": [
    "for i in range(2):\n",
    "\n",
    "    temp = nsamp['alpha'][:,i]\n",
    "\n",
    "    z = np.linspace(temp.min()*.7, temp.max()*1.3)\n",
    "    kde = scipy.stats.gaussian_kde(temp)\n",
    "\n",
    "\n",
    "    plt.plot(z, kde(z), label='alpha %d'%i)\n",
    "\n",
    "plt.semilogx()    \n",
    "plt.legend()"
   ]
  },
  {
   "cell_type": "code",
   "execution_count": null,
   "metadata": {},
   "outputs": [],
   "source": [
    "for i in range(2):\n",
    "\n",
    "    temp = nsamp['length_scale'][:,i]\n",
    "\n",
    "    z = np.linspace(temp.min(), temp.max())\n",
    "    kde = scipy.stats.gaussian_kde(temp)\n",
    "\n",
    "\n",
    "    plt.plot(z, kde(z), label='length_scale %d'%i)\n",
    "\n",
    "plt.semilogx()    \n",
    "plt.legend()"
   ]
  },
  {
   "cell_type": "code",
   "execution_count": null,
   "metadata": {},
   "outputs": [],
   "source": [
    "temp = ystd*-2*tsamp['f'][:,1]\n",
    "\n",
    "# plt.plot(x, (2*temp).mean(0),)\n",
    "# plt.fill_between(x[:,0], \n",
    "#                  (2*temp).mean(0)-2*(2*temp).std(0),\n",
    "#                  (2*temp).mean(0)+2*(2*temp).std(0),alpha=.1)\n",
    "\n",
    "plt.plot(xraw, (temp).mean(0), label='$M_2$')\n",
    "plt.fill_between(xraw[:,0], \n",
    "                 (temp).mean(0)-2*(temp).std(0),\n",
    "                 (temp).mean(0)+2*(temp).std(0),alpha=.3)\n",
    "\n",
    "temp = ystd*-2*nsamp['f'][:,1]\n",
    "\n",
    "plt.plot(xraw, temp.mean(0), label='$M_0$')\n",
    "plt.fill_between(xraw[:,0], \n",
    "                 temp.mean(0)-2*temp.std(0),\n",
    "                 temp.mean(0)+2*temp.std(0),alpha=.3)\n",
    "\n",
    "plt.plot([xraw.min(), xraw.max()], [0, 0], lw=3, c='k')\n",
    "\n",
    "plt.legend(fontsize=12)\n",
    "plt.xticks(fontsize=12)\n",
    "plt.yticks(fontsize=12)\n",
    "plt.ylabel('log(OD)', fontsize=16)\n",
    "plt.xlabel('time (h)', fontsize=16)\n",
    "\n",
    "plt.savefig('figures/ura3_0.333mM-PQ_f1_m02-stan.pdf', bbox_inches='tight')"
   ]
  },
  {
   "cell_type": "code",
   "execution_count": null,
   "metadata": {},
   "outputs": [],
   "source": [
    "temp = ystd*tsamp['f'][:,0]\n",
    "\n",
    "# plt.plot(x, (2*temp).mean(0),)\n",
    "# plt.fill_between(x[:,0], \n",
    "#                  (2*temp).mean(0)-2*(2*temp).std(0),\n",
    "#                  (2*temp).mean(0)+2*(2*temp).std(0),alpha=.1)\n",
    "\n",
    "plt.plot(xraw, (temp).mean(0), label='$M_2$')\n",
    "plt.fill_between(xraw[:,0], \n",
    "                 (temp).mean(0)-2*(temp).std(0),\n",
    "                 (temp).mean(0)+2*(temp).std(0),alpha=.3)\n",
    "\n",
    "temp = ystd*nsamp['f'][:,0]\n",
    "\n",
    "plt.plot(xraw, temp.mean(0), label='$M_0$')\n",
    "plt.fill_between(xraw[:,0], \n",
    "                 temp.mean(0)-2*temp.std(0),\n",
    "                 temp.mean(0)+2*temp.std(0),alpha=.3)\n",
    "\n",
    "plt.plot([xraw.min(), xraw.max()], [0, 0], lw=3, c='k')\n",
    "\n",
    "plt.legend(fontsize=12)\n",
    "plt.xticks(fontsize=12)\n",
    "plt.yticks(fontsize=12)\n",
    "plt.ylabel('log(OD)', fontsize=16)\n",
    "plt.xlabel('time (h)', fontsize=16)\n",
    "\n",
    "plt.savefig('figures/ura3_0.333mM-PQ_f0_m02-stan.pdf', bbox_inches='tight')"
   ]
  },
  {
   "cell_type": "code",
   "execution_count": null,
   "metadata": {
    "collapsed": true
   },
   "outputs": [],
   "source": []
  }
 ],
 "metadata": {
  "kernelspec": {
   "display_name": "Python 2",
   "language": "python",
   "name": "python2"
  },
  "language_info": {
   "codemirror_mode": {
    "name": "ipython",
    "version": 2
   },
   "file_extension": ".py",
   "mimetype": "text/x-python",
   "name": "python",
   "nbconvert_exporter": "python",
   "pygments_lexer": "ipython2",
   "version": "2.7.6"
  }
 },
 "nbformat": 4,
 "nbformat_minor": 2
}