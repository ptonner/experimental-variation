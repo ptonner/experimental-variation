{
 "cells": [
  {
   "cell_type": "code",
   "execution_count": null,
   "metadata": {},
   "outputs": [],
   "source": [
    "%pylab"
   ]
  },
  {
   "cell_type": "code",
   "execution_count": null,
   "metadata": {
    "collapsed": true
   },
   "outputs": [],
   "source": [
    "%matplotlib inline"
   ]
  },
  {
   "cell_type": "code",
   "execution_count": null,
   "metadata": {},
   "outputs": [],
   "source": [
    "import pystan, pickle, popmachine, scipy\n",
    "import pandas as pd\n",
    "\n",
    "from pystan_cache.pystan_cache import caching_stan"
   ]
  },
  {
   "cell_type": "code",
   "execution_count": null,
   "metadata": {},
   "outputs": [],
   "source": [
    "gp_multi = caching_stan.stan_model(file='stan-models/gp_multi.stan')\n",
    "gp_multi_marginal = caching_stan.stan_model(file='stan-models/gp_multi_marginal.stan')\n",
    "gp_multi_marginal_gamma = caching_stan.stan_model(file='stan-models/gp_multi_marginal_gamma.stan')"
   ]
  },
  {
   "cell_type": "code",
   "execution_count": null,
   "metadata": {},
   "outputs": [],
   "source": [
    "pystan.__version__"
   ]
  },
  {
   "cell_type": "code",
   "execution_count": null,
   "metadata": {
    "collapsed": true
   },
   "outputs": [],
   "source": [
    "machine = popmachine.Machine('sqlite:///../popmachine_local/.popmachine.db')"
   ]
  },
  {
   "cell_type": "code",
   "execution_count": null,
   "metadata": {
    "collapsed": true
   },
   "outputs": [],
   "source": [
    "ds = machine.search(plates = ['20150517 PQ 3'], Strain='ura3', **{'mM PQ':[0.0], 'M NaCl':[4.2, None]})\n",
    "\n",
    "# plates = [u'20150517 PQ 3', u'20150715 PQ 8', u'20150702 PQ 6',\n",
    "#        u'20150630 PQ 5', u'20150704 PQ 7', u'20150717 PQ 9']\n",
    "# ds = machine.search(plates=plates, Strain='ura3', **{'mM PQ':[0.0, .083], 'M NaCl':[4.2, None]})\n",
    "\n",
    "ds.log()\n",
    "ds.filter()\n",
    "ds.trim(5)\n",
    "ds.poly_scale(2, groupby=['plate', 'mM PQ'])\n",
    "\n",
    "ds.data = ds.data.iloc[::3,:]"
   ]
  },
  {
   "cell_type": "code",
   "execution_count": null,
   "metadata": {},
   "outputs": [],
   "source": [
    "plt.figure(figsize=(4,4))\n",
    "ds.plot(columns=['plate'], colorby=['mM PQ'], colorLabels=False)"
   ]
  },
  {
   "cell_type": "code",
   "execution_count": null,
   "metadata": {
    "collapsed": true,
    "scrolled": false
   },
   "outputs": [],
   "source": [
    "xraw ,y, design, labels = ds.build(['mM PQ', 'plate'],scale=True)"
   ]
  },
  {
   "cell_type": "code",
   "execution_count": null,
   "metadata": {
    "collapsed": true
   },
   "outputs": [],
   "source": [
    "ymean, ystd = y.mean(), y.std()\n",
    "\n",
    "y = (y-y.mean())/y.std()\n",
    "\n",
    "x = (xraw-xraw.mean())/xraw.std()"
   ]
  },
  {
   "cell_type": "code",
   "execution_count": null,
   "metadata": {
    "collapsed": true
   },
   "outputs": [],
   "source": [
    "dm = np.ones((y.shape[1], 1))"
   ]
  },
  {
   "cell_type": "code",
   "execution_count": null,
   "metadata": {
    "scrolled": true
   },
   "outputs": [],
   "source": [
    "p = dm.shape[1]\n",
    "n = x.shape[0]\n",
    "\n",
    "train_data = {\n",
    "    'N': n,\n",
    "    'P':y.shape[1],\n",
    "    'K':dm.shape[1],\n",
    "    'L':1,\n",
    "    'prior':[1],     \n",
    "    'design': dm\n",
    "}\n",
    "\n",
    "train_data['y'] = y.T\n",
    "train_data['x'] = x[:,0]\n",
    "\n",
    "train_data['alpha_prior'] = [[1,1]]\n",
    "\n",
    "# train_data['length_scale_prior'] = [[14, 1.0]]\n",
    "# train_data['length_scale_prior'] = [[2, .5]]\n",
    "train_data['length_scale_prior'] = [[.5, .5]]\n",
    "\n",
    "train_data['marginal_alpha_prior'] = [.5, .1]\n",
    "train_data['marginal_lengthscale_prior'] = [8, 2.0]\n",
    "\n",
    "train_data['sigma_prior'] = [.1,1.5]\n",
    "\n",
    "train_data"
   ]
  },
  {
   "cell_type": "code",
   "execution_count": null,
   "metadata": {
    "collapsed": true
   },
   "outputs": [],
   "source": [
    "tsamples = gp_multi_marginal.sampling(data=train_data, chains=4, iter=2000, control = {'adapt_delta': 0.8})\n",
    "# tsamples = gp_multi_marginal_gamma.sampling(data=train_data, chains=4, iter=2000, control = {'adapt_delta': 0.8})"
   ]
  },
  {
   "cell_type": "code",
   "execution_count": null,
   "metadata": {},
   "outputs": [],
   "source": [
    "tsamples"
   ]
  },
  {
   "cell_type": "code",
   "execution_count": null,
   "metadata": {
    "collapsed": true
   },
   "outputs": [],
   "source": [
    "summary = tsamples.summary()\n",
    "summary = pd.DataFrame(summary['summary'], columns=summary['summary_colnames'], index=summary['summary_rownames'])"
   ]
  },
  {
   "cell_type": "code",
   "execution_count": null,
   "metadata": {},
   "outputs": [],
   "source": [
    "summary.Rhat.describe()"
   ]
  },
  {
   "cell_type": "code",
   "execution_count": null,
   "metadata": {
    "collapsed": true
   },
   "outputs": [],
   "source": [
    "summary.Rhat."
   ]
  },
  {
   "cell_type": "code",
   "execution_count": null,
   "metadata": {},
   "outputs": [],
   "source": [
    "summary.Rhat.values"
   ]
  },
  {
   "cell_type": "code",
   "execution_count": null,
   "metadata": {},
   "outputs": [],
   "source": [
    "plt.hist(summary.Rhat.values[~summary.Rhat.isnull()])"
   ]
  },
  {
   "cell_type": "code",
   "execution_count": null,
   "metadata": {},
   "outputs": [],
   "source": [
    "summary.head()"
   ]
  },
  {
   "cell_type": "code",
   "execution_count": null,
   "metadata": {},
   "outputs": [],
   "source": [
    "plt.figure(figsize=(4,10))\n",
    "tsamples.traceplot(['length_scale', 'alpha', 'sigma','lp__'])\n",
    "plt.tight_layout()"
   ]
  },
  {
   "cell_type": "code",
   "execution_count": null,
   "metadata": {},
   "outputs": [],
   "source": [
    "plt.figure(figsize=(4,10))\n",
    "tsamples.traceplot(['sigma', 'marginal_alpha', 'marginal_lengthscale'])\n",
    "plt.tight_layout()"
   ]
  },
  {
   "cell_type": "code",
   "execution_count": null,
   "metadata": {
    "collapsed": true
   },
   "outputs": [],
   "source": [
    "tsamp = tsamples.extract(permuted=True)"
   ]
  },
  {
   "cell_type": "code",
   "execution_count": null,
   "metadata": {},
   "outputs": [],
   "source": [
    "i = 0\n",
    "plt.plot(xraw, tsamp['f'][:,i,:].mean(0),)\n",
    "plt.fill_between(xraw[:,0], \n",
    "                 tsamp['f'][:,i,:].mean(0)-2*tsamp['f'][:,i,:].std(0),\n",
    "                 tsamp['f'][:,i,:].mean(0)+2*tsamp['f'][:,i,:].std(0),alpha=.3)"
   ]
  },
  {
   "cell_type": "code",
   "execution_count": null,
   "metadata": {},
   "outputs": [],
   "source": [
    "i = 0\n",
    "\n",
    "s = np.where(tsamp['length_scale'] == tsamp['length_scale'].min())\n",
    "plt.plot(xraw, tsamp['f'][s, i, :].reshape(31))\n",
    "\n",
    "s = np.where(tsamp['length_scale'] == tsamp['length_scale'].max())\n",
    "plt.plot(xraw, tsamp['f'][s, i, :].reshape(31))"
   ]
  },
  {
   "cell_type": "code",
   "execution_count": null,
   "metadata": {},
   "outputs": [],
   "source": [
    "tsamp['f'][s, 0, :].reshape(47)"
   ]
  },
  {
   "cell_type": "code",
   "execution_count": null,
   "metadata": {},
   "outputs": [],
   "source": [
    "for p in ['alpha', 'sigma', 'marginal_alpha']:\n",
    "\n",
    "    temp = tsamp[p]\n",
    "\n",
    "    z = np.linspace(temp.min(), temp.max())\n",
    "    kde = scipy.stats.gaussian_kde(temp)\n",
    "\n",
    "    plt.plot(z, kde(z)/kde(z).max(), label=p)\n",
    "    \n",
    "# temp = tsamp['sigma']\n",
    "# z = np.linspace(temp.min(), temp.max())\n",
    "# kde = scipy.stats.gaussian_kde(temp)\n",
    "\n",
    "# plt.plot(z, kde(z)/kde(z).max(), label='sigma')\n",
    "\n",
    "plt.semilogx()    \n",
    "plt.legend()\n",
    "\n",
    "# plt.savefig('figures/ura3_0.083mMPQ-alpha-stan.pdf', bbox_inches='tight')"
   ]
  },
  {
   "cell_type": "code",
   "execution_count": null,
   "metadata": {},
   "outputs": [],
   "source": [
    "temp.shape"
   ]
  },
  {
   "cell_type": "markdown",
   "metadata": {},
   "source": [
    "# null model "
   ]
  },
  {
   "cell_type": "code",
   "execution_count": null,
   "metadata": {
    "collapsed": true
   },
   "outputs": [],
   "source": [
    "nullSamples = gp_multi.sampling(data=train_data, chains=4, iter=2000, control = {'adapt_delta': 0.8})"
   ]
  },
  {
   "cell_type": "code",
   "execution_count": null,
   "metadata": {},
   "outputs": [],
   "source": [
    "nullSamples"
   ]
  },
  {
   "cell_type": "code",
   "execution_count": null,
   "metadata": {},
   "outputs": [],
   "source": [
    "plt.figure(figsize=(10,4))\n",
    "nullSamples.traceplot(['length_scale', 'alpha', 'sigma','lp__'])\n",
    "plt.tight_layout()"
   ]
  },
  {
   "cell_type": "code",
   "execution_count": null,
   "metadata": {
    "collapsed": true
   },
   "outputs": [],
   "source": [
    "nsamp = nullSamples.extract(permuted=True)"
   ]
  },
  {
   "cell_type": "code",
   "execution_count": null,
   "metadata": {},
   "outputs": [],
   "source": [
    "ncol = 2\n",
    "nrow = int(1.*(dm.shape[1]-1)/ncol) + 1\n",
    "\n",
    "plt.figure(figsize=(4*ncol, 4*nrow))\n",
    "\n",
    "for i in range(1):\n",
    "    \n",
    "    plt.subplot(dm.shape[1]/ncol + 1, ncol, i + 1)\n",
    "    \n",
    "    plt.plot(x, nsamp['f'][:,i,:].mean(0),)\n",
    "    #plt.plot(x, tsamp['f'][:,i,:].T,c='k', alpha=.2)\n",
    "    plt.fill_between(x[:,0], \n",
    "                     nsamp['f'][:,i,:].mean(0)-2*nsamp['f'][:,i,:].std(0),\n",
    "                     nsamp['f'][:,i,:].mean(0)+2*nsamp['f'][:,i,:].std(0),alpha=.1)\n",
    "    plt.plot([x.min(), x.max()], [0, 0], lw=3, c='k')\n",
    "    \n",
    "    if i > 1:\n",
    "        plt.ylim(-.48, .48)\n",
    "    \n",
    "    #plt.plot(x[train_ind],f[i,train_ind].T,'--')"
   ]
  },
  {
   "cell_type": "code",
   "execution_count": null,
   "metadata": {},
   "outputs": [],
   "source": [
    "for i in range(2):\n",
    "\n",
    "    temp = nsamp['alpha'][:,i]\n",
    "\n",
    "    z = np.linspace(temp.min()*.7, temp.max()*1.3)\n",
    "    kde = scipy.stats.gaussian_kde(temp)\n",
    "\n",
    "\n",
    "    plt.plot(z, kde(z), label='alpha %d'%i)\n",
    "\n",
    "plt.semilogx()    \n",
    "plt.legend()"
   ]
  },
  {
   "cell_type": "code",
   "execution_count": null,
   "metadata": {},
   "outputs": [],
   "source": [
    "for i in range(2):\n",
    "\n",
    "    temp = nsamp['length_scale'][:,i]\n",
    "\n",
    "    z = np.linspace(temp.min(), temp.max())\n",
    "    kde = scipy.stats.gaussian_kde(temp)\n",
    "\n",
    "\n",
    "    plt.plot(z, kde(z), label='length_scale %d'%i)\n",
    "\n",
    "plt.semilogx()    \n",
    "plt.legend()"
   ]
  },
  {
   "cell_type": "code",
   "execution_count": null,
   "metadata": {},
   "outputs": [],
   "source": [
    "temp = ystd*2*tsamp['f'][:,1]\n",
    "\n",
    "# plt.plot(x, (2*temp).mean(0),)\n",
    "# plt.fill_between(x[:,0], \n",
    "#                  (2*temp).mean(0)-2*(2*temp).std(0),\n",
    "#                  (2*temp).mean(0)+2*(2*temp).std(0),alpha=.1)\n",
    "\n",
    "plt.plot(xraw, (temp).mean(0), label='$M_2$')\n",
    "plt.fill_between(xraw[:,0], \n",
    "                 (temp).mean(0)-2*(temp).std(0),\n",
    "                 (temp).mean(0)+2*(temp).std(0),alpha=.3)\n",
    "\n",
    "temp = ystd*2*nsamp['f'][:,1]\n",
    "\n",
    "plt.plot(xraw, temp.mean(0), label='$M_0$')\n",
    "plt.fill_between(xraw[:,0], \n",
    "                 temp.mean(0)-2*temp.std(0),\n",
    "                 temp.mean(0)+2*temp.std(0),alpha=.3)\n",
    "\n",
    "# plt.plot(xraw, ds.data.loc[:,ds.meta['mM PQ'] != '0.0'].mean(1) - ds.data.loc[:,ds.meta['mM PQ'] == '0.0'].mean(1));\n",
    "\n",
    "plt.plot([xraw.min(), xraw.max()], [0, 0], lw=3, c='k')\n",
    "\n",
    "plt.legend(fontsize=12)\n",
    "plt.xticks(fontsize=12)\n",
    "plt.yticks(fontsize=12)\n",
    "plt.ylabel('log(OD)', fontsize=16)\n",
    "plt.xlabel('time (h)', fontsize=16)\n",
    "\n",
    "plt.plot()\n",
    "\n",
    "plt.savefig('figures/ura3_0.083mM-PQ_f1_m02-stan.pdf', bbox_inches='tight')"
   ]
  },
  {
   "cell_type": "code",
   "execution_count": null,
   "metadata": {},
   "outputs": [],
   "source": [
    "plt.plot(ds.data.loc[:,ds.meta['mM PQ'] != '0.0'].mean(1) - ds.data.loc[:,ds.meta['mM PQ'] == '0.0'].mean(1));"
   ]
  },
  {
   "cell_type": "code",
   "execution_count": null,
   "metadata": {},
   "outputs": [],
   "source": [
    "temp = ystd*tsamp['f'][:,0]\n",
    "\n",
    "# plt.plot(x, (2*temp).mean(0),)\n",
    "# plt.fill_between(x[:,0], \n",
    "#                  (2*temp).mean(0)-2*(2*temp).std(0),\n",
    "#                  (2*temp).mean(0)+2*(2*temp).std(0),alpha=.1)\n",
    "\n",
    "plt.plot(xraw, (temp).mean(0), label='$M_2$')\n",
    "plt.fill_between(xraw[:,0], \n",
    "                 (temp).mean(0)-2*(temp).std(0),\n",
    "                 (temp).mean(0)+2*(temp).std(0),alpha=.3)\n",
    "\n",
    "temp = ystd*nsamp['f'][:,0]\n",
    "\n",
    "plt.plot(xraw, temp.mean(0), label='$M_0$')\n",
    "plt.fill_between(xraw[:,0], \n",
    "                 temp.mean(0)-2*temp.std(0),\n",
    "                 temp.mean(0)+2*temp.std(0),alpha=.3)\n",
    "\n",
    "plt.plot([xraw.min(), xraw.max()], [0, 0], lw=3, c='k')\n",
    "\n",
    "plt.legend(fontsize=12)\n",
    "plt.xticks(fontsize=12)\n",
    "plt.yticks(fontsize=12)\n",
    "plt.ylabel('log(OD)', fontsize=16)\n",
    "plt.xlabel('time (h)', fontsize=16)\n",
    "\n",
    "# plt.savefig('figures/ura3_0.083mM-PQ_f0_m02-stan.pdf', bbox_inches='tight')"
   ]
  }
 ],
 "metadata": {
  "kernelspec": {
   "display_name": "Python 2",
   "language": "python",
   "name": "python2"
  },
  "language_info": {
   "codemirror_mode": {
    "name": "ipython",
    "version": 2
   },
   "file_extension": ".py",
   "mimetype": "text/x-python",
   "name": "python",
   "nbconvert_exporter": "python",
   "pygments_lexer": "ipython2",
   "version": "2.7.6"
  }
 },
 "nbformat": 4,
 "nbformat_minor": 2
}