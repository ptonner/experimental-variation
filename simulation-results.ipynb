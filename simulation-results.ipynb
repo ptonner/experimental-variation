{
 "cells": [
  {
   "cell_type": "code",
   "execution_count": null,
   "metadata": {
    "collapsed": false
   },
   "outputs": [],
   "source": [
    "%pylab"
   ]
  },
  {
   "cell_type": "code",
   "execution_count": null,
   "metadata": {
    "collapsed": true
   },
   "outputs": [],
   "source": [
    "%matplotlib inline"
   ]
  },
  {
   "cell_type": "code",
   "execution_count": null,
   "metadata": {
    "collapsed": true
   },
   "outputs": [],
   "source": [
    "import factory, simulate, scipy, re, os, GPy\n",
    "import pandas as pd"
   ]
  },
  {
   "cell_type": "code",
   "execution_count": null,
   "metadata": {
    "collapsed": false
   },
   "outputs": [],
   "source": [
    "# pattern = 'simulation-([0-9]+)-([0-9]+)-([0-9]+)-([0-9.]+)-([0-9.]+)-([0-9.]+)-([a-zA-Z.0-9]+).csv'\n",
    "pattern = 'simulation-([0-9.]+-)*([a-zA-Z.0-9]+).csv'\n",
    "\n",
    "targets = os.listdir(\"results/\")\n",
    "targets = filter(lambda x: re.match(pattern,x), targets)\n",
    "targets = map(lambda x: re.match(pattern, x).groups()[-1], targets)\n",
    "\n",
    "targets = list(set(targets))\n",
    "targets.sort()\n",
    "targets"
   ]
  },
  {
   "cell_type": "code",
   "execution_count": null,
   "metadata": {
    "collapsed": false
   },
   "outputs": [],
   "source": [
    "pattern = 'simulation-([0-9]+)-([0-9]+)-([0-9]+)-([0-9.]+)-([0-9.]+)-([0-9.]+)-%s.csv'\n",
    "\n",
    "for target in targets:\n",
    "\n",
    "    files = os.listdir(\"results/\")\n",
    "    files = filter(lambda x: re.match(pattern%target,x), files)\n",
    "    \n",
    "    print target, files\n",
    "    print"
   ]
  },
  {
   "cell_type": "code",
   "execution_count": null,
   "metadata": {
    "collapsed": true
   },
   "outputs": [],
   "source": [
    "def findFiles(target, pattern='simulation-([0-9]+)-([0-9]+)-([0-9]+)-([0-9.]+)-([0-9.]+)-([0-9.]+)-%s.csv'):\n",
    "    files = os.listdir(\"results/\")\n",
    "    files = filter(lambda x: re.match(pattern%target,x), files)\n",
    "    return files"
   ]
  },
  {
   "cell_type": "code",
   "execution_count": null,
   "metadata": {
    "collapsed": true
   },
   "outputs": [],
   "source": [
    "def loadResults(target, files=None, pattern='simulation-([0-9]+)-([0-9]+)-([0-9]+)-([0-9.]+)-([0-9.]+)-([0-9.]+)-%s.csv'):\n",
    "    \n",
    "    if files is None:\n",
    "        files = findFiles(target, pattern)\n",
    "    \n",
    "    results = {}\n",
    "    for f in files:\n",
    "        nobs, nbatch, nrep, sigma, batchVariance, repVariance = re.match(pattern%target,f).groups()\n",
    "        results[(nobs, nbatch, nrep, sigma, batchVariance, repVariance)] = pd.read_csv('results/%s'%f, header=[0,1], index_col=None)\n",
    "        \n",
    "    return results"
   ]
  },
  {
   "cell_type": "code",
   "execution_count": null,
   "metadata": {
    "collapsed": true
   },
   "outputs": [],
   "source": [
    "def plotResult(res, target, title=False, prefix=None):\n",
    "    \n",
    "    if type(res) == dict:\n",
    "        for k,v in res.iteritems():\n",
    "            plt.figure(figsize=(10,4))\n",
    "            plotResult(v.values, target)\n",
    "            if title:\n",
    "                plt.suptitle(k,y=1.05)\n",
    "                \n",
    "            if not prefix is None:\n",
    "                plt.savefig(\"%s-%s-%s.pdf\"%(prefix, str(k),target), bbox_inches='tight')\n",
    "        \n",
    "        return\n",
    "\n",
    "    for i in range(4):\n",
    "\n",
    "        plt.subplot(1,4,i+1)\n",
    "        plt.title(\"M%d\"%i)\n",
    "\n",
    "        plt.boxplot(res[:,i*4:(i+1)*4],\n",
    "                       labels=['M%d'%i for i in  range(4)]);\n",
    "\n",
    "        if 'accuracy' in target:\n",
    "            plt.plot([1,4], [.95,.95])\n",
    "\n",
    "        plt.ylim(np.nanmin(res), np.nanmax(res))\n",
    "\n",
    "    plt.tight_layout()"
   ]
  },
  {
   "cell_type": "code",
   "execution_count": null,
   "metadata": {
    "collapsed": true
   },
   "outputs": [],
   "source": [
    "def plotBayesFactor(res, title=False):\n",
    "    \n",
    "    if type(res) == dict:\n",
    "        for k,v in res.iteritems():\n",
    "            plt.figure(figsize=(10,4))\n",
    "            plotBayesFactor(v.values)\n",
    "            if title:\n",
    "                plt.suptitle(k)\n",
    "        \n",
    "        return\n",
    "    \n",
    "    ylim = (np.inf, -np.inf)\n",
    "\n",
    "    for i in range(4):\n",
    "\n",
    "        plt.subplot(1,4,i+1)\n",
    "        plt.title(\"M%d\"%i)\n",
    "        \n",
    "        plt.boxplot(res[:,i*4:(i+1)*4] - res[:,i*4][:,None],\n",
    "                       labels=['M%d'%i for i in  range(4)]);\n",
    "\n",
    "#         plt.boxplot(res[:,i*4:(i+1)*4],\n",
    "#                        labels=['M%d'%i for i in  range(4)]);\n",
    "\n",
    "        if 'accuracy' in target:\n",
    "            plt.plot([1,4], [.95,.95])\n",
    "            \n",
    "        ylim = (min(ylim[0], np.nanmin(res[:,i*4:(i+1)*4] - res[:,i*4][:,None])), max(ylim[1], np.nanmax(res[:,i*4:(i+1)*4] - res[:,i*4][:,None])))\n",
    "\n",
    "    for i in range(4):\n",
    "\n",
    "        plt.subplot(1,4,i+1)\n",
    "        plt.ylim(ylim)\n",
    "\n",
    "    plt.tight_layout()"
   ]
  },
  {
   "cell_type": "code",
   "execution_count": null,
   "metadata": {
    "collapsed": false
   },
   "outputs": [],
   "source": [
    "for t in targets:\n",
    "    res = loadResults(t)\n",
    "    plotResult(res,t,title=True,prefix='figures/simulation')"
   ]
  },
  {
   "cell_type": "code",
   "execution_count": null,
   "metadata": {
    "collapsed": false
   },
   "outputs": [],
   "source": [
    "c = res[res.keys()[0]].columns"
   ]
  },
  {
   "cell_type": "code",
   "execution_count": null,
   "metadata": {
    "collapsed": false
   },
   "outputs": [],
   "source": [
    "c.names = ['source', 'model']\n",
    "c"
   ]
  },
  {
   "cell_type": "code",
   "execution_count": null,
   "metadata": {
    "collapsed": false
   },
   "outputs": [],
   "source": [
    "t = res[res.keys()[0]]\n",
    "t.columns.names = ['source', 'model']\n",
    "t"
   ]
  },
  {
   "cell_type": "code",
   "execution_count": null,
   "metadata": {
    "collapsed": true
   },
   "outputs": [],
   "source": []
  }
 ],
 "metadata": {
  "kernelspec": {
   "display_name": "Python 2",
   "language": "python",
   "name": "python2"
  },
  "language_info": {
   "codemirror_mode": {
    "name": "ipython",
    "version": 2
   },
   "file_extension": ".py",
   "mimetype": "text/x-python",
   "name": "python",
   "nbconvert_exporter": "python",
   "pygments_lexer": "ipython2",
   "version": "2.7.6"
  }
 },
 "nbformat": 4,
 "nbformat_minor": 1
}