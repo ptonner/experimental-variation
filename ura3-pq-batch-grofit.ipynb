{
 "cells": [
  {
   "cell_type": "code",
   "execution_count": null,
   "metadata": {
    "collapsed": true
   },
   "outputs": [],
   "source": [
    "library(grofit)"
   ]
  },
  {
   "cell_type": "code",
   "execution_count": null,
   "metadata": {
    "collapsed": true
   },
   "outputs": [],
   "source": [
    "for (f in c('ura3-0.0mMPQ.csv', 'ura3-0.083mMPQ.csv', 'ura3-0.333mMPQ.csv')){\n",
    "    d = read.csv(f,)\n",
    "    \n",
    "    time = d[,1]\n",
    "    time = replicate(length(d[1,])-1, time)\n",
    "    time = t(time)\n",
    "    \n",
    "    data = t(d[,2:length(d[1,])])\n",
    "    data = as.data.frame(data)\n",
    "    data = cbind(rep(1, length(data[,1])), data)\n",
    "    data = cbind(rep('none', length(data[,1])), data)\n",
    "    data = cbind(rep('none', length(data[,1])), data)\n",
    "    \n",
    "    fit = grofit(time, data, control=grofit.control(suppress.messages = T, interactive = F, model.type = 'logistic'))\n",
    "\n",
    "    mu = fit$gcFit$gcTable[,9]\n",
    "    lambda = fit$gcFit$gcTable[,10]\n",
    "    A = fit$gcFit$gcTable[,11]\n",
    "    \n",
    "    spl = strsplit(f,'')[[1]]\n",
    "    s = paste(spl[1:(length(spl)-4)], collapse='')\n",
    "    s = paste(c(s, '_params.csv'),collapse = '')\n",
    "    \n",
    "    write.csv(fit$gcFit$gcTable[,9:11], s)\n",
    "}"
   ]
  },
  {
   "cell_type": "code",
   "execution_count": null,
   "metadata": {},
   "outputs": [],
   "source": [
    "spl = strsplit(f,'')[[1]]\n",
    "s = paste(spl[1:(length(spl)-4)], collapse='')"
   ]
  },
  {
   "cell_type": "code",
   "execution_count": null,
   "metadata": {},
   "outputs": [],
   "source": [
    "?write.csv"
   ]
  },
  {
   "cell_type": "code",
   "execution_count": null,
   "metadata": {},
   "outputs": [],
   "source": [
    "str(spl)"
   ]
  },
  {
   "cell_type": "code",
   "execution_count": null,
   "metadata": {},
   "outputs": [],
   "source": [
    "d = read.csv('ura3-0.0mMPQ.csv',)\n",
    "class(d)"
   ]
  },
  {
   "cell_type": "code",
   "execution_count": null,
   "metadata": {},
   "outputs": [],
   "source": [
    "time = d[,1]\n",
    "time = replicate(length(d[1,])-1, time)\n",
    "time = t(time)\n",
    "head(time)"
   ]
  },
  {
   "cell_type": "code",
   "execution_count": null,
   "metadata": {},
   "outputs": [],
   "source": [
    "# data = d[,2:length(d[1,])]\n",
    "data = t(d[,2:length(d[1,])])\n",
    "\n",
    "data = as.data.frame(data)\n",
    "\n",
    "data = cbind(rep(1, length(data[,1])), data)\n",
    "data = cbind(rep('none', length(data[,1])), data)\n",
    "data = cbind(rep('none', length(data[,1])), data)\n",
    "\n",
    "head(data)"
   ]
  },
  {
   "cell_type": "code",
   "execution_count": null,
   "metadata": {},
   "outputs": [],
   "source": [
    "as.data.frame(data)[10,10]"
   ]
  },
  {
   "cell_type": "code",
   "execution_count": null,
   "metadata": {},
   "outputs": [],
   "source": [
    "data[10,10]"
   ]
  },
  {
   "cell_type": "code",
   "execution_count": null,
   "metadata": {
    "collapsed": true
   },
   "outputs": [],
   "source": [
    "?grofit"
   ]
  },
  {
   "cell_type": "code",
   "execution_count": null,
   "metadata": {
    "collapsed": true
   },
   "outputs": [],
   "source": [
    "?grofit.control"
   ]
  },
  {
   "cell_type": "code",
   "execution_count": null,
   "metadata": {},
   "outputs": [],
   "source": [
    "fit = grofit(time, data, control=grofit.control(suppress.messages = T, interactive = F, model.type = 'logistic'))"
   ]
  },
  {
   "cell_type": "code",
   "execution_count": null,
   "metadata": {
    "collapsed": true
   },
   "outputs": [],
   "source": [
    "?plot"
   ]
  },
  {
   "cell_type": "code",
   "execution_count": null,
   "metadata": {},
   "outputs": [],
   "source": [
    "seq(1, 10, 2)"
   ]
  },
  {
   "cell_type": "code",
   "execution_count": null,
   "metadata": {
    "scrolled": false
   },
   "outputs": [],
   "source": [
    "i = 100\n",
    "\n",
    "for (i in seq(1, 100, 10) ){\n",
    "    plot(fit$gcFit$gcFittedModels[[i]]$raw.time, fit$gcFit$gcFittedModels[[i]]$raw.data, ylim = c(-.6, 2.6))\n",
    "    lines(fit$gcFit$gcFittedModels[[i]]$fit.time, fit$gcFit$gcFittedModels[[i]]$fit.data)\n",
    "    set.seed\n",
    "}"
   ]
  },
  {
   "cell_type": "code",
   "execution_count": null,
   "metadata": {},
   "outputs": [],
   "source": [
    "dim(fit$gcFit$gcTable)"
   ]
  },
  {
   "cell_type": "code",
   "execution_count": null,
   "metadata": {},
   "outputs": [],
   "source": [
    "mu = fit$gcFit$gcTable[,9]\n",
    "lambda = fit$gcFit$gcTable[,10]\n",
    "A = fit$gcFit$gcTable[,11]"
   ]
  },
  {
   "cell_type": "code",
   "execution_count": null,
   "metadata": {},
   "outputs": [],
   "source": [
    "hist(mu)"
   ]
  },
  {
   "cell_type": "code",
   "execution_count": null,
   "metadata": {},
   "outputs": [],
   "source": [
    "hist(lambda)"
   ]
  },
  {
   "cell_type": "code",
   "execution_count": null,
   "metadata": {},
   "outputs": [],
   "source": [
    "hist(A)"
   ]
  },
  {
   "cell_type": "code",
   "execution_count": null,
   "metadata": {
    "collapsed": true
   },
   "outputs": [],
   "source": []
  }
 ],
 "metadata": {
  "kernelspec": {
   "display_name": "R",
   "language": "R",
   "name": "ir"
  },
  "language_info": {
   "codemirror_mode": "r",
   "file_extension": ".r",
   "mimetype": "text/x-r-source",
   "name": "R",
   "pygments_lexer": "r",
   "version": "3.4.1"
  }
 },
 "nbformat": 4,
 "nbformat_minor": 2
}