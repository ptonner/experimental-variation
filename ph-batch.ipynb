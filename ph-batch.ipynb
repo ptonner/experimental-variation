{
 "cells": [
  {
   "cell_type": "code",
   "execution_count": null,
   "metadata": {
    "collapsed": false
   },
   "outputs": [],
   "source": [
    "%pylab"
   ]
  },
  {
   "cell_type": "code",
   "execution_count": null,
   "metadata": {
    "collapsed": true
   },
   "outputs": [],
   "source": [
    "%matplotlib inline"
   ]
  },
  {
   "cell_type": "code",
   "execution_count": null,
   "metadata": {
    "collapsed": true
   },
   "outputs": [],
   "source": [
    "import popmachine, itertools, patsy, GPy, scipy"
   ]
  },
  {
   "cell_type": "code",
   "execution_count": null,
   "metadata": {
    "collapsed": true
   },
   "outputs": [],
   "source": [
    "machine = popmachine.Machine()"
   ]
  },
  {
   "cell_type": "code",
   "execution_count": null,
   "metadata": {
    "collapsed": false
   },
   "outputs": [],
   "source": [
    "ds = machine.search(genus='pseudomonas',strain='PA01', pH=[7.0,6.5], **{'mM-acid':0})\n",
    "ds.log()\n",
    "ds.trim(3)"
   ]
  },
  {
   "cell_type": "code",
   "execution_count": null,
   "metadata": {
    "collapsed": false
   },
   "outputs": [],
   "source": [
    "plt.plot(ds.data.index, ds.data.values);"
   ]
  },
  {
   "cell_type": "code",
   "execution_count": null,
   "metadata": {
    "collapsed": false
   },
   "outputs": [],
   "source": [
    "melt = ds.melt(norm=True)\n",
    "\n",
    "melt.head()"
   ]
  },
  {
   "cell_type": "code",
   "execution_count": null,
   "metadata": {
    "collapsed": false
   },
   "outputs": [],
   "source": [
    "ygp, xgp = patsy.dmatrices('od ~ scale(time) + scale(pH) +0', melt)\n",
    "\n",
    "# xgp[:,2] = xgp[:,2] - xgp[:,2].min()\n",
    "\n",
    "xgp = np.column_stack((xgp, np.where(patsy.dmatrix('C(plate) + 0', melt)==1)[1]))\n",
    "# xgp = np.column_stack((xgp, np.where(patsy.dmatrix('C(number) + 0', melt)==1)[1]))\n",
    "\n",
    "# xgp = np.column_stack((xgp[:,-2:], np.where(xgp[:,:3]==1)[1][:,None], np.where(xgp[:,3:-2]==1)[1][:,None]))\n",
    "\n",
    "xgp"
   ]
  },
  {
   "cell_type": "code",
   "execution_count": null,
   "metadata": {
    "collapsed": false
   },
   "outputs": [],
   "source": [
    "np.unique(xgp[:,2])"
   ]
  },
  {
   "cell_type": "code",
   "execution_count": null,
   "metadata": {
    "collapsed": false
   },
   "outputs": [],
   "source": [
    "xgp.shape"
   ]
  },
  {
   "cell_type": "code",
   "execution_count": null,
   "metadata": {
    "collapsed": false
   },
   "outputs": [],
   "source": [
    "plt.scatter(xgp[:,0], ygp, c=xgp[:,1], alpha=.4)"
   ]
  },
  {
   "cell_type": "code",
   "execution_count": null,
   "metadata": {
    "collapsed": false
   },
   "outputs": [],
   "source": [
    "# kern = GPy.kern.Hierarchical((GPy.kern.RBF(2, ARD=True), GPy.kern.RBF(2, ARD=True), GPy.kern.RBF(2, ARD=True)))\n",
    "kern = GPy.kern.Hierarchical((GPy.kern.RBF(2, ARD=True, name='main'), GPy.kern.RBF(2, ARD=True, name='batch')))\n",
    "\n",
    "gp = GPy.models.GPRegression(xgp, ygp, kern)\n",
    "gp.randomize()\n",
    "gp"
   ]
  },
  {
   "cell_type": "code",
   "execution_count": null,
   "metadata": {
    "collapsed": false
   },
   "outputs": [],
   "source": [
    "gp.optimize()\n",
    "gp"
   ]
  },
  {
   "cell_type": "code",
   "execution_count": null,
   "metadata": {
    "collapsed": false
   },
   "outputs": [],
   "source": [
    "plt.imshow(kern.K(xgp[:50,:]))"
   ]
  },
  {
   "cell_type": "code",
   "execution_count": null,
   "metadata": {
    "collapsed": false
   },
   "outputs": [],
   "source": [
    "gp_null = GPy.models.GPRegression(xgp, ygp, GPy.kern.RBF(2, ARD=True))\n",
    "gp_null.randomize()\n",
    "gp_null"
   ]
  },
  {
   "cell_type": "code",
   "execution_count": null,
   "metadata": {
    "collapsed": false
   },
   "outputs": [],
   "source": [
    "gp_null.optimize()\n",
    "gp_null"
   ]
  },
  {
   "cell_type": "code",
   "execution_count": null,
   "metadata": {
    "collapsed": true
   },
   "outputs": [],
   "source": [
    "def plotOp(mu, cov, op, xpred):\n",
    "    mu = np.dot(op, mu)[:,0]\n",
    "    cov = np.dot(op, np.dot(cov, op.T))\n",
    "\n",
    "    std = np.sqrt(np.diag(cov))\n",
    "\n",
    "    plt.plot(xpred[:50,0],mu)\n",
    "    plt.fill_between(xpred[:50,0],mu-1.96*std, mu+1.96*std,alpha=.1)"
   ]
  },
  {
   "cell_type": "code",
   "execution_count": null,
   "metadata": {
    "collapsed": false,
    "scrolled": false
   },
   "outputs": [],
   "source": [
    "xpred = np.zeros((100,3))\n",
    "xpred[:,0] = np.tile(np.linspace(xgp[:,0].min(), xgp[:,0].max()), 2)\n",
    "xpred[:50,1] = 1\n",
    "xpred[50:,1] = -1\n",
    "xpred[:,2] = 100\n",
    "\n",
    "op = np.zeros((50,100))\n",
    "op[:,:50] = np.eye(50)\n",
    "op[:,50:] = -np.eye(50)\n",
    "\n",
    "mu, cov1 = gp.predict_noiseless(xpred, full_cov=True, kern=kern.main)\n",
    "\n",
    "plotOp(mu, cov1, op, xpred)\n",
    "\n",
    "mu, cov2 = gp_null.predict_noiseless(xpred, full_cov=True)\n",
    "\n",
    "plotOp(mu, cov2, op, xpred)\n",
    "\n",
    "\n",
    "# mu = np.dot(op, mu)[:,0]\n",
    "# cov = np.dot(op, np.dot(cov, op.T))\n",
    "\n",
    "# std = np.sqrt(np.diag(cov))\n",
    "\n",
    "# plt.plot(xpred[:50,0],mu)\n",
    "# plt.fill_between(xpred[:50,0],mu-1.96*std, mu+1.96*std,alpha=.1)\n",
    "\n",
    "plt.plot([xgp[:,0].min(), xgp[:,0].max()], [0]*2, c='k', lw=2)"
   ]
  },
  {
   "cell_type": "code",
   "execution_count": null,
   "metadata": {
    "collapsed": false
   },
   "outputs": [],
   "source": [
    "plt.plot(np.diag(cov1));\n",
    "plt.plot(np.diag(cov2))"
   ]
  },
  {
   "cell_type": "code",
   "execution_count": null,
   "metadata": {
    "collapsed": false
   },
   "outputs": [],
   "source": [
    "xpred = np.zeros((300,3))\n",
    "xpred[:,0] = np.tile(np.linspace(xgp[:,0].min(), xgp[:,0].max()), 6)\n",
    "xpred[:,1] = 1\n",
    "xpred[:,2] = 100\n",
    "xpred[150:,2] = 101\n",
    "\n",
    "mu, cov = gp.predict(xpred, full_cov=True)\n",
    "\n",
    "s = scipy.stats.multivariate_normal(mu[:,0], cov).rvs(size=1)\n",
    "s = s.reshape((6,50)).T\n",
    "\n",
    "plt.plot(s);"
   ]
  },
  {
   "cell_type": "code",
   "execution_count": null,
   "metadata": {
    "collapsed": false
   },
   "outputs": [],
   "source": [
    "plt.imshow(cov)"
   ]
  },
  {
   "cell_type": "code",
   "execution_count": null,
   "metadata": {
    "collapsed": true
   },
   "outputs": [],
   "source": []
  },
  {
   "cell_type": "code",
   "execution_count": null,
   "metadata": {
    "collapsed": true
   },
   "outputs": [],
   "source": []
  }
 ],
 "metadata": {
  "kernelspec": {
   "display_name": "Python 2",
   "language": "python",
   "name": "python2"
  },
  "language_info": {
   "codemirror_mode": {
    "name": "ipython",
    "version": 2
   },
   "file_extension": ".py",
   "mimetype": "text/x-python",
   "name": "python",
   "nbconvert_exporter": "python",
   "pygments_lexer": "ipython2",
   "version": "2.7.6"
  }
 },
 "nbformat": 4,
 "nbformat_minor": 1
}