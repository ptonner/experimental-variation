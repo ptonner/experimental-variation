{
 "cells": [
  {
   "cell_type": "code",
   "execution_count": null,
   "metadata": {
    "collapsed": true
   },
   "outputs": [],
   "source": [
    "import GPy, changepoint, scipy\n",
    "from GPy.kern import RBF, Hierarchical"
   ]
  },
  {
   "cell_type": "code",
   "execution_count": null,
   "metadata": {
    "collapsed": false
   },
   "outputs": [],
   "source": [
    "%pylab"
   ]
  },
  {
   "cell_type": "code",
   "execution_count": null,
   "metadata": {
    "collapsed": true
   },
   "outputs": [],
   "source": [
    "%matplotlib inline"
   ]
  },
  {
   "cell_type": "code",
   "execution_count": null,
   "metadata": {
    "collapsed": false
   },
   "outputs": [],
   "source": [
    "p = 5\n",
    "\n",
    "cp = [[0,i] for i in range(p)]\n",
    "\n",
    "x = np.zeros((50*p,2))\n",
    "x[:,0] = np.tile(np.linspace(-1,1),p)\n",
    "x[:,1] = np.repeat(range(p),50)"
   ]
  },
  {
   "cell_type": "code",
   "execution_count": null,
   "metadata": {
    "collapsed": false
   },
   "outputs": [],
   "source": [
    "import changepoint_multidim\n",
    "reload(changepoint_multidim)\n",
    "reload(changepoint)\n",
    "\n",
    "kbefore = RBF(1)\n",
    "kafter = RBF(1)\n",
    "\n",
    "k = changepoint_multidim.Changepoint(kbefore, kafter, kc=2, xc=[[0]])\n",
    "\n",
    "# k.K(x)\n",
    "\n",
    "plt.figure(figsize=(10,10))\n",
    "# plt.imshow(k.K(x[:50,:]))\n",
    "# plt.imshow(k.K(x))\n",
    "plt.imshow(k.K(x[:50,:],x[:100,:]))\n",
    "plt.colorbar()\n",
    "\n",
    "mu = np.zeros(x.shape[0])\n",
    "cov = k.K(x)+np.eye(x.shape[0])*.001\n",
    "# mu = np.zeros(50)\n",
    "# cov = k.K(x[:50,:])+np.eye(50)*.001\n",
    "\n",
    "sample = scipy.stats.multivariate_normal.rvs(mu,cov,size=20)\n",
    "\n",
    "# sample = sample.reshape((p,50)).T\n",
    "\n",
    "plt.figure(figsize=(10,6))\n",
    "plt.plot(sample[:,:50].T,alpha=.8);"
   ]
  },
  {
   "cell_type": "code",
   "execution_count": null,
   "metadata": {
    "collapsed": false
   },
   "outputs": [],
   "source": [
    "import changepoint_multidim\n",
    "reload(changepoint_multidim)\n",
    "reload(changepoint)\n",
    "\n",
    "kbefore = Hierarchical([RBF(1), RBF(1)])\n",
    "kafter = Hierarchical([RBF(1), RBF(1)])\n",
    "\n",
    "# kbefore = RBF(2,lengthscale=[1,10],ARD=True)\n",
    "# kafter = RBF(2,lengthscale=[1,10],ARD=True)\n",
    "\n",
    "# k = changepoint_multidim.Changepoint(kbefore, kafter, kc=1, xc=cp)\n",
    "k = changepoint_multidim.Changepoint(kbefore, kafter, kc=2, xc=0)\n",
    "# k = changepoint.Changepoint(kbefore, kafter, kc=.1, xc=[[0]])\n",
    "\n",
    "# k.K(x)\n",
    "\n",
    "plt.figure(figsize=(20,20))\n",
    "# plt.imshow(k.K(x[:50,:]))\n",
    "plt.imshow(k.K(x))\n",
    "# plt.imshow(k.K(x[:50,:],x[:100,:]))\n",
    "# plt.colorbar()"
   ]
  },
  {
   "cell_type": "code",
   "execution_count": null,
   "metadata": {
    "collapsed": false
   },
   "outputs": [],
   "source": [
    "plt.imshow(k.K(x)-kbefore.K(x))"
   ]
  },
  {
   "cell_type": "code",
   "execution_count": null,
   "metadata": {
    "collapsed": false
   },
   "outputs": [],
   "source": [
    "import changepoint_multidim\n",
    "reload(changepoint_multidim)\n",
    "reload(changepoint)\n",
    "\n",
    "kbefore = RBF(1)\n",
    "kafter = RBF(1)\n",
    "\n",
    "# kcp = changepoint_multidim.Changepoint(kbefore, kafter, kc=.05, xc=0)\n",
    "kcp = changepoint.Changepoint(kbefore, kafter, kc=.05, xc=[[0]])\n",
    "kcp2 = kcp.copy()\n",
    "kcp2.k2.variance=4\n",
    "\n",
    "# k = Hierarchical([kcp, RBF(1,variance=.1)])\n",
    "k = Hierarchical([kcp, kcp2])\n",
    "\n",
    "plt.figure(figsize=(10,10))\n",
    "# plt.imshow(k.K(x[:50,:]))\n",
    "plt.imshow(k.K(x))\n",
    "# plt.imshow(k.K(x[:50,:],x[:100,:]))"
   ]
  },
  {
   "cell_type": "code",
   "execution_count": null,
   "metadata": {
    "collapsed": false
   },
   "outputs": [],
   "source": [
    "mu = np.zeros(x.shape[0])\n",
    "cov = k.K(x)+np.eye(x.shape[0])*.001\n",
    "# mu = np.zeros(50)\n",
    "# cov = k.K(x[:50,:])+np.eye(50)*.001\n",
    "\n",
    "sample = scipy.stats.multivariate_normal.rvs(mu,cov,size=5)\n",
    "# sample = scipy.stats.multivariate_normal.rvs(mu,cov)\n",
    "\n",
    "plt.figure(figsize=(10,6))\n",
    "plt.plot(sample[:,:50].T,alpha=.8);\n",
    "# plt.plot(sample.T,alpha=.8);"
   ]
  },
  {
   "cell_type": "code",
   "execution_count": null,
   "metadata": {
    "collapsed": false
   },
   "outputs": [],
   "source": [
    "k.K(x[:50,:],x[:100,:])"
   ]
  },
  {
   "cell_type": "code",
   "execution_count": null,
   "metadata": {
    "collapsed": false
   },
   "outputs": [],
   "source": [
    "k.K(x[:25,:],x[75:100,:])"
   ]
  },
  {
   "cell_type": "code",
   "execution_count": null,
   "metadata": {
    "collapsed": true
   },
   "outputs": [],
   "source": [
    "k.k1.lengthscale[:] = [1,10]\n",
    "k.k2.lengthscale[:] = [1,10]"
   ]
  },
  {
   "cell_type": "code",
   "execution_count": null,
   "metadata": {
    "collapsed": true
   },
   "outputs": [],
   "source": [
    "G11 = np.dot(k.k1.K(x,k.xc),np.linalg.inv(k.k1.K(k.xc)))\n",
    "G22 = np.dot(k.k2.K(x,k.xc),np.linalg.inv(k.k2.K(k.xc)))\n",
    "\n",
    "G11 = k.k1.K(x,k.xc)/k.k1.variance\n",
    "G22 = k.k2.K(x,k.xc)/k.k2.variance"
   ]
  },
  {
   "cell_type": "code",
   "execution_count": null,
   "metadata": {
    "collapsed": false
   },
   "outputs": [],
   "source": [
    "plt.imshow(k.kc*np.dot(G11,G22.T))\n",
    "plt.colorbar()"
   ]
  },
  {
   "cell_type": "code",
   "execution_count": null,
   "metadata": {
    "collapsed": false
   },
   "outputs": [],
   "source": [
    "plt.imshow(G11,aspect='auto')"
   ]
  },
  {
   "cell_type": "code",
   "execution_count": null,
   "metadata": {
    "collapsed": false
   },
   "outputs": [],
   "source": [
    "plt.imshow(k.k1.K(x,k.xc),aspect='auto')"
   ]
  },
  {
   "cell_type": "code",
   "execution_count": null,
   "metadata": {
    "collapsed": false
   },
   "outputs": [],
   "source": [
    "plt.imshow(np.linalg.inv(k.k1.K(k.xc)))\n",
    "plt.colorbar()"
   ]
  },
  {
   "cell_type": "code",
   "execution_count": null,
   "metadata": {
    "collapsed": false
   },
   "outputs": [],
   "source": [
    "plt.imshow(k.k1.K(k.xc))\n",
    "plt.colorbar()"
   ]
  },
  {
   "cell_type": "code",
   "execution_count": null,
   "metadata": {
    "collapsed": false
   },
   "outputs": [],
   "source": [
    "plt.imshow(np.dot(np.linalg.inv(k.k1.K(k.xc)),k.k1.K(k.xc)))\n",
    "plt.colorbar()"
   ]
  },
  {
   "cell_type": "code",
   "execution_count": null,
   "metadata": {
    "collapsed": false
   },
   "outputs": [],
   "source": [
    "chol = GPy.util.linalg.jitchol(k.k1.K(k.xc))\n",
    "cholinv = np.linalg.inv(chol)\n",
    "kinv = np.dot(cholinv.T, cholinv)\n",
    "\n",
    "plt.imshow(kinv)\n",
    "plt.colorbar()"
   ]
  },
  {
   "cell_type": "code",
   "execution_count": null,
   "metadata": {
    "collapsed": true
   },
   "outputs": [],
   "source": []
  }
 ],
 "metadata": {
  "kernelspec": {
   "display_name": "Python 2",
   "language": "python",
   "name": "python2"
  },
  "language_info": {
   "codemirror_mode": {
    "name": "ipython",
    "version": 2
   },
   "file_extension": ".py",
   "mimetype": "text/x-python",
   "name": "python",
   "nbconvert_exporter": "python",
   "pygments_lexer": "ipython2",
   "version": "2.7.6"
  }
 },
 "nbformat": 4,
 "nbformat_minor": 1
}