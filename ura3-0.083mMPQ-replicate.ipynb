{
 "cells": [
  {
   "cell_type": "code",
   "execution_count": null,
   "metadata": {},
   "outputs": [],
   "source": [
    "%pylab"
   ]
  },
  {
   "cell_type": "code",
   "execution_count": null,
   "metadata": {
    "collapsed": true
   },
   "outputs": [],
   "source": [
    "%matplotlib inline"
   ]
  },
  {
   "cell_type": "code",
   "execution_count": null,
   "metadata": {},
   "outputs": [],
   "source": [
    "import pystan, pickle, popmachine, scipy, os\n",
    "import pandas as pd\n",
    "\n",
    "from pystan_cache.pystan_cache import caching_stan"
   ]
  },
  {
   "cell_type": "code",
   "execution_count": null,
   "metadata": {},
   "outputs": [],
   "source": [
    "gp_multi = caching_stan.stan_model(file='stan-models/gp_multi.stan')\n",
    "gp_multi_marginal = caching_stan.stan_model(file='stan-models/gp_multi_marginal.stan')"
   ]
  },
  {
   "cell_type": "code",
   "execution_count": null,
   "metadata": {
    "collapsed": true
   },
   "outputs": [],
   "source": [
    "machine = popmachine.Machine('sqlite:///../popmachine_local/.popmachine.db')\n",
    "\n",
    "plates = [u'20161010_PQ_osmo', u'20150517 PQ 3', u'20161107_PQ_osmo_combo',\n",
    "       u'20150715 PQ 8', u'20150702 PQ 6', u'20150607 PQ 4',\n",
    "       u'20150630 PQ 5', u'20150704 PQ 7', u'20150717 PQ 9']"
   ]
  },
  {
   "cell_type": "code",
   "execution_count": null,
   "metadata": {
    "collapsed": true
   },
   "outputs": [],
   "source": [
    "ds = machine.search(plates=[plates[1]], Strain='ura3', **{'mM PQ':[0.0, .083], 'M NaCl':[4.2, None]})\n",
    "\n",
    "# plates = [u'20150517 PQ 3', u'20150715 PQ 8', u'20150702 PQ 6',\n",
    "#        u'20150630 PQ 5', u'20150704 PQ 7', u'20150717 PQ 9']\n",
    "# ds = machine.search(plates=plates, Strain='ura3', **{'mM PQ':[0.0, .083], 'M NaCl':[4.2, None]})\n",
    "\n",
    "ds.log()\n",
    "ds.filter()\n",
    "ds.trim(5)\n",
    "ds.poly_scale(2, groupby=['plate', 'mM PQ'])\n",
    "\n",
    "ds.data = ds.data.iloc[::3,:]"
   ]
  },
  {
   "cell_type": "code",
   "execution_count": null,
   "metadata": {},
   "outputs": [],
   "source": [
    "plt.figure(figsize=(12,4))\n",
    "ds.plot(columns=['plate'], colorby=['mM PQ'])"
   ]
  },
  {
   "cell_type": "code",
   "execution_count": null,
   "metadata": {
    "collapsed": true,
    "scrolled": false
   },
   "outputs": [],
   "source": [
    "xraw ,y, design, labels = ds.build(['mM PQ', 'plate'],scale=True)"
   ]
  },
  {
   "cell_type": "code",
   "execution_count": null,
   "metadata": {},
   "outputs": [],
   "source": [
    "labels"
   ]
  },
  {
   "cell_type": "code",
   "execution_count": null,
   "metadata": {
    "collapsed": true
   },
   "outputs": [],
   "source": [
    "ymean, ystd = y.mean(), y.std()\n",
    "\n",
    "y = (y-y.mean())/y.std()\n",
    "\n",
    "x = (xraw-xraw.mean())/xraw.std()"
   ]
  },
  {
   "cell_type": "code",
   "execution_count": null,
   "metadata": {},
   "outputs": [],
   "source": [
    "y.shape, x.shape"
   ]
  },
  {
   "cell_type": "code",
   "execution_count": null,
   "metadata": {
    "collapsed": true
   },
   "outputs": [],
   "source": [
    "dm = np.zeros((y.shape[1], 2))\n",
    "dm[:,0] = 1\n",
    "dm[:,1] = design['mM PQ'] != labels[0].index('0.0')"
   ]
  },
  {
   "cell_type": "code",
   "execution_count": null,
   "metadata": {},
   "outputs": [],
   "source": [
    "plt.imshow(dm, aspect='auto')"
   ]
  },
  {
   "cell_type": "code",
   "execution_count": null,
   "metadata": {
    "collapsed": true
   },
   "outputs": [],
   "source": [
    "# random effect\n",
    "\n",
    "p = dm.shape[1]\n",
    "n = x.shape[0]\n",
    "\n",
    "# design = np.zeros((p, 1+p))\n",
    "# design[:,0] = 1\n",
    "# design[:,1:] = np.eye(p)\n",
    "\n",
    "priors = [1, 2]\n",
    "\n",
    "train_data = {\n",
    "    'N': n,\n",
    "    'P':y.shape[1],\n",
    "    'K':dm.shape[1],\n",
    "    'L':2,\n",
    "    'prior':priors,     \n",
    "    'design': dm\n",
    "}\n",
    "\n",
    "train_data['alpha_prior'] = [[1,1], [.1, 1]]\n",
    "train_data['length_scale_prior'] = [[.5,.5], [.5, .5]]\n",
    "train_data['sigma_prior'] = [.1,1.5]\n",
    "\n",
    "train_data['marginal_alpha_prior'] = [.5, .1]\n",
    "train_data['marginal_lengthscale_prior'] = [8, 2.0]\n",
    "\n",
    "train_data['y'] = y.T\n",
    "train_data['x'] = x[:,0]"
   ]
  },
  {
   "cell_type": "code",
   "execution_count": null,
   "metadata": {
    "collapsed": true
   },
   "outputs": [],
   "source": [
    "tsamples = gp_multi_marginal.sampling(data=train_data, chains=4, iter=2000, control = {'adapt_delta': 0.8})"
   ]
  },
  {
   "cell_type": "code",
   "execution_count": null,
   "metadata": {},
   "outputs": [],
   "source": [
    "tsamples"
   ]
  },
  {
   "cell_type": "code",
   "execution_count": null,
   "metadata": {
    "collapsed": true
   },
   "outputs": [],
   "source": [
    "summary = tsamples.summary()\n",
    "summary = pd.DataFrame(summary['summary'], columns=summary['summary_colnames'], index=summary['summary_rownames'])"
   ]
  },
  {
   "cell_type": "code",
   "execution_count": null,
   "metadata": {},
   "outputs": [],
   "source": [
    "summary.head()"
   ]
  },
  {
   "cell_type": "code",
   "execution_count": null,
   "metadata": {
    "collapsed": true
   },
   "outputs": [],
   "source": [
    "neff = []\n",
    "rhat = []\n",
    "for i in range(dm.shape[1]):\n",
    "    neff.append(summary.loc[summary.index.str.match('f\\[%d,[0-9]*\\]'%i), 'n_eff'].values)\n",
    "    rhat.append(summary.loc[summary.index.str.match('f\\[%d,[0-9]*\\]'%i), 'Rhat'].values)"
   ]
  },
  {
   "cell_type": "code",
   "execution_count": null,
   "metadata": {},
   "outputs": [],
   "source": [
    "plt.boxplot(neff);"
   ]
  },
  {
   "cell_type": "code",
   "execution_count": null,
   "metadata": {},
   "outputs": [],
   "source": [
    "plt.boxplot(rhat);"
   ]
  },
  {
   "cell_type": "code",
   "execution_count": null,
   "metadata": {},
   "outputs": [],
   "source": [
    "plt.figure(figsize=(10,4))\n",
    "tsamples.traceplot(['length_scale', 'alpha', 'sigma','lp__'])\n",
    "plt.tight_layout()"
   ]
  },
  {
   "cell_type": "code",
   "execution_count": null,
   "metadata": {},
   "outputs": [],
   "source": [
    "plt.figure(figsize=(20,4))\n",
    "tsamples.traceplot(['marginal_alpha', 'marginal_lengthscale','lp__'])\n",
    "plt.tight_layout()"
   ]
  },
  {
   "cell_type": "code",
   "execution_count": null,
   "metadata": {
    "collapsed": true
   },
   "outputs": [],
   "source": [
    "tsamp = tsamples.extract(permuted=True)"
   ]
  },
  {
   "cell_type": "code",
   "execution_count": null,
   "metadata": {},
   "outputs": [],
   "source": [
    "for i in range(2):\n",
    "\n",
    "    temp = tsamp['alpha'][:,i]\n",
    "\n",
    "    z = np.linspace(temp.min(), temp.max())\n",
    "    kde = scipy.stats.gaussian_kde(temp)\n",
    "\n",
    "    plt.plot(z, kde(z)/kde(z).max(), label='alpha %d'%i)\n",
    "    \n",
    "temp = tsamp['sigma']\n",
    "z = np.linspace(temp.min(), temp.max())\n",
    "kde = scipy.stats.gaussian_kde(temp)\n",
    "\n",
    "plt.plot(z, kde(z)/kde(z).max(), label='sigma')\n",
    "\n",
    "plt.semilogx()    \n",
    "plt.legend()\n",
    "\n",
    "# plt.savefig('figures/ura3_0.083mMPQ-alpha-stan.pdf', bbox_inches='tight')"
   ]
  },
  {
   "cell_type": "code",
   "execution_count": null,
   "metadata": {},
   "outputs": [],
   "source": [
    "for i in range(2):\n",
    "\n",
    "    temp = tsamp['length_scale'][:,i]\n",
    "\n",
    "    z = np.linspace(temp.min(), temp.max())\n",
    "    kde = scipy.stats.gaussian_kde(temp)\n",
    "\n",
    "\n",
    "    plt.plot(z, kde(z), label='length_scale %d'%i)\n",
    "\n",
    "plt.semilogx()    \n",
    "plt.legend()"
   ]
  },
  {
   "cell_type": "code",
   "execution_count": null,
   "metadata": {},
   "outputs": [],
   "source": [
    "ncol = 2\n",
    "nrow = int(1.*(dm.shape[1]-1)/ncol) + 1\n",
    "\n",
    "plt.figure(figsize=(4*ncol, 4*nrow))\n",
    "\n",
    "for i in range(2):\n",
    "    \n",
    "    plt.subplot(dm.shape[1]/ncol + 1, ncol, i + 1)\n",
    "    \n",
    "    plt.plot(x, tsamp['f'][:,i,:].mean(0),)\n",
    "    #plt.plot(x, tsamp['f'][:,i,:].T,c='k', alpha=.2)\n",
    "    plt.fill_between(x[:,0], \n",
    "                     tsamp['f'][:,i,:].mean(0)-2*tsamp['f'][:,i,:].std(0),\n",
    "                     tsamp['f'][:,i,:].mean(0)+2*tsamp['f'][:,i,:].std(0),alpha=.1)\n",
    "    plt.plot([x.min(), x.max()], [0, 0], lw=3, c='k')\n",
    "    \n",
    "    if i > 1:\n",
    "        plt.ylim(-.48, .48)\n",
    "    \n",
    "    #plt.plot(x[train_ind],f[i,train_ind].T,'--')"
   ]
  },
  {
   "cell_type": "code",
   "execution_count": null,
   "metadata": {
    "collapsed": true
   },
   "outputs": [],
   "source": [
    "pickle.dump(tsamp, open('ura3-0.083mMPQ-replicate-samples.pkl', 'wb'))"
   ]
  },
  {
   "cell_type": "code",
   "execution_count": null,
   "metadata": {
    "collapsed": true
   },
   "outputs": [],
   "source": [
    "temp = pickle.load(open('ura3-0.083mMPQ-batch-samples.pkl', 'rb'))"
   ]
  },
  {
   "cell_type": "code",
   "execution_count": null,
   "metadata": {},
   "outputs": [],
   "source": [
    "for plate in plates:\n",
    "    \n",
    "    fname = 'ura3-0.083mMPQ-replicate-%s-samples.pkl'%plate\n",
    "    \n",
    "    if fname in os.listdir('samples'):\n",
    "        print plate, 'already done!'\n",
    "        continue\n",
    "    \n",
    "    ds = machine.search(plates=[plate], Strain='ura3', **{'mM PQ':[0.0, .083], 'M NaCl':[4.2, None]})\n",
    "\n",
    "    ds.log()\n",
    "    ds.filter()\n",
    "    ds.trim(5)\n",
    "    ds.poly_scale(2, groupby=['plate', 'mM PQ'])\n",
    "\n",
    "    ds.data = ds.data.iloc[::3,:]\n",
    "    \n",
    "    xraw ,y, design, labels = ds.build(['mM PQ', 'plate'],scale=True)\n",
    "    \n",
    "    ymean, ystd = y.mean(), y.std()\n",
    "    y = (y-y.mean())/y.std()\n",
    "    x = (xraw-xraw.mean())/xraw.std()\n",
    "    \n",
    "    dm = np.zeros((y.shape[1], 2))\n",
    "    dm[:,0] = 1\n",
    "    dm[:,1] = design['mM PQ'] != labels[0].index('0.0')\n",
    "    \n",
    "    p = dm.shape[1]\n",
    "    n = x.shape[0]\n",
    "\n",
    "    train_data = {\n",
    "        'N': n,\n",
    "        'P':y.shape[1],\n",
    "        'K':dm.shape[1],\n",
    "        'L':2,\n",
    "        'prior':[1,2],     \n",
    "        'design': dm\n",
    "    }\n",
    "\n",
    "    train_data['y'] = y.T\n",
    "    train_data['x'] = x[:,0]\n",
    "\n",
    "    train_data['alpha_prior'] = [[1,1], [.1, 1]]\n",
    "    train_data['length_scale_prior'] = [[.5, .5], [.5,.5]]\n",
    "    train_data['marginal_alpha_prior'] = [.5, .1]\n",
    "    train_data['marginal_lengthscale_prior'] = [8, 2.0]\n",
    "\n",
    "    train_data['sigma_prior'] = [.1,1.5]\n",
    "\n",
    "    tsamples = gp_multi_marginal.sampling(data=train_data, chains=4, iter=2000, control = {'adapt_delta': 0.8})\n",
    "    \n",
    "    summary = tsamples.summary()\n",
    "    summary = pd.DataFrame(summary['summary'], columns=summary['summary_colnames'], index=summary['summary_rownames'])\n",
    "    \n",
    "    tsamp = tsamples.extract(permuted=True)\n",
    "    pickle.dump(tsamp, open('samples/%s'%fname, 'wb'))\n",
    "    \n",
    "    print plate\n",
    "    print summary.Rhat.describe()"
   ]
  },
  {
   "cell_type": "code",
   "execution_count": null,
   "metadata": {},
   "outputs": [],
   "source": [
    "for plate in plates:\n",
    "    \n",
    "    fname = 'ura3-0.083mMPQ-replicate-null-%s-samples.pkl'%plate\n",
    "    \n",
    "    if fname in os.listdir('samples'):\n",
    "        print plate, 'already done!'\n",
    "        continue\n",
    "    \n",
    "    ds = machine.search(plates=[plate], Strain='ura3', **{'mM PQ':[0.0, .083], 'M NaCl':[4.2, None]})\n",
    "\n",
    "    ds.log()\n",
    "    ds.filter()\n",
    "    ds.trim(5)\n",
    "    ds.poly_scale(2, groupby=['plate', 'mM PQ'])\n",
    "\n",
    "    ds.data = ds.data.iloc[::3,:]\n",
    "    \n",
    "    xraw ,y, design, labels = ds.build(['mM PQ', 'plate'],scale=True)\n",
    "    \n",
    "    ymean, ystd = y.mean(), y.std()\n",
    "    y = (y-y.mean())/y.std()\n",
    "    x = (xraw-xraw.mean())/xraw.std()\n",
    "    \n",
    "    dm = np.zeros((y.shape[1], 2))\n",
    "    dm[:,0] = 1\n",
    "    dm[:,1] = design['mM PQ'] != labels[0].index('0.0')\n",
    "    \n",
    "    p = dm.shape[1]\n",
    "    n = x.shape[0]\n",
    "\n",
    "    train_data = {\n",
    "        'N': n,\n",
    "        'P':y.shape[1],\n",
    "        'K':dm.shape[1],\n",
    "        'L':2,\n",
    "        'prior':[1,2],     \n",
    "        'design': dm\n",
    "    }\n",
    "\n",
    "    train_data['y'] = y.T\n",
    "    train_data['x'] = x[:,0]\n",
    "\n",
    "    train_data['alpha_prior'] = [[1,1], [.1, 1]]\n",
    "    train_data['length_scale_prior'] = [[.5, .5], [.5,.5]]\n",
    "    train_data['marginal_alpha_prior'] = [.5, .1]\n",
    "    train_data['marginal_lengthscale_prior'] = [8, 2.0]\n",
    "\n",
    "    train_data['sigma_prior'] = [.1,1.5]\n",
    "\n",
    "    tsamples = gp_multi.sampling(data=train_data, chains=4, iter=2000, control = {'adapt_delta': 0.8})\n",
    "    \n",
    "    summary = tsamples.summary()\n",
    "    summary = pd.DataFrame(summary['summary'], columns=summary['summary_colnames'], index=summary['summary_rownames'])\n",
    "    \n",
    "    tsamp = tsamples.extract(permuted=True)\n",
    "    pickle.dump(tsamp, open('samples/%s'%fname, 'wb'))\n",
    "    \n",
    "    print plate\n",
    "    print summary.Rhat.describe()"
   ]
  },
  {
   "cell_type": "code",
   "execution_count": null,
   "metadata": {},
   "outputs": [],
   "source": [
    "plt.figure(figsize=(8, 4))\n",
    "\n",
    "for p, plate in enumerate(plates):\n",
    "    \n",
    "    ds = machine.search(plates = [plate], Strain='ura3', **{'mM PQ':[0.0], 'M NaCl':[4.2, None]})\n",
    "\n",
    "    ds.log()\n",
    "    ds.filter()\n",
    "    ds.trim(5)\n",
    "    ds.poly_scale(2, groupby=['plate', 'mM PQ'])\n",
    "\n",
    "    ds.data = ds.data.iloc[::3,:]\n",
    "    \n",
    "    xraw ,y, design, labels = ds.build(['mM PQ', 'plate'],scale=True)\n",
    "    ymean, ystd = y.mean(), y.std()\n",
    "    \n",
    "    xraw = xraw[:31,:]\n",
    "    \n",
    "    tsamp = pickle.load(open('samples/ura3-0.083mMPQ-replicate-%s-samples.pkl'%plate, 'rb'))\n",
    "    nsamp = pickle.load(open('samples/ura3-0.083mMPQ-replicate-null-%s-samples.pkl'%plate, 'rb'))\n",
    "\n",
    "    plt.subplot(121)    \n",
    "    temp = nsamp['f'][:,1,:31]\n",
    "    temp = temp*ystd #+ ymean\n",
    "    plt.plot(xraw, temp.mean(0),)\n",
    "    plt.fill_between(xraw[:,0], \n",
    "                     temp.mean(0)-2*temp.std(0),\n",
    "                     temp.mean(0)+2*temp.std(0),alpha=.1)\n",
    "\n",
    "    plt.subplot(122)    \n",
    "    temp = tsamp['f'][:,1,:31]\n",
    "    temp = temp*ystd #+ ymean\n",
    "    plt.plot(xraw, temp.mean(0),)\n",
    "    plt.fill_between(xraw[:,0], \n",
    "                     temp.mean(0)-2*temp.std(0),\n",
    "                     temp.mean(0)+2*temp.std(0),alpha=.1)\n",
    "    \n",
    "\n",
    "plt.subplot(121)\n",
    "plt.xlabel('time (h)', fontsize=16)\n",
    "plt.ylabel('log(OD)', fontsize=16)\n",
    "plt.xticks(fontsize=12)\n",
    "plt.yticks(fontsize=12)\n",
    "plt.plot([xraw.min(), xraw.max()], [0,0], c='k')\n",
    "\n",
    "plt.subplot(122)\n",
    "plt.xlabel('time (h)', fontsize=16)\n",
    "plt.xticks(fontsize=12)\n",
    "plt.yticks(fontsize=12)\n",
    "plt.plot([xraw.min(), xraw.max()], [0,0], c='k')\n",
    "\n",
    "plt.tight_layout()\n",
    "\n",
    "plt.savefig('figures/ura3_0.083mMPQ-replicate-effectFunctions.pdf', bbox_inches='tight')"
   ]
  },
  {
   "cell_type": "code",
   "execution_count": null,
   "metadata": {},
   "outputs": [],
   "source": [
    "plt.figure(figsize=(8, 4))\n",
    "\n",
    "for p, plate in enumerate(plates):\n",
    "    \n",
    "    ds = machine.search(plates = [plate], Strain='ura3', **{'mM PQ':[0.0], 'M NaCl':[4.2, None]})\n",
    "\n",
    "    ds.log()\n",
    "    ds.filter()\n",
    "    ds.trim(5)\n",
    "    ds.poly_scale(2, groupby=['plate', 'mM PQ'])\n",
    "\n",
    "    ds.data = ds.data.iloc[::3,:]\n",
    "    \n",
    "    xraw ,y, design, labels = ds.build(['mM PQ', 'plate'],scale=True)\n",
    "    ymean, ystd = y.mean(), y.std()\n",
    "    \n",
    "    xraw = xraw[:31,:]\n",
    "    \n",
    "    tsamp = pickle.load(open('samples/ura3-0.083mMPQ-replicate-%s-samples.pkl'%plate, 'rb'))\n",
    "    nsamp = pickle.load(open('samples/ura3-0.083mMPQ-replicate-null-%s-samples.pkl'%plate, 'rb'))\n",
    "    \n",
    "    temp = nsamp['f'][:,1,:31]\n",
    "    temp = temp*ystd #+ ymean\n",
    "    \n",
    "    temp2 = tsamp['f'][:,1,:31]\n",
    "    temp2 = temp2*ystd #+ ymean\n",
    "    \n",
    "    plt.boxplot([np.log10(temp2.var(0)/temp.var(0))], positions=[p], showfliers=False)\n",
    "\n",
    "plt.xticks([])\n",
    "plt.plot([-1, len(plates)], [0,0], c='k')   \n",
    "plt.xlim(-1, len(plates))\n",
    "plt.yticks(fontsize=16)\n",
    "\n",
    "plt.savefig('figures/ura3_0.083mMPQ-replicate-effectFunctionInterval.pdf', bbox_inches='tight')"
   ]
  },
  {
   "cell_type": "code",
   "execution_count": null,
   "metadata": {},
   "outputs": [],
   "source": [
    "plt.figure(figsize=(9,9))\n",
    "\n",
    "for p, plate in enumerate(plates):\n",
    "    \n",
    "#     ds = machine.search(plates = [plate], Strain='ura3', **{'mM PQ':[0.0], 'M NaCl':[4.2, None]})\n",
    "\n",
    "#     ds.log()\n",
    "#     ds.filter()\n",
    "#     ds.trim(5)\n",
    "#     ds.poly_scale(2, groupby=['plate', 'mM PQ'])\n",
    "\n",
    "#     ds.data = ds.data.iloc[::3,:]\n",
    "    \n",
    "    xraw ,y, design, labels = ds.build(['mM PQ', 'plate'],scale=True)\n",
    "    ymean, ystd = y.mean(), y.std()\n",
    "    \n",
    "    xraw = xraw[:31,:]\n",
    "    \n",
    "    tsamp = pickle.load(open('samples/ura3-0.083mMPQ-replicate-%s-samples.pkl'%plate, 'rb'))\n",
    "    nsamp = pickle.load(open('samples/ura3-0.083mMPQ-replicate-null-%s-samples.pkl'%plate, 'rb'))\n",
    "    \n",
    "    temp = tsamp['sigma'] + tsamp['marginal_alpha']\n",
    "    temp2 = nsamp['sigma']\n",
    "\n",
    "    plt.subplot(3, 3, p+1)\n",
    "    plt.boxplot([temp2], positions=[0], showfliers=False, vert=False, widths=[.5])\n",
    "    plt.boxplot([tsamp['sigma']], positions=[1], showfliers=False, boxprops={'color':'blue'}, widths=[.5], vert=False)\n",
    "    plt.boxplot([tsamp['marginal_alpha']], positions=[2], showfliers=False, boxprops={'color':'red'}, widths=[.5], vert=False)\n",
    "    plt.boxplot([tsamp['sigma'] + tsamp['marginal_alpha']], positions=[3], showfliers=False, boxprops={'color':'green'}, widths=[.5], vert=False)\n",
    "    plt.ylim(-1, 4)\n",
    "    \n",
    "    if p % 3 == 0:\n",
    "        plt.yticks(range(4), ['']*4)\n",
    "    else:\n",
    "        plt.yticks([])\n",
    "        \n",
    "    plt.xticks(fontsize=12)\n",
    "    \n",
    "plt.tight_layout()\n",
    "plt.savefig('figures/ura3_0.083mMPQ-varianceTotal-replicate.pdf', bbox_inches='tight')"
   ]
  }
 ],
 "metadata": {
  "kernelspec": {
   "display_name": "Python 2",
   "language": "python",
   "name": "python2"
  },
  "language_info": {
   "codemirror_mode": {
    "name": "ipython",
    "version": 2
   },
   "file_extension": ".py",
   "mimetype": "text/x-python",
   "name": "python",
   "nbconvert_exporter": "python",
   "pygments_lexer": "ipython2",
   "version": "2.7.6"
  }
 },
 "nbformat": 4,
 "nbformat_minor": 2
}