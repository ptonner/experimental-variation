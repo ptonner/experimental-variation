{
 "cells": [
  {
   "cell_type": "code",
   "execution_count": null,
   "metadata": {
    "collapsed": true
   },
   "outputs": [],
   "source": [
    "import GPy, scipy\n",
    "from gpmultipy import dataset"
   ]
  },
  {
   "cell_type": "code",
   "execution_count": null,
   "metadata": {
    "collapsed": false
   },
   "outputs": [],
   "source": [
    "%matplotlib inline"
   ]
  },
  {
   "cell_type": "code",
   "execution_count": null,
   "metadata": {
    "collapsed": false
   },
   "outputs": [],
   "source": [
    "%pylab"
   ]
  },
  {
   "cell_type": "code",
   "execution_count": null,
   "metadata": {
    "collapsed": true
   },
   "outputs": [],
   "source": [
    "def wellPosition(number):\n",
    "    number = int(number)\n",
    "    if number > 100:\n",
    "        return wellPosition(number%100)\n",
    "    if number == 0:\n",
    "        return 9,9\n",
    "    return [(number-1) % 10, (number-1)/10]"
   ]
  },
  {
   "cell_type": "code",
   "execution_count": null,
   "metadata": {
    "collapsed": false
   },
   "outputs": [],
   "source": [
    "GPy.kern.ChangePointBasisFuncKernel(1,0.5,variance=.1).K(xgp)"
   ]
  },
  {
   "cell_type": "code",
   "execution_count": null,
   "metadata": {
    "collapsed": false
   },
   "outputs": [],
   "source": [
    "ktemp = GPy.kern.RBF(1) * (GPy.kern.Bias(1) + GPy.kern.ChangePointBasisFuncKernel(1,0.5,variance=.1))\n",
    "plt.imshow(ktemp.K(xgp))"
   ]
  },
  {
   "cell_type": "code",
   "execution_count": null,
   "metadata": {
    "collapsed": false
   },
   "outputs": [],
   "source": [
    "x"
   ]
  },
  {
   "cell_type": "code",
   "execution_count": null,
   "metadata": {
    "collapsed": true
   },
   "outputs": [],
   "source": [
    "GPy.inference.mcmc.HMC()"
   ]
  },
  {
   "cell_type": "code",
   "execution_count": null,
   "metadata": {
    "collapsed": false
   },
   "outputs": [],
   "source": [
    "# plt.plot(x,y,c='k',alpha=.4); plt.plot(x,y.mean(1),c='r',lw=3);\n",
    "# plt.xlabel(\"time (normalized)\",fontsize=25)\n",
    "# plt.ylabel(\"OD (normalized)\",fontsize=25)\n",
    "# plt.xticks(np.arange(.2,1,.2),fontsize=20)\n",
    "# plt.yticks(np.arange(-2,2,.5),fontsize=20)\n",
    "\n",
    "# plt.savefig(\"figures/ura3-pq-replicate/data-singleReplicate.pdf\",bbox_inches='tight',dpi=300)"
   ]
  },
  {
   "cell_type": "code",
   "execution_count": null,
   "metadata": {
    "collapsed": false
   },
   "outputs": [],
   "source": [
    "# plt.figure(figsize=(6,4))\n",
    "\n",
    "# plt.plot(x,y-y.mean(1)[:,None],c='k',alpha=.8)\n",
    "\n",
    "# plt.xlabel(\"time (normalized)\",fontsize=25)\n",
    "# plt.ylabel(\"OD (normalized)\",fontsize=25)\n",
    "# plt.xticks(fontsize=20)\n",
    "# plt.yticks(fontsize=20)"
   ]
  },
  {
   "cell_type": "code",
   "execution_count": null,
   "metadata": {
    "collapsed": false
   },
   "outputs": [],
   "source": [
    "bios = ds.meta.Bio.unique()[1:]\n",
    "\n",
    "\n",
    "# residuals\n",
    "plt.figure(figsize=(5*4,bios.shape[0]/5*4))\n",
    "\n",
    "for ind,b in zip(range(bios.shape[0]),bios):\n",
    "    x,y,effect,labels = ds.build(Strain='ura3',mM_PQ=0.0,scale='range',Bio=b,effects=['Well'])\n",
    "\n",
    "    position = np.array(map(wellPosition,labels[0]))\n",
    "    dist = np.column_stack((position.min(1),(9-position).min(1))).min(1)\n",
    "    select = dist != 0\n",
    "    if not any(select):\n",
    "        continue    \n",
    "    y = y[:,select]\n",
    "\n",
    "    y = (y-ymean)/ystd\n",
    "    \n",
    "    plt.subplot(len(bios)/5+1,5,ind+1)\n",
    "    plt.title(b)\n",
    "    \n",
    "    #plt.plot(x,y-y.mean(1)[:,None],c='k',alpha=.8)\n",
    "    plt.plot(x,y.std(1),c='k',alpha=.8)\n",
    "    plt.ylim(0,.3)\n",
    "\n",
    "    plt.xticks(fontsize=14)\n",
    "    plt.yticks(fontsize=14)\n",
    "    \n",
    "plt.tight_layout()\n",
    "\n",
    "\n",
    "#data\n",
    "plt.figure(figsize=(5*4,bios.shape[0]/5*4))\n",
    "\n",
    "for ind,b in zip(range(bios.shape[0]),bios):\n",
    "    x,y,effect,labels = ds.build(Strain='ura3',mM_PQ=0.0,scale='range',Bio=b,effects=['Well'])\n",
    "\n",
    "    position = np.array(map(wellPosition,labels[0]))\n",
    "    dist = np.column_stack((position.min(1),(9-position).min(1))).min(1)\n",
    "    select = dist != 0\n",
    "    if not any(select):\n",
    "        continue    \n",
    "    y = y[:,select]\n",
    "\n",
    "    y = (y-ymean)/ystd\n",
    "    \n",
    "    plt.subplot(len(bios)/5+1,5,ind+1)\n",
    "    plt.title(b)\n",
    "    \n",
    "    plt.plot(x,y,c='k',alpha=.4); plt.plot(x,y.mean(1),c='r',lw=3);\n",
    "\n",
    "    plt.xticks(fontsize=14)\n",
    "    plt.yticks(fontsize=14)\n",
    "    \n",
    "plt.tight_layout()"
   ]
  },
  {
   "cell_type": "code",
   "execution_count": null,
   "metadata": {
    "collapsed": false
   },
   "outputs": [],
   "source": [
    "ds = dataset.DataSet('data/normalized/ura3-pq-replicate/')\n",
    "x,y,effect,labels = ds.build(Strain='ura3',mM_PQ=0.0,scale='range',Bio='K',effects=['Well'])\n",
    "\n",
    "position = np.array(map(wellPosition,labels[0]))\n",
    "dist = np.column_stack((position.min(1),(9-position).min(1))).min(1)\n",
    "select = dist != 0\n",
    "y = y[:,select]\n",
    "\n",
    "ymean,ystd = y.mean(), y.std()\n",
    "y = (y-y.mean())/y.std()"
   ]
  },
  {
   "cell_type": "code",
   "execution_count": null,
   "metadata": {
    "collapsed": false
   },
   "outputs": [],
   "source": [
    "xgp = np.zeros((x.shape[0]*y.shape[1],2))\n",
    "xgp[:,0] = np.tile(x[:,0],y.shape[1])\n",
    "xgp[:,1] = np.repeat(range(y.shape[1]),x.shape[0])\n",
    "\n",
    "ygp = y.ravel(1)[:,None]"
   ]
  },
  {
   "cell_type": "code",
   "execution_count": null,
   "metadata": {
    "collapsed": false
   },
   "outputs": [],
   "source": [
    "k = GPy.kern.Hierarchical([GPy.kern.RBF(1),GPy.kern.RBF(1)])\n",
    "plt.imshow(k.K(xgp))"
   ]
  },
  {
   "cell_type": "code",
   "execution_count": null,
   "metadata": {
    "collapsed": false,
    "scrolled": true
   },
   "outputs": [],
   "source": [
    "m = GPy.models.GPRegression(xgp,ygp,k)\n",
    "\n",
    "m"
   ]
  },
  {
   "cell_type": "code",
   "execution_count": null,
   "metadata": {
    "collapsed": false,
    "scrolled": true
   },
   "outputs": [],
   "source": [
    "m.optimize()\n",
    "m"
   ]
  },
  {
   "cell_type": "code",
   "execution_count": null,
   "metadata": {
    "collapsed": false
   },
   "outputs": [],
   "source": [
    "xtest = np.zeros((x.shape[0]*y.shape[1],1+y.shape[1]))\n",
    "xtest[:,0] = np.tile(x[:,0],y.shape[1])\n",
    "\n",
    "for i in range(y.shape[1]):\n",
    "    xtest[i*x.shape[0]:(i+1)*x.shape[0],1+i] = 1\n",
    "\n",
    "ktest = GPy.kern.RBF(1) * GPy.kern.RBF(y.shape[1],active_dims=range(1,y.shape[1]+1), lengthscale=1)\n",
    "\n",
    "plt.imshow(ktest.K(xtest),interpolation='none',cmap='Blues')"
   ]
  },
  {
   "cell_type": "code",
   "execution_count": null,
   "metadata": {
    "collapsed": false
   },
   "outputs": [],
   "source": [
    "plt.imshow(k.rbf_1.K(xgp))"
   ]
  },
  {
   "cell_type": "code",
   "execution_count": null,
   "metadata": {
    "collapsed": false
   },
   "outputs": [],
   "source": [
    "m.plot(fixed_inputs=[(1,-1)])"
   ]
  },
  {
   "cell_type": "code",
   "execution_count": null,
   "metadata": {
    "collapsed": false
   },
   "outputs": [],
   "source": [
    "xpred = np.zeros((x.shape[0],2))\n",
    "xpred[:,0] = x[:,0]\n",
    "xpred[:,1] = y.shape[1]\n",
    "\n",
    "mu,cov = m.predict(xpred,full_cov=True)\n",
    "samples = scipy.stats.multivariate_normal.rvs(mu[:,0],cov,size=10)\n",
    "plt.plot(samples.T);"
   ]
  },
  {
   "cell_type": "markdown",
   "metadata": {},
   "source": [
    "## Linear + RBF kernel "
   ]
  },
  {
   "cell_type": "code",
   "execution_count": null,
   "metadata": {
    "collapsed": false
   },
   "outputs": [],
   "source": [
    "k = GPy.kern.Hierarchical([GPy.kern.RBF(1),GPy.kern.RBF(1)*GPy.kern.Linear(1)])\n",
    "plt.imshow(k.K(xgp))"
   ]
  },
  {
   "cell_type": "code",
   "execution_count": null,
   "metadata": {
    "collapsed": false,
    "scrolled": true
   },
   "outputs": [],
   "source": [
    "m = GPy.models.GPRegression(xgp,ygp,k)\n",
    "\n",
    "m"
   ]
  },
  {
   "cell_type": "code",
   "execution_count": null,
   "metadata": {
    "collapsed": false,
    "scrolled": true
   },
   "outputs": [],
   "source": [
    "m.optimize()\n",
    "m"
   ]
  },
  {
   "cell_type": "code",
   "execution_count": null,
   "metadata": {
    "collapsed": false
   },
   "outputs": [],
   "source": [
    "plt.imshow(k.mul.K(xgp))"
   ]
  },
  {
   "cell_type": "code",
   "execution_count": null,
   "metadata": {
    "collapsed": false,
    "scrolled": true
   },
   "outputs": [],
   "source": [
    "xpred = np.zeros((x.shape[0],2))\n",
    "xpred[:,0] = x[:,0]\n",
    "xpred[:,1] = y.shape[1]\n",
    "\n",
    "mu,cov = m.predict(xpred,full_cov=True)\n",
    "samples = scipy.stats.multivariate_normal.rvs(mu[:,0],cov,size=20)\n",
    "plt.plot(samples.T);"
   ]
  },
  {
   "cell_type": "code",
   "execution_count": null,
   "metadata": {
    "collapsed": false
   },
   "outputs": [],
   "source": [
    "plt.figure(figsize=(6,4))\n",
    "\n",
    "plt.plot(x,y.std(1))\n",
    "plt.plot(x,samples.std(0));\n",
    "plt.plot(x,np.sqrt(k.mul.K(xpred).diagonal()));\n",
    "\n",
    "plt.xlabel(\"time (normalized)\",fontsize=25)"
   ]
  },
  {
   "cell_type": "markdown",
   "metadata": {},
   "source": [
    "### More polynomials in linear term "
   ]
  },
  {
   "cell_type": "code",
   "execution_count": null,
   "metadata": {
    "collapsed": false
   },
   "outputs": [],
   "source": [
    "p = 4\n",
    "\n",
    "xgpPoly = np.zeros((x.shape[0]*y.shape[1],p+1))\n",
    "\n",
    "for i in range(p):\n",
    "    xgpPoly[:,i] = np.tile(x[:,0],y.shape[1])**(i+1)\n",
    "    \n",
    "xgpPoly[:,-1] = np.repeat(range(y.shape[1]),x.shape[0])"
   ]
  },
  {
   "cell_type": "code",
   "execution_count": null,
   "metadata": {
    "collapsed": false
   },
   "outputs": [],
   "source": [
    "plt.plot(xgpPoly[:,:-1])"
   ]
  },
  {
   "cell_type": "code",
   "execution_count": null,
   "metadata": {
    "collapsed": false
   },
   "outputs": [],
   "source": [
    "kfunc = GPy.kern.RBF(p,ARD=True)\n",
    "kreplicate = GPy.kern.RBF(1)*(GPy.kern.Linear(p,ARD=True) + GPy.kern.Bias(1))\n",
    "\n",
    "# k = GPy.kern.Hierarchical([GPy.kern.RBF(p,ARD=True),GPy.kern.RBF(1)*GPy.kern.Linear(p,ARD=True)]) \n",
    "k = GPy.kern.Hierarchical([kfunc,kreplicate]) \n",
    "\n",
    "# k.rbf.lengthscale = [0.150116321796, 1e-5, 1e-5]\n",
    "# k.rbf.lengthscale.fix()\n",
    "\n",
    "plt.imshow(k.K(xgpPoly))"
   ]
  },
  {
   "cell_type": "code",
   "execution_count": null,
   "metadata": {
    "collapsed": false,
    "scrolled": true
   },
   "outputs": [],
   "source": [
    "m = GPy.models.GPRegression(xgpPoly,ygp,k)\n",
    "\n",
    "m"
   ]
  },
  {
   "cell_type": "code",
   "execution_count": null,
   "metadata": {
    "collapsed": false,
    "scrolled": true
   },
   "outputs": [],
   "source": [
    "m.optimize()\n",
    "m"
   ]
  },
  {
   "cell_type": "code",
   "execution_count": null,
   "metadata": {
    "collapsed": false
   },
   "outputs": [],
   "source": [
    "k.mul.sum.linear.variances"
   ]
  },
  {
   "cell_type": "code",
   "execution_count": null,
   "metadata": {
    "collapsed": false,
    "scrolled": true
   },
   "outputs": [],
   "source": [
    "xpred = np.zeros((x.shape[0],p+1))\n",
    "\n",
    "for i in range(p):\n",
    "    xpred[:,i] = x[:,0]**(i+1)\n",
    "xpred[:,-1] = y.shape[1]\n",
    "\n",
    "mu,cov = m.predict(xpred,full_cov=True)\n",
    "samples = scipy.stats.multivariate_normal.rvs(mu[:,0],cov,size=10)"
   ]
  },
  {
   "cell_type": "code",
   "execution_count": null,
   "metadata": {
    "collapsed": false
   },
   "outputs": [],
   "source": [
    "plt.figure(figsize=(10,6))\n",
    "plt.subplot(121)\n",
    "plt.plot(y)\n",
    "plt.ylim(-2.2,2.0)\n",
    "\n",
    "plt.subplot(122)\n",
    "plt.plot(samples.T);\n",
    "plt.ylim(-2.2,2.0)"
   ]
  },
  {
   "cell_type": "code",
   "execution_count": null,
   "metadata": {
    "collapsed": false
   },
   "outputs": [],
   "source": [
    "plt.figure(figsize=(6,4))\n",
    "\n",
    "plt.plot(x,y.std(1))\n",
    "# plt.plot(x,samples.std(0));\n",
    "\n",
    "for b in ['F','G','H','I']:\n",
    "    _,ytemp,effect,labels = ds.build(Strain='ura3',mM_PQ=0.0,scale='range',Bio=b,effects=['Well'])\n",
    "    position = np.array(map(wellPosition,labels[0]))\n",
    "    dist = np.column_stack((position.min(1),(9-position).min(1))).min(1)\n",
    "    select = dist != 0\n",
    "    ytemp = ytemp[:,select]\n",
    "\n",
    "    ytemp = (ytemp-ymean)/ystd\n",
    "    plt.plot(x,ytemp.std(1),c='r',alpha=.7)\n",
    "\n",
    "plt.xlabel(\"time (normalized)\",fontsize=25)"
   ]
  },
  {
   "cell_type": "code",
   "execution_count": null,
   "metadata": {
    "collapsed": false
   },
   "outputs": [],
   "source": [
    "plt.figure(figsize=(6,4))\n",
    "\n",
    "plt.plot(x,y.std(1))\n",
    "plt.plot(x,np.sqrt(cov.diagonal()));\n",
    "\n",
    "plt.xlabel(\"time (normalized)\",fontsize=25)"
   ]
  },
  {
   "cell_type": "code",
   "execution_count": null,
   "metadata": {
    "collapsed": false
   },
   "outputs": [],
   "source": [
    "plt.plot(scipy.stats.multivariate_normal.rvs(np.zeros(x.shape[0]), k.mul.K(xpred),size=10).T);\n",
    "# plt.plot(scipy.stats.multivariate_normal.rvs(np.zeros(x.shape[0]), ktemp.K(xpred),size=10).T);"
   ]
  },
  {
   "cell_type": "code",
   "execution_count": null,
   "metadata": {
    "collapsed": true
   },
   "outputs": [],
   "source": []
  },
  {
   "cell_type": "code",
   "execution_count": null,
   "metadata": {
    "collapsed": false
   },
   "outputs": [],
   "source": [
    "keffect = GPy.kern.RBF(1,variance=k.rbf.variance*1e-1,lengthscale=k.rbf.lengthscale[0])\n",
    "\n",
    "nsample = 2\n",
    "xeffect = np.zeros((x.shape[0]*nsample*2,p+1))\n",
    "\n",
    "for i in range(p):\n",
    "    xeffect[:,i] = np.tile(x[:,0],nsample*2)**(i+1)\n",
    "    \n",
    "xeffect[:,-1] = np.repeat(range(nsample*2),x.shape[0])\n",
    "\n",
    "cov = keffect.K(xeffect)\n",
    "# cov[xeffect.shape[0]/2:,:xeffect.shape[0]/2] = -cov[xeffect.shape[0]/2:,:xeffect.shape[0]/2]\n",
    "# cov[:xeffect.shape[0]/2,xeffect.shape[0]/2:] = -cov[:xeffect.shape[0]/2,xeffect.shape[0]/2:]\n",
    "\n",
    "cov += kreplicate.K(xeffect)\n",
    "cov += np.eye(cov.shape[0])*m.likelihood.variance\n",
    "\n",
    "plt.imshow(cov,interpolation='none')"
   ]
  },
  {
   "cell_type": "code",
   "execution_count": null,
   "metadata": {
    "collapsed": false
   },
   "outputs": [],
   "source": [
    "rv = scipy.stats.multivariate_normal(np.zeros(cov.shape[0]),cov)\n",
    "sample = rv.rvs()\n",
    "sample = sample.reshape((nsample*2,x.shape[0])).T\n",
    "\n",
    "plt.plot(sample)"
   ]
  },
  {
   "cell_type": "code",
   "execution_count": null,
   "metadata": {
    "collapsed": false
   },
   "outputs": [],
   "source": [
    "op = np.zeros((x.shape[0], nsample*2*x.shape[0]))\n",
    "\n",
    "for i in range(x.shape[0]):\n",
    "    op[i,i:x.shape[0]*nsample:x.shape[0]] = 1\n",
    "    op[i,i+x.shape[0]*nsample::x.shape[0]] = -1\n",
    "    \n",
    "plt.imshow(op,interpolation='none',aspect='auto')"
   ]
  },
  {
   "cell_type": "code",
   "execution_count": null,
   "metadata": {
    "collapsed": false
   },
   "outputs": [],
   "source": [
    "opCov = np.dot(op,np.dot(cov,op.T))\n",
    "plt.imshow(opCov)"
   ]
  },
  {
   "cell_type": "code",
   "execution_count": null,
   "metadata": {
    "collapsed": false
   },
   "outputs": [],
   "source": [
    "opCov.diagonal()"
   ]
  },
  {
   "cell_type": "code",
   "execution_count": null,
   "metadata": {
    "collapsed": false
   },
   "outputs": [],
   "source": [
    "xpred = np.zeros((x.shape[0]*y.shape[1],p+1))\n",
    "\n",
    "for i in range(p):\n",
    "    xpred[:,i] = np.tile(x[:,0]**(i+1),y.shape[1])\n",
    "xpred[:,-1] = np.repeat(range(y.shape[1],y.shape[1]*2),x.shape[0])\n",
    "\n",
    "mu,cov = m.predict(xpred,full_cov=True)"
   ]
  },
  {
   "cell_type": "code",
   "execution_count": null,
   "metadata": {
    "collapsed": false,
    "scrolled": true
   },
   "outputs": [],
   "source": [
    "for i in range(10):\n",
    "\n",
    "    plt.figure(figsize=(10,3))\n",
    "    plt.subplot(131)\n",
    "    plt.plot(y)\n",
    "    plt.ylim(-2.2,2.0)\n",
    "\n",
    "    plt.subplot(132)\n",
    "    samples = scipy.stats.multivariate_normal.rvs(mu[:,0],cov,size=1)\n",
    "    plt.plot(samples.reshape((y.shape[1],x.shape[0])).T);\n",
    "    plt.ylim(-2.2,2.0)\n",
    "\n",
    "    plt.subplot(133)\n",
    "    plt.plot(x,y.std(1))\n",
    "    plt.plot(x,samples.reshape((y.shape[1],x.shape[0])).T.std(1));"
   ]
  },
  {
   "cell_type": "markdown",
   "metadata": {},
   "source": [
    "### Experimental Design "
   ]
  },
  {
   "cell_type": "code",
   "execution_count": null,
   "metadata": {
    "collapsed": false
   },
   "outputs": [],
   "source": [
    "kfunc.lengthscale"
   ]
  },
  {
   "cell_type": "code",
   "execution_count": null,
   "metadata": {
    "collapsed": false
   },
   "outputs": [],
   "source": [
    "keffect = kfunc.copy()\n",
    "keffect.variance = 1e-1*keffect.variance\n",
    "keffect.lengthscale = np.array([1,100,100,100])\n",
    "effect = scipy.stats.multivariate_normal.rvs(np.zeros(xpred.shape[0]), keffect.K(xpred))\n",
    "plt.plot(effect)"
   ]
  },
  {
   "cell_type": "code",
   "execution_count": null,
   "metadata": {
    "collapsed": true
   },
   "outputs": [],
   "source": []
  },
  {
   "cell_type": "code",
   "execution_count": null,
   "metadata": {
    "collapsed": true
   },
   "outputs": [],
   "source": []
  },
  {
   "cell_type": "code",
   "execution_count": null,
   "metadata": {
    "collapsed": true
   },
   "outputs": [],
   "source": []
  },
  {
   "cell_type": "code",
   "execution_count": null,
   "metadata": {
    "collapsed": true
   },
   "outputs": [],
   "source": []
  },
  {
   "cell_type": "code",
   "execution_count": null,
   "metadata": {
    "collapsed": true
   },
   "outputs": [],
   "source": [
    "from GPy.kern.src.kern import CombinationKernel\n",
    "from GPy.kern.src.independent_outputs import index_to_slices"
   ]
  },
  {
   "cell_type": "code",
   "execution_count": null,
   "metadata": {
    "collapsed": false
   },
   "outputs": [],
   "source": [
    "class Hierarchical(CombinationKernel):\n",
    "    \"\"\"\n",
    "    A kernel which can represent a simple hierarchical model.\n",
    "    See Hensman et al 2013, \"Hierarchical Bayesian modelling of gene expression time\n",
    "    series across irregularly sampled replicates and clusters\"\n",
    "    http://www.biomedcentral.com/1471-2105/14/252\n",
    "    To construct this kernel, you must pass a list of kernels. the first kernel\n",
    "    will be assumed to be the 'base' kernel, and will be computed everywhere.\n",
    "    For every additional kernel, we assume another layer in the hierachy, with\n",
    "    a corresponding column of the input matrix which indexes which function the\n",
    "    data are in at that level.\n",
    "    For more, see the ipython notebook documentation on Hierarchical\n",
    "    covariances.\n",
    "    \"\"\"\n",
    "    def __init__(self, kernels, name='hierarchy'):\n",
    "        #assert all([k.input_dim==kernels[0].input_dim for k in kernels])\n",
    "        assert len(kernels) > 1\n",
    "        self.levels = len(kernels) -1\n",
    "        input_max = max([k.input_dim for k in kernels])\n",
    "        super(Hierarchical, self).__init__(kernels=kernels, extra_dims = range(input_max, input_max + len(kernels)-1), name=name)\n",
    "\n",
    "    def K(self,X ,X2=None):\n",
    "        K = self.parts[0].K(X, X2) # compute 'base' kern everywhere\n",
    "        slices = [index_to_slices(X[:,i]) for i in self.extra_dims]\n",
    "        if X2 is None:\n",
    "            [[[np.add(K[s,s], k.K(X[s], None), K[s, s]) for s in slices_i] for slices_i in slices_k] for k, slices_k in zip(self.parts[1:], slices)]\n",
    "        else:\n",
    "            slices2 = [index_to_slices(X2[:,i]) for i in self.extra_dims]\n",
    "            [[[np.add(K[s,ss], k.K(X[s], X2[ss]), K[s, ss]) for s,ss in zip(slices_i, slices_j)] for slices_i, slices_j in zip(slices_k1, slices_k2)] for k, slices_k1, slices_k2 in zip(self.parts[1:], slices, slices2)]\n",
    "        return K\n",
    "\n",
    "    def Kdiag(self,X):\n",
    "        return np.diag(self.K(X))\n",
    "\n",
    "    def gradients_X(self, dL_dK, X, X2=None):\n",
    "        raise NotImplementedError\n",
    "\n",
    "    def update_gradients_full(self,dL_dK,X,X2=None):\n",
    "        slices = [index_to_slices(X[:,i]) for i in self.extra_dims]\n",
    "        if X2 is None:\n",
    "            self.parts[0].update_gradients_full(dL_dK, X, None)\n",
    "            for k, slices_k in zip(self.parts[1:], slices):\n",
    "                target = np.zeros(k.size)\n",
    "                def collate_grads(dL, X, X2, target):\n",
    "                    k.update_gradients_full(dL,X,X2)\n",
    "                    target += k.gradient\n",
    "                [[collate_grads(dL_dK[s,s], X[s], None, target) for s in slices_i] for slices_i in slices_k]\n",
    "                k.gradient[:] = target\n",
    "        else:\n",
    "            raise NotImplementedError"
   ]
  },
  {
   "cell_type": "code",
   "execution_count": null,
   "metadata": {
    "collapsed": false
   },
   "outputs": [],
   "source": [
    "kfunc.active_dims, p, kreplicate.input_dim"
   ]
  },
  {
   "cell_type": "code",
   "execution_count": null,
   "metadata": {
    "collapsed": false
   },
   "outputs": [],
   "source": [
    "kfuncDesign = GPy.kern.Hierarchical([kfunc.copy(), kfunc.copy()])\n",
    "\n",
    "kfuncDesign.input_dim, kfuncDesign._all_dims_active, kfuncDesign.rbf_1.variance "
   ]
  },
  {
   "cell_type": "code",
   "execution_count": null,
   "metadata": {
    "collapsed": false
   },
   "outputs": [],
   "source": [
    "kreplicate"
   ]
  },
  {
   "cell_type": "code",
   "execution_count": null,
   "metadata": {
    "collapsed": false
   },
   "outputs": [],
   "source": [
    "kDesign = Hierarchical([kfuncDesign, kreplicate.copy()])"
   ]
  },
  {
   "cell_type": "code",
   "execution_count": null,
   "metadata": {
    "collapsed": false
   },
   "outputs": [],
   "source": [
    "kDesign.input_dim"
   ]
  },
  {
   "cell_type": "code",
   "execution_count": null,
   "metadata": {
    "collapsed": false
   },
   "outputs": [],
   "source": [
    "xdesign = np.zeros((2*x.shape[0]*y.shape[1], p + 2))\n",
    "\n",
    "for i in range(p):\n",
    "    xdesign[:,i] = np.tile(x[:,0]**(i+1),2*y.shape[1])\n",
    "xdesign[xdesign.shape[0]/2:,-2] = 1\n",
    "xdesign[:,-1] = np.repeat(range(y.shape[1]*2),x.shape[0])\n",
    "\n",
    "plt.plot(xdesign)"
   ]
  },
  {
   "cell_type": "code",
   "execution_count": null,
   "metadata": {
    "collapsed": false
   },
   "outputs": [],
   "source": [
    "plt.imshow(kDesign.K(xdesign),interpolation='none')"
   ]
  },
  {
   "cell_type": "code",
   "execution_count": null,
   "metadata": {
    "collapsed": true
   },
   "outputs": [],
   "source": [
    "kfuncDesign.rbf_1.variance = .2*kfuncDesign.rbf.variance "
   ]
  },
  {
   "cell_type": "code",
   "execution_count": null,
   "metadata": {
    "collapsed": true
   },
   "outputs": [],
   "source": [
    "samples = scipy.stats.multivariate_normal.rvs(np.zeros(xdesign.shape[0]), kDesign.K(xdesign))"
   ]
  },
  {
   "cell_type": "code",
   "execution_count": null,
   "metadata": {
    "collapsed": true
   },
   "outputs": [],
   "source": [
    "samples = samples.reshape((y.shape[1]*2,x.shape[0])).T"
   ]
  },
  {
   "cell_type": "code",
   "execution_count": null,
   "metadata": {
    "collapsed": false
   },
   "outputs": [],
   "source": [
    "plt.plot(samples);"
   ]
  },
  {
   "cell_type": "code",
   "execution_count": null,
   "metadata": {
    "collapsed": true
   },
   "outputs": [],
   "source": []
  },
  {
   "cell_type": "code",
   "execution_count": null,
   "metadata": {
    "collapsed": true
   },
   "outputs": [],
   "source": []
  },
  {
   "cell_type": "code",
   "execution_count": null,
   "metadata": {
    "collapsed": true
   },
   "outputs": [],
   "source": []
  },
  {
   "cell_type": "code",
   "execution_count": null,
   "metadata": {
    "collapsed": true
   },
   "outputs": [],
   "source": [
    "xother,yother,_,_ = ds.build(Strain='ura3',mM_PQ=0.0,scale='range',Bio='F')\n",
    "yother = (yother-yother.mean())/yother.std()\n"
   ]
  },
  {
   "cell_type": "code",
   "execution_count": null,
   "metadata": {
    "collapsed": false
   },
   "outputs": [],
   "source": [
    "plt.plot(xother,yother);"
   ]
  },
  {
   "cell_type": "code",
   "execution_count": null,
   "metadata": {
    "collapsed": false
   },
   "outputs": [],
   "source": [
    "k"
   ]
  },
  {
   "cell_type": "code",
   "execution_count": null,
   "metadata": {
    "collapsed": false
   },
   "outputs": [],
   "source": [
    "xtest = np.zeros((40,3))\n",
    "xtest[:,0] = np.tile(np.linspace(-1,1,10),4)\n",
    "xtest[:,1] = np.repeat(range(4),10)\n",
    "xtest[20:,2] = 1\n",
    "\n",
    "xtest"
   ]
  },
  {
   "cell_type": "code",
   "execution_count": null,
   "metadata": {
    "collapsed": false
   },
   "outputs": [],
   "source": [
    "# khier = GPy.kern.Hierarchical([GPy.kern.RBF(1),GPy.kern.RBF(1),GPy.kern.RBF(1)])\n",
    "khier = GPy.kern.Hierarchical([GPy.kern.RBF(1),GPy.kern.RBF(1)])\n",
    "# khier._all_dims_active = np.array([0,2])\n",
    "# khier.active_dims = np.array([0,2])\n",
    "# khier.extra_dims = np.array([2])\n",
    "plt.imshow(khier.K(xtest),interpolation='none')"
   ]
  },
  {
   "cell_type": "code",
   "execution_count": null,
   "metadata": {
    "collapsed": false
   },
   "outputs": [],
   "source": [
    "khier2 = GPy.kern.Hierarchical([GPy.kern.RBF(1),GPy.kern.RBF(1)])\n",
    "khier2._all_dims_active = np.array([0,2])\n",
    "\n",
    "plt.imshow(khier2.K(xtest),interpolation='none')"
   ]
  },
  {
   "cell_type": "code",
   "execution_count": null,
   "metadata": {
    "collapsed": false
   },
   "outputs": [],
   "source": [
    "khierall = khier + khier2\n",
    "\n",
    "plt.imshow(khierall.K(xtest),interpolation='none')"
   ]
  },
  {
   "cell_type": "code",
   "execution_count": null,
   "metadata": {
    "collapsed": false
   },
   "outputs": [],
   "source": [
    "plt.plot(scipy.stats.multivariate_normal.rvs(np.zeros(40),khierall.K(xtest)))"
   ]
  },
  {
   "cell_type": "code",
   "execution_count": null,
   "metadata": {
    "collapsed": true
   },
   "outputs": [],
   "source": []
  }
 ],
 "metadata": {
  "kernelspec": {
   "display_name": "Python 2",
   "language": "python",
   "name": "python2"
  },
  "language_info": {
   "codemirror_mode": {
    "name": "ipython",
    "version": 2
   },
   "file_extension": ".py",
   "mimetype": "text/x-python",
   "name": "python",
   "nbconvert_exporter": "python",
   "pygments_lexer": "ipython2",
   "version": "2.7.6"
  }
 },
 "nbformat": 4,
 "nbformat_minor": 1
}