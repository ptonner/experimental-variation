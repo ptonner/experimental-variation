{
 "cells": [
  {
   "cell_type": "code",
   "execution_count": null,
   "metadata": {
    "collapsed": false
   },
   "outputs": [],
   "source": [
    "%pylab"
   ]
  },
  {
   "cell_type": "code",
   "execution_count": null,
   "metadata": {
    "collapsed": true
   },
   "outputs": [],
   "source": [
    "%matplotlib inline"
   ]
  },
  {
   "cell_type": "code",
   "execution_count": null,
   "metadata": {
    "collapsed": true
   },
   "outputs": [],
   "source": [
    "import GPy, scipy"
   ]
  },
  {
   "cell_type": "code",
   "execution_count": null,
   "metadata": {
    "collapsed": true
   },
   "outputs": [],
   "source": [
    "def gompertz(t,m,A,l):\n",
    "    return A * np.exp(-np.exp(m*np.e/A*(l-t) + 1))"
   ]
  },
  {
   "cell_type": "code",
   "execution_count": null,
   "metadata": {
    "collapsed": false
   },
   "outputs": [],
   "source": [
    "# kbase = GPy.kern.RBF(1,name='base')\n",
    "# kbio = GPy.kern.Hierarchical([GPy.kern.RBF(1,name='base'), GPy.kern.RBF(1,name='bio', variance=.1)])\n",
    "# ktech = GPy.kern.Hierarchical([GPy.kern.RBF(1,name='base'), GPy.kern.RBF(1,name='bio', variance=.1), GPy.kern.RBF(1,name='tech', variance=.05)])"
   ]
  },
  {
   "cell_type": "code",
   "execution_count": null,
   "metadata": {
    "collapsed": false
   },
   "outputs": [],
   "source": [
    "nbio = 3\n",
    "ntech = 3\n",
    "ntot = nbio * ntech\n",
    "\n",
    "x = np.zeros((50*ntot,3))\n",
    "x[:,0] = np.tile(np.linspace(-1,1), ntot)\n",
    "x[:,1] = np.repeat(np.arange(nbio), ntech*50)\n",
    "x[:,2] = np.repeat(np.arange(nbio*ntech), 50)"
   ]
  },
  {
   "cell_type": "code",
   "execution_count": null,
   "metadata": {
    "collapsed": false
   },
   "outputs": [],
   "source": [
    "baseVariance, bioVariance, techVariace = 1, .02, .001\n",
    "\n",
    "kbase = GPy.kern.RBF(1,name='base',variance=baseVariance)\n",
    "kbio = GPy.kern.IndependentOutputs(GPy.kern.RBF(1,name='bio', variance=bioVariance), index_dim=-2);\n",
    "ktech = GPy.kern.IndependentOutputs(GPy.kern.RBF(1,name='tech', variance=techVariace))"
   ]
  },
  {
   "cell_type": "code",
   "execution_count": null,
   "metadata": {
    "collapsed": false
   },
   "outputs": [],
   "source": [
    "plt.imshow(kbio.K(x))\n",
    "\n",
    "plt.figure()\n",
    "plt.imshow(ktech.K(x))"
   ]
  },
  {
   "cell_type": "code",
   "execution_count": null,
   "metadata": {
    "collapsed": false
   },
   "outputs": [],
   "source": [
    "sigma = .001\n",
    "# noise = np.eye(50*ntot)*sigma\n",
    "\n",
    "f = gompertz(x[:,0]+1, 2, 1, .4)\n",
    "\n",
    "np.random.seed(1)\n",
    "\n",
    "plt.figure(figsize=(12,4))\n",
    "for i,kern in enumerate([None, kbio, ktech]):\n",
    "\n",
    "    mu = np.zeros(x.shape[0])\n",
    "    \n",
    "    if not kern is None:\n",
    "        cov = kern.K(x)\n",
    "        f += scipy.stats.multivariate_normal.rvs(mu,cov)\n",
    "        \n",
    "    extraVariance = sum([0, bioVariance, techVariace][i+1:])\n",
    "    noise = np.eye(50*ntot)*(sigma+extraVariance)\n",
    "    \n",
    "    s = scipy.stats.multivariate_normal.rvs(f,noise).reshape((ntot,50)).T\n",
    "    \n",
    "    plt.subplot(1,3,i+1)\n",
    "    \n",
    "#     if i > 0:\n",
    "#         for j,z in enumerate(x[::50,i]):\n",
    "#             k = np.unique(x[:,i]).tolist().index(z)\n",
    "#             plt.plot(s[:,j],color='C%d'%k);\n",
    "#     else:\n",
    "#         plt.plot(s,c='k');\n",
    "    for j,z in enumerate(x[::50,1]):\n",
    "            k = np.unique(x[:,1]).tolist().index(z)\n",
    "            plt.plot(s[:,j],color='C%d'%k);\n",
    "            \n",
    "    plt.ylim(-.25,1.3)\n",
    "        \n",
    "plt.savefig(\"figures/simulated-data.pdf\",bbox_inches='tight')"
   ]
  },
  {
   "cell_type": "code",
   "execution_count": null,
   "metadata": {
    "collapsed": true
   },
   "outputs": [],
   "source": []
  },
  {
   "cell_type": "code",
   "execution_count": null,
   "metadata": {
    "collapsed": true
   },
   "outputs": [],
   "source": []
  }
 ],
 "metadata": {
  "kernelspec": {
   "display_name": "Python 2",
   "language": "python",
   "name": "python2"
  },
  "language_info": {
   "codemirror_mode": {
    "name": "ipython",
    "version": 2
   },
   "file_extension": ".py",
   "mimetype": "text/x-python",
   "name": "python",
   "nbconvert_exporter": "python",
   "pygments_lexer": "ipython2",
   "version": "2.7.6"
  }
 },
 "nbformat": 4,
 "nbformat_minor": 1
}