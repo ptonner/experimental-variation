{
 "cells": [
  {
   "cell_type": "code",
   "execution_count": null,
   "metadata": {
    "collapsed": false
   },
   "outputs": [],
   "source": [
    "import gpmultipy, scipy\n",
    "import numpy as np\n",
    "import matplotlib.pyplot as plt"
   ]
  },
  {
   "cell_type": "code",
   "execution_count": null,
   "metadata": {
    "collapsed": true
   },
   "outputs": [],
   "source": [
    "from gpmultipy import dataset\n",
    "from gpmultipy.model import Model\n",
    "from gpmultipy.prior import Prior\n",
    "from gpmultipy.kernel import RBF, White\n",
    "from gpmultipy.freeze import Freezer\n",
    "from gpmultipy.sampler.slice import Slice\n",
    "from gpmultipy.kernel import Product, Linear"
   ]
  },
  {
   "cell_type": "code",
   "execution_count": null,
   "metadata": {
    "collapsed": true
   },
   "outputs": [],
   "source": [
    "%matplotlib inline"
   ]
  },
  {
   "cell_type": "code",
   "execution_count": null,
   "metadata": {
    "collapsed": false
   },
   "outputs": [],
   "source": [
    "ds = dataset.DataSet('data/normalized/ura3-pq-replicate/')\n",
    "x,y,effect,labels = ds.build(Strain='ura3',mM_PQ=0.0,scale='range',Bio='E')\n",
    "y = (y-y.mean())/y.std()\n",
    "\n",
    "dm = np.ones((y.shape[1],1))"
   ]
  },
  {
   "cell_type": "code",
   "execution_count": null,
   "metadata": {
    "collapsed": false
   },
   "outputs": [],
   "source": [
    "plt.plot(x,y,c='k',alpha=.4); plt.plot(x,y.mean(1),c='r',lw=3);\n",
    "plt.xlabel(\"time (normalized)\",fontsize=25)\n",
    "plt.ylabel(\"OD (normalized)\",fontsize=25)\n",
    "plt.xticks(np.arange(.2,1,.2),fontsize=20)\n",
    "plt.yticks(np.arange(-2,2,.5),fontsize=20)\n",
    "\n",
    "plt.savefig(\"figures/ura3-pq-replicate/data-singleReplicate.pdf\",bbox_inches='tight',dpi=300)"
   ]
  },
  {
   "cell_type": "code",
   "execution_count": null,
   "metadata": {
    "collapsed": false
   },
   "outputs": [],
   "source": [
    "plt.figure(figsize=(6,4))\n",
    "\n",
    "plt.plot(x,y-y.mean(1)[:,None],c='k',alpha=.8)\n",
    "\n",
    "plt.xlabel(\"time (normalized)\",fontsize=25)\n",
    "plt.ylabel(\"OD (normalized)\",fontsize=25)\n",
    "plt.xticks(np.arange(.2,1,.2),fontsize=20)\n",
    "plt.yticks(np.arange(-1.5,1.5,.5),fontsize=20)\n",
    "\n",
    "plt.savefig(\"figures/ura3-pq-replicate/residuals-singleReplicate.pdf\",bbox_inches='tight')"
   ]
  },
  {
   "cell_type": "code",
   "execution_count": null,
   "metadata": {
    "collapsed": false
   },
   "outputs": [],
   "source": [
    "plt.figure(figsize=(6,4))\n",
    "\n",
    "resid = y-y.mean(1)[:,None]\n",
    "plt.plot(x,abs(resid),c='k',alpha=.4);\n",
    "plt.plot(x,abs(resid).mean(1),c='r',alpha=1);\n",
    "\n",
    "A = np.ones((x.shape[0],2))\n",
    "A[:,1] = x[:,0]\n",
    "beta,_,_,_ = np.linalg.lstsq(A,abs(resid).mean(1))\n",
    "plt.plot(x,np.dot(A,beta))\n",
    "\n",
    "plt.ylim(-.1,1)\n",
    "\n",
    "plt.xlabel(\"time (normalized)\",fontsize=25)\n",
    "plt.ylabel(\"OD (normalized)\",fontsize=25)\n",
    "plt.xticks(np.arange(.2,1,.2),fontsize=20)\n",
    "plt.yticks(np.arange(0,1,.2),fontsize=20)\n",
    "\n",
    "plt.savefig(\"figures/ura3-pq-replicate/residual-mean-singleReplicate.pdf\",bbox_inches='tight')"
   ]
  },
  {
   "cell_type": "markdown",
   "metadata": {},
   "source": [
    "# No replicate "
   ]
  },
  {
   "cell_type": "code",
   "execution_count": null,
   "metadata": {
    "collapsed": false
   },
   "outputs": [],
   "source": [
    "yKernel = White(1,.1)\n",
    "k1 = RBF(1,1,1)\n",
    "\n",
    "# yKernel = White(1,1)\n",
    "# k1 = RBF(1,1,1)\n",
    "\n",
    "p = y.shape[1]\n",
    "dm = np.ones((1,p))\n",
    "\n",
    "prior = Prior(x,k1,range(dm.shape[0]))\n",
    "\n",
    "model = Model(x,y,dm)"
   ]
  },
  {
   "cell_type": "code",
   "execution_count": null,
   "metadata": {
    "collapsed": false
   },
   "outputs": [],
   "source": [
    "prior.kernel.sigma"
   ]
  },
  {
   "cell_type": "code",
   "execution_count": null,
   "metadata": {
    "collapsed": false
   },
   "outputs": [],
   "source": [
    "k1.K_inv(x)"
   ]
  },
  {
   "cell_type": "code",
   "execution_count": null,
   "metadata": {
    "collapsed": false,
    "scrolled": false
   },
   "outputs": [],
   "source": [
    "mu,cov = prior.functionParameters(model,yKernel)\n",
    "\n",
    "plt.imshow(cov,interpolation='none')"
   ]
  },
  {
   "cell_type": "code",
   "execution_count": null,
   "metadata": {
    "collapsed": false
   },
   "outputs": [],
   "source": [
    "plt.plot(scipy.stats.multivariate_normal.rvs(mu,cov))"
   ]
  },
  {
   "cell_type": "code",
   "execution_count": null,
   "metadata": {
    "collapsed": false
   },
   "outputs": [],
   "source": [
    "cov = k1.K(x,sigma=1e-2) + np.eye(x.shape[0])*1e-4\n",
    "cov_inv = k1.K_inv(x,sigma=1e-2)\n",
    "cov_inv2 = np.linalg.inv(cov)"
   ]
  },
  {
   "cell_type": "code",
   "execution_count": null,
   "metadata": {
    "collapsed": false
   },
   "outputs": [],
   "source": [
    "plt.subplot(121)\n",
    "plt.imshow(np.dot(cov,cov_inv),interpolation='none')\n",
    "\n",
    "plt.subplot(122)\n",
    "plt.imshow(np.dot(cov_inv,cov),interpolation='none')"
   ]
  },
  {
   "cell_type": "code",
   "execution_count": null,
   "metadata": {
    "collapsed": false
   },
   "outputs": [],
   "source": [
    "plt.subplot(121)\n",
    "plt.imshow(np.dot(cov,cov_inv2),interpolation='none')\n",
    "\n",
    "plt.subplot(122)\n",
    "plt.imshow(np.dot(cov_inv2,cov),interpolation='none')"
   ]
  },
  {
   "cell_type": "code",
   "execution_count": null,
   "metadata": {
    "collapsed": false
   },
   "outputs": [],
   "source": [
    "cov = k1.K(x,sigma=1e-2) #+ np.eye(x.shape[0])*1e-4\n",
    "chol = gpmultipy.linalg.jitchol(cov)\n",
    "cov = np.dot(chol,chol.T)\n",
    "\n",
    "cov_inv = k1.K_inv(x,sigma=1e-2)\n",
    "cov_inv2 = np.linalg.inv(cov)"
   ]
  },
  {
   "cell_type": "code",
   "execution_count": null,
   "metadata": {
    "collapsed": false
   },
   "outputs": [],
   "source": [
    "plt.subplot(121)\n",
    "plt.imshow(np.dot(cov,cov_inv),interpolation='none')\n",
    "\n",
    "plt.subplot(122)\n",
    "plt.imshow(np.dot(cov_inv,cov),interpolation='none')"
   ]
  },
  {
   "cell_type": "code",
   "execution_count": null,
   "metadata": {
    "collapsed": false
   },
   "outputs": [],
   "source": [
    "plt.subplot(121)\n",
    "plt.imshow(np.dot(cov,cov_inv2),interpolation='none')\n",
    "\n",
    "plt.subplot(122)\n",
    "plt.imshow(np.dot(cov_inv2,cov),interpolation='none')"
   ]
  },
  {
   "cell_type": "code",
   "execution_count": null,
   "metadata": {
    "collapsed": false
   },
   "outputs": [],
   "source": [
    "y_inv = yKernel.K_inv(x)\n",
    "f_inv = k1.K_inv(x)\n",
    "\n",
    "A = dm.shape[1]*y_inv + f_inv\n",
    "\n",
    "chol_A = gpmultipy.linalg.jitchol(A)\n",
    "chol_A_inv = np.linalg.inv(chol_A)\n",
    "A_inv = np.dot(chol_A_inv.T,chol_A_inv)"
   ]
  },
  {
   "cell_type": "code",
   "execution_count": null,
   "metadata": {
    "collapsed": false
   },
   "outputs": [],
   "source": [
    "plt.subplot(131)\n",
    "plt.imshow(np.dot(A,A_inv),interpolation='none')\n",
    "\n",
    "plt.subplot(132)\n",
    "plt.imshow(np.dot(A_inv,A),interpolation='none')\n",
    "\n",
    "plt.subplot(133)\n",
    "plt.imshow(A_inv,interpolation='none')"
   ]
  },
  {
   "cell_type": "code",
   "execution_count": null,
   "metadata": {
    "collapsed": false,
    "scrolled": true
   },
   "outputs": [],
   "source": [
    "plt.figure(figsize=(10,10))\n",
    "plt.imshow(A_inv,interpolation='none')"
   ]
  },
  {
   "cell_type": "code",
   "execution_count": null,
   "metadata": {
    "collapsed": false
   },
   "outputs": [],
   "source": [
    "z = np.power(10,np.linspace(-1,2,50))\n",
    "\n",
    "# plt.plot(np.log10(z),[kSigmaSlice.loglikelihood(np.log10(a)) for a in z])\n",
    "# plt.plot(np.log(z),[kSigmaSlice.logdensity_fxn(a) for a in z])\n",
    "plt.plot(np.log10(z),[prior.loglikelihood(model.beta,sigma=a) for a in z])\n",
    "plt.plot(np.log10(z),[prior.loglikelihood(model.beta,lengthscale=a) for a in z])\n",
    "# plt.plot(np.log(z),[kSigmaSlice.prior_logdensity_fxn(a) for a in z])"
   ]
  },
  {
   "cell_type": "code",
   "execution_count": null,
   "metadata": {
    "collapsed": false
   },
   "outputs": [],
   "source": [
    "ySigmaSlice = Slice('ySigma',\n",
    "                    lambda x: model.dataLikelihood(yKernel,sigma=x),\n",
    "                    #lambda x: scipy.stats.uniform(1e-6,1e0).logpdf(x),\n",
    "                    #lambda x: scipy.stats.lognorm(1,loc=1e-2,scale=1e-1).logpdf(x),\n",
    "                    lambda x: scipy.stats.lognorm(1,scale=1e-0).logpdf(x),\n",
    "                    #debug_lognorm,\n",
    "                    .2,5,logspace=True)\n",
    "\n",
    "kSigmaSlice = Slice('kSigma',\n",
    "                    lambda x: prior.loglikelihood(model.beta,sigma=x),\n",
    "                    lambda x: scipy.stats.uniform(1e-2,1e2).logpdf(x),\n",
    "                    #debug_unif,\n",
    "                    .2,5,logspace=True)\n",
    "\n",
    "kLengthscaleSlice = Slice('kLengthscale',\n",
    "                    lambda x: prior.loglikelihood(model.beta,lengthscale=x),\n",
    "                    lambda x: scipy.stats.uniform(1e-2,1e2).logpdf(x),\n",
    "                    .2,5,logspace=True)\n",
    "\n",
    "samples = []\n",
    "freeze = Freezer(yKernel=yKernel,k1=k1,model=model)"
   ]
  },
  {
   "cell_type": "code",
   "execution_count": null,
   "metadata": {
    "collapsed": false,
    "scrolled": true
   },
   "outputs": [],
   "source": [
    "thin = 10\n",
    "burnin = 0\n",
    "nsample = 1000\n",
    "\n",
    "for i in range(nsample):\n",
    "    prior.sample(model,yKernel)\n",
    "\n",
    "    k1.sigma = kSigmaSlice.sample(k1.sigma)\n",
    "    yKernel.sigma = ySigmaSlice.sample(yKernel.sigma)\n",
    "    k1.lengthscale = kLengthscaleSlice.sample(k1.lengthscale)\n",
    "\n",
    "    if i % thin == 0 and i > burnin:\n",
    "        print model.dataLikelihood(yKernel),yKernel.sigma, k1.sigma, k1.lengthscale\n",
    "        samples.append(freeze.freeze())"
   ]
  },
  {
   "cell_type": "code",
   "execution_count": null,
   "metadata": {
    "collapsed": false
   },
   "outputs": [],
   "source": [
    "plt.figure(figsize=(10,6))\n",
    "plt.subplot(231)\n",
    "plt.plot(x,y)\n",
    "\n",
    "plt.subplot(232)\n",
    "plt.plot(x,np.array([s['model']['beta'][:,0] for s in samples]).T,c='r',alpha=.5)\n",
    "\n",
    "plt.subplot(234)\n",
    "plt.hist(np.log10([s['yKernel']['sigma'] for s in samples]))\n",
    "\n",
    "plt.subplot(235)\n",
    "plt.hist(np.log10([s['k1']['sigma'] for s in samples]))\n",
    "\n",
    "plt.subplot(236)\n",
    "plt.hist(np.log10([s['k1']['lengthscale'] for s in samples]))"
   ]
  },
  {
   "cell_type": "code",
   "execution_count": null,
   "metadata": {
    "collapsed": false
   },
   "outputs": [],
   "source": [
    "plt.figure(figsize=(6,4))\n",
    "\n",
    "# gpfanova.plot.plotFunctionSamples(m_noReplicate.functionSamples(0).values,x=x[:,0])\n",
    "plt.plot(x[:,0],y,c='k',alpha=.4)\n",
    "\n",
    "plt.xlabel(\"time (normalized)\",fontsize=25)\n",
    "plt.ylabel(\"OD (normalized)\",fontsize=25)\n",
    "plt.xticks(np.arange(.2,1,.2),fontsize=20)\n",
    "plt.yticks(np.arange(-2,2,.5),fontsize=20)\n",
    "\n",
    "plt.savefig(\"figures/ura3-pq-replicate/model-noReplicate-singleReplicate.pdf\",bbox_inches='tight',dpi=300)"
   ]
  },
  {
   "cell_type": "code",
   "execution_count": null,
   "metadata": {
    "collapsed": false
   },
   "outputs": [],
   "source": [
    "plt.figure(figsize=(6,4))\n",
    "\n",
    "cov = m_noReplicate.y_k.K(m_noReplicate.x)\n",
    "ysample = np.dot(m_noReplicate.design_matrix,m_noReplicate.functionSamples(0).values[-1,:][None,:]) +\\\n",
    "            scipy.stats.multivariate_normal.rvs(np.zeros(m_noReplicate.n),cov,size=m_noReplicate.m)\n",
    "\n",
    "fsample = m_noReplicate.functionMatrix()\n",
    "\n",
    "plt.plot(x[:,0],ysample.T,c='k',alpha=.4); \n",
    "plt.plot(x[:,0],y,c='b',alpha=.4); \n",
    "# plt.plot(x[:,0],fsample,c='r',lw=3);\n",
    "\n",
    "plt.xlabel(\"time (normalized)\",fontsize=25)\n",
    "plt.ylabel(\"OD (normalized)\",fontsize=25)\n",
    "plt.xticks(np.arange(.2,1,.2),fontsize=20)\n",
    "plt.yticks(np.arange(-2,2,.5),fontsize=20)\n",
    "\n",
    "plt.savefig(\"figures/ura3-pq-replicate/model-noReplicate-generative-singleReplicate.pdf\",bbox_inches='tight',dpi=300)"
   ]
  },
  {
   "cell_type": "markdown",
   "metadata": {},
   "source": [
    "# With replicate "
   ]
  },
  {
   "cell_type": "code",
   "execution_count": null,
   "metadata": {
    "collapsed": true
   },
   "outputs": [],
   "source": [
    "yKernel = White(1,.1)\n",
    "k1 = RBF(1,1,1)\n",
    "k2 = RBF(1,1,1)\n",
    "\n",
    "p = y.shape[1]\n",
    "dm = np.zeros((1+p,p))\n",
    "dm[0,:] = 1\n",
    "np.fill_diagonal(dm[1:,:],1)\n",
    "\n",
    "prior = Prior(x,k1,[0])\n",
    "prior2 = Prior(x,k2,range(1,dm.shape[0]))\n",
    "\n",
    "model = Model(x,y,dm)"
   ]
  },
  {
   "cell_type": "code",
   "execution_count": null,
   "metadata": {
    "collapsed": false
   },
   "outputs": [],
   "source": [
    "dm"
   ]
  },
  {
   "cell_type": "code",
   "execution_count": null,
   "metadata": {
    "collapsed": false
   },
   "outputs": [],
   "source": [
    "ySigmaSlice = Slice('ySigma',\n",
    "                    lambda x: model.dataLikelihood(yKernel,sigma=x),\n",
    "                    lambda x: scipy.stats.lognorm(1,scale=1e-0).logpdf(x),\n",
    "                    .2,5,logspace=True)\n",
    "\n",
    "kSigmaSlice = Slice('kSigma',\n",
    "                    lambda x: prior.loglikelihood(model.beta,sigma=x),\n",
    "                    lambda x: scipy.stats.uniform(1e-2,1e2).logpdf(x),\n",
    "                    .2,5,logspace=True)\n",
    "\n",
    "kLengthscaleSlice = Slice('kLengthscale',\n",
    "                    lambda x: prior.loglikelihood(model.beta,lengthscale=x),\n",
    "                    lambda x: scipy.stats.uniform(1e-2,1e2).logpdf(x),\n",
    "                    .2,5,logspace=True)\n",
    "\n",
    "k2SigmaSlice = Slice('kSigma',\n",
    "                    lambda x: prior2.loglikelihood(model.beta,sigma=x),\n",
    "                    lambda x: scipy.stats.uniform(1e-2,1e2).logpdf(x),\n",
    "                    .2,5,logspace=True)\n",
    "\n",
    "k2LengthscaleSlice = Slice('kLengthscale',\n",
    "                    lambda x: prior2.loglikelihood(model.beta,lengthscale=x),\n",
    "                    lambda x: scipy.stats.uniform(1e-2,1e2).logpdf(x),\n",
    "                    .2,5,logspace=True)\n",
    "\n",
    "samples = []\n",
    "freeze = Freezer(yKernel=yKernel,k1=k1,k2=k2,model=model)"
   ]
  },
  {
   "cell_type": "code",
   "execution_count": null,
   "metadata": {
    "collapsed": false,
    "scrolled": true
   },
   "outputs": [],
   "source": [
    "thin = 10\n",
    "burnin = 0\n",
    "nsample = 1000\n",
    "\n",
    "for i in range(nsample):\n",
    "    prior.sample(model,yKernel)\n",
    "    prior2.sample(model,yKernel)\n",
    "    \n",
    "    yKernel.sigma = ySigmaSlice.sample(yKernel.sigma)\n",
    "    k1.sigma = kSigmaSlice.sample(k1.sigma)\n",
    "    k1.lengthscale = kLengthscaleSlice.sample(k1.lengthscale)\n",
    "    k2.sigma = k2SigmaSlice.sample(k2.sigma)\n",
    "    k2.lengthscale = k2LengthscaleSlice.sample(k2.lengthscale)\n",
    "\n",
    "    if i % thin == 0 and i > burnin:\n",
    "        print model.dataLikelihood(yKernel),yKernel.sigma, k1.sigma, k1.lengthscale\n",
    "        samples.append(freeze.freeze())"
   ]
  },
  {
   "cell_type": "code",
   "execution_count": null,
   "metadata": {
    "collapsed": false
   },
   "outputs": [],
   "source": [
    "plt.figure(figsize=(10,6))\n",
    "plt.subplot(231)\n",
    "plt.plot(x,y)\n",
    "\n",
    "plt.subplot(232)\n",
    "plt.plot(x,np.array([s['model']['beta'][:,0] for s in samples]).T,c='r',alpha=.5)\n",
    "\n",
    "plt.subplot(233)\n",
    "\n",
    "cmap = plt.get_cmap(\"spectral\")\n",
    "colors = [cmap(1.*i/p) for i in range(p)]\n",
    "for i in range(p):\n",
    "    plt.plot(x,np.array([s['model']['beta'][:,i+1] for s in samples]).T,c=colors[i],alpha=.5)\n",
    "\n",
    "plt.subplot(234)\n",
    "plt.hist(np.log10([s['yKernel']['sigma'] for s in samples]))\n",
    "\n",
    "plt.subplot(235)\n",
    "plt.hist(np.log10([s['k1']['sigma'] for s in samples]))\n",
    "\n",
    "plt.subplot(236)\n",
    "plt.hist(np.log10([s['k1']['lengthscale'] for s in samples]))"
   ]
  },
  {
   "cell_type": "code",
   "execution_count": null,
   "metadata": {
    "collapsed": false
   },
   "outputs": [],
   "source": [
    "plt.figure(figsize=(10,6))\n",
    "\n",
    "ncol = 5\n",
    "\n",
    "cmap = plt.get_cmap(\"spectral\")\n",
    "colors = [cmap(1.*i/p) for i in range(p)]\n",
    "\n",
    "for i in range(p):\n",
    "    plt.subplot(p/ncol,ncol,i+1)\n",
    "    \n",
    "    plt.plot(x,np.array([s['model']['beta'][:,i+1] for s in samples[40:]]).T,c=colors[i],alpha=.5)"
   ]
  },
  {
   "cell_type": "code",
   "execution_count": null,
   "metadata": {
    "collapsed": true
   },
   "outputs": [],
   "source": [
    "import json"
   ]
  },
  {
   "cell_type": "code",
   "execution_count": null,
   "metadata": {
    "collapsed": false
   },
   "outputs": [],
   "source": [
    "samplesCopy = [s for s in samples]\n",
    "for s in samplesCopy:\n",
    "    s['model']['beta'] = s['model']['beta'].tolist()"
   ]
  },
  {
   "cell_type": "code",
   "execution_count": null,
   "metadata": {
    "collapsed": false
   },
   "outputs": [],
   "source": [
    "s = json.dumps(samplesCopy)"
   ]
  },
  {
   "cell_type": "code",
   "execution_count": null,
   "metadata": {
    "collapsed": false
   },
   "outputs": [],
   "source": [
    "ofile = open(\"technical-replicate-m1.json\",'w')\n",
    "ofile.write(s)\n",
    "ofile.close()"
   ]
  },
  {
   "cell_type": "code",
   "execution_count": null,
   "metadata": {
    "collapsed": true
   },
   "outputs": [],
   "source": []
  },
  {
   "cell_type": "markdown",
   "metadata": {},
   "source": [
    "## Linear Kernel "
   ]
  },
  {
   "cell_type": "code",
   "execution_count": null,
   "metadata": {
    "collapsed": true
   },
   "outputs": [],
   "source": [
    "ds = dataset.DataSet('data/normalized/ura3-pq-replicate/')\n",
    "x,y,effect,labels = ds.build(Strain='ura3',mM_PQ=0.0,scale='range',Bio='E')\n",
    "y = (y-y.mean())/y.std()\n",
    "\n",
    "x = x + 1e-3"
   ]
  },
  {
   "cell_type": "code",
   "execution_count": null,
   "metadata": {
    "collapsed": false
   },
   "outputs": [],
   "source": [
    "yKernel = White(1,.1)\n",
    "k1 = RBF(1,1,1)\n",
    "k2 = Product(Linear(1,1,1),RBF(1,1,1))\n",
    "\n",
    "p = y.shape[1]\n",
    "dm = np.zeros((1+p,p))\n",
    "dm[0,:] = 1\n",
    "# dm[1:,1:] = 1\n",
    "np.fill_diagonal(dm[1:,:],1)\n",
    "\n",
    "prior = Prior(x,k1,[0])\n",
    "prior2 = Prior(x,k2,range(1,dm.shape[0]))"
   ]
  },
  {
   "cell_type": "code",
   "execution_count": null,
   "metadata": {
    "collapsed": false
   },
   "outputs": [],
   "source": [
    "dm"
   ]
  },
  {
   "cell_type": "code",
   "execution_count": null,
   "metadata": {
    "collapsed": false
   },
   "outputs": [],
   "source": [
    "k2 = Product(Linear(1,1,1),RBF(1,1,1))\n",
    "cov = k2.K(x)\n",
    "\n",
    "plt.subplot(121)\n",
    "plt.imshow(cov,interpolation='none')\n",
    "plt.colorbar()\n",
    "\n",
    "plt.subplot(122)\n",
    "plt.plot(scipy.stats.multivariate_normal.rvs(prior2.mu,cov,size=10).T);"
   ]
  },
  {
   "cell_type": "code",
   "execution_count": null,
   "metadata": {
    "collapsed": true
   },
   "outputs": [],
   "source": [
    "ds = dataset.DataSet('data/normalized/ura3-pq-replicate/')\n",
    "x,y,effect,labels = ds.build(Strain='ura3',mM_PQ=0.0,scale='range',Bio='E')\n",
    "y = (y-y.mean())/y.std()\n",
    "\n",
    "x = x + 1e-3"
   ]
  },
  {
   "cell_type": "code",
   "execution_count": null,
   "metadata": {
    "collapsed": false
   },
   "outputs": [],
   "source": [
    "yKernel = White(1,.1)\n",
    "k1 = RBF(1,1,1)\n",
    "k2 = Product(Linear(1,1,1),RBF(1,1,1))\n",
    "\n",
    "p = y.shape[1]\n",
    "dm = np.zeros((1+p,p))\n",
    "dm[0,:] = 1\n",
    "# dm[1:,1:] = 1\n",
    "np.fill_diagonal(dm[1:,:],1)\n",
    "\n",
    "prior = Prior(x,k1,[0])\n",
    "prior2 = Prior(x,k2,range(1,dm.shape[0]))"
   ]
  },
  {
   "cell_type": "code",
   "execution_count": null,
   "metadata": {
    "collapsed": true
   },
   "outputs": [],
   "source": [
    "model = Model(x,y,dm)"
   ]
  },
  {
   "cell_type": "code",
   "execution_count": null,
   "metadata": {
    "collapsed": false
   },
   "outputs": [],
   "source": [
    "ySigmaSlice = Slice('ySigma',\n",
    "                    lambda x: model.dataLikelihood(yKernel,sigma=x),\n",
    "                    lambda x: scipy.stats.lognorm(1,scale=1e-0).logpdf(x),\n",
    "                    .2,5,logspace=True)\n",
    "\n",
    "kSigmaSlice = Slice('kSigma',\n",
    "                    lambda x: prior.loglikelihood(model.beta,sigma=x),\n",
    "                    lambda x: scipy.stats.uniform(1e-2,1e2).logpdf(x),\n",
    "                    .2,5,logspace=True)\n",
    "\n",
    "kLengthscaleSlice = Slice('kLengthscale',\n",
    "                    lambda x: prior.loglikelihood(model.beta,lengthscale=x),\n",
    "                    lambda x: scipy.stats.uniform(1e-2,1e2).logpdf(x),\n",
    "                    .2,5,logspace=True)\n",
    "\n",
    "k2SigmaSlice = Slice('kSigma',\n",
    "                    lambda x: prior2.loglikelihood(model.beta,k1_sigma=x),\n",
    "                    lambda x: scipy.stats.uniform(1e-2,1e2).logpdf(x),\n",
    "                    .2,5,logspace=True)\n",
    "\n",
    "k2LengthscaleSlice = Slice('kLengthscale',\n",
    "                    lambda x: prior2.loglikelihood(model.beta,k1_lengthscale=x),\n",
    "                    lambda x: scipy.stats.uniform(1e-2,1e2).logpdf(x),\n",
    "                    .2,5,logspace=True)\n",
    "\n",
    "k2Sigma2Slice = Slice('kSigma',\n",
    "                    lambda x: prior2.loglikelihood(model.beta,k2_sigma=x),\n",
    "                    lambda x: scipy.stats.uniform(1e-2,1e2).logpdf(x),\n",
    "                    .2,5,logspace=True)\n",
    "\n",
    "k2Lengthscale2Slice = Slice('kLengthscale',\n",
    "                    lambda x: prior2.loglikelihood(model.beta,k2_lengthscale=x),\n",
    "                    lambda x: scipy.stats.uniform(1e-2,1e2).logpdf(x),\n",
    "                    .2,5,logspace=True)\n",
    "\n",
    "samples = []\n",
    "freeze = Freezer(yKernel=yKernel,k1=k1,k2=k2,model=model)"
   ]
  },
  {
   "cell_type": "code",
   "execution_count": null,
   "metadata": {
    "collapsed": false,
    "scrolled": true
   },
   "outputs": [],
   "source": [
    "thin = 10\n",
    "burnin = 0\n",
    "nsample = 100\n",
    "\n",
    "for i in range(nsample):\n",
    "    prior.sample(model,yKernel)\n",
    "    prior2.sample(model,yKernel)\n",
    "    \n",
    "    yKernel.sigma = ySigmaSlice.sample(yKernel.sigma)\n",
    "    k1.sigma = kSigmaSlice.sample(k1.sigma)\n",
    "    k1.lengthscale = kLengthscaleSlice.sample(k1.lengthscale)\n",
    "    k2.k1.sigma = k2SigmaSlice.sample(k2.k1.sigma)\n",
    "    k2.k1.lengthscale = k2LengthscaleSlice.sample(k2.k1.lengthscale)\n",
    "    #k2.k2.sigma = k2Sigma2Slice.sample(k2.k2.sigma)\n",
    "    k2.k2.lengthscale = k2Lengthscale2Slice.sample(k2.k2.lengthscale)\n",
    "\n",
    "    if i % thin == 0 and i > burnin:\n",
    "        print model.dataLikelihood(yKernel),yKernel.sigma, k1.sigma, k1.lengthscale, k2.k1.sigma, k2.k1.lengthscale, k2.k2.lengthscale\n",
    "        samples.append(freeze.freeze())"
   ]
  },
  {
   "cell_type": "code",
   "execution_count": null,
   "metadata": {
    "collapsed": false
   },
   "outputs": [],
   "source": [
    "plt.figure(figsize=(10,9))\n",
    "plt.subplot(331)\n",
    "plt.plot(x,y,c='r')\n",
    "\n",
    "# plt.subplot(232)\n",
    "plt.plot(x,np.array([s['model']['beta'][:,0] for s in samples]).T,c='k',alpha=.5)\n",
    "\n",
    "plt.subplot(332)\n",
    "\n",
    "cmap = plt.get_cmap(\"spectral\")\n",
    "colors = [cmap(1.*i/p) for i in range(p)]\n",
    "for i in range(p):\n",
    "    plt.plot(x,np.array([s['model']['beta'][:,i+1] for s in samples]).T,c=colors[i],alpha=.5)\n",
    "\n",
    "plt.subplot(333)\n",
    "plt.hist(np.log10([s['yKernel']['sigma'] for s in samples]))\n",
    "\n",
    "plt.subplot(334)\n",
    "plt.hist(np.log10([s['k1']['sigma'] for s in samples]))\n",
    "\n",
    "plt.subplot(335)\n",
    "plt.hist(np.log10([s['k1']['lengthscale'] for s in samples]))\n",
    "\n",
    "plt.subplot(336)\n",
    "plt.hist(np.log10([s['k2']['k1']['sigma'] for s in samples]))\n",
    "\n",
    "plt.subplot(337)\n",
    "plt.hist(np.log10([s['k2']['k1']['lengthscale'] for s in samples]))\n",
    "\n",
    "plt.subplot(338)\n",
    "plt.hist(np.log10([s['k2']['k2']['sigma'] for s in samples]))\n",
    "\n",
    "plt.subplot(339)\n",
    "plt.hist(np.log10([s['k2']['k2']['lengthscale'] for s in samples]))"
   ]
  },
  {
   "cell_type": "code",
   "execution_count": null,
   "metadata": {
    "collapsed": false
   },
   "outputs": [],
   "source": [
    "s['k2']"
   ]
  },
  {
   "cell_type": "code",
   "execution_count": null,
   "metadata": {
    "collapsed": false
   },
   "outputs": [],
   "source": [
    "plt.figure(figsize=(10,6))\n",
    "\n",
    "ncol = 5\n",
    "\n",
    "cmap = plt.get_cmap(\"spectral\")\n",
    "colors = [cmap(1.*(i+5)/(p+10)) for i in range(p)]\n",
    "\n",
    "for i in range(p):\n",
    "    plt.subplot(p/ncol,ncol,i+1)\n",
    "    \n",
    "    plt.plot([x.min(),x.max()],[0,0],c='k',lw=3)\n",
    "    plt.plot(x,np.array([s['model']['beta'][:,i+1] for s in samples[0:]]).T,c=colors[i],alpha=.5)\n",
    "    \n",
    "    plt.ylim(-2,2)"
   ]
  },
  {
   "cell_type": "code",
   "execution_count": null,
   "metadata": {
    "collapsed": false
   },
   "outputs": [],
   "source": [
    "plt.imshow(k2.K(x),interpolation='none')"
   ]
  },
  {
   "cell_type": "code",
   "execution_count": null,
   "metadata": {
    "collapsed": false
   },
   "outputs": [],
   "source": [
    "cov = k2.K(x)\n",
    "\n",
    "sample = scipy.stats.multivariate_normal.rvs(prior2.mu,cov,size=10)\n",
    "\n",
    "plt.plot(x,sample.T);\n",
    "plt.xlim(x.min(),x.max())"
   ]
  },
  {
   "cell_type": "code",
   "execution_count": null,
   "metadata": {
    "collapsed": false
   },
   "outputs": [],
   "source": [
    "sample.shape"
   ]
  },
  {
   "cell_type": "code",
   "execution_count": null,
   "metadata": {
    "collapsed": false
   },
   "outputs": [],
   "source": [
    "model.beta.shape"
   ]
  },
  {
   "cell_type": "code",
   "execution_count": null,
   "metadata": {
    "collapsed": false
   },
   "outputs": [],
   "source": [
    "plt.plot(x,np.sum(sample.T*sample.T,1));\n",
    "plt.plot(x,np.sum(model.beta[:,1:]*model.beta[:,1:],1));\n",
    "plt.xlim(x.min(),x.max())"
   ]
  },
  {
   "cell_type": "code",
   "execution_count": null,
   "metadata": {
    "collapsed": false
   },
   "outputs": [],
   "source": [
    "k2.freeze()"
   ]
  },
  {
   "cell_type": "code",
   "execution_count": null,
   "metadata": {
    "collapsed": true
   },
   "outputs": [],
   "source": [
    "cov = k1.K(x)"
   ]
  },
  {
   "cell_type": "code",
   "execution_count": null,
   "metadata": {
    "collapsed": false
   },
   "outputs": [],
   "source": [
    "sample = scipy.stats.multivariate_normal.rvs(prior2.mu,cov,size=1)\n",
    "\n",
    "plt.plot(x,sample.T);\n",
    "plt.xlim(x.min(),x.max())"
   ]
  },
  {
   "cell_type": "code",
   "execution_count": null,
   "metadata": {
    "collapsed": false
   },
   "outputs": [],
   "source": [
    "samplesCopy = [s for s in samples]\n",
    "for s in samplesCopy:\n",
    "    s['model']['beta'] = s['model']['beta'].tolist()"
   ]
  },
  {
   "cell_type": "code",
   "execution_count": null,
   "metadata": {
    "collapsed": false
   },
   "outputs": [],
   "source": [
    "s = json.dumps(samplesCopy)"
   ]
  },
  {
   "cell_type": "code",
   "execution_count": null,
   "metadata": {
    "collapsed": false
   },
   "outputs": [],
   "source": [
    "ofile = open(\"technical-replicate-m2.json\",'w')\n",
    "ofile.write(s)\n",
    "ofile.close()"
   ]
  },
  {
   "cell_type": "markdown",
   "metadata": {},
   "source": [
    "# Explicit replicate "
   ]
  },
  {
   "cell_type": "code",
   "execution_count": null,
   "metadata": {
    "collapsed": true
   },
   "outputs": [],
   "source": [
    "import patsy"
   ]
  },
  {
   "cell_type": "code",
   "execution_count": null,
   "metadata": {
    "collapsed": false,
    "scrolled": true
   },
   "outputs": [],
   "source": [
    "# dm_effect = np.column_stack((np.ones(y.shape[1]),patsy.contrasts.Helmert().code_without_intercept(range(y.shape[1])).matrix)) \n",
    "dm_effect = np.column_stack((np.ones(y.shape[1]),patsy.contrasts.Sum().code_without_intercept(range(y.shape[1])).matrix)) \n",
    "dm_effect"
   ]
  },
  {
   "cell_type": "code",
   "execution_count": null,
   "metadata": {
    "collapsed": false
   },
   "outputs": [],
   "source": [
    "dm_effect.shape"
   ]
  },
  {
   "cell_type": "code",
   "execution_count": null,
   "metadata": {
    "collapsed": false
   },
   "outputs": [],
   "source": [
    "# m_replicateEffect = gpfanova.base.Base(x,y,designMatrix=dm_effect,priorGroups=[range(dm_effect.shape[1])])\n",
    "m_replicateEffect = gpfanova.base.Base(x,y,\n",
    "                                       designMatrix=dm_effect,\n",
    "                                       priorGroups=[[0]]+[range(1,dm_effect.shape[1])],\n",
    "                                       bounds = {'y_sigma':(-4,2),\n",
    "                                                 'prior0_sigma':(-4,2),\n",
    "                                                 'prior1_sigma':(-4,2),\n",
    "                                                })"
   ]
  },
  {
   "cell_type": "code",
   "execution_count": null,
   "metadata": {
    "collapsed": false
   },
   "outputs": [],
   "source": [
    "m_replicateEffect.sample(1000,thin=10)"
   ]
  },
  {
   "cell_type": "code",
   "execution_count": null,
   "metadata": {
    "collapsed": false
   },
   "outputs": [],
   "source": [
    "plt.figure(figsize=(6,4))\n",
    "\n",
    "tensor = np.array([m_replicateEffect.functionSamples(i).values.T for i in range(m_replicateEffect.f)])\n",
    "\n",
    "for r in range(y.shape[1]):\n",
    "    samp = np.dot(tensor.T,m_replicateEffect.design_matrix[r,:])\n",
    "    gpfanova.plot.plotFunctionSamples(samp,x=x[:,0])\n",
    "    \n",
    "gpfanova.plot.plotFunctionSamples(m_replicateEffect.functionSamples(0).values,x=x[:,0],c='r')\n",
    "plt.plot(x[:,0],y,c='k',alpha=.6);\n",
    "\n",
    "plt.xlabel(\"time (normalized)\",fontsize=25)\n",
    "plt.ylabel(\"OD (normalized)\",fontsize=25)\n",
    "plt.xticks(np.arange(.2,1,.2),fontsize=20)\n",
    "plt.yticks(np.arange(-2,2,.5),fontsize=20)\n",
    "\n",
    "plt.savefig(\"figures/ura3-pq-replicate/model-explicitReplicate-singleReplicate.pdf\",bbox_inches='tight',dpi=300)"
   ]
  },
  {
   "cell_type": "code",
   "execution_count": null,
   "metadata": {
    "collapsed": false
   },
   "outputs": [],
   "source": [
    "plt.figure(figsize=(6,4))\n",
    "\n",
    "tensor = np.array([m_replicateEffect.functionSamples(i).values.T for i in range(m_replicateEffect.f)])\n",
    "\n",
    "for r in range(y.shape[1]):\n",
    "    mu = np.dot(tensor.T,m_replicateEffect.design_matrix[r,:]).mean(0)\n",
    "    cov = m_replicateEffect.y_k.K(x)\n",
    "    samp = scipy.stats.multivariate_normal.rvs(mu,cov)\n",
    "    plt.plot(x[:,0],samp,c='k',alpha=.6)\n",
    "    #gpfanova.plot.plotFunctionSamples(samp,x=x[:,0])\n",
    "    \n",
    "# gpfanova.plot.plotFunctionSamples(m_replicateEffect.functionSamples(0).values,x=x[:,0],c='r')\n",
    "plt.plot(x[:,0],y,c='b',alpha=.6);\n",
    "\n",
    "plt.xlabel(\"time (normalized)\",fontsize=25)\n",
    "plt.ylabel(\"OD (normalized)\",fontsize=25)\n",
    "plt.xticks(np.arange(.2,1,.2),fontsize=20)\n",
    "plt.yticks(np.arange(-2,2,.5),fontsize=20)\n",
    "\n",
    "plt.savefig(\"figures/ura3-pq-replicate/model-explicitReplicate-generative-singleReplicate.pdf\",bbox_inches='tight',dpi=300)"
   ]
  },
  {
   "cell_type": "code",
   "execution_count": null,
   "metadata": {
    "collapsed": false
   },
   "outputs": [],
   "source": [
    "mu.shape,cov.shape,x.shape,samp.shape"
   ]
  },
  {
   "cell_type": "code",
   "execution_count": null,
   "metadata": {
    "collapsed": false
   },
   "outputs": [],
   "source": [
    "plt.figure(figsize=(10,6))\n",
    "\n",
    "plt.plot(x[:,0],y,c='k',alpha=.6);\n",
    "\n",
    "tensor = np.array([m_replicateEffect.functionSamples(i).values.T for i in range(m_replicateEffect.f)])\n",
    "\n",
    "for r in range(y.shape[1]):\n",
    "    samp = np.dot(tensor.T,m_replicateEffect.design_matrix[r,:])\n",
    "    gpfanova.plot.plotFunctionSamples(samp,x=x[:,0])"
   ]
  },
  {
   "cell_type": "code",
   "execution_count": null,
   "metadata": {
    "collapsed": false
   },
   "outputs": [],
   "source": [
    "plt.figure(figsize=(8,4))\n",
    "\n",
    "plt.subplot(121)\n",
    "plt.plot(x,m_replicateEffect.functionMatrix()[:,1:],c='k',alpha=.6)\n",
    "\n",
    "plt.xlabel(\"time (normalized)\",fontsize=20)\n",
    "plt.ylabel(\"OD (normalized)\",fontsize=20)\n",
    "plt.xticks(fontsize=15)\n",
    "plt.yticks(fontsize=15)"
   ]
  },
  {
   "cell_type": "code",
   "execution_count": null,
   "metadata": {
    "collapsed": false
   },
   "outputs": [],
   "source": [
    "params = ['y_sigma','prior0_sigma','prior0_lengthscale','prior1_sigma','prior1_lengthscale']\n",
    "\n",
    "plt.figure(figsize=(len(params)*4,len(params)*4))\n",
    "for i,p in enumerate(params):\n",
    "    plt.subplot(len(params),len(params),i+1+i*len(params))\n",
    "    plt.title(p)\n",
    "    plt.plot(m_replicateEffect.parameter_history[p])\n",
    "    \n",
    "    for j,p2 in enumerate(params[:i]):\n",
    "        plt.subplot(len(params),len(params),i+1+i*len(params)-j-1)\n",
    "        plt.scatter(m_replicateEffect.parameter_history[p2],m_replicateEffect.parameter_history[p])"
   ]
  },
  {
   "cell_type": "code",
   "execution_count": null,
   "metadata": {
    "collapsed": false
   },
   "outputs": [],
   "source": [
    "m_replicateEffect.kernels"
   ]
  },
  {
   "cell_type": "code",
   "execution_count": null,
   "metadata": {
    "collapsed": false
   },
   "outputs": [],
   "source": [
    "\n",
    "\n",
    "plt.figure(figsize=(8,4))\n",
    "\n",
    "plt.subplot(121)\n",
    "for r in range(y.shape[1]):\n",
    "    plt.plot(x,np.dot(m_replicateEffect.functionMatrix()[:,1:],m_replicateEffect.design_matrix[r,1:]),\n",
    "             c='k',alpha=.6)\n",
    "    \n",
    "plt.plot(x,y-m_replicateEffect.functionMatrix()[:,0][:,None],\n",
    "         c='k',alpha=.6)\n",
    "\n",
    "plt.xlabel(\"time (normalized)\",fontsize=20)\n",
    "plt.ylabel(\"OD (normalized)\",fontsize=20)\n",
    "plt.xticks(fontsize=15)\n",
    "plt.yticks(fontsize=15)\n",
    "plt.ylim(-1.4,.9)\n",
    "\n",
    "plt.title(\"estimated $\\\\beta_i(\\mathbf{x})$\",fontsize=20)\n",
    "\n",
    "cov = m_replicateEffect.kernels[1].K(x)\n",
    "\n",
    "plt.subplot(122)\n",
    "for r in range(y.shape[1]*3):\n",
    "    repSamp = scipy.stats.multivariate_normal.rvs(np.zeros(m_replicateEffect.n),cov)\n",
    "    repSamp -= m_replicateEffect.functionMatrix()[:,-1]\n",
    "    plt.plot(x,repSamp,c='k',alpha=.6)\n",
    "    \n",
    "plt.ylim(-1.4,.9)\n",
    "plt.title(\"simulated $\\\\beta_i(\\mathbf{x})$\",fontsize=20)\n",
    "\n",
    "plt.xlabel(\"time (normalized)\",fontsize=20)\n",
    "plt.xticks(fontsize=15)\n",
    "plt.yticks(fontsize=15)\n",
    "\n",
    "plt.tight_layout()\n",
    "\n",
    "# plt.savefig(\"figures/ura3-pq-replicate/model-randomEffects-replicateSample-singleReplicate.pdf\",bbox_inches='tight')"
   ]
  },
  {
   "cell_type": "code",
   "execution_count": null,
   "metadata": {
    "collapsed": false
   },
   "outputs": [],
   "source": [
    "\n",
    "\n",
    "plt.figure(figsize=(8,4))\n",
    "\n",
    "plt.subplot(121)\n",
    "#for r in range(y.shape[1]):\n",
    "var = np.dot(m_replicateEffect.functionMatrix()[:,1:],m_replicateEffect.design_matrix[:,1:].T).std(1)\n",
    "plt.plot(x,var,\n",
    "             c='k',alpha=.6)\n",
    "    \n",
    "# plt.plot(x,y-m_replicateEffect.functionMatrix()[:,0][:,None],\n",
    "#          c='k',alpha=.6)\n",
    "\n",
    "plt.xlabel(\"time (normalized)\",fontsize=20)\n",
    "plt.ylabel(\"OD (normalized)\",fontsize=20)\n",
    "plt.xticks(fontsize=15)\n",
    "plt.yticks(fontsize=15)\n",
    "# plt.ylim(-1.4,.9)\n",
    "\n",
    "plt.title(\"estimated $\\\\beta_i(\\mathbf{x})$\",fontsize=20)\n",
    "\n",
    "cov = m_replicateEffect.kernels[1].K(x)\n",
    "\n",
    "plt.subplot(122)\n",
    "samps = []\n",
    "for r in range(y.shape[1]*3):\n",
    "    repSamp = scipy.stats.multivariate_normal.rvs(np.zeros(m_replicateEffect.n),cov)\n",
    "    repSamp -= m_replicateEffect.functionMatrix()[:,-1]\n",
    "    samps.append(repSamp)\n",
    "plt.plot(x,np.array(samps).std(0))\n",
    "\n",
    "plt.ylim(0,.45)\n",
    "\n",
    "plt.title(\"simulated $\\\\beta_i(\\mathbf{x})$\",fontsize=20)\n",
    "\n",
    "plt.xlabel(\"time (normalized)\",fontsize=20)\n",
    "plt.xticks(fontsize=15)\n",
    "plt.yticks(fontsize=15)\n",
    "\n",
    "plt.tight_layout()\n",
    "\n",
    "# plt.savefig(\"figures/ura3-pq-replicate/model-randomEffects-replicateSample-singleReplicate.pdf\",bbox_inches='tight')"
   ]
  },
  {
   "cell_type": "markdown",
   "metadata": {},
   "source": [
    "# Random effect "
   ]
  },
  {
   "cell_type": "code",
   "execution_count": null,
   "metadata": {
    "collapsed": false
   },
   "outputs": [],
   "source": [
    "dm_randomeffect = np.column_stack((np.ones(y.shape[1]),np.eye(y.shape[1])))\n",
    "dm_randomeffect"
   ]
  },
  {
   "cell_type": "code",
   "execution_count": null,
   "metadata": {
    "collapsed": false
   },
   "outputs": [],
   "source": [
    "m_randomEffect = gpfanova.base.Base(x,y,designMatrix=dm_randomeffect,\n",
    "                                    priorGroups=[[0],range(1,dm_randomeffect.shape[1])],\n",
    "                                    bounds={'y_sigma':(-4,0)})"
   ]
  },
  {
   "cell_type": "code",
   "execution_count": null,
   "metadata": {
    "collapsed": true
   },
   "outputs": [],
   "source": [
    "m_randomEffect.sample(1000,thin=10)"
   ]
  },
  {
   "cell_type": "code",
   "execution_count": null,
   "metadata": {
    "collapsed": false
   },
   "outputs": [],
   "source": [
    "gpfanova.plot.plotFunctionSamples(m_randomEffect.functionSamples(0).values,x=x[:,0])\n",
    "plt.plot(x[:,0],y,c='k',alpha=.3);"
   ]
  },
  {
   "cell_type": "code",
   "execution_count": null,
   "metadata": {
    "collapsed": false
   },
   "outputs": [],
   "source": [
    "gpfanova.plot.plotFunctionSamples(m_randomEffect.functionSamples(0).values,x=x[:,0])\n",
    "gpfanova.plot.plotFunctionSamples(m_replicateEffect.functionSamples(0).values,x=x[:,0],c='r')\n",
    "gpfanova.plot.plotFunctionSamples(m_noReplicate.functionSamples(0).values,x=x[:,0],c='g')\n",
    "plt.plot(x[:,0],y,c='k',alpha=.7);\n",
    "\n",
    "plt.ylim(-.5,.5)\n",
    "plt.xlim(.2,.6)\n",
    "\n",
    "plt.ylim(-2,-1.5)\n",
    "plt.xlim(0,.2,)"
   ]
  },
  {
   "cell_type": "code",
   "execution_count": null,
   "metadata": {
    "collapsed": false
   },
   "outputs": [],
   "source": [
    "m_randomEffect.functionSamples(0).values.std(0).mean(),m_noReplicate.functionSamples(0).values.std(0).mean(),m_replicateEffect.functionSamples(0).values.std(0).mean()"
   ]
  },
  {
   "cell_type": "code",
   "execution_count": null,
   "metadata": {
    "collapsed": false
   },
   "outputs": [],
   "source": [
    "plt.figure(figsize=(6,4))\n",
    "\n",
    "plt.plot(x[:,0],y,c='k',alpha=.6);\n",
    "\n",
    "for r in range(y.shape[1]):\n",
    "    gpfanova.plot.plotFunctionSamples(m_randomEffect.functionSamples(0).values+\n",
    "                                      m_randomEffect.functionSamples(1+r).values,x=x[:,0])\n",
    "    \n",
    "gpfanova.plot.plotFunctionSamples(m_randomEffect.functionSamples(0).values,x=x[:,0],c='r')\n",
    "\n",
    "plt.xlabel(\"time (normalized)\",fontsize=25)\n",
    "plt.ylabel(\"OD (normalized)\",fontsize=25)\n",
    "plt.xticks(np.arange(.2,1,.2),fontsize=20)\n",
    "plt.yticks(np.arange(-2,2,.5),fontsize=20)\n",
    "\n",
    "# plt.savefig(\"figures/ura3-pq-replicate/model-randomEffect-singleReplicate.pdf\",bbox_inches='tight',dpi=300)"
   ]
  },
  {
   "cell_type": "code",
   "execution_count": null,
   "metadata": {
    "collapsed": false
   },
   "outputs": [],
   "source": [
    "plt.figure(figsize=(6,4))\n",
    "# plt.subplot(121)\n",
    "# cov = m_noReplicate.y_k.K(m_withReplicate.x)\n",
    "# ysample = np.dot(m_noReplicate.design_matrix,m_noReplicate.functionSamples(0).values[-1,:][None,:]) +\\\n",
    "#             scipy.stats.multivariate_normal.rvs(np.zeros(m_noReplicate.n),cov,size=m_noReplicate.m)\n",
    "\n",
    "# fsample = m_noReplicate.functionMatrix()\n",
    "\n",
    "# plt.plot(ysample.T,c='k',alpha=.4); \n",
    "# plt.plot(y,c='b',alpha=.4); \n",
    "# plt.plot(fsample,c='r',lw=3);\n",
    "\n",
    "# plt.subplot(122)\n",
    "\n",
    "for i in range(y.shape[1]):\n",
    "    muSamp = m_randomEffect.functionMatrix()[:,0]\n",
    "    \n",
    "    cov = m_randomEffect.kernels[1].K(x)\n",
    "    repSamp = scipy.stats.multivariate_normal.rvs(np.zeros(m_randomEffect.n),cov)\n",
    "    \n",
    "    cov = m_randomEffect.y_k.K(x)\n",
    "    ySamp = muSamp + scipy.stats.multivariate_normal.rvs(repSamp,cov)\n",
    "    \n",
    "    plt.plot(x[:,0],ySamp,c='k',alpha=.6)\n",
    "\n",
    "# cov = m_randomEffect.kernels[1].K(x) + m_randomEffect.y_k.K(x)\n",
    "# ysample = np.dot(m_randomEffect.design_matrix[:,0][:,None],m_randomEffect.functionSamples(0).values[-1,:][None,:]) +\\\n",
    "#             scipy.stats.multivariate_normal.rvs(np.zeros(m_randomEffect.n),cov,size=m_randomEffect.m)\n",
    "\n",
    "# fsample = m_noReplicate.functionMatrix()\n",
    "\n",
    "\n",
    "plt.plot(x[:,0],y,c='b',alpha=.6); \n",
    "# plt.plot(ysample.T,c='k',alpha=.7); \n",
    "# plt.plot(fsample,c='r',lw=3);\n",
    "\n",
    "plt.xlabel(\"time (normalized)\",fontsize=25)\n",
    "plt.ylabel(\"OD (normalized)\",fontsize=25)\n",
    "plt.xticks(np.arange(.2,1,.2),fontsize=20)\n",
    "plt.yticks(np.arange(-2,2,.5),fontsize=20)\n",
    "\n",
    "# plt.savefig(\"figures/ura3-pq-replicate/model-randomEffects-generative-singleReplicate.pdf\",bbox_inches='tight')"
   ]
  },
  {
   "cell_type": "code",
   "execution_count": null,
   "metadata": {
    "collapsed": false
   },
   "outputs": [],
   "source": [
    "cov = m_randomEffect.kernels[1].K(x)\n",
    "\n",
    "plt.figure(figsize=(8,4))\n",
    "\n",
    "plt.subplot(121)\n",
    "plt.plot(x,m_randomEffect.functionMatrix()[:,1:],c='k',alpha=.6)\n",
    "\n",
    "plt.xlabel(\"time (normalized)\",fontsize=20)\n",
    "plt.ylabel(\"OD (normalized)\",fontsize=20)\n",
    "plt.xticks(fontsize=15)\n",
    "plt.yticks(fontsize=15)\n",
    "plt.ylim(-.9,.6)\n",
    "\n",
    "plt.title(\"estimated $\\\\beta_i(\\mathbf{x})$\",fontsize=20)\n",
    "\n",
    "plt.subplot(122)\n",
    "for r in range(y.shape[1]):\n",
    "    repSamp = scipy.stats.multivariate_normal.rvs(np.zeros(m_randomEffect.n),cov)\n",
    "    plt.plot(x,repSamp,c='k',alpha=.6)\n",
    "    \n",
    "plt.ylim(-.9,.6)\n",
    "plt.title(\"simulated $\\\\beta_i(\\mathbf{x})$\",fontsize=20)\n",
    "\n",
    "plt.xlabel(\"time (normalized)\",fontsize=20)\n",
    "plt.xticks(fontsize=15)\n",
    "plt.yticks(fontsize=15)\n",
    "\n",
    "plt.tight_layout()\n",
    "\n",
    "# plt.savefig(\"figures/ura3-pq-replicate/model-randomEffects-replicateSample-singleReplicate.pdf\",bbox_inches='tight')"
   ]
  },
  {
   "cell_type": "code",
   "execution_count": null,
   "metadata": {
    "collapsed": false
   },
   "outputs": [],
   "source": [
    "m_randomEffect.paa"
   ]
  },
  {
   "cell_type": "code",
   "execution_count": null,
   "metadata": {
    "collapsed": false
   },
   "outputs": [],
   "source": [
    "plt.figure(figsize=(10,6))\n",
    "plt.subplot(121)\n",
    "cov = m_noReplicate.y_k.K(m_withReplicate.x)\n",
    "ysample = np.dot(m_noReplicate.design_matrix,m_noReplicate.functionSamples(0).values[-1,:][None,:]) +\\\n",
    "            scipy.stats.multivariate_normal.rvs(np.zeros(m_noReplicate.n),cov,size=m_noReplicate.m)\n",
    "\n",
    "fsample = m_noReplicate.functionMatrix()\n",
    "\n",
    "plt.plot(ysample.T,c='k',alpha=.4); \n",
    "plt.plot(y,c='b',alpha=.4); \n",
    "plt.plot(fsample,c='r',lw=3);\n",
    "\n",
    "plt.subplot(122)\n",
    "cov = m_randomEffect.kernels[1].K(x) + m_randomEffect.y_k.K(x)\n",
    "ysample = np.dot(m_randomEffect.design_matrix[:,0][:,None],m_randomEffect.functionSamples(0).values[-1,:][None,:]) +\\\n",
    "            scipy.stats.multivariate_normal.rvs(np.zeros(m_randomEffect.n),cov,size=m_randomEffect.m)\n",
    "\n",
    "# fsample = m_noReplicate.functionMatrix()\n",
    "\n",
    "\n",
    "plt.plot(y,c='b',alpha=.4); \n",
    "plt.plot(ysample.T,c='k',alpha=.7); \n",
    "# plt.plot(fsample,c='r',lw=3);\n",
    "\n",
    "# plt.savefig(\"figures/ura3-pq-replicate/model-noReplicate-generative.pdf\",bbox_inches='tight')"
   ]
  },
  {
   "cell_type": "code",
   "execution_count": null,
   "metadata": {
    "collapsed": false
   },
   "outputs": [],
   "source": [
    "params = ['y_sigma','prior0_sigma','prior0_lengthscale','prior1_sigma','prior1_lengthscale']\n",
    "\n",
    "plt.figure(figsize=(len(params)*4,len(params)*4))\n",
    "for i,p in enumerate(params):\n",
    "    plt.subplot(len(params),len(params),i+1+i*len(params))\n",
    "    plt.title(p)\n",
    "    plt.plot(m_randomEffect.parameter_history[p])\n",
    "    \n",
    "    for j,p2 in enumerate(params[:i]):\n",
    "        plt.subplot(len(params),len(params),i+1+i*len(params)-j-1)\n",
    "        plt.scatter(m_randomEffect.parameter_history[p2],m_randomEffect.parameter_history[p])"
   ]
  },
  {
   "cell_type": "code",
   "execution_count": null,
   "metadata": {
    "collapsed": false
   },
   "outputs": [],
   "source": [
    "ysample, fsample = m_randomEffect.samplePrior()\n",
    "\n",
    "plt.plot(ysample);\n",
    "plt.plot(fsample[:,0],c='k',lw=3)"
   ]
  },
  {
   "cell_type": "code",
   "execution_count": null,
   "metadata": {
    "collapsed": false
   },
   "outputs": [],
   "source": [
    "plt.figure(figsize=(4,4))\n",
    "\n",
    "fsamp = [m_noReplicate.functionSamples(0).values,\n",
    "         m_replicateEffect.functionSamples(0).values,\n",
    "         m_randomEffect.functionSamples(0).values]\n",
    "\n",
    "ints = [gpfanova.interval.FunctionInterval(fs,.95) for fs in fsamp]\n",
    "deltas = [(i.ub-i.lb) for i in ints]\n",
    "\n",
    "plt.boxplot(deltas,labels=['no\\neffect','fixed\\neffect','random\\neffect'])\n",
    "plt.xticks(fontsize=15)\n",
    "plt.yticks(fontsize=15)\n",
    "plt.title(\"$\\mu(\\mathbf{x})$ interval size\",fontsize=20,y=1.01)\n",
    "\n",
    "# plt.savefig(\"figures/ura3-pq-replicate/model-comparison-mu-singleReplicate.pdf\",bbox_inches='tight')"
   ]
  },
  {
   "cell_type": "code",
   "execution_count": null,
   "metadata": {
    "collapsed": false
   },
   "outputs": [],
   "source": [
    "plt.figure(figsize=(4,4))\n",
    "\n",
    "# fsamp = [m_noReplicate.functionSamples(0).values,\n",
    "#          m_replicateEffect.functionSamples(0).values,\n",
    "#          m_randomEffect.functionSamples(0).values]\n",
    "\n",
    "# ints = [gpfanova.interval.FunctionInterval(fs,.95) for fs in fsamp]\n",
    "# deltas = [(i.ub-i.lb) for i in ints]\n",
    "\n",
    "ysigma = [m_noReplicate.parameter_history.y_sigma.values,\n",
    "         m_replicateEffect.parameter_history.y_sigma.values,\n",
    "         m_randomEffect.parameter_history.y_sigma.values,]\n",
    "\n",
    "plt.boxplot(ysigma,labels=['no\\neffect','fixed\\neffect','random\\neffect'])\n",
    "plt.xticks(fontsize=15)\n",
    "plt.yticks(fontsize=15)\n",
    "plt.title(\"$log_{10}(\\sigma_y)$\",fontsize=20,y=1.01)\n",
    "\n",
    "plt.ylim(-2.1,-1.2)\n",
    "\n",
    "# plt.savefig(\"figures/ura3-pq-replicate/model-comparison-ysigma-singleReplicate.pdf\",bbox_inches='tight')"
   ]
  },
  {
   "cell_type": "code",
   "execution_count": null,
   "metadata": {
    "collapsed": false
   },
   "outputs": [],
   "source": []
  },
  {
   "cell_type": "code",
   "execution_count": null,
   "metadata": {
    "collapsed": false
   },
   "outputs": [],
   "source": [
    "i = ints[0]"
   ]
  },
  {
   "cell_type": "code",
   "execution_count": null,
   "metadata": {
    "collapsed": false
   },
   "outputs": [],
   "source": []
  },
  {
   "cell_type": "markdown",
   "metadata": {},
   "source": [
    "# More data "
   ]
  },
  {
   "cell_type": "code",
   "execution_count": null,
   "metadata": {
    "collapsed": true
   },
   "outputs": [],
   "source": [
    "ds = gpfanova.dataset.DataSet('data/ura3-pq-replicate/')\n",
    "x,y,effect,labels = ds.build(Strain='ura3',mM_PQ=0.0,scale='range',effects=['Bio','Tech'])\n",
    "\n",
    "neffect = effect.Bio.unique().shape[0]\n",
    "for e in range(neffect):\n",
    "    select = effect.values[:,0] == e\n",
    "    y[:,select] -= y[0,select].mean()\n",
    "    \n",
    "y = (y-y.mean())/y.std()"
   ]
  },
  {
   "cell_type": "code",
   "execution_count": null,
   "metadata": {
    "collapsed": false
   },
   "outputs": [],
   "source": [
    "select = effect.Tech != 9\n",
    "y = y[:,np.where(select)[0]]\n",
    "effect = effect.loc[select,:]"
   ]
  },
  {
   "cell_type": "code",
   "execution_count": null,
   "metadata": {
    "collapsed": false
   },
   "outputs": [],
   "source": [
    "for b in [6,8,10,12]:\n",
    "    select = (effect != np.array([[b,0]])).values.any(1)\n",
    "    \n",
    "    y = y[:,np.where(select)[0]]\n",
    "    effect = effect.loc[select,:]"
   ]
  },
  {
   "cell_type": "code",
   "execution_count": null,
   "metadata": {
    "collapsed": false
   },
   "outputs": [],
   "source": [
    "y.shape"
   ]
  },
  {
   "cell_type": "code",
   "execution_count": null,
   "metadata": {
    "collapsed": false
   },
   "outputs": [],
   "source": [
    "cmap = plt.get_cmap('spectral')\n",
    "for i in range(y.shape[1]):\n",
    "    plt.plot(x,y[:,i],c=cmap(1.*effect.values[i,0]/effect.Bio.unique().shape[0]),alpha=.4);"
   ]
  },
  {
   "cell_type": "code",
   "execution_count": null,
   "metadata": {
    "collapsed": false
   },
   "outputs": [],
   "source": [
    "plt.figure(figsize=(6,10))\n",
    "\n",
    "ncol = 3\n",
    "\n",
    "for i in range(y.shape[1]):\n",
    "    plt.subplot(neffect/ncol+1,ncol,effect.values[i,0]+1)\n",
    "    #plt.plot(x,y[:,i],c=cmap(1.*effect.values[i,0]/neffect),alpha=.4);\n",
    "    plt.plot(x,y[:,i],c=cmap(1.*effect.values[i,1]/10),alpha=.8,label=str(effect.values[i,1]));\n",
    "    \n",
    "    plt.ylim(-2,2)\n",
    "    \n",
    "for i in range(len(labels[0])):\n",
    "    plt.subplot(neffect/ncol+1,ncol,i+1)\n",
    "    #plt.title(labels[0][i])\n",
    "    \n",
    "    if i%ncol == 0:\n",
    "        plt.yticks(np.arange(-1.5,2,1),fontsize=10)\n",
    "        plt.ylabel(\"OD\\n(normalized)\",fontsize=15)\n",
    "    else:\n",
    "        plt.yticks(np.arange(-1.5,2,1),fontsize=10)\n",
    "        \n",
    "    if i >= 11:\n",
    "        plt.xticks(np.arange(.2,1,.3),fontsize=10)\n",
    "        plt.xlabel(\"time\\n(normalized)\",fontsize=15)\n",
    "    else:\n",
    "        plt.xticks(np.arange(.2,1,.3),fontsize=10)\n",
    "    \n",
    "plt.tight_layout()\n",
    "\n",
    "plt.savefig(\"figures/ura3-pq-replicate/data-multipleReplicates.pdf\",bbox_inches='tight',dpi=300)"
   ]
  },
  {
   "cell_type": "code",
   "execution_count": null,
   "metadata": {
    "collapsed": false
   },
   "outputs": [],
   "source": [
    "plt.figure(figsize=(10,6))\n",
    "\n",
    "ncol = 5\n",
    "\n",
    "for i in range(y.shape[1]):\n",
    "    plt.subplot(neffect/ncol+1,ncol,effect.values[i,0]+1)\n",
    "    #plt.plot(x,y[:,i],c=cmap(1.*effect.values[i,0]/neffect),alpha=.4);\n",
    "    plt.plot(x,y[:,i],c=cmap(1.*effect.values[i,1]/10),alpha=.8,label=str(effect.values[i,1]));\n",
    "    \n",
    "    plt.ylim(-2,2)\n",
    "    \n",
    "for i in range(len(labels[0])):\n",
    "    plt.subplot(neffect/ncol+1,ncol,i+1)\n",
    "    #plt.title(labels[0][i])\n",
    "    \n",
    "    if i%ncol == 0:\n",
    "        plt.yticks(np.arange(-1.5,2,1),fontsize=10)\n",
    "        plt.ylabel(\"OD\\n(normalized)\",fontsize=15)\n",
    "    else:\n",
    "        plt.yticks(np.arange(-1.5,2,1),fontsize=10)\n",
    "        \n",
    "    if i >= 9:\n",
    "        plt.xticks(np.arange(.2,1,.3),fontsize=10)\n",
    "        plt.xlabel(\"time\\n(normalized)\",fontsize=15)\n",
    "    else:\n",
    "        plt.xticks(np.arange(.2,1,.3),fontsize=10)\n",
    "    \n",
    "plt.tight_layout()\n",
    "\n",
    "plt.savefig(\"figures/ura3-pq-replicate/data-multipleReplicates-alt.pdf\",bbox_inches='tight',dpi=300)"
   ]
  },
  {
   "cell_type": "code",
   "execution_count": null,
   "metadata": {
    "collapsed": false
   },
   "outputs": [],
   "source": [
    "bioMatrix = np.zeros((y.shape[1],effect.Bio.unique().shape[0]))\n",
    "for i,e in enumerate(effect.Bio):\n",
    "#     print i,e\n",
    "    bioMatrix[i,e] = 1\n",
    "    \n",
    "plt.imshow(bioMatrix)"
   ]
  },
  {
   "cell_type": "code",
   "execution_count": null,
   "metadata": {
    "collapsed": false
   },
   "outputs": [],
   "source": [
    "dm_randomEffect = np.column_stack((np.ones(y.shape[1]),\n",
    "                                   bioMatrix,\n",
    "                                   np.eye(y.shape[1])))"
   ]
  },
  {
   "cell_type": "code",
   "execution_count": null,
   "metadata": {
    "collapsed": false
   },
   "outputs": [],
   "source": [
    "m_randomEffect_bio = gpfanova.base.Base(x,y,designMatrix=dm_randomEffect,\n",
    "                                        priorGroups=[[0],range(1,bioMatrix.shape[1]+1),range(bioMatrix.shape[1]+1,dm_randomEffect.shape[1])],\n",
    "                                        bounds={'prior0_lengthscale':(-1,2),\n",
    "                                                'prior1_lengthscale':(-1,2),\n",
    "                                                'prior2_lengthscale':(-1,2),\n",
    "                                                'prior1_sigma':(-4,-1),\n",
    "                                                'prior2_sigma':(-4,-1),})\n",
    "\n",
    "m_randomEffect_bio.parameter_cache.prior1_sigma = -2\n",
    "m_randomEffect_bio.parameter_cache.prior2_sigma = -2"
   ]
  },
  {
   "cell_type": "code",
   "execution_count": null,
   "metadata": {
    "collapsed": false
   },
   "outputs": [],
   "source": [
    "m_randomEffect_bio.sample(50,thin=10)"
   ]
  },
  {
   "cell_type": "code",
   "execution_count": null,
   "metadata": {
    "collapsed": false
   },
   "outputs": [],
   "source": [
    "gpfanova.plot.plotFunctionSamples(m_randomEffect_bio.functionSamples(0).values,x=x[:,0])\n",
    "plt.plot(x[:,0],y,c='k',alpha=.3);"
   ]
  },
  {
   "cell_type": "code",
   "execution_count": null,
   "metadata": {
    "collapsed": false
   },
   "outputs": [],
   "source": [
    "plt.figure(figsize=(16,16))\n",
    "\n",
    "\n",
    "tensor = np.array([m_randomEffect_bio.functionSamples(i).values.T for i in range(m_randomEffect_bio.f)])\n",
    "\n",
    "for r in range(y.shape[1]):\n",
    "    plt.subplot(neffect/4+1,4,effect.values[r,0]+1)\n",
    "    samp = np.dot(tensor.T,m_randomEffect_bio.design_matrix[r,:])\n",
    "    gpfanova.plot.plotFunctionSamples(samp,x=x[:,0])\n",
    "    \n",
    "    plt.plot(x[:,0],y[:,r],c='k',alpha=.6);\n",
    "    \n",
    "for e in range(neffect):\n",
    "    plt.subplot(neffect/4+1,4,e+1)\n",
    "    samp = m_randomEffect_bio.functionSamples(0).values + m_randomEffect_bio.functionSamples(e+1).values\n",
    "    gpfanova.plot.plotFunctionSamples(samp,x=x[:,0],c='r')\n",
    "    \n",
    "    plt.ylim(-2,2)"
   ]
  },
  {
   "cell_type": "code",
   "execution_count": null,
   "metadata": {
    "collapsed": false,
    "scrolled": true
   },
   "outputs": [],
   "source": [
    "plt.figure(figsize=(16,16))\n",
    "\n",
    "for e in range(neffect):\n",
    "    plt.subplot(neffect/4+1,4,e+1)\n",
    "    samp = m_randomEffect_bio.functionSamples(0).values + m_randomEffect_bio.functionSamples(e+1).values\n",
    "    gpfanova.plot.plotFunctionSamples(samp,x=x[:,0],c=cmap(1.*e/neffect))\n",
    "    plt.plot(x[:,0],y[:,effect.values[:,0]==e].mean(1),c=cmap(1.*e/neffect))\n",
    "    \n",
    "    gpfanova.plot.plotFunctionSamples(m_randomEffect_bio.functionSamples(0).values,x=x[:,0],c='k')\n",
    "    \n",
    "    plt.ylim(-2,2)"
   ]
  },
  {
   "cell_type": "code",
   "execution_count": null,
   "metadata": {
    "collapsed": false,
    "scrolled": false
   },
   "outputs": [],
   "source": [
    "params = ['y_sigma','prior0_sigma','prior0_lengthscale','prior1_sigma','prior1_lengthscale','prior2_sigma','prior2_lengthscale']\n",
    "\n",
    "plt.figure(figsize=(len(params)*4,len(params)*4))\n",
    "for i,p in enumerate(params):\n",
    "    plt.subplot(len(params),len(params),i+1+i*len(params))\n",
    "    plt.title(p)\n",
    "    plt.plot(m_randomEffect_bio.parameter_history[p])\n",
    "    \n",
    "    for j,p2 in enumerate(params[:i]):\n",
    "        plt.subplot(len(params),len(params),i+1+i*len(params)-j-1)\n",
    "        plt.scatter(m_randomEffect_bio.parameter_history[p2],m_randomEffect_bio.parameter_history[p])"
   ]
  },
  {
   "cell_type": "code",
   "execution_count": null,
   "metadata": {
    "collapsed": false
   },
   "outputs": [],
   "source": [
    "cov = m_randomEffect_bio.kernels[2].K(m_randomEffect.x,prior2_lengthscale=-1.5,prior2_sigma=0)\n",
    "\n",
    "fsample = scipy.stats.multivariate_normal.rvs(np.zeros(m_randomEffect_bio.x.shape[0]),cov)\n",
    "\n",
    "plt.plot(x[:,0],fsample)"
   ]
  },
  {
   "cell_type": "code",
   "execution_count": null,
   "metadata": {
    "collapsed": false
   },
   "outputs": [],
   "source": [
    "m_randomEffect_bio.functionSamples(0).values.std(0).mean(),\\\n",
    "m_randomEffect.functionSamples(0).values.std(0).mean(),\\\n",
    "m_noReplicate.functionSamples(0).values.std(0).mean(),\\\n",
    "m_replicateEffect.functionSamples(0).values.std(0).mean()"
   ]
  },
  {
   "cell_type": "markdown",
   "metadata": {},
   "source": [
    "## Integrate replicates "
   ]
  },
  {
   "cell_type": "code",
   "execution_count": null,
   "metadata": {
    "collapsed": false
   },
   "outputs": [],
   "source": [
    "reload(gpfanova.base)"
   ]
  },
  {
   "cell_type": "code",
   "execution_count": null,
   "metadata": {
    "collapsed": false
   },
   "outputs": [],
   "source": [
    "bioMatrix = np.zeros((y.shape[1],effect.Bio.unique().shape[0]))\n",
    "for i,e in enumerate(effect.Bio):\n",
    "#     print i,e\n",
    "    bioMatrix[i,e] = 1\n",
    "    \n",
    "plt.imshow(bioMatrix)"
   ]
  },
  {
   "cell_type": "code",
   "execution_count": null,
   "metadata": {
    "collapsed": false
   },
   "outputs": [],
   "source": [
    "dm_randomEffect_intRep = np.column_stack((np.ones(y.shape[1]),\n",
    "                                   bioMatrix,))\n",
    "\n",
    "m_randomEffect_bio_intRep = gpfanova.base.Base_withReplicate(x,y,designMatrix=dm_randomEffect_intRep,\n",
    "                                        priorGroups=[[0],range(1,bioMatrix.shape[1]+1)],\n",
    "                                        bounds={'y_sigma':(-4,-1),\n",
    "                                                'prior0_lengthscale':(-1,2),\n",
    "                                                'prior1_lengthscale':(-1,2),\n",
    "                                                'prior0_sigma':(-4,-1),\n",
    "                                                'prior1_sigma':(-4,-1),\n",
    "                                                },\n",
    "                                        replicateSigmaBounds=(-4,-1),\n",
    "                                        replicateLengthscaleBounds=(-1,2))\n",
    "\n",
    "# m_randomEffect_bio_intRep = gpfanova.base.Base(x,y,designMatrix=dm_randomEffect_intRep,\n",
    "#                                         priorGroups=[[0],range(1,bioMatrix.shape[1]+1)],\n",
    "#                                         bounds={'prior0_lengthscale':(-1,2),\n",
    "#                                                 'prior1_lengthscale':(-1,2),\n",
    "#                                                 'prior1_sigma':(-4,-1),\n",
    "#                                                 'y_sigma':(-4,-1)},\n",
    "#                                         replicateSigmaBounds=(-4,-1),\n",
    "#                                         replicateLengthscaleBounds=(-1,2))\n",
    "\n",
    "m_randomEffect_bio_intRep.parameter_cache.prior0_sigma"
   ]
  },
  {
   "cell_type": "code",
   "execution_count": null,
   "metadata": {
    "collapsed": false
   },
   "outputs": [],
   "source": [
    "m_randomEffect_bio_intRep.sample(500,thin=10)"
   ]
  },
  {
   "cell_type": "code",
   "execution_count": null,
   "metadata": {
    "collapsed": false
   },
   "outputs": [],
   "source": [
    "gpfanova.plot.plotFunctionSamples(m_randomEffect_bio_intRep.functionSamples(0).values,x=x[:,0])\n",
    "plt.plot(x[:,0],y,c='k',alpha=.3);"
   ]
  },
  {
   "cell_type": "code",
   "execution_count": null,
   "metadata": {
    "collapsed": false
   },
   "outputs": [],
   "source": [
    "plt.figure(figsize=(16,16))\n",
    "\n",
    "tensor = np.array([m_randomEffect_bio_intRep.functionSamples(i).values.T for i in range(m_randomEffect_bio_intRep.f)])\n",
    "\n",
    "for r in range(y.shape[1]):\n",
    "    plt.subplot(neffect/4+1,4,effect.values[r,0]+1)\n",
    "    samp = np.dot(tensor.T,m_randomEffect_bio_intRep.design_matrix[r,:])\n",
    "    \n",
    "    #gpfanova.plot.plotFunctionSamples(samp,x=x[:,0])\n",
    "    \n",
    "    samp = np.dot(tensor.T,m_randomEffect_bio_intRep.design_matrix[r,:])\n",
    "    samp = samp[-1,:]\n",
    "    cov = m_randomEffect_bio_intRep.y_k.K(x)\n",
    "\n",
    "    sample = scipy.stats.multivariate_normal.rvs(samp,cov)\n",
    "\n",
    "    plt.plot(x[:,0],sample,c='r',alpha=.4)\n",
    "    \n",
    "    plt.plot(x[:,0],y[:,r],c='k',alpha=.4);\n",
    "    \n",
    "for e in range(neffect):\n",
    "    plt.subplot(neffect/4+1,4,e+1)\n",
    "    samp = m_randomEffect_bio_intRep.functionSamples(0).values + m_randomEffect_bio_intRep.functionSamples(e+1).values\n",
    "    gpfanova.plot.plotFunctionSamples(samp,x=x[:,0],c='r')\n",
    "    \n",
    "    gpfanova.plot.plotFunctionSamples(m_randomEffect_bio_intRep.functionSamples(0).values,x=x[:,0],c='k')\n",
    "    \n",
    "    if e >= 10:\n",
    "        plt.xlabel(\"time (normalized)\",fontsize=20)\n",
    "        \n",
    "    if e%4 == 0:\n",
    "        plt.ylabel(\"OD\\n(normalized)\",fontsize=20)\n",
    "        \n",
    "    plt.yticks(fontsize=15)\n",
    "    plt.xticks(fontsize=15)\n",
    "    \n",
    "    \n",
    "    plt.ylim(-2,2)\n",
    "    \n",
    "plt.tight_layout()\n",
    "\n",
    "plt.savefig(\"figures/ura3-pq-replicate/model-multipleReplicates-generative.pdf\",bbox_inches='tight',dpi=300)"
   ]
  },
  {
   "cell_type": "code",
   "execution_count": null,
   "metadata": {
    "collapsed": false
   },
   "outputs": [],
   "source": [
    "plt.figure(figsize=(20,12))\n",
    "\n",
    "tensor = np.array([m_randomEffect_bio_intRep.functionSamples(i).values.T for i in range(m_randomEffect_bio_intRep.f)])\n",
    "\n",
    "for r in range(y.shape[1]):\n",
    "    plt.subplot(neffect/3+1,5,effect.values[r,0]+1)\n",
    "    samp = np.dot(tensor.T,m_randomEffect_bio_intRep.design_matrix[r,:])\n",
    "    \n",
    "    #gpfanova.plot.plotFunctionSamples(samp,x=x[:,0])\n",
    "    \n",
    "    samp = np.dot(tensor.T,m_randomEffect_bio_intRep.design_matrix[r,:])\n",
    "    samp = samp[-1,:]\n",
    "    cov = m_randomEffect_bio_intRep.y_k.K(x)\n",
    "\n",
    "    sample = scipy.stats.multivariate_normal.rvs(samp,cov)\n",
    "\n",
    "    plt.plot(x[:,0],sample,c='r',alpha=.4)\n",
    "    \n",
    "    plt.plot(x[:,0],y[:,r],c='k',alpha=.4);\n",
    "    \n",
    "for e in range(neffect):\n",
    "    plt.subplot(neffect/3+1,5,e+1)\n",
    "    samp = m_randomEffect_bio_intRep.functionSamples(0).values + m_randomEffect_bio_intRep.functionSamples(e+1).values\n",
    "    gpfanova.plot.plotFunctionSamples(samp,x=x[:,0],c='r')\n",
    "    \n",
    "    gpfanova.plot.plotFunctionSamples(m_randomEffect_bio_intRep.functionSamples(0).values,x=x[:,0],c='k')\n",
    "    \n",
    "    if e >= 9:\n",
    "        plt.xlabel(\"time (normalized)\",fontsize=20)\n",
    "        \n",
    "    if e%5 == 0:\n",
    "        plt.ylabel(\"OD\\n(normalized)\",fontsize=20)\n",
    "        \n",
    "    plt.yticks(fontsize=15)\n",
    "    plt.xticks(fontsize=15)\n",
    "    \n",
    "    \n",
    "    plt.ylim(-2,2)\n",
    "    \n",
    "plt.tight_layout()\n",
    "\n",
    "plt.savefig(\"figures/ura3-pq-replicate/model-multipleReplicates-generative-alt.pdf\",bbox_inches='tight',dpi=300)"
   ]
  },
  {
   "cell_type": "code",
   "execution_count": null,
   "metadata": {
    "collapsed": false
   },
   "outputs": [],
   "source": [
    "plt.figure(figsize=(12,4))\n",
    "\n",
    "tensor = np.array([m_randomEffect_bio_intRep.functionSamples(i).values.T for i in range(m_randomEffect_bio_intRep.f)])\n",
    "\n",
    "effectSelect = [4,5]\n",
    "\n",
    "for r in range(y.shape[1]):\n",
    "    if not effect.values[r,0] in effectSelect:\n",
    "        continue\n",
    "    \n",
    "    plt.subplot(1,2,effectSelect.index(effect.values[r,0])+1)\n",
    "    samp = np.dot(tensor.T,m_randomEffect_bio_intRep.design_matrix[r,:])\n",
    "    \n",
    "    #gpfanova.plot.plotFunctionSamples(samp,x=x[:,0])\n",
    "    \n",
    "    samp = np.dot(tensor.T,m_randomEffect_bio_intRep.design_matrix[r,:])\n",
    "    samp = samp[-1,:]\n",
    "    cov = m_randomEffect_bio_intRep.y_k.K(x)\n",
    "\n",
    "    sample = scipy.stats.multivariate_normal.rvs(samp,cov)\n",
    "\n",
    "    plt.plot(x[:,0],sample,c='r',alpha=.4)\n",
    "    \n",
    "    plt.plot(x[:,0],y[:,r],c='k',alpha=.4);\n",
    "    \n",
    "for e in range(len(effectSelect)):\n",
    "    plt.subplot(1,2,e+1)\n",
    "    samp = m_randomEffect_bio_intRep.functionSamples(0).values + m_randomEffect_bio_intRep.functionSamples(e+1).values\n",
    "    gpfanova.plot.plotFunctionSamples(samp,x=x[:,0],c='r')\n",
    "    \n",
    "    gpfanova.plot.plotFunctionSamples(m_randomEffect_bio_intRep.functionSamples(0).values,x=x[:,0],c='purple')\n",
    "    \n",
    "    plt.xlabel(\"time (normalized)\",fontsize=20)\n",
    "        \n",
    "    if e%4 == 0:\n",
    "        plt.ylabel(\"OD\\n(normalized)\",fontsize=20)\n",
    "        \n",
    "    plt.yticks(fontsize=15)\n",
    "    plt.xticks(fontsize=15)\n",
    "    \n",
    "    \n",
    "    plt.ylim(-2,2)\n",
    "    \n",
    "plt.tight_layout()\n",
    "\n",
    "plt.savefig(\"figures/ura3-pq-replicate/model-multipleReplicates-generative-select.pdf\",bbox_inches='tight',dpi=300)"
   ]
  },
  {
   "cell_type": "code",
   "execution_count": null,
   "metadata": {
    "collapsed": false,
    "scrolled": false
   },
   "outputs": [],
   "source": [
    "plt.figure(figsize=(16,16))\n",
    "\n",
    "for e in range(neffect):\n",
    "    plt.subplot(neffect/4+1,4,e+1)\n",
    "    samp = m_randomEffect_bio_intRep.functionSamples(0).values + m_randomEffect_bio_intRep.functionSamples(e+1).values\n",
    "    gpfanova.plot.plotFunctionSamples(samp,x=x[:,0],c=cmap(1.*e/neffect))\n",
    "    plt.plot(x[:,0],y[:,effect.values[:,0]==e].mean(1),c=cmap(1.*e/neffect))\n",
    "    \n",
    "    gpfanova.plot.plotFunctionSamples(m_randomEffect_bio_intRep.functionSamples(0).values,x=x[:,0],c='k')\n",
    "    \n",
    "    plt.ylim(-2,2)"
   ]
  },
  {
   "cell_type": "code",
   "execution_count": null,
   "metadata": {
    "collapsed": false
   },
   "outputs": [],
   "source": [
    "plt.figure(figsize=(16,10))\n",
    "\n",
    "buff = 2\n",
    "for e in range(neffect):\n",
    "    samp = m_randomEffect_bio_intRep.functionSamples(0).values + m_randomEffect_bio_intRep.functionSamples(e+1).values\n",
    "    gpfanova.plot.plotFunctionSamples(samp,x=x[:,0],c=cmap(1.*(e+buff)/(neffect+2*buff)))\n",
    "    plt.plot(x[:,0],y[:,effect.values[:,0]==e].mean(1),c=cmap(1.*(e+buff)/(neffect+2*buff)))\n",
    "    \n",
    "gpfanova.plot.plotFunctionSamples(m_randomEffect_bio_intRep.functionSamples(0).values,x=x[:,0],c='k')\n",
    "    \n",
    "plt.ylim(-2,1.5)"
   ]
  },
  {
   "cell_type": "code",
   "execution_count": null,
   "metadata": {
    "collapsed": false
   },
   "outputs": [],
   "source": [
    "plt.figure(figsize=(25,10))\n",
    "\n",
    "for e in range(neffect):\n",
    "    plt.subplot(neffect/7+1,7,e+1)\n",
    "    samp = m_randomEffect_bio_intRep.functionSamples(e+1).values\n",
    "    gpfanova.plot.plotFunctionSamples(samp,x=x[:,0],c=cmap(1.*e/neffect))\n",
    "    plt.plot(x[:,0],y[:,effect.values[:,0]==e].mean(1)-m_randomEffect_bio_intRep.functionSamples(0).values.mean(0),c=cmap(1.*e/neffect))\n",
    "    \n",
    "    if e >= 7:\n",
    "        plt.xlabel(\"time (normalized)\",fontsize=20)\n",
    "        \n",
    "    if e%7 == 0:\n",
    "        plt.ylabel(\"OD\\n(normalized)\",fontsize=20)\n",
    "        \n",
    "    plt.yticks(fontsize=15)\n",
    "    plt.xticks(fontsize=15)\n",
    "    \n",
    "    plt.ylim(-1,1)\n",
    "    \n",
    "plt.tight_layout()\n",
    "plt.savefig(\"figures/ura3-pq-replicate/model-multipleReplicates-bio.pdf\",bbox_inches='tight',dpi=300)"
   ]
  },
  {
   "cell_type": "code",
   "execution_count": null,
   "metadata": {
    "collapsed": false,
    "scrolled": false
   },
   "outputs": [],
   "source": [
    "params = ['y_sigma','replicate_lengthscale','replicate_sigma','prior0_sigma','prior0_lengthscale','prior1_sigma','prior1_lengthscale']\n",
    "\n",
    "plt.figure(figsize=(len(params)*3,len(params)*3))\n",
    "for i,p in enumerate(params):\n",
    "    plt.subplot(len(params),len(params),i+1+i*len(params))\n",
    "    plt.title(p)\n",
    "    plt.plot(m_randomEffect_bio_intRep.parameter_history[p])\n",
    "    \n",
    "    for j,p2 in enumerate(params[:i]):\n",
    "        plt.subplot(len(params),len(params),i+1+i*len(params)-j-1)\n",
    "        plt.scatter(m_randomEffect_bio_intRep.parameter_history[p2],m_randomEffect_bio_intRep.parameter_history[p])"
   ]
  },
  {
   "cell_type": "code",
   "execution_count": null,
   "metadata": {
    "collapsed": false
   },
   "outputs": [],
   "source": [
    "cov = m_randomEffect_bio_intRep.kernels[1].K(m_randomEffect.x,prior1_sigma=-1)\n",
    "\n",
    "fsample = scipy.stats.multivariate_normal.rvs(np.zeros(x.shape[0]),cov,size=10)\n",
    "\n",
    "plt.plot(x[:,0],fsample.T);"
   ]
  },
  {
   "cell_type": "markdown",
   "metadata": {
    "collapsed": true
   },
   "source": [
    "## Seperate prior for each BIO "
   ]
  },
  {
   "cell_type": "code",
   "execution_count": null,
   "metadata": {
    "collapsed": false
   },
   "outputs": [],
   "source": [
    "bounds = {'prior%d_sigma'%i:(-4,-1) for i in range(dm_randomEffect_intRep.shape[1])}\n",
    "bounds.update({'prior%d_lengthscale'%i:(-1,2) for i in range(dm_randomEffect_intRep.shape[1])})\n",
    "bounds['y_sigma'] = (-4,-1)\n",
    "\n",
    "bounds"
   ]
  },
  {
   "cell_type": "code",
   "execution_count": null,
   "metadata": {
    "collapsed": false
   },
   "outputs": [],
   "source": [
    "# dm_randomEffect_intRep = np.column_stack((np.ones(y.shape[1]),\n",
    "#                                    bioMatrix,))\n",
    "\n",
    "m_randomEffect_bio_intRep_seperate = gpfanova.base.Base_withReplicate(x,y,designMatrix=dm_randomEffect_intRep,\n",
    "                                        priorGroups=[[i] for i in range(dm_randomEffect_intRep.shape[1])],\n",
    "                                        bounds=bounds,\n",
    "                                        replicateSigmaBounds=(-4,-1),\n",
    "                                        replicateLengthscaleBounds=(-1,2))"
   ]
  },
  {
   "cell_type": "code",
   "execution_count": null,
   "metadata": {
    "collapsed": true
   },
   "outputs": [],
   "source": [
    "m_randomEffect_bio_intRep_seperate.sample(300,thin=10)"
   ]
  },
  {
   "cell_type": "code",
   "execution_count": null,
   "metadata": {
    "collapsed": false
   },
   "outputs": [],
   "source": [
    "plt.figure(figsize=(16,16))\n",
    "\n",
    "for e in range(neffect):\n",
    "    plt.subplot(neffect/4+1,4,e+1)\n",
    "    samp = m_randomEffect_bio_intRep_seperate.functionSamples(e+1).values\n",
    "    gpfanova.plot.plotFunctionSamples(samp,x=x[:,0],c=cmap(1.*e/neffect))\n",
    "    plt.plot(x[:,0],y[:,effect.values[:,0]==e].mean(1)-m_randomEffect_bio_intRep_seperate.functionSamples(0).values.mean(0),c=cmap(1.*e/neffect))\n",
    "    \n",
    "    plt.ylim(-1,1)"
   ]
  },
  {
   "cell_type": "code",
   "execution_count": null,
   "metadata": {
    "collapsed": false
   },
   "outputs": [],
   "source": [
    "params = bounds.keys()\n",
    "params.sort()\n",
    "\n",
    "plt.figure(figsize=(len(params)*3,len(params)*3))\n",
    "for i,p in enumerate(params):\n",
    "    plt.subplot(len(params),len(params),i+1+i*len(params))\n",
    "    plt.title(p)\n",
    "    plt.plot(m_randomEffect_bio_intRep_seperate.parameter_history[p])\n",
    "    \n",
    "    for j,p2 in enumerate(params[:i]):\n",
    "        plt.subplot(len(params),len(params),i+1+i*len(params)-j-1)\n",
    "        plt.scatter(m_randomEffect_bio_intRep_seperate.parameter_history[p2],m_randomEffect_bio_intRep_seperate.parameter_history[p])"
   ]
  },
  {
   "cell_type": "code",
   "execution_count": null,
   "metadata": {
    "collapsed": false
   },
   "outputs": [],
   "source": [
    "for i in range(dm_randomEffect_intRep.shape[1]):\n",
    "    plt.hist(m_randomEffect_bio_intRep_seperate.parameter_history['prior%d_sigma'%i],alpha=.6)"
   ]
  },
  {
   "cell_type": "code",
   "execution_count": null,
   "metadata": {
    "collapsed": false
   },
   "outputs": [],
   "source": [
    "plt.figure(figsize=(4,4))\n",
    "\n",
    "k = m_randomEffect.kernels[1].K(x)\n",
    "plt.plot(x-x[x.shape[0]/2,0],k[x.shape[0]/2,:]/k.max())\n",
    "\n",
    "plt.ylabel(\"covariance\",fontsize=20)\n",
    "plt.xlabel(\"$x-x'$\",fontsize=20)\n",
    "plt.xticks(fontsize=15)\n",
    "plt.yticks(fontsize=15)\n",
    "\n",
    "plt.ylim(-.01,1.05)\n",
    "plt.xlim(-.5,.5)\n",
    "\n",
    "plt.savefig(\"figures/ura3-pq-replicate/example-kernel.png\",bbox_inches='tight',dpi=300)"
   ]
  },
  {
   "cell_type": "code",
   "execution_count": null,
   "metadata": {
    "collapsed": false
   },
   "outputs": [],
   "source": [
    "plt.figure(figsize=(6,4))\n",
    "\n",
    "k = m_randomEffect.kernels[1].K(x)\n",
    "plt.imshow(k/k.max(),cmap='magma',interpolation='none',aspect='auto')\n",
    "\n",
    "# plt.ylabel(\"covariance\",fontsize=20)\n",
    "plt.xlabel(\"$x$\",fontsize=20)\n",
    "plt.ylabel(\"$x'$\",fontsize=20)\n",
    "plt.xticks(np.arange(x.shape[0]/5,x.shape[0],x.shape[0]/5),[z.round(1)[0] for z in x[x.shape[0]/5::x.shape[0]/5]],fontsize=15)\n",
    "plt.yticks(np.arange(x.shape[0]/5,x.shape[0],x.shape[0]/5),[z.round(1)[0] for z in x[x.shape[0]/5::x.shape[0]/5]],fontsize=15)\n",
    "# plt.yticks([])\n",
    "\n",
    "# plt.ylim(-.01,1.05)\n",
    "# plt.xlim(-.5,.5)\n",
    "\n",
    "plt.colorbar()\n",
    "\n",
    "plt.savefig(\"figures/ura3-pq-replicate/example-kernel-full.png\",bbox_inches='tight',dpi=300)"
   ]
  },
  {
   "cell_type": "code",
   "execution_count": null,
   "metadata": {
    "collapsed": false
   },
   "outputs": [],
   "source": [
    "fsample = scipy.stats.multivariate_normal.rvs(np.zeros(x.shape[0]),k)\n",
    "ysample = scipy.stats.multivariate_normal.rvs(fsample,m_randomEffect.y_k.K(x)*1.3,size=3)\n",
    "\n",
    "plt.figure(figsize=(10,4))\n",
    "\n",
    "plt.plot(x[:,0],ysample[0,:].T,'r',alpha=.6,label='data')\n",
    "plt.plot(x[:,0],ysample.T,'r',alpha=.6)\n",
    "plt.plot(x[:,0],fsample,'k',lw=3,label='function')\n",
    "\n",
    "plt.xlabel(\"$x$\",fontsize=20)\n",
    "plt.xticks(np.arange(.2,1,.2),fontsize=15)\n",
    "plt.yticks(fontsize=15)\n",
    "\n",
    "plt.legend(loc='best',fontsize=20)\n",
    "\n",
    "plt.savefig(\"figures/ura3-pq-replicate/example-data.png\",bbox_inches='tight',dpi=300)"
   ]
  },
  {
   "cell_type": "code",
   "execution_count": null,
   "metadata": {
    "collapsed": false
   },
   "outputs": [],
   "source": [
    "k = m_randomEffect.kernels[1].K(x,prior1_lengthscale=-.5)\n",
    "\n",
    "fsample = scipy.stats.multivariate_normal.rvs(np.zeros(x.shape[0]),k,size=3)\n",
    "\n",
    "dm = np.zeros((6,3))\n",
    "dm[:,0] = 1\n",
    "dm[:3,1] = 1\n",
    "dm[3:,2] = 1\n",
    "\n",
    "mu = np.dot(dm,fsample)\n",
    "ysample = np.array([scipy.stats.multivariate_normal.rvs(mu[i,:],m_randomEffect.y_k.K(x)*1.3) for i in range(mu.shape[0])]).T\n",
    "\n",
    "plt.figure(figsize=(10,4))\n",
    "\n",
    "# plt.plot(x[:,0],fsample.T,'k',lw=3,label='function')\n",
    "\n",
    "plt.subplot(132)\n",
    "plt.plot(x[:,0],fsample[0,:],'k',lw=3,label='function')\n",
    "\n",
    "plt.xlabel(\"$x$\",fontsize=20)\n",
    "plt.xticks(np.arange(.2,1,.2),fontsize=15)\n",
    "plt.yticks(fontsize=15)\n",
    "plt.ylim(ysample.min(),ysample.max())\n",
    "\n",
    "plt.subplot(131)\n",
    "plt.plot(x[:,0],fsample[1,:],'b',lw=3,label='function')\n",
    "\n",
    "plt.xlabel(\"$x$\",fontsize=20)\n",
    "plt.xticks(np.arange(.2,1,.2),fontsize=15)\n",
    "plt.yticks(fontsize=15)\n",
    "plt.ylim(ysample.min(),ysample.max())\n",
    "\n",
    "plt.subplot(133)\n",
    "plt.plot(x[:,0],fsample[2,:],'g',lw=3,label='function')\n",
    "\n",
    "plt.xlabel(\"$x$\",fontsize=20)\n",
    "plt.xticks(np.arange(.2,1,.2),fontsize=15)\n",
    "plt.yticks(fontsize=15)\n",
    "plt.ylim(ysample.min(),ysample.max())\n",
    "\n",
    "plt.tight_layout()\n",
    "\n",
    "plt.savefig(\"figures/ura3-pq-replicate/example-multiple-functions.png\",bbox_inches='tight',dpi=300)\n",
    "\n",
    "plt.figure(figsize=(10,4))\n",
    "\n",
    "plt.subplot(121)\n",
    "\n",
    "plt.plot(x[:,0],ysample[:,:3],'k',alpha=.3)\n",
    "plt.plot(x[:,0],fsample[:2,:].sum(0),'purple',alpha=1,lw=3)\n",
    "plt.plot(x[:,0],fsample[0,:],'k',alpha=1,lw=3)\n",
    "plt.plot(x[:,0],fsample[1,:],'b',alpha=1,lw=3)\n",
    "plt.xlabel(\"$x$\",fontsize=20)\n",
    "plt.xticks(np.arange(.2,1,.2),fontsize=15)\n",
    "plt.yticks(fontsize=15)\n",
    "plt.ylim(ysample.min(),ysample.max())\n",
    "\n",
    "plt.subplot(122)\n",
    "\n",
    "plt.plot(x[:,0],ysample[:,3:],'k',alpha=.3)\n",
    "plt.plot(x[:,0],fsample[[0,2],:].sum(0),'purple',alpha=1,lw=3)\n",
    "plt.plot(x[:,0],fsample[0,:],'k',alpha=1,lw=3)\n",
    "plt.plot(x[:,0],fsample[2,:],'g',alpha=1,lw=3)\n",
    "\n",
    "plt.xlabel(\"$x$\",fontsize=20)\n",
    "plt.xticks(np.arange(.2,1,.2),fontsize=15)\n",
    "plt.yticks(fontsize=15)\n",
    "\n",
    "plt.ylim(ysample.min(),ysample.max())\n",
    "\n",
    "\n",
    "plt.savefig(\"figures/ura3-pq-replicate/example-multiple-data.png\",bbox_inches='tight',dpi=300)"
   ]
  },
  {
   "cell_type": "code",
   "execution_count": null,
   "metadata": {
    "collapsed": false
   },
   "outputs": [],
   "source": [
    "x.shape"
   ]
  },
  {
   "cell_type": "code",
   "execution_count": null,
   "metadata": {
    "collapsed": true
   },
   "outputs": [],
   "source": []
  }
 ],
 "metadata": {
  "kernelspec": {
   "display_name": "Python 2",
   "language": "python",
   "name": "python2"
  },
  "language_info": {
   "codemirror_mode": {
    "name": "ipython",
    "version": 2
   },
   "file_extension": ".py",
   "mimetype": "text/x-python",
   "name": "python",
   "nbconvert_exporter": "python",
   "pygments_lexer": "ipython2",
   "version": "2.7.6"
  }
 },
 "nbformat": 4,
 "nbformat_minor": 1
}