{
 "cells": [
  {
   "cell_type": "code",
   "execution_count": null,
   "metadata": {
    "collapsed": true
   },
   "outputs": [],
   "source": [
    "import gpmultipy, scipy, string\n",
    "import numpy as np\n",
    "import matplotlib.pyplot as plt"
   ]
  },
  {
   "cell_type": "code",
   "execution_count": null,
   "metadata": {
    "collapsed": true
   },
   "outputs": [],
   "source": [
    "from gpmultipy import dataset"
   ]
  },
  {
   "cell_type": "code",
   "execution_count": null,
   "metadata": {
    "collapsed": true
   },
   "outputs": [],
   "source": [
    "import GPy"
   ]
  },
  {
   "cell_type": "code",
   "execution_count": null,
   "metadata": {
    "collapsed": false
   },
   "outputs": [],
   "source": [
    "%pylab"
   ]
  },
  {
   "cell_type": "code",
   "execution_count": null,
   "metadata": {
    "collapsed": true
   },
   "outputs": [],
   "source": [
    "%matplotlib inline"
   ]
  },
  {
   "cell_type": "code",
   "execution_count": null,
   "metadata": {
    "collapsed": true
   },
   "outputs": [],
   "source": [
    "def wellPosition(number):\n",
    "    number = int(number)\n",
    "    if number > 100:\n",
    "        return wellPosition(number%100)\n",
    "    if number == 0:\n",
    "        return 9,9\n",
    "    return [(number-1) % 10, (number-1)/10]"
   ]
  },
  {
   "cell_type": "code",
   "execution_count": null,
   "metadata": {
    "collapsed": false
   },
   "outputs": [],
   "source": [
    "ds = dataset.DataSet('data/')\n",
    "# x,y,effect,labels = ds.build(Strain='ura3',mM_PQ=0.0,scale='range',Bio='F',effects=['Well'])\n",
    "x,y,effect,labels = ds.build(Strain='ura3',mM_PQ=0.0,scale='range',effects=['Well'])\n",
    "y = np.log2(y)\n",
    "\n",
    "x = x[6:,:]\n",
    "y = y[6:,:]\n",
    "\n",
    "x = x[::10,:]\n",
    "y = y[::10,:]"
   ]
  },
  {
   "cell_type": "code",
   "execution_count": null,
   "metadata": {
    "collapsed": true
   },
   "outputs": [],
   "source": [
    "position = np.array(map(wellPosition,labels[0]))\n",
    "dist = np.column_stack((position.min(1),(9-position).min(1))).min(1)"
   ]
  },
  {
   "cell_type": "code",
   "execution_count": null,
   "metadata": {
    "collapsed": false
   },
   "outputs": [],
   "source": [
    "select = dist != 0\n",
    "y = y[:,select]\n",
    "y = (y-y.mean())/y.std()"
   ]
  },
  {
   "cell_type": "code",
   "execution_count": null,
   "metadata": {
    "collapsed": false
   },
   "outputs": [],
   "source": [
    "import scipy.interpolate\n",
    "\n",
    "splines = [scipy.interpolate.splrep(x[:,0],y[:,i],s=0.1) for i in range(y.shape[1])]\n",
    "dsplines = [scipy.interpolate.splder(spl) for spl in splines]"
   ]
  },
  {
   "cell_type": "code",
   "execution_count": null,
   "metadata": {
    "collapsed": false
   },
   "outputs": [],
   "source": [
    "[plt.plot(scipy.interpolate.splev(x[:,0], spl,der=0)) for spl in splines];\n",
    "\n",
    "mu = np.mean([scipy.interpolate.splev(x[:,0], spl,der=0) for spl in splines], 0)\n",
    "plt.plot(mu, c='k', lw=3)"
   ]
  },
  {
   "cell_type": "code",
   "execution_count": null,
   "metadata": {
    "collapsed": false,
    "scrolled": true
   },
   "outputs": [],
   "source": [
    "[plt.plot(scipy.interpolate.splev(x[:,0], dspl,der=0)) for dspl in dsplines];\n",
    "dmu = np.mean([scipy.interpolate.splev(x[:,0], spl,der=1) for spl in splines], 0)"
   ]
  },
  {
   "cell_type": "code",
   "execution_count": null,
   "metadata": {
    "collapsed": false
   },
   "outputs": [],
   "source": [
    "[plt.plot(scipy.interpolate.splev(x[:,0], spl,der=0) - mu) for spl in splines];"
   ]
  },
  {
   "cell_type": "code",
   "execution_count": null,
   "metadata": {
    "collapsed": false
   },
   "outputs": [],
   "source": [
    "[plt.plot(scipy.interpolate.splev(x[:,0], dspl,der=0) - dmu) for dspl in dsplines];"
   ]
  },
  {
   "cell_type": "code",
   "execution_count": null,
   "metadata": {
    "collapsed": false
   },
   "outputs": [],
   "source": [
    "plt.figure(figsize=(10,6))\n",
    "\n",
    "plt.subplot(221)\n",
    "[plt.plot(scipy.interpolate.splev(x[:,0], spl,der=0)) for spl in splines];\n",
    "mu = np.mean([scipy.interpolate.splev(x[:,0], spl,der=0) for spl in splines], 0)\n",
    "plt.plot(mu, c='k', lw=3)\n",
    "plt.title('growth splines: $f_i(x)$')\n",
    "\n",
    "plt.subplot(222)\n",
    "[plt.plot(scipy.interpolate.splev(x[:,0], dspl,der=0)) for dspl in dsplines];\n",
    "dmu = np.mean([scipy.interpolate.splev(x[:,0], spl,der=1) for spl in splines], 0)\n",
    "plt.plot(dmu, c='k', lw=3)\n",
    "plt.title('growth-rate splines: $\\partial f_i(x)/\\partial x$')\n",
    "\n",
    "plt.subplot(223)\n",
    "[plt.plot(scipy.interpolate.splev(x[:,0], spl,der=0) - mu, alpha=.4) for spl in splines];\n",
    "plt.title('$f_i(x) - \\mu(x)$')\n",
    "\n",
    "plt.subplot(224)\n",
    "[plt.plot(scipy.interpolate.splev(x[:,0], dspl,der=0) - dmu, alpha=.4) for dspl in dsplines];\n",
    "plt.title('$\\partial f_i(x) / \\partial x - \\partial\\mu(x)/\\partial x$')\n",
    "\n",
    "plt.tight_layout()\n",
    "plt.savefig('figures/spline-hsal.pdf')"
   ]
  },
  {
   "cell_type": "code",
   "execution_count": null,
   "metadata": {
    "collapsed": false,
    "scrolled": false
   },
   "outputs": [],
   "source": [
    "plt.figure(figsize=(5*4, 4.*len(splines)/5))\n",
    "\n",
    "mu = np.mean([scipy.interpolate.splev(x[:,0], spl,der=0) for spl in splines], 0)\n",
    "dmu = np.mean([scipy.interpolate.splev(x[:,0], spl,der=1) for spl in splines], 0)\n",
    "\n",
    "for i, spl in enumerate(splines):\n",
    "    \n",
    "    plt.subplot(len(splines)/5+1, 5, i+1)\n",
    "    plt.plot(scipy.interpolate.splev(x[:,0], spl,der=0))\n",
    "    plt.plot(mu, c='k', lw=3)\n",
    "    plt.twinx()\n",
    "    plt.plot(scipy.interpolate.splev(x[:,0], spl,der=1))\n",
    "    plt.plot(dmu, c='k', lw=3)"
   ]
  },
  {
   "cell_type": "code",
   "execution_count": null,
   "metadata": {
    "collapsed": false,
    "scrolled": false
   },
   "outputs": [],
   "source": [
    "plt.figure(figsize=(5*4, 4.*len(splines)/5))\n",
    "\n",
    "mu = np.mean([scipy.interpolate.splev(x[:,0], spl,der=0) for spl in splines], 0)\n",
    "dmu = np.mean([scipy.interpolate.splev(x[:,0], spl,der=1) for spl in splines], 0)\n",
    "\n",
    "for i, spl in enumerate(splines):\n",
    "    \n",
    "    plt.subplot(len(splines)/5+1, 5, i+1)\n",
    "    plt.plot(scipy.interpolate.splev(x[:,0], spl,der=0) - mu)\n",
    "    plt.plot([0, 12], [0,0], c='k', lw=2)\n",
    "    plt.twinx()\n",
    "    plt.plot(scipy.interpolate.splev(x[:,0], spl,der=1) - dmu, c='r')\n",
    "    plt.plot([0, 12], [0,0], c='gray', lw=2)\n",
    "    \n",
    "plt.tight_layout()"
   ]
  },
  {
   "cell_type": "code",
   "execution_count": null,
   "metadata": {
    "collapsed": true
   },
   "outputs": [],
   "source": [
    "# y = y-y.mean(0)"
   ]
  },
  {
   "cell_type": "code",
   "execution_count": null,
   "metadata": {
    "collapsed": false
   },
   "outputs": [],
   "source": [
    "plt.plot(x,y,c='k',alpha=.4); plt.plot(x,y.mean(1),c='r',lw=3);\n",
    "plt.xlabel(\"time (normalized)\",fontsize=25)\n",
    "plt.ylabel(\"OD (normalized)\",fontsize=25)\n",
    "plt.xticks(fontsize=20)\n",
    "plt.yticks(fontsize=20)"
   ]
  },
  {
   "cell_type": "code",
   "execution_count": null,
   "metadata": {
    "collapsed": false
   },
   "outputs": [],
   "source": [
    "plt.figure(figsize=(6,4))\n",
    "\n",
    "plt.plot(x,y-y.mean(1)[:,None],c='k',alpha=.4)\n",
    "\n",
    "plt.xlabel(\"time (normalized)\",fontsize=25)\n",
    "plt.ylabel(\"OD (normalized)\",fontsize=25)\n",
    "plt.xticks(fontsize=20)\n",
    "plt.yticks(fontsize=20)"
   ]
  },
  {
   "cell_type": "code",
   "execution_count": null,
   "metadata": {
    "collapsed": false
   },
   "outputs": [],
   "source": [
    "xgp = np.zeros((y.shape[0]*y.shape[1], 2))\n",
    "xgp[:,0] = np.tile(x[:,0], y.shape[1])\n",
    "xgp[:,1] = np.repeat(range(y.shape[1]), y.shape[0])\n",
    "\n",
    "ygp = y.T.reshape((y.shape[0]*y.shape[1],1))\n",
    "\n",
    "plt.scatter(xgp[:,0], ygp)"
   ]
  },
  {
   "cell_type": "code",
   "execution_count": null,
   "metadata": {
    "collapsed": false
   },
   "outputs": [],
   "source": [
    "xgp.shape"
   ]
  },
  {
   "cell_type": "code",
   "execution_count": null,
   "metadata": {
    "collapsed": false
   },
   "outputs": [],
   "source": [
    "m0 = GPy.models.GPRegression(xgp, ygp, GPy.kern.RBF(1))\n",
    "m0.randomize()\n",
    "m0.optimize()\n",
    "m0"
   ]
  },
  {
   "cell_type": "code",
   "execution_count": null,
   "metadata": {
    "collapsed": false
   },
   "outputs": [],
   "source": [
    "m0.plot(fixed_inputs=[(1,0)])"
   ]
  },
  {
   "cell_type": "code",
   "execution_count": null,
   "metadata": {
    "collapsed": false
   },
   "outputs": [],
   "source": [
    "mu, cov = m0.predict(xgp, full_cov=True)\n",
    "\n",
    "s = scipy.stats.multivariate_normal.rvs(mu[:,0],cov).reshape(y.shape[1],y.shape[0]).T\n",
    "\n",
    "plt.figure(figsize=(6,6))\n",
    "plt.subplot(221)\n",
    "plt.plot(y);\n",
    "\n",
    "plt.subplot(222)\n",
    "plt.plot(s);\n",
    "\n",
    "plt.subplot(223)\n",
    "plt.plot(x,y-y.mean(1)[:,None],c='k',alpha=.4)\n",
    "\n",
    "plt.subplot(224)\n",
    "plt.plot(x,s-s.mean(1)[:,None],c='k',alpha=.4);"
   ]
  },
  {
   "cell_type": "code",
   "execution_count": null,
   "metadata": {
    "collapsed": false
   },
   "outputs": [],
   "source": [
    "mu, var = m0.predict_noiseless(xgp[:y.shape[0],:], full_cov=False)\n",
    "mu = mu[:,0]\n",
    "std = np.sqrt(var[:,0])\n",
    "\n",
    "plt.plot(xgp[:y.shape[0],0],mu)\n",
    "plt.fill_between(xgp[:y.shape[0],0],mu-1.96*std,mu+1.96*std,alpha=.5)"
   ]
  },
  {
   "cell_type": "code",
   "execution_count": null,
   "metadata": {
    "collapsed": false
   },
   "outputs": [],
   "source": [
    "# kern = GPy.kern.Hierarchical([GPy.kern.Matern32(1), GPy.kern.RBF(1)])\n",
    "kern = GPy.kern.Hierarchical([GPy.kern.RBF(1,name='base'), GPy.kern.Matern32(1,name='replicate')])\n",
    "# kern = GPy.kern.Hierarchical([GPy.kern.RBF(1), GPy.kern.RBF(1)])\n",
    "\n",
    "m1 = GPy.models.GPRegression(xgp, ygp, kern)\n",
    "m1.randomize()\n",
    "m1.optimize()\n",
    "m1"
   ]
  },
  {
   "cell_type": "code",
   "execution_count": null,
   "metadata": {
    "collapsed": false
   },
   "outputs": [],
   "source": [
    "xpred = xgp.copy()\n",
    "xpred[:,1] += xpred[:,1].max() + 1\n",
    "\n",
    "mu, cov = m1.predict(xpred, full_cov=True)\n",
    "\n",
    "ylim = (y-y.mean(1)[:,None]).min(), (y-y.mean(1)[:,None]).max()\n",
    "\n",
    "plt.figure(figsize=(8,8))\n",
    "plt.subplot(2,2,1)\n",
    "plt.plot(y);\n",
    "plt.title(\"original data\")\n",
    "\n",
    "\n",
    "s = scipy.stats.multivariate_normal.rvs(mu[:,0],cov).reshape(y.shape[1],y.shape[0]).T\n",
    "plt.subplot(2, 2, 2)\n",
    "plt.plot(s);\n",
    "plt.title(\"resample\")\n",
    "\n",
    "plt.subplot(2, 2, 4)\n",
    "plt.plot(x,s-s.mean(1)[:,None],c='k',alpha=.4)\n",
    "plt.ylim(ylim)\n",
    "\n",
    "plt.subplot(2, 2,3)\n",
    "plt.plot(x,y-y.mean(1)[:,None],c='k',alpha=.4);\n",
    "\n",
    "plt.savefig(\"figures/m1-resample.pdf\",bbox_inches='tight')"
   ]
  },
  {
   "cell_type": "code",
   "execution_count": null,
   "metadata": {
    "collapsed": false
   },
   "outputs": [],
   "source": [
    "xpred = xgp.copy()\n",
    "xpred[:,1] += xpred[:,1].max() + 1\n",
    "\n",
    "mu, cov = m1.predict(xpred, full_cov=True)\n",
    "\n",
    "ylim = (y-y.mean(1)[:,None]).min(), (y-y.mean(1)[:,None]).max()\n",
    "\n",
    "resamp = 5\n",
    "\n",
    "plt.figure(figsize=(3+3*resamp,6))\n",
    "plt.subplot(2,1+resamp,1)\n",
    "plt.plot(y);\n",
    "plt.title(\"original data\")\n",
    "\n",
    "for i in range(resamp):\n",
    "    plt.title(\"resample %d\"%(i+1))\n",
    "    s = scipy.stats.multivariate_normal.rvs(mu[:,0],cov).reshape(y.shape[1],y.shape[0]).T\n",
    "    plt.subplot(2, 1+resamp,2+i)\n",
    "    plt.plot(s);\n",
    "    \n",
    "    plt.subplot(2, 1+resamp,2+resamp+1+i)\n",
    "    plt.plot(x,s-s.mean(1)[:,None],c='k',alpha=.4)\n",
    "    plt.ylim(ylim)\n",
    "\n",
    "plt.subplot(2, 1+resamp, resamp+2)\n",
    "plt.plot(x,y-y.mean(1)[:,None],c='k',alpha=.4);\n",
    "\n",
    "plt.savefig(\"figures/m1-resample-%d.pdf\"%resamp,bbox_inches='tight')"
   ]
  },
  {
   "cell_type": "code",
   "execution_count": null,
   "metadata": {
    "collapsed": true
   },
   "outputs": [],
   "source": [
    "mu, var = m0.predict_noiseless(xgp[:y.shape[0],:], full_cov=False)\n",
    "mu = mu[:,0]\n",
    "std = np.sqrt(var[:,0])\n"
   ]
  },
  {
   "cell_type": "code",
   "execution_count": null,
   "metadata": {
    "collapsed": true
   },
   "outputs": [],
   "source": [
    "def autocorr(x, t=1):\n",
    "    return numpy.corrcoef(numpy.array([x[0:len(x)-t], x[t:len(x)]]))[0,1]"
   ]
  },
  {
   "cell_type": "code",
   "execution_count": null,
   "metadata": {
    "collapsed": false
   },
   "outputs": [],
   "source": [
    "xpred = xgp.copy()\n",
    "xpred[:,1] += xpred[:,1].max() + 1\n",
    "\n",
    "ylim = (y-y.mean(1)[:,None]).min(), (y-y.mean(1)[:,None]).max()\n",
    "\n",
    "plt.figure(figsize=(9,4))\n",
    "plt.subplot(3,3,1)\n",
    "plt.plot(x,y,c='k',alpha=.2);\n",
    "plt.title(\"original data\")\n",
    "\n",
    "plt.subplot(3, 3, 2)\n",
    "mu, cov = m0.predict(xpred, full_cov=True)\n",
    "s = scipy.stats.multivariate_normal.rvs(mu[:,0],cov).reshape(y.shape[1],y.shape[0]).T\n",
    "plt.plot(x,s,c='k',alpha=.2);\n",
    "plt.title(\"$M_0$\")\n",
    "\n",
    "plt.subplot(3, 3, 5)\n",
    "plt.plot(x,s-s.mean(1)[:,None],c='k',alpha=.2)\n",
    "plt.ylim(ylim)\n",
    "\n",
    "plt.subplot(3,3,8)\n",
    "cor = np.apply_along_axis(lambda x: [autocorr(x-s.mean(1), z) for z in range(1, s.shape[0]-2)], 0, s)\n",
    "plt.boxplot(cor.T)\n",
    "plt.xticks([])\n",
    "\n",
    "plt.subplot(3, 3, 3)\n",
    "mu, cov = m1.predict(xpred, full_cov=True)\n",
    "s = scipy.stats.multivariate_normal.rvs(mu[:,0],cov).reshape(y.shape[1],y.shape[0]).T\n",
    "plt.plot(x,s,c='k',alpha=.2);\n",
    "plt.title(\"$M_1$\")\n",
    "\n",
    "plt.subplot(3, 3, 6)\n",
    "plt.plot(x,s-s.mean(1)[:,None],c='k',alpha=.2)\n",
    "plt.ylim(ylim)\n",
    "\n",
    "plt.subplot(3,3,9)\n",
    "cor = np.apply_along_axis(lambda x: [autocorr(x-s.mean(1), z) for z in range(1, s.shape[0]-2)], 0, s)\n",
    "plt.boxplot(cor.T)\n",
    "plt.xticks([])\n",
    "\n",
    "plt.subplot(3, 3,4)\n",
    "plt.plot(x,y-y.mean(1)[:,None],c='k',alpha=.2);\n",
    "\n",
    "plt.subplot(3,3,7)\n",
    "cor = np.apply_along_axis(lambda x: [autocorr(x-y.mean(1), z) for z in range(1, y.shape[0]-2)], 0, y)\n",
    "plt.boxplot(cor.T)\n",
    "plt.xticks([])\n",
    "\n",
    "plt.tight_layout()\n",
    "plt.savefig(\"figures/mAll.pdf\",bbox_inches='tight')"
   ]
  },
  {
   "cell_type": "code",
   "execution_count": null,
   "metadata": {
    "collapsed": true
   },
   "outputs": [],
   "source": [
    "mu, cov = m1.predict(xpred, full_cov=True)\n",
    "s = scipy.stats.multivariate_normal.rvs(mu[:,0],cov).reshape(y.shape[1],y.shape[0]).T\n",
    "cor = np.apply_along_axis(lambda x: [autocorr(x-s.mean(1), z) for z in range(1, s.shape[0]-2)], 0, s)"
   ]
  },
  {
   "cell_type": "code",
   "execution_count": null,
   "metadata": {
    "collapsed": false
   },
   "outputs": [],
   "source": [
    "i,lag = 0, 1\n",
    "\n",
    "plt.boxplot(cor.T)\n",
    "plt.plot(range(1, x.shape[0]-1),[cov[i,i+lag]/np.product(np.sqrt(cov.diagonal()[[i,i+lag]])) for lag in range(2,x.shape[0]-i)])"
   ]
  },
  {
   "cell_type": "code",
   "execution_count": null,
   "metadata": {
    "collapsed": true
   },
   "outputs": [],
   "source": [
    "xpred = xgp.copy()\n",
    "xpred[:,1] += xpred[:,1].max() + 1\n",
    "\n",
    "ylim = (y-y.mean(1)[:,None]).min(), (y-y.mean(1)[:,None]).max()\n",
    "\n",
    "plt.figure(figsize=(9,9))\n",
    "plt.subplot(2,3,1)\n",
    "plt.plot(x,y,c='k',alpha=.2);\n",
    "plt.title(\"original data\")\n",
    "\n",
    "plt.subplot(2, 3, 2)\n",
    "mu, cov = m0.predict(xpred, full_cov=True)\n",
    "s = scipy.stats.multivariate_normal.rvs(mu[:,0],cov).reshape(y.shape[1],y.shape[0]).T\n",
    "plt.plot(x,s,c='k',alpha=.2);\n",
    "plt.title(\"m0\")\n",
    "\n",
    "plt.subplot(2, 3, 5)\n",
    "plt.plot(x,s-s.mean(1)[:,None],c='k',alpha=.2)\n",
    "plt.ylim(ylim)\n",
    "\n",
    "plt.subplot(2, 3, 3)\n",
    "mu, cov = m1.predict(xpred, full_cov=True)\n",
    "s = scipy.stats.multivariate_normal.rvs(mu[:,0],cov).reshape(y.shape[1],y.shape[0]).T\n",
    "plt.plot(x,s,c='k',alpha=.2);\n",
    "plt.title(\"m1\")\n",
    "\n",
    "plt.subplot(2, 3, 6)\n",
    "plt.plot(x,s-s.mean(1)[:,None],c='k',alpha=.2)\n",
    "plt.ylim(ylim)\n",
    "\n",
    "plt.subplot(2, 3,4)\n",
    "plt.plot(x,y-y.mean(1)[:,None],c='k',alpha=.2);\n",
    "\n",
    "plt.savefig(\"figures/mAll-resample.pdf\",bbox_inches='tight')"
   ]
  },
  {
   "cell_type": "code",
   "execution_count": null,
   "metadata": {
    "collapsed": false
   },
   "outputs": [],
   "source": [
    "mu, cov = m1.predict(xgp, full_cov=True)\n",
    "\n",
    "s = scipy.stats.multivariate_normal.rvs(mu[:,0],cov).reshape(y.shape[1],y.shape[0]).T\n",
    "\n",
    "plt.subplot(121)\n",
    "plt.plot(y);\n",
    "\n",
    "plt.subplot(122)\n",
    "plt.plot(s);"
   ]
  },
  {
   "cell_type": "code",
   "execution_count": null,
   "metadata": {
    "collapsed": false,
    "scrolled": false
   },
   "outputs": [],
   "source": [
    "m1.plot(fixed_inputs=[(1,-1)],which_data_rows=[])\n",
    "\n",
    "m1.plot_f(fixed_inputs=[(1,-1)])"
   ]
  },
  {
   "cell_type": "code",
   "execution_count": null,
   "metadata": {
    "collapsed": false
   },
   "outputs": [],
   "source": [
    "xpred = np.zeros((50,2))\n",
    "xpred[:,0] = np.linspace(xgp[:,0].min(), xgp[:,0].max())\n",
    "\n",
    "plt.figure(figsize=(10,10))\n",
    "\n",
    "mu, var = m0.predict_noiseless(xpred, full_cov=False)\n",
    "mu = mu[:,0]\n",
    "std = np.sqrt(var[:,0])\n",
    "\n",
    "plt.plot(xpred[:,0],mu)\n",
    "plt.fill_between(xpred[:,0],mu-1.96*std,mu+1.96*std,alpha=.5)\n",
    "\n",
    "mu, var = m1.predict_noiseless(xpred, full_cov=False, kern=m1.kern.base)\n",
    "mu = mu[:,0]\n",
    "std = np.sqrt(var[:,0])\n",
    "\n",
    "plt.plot(xpred[:,0],mu)\n",
    "plt.fill_between(xpred[:,0],mu-1.96*std,mu+1.96*std,alpha=.5)"
   ]
  },
  {
   "cell_type": "code",
   "execution_count": null,
   "metadata": {
    "collapsed": false
   },
   "outputs": [],
   "source": [
    "plt.bar(range(2), [m0.log_likelihood(), m1.log_likelihood()])\n",
    "plt.xticks(range(2),['M0', 'M1'])\n",
    "plt.title(\"log-likelihood\",fontsize=20)\n",
    "\n",
    "plt.savefig('figures/hsal-loglikelihood.pdf', bbox_inches='tight')"
   ]
  },
  {
   "cell_type": "code",
   "execution_count": null,
   "metadata": {
    "collapsed": false
   },
   "outputs": [],
   "source": [
    "xpred = np.zeros((50,2))\n",
    "xpred[:,0] = np.linspace(xgp[:,0].min(), xgp[:,0].max())\n",
    "\n",
    "plt.figure(figsize=(10,10))\n",
    "\n",
    "mu, var0 = m0.predict_noiseless(xpred, full_cov=False)\n",
    "mu = mu[:,0]\n",
    "std0 = np.sqrt(var0[:,0])\n",
    "\n",
    "mu, var1 = m1.predict_noiseless(xpred, full_cov=False, kern=m1.kern.base)\n",
    "mu = mu[:,0]\n",
    "std1 = np.sqrt(var1[:,0])\n",
    "\n",
    "plt.boxplot([1.98*std0, 1.98*std1]);\n",
    "# plt.semilogy()\n",
    "plt.semilogy(basey=2)\n",
    "plt.yticks([2.**(-i) for i in range(4,7)])"
   ]
  },
  {
   "cell_type": "code",
   "execution_count": null,
   "metadata": {
    "collapsed": false
   },
   "outputs": [],
   "source": [
    "xpred = np.zeros((50,2))\n",
    "xpred[:,0] = np.linspace(xgp[:,0].min(), xgp[:,0].max())\n",
    "\n",
    "mu1, var1 = m0.predict_noiseless(xpred, full_cov=False)\n",
    "mu1 = mu1[:,0]\n",
    "\n",
    "mu2, var2 = m1.predict_noiseless(xpred, full_cov=False, kern=m1.kern.base)\n",
    "mu2 = mu2[:,0]\n",
    "\n",
    "# plt.plot(var1)\n",
    "# plt.plot(var2)\n",
    "plt.plot(var1/var2)"
   ]
  },
  {
   "cell_type": "code",
   "execution_count": null,
   "metadata": {
    "collapsed": false
   },
   "outputs": [],
   "source": []
  },
  {
   "cell_type": "code",
   "execution_count": null,
   "metadata": {
    "collapsed": false
   },
   "outputs": [],
   "source": [
    "m0.kern.variance, m1.kern.base.variance, m0.likelihood.variance, m1.likelihood.variance"
   ]
  },
  {
   "cell_type": "code",
   "execution_count": null,
   "metadata": {
    "collapsed": false
   },
   "outputs": [],
   "source": [
    "plt.scatter(range(4), [m0.kern.variance, m1.kern.base.variance, m0.likelihood.variance, m1.likelihood.variance])\n",
    "\n",
    "plt.semilogy()"
   ]
  },
  {
   "cell_type": "code",
   "execution_count": null,
   "metadata": {
    "collapsed": false
   },
   "outputs": [],
   "source": [
    "m0.kern.variance / (m0.kern.variance + m0.likelihood.variance)"
   ]
  },
  {
   "cell_type": "code",
   "execution_count": null,
   "metadata": {
    "collapsed": false
   },
   "outputs": [],
   "source": [
    "m1.kern.base.variance / (m1.kern.base.variance + m1.kern.replicate.variance + m1.likelihood.variance)"
   ]
  },
  {
   "cell_type": "code",
   "execution_count": null,
   "metadata": {
    "collapsed": true
   },
   "outputs": [],
   "source": []
  }
 ],
 "metadata": {
  "kernelspec": {
   "display_name": "Python 2",
   "language": "python",
   "name": "python2"
  },
  "language_info": {
   "codemirror_mode": {
    "name": "ipython",
    "version": 2
   },
   "file_extension": ".py",
   "mimetype": "text/x-python",
   "name": "python",
   "nbconvert_exporter": "python",
   "pygments_lexer": "ipython2",
   "version": "2.7.6"
  }
 },
 "nbformat": 4,
 "nbformat_minor": 1
}