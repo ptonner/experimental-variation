{
 "cells": [
  {
   "cell_type": "code",
   "execution_count": null,
   "metadata": {
    "collapsed": true
   },
   "outputs": [],
   "source": [
    "import gpmultipy, scipy, json\n",
    "import numpy as np\n",
    "import matplotlib.pyplot as plt\n",
    "from copy import copy"
   ]
  },
  {
   "cell_type": "code",
   "execution_count": null,
   "metadata": {
    "collapsed": false
   },
   "outputs": [],
   "source": [
    "from gpmultipy import dataset\n",
    "from gpmultipy.model import Model\n",
    "from gpmultipy.prior import Prior\n",
    "from gpmultipy.kernel import RBF, White\n",
    "from gpmultipy.freeze import Freezer\n",
    "from gpmultipy.sampler.slice import Slice\n",
    "from gpmultipy.kernel import Product, Linear, Addition, Bias"
   ]
  },
  {
   "cell_type": "code",
   "execution_count": null,
   "metadata": {
    "collapsed": true
   },
   "outputs": [],
   "source": [
    "def printSample(sample,depth=1):\n",
    "    keys = sample.keys()\n",
    "    keys.sort()\n",
    "    \n",
    "    for k in keys:\n",
    "        if type(sample[k]) == dict:\n",
    "            print \"\\t\".join([\"\"]*depth) + k\n",
    "            printSample(sample[k],depth=depth+1)\n",
    "        else:\n",
    "            print \"\\t\".join([\"\"]*depth) + \"%s: %s\"%(k,str(sample[k]))"
   ]
  },
  {
   "cell_type": "code",
   "execution_count": null,
   "metadata": {
    "collapsed": true
   },
   "outputs": [],
   "source": [
    "%matplotlib inline"
   ]
  },
  {
   "cell_type": "code",
   "execution_count": null,
   "metadata": {
    "collapsed": true
   },
   "outputs": [],
   "source": [
    "ds = dataset.DataSet('data/')\n",
    "x,y,effect,labels = ds.build(Strain='ura3',mM_PQ=0.0,scale='range',Bio='E')\n",
    "y = np.log2(y)\n",
    "y = y-y[0,:]\n",
    "y = (y-y.mean())/y.std()\n",
    "\n",
    "\n",
    "# x = x + 1e-3"
   ]
  },
  {
   "cell_type": "markdown",
   "metadata": {},
   "source": [
    "$K(x,y) = \\Big(\\sigma^2_{bias} + \\sigma^2_{linear} \\cdot xy^T \\Big) \\times K_{RBF}(x,y)$"
   ]
  },
  {
   "cell_type": "code",
   "execution_count": null,
   "metadata": {
    "collapsed": false
   },
   "outputs": [],
   "source": [
    "yKernel = White(1,.1)\n",
    "k1 = RBF(1,1,1)\n",
    "# k2 = Product(Linear(1,1,1),RBF(1,1,1))\n",
    "k2 = Product(Addition(Bias(1,1),Linear(1,1,1)),RBF(1,1,1))\n",
    "\n",
    "p = y.shape[1]\n",
    "dm = np.zeros((1+p,p))\n",
    "dm[0,:] = 1\n",
    "# dm[1:,1:] = 1\n",
    "np.fill_diagonal(dm[1:,:],1)\n",
    "\n",
    "prior = Prior(x,k1,[0])\n",
    "prior2 = Prior(x,k2,range(1,dm.shape[0]))"
   ]
  },
  {
   "cell_type": "code",
   "execution_count": null,
   "metadata": {
    "collapsed": false
   },
   "outputs": [],
   "source": [
    "cov = k2.K(x)\n",
    "\n",
    "plt.subplot(121)\n",
    "plt.imshow(cov,interpolation='none')\n",
    "plt.colorbar()\n",
    "\n",
    "plt.subplot(122)\n",
    "plt.plot(scipy.stats.multivariate_normal.rvs(prior2.mu,cov,size=10).T);"
   ]
  },
  {
   "cell_type": "code",
   "execution_count": null,
   "metadata": {
    "collapsed": true
   },
   "outputs": [],
   "source": [
    "model = Model(x,y,dm)"
   ]
  },
  {
   "cell_type": "code",
   "execution_count": null,
   "metadata": {
    "collapsed": true
   },
   "outputs": [],
   "source": [
    "ySigmaSlice = Slice('ySigma',\n",
    "                    lambda x: model.dataLikelihood(yKernel,sigma=x),\n",
    "                    lambda x: scipy.stats.lognorm(1,scale=1e-0).logpdf(x),\n",
    "                    .2,5,logspace=True)\n",
    "\n",
    "kSigmaSlice = Slice('kSigma',\n",
    "                    lambda x: prior.loglikelihood(model.beta,sigma=x),\n",
    "                    lambda x: scipy.stats.uniform(1e-2,1e2).logpdf(x),\n",
    "                    .2,5,logspace=True)\n",
    "\n",
    "kLengthscaleSlice = Slice('kLengthscale',\n",
    "                    lambda x: prior.loglikelihood(model.beta,lengthscale=x),\n",
    "                    lambda x: scipy.stats.uniform(1e-2,1e2).logpdf(x),\n",
    "                    .2,5,logspace=True)\n",
    "\n",
    "k2k1k1SigmaSlice = Slice('kSigma',\n",
    "                    lambda x: prior2.loglikelihood(model.beta,k1_k1_sigma=x),\n",
    "                    lambda x: scipy.stats.uniform(1e-2,1e2).logpdf(x),\n",
    "                    .2,5,logspace=True)\n",
    "\n",
    "k2k1k2SigmaSlice = Slice('kSigma',\n",
    "                    lambda x: prior2.loglikelihood(model.beta,k1_k2_sigma=x),\n",
    "                    lambda x: scipy.stats.uniform(1e-2,1e2).logpdf(x),\n",
    "                    .2,5,logspace=True)\n",
    "\n",
    "k2k1k2LengthscaleSlice = Slice('kLengthscale',\n",
    "                    lambda x: prior2.loglikelihood(model.beta,k1_k2_lengthscale=x),\n",
    "                    lambda x: scipy.stats.uniform(1e-2,1e2).logpdf(x),\n",
    "                    .2,5,logspace=True)\n",
    "\n",
    "k2k2SigmaSlice = Slice('kSigma',\n",
    "                    lambda x: prior2.loglikelihood(model.beta,k2_sigma=x),\n",
    "                    lambda x: scipy.stats.uniform(1e-2,1e2).logpdf(x),\n",
    "                    .2,5,logspace=True)\n",
    "\n",
    "k2k2LengthscaleSlice = Slice('kLengthscale',\n",
    "                    lambda x: prior2.loglikelihood(model.beta,k2_lengthscale=x),\n",
    "                    lambda x: scipy.stats.uniform(1e-2,1e2).logpdf(x),\n",
    "                    .2,5,logspace=True)\n",
    "\n",
    "samples = []\n",
    "freeze = Freezer(yKernel=yKernel,k1=k1,k2=k2,model=model)"
   ]
  },
  {
   "cell_type": "code",
   "execution_count": null,
   "metadata": {
    "collapsed": false,
    "scrolled": true
   },
   "outputs": [],
   "source": [
    "thin = 10\n",
    "burnin = 0\n",
    "nsample = 1000\n",
    "\n",
    "for i in range(nsample):\n",
    "    prior.sample(model,yKernel)\n",
    "    prior2.sample(model,yKernel)\n",
    "    \n",
    "    yKernel.sigma = ySigmaSlice.sample(yKernel.sigma)\n",
    "    \n",
    "    k1.sigma = kSigmaSlice.sample(k1.sigma)\n",
    "    k1.lengthscale = kLengthscaleSlice.sample(k1.lengthscale)\n",
    "    \n",
    "    k2.k1.k1.sigma = k2k1k1SigmaSlice.sample(k2.k1.k1.sigma)\n",
    "    k2.k1.k2.sigma = k2k1k2SigmaSlice.sample(k2.k1.k2.sigma)\n",
    "    #k2.k1.k2.lengthscale = k2k1k2LengthscaleSlice.sample(k2.k1.k2.lengthscale)\n",
    "    \n",
    "    #k2.k2.sigma = k2k2SigmaSlice.sample(k2.k2.sigma)\n",
    "    k2.k2.lengthscale = k2k2LengthscaleSlice.sample(k2.k2.lengthscale)\n",
    "\n",
    "    if i % thin == 0 and i > burnin:\n",
    "        #print model.dataLikelihood(yKernel),yKernel.sigma, k1.sigma, k1.lengthscale, k2.k1.k1.sigma, k2.k1.k2.sigma, k2.k1.k2.lengthscale, k2.k2.sigma, k2.k2.lengthscale\n",
    "        f = freeze.freeze()\n",
    "        del f['model']\n",
    "        \n",
    "        print \"~~~~~~~~~~~~~~~~~~~~~~~~~~~~~~~~~~~~~~~\"\n",
    "        print model.dataLikelihood(yKernel)\n",
    "        printSample(f)\n",
    "        print\n",
    "        \n",
    "        samples.append(freeze.freeze())"
   ]
  },
  {
   "cell_type": "code",
   "execution_count": null,
   "metadata": {
    "collapsed": false
   },
   "outputs": [],
   "source": [
    "plt.figure(figsize=(10,9))\n",
    "plt.subplot(331)\n",
    "plt.plot(x,y,c='r')\n",
    "\n",
    "# plt.subplot(232)\n",
    "plt.plot(x,np.array([s['model']['beta'][:,0] for s in samples]).T,c='k',alpha=.5)\n",
    "\n",
    "plt.subplot(332)\n",
    "\n",
    "cmap = plt.get_cmap(\"spectral\")\n",
    "colors = [cmap(1.*i/p) for i in range(p)]\n",
    "for i in range(p):\n",
    "    plt.plot(x,np.array([s['model']['beta'][:,i+1] for s in samples]).T,c=colors[i],alpha=.5)\n",
    "\n",
    "plt.subplot(333)\n",
    "plt.hist(np.log10([s['yKernel']['sigma'] for s in samples]))\n",
    "\n",
    "plt.subplot(334)\n",
    "plt.hist(np.log10([s['k1']['sigma'] for s in samples]))\n",
    "\n",
    "plt.subplot(335)\n",
    "plt.hist(np.log10([s['k1']['lengthscale'] for s in samples]))\n",
    "\n",
    "# plt.subplot(336)\n",
    "# plt.hist(np.log10([s['k2']['k1']['sigma'] for s in samples]))\n",
    "\n",
    "# plt.subplot(337)\n",
    "# plt.hist(np.log10([s['k2']['k1']['lengthscale'] for s in samples]))\n",
    "\n",
    "# plt.subplot(338)\n",
    "# plt.hist(np.log10([s['k2']['k2']['sigma'] for s in samples]))\n",
    "\n",
    "# plt.subplot(339)\n",
    "# plt.hist(np.log10([s['k2']['k2']['lengthscale'] for s in samples]))\n",
    "\n",
    "plt.savefig(\"figures/randomEffect-linearXrbf-samples.pdf\",bbox_inches='tight')"
   ]
  },
  {
   "cell_type": "code",
   "execution_count": null,
   "metadata": {
    "collapsed": false
   },
   "outputs": [],
   "source": [
    "plt.figure(figsize=(10,6))\n",
    "\n",
    "ncol = 5\n",
    "\n",
    "cmap = plt.get_cmap(\"spectral\")\n",
    "colors = [cmap(1.*(i+5)/(p+10)) for i in range(p)]\n",
    "\n",
    "for i in range(p):\n",
    "    plt.subplot(p/ncol,ncol,i+1)\n",
    "    \n",
    "    plt.plot([x.min(),x.max()],[0,0],c='k',lw=3)\n",
    "    plt.plot(x,np.array([s['model']['beta'][:,i+1] for s in samples[0:]]).T,c=colors[i],alpha=.5)\n",
    "    \n",
    "    plt.ylim(-2,2)"
   ]
  },
  {
   "cell_type": "code",
   "execution_count": null,
   "metadata": {
    "collapsed": false
   },
   "outputs": [],
   "source": [
    "cov = k2.K(x)\n",
    "\n",
    "plt.figure(figsize=(8,4))\n",
    "\n",
    "plt.subplot(121)\n",
    "plt.imshow(cov,interpolation='none',aspect='auto')\n",
    "# plt.colorbar()\n",
    "\n",
    "plt.subplot(122)\n",
    "plt.plot(scipy.stats.multivariate_normal.rvs(prior2.mu,cov,size=10).T);"
   ]
  },
  {
   "cell_type": "code",
   "execution_count": null,
   "metadata": {
    "collapsed": false
   },
   "outputs": [],
   "source": [
    "mu = np.array([s['model']['beta'][:,0] for s in samples]).T\n",
    "\n",
    "plt.plot(x,mu.std(1)*2);\n",
    "\n",
    "plt.twinx()\n",
    "plt.plot(x,abs(mu.mean(1)),c='k');"
   ]
  },
  {
   "cell_type": "code",
   "execution_count": null,
   "metadata": {
    "collapsed": false
   },
   "outputs": [],
   "source": [
    "plt.imshow(mu,interpolation='none')"
   ]
  },
  {
   "cell_type": "code",
   "execution_count": null,
   "metadata": {
    "collapsed": false
   },
   "outputs": [],
   "source": [
    "plt.figure(figsize=(6,4))\n",
    "\n",
    "beta = samples[-1]['model']['beta']\n",
    "mu = np.dot(beta,model.designMatrix).T\n",
    "cov = yKernel.K(x)\n",
    "ysample = mu + scipy.stats.multivariate_normal.rvs(np.zeros(x.shape[0]),cov,size=model.r)\n",
    "\n",
    "plt.plot(x[:,0],ysample.T,c='k',alpha=.4); \n",
    "plt.plot(x[:,0],y,c='b',alpha=.4); \n",
    "# plt.plot(x[:,0],fsample,c='r',lw=3);\n",
    "\n",
    "plt.xlabel(\"time (normalized)\",fontsize=25)\n",
    "plt.ylabel(\"OD (normalized)\",fontsize=25)\n",
    "plt.xticks(np.arange(.2,1,.2),fontsize=20)\n",
    "plt.yticks(np.arange(-2,2,.5),fontsize=20)\n",
    "\n",
    "plt.savefig(\"figures/model-randomEffect-linearXrbf-generative-sameBeta.pdf\",bbox_inches='tight',dpi=300)"
   ]
  },
  {
   "cell_type": "code",
   "execution_count": null,
   "metadata": {
    "collapsed": false
   },
   "outputs": [],
   "source": [
    "plt.figure(figsize=(6,4))\n",
    "\n",
    "beta = samples[-1]['model']['beta']\n",
    "cov = k2.K(x)\n",
    "chol = gpmultipy.linalg.jitchol(cov)\n",
    "cov = np.dot(chol,chol.T)\n",
    "\n",
    "for i in range(1,beta.shape[1]):\n",
    "    beta[:,i] = scipy.stats.multivariate_normal.rvs(prior2.mu,cov)\n",
    "\n",
    "mu = np.dot(beta,model.designMatrix).T\n",
    "cov = yKernel.K(x)\n",
    "ysample = mu + scipy.stats.multivariate_normal.rvs(np.zeros(x.shape[0]),cov,size=model.r)\n",
    "\n",
    "plt.plot(x[:,0],ysample.T,c='k',alpha=.6); \n",
    "plt.plot(x[:,0],y,c='b',alpha=.6); \n",
    "# plt.plot(x[:,0],fsample,c='r',lw=3);\n",
    "\n",
    "plt.xlabel(\"time (normalized)\",fontsize=25)\n",
    "plt.ylabel(\"OD (normalized)\",fontsize=25)\n",
    "plt.xticks(np.arange(.2,1,.2),fontsize=20)\n",
    "plt.yticks(np.arange(-2,2,.5),fontsize=20)\n",
    "plt.xlim(x.min()-x.max()*.05,x.max()*1.05)\n",
    "\n",
    "plt.savefig(\"figures/model-randomEffect-linearXrbf-generative-newBeta.pdf\",bbox_inches='tight',dpi=300)"
   ]
  },
  {
   "cell_type": "code",
   "execution_count": null,
   "metadata": {
    "collapsed": false
   },
   "outputs": [],
   "source": [
    "ratio = [1.*s['k2']['k1']['k1']['sigma']/(s['k2']['k1']['k1']['sigma'] + s['k2']['k1']['k2']['sigma']) for s in samples]\n",
    "\n",
    "plt.hist(ratio)\n",
    "plt.title(\"$\\sigma^2_{bias} / (\\sigma^2_{bias} + \\sigma^2_{linear})$\")"
   ]
  },
  {
   "cell_type": "code",
   "execution_count": null,
   "metadata": {
    "collapsed": false
   },
   "outputs": [],
   "source": [
    "ratio = [1.*s['k2']['k2']['sigma']/(s['k2']['k2']['sigma']+ s['k2']['k1']['k1']['sigma'] + s['k2']['k1']['k2']['sigma']) for s in samples]\n",
    "\n",
    "plt.hist(ratio)\n",
    "plt.title(\"$\\sigma^2_{RBF} / (\\sigma^2_{RBF} + \\sigma^2_{bias} + \\sigma^2_{linear})$\")"
   ]
  },
  {
   "cell_type": "code",
   "execution_count": null,
   "metadata": {
    "collapsed": false
   },
   "outputs": [],
   "source": [
    "cov = k2.K(x)\n",
    "\n",
    "plt.figure(figsize=(10,8))\n",
    "\n",
    "plt.subplot2grid((2,2),(0,0))\n",
    "sample = scipy.stats.multivariate_normal.rvs(prior2.mu,cov,size=10)\n",
    "\n",
    "plt.plot(x,sample.T);\n",
    "plt.xlim(x.min(),x.max())\n",
    "\n",
    "plt.subplot2grid((2,2),(0,1))\n",
    "beta = np.array(samples[-2]['model']['beta'][:,1:])\n",
    "plt.plot(x,beta)\n",
    "\n",
    "plt.subplot2grid((2,2),(1,0),colspan=2)\n",
    "\n",
    "plt.plot(x,np.sum(sample.T*sample.T,1),label='new samples');\n",
    "plt.plot(x,np.sum(model.beta[:,1:]*model.beta[:,1:],1),label='data samples');\n",
    "plt.xlim(x.min(),x.max())\n",
    "plt.legend(loc='best')"
   ]
  },
  {
   "cell_type": "code",
   "execution_count": null,
   "metadata": {
    "collapsed": false
   },
   "outputs": [],
   "source": [
    "samplesCopy = [copy(s) for s in samples]\n",
    "for s in samplesCopy:\n",
    "    s['model']['beta'] = s['model']['beta'].tolist()"
   ]
  },
  {
   "cell_type": "code",
   "execution_count": null,
   "metadata": {
    "collapsed": false
   },
   "outputs": [],
   "source": [
    "s = json.dumps(samplesCopy)"
   ]
  },
  {
   "cell_type": "code",
   "execution_count": null,
   "metadata": {
    "collapsed": true
   },
   "outputs": [],
   "source": [
    "ofile = open(\"technical-replicate-linearRBF.json\",'w')\n",
    "ofile.write(s)\n",
    "ofile.close()"
   ]
  },
  {
   "cell_type": "code",
   "execution_count": null,
   "metadata": {
    "collapsed": true
   },
   "outputs": [],
   "source": []
  }
 ],
 "metadata": {
  "kernelspec": {
   "display_name": "Python 2",
   "language": "python",
   "name": "python2"
  },
  "language_info": {
   "codemirror_mode": {
    "name": "ipython",
    "version": 2
   },
   "file_extension": ".py",
   "mimetype": "text/x-python",
   "name": "python",
   "nbconvert_exporter": "python",
   "pygments_lexer": "ipython2",
   "version": "2.7.12"
  }
 },
 "nbformat": 4,
 "nbformat_minor": 1
}