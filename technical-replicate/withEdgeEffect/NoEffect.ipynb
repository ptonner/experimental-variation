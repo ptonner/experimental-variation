{
 "cells": [
  {
   "cell_type": "code",
   "execution_count": null,
   "metadata": {
    "collapsed": false
   },
   "outputs": [],
   "source": [
    "import gpmultipy, scipy\n",
    "import numpy as np\n",
    "import matplotlib.pyplot as plt"
   ]
  },
  {
   "cell_type": "code",
   "execution_count": null,
   "metadata": {
    "collapsed": true
   },
   "outputs": [],
   "source": [
    "from gpmultipy import dataset\n",
    "from gpmultipy.model import Model\n",
    "from gpmultipy.prior import Prior\n",
    "from gpmultipy.kernel import RBF, White\n",
    "from gpmultipy.freeze import Freezer\n",
    "from gpmultipy.sampler.slice import Slice\n",
    "from gpmultipy.kernel import Product, Linear"
   ]
  },
  {
   "cell_type": "code",
   "execution_count": null,
   "metadata": {
    "collapsed": true
   },
   "outputs": [],
   "source": [
    "%matplotlib inline"
   ]
  },
  {
   "cell_type": "code",
   "execution_count": null,
   "metadata": {
    "collapsed": false
   },
   "outputs": [],
   "source": [
    "ds = dataset.DataSet('data/')\n",
    "x,y,effect,labels = ds.build(Strain='ura3',mM_PQ=0.0,scale='range',Bio='F',effects=['Well'])\n",
    "y = np.log2(y)\n",
    "y = y-y[0,:]\n",
    "y = (y-y.mean())/y.std()\n",
    "\n",
    "dm = np.ones((y.shape[1],1))"
   ]
  },
  {
   "cell_type": "code",
   "execution_count": null,
   "metadata": {
    "collapsed": false
   },
   "outputs": [],
   "source": [
    "def wellPosition(number):\n",
    "    number = int(number)\n",
    "    if number > 100:\n",
    "        return wellPosition(number%100)\n",
    "    if number == 0:\n",
    "        return 9,9\n",
    "    return [(number-1) % 10, (number-1)/10]\n",
    "\n",
    "position = np.array(map(wellPosition,labels[0]))\n",
    "zip(labels[0],position)"
   ]
  },
  {
   "cell_type": "code",
   "execution_count": null,
   "metadata": {
    "collapsed": true
   },
   "outputs": [],
   "source": [
    "select = np.all(position != 0,1)\n"
   ]
  },
  {
   "cell_type": "code",
   "execution_count": null,
   "metadata": {
    "collapsed": false
   },
   "outputs": [],
   "source": [
    "yKernel = White(1,.1)\n",
    "k1 = RBF(1,1,1)\n",
    "\n",
    "# yKernel = White(1,1)\n",
    "# k1 = RBF(1,1,1)\n",
    "\n",
    "p = y.shape[1]\n",
    "dm = np.ones((1,p))\n",
    "\n",
    "prior = Prior(x,k1,range(dm.shape[0]))\n",
    "\n",
    "model = Model(x,y,dm)"
   ]
  },
  {
   "cell_type": "code",
   "execution_count": null,
   "metadata": {
    "collapsed": false
   },
   "outputs": [],
   "source": [
    "ySigmaSlice = Slice('ySigma',\n",
    "                    lambda x: model.dataLikelihood(yKernel,sigma=x),\n",
    "                    #lambda x: scipy.stats.uniform(1e-6,1e0).logpdf(x),\n",
    "                    #lambda x: scipy.stats.lognorm(1,loc=1e-2,scale=1e-1).logpdf(x),\n",
    "                    lambda x: scipy.stats.lognorm(1,scale=1e-0).logpdf(x),\n",
    "                    #debug_lognorm,\n",
    "                    .2,5,logspace=True)\n",
    "\n",
    "kSigmaSlice = Slice('kSigma',\n",
    "                    lambda x: prior.loglikelihood(model.beta,sigma=x),\n",
    "                    lambda x: scipy.stats.uniform(1e-2,1e2).logpdf(x),\n",
    "                    #debug_unif,\n",
    "                    .2,5,logspace=True)\n",
    "\n",
    "kLengthscaleSlice = Slice('kLengthscale',\n",
    "                    lambda x: prior.loglikelihood(model.beta,lengthscale=x),\n",
    "                    lambda x: scipy.stats.uniform(1e-2,1e2).logpdf(x),\n",
    "                    .2,5,logspace=True)\n",
    "\n",
    "samples = []\n",
    "freeze = Freezer(yKernel=yKernel,k1=k1,model=model)"
   ]
  },
  {
   "cell_type": "code",
   "execution_count": null,
   "metadata": {
    "collapsed": false,
    "scrolled": true
   },
   "outputs": [],
   "source": [
    "thin = 10\n",
    "burnin = 0\n",
    "nsample = 1000\n",
    "\n",
    "for i in range(nsample):\n",
    "    prior.sample(model,yKernel)\n",
    "\n",
    "    k1.sigma = kSigmaSlice.sample(k1.sigma)\n",
    "    yKernel.sigma = ySigmaSlice.sample(yKernel.sigma)\n",
    "    k1.lengthscale = kLengthscaleSlice.sample(k1.lengthscale)\n",
    "\n",
    "    if i % thin == 0 and i > burnin:\n",
    "        print model.dataLikelihood(yKernel),yKernel.sigma, k1.sigma, k1.lengthscale\n",
    "        samples.append(freeze.freeze())"
   ]
  },
  {
   "cell_type": "code",
   "execution_count": null,
   "metadata": {
    "collapsed": false
   },
   "outputs": [],
   "source": [
    "plt.figure(figsize=(10,6))\n",
    "plt.subplot(231)\n",
    "plt.plot(x,y)\n",
    "\n",
    "plt.subplot(232)\n",
    "plt.plot(x,np.array([s['model']['beta'][:,0] for s in samples]).T,c='r',alpha=.5)\n",
    "\n",
    "plt.subplot(234)\n",
    "plt.hist(np.log10([s['yKernel']['sigma'] for s in samples]))\n",
    "\n",
    "plt.subplot(235)\n",
    "plt.hist(np.log10([s['k1']['sigma'] for s in samples]))\n",
    "\n",
    "plt.subplot(236)\n",
    "plt.hist(np.log10([s['k1']['lengthscale'] for s in samples]))"
   ]
  },
  {
   "cell_type": "code",
   "execution_count": null,
   "metadata": {
    "collapsed": false
   },
   "outputs": [],
   "source": [
    "mu = np.array([s['model']['beta'][:,0] for s in samples]).T\n",
    "\n",
    "plt.plot(x,mu.std(1)*2);\n",
    "\n",
    "plt.twinx()\n",
    "plt.plot(x,abs(mu.mean(1)),c='k');"
   ]
  },
  {
   "cell_type": "code",
   "execution_count": null,
   "metadata": {
    "collapsed": false
   },
   "outputs": [],
   "source": [
    "plt.imshow(mu,interpolation='none')"
   ]
  },
  {
   "cell_type": "code",
   "execution_count": null,
   "metadata": {
    "collapsed": false
   },
   "outputs": [],
   "source": [
    "plt.figure(figsize=(6,4))\n",
    "\n",
    "# gpfanova.plot.plotFunctionSamples(m_noReplicate.functionSamples(0).values,x=x[:,0])\n",
    "plt.plot(x[:,0],y,c='k',alpha=.4)\n",
    "\n",
    "plt.xlabel(\"time (normalized)\",fontsize=25)\n",
    "plt.ylabel(\"OD (normalized)\",fontsize=25)\n",
    "plt.xticks(np.arange(.2,1,.2),fontsize=20)\n",
    "plt.yticks(np.arange(-2,2,.5),fontsize=20)\n",
    "\n",
    "plt.savefig(\"figures/ura3-pq-replicate/model-noReplicate-singleReplicate.pdf\",bbox_inches='tight',dpi=300)"
   ]
  },
  {
   "cell_type": "code",
   "execution_count": null,
   "metadata": {
    "collapsed": false
   },
   "outputs": [],
   "source": [
    "plt.figure(figsize=(6,4))\n",
    "\n",
    "mu = samples[-1]['model']['beta'][:,0]\n",
    "cov = yKernel.K(x)\n",
    "ysample = mu + scipy.stats.multivariate_normal.rvs(np.zeros(x.shape[0]),cov,size=model.r)\n",
    "\n",
    "plt.plot(x[:,0],ysample.T,c='k',alpha=.4); \n",
    "plt.plot(x[:,0],y,c='b',alpha=.4); \n",
    "# plt.plot(x[:,0],fsample,c='r',lw=3);\n",
    "\n",
    "plt.xlabel(\"time (normalized)\",fontsize=25)\n",
    "plt.ylabel(\"OD (normalized)\",fontsize=25)\n",
    "plt.xticks(np.arange(.2,1,.2),fontsize=20)\n",
    "plt.yticks(np.arange(-2,2,.5),fontsize=20)\n",
    "\n",
    "plt.savefig(\"figures/model-noEffect-generative.pdf\",bbox_inches='tight',dpi=300)"
   ]
  },
  {
   "cell_type": "code",
   "execution_count": null,
   "metadata": {
    "collapsed": true
   },
   "outputs": [],
   "source": []
  }
 ],
 "metadata": {
  "kernelspec": {
   "display_name": "Python 2",
   "language": "python",
   "name": "python2"
  },
  "language_info": {
   "codemirror_mode": {
    "name": "ipython",
    "version": 2
   },
   "file_extension": ".py",
   "mimetype": "text/x-python",
   "name": "python",
   "nbconvert_exporter": "python",
   "pygments_lexer": "ipython2",
   "version": "2.7.12"
  }
 },
 "nbformat": 4,
 "nbformat_minor": 1
}