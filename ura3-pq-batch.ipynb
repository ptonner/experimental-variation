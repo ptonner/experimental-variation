{
 "cells": [
  {
   "cell_type": "code",
   "execution_count": null,
   "metadata": {},
   "outputs": [],
   "source": [
    "%pylab"
   ]
  },
  {
   "cell_type": "code",
   "execution_count": null,
   "metadata": {
    "collapsed": true
   },
   "outputs": [],
   "source": [
    "%matplotlib inline"
   ]
  },
  {
   "cell_type": "code",
   "execution_count": null,
   "metadata": {},
   "outputs": [],
   "source": [
    "import popmachine, itertools, patsy, GPy, scipy\n",
    "from popmachine.normal import MultivariateNormal"
   ]
  },
  {
   "cell_type": "code",
   "execution_count": null,
   "metadata": {},
   "outputs": [],
   "source": [
    "machine = popmachine.Machine('sqlite:///../popmachine_local/.popmachine.db')"
   ]
  },
  {
   "cell_type": "code",
   "execution_count": null,
   "metadata": {},
   "outputs": [],
   "source": [
    "ds = machine.search(include=['Strain'], **{'mM PQ':[0.0, 0.083, 0.333], 'M NaCl':['4.2', None]})\n",
    "ds.meta.plate.unique()"
   ]
  },
  {
   "cell_type": "code",
   "execution_count": null,
   "metadata": {},
   "outputs": [],
   "source": [
    "ds = machine.search(plates=[u'20161010_PQ_osmo', u'20150517 PQ 3', u'20161107_PQ_osmo_combo',\n",
    "       u'20150715 PQ 8', u'20150702 PQ 6', u'20150630 PQ 5', u'20150704 PQ 7', u'20150717 PQ 9', u'20150607 PQ 4'], include=['Strain'], **{'mM PQ':[0.0, 0.083, 0.333, 333], 'M NaCl':['4.2', None]})\n",
    "ds.meta.Strain.unique()"
   ]
  },
  {
   "cell_type": "code",
   "execution_count": null,
   "metadata": {},
   "outputs": [],
   "source": [
    "# ds = machine.search(plates=[u'20161010_PQ_osmo', u'20150517 PQ 3', u'20161107_PQ_osmo_combo',\n",
    "#        u'20150715 PQ 8', u'20150702 PQ 6', u'20150630 PQ 5', u'20150704 PQ 7', u'20150717 PQ 9'], Strain='ura3', **{'mM PQ':[0.0, 0.083, 0.333], 'M NaCl':['4.2', None]})\n",
    "\n",
    "ds = machine.search(plates=[u'20161010_PQ_osmo', u'20150517 PQ 3', u'20161107_PQ_osmo_combo',\n",
    "       u'20150715 PQ 8', u'20150702 PQ 6', u'20150630 PQ 5', u'20150704 PQ 7', u'20150717 PQ 9', u'20150607 PQ 4'], Strain='ura3', **{'mM PQ':[0.0, 0.083, 0.33, 0.333], 'M NaCl':['4.2', None]})\n",
    "ds.trim(10)\n",
    "ds.log()\n",
    "ds.poly_scale(2,groupby=['plate','mM PQ'])\n",
    "ds.filter()"
   ]
  },
  {
   "cell_type": "code",
   "execution_count": null,
   "metadata": {},
   "outputs": [],
   "source": [
    "plt.figure(figsize=(20,6))\n",
    "\n",
    "ds.plot(columns=['plate'], colorby=['mM PQ'], buff=.3)\n",
    "\n",
    "\n",
    "plt.savefig('figures/pq-ura3.pdf', bbox_inches='tight')"
   ]
  },
  {
   "cell_type": "code",
   "execution_count": null,
   "metadata": {},
   "outputs": [],
   "source": [
    "plt.figure(figsize=(9,9))\n",
    "\n",
    "g = ds.meta.groupby(['plate', 'mM PQ'])\n",
    "\n",
    "keys = ds.meta.plate.unique().tolist()\n",
    "for k, ind in g:\n",
    "    temp = ds.data.iloc[:,ind.index]\n",
    "    \n",
    "    p, pq = k\n",
    "    \n",
    "    i = keys.index(p)\n",
    "    \n",
    "    plt.subplot(3,3,i+1)\n",
    "    \n",
    "    \n",
    "        \n",
    "    if i == 0:\n",
    "        if pq == '0.0':\n",
    "            plt.plot(temp.index, temp.values[:,0], c='k', label='mM PQ = 0.0')\n",
    "            plt.plot(temp.index, temp.values[:,1:], c='k')\n",
    "        elif pq == '0.333':\n",
    "            plt.plot(temp.index, temp.values[:,0], c='limegreen', label='mM PQ = 0.333')\n",
    "            plt.plot(temp.index, temp.values[:,1:], c='limegreen')\n",
    "        else:\n",
    "            plt.plot(temp.index, temp.values[:,0], c='cyan', label='mM PQ = 0.083')\n",
    "            plt.plot(temp.index, temp.values[:,1:], c='cyan')\n",
    "        plt.legend()\n",
    "        \n",
    "    else:\n",
    "        if pq == '0.0':\n",
    "            plt.plot(temp.index, temp.values, c='k', label='mM PQ = 0.0')\n",
    "        elif pq == '0.333':\n",
    "            plt.plot(temp.index, temp.values, c='limegreen', label='mM PQ = 0.333')\n",
    "        else:\n",
    "            plt.plot(temp.index, temp.values, c='cyan', label='mM PQ = 0.083')\n",
    "            \n",
    "    if i % 3 == 0:\n",
    "        plt.ylabel('log(OD)', fontsize=14)\n",
    "    if i > 5:\n",
    "        plt.xlabel('time (h)', fontsize=14)\n",
    "            \n",
    "    plt.ylim(ds.data.min().min(), ds.data.max().max())\n",
    "    \n",
    "plt.savefig('figures/ura3_PQ_data.pdf', bbox_inches='tight')"
   ]
  },
  {
   "cell_type": "code",
   "execution_count": null,
   "metadata": {},
   "outputs": [],
   "source": [
    "pq0 = ds.meta['mM PQ'] == '0.0'\n",
    "pq333 = ds.meta['mM PQ'] == '0.333'\n",
    "pq083 = ds.meta['mM PQ'] == '0.083'\n",
    "\n",
    "m = (ds.data.loc[:,pq083].mean(1) - ds.data.loc[:,pq0].mean(1))\n",
    "s = np.sqrt(ds.data.loc[:,pq083].var(1) + ds.data.loc[:,pq0].var(1))\n",
    "\n",
    "plt.plot(ds.data.index, m, c='cyan', label='mM PQ = 0.083')\n",
    "plt.fill_between(ds.data.index, m-2*s, m+2*s, alpha=.4, color='cyan')\n",
    "\n",
    "m = (ds.data.loc[:,pq333].mean(1) - ds.data.loc[:,pq0].mean(1))\n",
    "s = np.sqrt(ds.data.loc[:,pq333].var(1) + ds.data.loc[:,pq0].var(1))\n",
    "\n",
    "plt.plot(ds.data.index, m, c='limegreen', label='mM PQ = 0.333')\n",
    "plt.fill_between(ds.data.index, m-2*s, m+2*s, alpha=.4, color='limegreen')\n",
    "\n",
    "plt.plot([ds.data.index.min(), ds.data.index.max()], [0,0], c='k', lw=2)\n",
    "\n",
    "plt.legend()"
   ]
  },
  {
   "cell_type": "code",
   "execution_count": null,
   "metadata": {},
   "outputs": [],
   "source": [
    "pvals = []\n",
    "tstats = []\n",
    "\n",
    "for i in range(ds.data.shape[0]):\n",
    "    \n",
    "    p1 = ds.data.loc[ds.data.index[i],pq083]\n",
    "    p2 = ds.data.loc[ds.data.index[i],pq0]\n",
    "    \n",
    "    ts, pv = scipy.stats.ttest_ind(p1, p2)\n",
    "    \n",
    "    pvals.append(pv)\n",
    "    tstats.append(ts)\n",
    "    \n",
    "# plt.plot(ds.data.index, -np.log10(pvals), c='cyan', label='mM PQ = 0.083')\n",
    "plt.plot(ds.data.index, tstats, c='cyan', label='mM PQ = 0.083')\n",
    "\n",
    "\n",
    "pvals = []\n",
    "tstats = []\n",
    "\n",
    "for i in range(ds.data.shape[0]):\n",
    "    \n",
    "    p1 = ds.data.loc[ds.data.index[i],pq333]\n",
    "    p2 = ds.data.loc[ds.data.index[i],pq0]\n",
    "    \n",
    "    ts, pv = scipy.stats.ttest_ind(p1, p2)\n",
    "    \n",
    "    pvals.append(pv)\n",
    "    tstats.append(ts)\n",
    "    \n",
    "df = p1.shape[0] + p2.shape[0] - 2\n",
    "t = scipy.stats.t(df=df)\n",
    "    \n",
    "# plt.plot(ds.data.index, -np.log10(pvals), c='limegreen', label='mM PQ = 0.333')\n",
    "plt.plot(ds.data.index, tstats, c='limegreen', label='mM PQ = 0.333')\n",
    "\n",
    "\n",
    "# plt.plot([ds.data.index.min(), ds.data.index.max()], [-np.log10(.05)]*2, c='k', lw=2)\n",
    "plt.plot([ds.data.index.min(), ds.data.index.max()], [t.ppf(.05)]*2, c='k', lw=2)\n",
    "\n",
    "plt.legend()\n",
    "\n",
    "plt.ylabel('log(OD)', fontsize=14)\n",
    "plt.xlabel('time (h)', fontsize=14)    \n",
    "plt.savefig('figures/ura3_PQ_data_ttest.pdf', bbox_inches='tight')"
   ]
  },
  {
   "cell_type": "code",
   "execution_count": null,
   "metadata": {},
   "outputs": [],
   "source": [
    "df = p1.shape[0] + p2.shape[0] - 2\n",
    "t = scipy.stats.t(df=df)"
   ]
  },
  {
   "cell_type": "code",
   "execution_count": null,
   "metadata": {},
   "outputs": [],
   "source": [
    "t.ppf(.05)"
   ]
  },
  {
   "cell_type": "code",
   "execution_count": null,
   "metadata": {},
   "outputs": [],
   "source": [
    "t.cdf(tstats) - pvals"
   ]
  },
  {
   "cell_type": "code",
   "execution_count": null,
   "metadata": {},
   "outputs": [],
   "source": [
    "ts, pv = scipy.stats.ttest_ind(p1, p2)"
   ]
  },
  {
   "cell_type": "code",
   "execution_count": null,
   "metadata": {},
   "outputs": [],
   "source": [
    "ts, pv"
   ]
  },
  {
   "cell_type": "markdown",
   "metadata": {},
   "source": [
    "# mM PQ = .083 "
   ]
  },
  {
   "cell_type": "code",
   "execution_count": null,
   "metadata": {
    "collapsed": true
   },
   "outputs": [],
   "source": [
    "# ds = machine.search(plates=[u'20161010_PQ_osmo', u'20150517 PQ 3', u'20161107_PQ_osmo_combo',\n",
    "#        u'20150715 PQ 8', u'20150702 PQ 6', u'20150630 PQ 5', u'20150704 PQ 7', u'20150717 PQ 9'], Strain='ura3', **{'mM PQ':[0.0, 0.083, 0.333], 'M NaCl':['4.2', None]})\n",
    "\n",
    "ds = machine.search(plates=[u'20161010_PQ_osmo', u'20150517 PQ 3', u'20161107_PQ_osmo_combo',\n",
    "       u'20150715 PQ 8', u'20150702 PQ 6', u'20150630 PQ 5', u'20150704 PQ 7', u'20150717 PQ 9', u'20150607 PQ 4'], Strain='ura3', **{'mM PQ':[0.0, 0.083], 'M NaCl':['4.2', None]})\n",
    "ds.trim(10)\n",
    "ds.log()\n",
    "ds.poly_scale(2,groupby=['plate','mM PQ'])\n",
    "ds.filter()"
   ]
  },
  {
   "cell_type": "code",
   "execution_count": null,
   "metadata": {},
   "outputs": [],
   "source": [
    "plt.figure(figsize=(20,6))\n",
    "\n",
    "ds.plot(columns=['plate'], colorby=['mM PQ'], buff=.3)\n",
    "\n",
    "\n",
    "plt.savefig('figures/pq-ura3-0.083.pdf', bbox_inches='tight')"
   ]
  },
  {
   "cell_type": "code",
   "execution_count": null,
   "metadata": {},
   "outputs": [],
   "source": [
    "ds.data.shape"
   ]
  },
  {
   "cell_type": "code",
   "execution_count": null,
   "metadata": {
    "collapsed": true
   },
   "outputs": [],
   "source": [
    "# ds.data = ds.data.iloc[::8,:]"
   ]
  },
  {
   "cell_type": "code",
   "execution_count": null,
   "metadata": {},
   "outputs": [],
   "source": [
    "\n",
    "melt = ds.melt()\n",
    "# melt = melt.iloc[::10,:]\n",
    "ind = np.random.choice(range(melt.shape[0]), 3000, replace=False)\n",
    "melt = melt.iloc[ind,:]\n",
    "\n",
    "plt.scatter(melt.time, melt.od, c=melt['mM PQ'])\n",
    "\n",
    "melt.shape"
   ]
  },
  {
   "cell_type": "code",
   "execution_count": null,
   "metadata": {},
   "outputs": [],
   "source": [
    "plt.figure(figsize=(20,6))\n",
    "ds.plot(columns=['plate'], colorby=['mM PQ'], buff=.3)"
   ]
  },
  {
   "cell_type": "code",
   "execution_count": null,
   "metadata": {},
   "outputs": [],
   "source": [
    "xgp = melt[['time', 'mM PQ', 'plate', 'number']].copy()\n",
    "xgp['plate-number'] = xgp['plate'].astype(str) + \"_\" + xgp['number'].astype(str)\n",
    "xgp[['plate']], plate_labels = xgp.plate.factorize()\n",
    "xgp[['plate-number']], _ = xgp['plate-number'].factorize()\n",
    "\n",
    "\n",
    "\n",
    "del xgp['number']\n",
    "\n",
    "xgp = xgp.values.astype(float)\n",
    "\n",
    "ygp = melt['od'].values[:,None]"
   ]
  },
  {
   "cell_type": "code",
   "execution_count": null,
   "metadata": {},
   "outputs": [],
   "source": [
    "import patsy"
   ]
  },
  {
   "cell_type": "code",
   "execution_count": null,
   "metadata": {},
   "outputs": [],
   "source": [
    "xgp = melt[['time', 'mM PQ', 'plate', 'number']].copy()\n",
    "xgp['pq'] = xgp['mM PQ'].astype(float)\n",
    "xgp['plate-number'] = xgp['plate'].astype(str) + \"_\" + xgp['number'].astype(str)\n",
    "xgp[['plate']], plate_labels = xgp.plate.factorize()\n",
    "xgp[['plate-number']], _ = xgp['plate-number'].factorize()\n",
    "\n",
    "xgp = patsy.dmatrix('scale(time) + scale(pq) + plate + number + 0', xgp)\n",
    "designInfo = xgp.design_info"
   ]
  },
  {
   "cell_type": "code",
   "execution_count": null,
   "metadata": {},
   "outputs": [],
   "source": [
    "xgp = np.array(xgp)"
   ]
  },
  {
   "cell_type": "code",
   "execution_count": null,
   "metadata": {},
   "outputs": [],
   "source": [
    "kmain = GPy.kern.RBF(2, ARD=True, name='main')\n",
    "kbatch = GPy.kern.RBF(2, ARD=True, name='batch')\n",
    "krep = GPy.kern.RBF(2, ARD=True, name='rep')\n",
    "# kern = GPy.kern.Hierarchical((kmain, kbatch))\n",
    "kern = GPy.kern.Hierarchical((kmain, kbatch, krep))\n",
    "\n",
    "kern"
   ]
  },
  {
   "cell_type": "code",
   "execution_count": null,
   "metadata": {},
   "outputs": [],
   "source": [
    "m = GPy.models.GPRegression(xgp, ygp, kern, normalizer=True)\n",
    "m.randomize()\n",
    "m"
   ]
  },
  {
   "cell_type": "code",
   "execution_count": null,
   "metadata": {},
   "outputs": [],
   "source": [
    "m.optimize()\n",
    "m"
   ]
  },
  {
   "cell_type": "code",
   "execution_count": null,
   "metadata": {},
   "outputs": [],
   "source": [
    "m['.*lengthscale']"
   ]
  },
  {
   "cell_type": "code",
   "execution_count": null,
   "metadata": {},
   "outputs": [],
   "source": [
    "xpred = np.zeros((100,4))\n",
    "xpred[:,0] = np.tile(np.linspace(xgp[:,0].min(), xgp[:,0].max()), 2)\n",
    "xpred[:50,1] = xgp[:,1].min()\n",
    "xpred[50:,1] = xgp[:,1].max()\n",
    "xpred[:,2] = 1000\n",
    "xpred[:,3] = 1000\n",
    "\n",
    "mu, cov = m.predict_noiseless(xpred, full_cov=True, kern=m.kern.main)\n",
    "pred = popmachine.normal.MultivariateNormal(mu, cov)\n",
    "pred.plot()"
   ]
  },
  {
   "cell_type": "code",
   "execution_count": null,
   "metadata": {},
   "outputs": [],
   "source": [
    "op = np.zeros((50,100))\n",
    "op[:,:50] = -np.eye(50)\n",
    "op[:,50:] = np.eye(50)\n",
    "pred.dot(op).plot()"
   ]
  },
  {
   "cell_type": "code",
   "execution_count": null,
   "metadata": {},
   "outputs": [],
   "source": [
    "plt.plot(scipy.stats.multivariate_normal.rvs(pred.dot(op).mean, pred.dot(op).cov, size=10).T);"
   ]
  },
  {
   "cell_type": "code",
   "execution_count": null,
   "metadata": {},
   "outputs": [],
   "source": [
    "# xpred[:,2] = 1000\n",
    "# xpred[:,3] = 1000\n",
    "\n",
    "mu, cov = m.predict_noiseless(xpred, full_cov=True)\n",
    "pred = popmachine.normal.MultivariateNormal(mu, cov)\n",
    "# pred.dot(op).plot(xpred[:50,0])\n",
    "pred.plot()\n",
    "\n",
    "# mu, cov = m.predict_noiseless(xpred, full_cov=True, kern=m.kern.main)\n",
    "# pred = popmachine.normal.MultivariateNormal(mu, cov)\n",
    "# pred.dot(op).plot(xpred[:50,0],color='red')\n",
    "    \n",
    "plt.tight_layout()"
   ]
  },
  {
   "cell_type": "code",
   "execution_count": null,
   "metadata": {},
   "outputs": [],
   "source": [
    "# xpred[:,2] = plate_labels.tolist().index(u'20161107_PQ_osmo_combo')\n",
    "\n",
    "# mu, cov = m.predict_noiseless(xpred, full_cov=True, kern=GPy.kern.Hierarchical([m.kern.main, m.kern.batch]))\n",
    "# tempPred = popmachine.normal.MultivariateNormal(mu, cov, )\n",
    "\n",
    "# # pred.dot(op).plot()\n",
    "# # tempPred.dot(op).plot(color='r')\n",
    "\n",
    "# pred.plot()\n",
    "# tempPred.plot(color='r')"
   ]
  },
  {
   "cell_type": "code",
   "execution_count": null,
   "metadata": {},
   "outputs": [],
   "source": [
    "m.kern = GPy.kern.Hierarchical([kmain, kbatch, krep])"
   ]
  },
  {
   "cell_type": "code",
   "execution_count": null,
   "metadata": {},
   "outputs": [],
   "source": [
    "op = np.zeros((50,100))\n",
    "op[:,:50] = -np.eye(50)\n",
    "op[:,50:] = np.eye(50)\n",
    "tempPred.dot(op).plot()"
   ]
  },
  {
   "cell_type": "code",
   "execution_count": null,
   "metadata": {},
   "outputs": [],
   "source": [
    "mnull = GPy.models.GPRegression(xgp, ygp, GPy.kern.RBF(2, ARD=True), normalizer=True)\n",
    "mnull.randomize()\n",
    "mnull.optimize()\n",
    "mnull"
   ]
  },
  {
   "cell_type": "code",
   "execution_count": null,
   "metadata": {},
   "outputs": [],
   "source": [
    "m.kern"
   ]
  },
  {
   "cell_type": "code",
   "execution_count": null,
   "metadata": {},
   "outputs": [],
   "source": [
    "xpred = np.zeros((100,4))\n",
    "xpred[:,0] = np.tile(np.linspace(xgp[:,0].min(), xgp[:,0].max()), 2)\n",
    "xpred[:50,1] = xgp[:,1].min()\n",
    "xpred[50:,1] = xgp[:,1].max()\n",
    "xpred[:,2] = 1000\n",
    "xpred[:,3] = 1000\n",
    "\n",
    "mu, cov = m.predict_noiseless(xpred, full_cov=True, kern=m.kern.main)\n",
    "pred = popmachine.normal.MultivariateNormal(mu, cov)\n",
    "\n",
    "nullPred = popmachine.normal.MultivariateNormal(*mnull.predict_noiseless(xpred, full_cov=True))\n",
    "\n",
    "pred.dot(op).plot()\n",
    "nullPred.dot(op).plot(color='r')"
   ]
  },
  {
   "cell_type": "code",
   "execution_count": null,
   "metadata": {},
   "outputs": [],
   "source": [
    "models = {}\n",
    "for p in [u'20161010_PQ_osmo', u'20150517 PQ 3', u'20161107_PQ_osmo_combo',\n",
    "       u'20150715 PQ 8', u'20150702 PQ 6', u'20150630 PQ 5', u'20150704 PQ 7', u'20150717 PQ 9', u'20150607 PQ 4']:\n",
    "\n",
    "    ds = machine.search(plates=[p], Strain='ura3', **{'mM PQ':[0.0, 0.083], 'M NaCl':['4.2', None]})\n",
    "    ds.trim(10)\n",
    "    ds.log()\n",
    "    ds.poly_scale(2,groupby=['plate','mM PQ'])\n",
    "    ds.filter()\n",
    "    #ds.data = ds.data.iloc[::8,:]\n",
    "    \n",
    "    melt = ds.melt()\n",
    "    melt = melt.iloc[::10,:]\n",
    "    \n",
    "    xgp = melt[['time', 'mM PQ', 'plate', 'number']].copy()\n",
    "    #xgp[['plate']] = xgp.plate.factorize()[0]\n",
    "    xgp['pq'] = xgp['mM PQ'].astype(float)\n",
    "    xgp['plate-number'] = xgp['plate'].astype(str) + \"_\" + xgp['number'].astype(str)\n",
    "    xgp[['plate']], _ = xgp.plate.factorize()\n",
    "    xgp[['plate-number']], _ = xgp['plate-number'].factorize()\n",
    "    \n",
    "    xgp = patsy.build_design_matrices([designInfo], xgp)[0]\n",
    "    xgp = np.array(xgp)\n",
    "    xgp = xgp.astype(float)\n",
    "\n",
    "    ygp = melt['od'].values[:,None]\n",
    "\n",
    "    kmain = GPy.kern.RBF(2, ARD=True, name='main')\n",
    "\n",
    "    temp = GPy.models.GPRegression(xgp, ygp, kmain)\n",
    "    temp.randomize()\n",
    "    temp.optimize()\n",
    "    \n",
    "    print p, temp.log_likelihood()\n",
    "    \n",
    "    models[p] = temp\n",
    "    "
   ]
  },
  {
   "cell_type": "code",
   "execution_count": null,
   "metadata": {},
   "outputs": [],
   "source": [
    "plt.figure(figsize=(9,9))\n",
    "\n",
    "for i, p in enumerate(models.keys()):    \n",
    "    \n",
    "    plt.subplot(3, 3, i+1)\n",
    "    plt.title(p)\n",
    "    \n",
    "    temp = models[p]\n",
    "    \n",
    "    mu, cov = temp.predict_noiseless(xpred, full_cov=True)\n",
    "    tempPred = popmachine.normal.MultivariateNormal(mu, cov)\n",
    "    #pred.dot(op).plot(xpred[:50,0])\n",
    "    tempPred.dot(op).plot(xpred[:50,0],color='r')\n",
    "    \n",
    "    xpred[:,2] = plate_labels.tolist().index(p)\n",
    "    xpred[:,3] = 1000\n",
    "    mu, cov = m.predict_noiseless(xpred, full_cov=True, kern=GPy.kern.Hierarchical([m.kern.main.copy(), m.kern.batch.copy()]))    \n",
    "    tempPred = popmachine.normal.MultivariateNormal(mu, cov)\n",
    "    #pred.dot(op).plot(xpred[:50,0])\n",
    "    tempPred.dot(op).plot(xpred[:50,0],color='g')\n",
    "    \n",
    "    ds = machine.search(plates=[p], Strain='ura3', **{'mM PQ':[0.0, 0.083], 'M NaCl':['4.2', None]})\n",
    "    ds.trim(10)\n",
    "    ds.log()\n",
    "    ds.poly_scale(2,groupby=['mM PQ'])\n",
    "    ds.filter()\n",
    "    \n",
    "    ds.data = ds.data.loc[ds.data.index>xpred[:,0].min(), :]\n",
    "    ds.data = ds.data.loc[ds.data.index<xpred[:,0].max(), :]\n",
    "    \n",
    "    select = np.isclose(0, ds.meta['mM PQ'].values.astype(float))\n",
    "    diff = ds.data.loc[:,~select].mean(1) - ds.data.loc[:,select].mean(1)\n",
    "    \n",
    "    plt.plot(diff.index.values, diff.values, c='k', lw=2)\n",
    "    \n",
    "    plt.ylim(-.65,.3)\n",
    "    \n",
    "    if i > 5:\n",
    "        plt.xlabel('time (normalized)', fontsize=12)\n",
    "        \n",
    "    if i % 3 == 0:\n",
    "        plt.ylabel('OD (normalized)', fontsize=12)\n",
    "    \n",
    "plt.tight_layout()"
   ]
  },
  {
   "cell_type": "code",
   "execution_count": null,
   "metadata": {},
   "outputs": [],
   "source": [
    "tempPred.dot(op).plot(xpred[:50,0],color='g')\n",
    "pred.dot(op).plot(xpred[:50,0],color='b')"
   ]
  },
  {
   "cell_type": "code",
   "execution_count": null,
   "metadata": {},
   "outputs": [],
   "source": [
    "plt.figure(figsize=(9,9))\n",
    "\n",
    "for i, p in enumerate(models.keys()):    \n",
    "    plt.title(p)\n",
    "    \n",
    "    temp = models[p]\n",
    "    \n",
    "    mu, cov = temp.predict_noiseless(xpred, full_cov=True)\n",
    "    tempPred = popmachine.normal.MultivariateNormal(mu, cov)\n",
    "    \n",
    "    tempPred.dot(op).plot(xpred[:50,0],color='r')\n",
    "       \n",
    "    plt.ylim(-.65,.3)\n",
    "    \n",
    "xpred = np.zeros((100,4))\n",
    "xpred[:,0] = np.tile(np.linspace(xgp[:,0].min(), xgp[:,0].max()), 2)\n",
    "xpred[50:,1] = 0.083\n",
    "xpred[:,2] = 1000\n",
    "xpred[:,3] = 1000\n",
    "\n",
    "mu, cov = m.predict_noiseless(xpred, full_cov=True)\n",
    "pred = popmachine.normal.MultivariateNormal(mu, cov)\n",
    "pred.dot(op).plot(xpred[:50,0])\n",
    "    \n",
    "plt.tight_layout()"
   ]
  },
  {
   "cell_type": "code",
   "execution_count": null,
   "metadata": {},
   "outputs": [],
   "source": [
    "np.isclose(0, ds.meta['mM PQ'].values.astype(float))"
   ]
  },
  {
   "cell_type": "code",
   "execution_count": null,
   "metadata": {
    "collapsed": true
   },
   "outputs": [],
   "source": []
  },
  {
   "cell_type": "code",
   "execution_count": null,
   "metadata": {
    "collapsed": true
   },
   "outputs": [],
   "source": []
  },
  {
   "cell_type": "code",
   "execution_count": null,
   "metadata": {},
   "outputs": [],
   "source": [
    "melt = ds.melt()\n",
    "melt.head()"
   ]
  },
  {
   "cell_type": "code",
   "execution_count": null,
   "metadata": {},
   "outputs": [],
   "source": [
    "xgp = melt[['time', 'mM PQ', 'plate']].copy()\n",
    "xgp[['plate']] = xgp.plate.factorize()[0]\n",
    "xgp = xgp.values.astype(float)\n",
    "\n",
    "ygp = melt['od'].values[:,None]"
   ]
  },
  {
   "cell_type": "code",
   "execution_count": null,
   "metadata": {},
   "outputs": [],
   "source": [
    "kmain = GPy.kern.RBF(2, ARD=True, name='main')\n",
    "kbatch = GPy.kern.RBF(2, ARD=True, name='batch')\n",
    "kern = GPy.kern.Hierarchical((kmain, kbatch))\n",
    "\n",
    "kern"
   ]
  },
  {
   "cell_type": "code",
   "execution_count": null,
   "metadata": {},
   "outputs": [],
   "source": [
    "xgp[::100,:]"
   ]
  },
  {
   "cell_type": "code",
   "execution_count": null,
   "metadata": {},
   "outputs": [],
   "source": [
    "m = GPy.models.GPRegressionGrid(xgp[::100,:2], ygp[::100,:], GPy.kern.RBF(input_dim=2, variance=1, ARD=True))"
   ]
  },
  {
   "cell_type": "code",
   "execution_count": null,
   "metadata": {},
   "outputs": [],
   "source": [
    "g = melt[['time', 'mM PQ', 'od']].groupby(['time', 'mM PQ'])\n",
    "app = g.apply(mean)\n",
    "app = app['od']\n",
    "\n",
    "app"
   ]
  },
  {
   "cell_type": "code",
   "execution_count": null,
   "metadata": {
    "collapsed": true
   },
   "outputs": [],
   "source": [
    "import pandas as pd"
   ]
  },
  {
   "cell_type": "code",
   "execution_count": null,
   "metadata": {},
   "outputs": [],
   "source": [
    "ygp = app.reshape((87, 3))\n",
    "x0 = app.index.get_level_values(0).values\n",
    "x1 = app.index.get_level_values(1).values.astype(float)[:3]"
   ]
  },
  {
   "cell_type": "code",
   "execution_count": null,
   "metadata": {},
   "outputs": [],
   "source": [
    "x1"
   ]
  },
  {
   "cell_type": "code",
   "execution_count": null,
   "metadata": {},
   "outputs": [],
   "source": [
    "m = GPy.models.GPKroneckerGaussianRegression(x0, x1, ygp, GPy.kern.RBF(), GPy.kern.RBF())"
   ]
  },
  {
   "cell_type": "code",
   "execution_count": null,
   "metadata": {},
   "outputs": [],
   "source": []
  },
  {
   "cell_type": "code",
   "execution_count": null,
   "metadata": {},
   "outputs": [],
   "source": [
    "ygp = app.values.reshape((87, 3))\n",
    "xgp = np.array(app.index.tolist()).astype(float)\n",
    "ygp = ygp.flatten()[:,None]\n",
    "m = GPy.models.GPRegressionGrid(xgp, ygp, GPy.kern.RBF(input_dim=2, variance=1, ARD=True))\n",
    "m.randomize()\n",
    "m"
   ]
  },
  {
   "cell_type": "code",
   "execution_count": null,
   "metadata": {},
   "outputs": [],
   "source": [
    "m.optimize()\n",
    "m"
   ]
  },
  {
   "cell_type": "code",
   "execution_count": null,
   "metadata": {},
   "outputs": [],
   "source": [
    "m.kern.lengthscale"
   ]
  },
  {
   "cell_type": "code",
   "execution_count": null,
   "metadata": {},
   "outputs": [],
   "source": [
    "xpred = np.zeros((50, 2))\n",
    "xpred[:,0] = np.linspace(ds.data.index.min(), ds.data.index.max())\n",
    "\n",
    "mu, cov = m.predict(xpred, full_cov=False)\n",
    "pred = popmachine.normal.MultivariateNormal(mu, np.eye(50)*cov)\n",
    "pred.plot()"
   ]
  },
  {
   "cell_type": "code",
   "execution_count": null,
   "metadata": {
    "collapsed": true
   },
   "outputs": [],
   "source": []
  },
  {
   "cell_type": "code",
   "execution_count": null,
   "metadata": {},
   "outputs": [],
   "source": [
    "(48-4.5)*2"
   ]
  },
  {
   "cell_type": "code",
   "execution_count": null,
   "metadata": {
    "collapsed": true
   },
   "outputs": [],
   "source": []
  },
  {
   "cell_type": "code",
   "execution_count": null,
   "metadata": {
    "collapsed": true
   },
   "outputs": [],
   "source": [
    "GPy.models.GPKroneckerGaussianRegression()"
   ]
  },
  {
   "cell_type": "code",
   "execution_count": null,
   "metadata": {},
   "outputs": [],
   "source": [
    "4*87"
   ]
  },
  {
   "cell_type": "code",
   "execution_count": null,
   "metadata": {
    "collapsed": true
   },
   "outputs": [],
   "source": []
  },
  {
   "cell_type": "markdown",
   "metadata": {},
   "source": [
    "# mM PQ = .333 "
   ]
  },
  {
   "cell_type": "code",
   "execution_count": null,
   "metadata": {
    "collapsed": true
   },
   "outputs": [],
   "source": [
    "# ds = machine.search(plates=[u'20161010_PQ_osmo', u'20150517 PQ 3', u'20161107_PQ_osmo_combo',\n",
    "#        u'20150715 PQ 8', u'20150702 PQ 6', u'20150630 PQ 5', u'20150704 PQ 7', u'20150717 PQ 9'], Strain='ura3', **{'mM PQ':[0.0, 0.083, 0.333], 'M NaCl':['4.2', None]})\n",
    "\n",
    "ds = machine.search(plates=[u'20161010_PQ_osmo', u'20150517 PQ 3', u'20161107_PQ_osmo_combo',\n",
    "       u'20150715 PQ 8', u'20150702 PQ 6', u'20150630 PQ 5', u'20150704 PQ 7', u'20150717 PQ 9', u'20150607 PQ 4'], Strain='ura3', **{'mM PQ':[0.0, 0.333, 333.0], 'M NaCl':['4.2', None]})\n",
    "ds.trim(10)\n",
    "ds.log()\n",
    "ds.poly_scale(2,groupby=['plate','mM PQ'])\n",
    "ds.filter()"
   ]
  },
  {
   "cell_type": "code",
   "execution_count": null,
   "metadata": {},
   "outputs": [],
   "source": [
    "ds.meta.loc[ds.meta['mM PQ'] == '333.0', 'mM PQ'] = '0.333'"
   ]
  },
  {
   "cell_type": "code",
   "execution_count": null,
   "metadata": {},
   "outputs": [],
   "source": [
    "plt.figure(figsize=(20,6))\n",
    "\n",
    "ds.plot(columns=['plate'], colorby=['mM PQ'], buff=.3)\n",
    "\n",
    "\n",
    "plt.savefig('figures/pq-ura3-0.333.pdf', bbox_inches='tight')"
   ]
  },
  {
   "cell_type": "code",
   "execution_count": null,
   "metadata": {},
   "outputs": [],
   "source": [
    "melt = ds.melt()\n",
    "# melt = melt.iloc[::10,:]\n",
    "ind = np.random.choice(range(melt.shape[0]), 3000, replace=False)\n",
    "melt = melt.iloc[ind,:]\n",
    "\n",
    "plt.scatter(melt.time, melt.od, c=melt['mM PQ'])\n",
    "\n",
    "melt.shape"
   ]
  },
  {
   "cell_type": "code",
   "execution_count": null,
   "metadata": {},
   "outputs": [],
   "source": [
    "xgp = melt[['time', 'mM PQ', 'plate', 'number']].copy()\n",
    "xgp['pq'] = xgp['mM PQ'].astype(float)\n",
    "xgp['plate-number'] = xgp['plate'].astype(str) + \"_\" + xgp['number'].astype(str)\n",
    "xgp[['plate']], plate_labels = xgp.plate.factorize()\n",
    "xgp[['plate-number']], _ = xgp['plate-number'].factorize()\n",
    "\n",
    "xgp = patsy.dmatrix('scale(time) + scale(pq) + plate + number + 0', xgp)\n",
    "designInfo = xgp.design_info"
   ]
  },
  {
   "cell_type": "code",
   "execution_count": null,
   "metadata": {},
   "outputs": [],
   "source": [
    "xgp = np.array(xgp)"
   ]
  },
  {
   "cell_type": "code",
   "execution_count": null,
   "metadata": {},
   "outputs": [],
   "source": [
    "kmain = GPy.kern.RBF(2, ARD=True, name='main')\n",
    "kbatch = GPy.kern.RBF(2, ARD=True, name='batch')\n",
    "krep = GPy.kern.RBF(2, ARD=True, name='rep')\n",
    "# kern = GPy.kern.Hierarchical((kmain, kbatch))\n",
    "kern = GPy.kern.Hierarchical((kmain, kbatch, krep))\n",
    "\n",
    "kern"
   ]
  },
  {
   "cell_type": "code",
   "execution_count": null,
   "metadata": {},
   "outputs": [],
   "source": [
    "m = GPy.models.GPRegression(xgp, ygp, kern, normalizer=True)\n",
    "m.randomize()\n",
    "m"
   ]
  },
  {
   "cell_type": "code",
   "execution_count": null,
   "metadata": {},
   "outputs": [],
   "source": [
    "m.optimize()\n",
    "m"
   ]
  },
  {
   "cell_type": "code",
   "execution_count": null,
   "metadata": {},
   "outputs": [],
   "source": [
    "m['.*lengthscale']"
   ]
  },
  {
   "cell_type": "code",
   "execution_count": null,
   "metadata": {},
   "outputs": [],
   "source": [
    "xpred = np.zeros((100,4))\n",
    "xpred[:,0] = np.tile(np.linspace(xgp[:,0].min(), xgp[:,0].max()), 2)\n",
    "xpred[:50,1] = xgp[:,1].min()\n",
    "xpred[50:,1] = xgp[:,1].max()\n",
    "xpred[:,2] = 1000\n",
    "xpred[:,3] = 1000\n",
    "\n",
    "mu, cov = m.predict_noiseless(xpred, full_cov=True, kern=m.kern.main)\n",
    "pred = popmachine.normal.MultivariateNormal(mu, cov)\n",
    "pred.plot()"
   ]
  },
  {
   "cell_type": "code",
   "execution_count": null,
   "metadata": {},
   "outputs": [],
   "source": [
    "op = np.zeros((50,100))\n",
    "op[:,:50] = -np.eye(50)\n",
    "op[:,50:] = np.eye(50)\n",
    "pred.dot(op).plot()"
   ]
  },
  {
   "cell_type": "code",
   "execution_count": null,
   "metadata": {
    "collapsed": true
   },
   "outputs": [],
   "source": []
  },
  {
   "cell_type": "code",
   "execution_count": null,
   "metadata": {
    "collapsed": true
   },
   "outputs": [],
   "source": []
  },
  {
   "cell_type": "code",
   "execution_count": null,
   "metadata": {
    "collapsed": true
   },
   "outputs": [],
   "source": []
  },
  {
   "cell_type": "code",
   "execution_count": null,
   "metadata": {
    "collapsed": true
   },
   "outputs": [],
   "source": []
  },
  {
   "cell_type": "code",
   "execution_count": null,
   "metadata": {
    "collapsed": true
   },
   "outputs": [],
   "source": []
  },
  {
   "cell_type": "markdown",
   "metadata": {},
   "source": [
    "## other strains "
   ]
  },
  {
   "cell_type": "code",
   "execution_count": null,
   "metadata": {},
   "outputs": [],
   "source": [
    "ds = machine.search(plates=[u'20161010_PQ_osmo', u'20150517 PQ 3', u'20161107_PQ_osmo_combo',\n",
    "       u'20150715 PQ 8', u'20150702 PQ 6', u'20150630 PQ 5', u'20150704 PQ 7', u'20150717 PQ 9', u'20150607 PQ 4'], \n",
    "                    Strain=['ura3', 'rosR', 'hrg', 'VNG0194H', 'hlx2', 'hlx1', 'sirR', 'prp2', 'cspD2', 'arcR'], \n",
    "                    **{'mM PQ':[0.0, 0.083, 0.333, 333.0], 'M NaCl':['4.2', None]})\n",
    "ds.trim(10)\n",
    "ds.log()\n",
    "ds.poly_scale(2,groupby=['plate','mM PQ'])\n",
    "ds.filter()"
   ]
  },
  {
   "cell_type": "code",
   "execution_count": null,
   "metadata": {},
   "outputs": [],
   "source": [
    "plt.figure(figsize=(18,12))\n",
    "\n",
    "ds.plot(columns=['plate'], rows=['Strain'], colorby=['mM PQ'], buff=.3)\n",
    "plt.tight_layout()\n",
    "\n",
    "plt.savefig('figures/pq-strain.pdf', bbox_inches='tight')"
   ]
  }
 ],
 "metadata": {
  "kernelspec": {
   "display_name": "Python 2",
   "language": "python",
   "name": "python2"
  },
  "language_info": {
   "codemirror_mode": {
    "name": "ipython",
    "version": 2
   },
   "file_extension": ".py",
   "mimetype": "text/x-python",
   "name": "python",
   "nbconvert_exporter": "python",
   "pygments_lexer": "ipython2",
   "version": "2.7.6"
  }
 },
 "nbformat": 4,
 "nbformat_minor": 1
}