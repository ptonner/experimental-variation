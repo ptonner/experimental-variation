{
 "cells": [
  {
   "cell_type": "code",
   "execution_count": null,
   "metadata": {},
   "outputs": [],
   "source": [
    "%pylab"
   ]
  },
  {
   "cell_type": "code",
   "execution_count": null,
   "metadata": {
    "collapsed": true
   },
   "outputs": [],
   "source": [
    "%matplotlib inline"
   ]
  },
  {
   "cell_type": "code",
   "execution_count": null,
   "metadata": {},
   "outputs": [],
   "source": [
    "import popmachine, itertools, patsy, GPy, scipy\n",
    "import pandas as pd\n",
    "from popmachine.normal import MultivariateNormal"
   ]
  },
  {
   "cell_type": "code",
   "execution_count": null,
   "metadata": {
    "collapsed": true
   },
   "outputs": [],
   "source": [
    "machine = popmachine.Machine('sqlite:///../popmachine_local/.popmachine.db')"
   ]
  },
  {
   "cell_type": "code",
   "execution_count": null,
   "metadata": {},
   "outputs": [],
   "source": [
    "ds = machine.search(include=['Strain'], **{'mM PQ':[0.0, 0.083, 0.333], 'M NaCl':['4.2', None]})\n",
    "ds.meta.plate.unique()"
   ]
  },
  {
   "cell_type": "code",
   "execution_count": null,
   "metadata": {},
   "outputs": [],
   "source": [
    "ds = machine.search(plates=[u'20161010_PQ_osmo', u'20150517 PQ 3', u'20161107_PQ_osmo_combo',\n",
    "       u'20150715 PQ 8', u'20150702 PQ 6', u'20150630 PQ 5', u'20150704 PQ 7', u'20150717 PQ 9', u'20150607 PQ 4'], include=['Strain'], **{'mM PQ':[0.0, 0.083, 0.333, 333], 'M NaCl':['4.2', None]})\n",
    "ds.meta.Strain.unique()"
   ]
  },
  {
   "cell_type": "code",
   "execution_count": null,
   "metadata": {
    "collapsed": true
   },
   "outputs": [],
   "source": [
    "# ds = machine.search(plates=[u'20161010_PQ_osmo', u'20150517 PQ 3', u'20161107_PQ_osmo_combo',\n",
    "#        u'20150715 PQ 8', u'20150702 PQ 6', u'20150630 PQ 5', u'20150704 PQ 7', u'20150717 PQ 9'], Strain='ura3', **{'mM PQ':[0.0, 0.083, 0.333], 'M NaCl':['4.2', None]})\n",
    "\n",
    "ds = machine.search(plates=[u'20161010_PQ_osmo', u'20150517 PQ 3', u'20161107_PQ_osmo_combo',\n",
    "       u'20150715 PQ 8', u'20150702 PQ 6', u'20150630 PQ 5', u'20150704 PQ 7', u'20150717 PQ 9', u'20150607 PQ 4'], Strain='ura3', **{'mM PQ':[0.0, 0.083, 0.33, 0.333,333.0], 'M NaCl':['4.2', None]})\n",
    "ds.meta.loc[ds.meta['mM PQ'] == '333.0', 'mM PQ'] = '0.333'\n",
    "ds.trim(10)\n",
    "ds.log()\n",
    "ds.poly_scale(2,groupby=['plate','mM PQ'])\n",
    "ds.filter()"
   ]
  },
  {
   "cell_type": "code",
   "execution_count": null,
   "metadata": {},
   "outputs": [],
   "source": [
    "plt.figure(figsize=(20,6))\n",
    "\n",
    "ds.plot(columns=['plate'], colorby=['mM PQ'], buff=.3)"
   ]
  },
  {
   "cell_type": "code",
   "execution_count": null,
   "metadata": {},
   "outputs": [],
   "source": [
    "for pq in ['0.0', '0.083', '0.333']:\n",
    "    temp = ds.data.loc[:,ds.meta['mM PQ']==pq]\n",
    "    temp.to_csv('ura3-%smMPQ.csv'%pq,)\n",
    "    \n",
    "    plt.figure()\n",
    "    plt.plot(temp.index, temp.values, c='k', alpha=.4)\n",
    "    plt.ylim(-.6,2.6)"
   ]
  },
  {
   "cell_type": "markdown",
   "metadata": {},
   "source": [
    "## parameters "
   ]
  },
  {
   "cell_type": "code",
   "execution_count": null,
   "metadata": {},
   "outputs": [],
   "source": [
    "params = pd.DataFrame()\n",
    "\n",
    "plt.figure(figsize=(10,4))\n",
    "\n",
    "for pq in ['0.0', '0.083', '0.333']:\n",
    "    temp = pd.read_csv('ura3-%smMPQ_params.csv'%pq,index_col=0)\n",
    "    temp['mMPQ'] = float(pq)\n",
    "    temp['plate'] = ds.meta.loc[ds.meta['mM PQ']==pq, 'plate'].values\n",
    "    \n",
    "    params = pd.concat((params, temp), 0)\n",
    "    \n",
    "    plt.subplot(131)\n",
    "    plt.hist(temp['mu.model'],alpha=.6, label='mM PQ = %s'%pq, normed=True)\n",
    "    plt.legend()\n",
    "    \n",
    "    plt.subplot(132)\n",
    "    plt.hist(temp['lambda.model'],alpha=.6, label='mM PQ = %s'%pq, normed=True)\n",
    "    \n",
    "    plt.subplot(133)\n",
    "    plt.hist(temp['A.model'],alpha=.6, label='mM PQ = %s'%pq, normed=True)\n",
    "    \n"
   ]
  },
  {
   "cell_type": "code",
   "execution_count": null,
   "metadata": {},
   "outputs": [],
   "source": [
    "params.head()"
   ]
  },
  {
   "cell_type": "code",
   "execution_count": null,
   "metadata": {},
   "outputs": [],
   "source": [
    "g = params.groupby(['plate', 'mMPQ'])\n",
    "g.groups.keys()"
   ]
  },
  {
   "cell_type": "code",
   "execution_count": null,
   "metadata": {
    "collapsed": true
   },
   "outputs": [],
   "source": []
  },
  {
   "cell_type": "code",
   "execution_count": null,
   "metadata": {},
   "outputs": [],
   "source": [
    "\n",
    "g = params.groupby(['mMPQ', 'plate'])\n",
    "\n",
    "plt.figure(figsize=(10,10))\n",
    "for i, p in enumerate(['mu', 'lambda', 'A']):\n",
    "    z = np.linspace(params[p+'.model'].min()*.9, params[p+'.model'].max()*1.1)\n",
    "    \n",
    "    for j, pq in enumerate([0.0, .083, .333]):\n",
    "        plt.subplot(3,3,i+j*3+1)\n",
    "        \n",
    "        if j == 0:\n",
    "            plt.title(p)\n",
    "        if i == 0:\n",
    "            plt.ylabel('mM PQ = %.3lf'%pq)\n",
    "        \n",
    "        for pl in params.plate.unique():\n",
    "            temp = g.get_group((pq, pl))\n",
    "                        \n",
    "            kde = scipy.stats.gaussian_kde(temp[p+'.model'].values)\n",
    "            #plt.plot(z, kde(z)/kde(z).max(), label=pl)\n",
    "            plt.plot(z, kde(z), label=pl)\n",
    "            \n",
    "            #plt.hist(temp[p+'.model'],alpha=.5, normed=True)\n",
    "            \n",
    "        kde = scipy.stats.gaussian_kde(params.loc[params.mMPQ==pq, p+'.model'].values)\n",
    "        #plt.plot(z, kde(z)/kde(z).max(), label=pl, c='k', lw=3)\n",
    "        plt.plot(z, kde(z), label=pl, c='k', lw=3)\n",
    "            \n",
    "plt.tight_layout()\n",
    "\n",
    "plt.savefig('figures/ura3-mMPQ-params-kde.pdf', bbox_inches='tight')"
   ]
  },
  {
   "cell_type": "code",
   "execution_count": null,
   "metadata": {},
   "outputs": [],
   "source": [
    "\n",
    "g = params.groupby(['mMPQ', 'plate'])\n",
    "\n",
    "plt.figure(figsize=(10,10))\n",
    "for i, p in enumerate(['mu', 'lambda', 'A']):\n",
    "    z = np.linspace(params[p+'.model'].min()*.9, params[p+'.model'].max()*1.1)\n",
    "    \n",
    "    for j, pq in enumerate([.083, .333]):\n",
    "        plt.subplot(2,3,i+j*3+1)\n",
    "        \n",
    "        if j == 0:\n",
    "            plt.title(p)\n",
    "        if i == 0:\n",
    "            plt.ylabel('mM PQ = %.3lf'%pq)\n",
    "        \n",
    "        for pl in params.plate.unique():\n",
    "            cond = g.get_group((pq, pl))[p+'.model']\n",
    "            cont = g.get_group((0.0, pl))[p+'.model']\n",
    "                        \n",
    "            kde1 = scipy.stats.gaussian_kde(cond.values)\n",
    "            kde2 = scipy.stats.gaussian_kde(cont.values)\n",
    "            plt.plot(z, kde1(z)-kde2(z), label=pl)\n",
    "            \n",
    "            #plt.hist(temp[p+'.model'],alpha=.5, normed=True)\n",
    "            \n",
    "        kde = scipy.stats.gaussian_kde(params.loc[params.mMPQ==pq, p+'.model'].values)\n",
    "        #plt.plot(z, kde(z)/kde(z).max(), label=pl, c='k', lw=3)\n",
    "        #plt.plot(z, kde(z), label=pl, c='k', lw=3)\n",
    "            \n",
    "plt.tight_layout()\n",
    "\n",
    "# plt.savefig('figures/ura3-mMPQ-params.pdf', bbox_inches='tight')"
   ]
  },
  {
   "cell_type": "code",
   "execution_count": null,
   "metadata": {
    "scrolled": false
   },
   "outputs": [],
   "source": [
    "g = params.groupby(['mMPQ', 'plate'])\n",
    "for p in ['mu', 'lambda', 'A']:\n",
    "    z = np.linspace(params[p+'.model'].min()*.9, params[p+'.model'].max()*1.1)\n",
    "    \n",
    "    plt.figure(figsize=(9,9))\n",
    "    for i,pl in enumerate(params.plate.unique()):\n",
    "        plt.subplot(3,3,i+1)\n",
    "        \n",
    "        for j, pq in enumerate([0.0, .083, .333]):\n",
    "            cond = g.get_group((pq, pl))[p+'.model']\n",
    "            \n",
    "            kde = scipy.stats.gaussian_kde(cond.values)\n",
    "            plt.plot(z, kde(z), label='%s mM PQ'%str(pq),c='C%d'%(j))\n",
    "            \n",
    "            if i == 0:\n",
    "                plt.ylabel('mM PQ = %.3lf'%pq)\n",
    "                plt.legend()\n",
    "                \n",
    "            plt.yticks([])\n",
    "                \n",
    "        _,yl = plt.ylim()\n",
    "        \n",
    "        for j, pq in enumerate([.083, .333]):\n",
    "            cond = g.get_group((pq, pl))[p+'.model']\n",
    "            cont = g.get_group((0.0, pl))[p+'.model']\n",
    "            tstat, pval = scipy.stats.ttest_ind(cond, cont)\n",
    "\n",
    "            if pval < 0.05:\n",
    "                #plt.scatter([cond.mean()], [-.1*yl], marker='x', color='C%d'%(j+1), s=-10*np.log10(pval))\n",
    "                plt.scatter([cond.mean()], [-.1*yl], marker='x', color='C%d'%(j+1))\n",
    "\n",
    "    plt.tight_layout()\n",
    "    plt.savefig('figures/ura3-mMPQ-kde-%s.pdf'%p, bbox_inches='tight')"
   ]
  },
  {
   "cell_type": "code",
   "execution_count": null,
   "metadata": {},
   "outputs": [],
   "source": [
    "cond = g.get_group((pq, pl))[p+'.model']  \n",
    "cont = g.get_group((0.0, pl))[p+'.model']\n",
    "\n",
    "tstat, pval = scipy.stats.ttest_ind(cond, cont)\n",
    "pval"
   ]
  },
  {
   "cell_type": "code",
   "execution_count": null,
   "metadata": {
    "collapsed": true
   },
   "outputs": [],
   "source": []
  },
  {
   "cell_type": "code",
   "execution_count": null,
   "metadata": {},
   "outputs": [],
   "source": [
    "plates = params.plate.unique().tolist()\n",
    "plt.figure(figsize=(10,10))\n",
    "for i, p in enumerate(['mu', 'lambda', 'A']):\n",
    "    \n",
    "    for j, pq in enumerate([.083, .333]):\n",
    "        plt.subplot(2,3,i+j*3+1)\n",
    "        \n",
    "        if j == 0:\n",
    "            plt.title(p)\n",
    "        if i == 0:\n",
    "            plt.ylabel('mM PQ = %.3lf'%pq)\n",
    "        \n",
    "        for pl in plates:\n",
    "            cond = g.get_group((pq, pl))[p+'.model']\n",
    "            cont = g.get_group((0.0, pl))[p+'.model']\n",
    "            \n",
    "            plt.boxplot([cond], positions=[plates.index(pl)*2], boxprops={'color':'k'}, showfliers=False)\n",
    "            plt.boxplot([cont], positions=[plates.index(pl)*2+1], boxprops={'color':'b'}, showfliers=False)\n",
    "            \n",
    "            \n",
    "        plt.xlim(0, len(plates)*2)\n",
    "                        \n",
    "        "
   ]
  },
  {
   "cell_type": "code",
   "execution_count": null,
   "metadata": {
    "collapsed": true
   },
   "outputs": [],
   "source": []
  },
  {
   "cell_type": "code",
   "execution_count": null,
   "metadata": {
    "collapsed": true
   },
   "outputs": [],
   "source": []
  },
  {
   "cell_type": "code",
   "execution_count": null,
   "metadata": {
    "collapsed": true
   },
   "outputs": [],
   "source": []
  },
  {
   "cell_type": "code",
   "execution_count": null,
   "metadata": {
    "collapsed": true
   },
   "outputs": [],
   "source": []
  },
  {
   "cell_type": "code",
   "execution_count": null,
   "metadata": {},
   "outputs": [],
   "source": [
    "plt.figure(figsize=(9,9))\n",
    "\n",
    "g = ds.meta.groupby(['plate', 'mM PQ'])\n",
    "\n",
    "keys = ds.meta.plate.unique().tolist()\n",
    "for k, ind in g:\n",
    "    temp = ds.data.iloc[:,ind.index]\n",
    "    \n",
    "    p, pq = k\n",
    "    \n",
    "    i = keys.index(p)\n",
    "    \n",
    "    plt.subplot(3,3,i+1)\n",
    "    \n",
    "    \n",
    "        \n",
    "    if i == 0:\n",
    "        if pq == '0.0':\n",
    "            plt.plot(temp.index, temp.values[:,0], c='k', label='mM PQ = 0.0')\n",
    "            plt.plot(temp.index, temp.values[:,1:], c='k')\n",
    "        elif pq == '0.333':\n",
    "            plt.plot(temp.index, temp.values[:,0], c='limegreen', label='mM PQ = 0.333')\n",
    "            plt.plot(temp.index, temp.values[:,1:], c='limegreen')\n",
    "        else:\n",
    "            plt.plot(temp.index, temp.values[:,0], c='cyan', label='mM PQ = 0.083')\n",
    "            plt.plot(temp.index, temp.values[:,1:], c='cyan')\n",
    "        plt.legend()\n",
    "        \n",
    "    else:\n",
    "        if pq == '0.0':\n",
    "            plt.plot(temp.index, temp.values, c='k', label='mM PQ = 0.0')\n",
    "        elif pq == '0.333':\n",
    "            plt.plot(temp.index, temp.values, c='limegreen', label='mM PQ = 0.333')\n",
    "        else:\n",
    "            plt.plot(temp.index, temp.values, c='cyan', label='mM PQ = 0.083')\n",
    "            \n",
    "    if i % 3 == 0:\n",
    "        plt.ylabel('log(OD)', fontsize=14)\n",
    "    if i > 5:\n",
    "        plt.xlabel('time (h)', fontsize=14)\n",
    "            \n",
    "    plt.ylim(ds.data.min().min(), ds.data.max().max())\n",
    "    \n",
    "plt.savefig('figures/ura3_PQ_data.pdf', bbox_inches='tight')"
   ]
  },
  {
   "cell_type": "code",
   "execution_count": null,
   "metadata": {},
   "outputs": [],
   "source": [
    "pq0 = ds.meta['mM PQ'] == '0.0'\n",
    "pq333 = ds.meta['mM PQ'] == '0.333'\n",
    "pq083 = ds.meta['mM PQ'] == '0.083'\n",
    "\n",
    "m = (ds.data.loc[:,pq083].mean(1) - ds.data.loc[:,pq0].mean(1))\n",
    "s = np.sqrt(ds.data.loc[:,pq083].var(1) + ds.data.loc[:,pq0].var(1))\n",
    "\n",
    "plt.plot(ds.data.index, m, c='cyan', label='mM PQ = 0.083')\n",
    "plt.fill_between(ds.data.index, m-2*s, m+2*s, alpha=.4, color='cyan')\n",
    "\n",
    "m = (ds.data.loc[:,pq333].mean(1) - ds.data.loc[:,pq0].mean(1))\n",
    "s = np.sqrt(ds.data.loc[:,pq333].var(1) + ds.data.loc[:,pq0].var(1))\n",
    "\n",
    "plt.plot(ds.data.index, m, c='limegreen', label='mM PQ = 0.333')\n",
    "plt.fill_between(ds.data.index, m-2*s, m+2*s, alpha=.4, color='limegreen')\n",
    "\n",
    "plt.plot([ds.data.index.min(), ds.data.index.max()], [0,0], c='k', lw=2)\n",
    "\n",
    "plt.legend()"
   ]
  },
  {
   "cell_type": "code",
   "execution_count": null,
   "metadata": {},
   "outputs": [],
   "source": [
    "pvals = []\n",
    "tstats = []\n",
    "\n",
    "for i in range(ds.data.shape[0]):\n",
    "    \n",
    "    p1 = ds.data.loc[ds.data.index[i],pq083]\n",
    "    p2 = ds.data.loc[ds.data.index[i],pq0]\n",
    "    \n",
    "    ts, pv = scipy.stats.ttest_ind(p1, p2)\n",
    "    \n",
    "    pvals.append(pv)\n",
    "    tstats.append(ts)\n",
    "    \n",
    "# plt.plot(ds.data.index, -np.log10(pvals), c='cyan', label='mM PQ = 0.083')\n",
    "plt.plot(ds.data.index, tstats, c='cyan', label='mM PQ = 0.083')\n",
    "\n",
    "\n",
    "pvals = []\n",
    "tstats = []\n",
    "\n",
    "for i in range(ds.data.shape[0]):\n",
    "    \n",
    "    p1 = ds.data.loc[ds.data.index[i],pq333]\n",
    "    p2 = ds.data.loc[ds.data.index[i],pq0]\n",
    "    \n",
    "    ts, pv = scipy.stats.ttest_ind(p1, p2)\n",
    "    \n",
    "    pvals.append(pv)\n",
    "    tstats.append(ts)\n",
    "    \n",
    "df = p1.shape[0] + p2.shape[0] - 2\n",
    "t = scipy.stats.t(df=df)\n",
    "    \n",
    "# plt.plot(ds.data.index, -np.log10(pvals), c='limegreen', label='mM PQ = 0.333')\n",
    "plt.plot(ds.data.index, tstats, c='limegreen', label='mM PQ = 0.333')\n",
    "\n",
    "\n",
    "# plt.plot([ds.data.index.min(), ds.data.index.max()], [-np.log10(.05)]*2, c='k', lw=2)\n",
    "plt.plot([ds.data.index.min(), ds.data.index.max()], [t.ppf(.05)]*2, c='k', lw=2)\n",
    "\n",
    "plt.legend()\n",
    "\n",
    "plt.ylabel('$t$', fontsize=14)\n",
    "plt.xlabel('time (h)', fontsize=14)    \n",
    "plt.savefig('figures/ura3_PQ_data_ttest.pdf', bbox_inches='tight')"
   ]
  },
  {
   "cell_type": "code",
   "execution_count": null,
   "metadata": {},
   "outputs": [],
   "source": [
    "plt.figure(figsize=(14,4))\n",
    "\n",
    "for i in range(ds.data.shape[0]):\n",
    "    \n",
    "    p1 = ds.data.loc[ds.data.index[i],pq083]\n",
    "    p2 = ds.data.loc[ds.data.index[i],pq0]\n",
    "    \n",
    "    ts, pv = scipy.stats.ttest_ind(p1, p2)\n",
    "    \n",
    "    plt.boxplot([p1], positions=[2*i], boxprops={'color':'b'}, showfliers=False)\n",
    "    plt.boxplot([p2], positions=[2*i + 1], showfliers=False)\n",
    "    \n",
    "\n",
    "for i in range(ds.data.shape[0]):\n",
    "    \n",
    "    p1 = ds.data.loc[ds.data.index[i],pq333]\n",
    "    p2 = ds.data.loc[ds.data.index[i],pq0]\n",
    "    \n",
    "    ts, pv = scipy.stats.ttest_ind(p1, p2)\n",
    "    \n",
    "# plt.xlim(0, ds.data.shape[0]*2)\n",
    "plt.xticks(range(0, ds.data.shape[0]*2, 8), range(0, ds.data.shape[0], 4))\n",
    "plt.xlim(40, 80)\n",
    "\n",
    "plt.ylabel('$t$', fontsize=14)\n",
    "# plt.xlabel('time (h)', fontsize=14)    \n",
    "# plt.savefig('figures/ura3_PQ_data_ttest.pdf', bbox_inches='tight')"
   ]
  },
  {
   "cell_type": "code",
   "execution_count": null,
   "metadata": {},
   "outputs": [],
   "source": [
    "\n",
    "for j, pq in enumerate(['0.083', '0.333']):\n",
    "    plt.subplot(1,2,j+1)\n",
    "    plt.title('mM PQ = %s'%pq, fontsize=16)\n",
    "    for p in ds.meta.plate.unique():\n",
    "        tstats = []\n",
    "        for i in range(ds.data.shape[0]):\n",
    "\n",
    "            s = (ds.meta['mM PQ'] == pq) & (ds.meta['plate'] == p)\n",
    "            p1 = ds.data.loc[ds.data.index[i],s]\n",
    "\n",
    "            s = (ds.meta['mM PQ'] == '0.0') & (ds.meta['plate'] == p)\n",
    "            p2 = ds.data.loc[ds.data.index[i],s]\n",
    "\n",
    "            ts, pv = scipy.stats.ttest_ind(p1, p2)\n",
    "\n",
    "            tstats.append(ts)\n",
    "\n",
    "        plt.plot(ds.data.index, tstats)\n",
    "        \n",
    "    if j == 0:\n",
    "        plt.ylabel('$t$', fontsize=14)\n",
    "    plt.xlabel('time (h)', fontsize=14)\n",
    "\n",
    "    df = p1.shape[0] + p2.shape[0] - 2\n",
    "    t = scipy.stats.t(df=df)\n",
    "    plt.plot([ds.data.index.min(), ds.data.index.max()], [t.ppf(.025)]*2, c='k', lw=2)\n",
    "    plt.plot([ds.data.index.min(), ds.data.index.max()], [t.ppf(.975)]*2, c='k', lw=2)\n",
    "\n",
    "plt.savefig('figures/ura3_PQ_data_ttest-batch.pdf', bbox_inches='tight')"
   ]
  },
  {
   "cell_type": "code",
   "execution_count": null,
   "metadata": {
    "collapsed": true
   },
   "outputs": [],
   "source": [
    "df = p1.shape[0] + p2.shape[0] - 2\n",
    "t = scipy.stats.t(df=df)"
   ]
  },
  {
   "cell_type": "code",
   "execution_count": null,
   "metadata": {},
   "outputs": [],
   "source": [
    "t.ppf(.05)"
   ]
  },
  {
   "cell_type": "code",
   "execution_count": null,
   "metadata": {},
   "outputs": [],
   "source": [
    "t.cdf(tstats) - pvals"
   ]
  },
  {
   "cell_type": "code",
   "execution_count": null,
   "metadata": {
    "collapsed": true
   },
   "outputs": [],
   "source": [
    "ts, pv = scipy.stats.ttest_ind(p1, p2)"
   ]
  },
  {
   "cell_type": "markdown",
   "metadata": {},
   "source": [
    "## edge effects "
   ]
  },
  {
   "cell_type": "code",
   "execution_count": null,
   "metadata": {
    "collapsed": true
   },
   "outputs": [],
   "source": [
    "def wellPosition(number):\n",
    "    number = int(number)\n",
    "    if number > 100:\n",
    "        return wellPosition(number%100)\n",
    "    if number == 0:\n",
    "        return 9,9\n",
    "    return [(number-1) % 10, (number-1)/10]"
   ]
  },
  {
   "cell_type": "code",
   "execution_count": null,
   "metadata": {
    "collapsed": true
   },
   "outputs": [],
   "source": [
    "# ds = machine.search(plates=[u'20161010_PQ_osmo', u'20150517 PQ 3', u'20161107_PQ_osmo_combo',\n",
    "#        u'20150715 PQ 8', u'20150702 PQ 6', u'20150630 PQ 5', u'20150704 PQ 7', u'20150717 PQ 9'], Strain='ura3', **{'mM PQ':[0.0, 0.083, 0.333], 'M NaCl':['4.2', None]})\n",
    "\n",
    "ds = machine.search(plates=[u'20161010_PQ_osmo', u'20150517 PQ 3', u'20161107_PQ_osmo_combo',\n",
    "       u'20150715 PQ 8', u'20150702 PQ 6', u'20150630 PQ 5', u'20150704 PQ 7', u'20150717 PQ 9', u'20150607 PQ 4'], Strain='ura3', **{'mM PQ':[0.0, 0.083, 0.33, 0.333,333.0], 'M NaCl':['4.2', None]})\n",
    "ds.meta.loc[ds.meta['mM PQ'] == '333.0', 'mM PQ'] = '0.333'\n",
    "ds.trim(10)\n",
    "ds.log()\n",
    "ds.poly_scale(2,groupby=['plate','mM PQ'])\n",
    "ds.filter()"
   ]
  },
  {
   "cell_type": "code",
   "execution_count": null,
   "metadata": {},
   "outputs": [],
   "source": [
    "plt.figure(figsize=(20,6))\n",
    "\n",
    "ds.plot(columns=['plate'], colorby=['mM PQ'], buff=.3)"
   ]
  },
  {
   "cell_type": "code",
   "execution_count": null,
   "metadata": {
    "collapsed": true
   },
   "outputs": [],
   "source": [
    "ds = machine.search(plates=[u'20161010_PQ_osmo', u'20150517 PQ 3', u'20161107_PQ_osmo_combo',\n",
    "       u'20150715 PQ 8', u'20150702 PQ 6', u'20150630 PQ 5', u'20150704 PQ 7', u'20150717 PQ 9', u'20150607 PQ 4'], Strain='ura3', **{'mM PQ':[0.0, 0.083, 0.33, 0.333], 'M NaCl':['4.2', None]})\n",
    "ds.meta.loc[ds.meta['mM PQ'] == '333.0', 'mM PQ'] = '0.333'\n",
    "ds.trim(10)\n",
    "ds.log()\n",
    "ds.poly_scale(2,groupby=['plate','mM PQ'])\n",
    "ds.filter()\n",
    "\n",
    "position = np.array(map(wellPosition,ds.meta.number))\n",
    "dist = np.column_stack((position.min(1),(9-position).min(1))).min(1)\n",
    "select = dist != 0\n",
    "\n",
    "ds.data = ds.data.iloc[:,select]\n",
    "ds.meta = ds.meta.iloc[select,:]\n",
    "\n",
    "ds.data.columns=range(ds.data.shape[1])\n",
    "ds.meta.index=range(ds.meta.shape[0])"
   ]
  },
  {
   "cell_type": "code",
   "execution_count": null,
   "metadata": {},
   "outputs": [],
   "source": [
    "plt.figure(figsize=(20,6))\n",
    "\n",
    "ds.plot(columns=['plate'], colorby=['mM PQ'], buff=.3)"
   ]
  },
  {
   "cell_type": "code",
   "execution_count": null,
   "metadata": {
    "collapsed": true
   },
   "outputs": [],
   "source": []
  }
 ],
 "metadata": {
  "kernelspec": {
   "display_name": "Python 2",
   "language": "python",
   "name": "python2"
  },
  "language_info": {
   "codemirror_mode": {
    "name": "ipython",
    "version": 2
   },
   "file_extension": ".py",
   "mimetype": "text/x-python",
   "name": "python",
   "nbconvert_exporter": "python",
   "pygments_lexer": "ipython2",
   "version": "2.7.6"
  }
 },
 "nbformat": 4,
 "nbformat_minor": 1
}