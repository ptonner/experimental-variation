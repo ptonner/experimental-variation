{
 "cells": [
  {
   "cell_type": "code",
   "execution_count": null,
   "metadata": {
    "collapsed": false
   },
   "outputs": [],
   "source": [
    "%pylab"
   ]
  },
  {
   "cell_type": "code",
   "execution_count": null,
   "metadata": {
    "collapsed": true
   },
   "outputs": [],
   "source": [
    "%matplotlib inline"
   ]
  },
  {
   "cell_type": "code",
   "execution_count": null,
   "metadata": {
    "collapsed": true
   },
   "outputs": [],
   "source": [
    "import GPy, scipy"
   ]
  },
  {
   "cell_type": "code",
   "execution_count": null,
   "metadata": {
    "collapsed": true
   },
   "outputs": [],
   "source": [
    "def gompertz(t,m,A,l):\n",
    "    return A * np.exp(-np.exp(m*np.e/A*(l-t) + 1))"
   ]
  },
  {
   "cell_type": "code",
   "execution_count": null,
   "metadata": {
    "collapsed": true
   },
   "outputs": [],
   "source": [
    "def add_subplot_axes(ax,rect,axisbg='w'):\n",
    "    fig = plt.gcf()\n",
    "    box = ax.get_position()\n",
    "    width = box.width\n",
    "    height = box.height\n",
    "    inax_position  = ax.transAxes.transform(rect[0:2])\n",
    "    transFigure = fig.transFigure.inverted()\n",
    "    infig_position = transFigure.transform(inax_position)    \n",
    "    x = infig_position[0]\n",
    "    y = infig_position[1]\n",
    "    width *= rect[2]\n",
    "    height *= rect[3]  # <= Typo was here\n",
    "    subax = fig.add_axes([x,y,width,height],axisbg=axisbg)\n",
    "    x_labelsize = subax.get_xticklabels()[0].get_size()\n",
    "    y_labelsize = subax.get_yticklabels()[0].get_size()\n",
    "    x_labelsize *= rect[2]**0.5\n",
    "    y_labelsize *= rect[3]**0.5\n",
    "    subax.xaxis.set_tick_params(labelsize=x_labelsize)\n",
    "    subax.yaxis.set_tick_params(labelsize=y_labelsize)\n",
    "    return subax\n"
   ]
  },
  {
   "cell_type": "code",
   "execution_count": null,
   "metadata": {
    "collapsed": true
   },
   "outputs": [],
   "source": [
    "def resid(m,y):\n",
    "    beta = np.dot(np.linalg.pinv(np.dot(m.T,m)), np.dot(m.T, y.T))\n",
    "    return (y.T-np.dot(m,beta)).T"
   ]
  },
  {
   "cell_type": "code",
   "execution_count": null,
   "metadata": {
    "collapsed": true
   },
   "outputs": [],
   "source": [
    "def buildCov(x, k1, k2):\n",
    "    cov = np.zeros((x.shape[0]*4, x.shape[0]*4))\n",
    "\n",
    "    cov[x.shape[0]:2*x.shape[0],x.shape[0]:2*x.shape[0]] += k1.K(x)\n",
    "    cov[x.shape[0]:2*x.shape[0],3*x.shape[0]:] += k1.K(x)\n",
    "    cov[3*x.shape[0]:,x.shape[0]:2*x.shape[0]] += k1.K(x)\n",
    "\n",
    "    cov[2*x.shape[0]:3*x.shape[0],2*x.shape[0]:3*x.shape[0]] += k2.K(x)\n",
    "    cov[2*x.shape[0]:3*x.shape[0],3*x.shape[0]:] += k2.K(x)\n",
    "    cov[3*x.shape[0]:,2*x.shape[0]:3*x.shape[0]] += k2.K(x)\n",
    "\n",
    "    cov[3*x.shape[0]:,3*x.shape[0]:] += kbatch.K(x) + krep.K(x)\n",
    "\n",
    "    # equal variance\n",
    "    #cov[range(cov.shape[0]),range(cov.shape[0])] = np.diag(cov).max()\n",
    "    \n",
    "    return cov"
   ]
  },
  {
   "cell_type": "code",
   "execution_count": null,
   "metadata": {
    "collapsed": false
   },
   "outputs": [],
   "source": [
    "# kbase = GPy.kern.RBF(1,name='base')\n",
    "# kbio = GPy.kern.Hierarchical([GPy.kern.RBF(1,name='base'), GPy.kern.RBF(1,name='bio', variance=.1)])\n",
    "# ktech = GPy.kern.Hierarchical([GPy.kern.RBF(1,name='base'), GPy.kern.RBF(1,name='bio', variance=.1), GPy.kern.RBF(1,name='tech', variance=.05)])"
   ]
  },
  {
   "cell_type": "code",
   "execution_count": null,
   "metadata": {
    "collapsed": true
   },
   "outputs": [],
   "source": [
    "nbatch = 3\n",
    "nrep = 4\n",
    "ntot = nbatch * nrep\n",
    "nobs = 30\n",
    "p = 2\n",
    "\n",
    "x = np.zeros((nobs*ntot,p+2))\n",
    "x[:,0] = np.tile(np.linspace(0,2, nobs), ntot)\n",
    "x[:,1] = np.tile(np.repeat([0,1], nobs), ntot/2)"
   ]
  },
  {
   "cell_type": "code",
   "execution_count": null,
   "metadata": {
    "collapsed": false
   },
   "outputs": [],
   "source": [
    "nbatch = 3\n",
    "nrep = 4\n",
    "ntot = nbatch * nrep\n",
    "nobs = 30\n",
    "p = 2\n",
    "\n",
    "x = np.zeros((nobs*ntot,p+2))\n",
    "x1 = np.zeros((nobs*ntot,p+1))\n",
    "x2 = np.zeros((nobs*ntot,p+1))\n",
    "\n",
    "x[:,0] = x1[:,0] = x2[:,0] = np.tile(np.linspace(0,2, nobs), ntot)\n",
    "x[:,1] = x1[:,1] = x2[:,1] = np.tile(np.repeat([0,1], nobs), ntot/2)\n",
    "x[:,2] = x2[:,2] = np.repeat(np.arange(nbatch), nrep*nobs)\n",
    "x[:,3] = x1[:,2] = np.repeat(np.arange(nbatch*nrep), nobs)\n",
    "\n",
    "x3 = x.copy()"
   ]
  },
  {
   "cell_type": "code",
   "execution_count": null,
   "metadata": {
    "collapsed": false
   },
   "outputs": [],
   "source": [
    "baseVariance, batchVariance, repVariance = .01, .01, .01\n",
    "\n",
    "kbase = GPy.kern.RBF(2,name='base',variance=baseVariance)\n",
    "kbatch = GPy.kern.IndependentOutputs(GPy.kern.RBF(2,name='batch', variance=batchVariance), index_dim=-2);\n",
    "krep = GPy.kern.IndependentOutputs(GPy.kern.RBF(2,name='replicate', variance=repVariance))"
   ]
  },
  {
   "cell_type": "code",
   "execution_count": null,
   "metadata": {
    "collapsed": false
   },
   "outputs": [],
   "source": [
    "plt.imshow(kbatch.K(x))\n",
    "\n",
    "plt.figure()\n",
    "plt.imshow(krep.K(x))"
   ]
  },
  {
   "cell_type": "code",
   "execution_count": null,
   "metadata": {
    "collapsed": false
   },
   "outputs": [],
   "source": [
    "plt.figure(figsize=(10,10))\n",
    "\n",
    "plt.subplot(221)\n",
    "plt.imshow(kbase.K(x))\n",
    "\n",
    "plt.subplot(222)\n",
    "plt.imshow(kbatch.K(x) + kbase.K(x))\n",
    "\n",
    "plt.subplot(223)\n",
    "plt.imshow(krep.K(x) + kbase.K(x))\n",
    "\n",
    "plt.subplot(224)\n",
    "plt.imshow(krep.K(x) + kbatch.K(x) + kbase.K(x))"
   ]
  },
  {
   "cell_type": "code",
   "execution_count": null,
   "metadata": {
    "collapsed": true
   },
   "outputs": [],
   "source": [
    "def generateSample(mu, cov, nugget, length=50):\n",
    "    noise = np.eye(mu.shape[0])*nugget\n",
    "    \n",
    "    return scipy.stats.multivariate_normal.rvs(mu,cov+noise).reshape((mu.shape[0]/length,length)).T"
   ]
  },
  {
   "cell_type": "code",
   "execution_count": null,
   "metadata": {
    "collapsed": false
   },
   "outputs": [],
   "source": [
    "cov = np.zeros((x.shape[0]*4, x.shape[0]*4))\n",
    "\n",
    "# cov = kbase.K(np.tile(x.T,4).T) #+ batchVariance + repVariance\n",
    "\n",
    "print cov.shape\n",
    "\n",
    "# cov[:,:x.shape[0]] = np.tile(kbase.K(x), 4).T\n",
    "# cov[:x.shape[0],:] = np.tile(kbase.K(x), 4)\n",
    "# cov[:x.shape[0],:] = kbase.K(x)\n",
    "cov[x.shape[0]:2*x.shape[0],x.shape[0]:2*x.shape[0]] += kbatch.K(x) #- batchVariance\n",
    "cov[x.shape[0]:2*x.shape[0],3*x.shape[0]:] += kbatch.K(x) #- batchVarianceA\n",
    "cov[3*x.shape[0]:,x.shape[0]:2*x.shape[0]] += kbatch.K(x) #- batchVariance\n",
    "\n",
    "cov[2*x.shape[0]:3*x.shape[0],2*x.shape[0]:3*x.shape[0]] += krep.K(x) #- repVariance\n",
    "cov[2*x.shape[0]:3*x.shape[0],3*x.shape[0]:] += krep.K(x) #- repVariance\n",
    "cov[3*x.shape[0]:,2*x.shape[0]:3*x.shape[0]] += krep.K(x) #- repVariance\n",
    "\n",
    "cov[3*x.shape[0]:,3*x.shape[0]:] += kbatch.K(x) + krep.K(x) # - repVariance-  batchVariance\n",
    "\n",
    "# equal variance\n",
    "#cov[range(cov.shape[0]),range(cov.shape[0])] = np.diag(cov).max()\n",
    "\n",
    "plt.imshow(cov)"
   ]
  },
  {
   "cell_type": "code",
   "execution_count": null,
   "metadata": {
    "collapsed": false
   },
   "outputs": [],
   "source": [
    "np.random.seed(3)\n",
    "\n",
    "sigma = .001\n",
    "f = gompertz(x[:,0], 2, 1, .4)\n",
    "s = generateSample(np.tile(f, 4), cov, sigma,nobs)"
   ]
  },
  {
   "cell_type": "code",
   "execution_count": null,
   "metadata": {
    "collapsed": false
   },
   "outputs": [],
   "source": [
    "plt.plot(s);"
   ]
  },
  {
   "cell_type": "code",
   "execution_count": null,
   "metadata": {
    "collapsed": false
   },
   "outputs": [],
   "source": [
    "plt.figure(figsize=(6,6))\n",
    "for i in range(4):\n",
    "    ax = plt.subplot(2,2,[0,2,1,3][i]+1)\n",
    "    \n",
    "    plt.title('$M_%d$'%[0,2,1,3][i])\n",
    "    \n",
    "    if i % 2 == 1:\n",
    "        plt.xlabel(\"time (AU)\",)\n",
    "    else:\n",
    "        plt.xticks([0,20,40],['']*3)\n",
    "        \n",
    "    if i < 2:\n",
    "        plt.ylabel(\"growth (AU)\")\n",
    "    else:\n",
    "        plt.yticks(np.arange(-.2,1.4,.2), ['']*8)\n",
    "    plt.plot(x[:nobs,0],f[:nobs],c='k', lw=3)\n",
    "    \n",
    "    for j,z in enumerate(x[::nobs,1]):\n",
    "            k = np.unique(x[:,1]).tolist().index(z)\n",
    "            plt.plot(x[:nobs,0],s[:,ntot*i:ntot*(i+1)][:,j],color='C%d'%k,alpha=.6);\n",
    "            \n",
    "    plt.ylim(-.24, 1.29)\n",
    "    \n",
    "    subpos = [.45,.05,.5,.4]\n",
    "    a = add_subplot_axes(ax,subpos)\n",
    "    #n, bins, patches = plt.hist(x[:,0], 400, normed=1)\n",
    "    plt.plot([x[:,0].min(), x[:,0].max()], [0,0], c='k', lw=3)\n",
    "    for j,z in enumerate(x[::nobs,1]):\n",
    "            k = np.unique(x[:,1]).tolist().index(z)\n",
    "            plt.plot(x[:nobs,0],s[:,ntot*i:ntot*(i+1)][:,j]-f[:nobs],color='C%d'%k, alpha=.5);\n",
    "    plt.xticks([])\n",
    "    plt.yticks([])\n",
    "            \n",
    "#plt.tight_layout()\n",
    "plt.savefig(\"figures/simulated-data.pdf\", bbox_inches='tight')"
   ]
  },
  {
   "cell_type": "code",
   "execution_count": null,
   "metadata": {
    "collapsed": true
   },
   "outputs": [],
   "source": [
    "def autocorr(x, t=1):\n",
    "    return numpy.corrcoef(numpy.array([x[0:len(x)-t], x[t:len(x)]]))[0,1]"
   ]
  },
  {
   "cell_type": "code",
   "execution_count": null,
   "metadata": {
    "collapsed": true
   },
   "outputs": [],
   "source": [
    "cor = np.apply_along_axis(lambda x: [autocorr(x-f[:nobs], z) for z in range(1, nobs-2)], 0, s)"
   ]
  },
  {
   "cell_type": "code",
   "execution_count": null,
   "metadata": {
    "collapsed": true
   },
   "outputs": [],
   "source": [
    "res = []\n",
    "for _ in range(100):\n",
    "    s = generateSample(np.tile(f, 4), cov, sigma,nobs)\n",
    "    y0, y2 , y1, y3 = np.array_split(s,4,1)\n",
    "    res.append([-np.log10(scipy.stats.f_oneway(*np.split(resid(m0,y), ntot, 1)).pvalue[0]) for y in [y0, y1, y2, y3]])\n",
    "res = np.array(res)"
   ]
  },
  {
   "cell_type": "code",
   "execution_count": null,
   "metadata": {
    "collapsed": false
   },
   "outputs": [],
   "source": [
    "plt.figure(figsize=(12,9))\n",
    "for i in range(4):\n",
    "    plt.subplot2grid((4,4),(0,[0,2,1,3][i]))\n",
    "    plt.title('$M_%d$'%[0,2,1,3][i])\n",
    "    \n",
    "    plt.plot(x[:nobs,0],f[:nobs],c='k', lw=3)\n",
    "    for j,z in enumerate(x[::nobs,1]):\n",
    "            k = np.unique(x[:,1]).tolist().index(z)\n",
    "            plt.plot(x[:nobs,0],s[:,ntot*i:ntot*(i+1)][:,j],color='C%d'%k,alpha=.6);\n",
    "            \n",
    "    plt.ylim(-.4, 1.29)\n",
    "    \n",
    "    plt.subplot2grid((4,4),(1,[0,2,1,3][i]))\n",
    "    plt.plot([x[:,0].min(), x[:,0].max()], [0,0], c='k', lw=3)\n",
    "    for j,z in enumerate(x[::nobs,1]):\n",
    "            k = np.unique(x[:,1]).tolist().index(z)\n",
    "            plt.plot(x[:nobs,0],s[:,ntot*i:ntot*(i+1)][:,j]-f[:nobs],color='C%d'%k, alpha=.5);\n",
    "    #plt.xticks([])\n",
    "    #plt.yticks([])\n",
    "    \n",
    "    plt.subplot2grid((4,4),(2,[0,2,1,3][i]))\n",
    "    plt.boxplot(cor[:,ntot*i:ntot*(i+1)].T);\n",
    "    plt.xticks([])\n",
    "\n",
    "plt.subplot2grid((4,4),(3,0),colspan=4)\n",
    "plt.plot([0,5],[-np.log10(.05)]*2)\n",
    "# plt.boxplot(res, labels=[\"$M_%d$\"%i for i in range(4)]);\n",
    "plt.boxplot(res, labels=[\"\" for i in range(4)]);\n",
    "            \n",
    "plt.tight_layout()\n",
    "plt.savefig(\"figures/simulated-data-alt.pdf\", bbox_inches='tight')"
   ]
  },
  {
   "cell_type": "code",
   "execution_count": null,
   "metadata": {
    "collapsed": false
   },
   "outputs": [],
   "source": [
    "cor = np.apply_along_axis(lambda x: [autocorr(x-f[:nobs], z) for z in range(1, nobs-2)], 0, s)\n",
    "\n",
    "plt.figure(figsize=(10,10))\n",
    "for i in range(4):\n",
    "    ax = plt.subplot(2,2,[0,2,1,3][i]+1)\n",
    "    \n",
    "    plt.title('$M_%d$'%[0,2,1,3][i])\n",
    "    plt.boxplot(cor[:,ntot*i:ntot*(i+1)].T);\n",
    "    plt.xticks([])\n",
    "    \n",
    "plt.savefig(\"figures/simulated-residuals-autocor.pdf\",bbox_inches='tight')"
   ]
  },
  {
   "cell_type": "code",
   "execution_count": null,
   "metadata": {
    "collapsed": true
   },
   "outputs": [],
   "source": [
    "import patsy"
   ]
  },
  {
   "cell_type": "code",
   "execution_count": null,
   "metadata": {
    "collapsed": false
   },
   "outputs": [],
   "source": [
    "h = patsy.contrasts.Helmert()"
   ]
  },
  {
   "cell_type": "code",
   "execution_count": null,
   "metadata": {
    "collapsed": false
   },
   "outputs": [],
   "source": [
    "c = h.code_without_intercept(range(10))"
   ]
  },
  {
   "cell_type": "code",
   "execution_count": null,
   "metadata": {
    "collapsed": false
   },
   "outputs": [],
   "source": [
    "c.matrix"
   ]
  },
  {
   "cell_type": "code",
   "execution_count": null,
   "metadata": {
    "collapsed": false
   },
   "outputs": [],
   "source": [
    "kbatch = GPy.kern.IndependentOutputs(GPy.kern.RBF(1,name='batch', variance=.5), index_dim=-2);\n",
    "krep = GPy.kern.IndependentOutputs(GPy.kern.RBF(1,name='replicate', variance=.1))\n",
    "\n",
    "cov = buildCov(x, kbatch, krep)\n",
    "plt.imshow(cov)"
   ]
  },
  {
   "cell_type": "code",
   "execution_count": null,
   "metadata": {
    "collapsed": false
   },
   "outputs": [],
   "source": [
    "s = generateSample(np.tile(f, 4), cov, sigma,nobs)\n",
    "y0, y2 , y1, y3 = np.array_split(s,4,1)\n",
    "\n",
    "y0.shape"
   ]
  },
  {
   "cell_type": "code",
   "execution_count": null,
   "metadata": {
    "collapsed": false
   },
   "outputs": [],
   "source": [
    "plt.subplot(221)\n",
    "plt.plot(y0)\n",
    "\n",
    "plt.subplot(222)\n",
    "plt.plot(y1)\n",
    "\n",
    "plt.subplot(223)\n",
    "plt.plot(y2)\n",
    "\n",
    "plt.subplot(224)\n",
    "plt.plot(y3)"
   ]
  },
  {
   "cell_type": "code",
   "execution_count": null,
   "metadata": {
    "collapsed": false
   },
   "outputs": [],
   "source": [
    "m0 = np.ones((ntot,1))\n",
    "\n",
    "h1 = patsy.contrasts.Helmert().code_without_intercept(range(ntot)).matrix\n",
    "\n",
    "m1 = np.zeros((ntot,1+h1.shape[1]))\n",
    "m1[:,0] = 1\n",
    "m1[:,1:] = h1\n",
    "\n",
    "h2 = patsy.contrasts.Helmert().code_without_intercept(range(batch)).matrix\n",
    "m2 = np.zeros((ntot,1+nbatch))\n",
    "m2[:,0] = 1\n",
    "for i in range(nbatch):\n",
    "    m2[i*nrep:(i+1)*nrep,1+i] = 1\n",
    "    \n",
    "\n",
    "m3 = np.zeros((ntot,1+nbatch+ntot))\n",
    "m3[:,0] = 1\n",
    "for i in range(nbatch):\n",
    "    m3[i*nrep:(i+1)*nrep,1+i] = 1\n",
    "    m3[:,1+nbatch:] = np.eye(ntot)\n",
    "    \n",
    "plt.imshow(m3)"
   ]
  },
  {
   "cell_type": "code",
   "execution_count": null,
   "metadata": {
    "collapsed": false
   },
   "outputs": [],
   "source": [
    "for m in [m0, m1, m2, m3]:\n",
    "    \n",
    "    plt.figure(figsize=(6,6))\n",
    "\n",
    "    plt.subplot(221)\n",
    "    plt.plot(resid(m,y0));\n",
    "\n",
    "    plt.subplot(222)\n",
    "    plt.plot(resid(m,y1));\n",
    "\n",
    "    plt.subplot(223)\n",
    "    plt.plot(resid(m,y2));\n",
    "\n",
    "    plt.subplot(224)\n",
    "    plt.plot(resid(m,y3));"
   ]
  },
  {
   "cell_type": "code",
   "execution_count": null,
   "metadata": {
    "collapsed": false
   },
   "outputs": [],
   "source": [
    "\n",
    "plt.bar(range(4),\n",
    "        [-np.log10(scipy.stats.f_oneway(*np.split(resid(m0,y), ntot, 1)).pvalue) for y in [y0, y1, y2, y3]],\n",
    "        tick_label=['y0','y1','y2','y3'])"
   ]
  },
  {
   "cell_type": "code",
   "execution_count": null,
   "metadata": {
    "collapsed": false
   },
   "outputs": [],
   "source": [
    "[-np.log10(scipy.stats.f_oneway(*np.split(resid(m0,y), ntot, 1)).pvalue[0]) for y in [y0, y1, y2, y3]],"
   ]
  },
  {
   "cell_type": "code",
   "execution_count": null,
   "metadata": {
    "collapsed": false
   },
   "outputs": [],
   "source": [
    "sigma, f"
   ]
  },
  {
   "cell_type": "code",
   "execution_count": null,
   "metadata": {
    "collapsed": false
   },
   "outputs": [],
   "source": [
    "res = []\n",
    "for _ in range(500):\n",
    "    s = generateSample(np.tile(f, 4), cov, sigma,nobs)\n",
    "    y0, y2 , y1, y3 = np.array_split(s,4,1)\n",
    "    res.append([-np.log10(scipy.stats.f_oneway(*np.split(resid(m0,y), ntot, 1)).pvalue[0]) for y in [y0, y1, y2, y3]])\n",
    "res = np.array(res)"
   ]
  },
  {
   "cell_type": "code",
   "execution_count": null,
   "metadata": {
    "collapsed": false
   },
   "outputs": [],
   "source": [
    "plt.plot([0,5],[-np.log10(.05)]*2)\n",
    "plt.boxplot(res, labels=range(4));"
   ]
  },
  {
   "cell_type": "code",
   "execution_count": null,
   "metadata": {
    "collapsed": true
   },
   "outputs": [],
   "source": []
  },
  {
   "cell_type": "code",
   "execution_count": null,
   "metadata": {
    "collapsed": false
   },
   "outputs": [],
   "source": [
    "h.shape"
   ]
  },
  {
   "cell_type": "code",
   "execution_count": null,
   "metadata": {
    "collapsed": false
   },
   "outputs": [],
   "source": [
    "plt.imshow(m1)"
   ]
  },
  {
   "cell_type": "code",
   "execution_count": null,
   "metadata": {
    "collapsed": false
   },
   "outputs": [],
   "source": [
    "m1.shape"
   ]
  },
  {
   "cell_type": "code",
   "execution_count": null,
   "metadata": {
    "collapsed": false
   },
   "outputs": [],
   "source": [
    "m = m2\n",
    "y = y1\n",
    "beta = np.dot(np.linalg.pinv(np.dot(m.T,m)), np.dot(m.T, y.T))\n",
    "\n",
    "plt.plot(beta.T);"
   ]
  },
  {
   "cell_type": "code",
   "execution_count": null,
   "metadata": {
    "collapsed": false
   },
   "outputs": [],
   "source": [
    "plt.plot(np.dot(m, beta).T,c='k');\n",
    "plt.plot(y, c='r');"
   ]
  },
  {
   "cell_type": "code",
   "execution_count": null,
   "metadata": {
    "collapsed": false
   },
   "outputs": [],
   "source": [
    "plt.plot((y.T-np.dot(m,beta)).T)"
   ]
  },
  {
   "cell_type": "code",
   "execution_count": null,
   "metadata": {
    "collapsed": false
   },
   "outputs": [],
   "source": [
    "beta.shape"
   ]
  },
  {
   "cell_type": "code",
   "execution_count": null,
   "metadata": {
    "collapsed": false
   },
   "outputs": [],
   "source": [
    "plt.figure(figsize=(10,10))\n",
    "for i in range(4):\n",
    "    plt.subplot(2,2,i+1)\n",
    "    plt.plot([0, 50], [0,0], c='k', lw=3)\n",
    "    for j,z in enumerate(x[::50,1]):\n",
    "            k = np.unique(x[:,1]).tolist().index(z)\n",
    "            plt.plot(s[:,ntot*i:ntot*(i+1)][:,j]-f[:50],color='C%d'%k);"
   ]
  },
  {
   "cell_type": "code",
   "execution_count": null,
   "metadata": {
    "collapsed": false
   },
   "outputs": [],
   "source": [
    "s.shape, ntot"
   ]
  },
  {
   "cell_type": "code",
   "execution_count": null,
   "metadata": {
    "collapsed": true
   },
   "outputs": [],
   "source": []
  },
  {
   "cell_type": "code",
   "execution_count": null,
   "metadata": {
    "collapsed": true
   },
   "outputs": [],
   "source": [
    "nsamp = 3\n",
    "scores = []\n",
    "\n",
    "for _ in range(nsamp):\n",
    "    "
   ]
  },
  {
   "cell_type": "code",
   "execution_count": null,
   "metadata": {
    "collapsed": true
   },
   "outputs": [],
   "source": [
    "baseVariance, batchVariance, repVariance = .01, .01, .005\n",
    "\n",
    "kbase = GPy.kern.RBF(1,name='base',variance=baseVariance)\n",
    "kbatch = GPy.kern.IndependentOutputs(GPy.kern.RBF(1,name='batch', variance=batchVariance), index_dim=-2);\n",
    "krep = GPy.kern.IndependentOutputs(GPy.kern.RBF(1,name='replicate', variance=repVariance))\n",
    "\n",
    "k0 = kbase\n",
    "k1 = kbase + krep\n",
    "k2 = kbase + kbatch\n",
    "k3 = kbase + kbatch + krep"
   ]
  },
  {
   "cell_type": "code",
   "execution_count": null,
   "metadata": {
    "collapsed": true
   },
   "outputs": [],
   "source": [
    "class OtherHierarchy(GPy.kern.Hierarchical):\n",
    "    def __init__(self, kernels, extra_dims=None, name='hierarchy'):\n",
    "        assert all([k.input_dim==kernels[0].input_dim for k in kernels])\n",
    "        assert len(kernels) > 1\n",
    "        self.levels = len(kernels) -1\n",
    "        input_max = max([k.input_dim for k in kernels])\n",
    "        \n",
    "        if extra_dims is None:\n",
    "            extra_dims = range(input_max, input_max + len(kernels)-1)\n",
    "        \n",
    "        GPy.kern.src.kern.CombinationKernel.__init__(self,kernels=kernels, extra_dims=extra_dims, name=name)"
   ]
  },
  {
   "cell_type": "code",
   "execution_count": null,
   "metadata": {
    "collapsed": false
   },
   "outputs": [],
   "source": [
    "m = GPy.models.GPRegression(x[:,[0]], y.T.reshape(50*ntot,1))\n",
    "m.randomize()\n",
    "m.optimize()\n",
    "m"
   ]
  },
  {
   "cell_type": "code",
   "execution_count": null,
   "metadata": {
    "collapsed": false
   },
   "outputs": [],
   "source": [
    "ax = m.plot_f()\n",
    "ax.plot(x[:50,0], f[:50],lw=1,color='r')\n",
    "plt.ylim(0,1)"
   ]
  },
  {
   "cell_type": "code",
   "execution_count": null,
   "metadata": {
    "collapsed": false
   },
   "outputs": [],
   "source": [
    "plt.imshow(cov)\n",
    "plt.colorbar()"
   ]
  },
  {
   "cell_type": "code",
   "execution_count": null,
   "metadata": {
    "collapsed": false
   },
   "outputs": [],
   "source": [
    "cov = np.zeros((x.shape[0]*4, x.shape[0]*4))\n",
    "\n",
    "# cov = kbase.K(np.tile(x.T,4).T) #+ batchVariance + repVariance\n",
    "\n",
    "print cov.shape\n",
    "\n",
    "# cov[:,:x.shape[0]] = np.tile(kbase.K(x), 4).T\n",
    "# cov[:x.shape[0],:] = np.tile(kbase.K(x), 4)\n",
    "# cov[:x.shape[0],:] = kbase.K(x)\n",
    "cov[x.shape[0]:2*x.shape[0],x.shape[0]:2*x.shape[0]] += kbatch.K(x) #- batchVariance\n",
    "cov[x.shape[0]:2*x.shape[0],3*x.shape[0]:] += kbatch.K(x) #- batchVarianceA\n",
    "cov[3*x.shape[0]:,x.shape[0]:2*x.shape[0]] += kbatch.K(x) #- batchVariance\n",
    "\n",
    "cov[2*x.shape[0]:3*x.shape[0],2*x.shape[0]:3*x.shape[0]] += krep.K(x) #- repVariance\n",
    "cov[2*x.shape[0]:3*x.shape[0],3*x.shape[0]:] += krep.K(x) #- repVariance\n",
    "cov[3*x.shape[0]:,2*x.shape[0]:3*x.shape[0]] += krep.K(x) #- repVariance\n",
    "\n",
    "cov[3*x.shape[0]:,3*x.shape[0]:] += kbatch.K(x) + krep.K(x) # - repVariance-  batchVariance\n",
    "\n",
    "# equal variance\n",
    "# cov[range(cov.shape[0]),range(cov.shape[0])] = np.diag(cov).max()\n",
    "sampleCov = cov.copy()\n",
    "\n",
    "plt.imshow(sampleCov)"
   ]
  },
  {
   "cell_type": "code",
   "execution_count": null,
   "metadata": {
    "collapsed": false,
    "scrolled": true
   },
   "outputs": [],
   "source": [
    "s = generateSample(np.tile(f, 4), sampleCov, sigma)\n",
    "y0, y2 , y1, y3 = np.array_split(s,4,1)\n",
    "\n",
    "k0 = GPy.kern.RBF(1)\n",
    "k1 = GPy.kern.Hierarchical([GPy.kern.RBF(1), GPy.kern.RBF(1)])\n",
    "k2 = GPy.kern.Hierarchical([GPy.kern.RBF(1), GPy.kern.RBF(1)])\n",
    "k3 = GPy.kern.Hierarchical([GPy.kern.RBF(1), GPy.kern.RBF(1), GPy.kern.RBF(1)])\n",
    "\n",
    "y = y1\n",
    "\n",
    "for z,k, kpred in [(x, k0, k0), (x1, k1, k1.rbf), (x2, k2, k2.rbf), (x3, k3, k3.rbf)]:\n",
    "    m = GPy.models.GPRegression(z, y.T.reshape(50*ntot,1), k)\n",
    "    m.randomize()\n",
    "    m.optimize()\n",
    "\n",
    "    mu,cov = m.predict_noiseless(z[:50,:],full_cov=True,kern=kpred)\n",
    "    std = np.sqrt(cov.diagonal())\n",
    "    diff = (mu[:,0] - f[:50])\n",
    "    \n",
    "    incorrect = 50-sum(((diff-1.98*std) < 0) & ((diff+1.98*std) > 0))\n",
    "    \n",
    "    print np.sum(np.linalg.eigvals(cov) > 1e-9)\n",
    "    #print np.dot(diff, np.dot(np.linalg.inv(cov+np.eye(50)*cov.mean()), diff))\n",
    "    print np.dot(diff, np.dot(np.linalg.inv(cov), diff))\n",
    "    \n",
    "    plt.figure()\n",
    "    plt.subplot(121)\n",
    "    plt.plot(x[:50,0],diff)\n",
    "    plt.fill_between(x[:50,0], diff + 1.98*std, diff - 1.98*std, alpha=.1)\n",
    "    \n",
    "    plt.subplot(122)\n",
    "    plt.plot(x[:50,0],mu[:,0])\n",
    "    plt.fill_between(x[:50,0], mu[:,0] + 1.98*std, mu[:,0] - 1.98*std, alpha=.1)\n",
    "    plt.plot(x[:50,0],f[:50])\n",
    "    plt.plot(x[:50,0],y,c='k',lw=.1)\n",
    "\n",
    "# m0 = GPy.models.GPRegression(x[:ntot*50,:], y0.T.reshape(50*ntot,1), k0)\n",
    "# m0.randomize()\n",
    "# m0.optimize()\n",
    "\n",
    "# mu,cov = m0.predict_noiseless(x[:50,:],full_cov=True)\n",
    "# diff = (mu[:,0] - f[:50])\n",
    "# np.dot(diff, np.dot(np.linalg.inv(cov), diff))"
   ]
  },
  {
   "cell_type": "code",
   "execution_count": null,
   "metadata": {
    "collapsed": false
   },
   "outputs": [],
   "source": [
    "s = generateSample(np.tile(f, 4), sampleCov, sigma)\n",
    "y0, y2 , y1, y3 = np.array_split(s,4,1)\n",
    "\n",
    "for y in [y0, y1, y2, y3]:\n",
    "\n",
    "    k0 = GPy.kern.RBF(1)\n",
    "    k1 = GPy.kern.Hierarchical([GPy.kern.RBF(1), GPy.kern.RBF(1)])\n",
    "    k2 = GPy.kern.Hierarchical([GPy.kern.RBF(1), GPy.kern.RBF(1)])\n",
    "    k3 = GPy.kern.Hierarchical([GPy.kern.RBF(1), GPy.kern.RBF(1), GPy.kern.RBF(1)])\n",
    "\n",
    "    for z,k, kpred in [(x, k0, k0), (x1, k1, k1.rbf), (x2, k2, k2.rbf), (x3, k3, k3.rbf)]:\n",
    "        m = GPy.models.GPRegression(z, y.T.reshape(50*ntot,1), k)\n",
    "        m.randomize()\n",
    "        m.optimize()\n",
    "\n",
    "        mu,cov = m.predict_noiseless(z[:50,:],full_cov=True,kern=kpred)\n",
    "        std = np.sqrt(cov.diagonal())\n",
    "        diff = (mu[:,0] - f[:50])\n",
    "\n",
    "        incorrect = 50-sum(((diff-1.98*std) < 0) & ((diff+1.98*std) > 0))\n",
    "        \n",
    "        print incorrect\n",
    "\n",
    "        #print np.sum(np.linalg.eigvals(cov) > 1e-9)\n",
    "        #print np.dot(diff, np.dot(np.linalg.inv(cov+np.eye(50)*cov.mean()), diff))\n",
    "        #print np.dot(diff, np.dot(np.linalg.inv(cov), diff))\n",
    "\n",
    "        plt.figure()\n",
    "        plt.subplot(121)\n",
    "        plt.plot(x[:50,0],diff)\n",
    "        plt.fill_between(x[:50,0], diff + 1.98*std, diff - 1.98*std, alpha=.1)\n",
    "\n",
    "        plt.subplot(122)\n",
    "        plt.plot(x[:50,0],mu[:,0])\n",
    "        plt.fill_between(x[:50,0], mu[:,0] + 1.98*std, mu[:,0] - 1.98*std, alpha=.1)\n",
    "        plt.plot(x[:50,0],f[:50])\n",
    "        plt.plot(x[:50,0],y,c='k',lw=.1)\n",
    "    \n",
    "    print"
   ]
  },
  {
   "cell_type": "code",
   "execution_count": null,
   "metadata": {
    "collapsed": true
   },
   "outputs": [],
   "source": [
    "samples = []"
   ]
  },
  {
   "cell_type": "code",
   "execution_count": null,
   "metadata": {
    "collapsed": false
   },
   "outputs": [],
   "source": [
    "nsamp = 30\n",
    "\n",
    "for _ in range(nsamp):\n",
    "    samples.append([])\n",
    "\n",
    "    s = generateSample(np.tile(f, 4), sampleCov, sigma)\n",
    "    y0, y2 , y1, y3 = np.array_split(s,4,1)\n",
    "\n",
    "    for y in [y0, y1, y2, y3]:\n",
    "        \n",
    "        samples[-1].append([])\n",
    "\n",
    "        k0 = GPy.kern.RBF(1)\n",
    "        k1 = GPy.kern.Hierarchical([GPy.kern.RBF(1), GPy.kern.RBF(1)])\n",
    "        k2 = GPy.kern.Hierarchical([GPy.kern.RBF(1), GPy.kern.RBF(1)])\n",
    "        k3 = GPy.kern.Hierarchical([GPy.kern.RBF(1), GPy.kern.RBF(1), GPy.kern.RBF(1)])\n",
    "\n",
    "        for z,k, kpred in [(x, k0, k0), (x1, k1, k1.rbf), (x2, k2, k2.rbf), (x3, k3, k3.rbf)]:\n",
    "            m = GPy.models.GPRegression(z, y.T.reshape(nobs*ntot,1), k)\n",
    "            m.randomize()\n",
    "            m.optimize()\n",
    "\n",
    "            mu,cov = m.predict_noiseless(z[:nobs,:],full_cov=True,kern=kpred)\n",
    "            std = np.sqrt(cov.diagonal())\n",
    "            diff = (mu[:,0] - f[:nobs])\n",
    "\n",
    "            incorrect = nobs-sum(((diff-1.98*std) < 0) & ((diff+1.98*std) > 0))\n",
    "            \n",
    "            samples[-1][-1].append(incorrect)\n",
    "            \n",
    "            del m"
   ]
  },
  {
   "cell_type": "code",
   "execution_count": null,
   "metadata": {
    "collapsed": false
   },
   "outputs": [],
   "source": [
    "failrate = 1.*np.array(samples)/50"
   ]
  },
  {
   "cell_type": "code",
   "execution_count": null,
   "metadata": {
    "collapsed": false,
    "scrolled": true
   },
   "outputs": [],
   "source": [
    "# failrate"
   ]
  },
  {
   "cell_type": "code",
   "execution_count": null,
   "metadata": {
    "collapsed": false
   },
   "outputs": [],
   "source": [
    "# each figure is different model type\n",
    "# each boxplot is generative type (m0-m3)\n",
    "\n",
    "plt.figure()\n",
    "plt.boxplot(np.array_split(failrate[:,:,0], 4, 1));\n",
    "\n",
    "plt.figure()\n",
    "plt.boxplot(np.array_split(failrate[:,:,1], 4, 1));\n",
    "\n",
    "plt.figure()\n",
    "plt.boxplot(np.array_split(failrate[:,:,2], 4, 1));\n",
    "\n",
    "plt.figure()\n",
    "plt.boxplot(np.array_split(failrate[:,:,3], 4, 1));"
   ]
  },
  {
   "cell_type": "code",
   "execution_count": null,
   "metadata": {
    "collapsed": true
   },
   "outputs": [],
   "source": []
  },
  {
   "cell_type": "code",
   "execution_count": null,
   "metadata": {
    "collapsed": true
   },
   "outputs": [],
   "source": []
  },
  {
   "cell_type": "code",
   "execution_count": null,
   "metadata": {
    "collapsed": false
   },
   "outputs": [],
   "source": [
    "plt.plot(x[:50,0],diff)\n",
    "plt.fill_between(x[:50,0], diff + 1.98*std, diff - 1.98*std, alpha=.1)\n",
    "# plt.plot(x[:50,0],f[:50])"
   ]
  },
  {
   "cell_type": "code",
   "execution_count": null,
   "metadata": {
    "collapsed": false
   },
   "outputs": [],
   "source": [
    "plt.plot(x[:50,0],mu[:,0])\n",
    "plt.fill_between(x[:50,0], mu[:,0] + 1.98*std, mu[:,0] - 1.98*std, alpha=.1)\n",
    "plt.plot(x[:50,0],f[:50])\n",
    "plt.plot(x[:50,0],y2,c='k',lw=.4)"
   ]
  },
  {
   "cell_type": "code",
   "execution_count": null,
   "metadata": {
    "collapsed": false
   },
   "outputs": [],
   "source": [
    "mu,cov = m.predict_noiseless(x[:50,:],full_cov=True)\n",
    "std = np.sqrt(cov.diagonal())"
   ]
  },
  {
   "cell_type": "code",
   "execution_count": null,
   "metadata": {
    "collapsed": false
   },
   "outputs": [],
   "source": [
    "sum(np.linalg.eigvals(cov) > 1e-9)"
   ]
  },
  {
   "cell_type": "code",
   "execution_count": null,
   "metadata": {
    "collapsed": false
   },
   "outputs": [],
   "source": [
    "diff = (mu[:,0] - f[:50])\n",
    "\n",
    "np.dot(diff, np.dot(np.linalg.inv(cov), diff))"
   ]
  },
  {
   "cell_type": "code",
   "execution_count": null,
   "metadata": {
    "collapsed": false
   },
   "outputs": [],
   "source": [
    "diff.shape"
   ]
  },
  {
   "cell_type": "code",
   "execution_count": null,
   "metadata": {
    "collapsed": false
   },
   "outputs": [],
   "source": [
    "cov"
   ]
  },
  {
   "cell_type": "code",
   "execution_count": null,
   "metadata": {
    "collapsed": false
   },
   "outputs": [],
   "source": [
    "plt.plot(diff)\n",
    "plt.plot(np.sqrt(cov));"
   ]
  },
  {
   "cell_type": "code",
   "execution_count": null,
   "metadata": {
    "collapsed": false
   },
   "outputs": [],
   "source": [
    "scipy.stats.chi2.ppf(.95, 50)"
   ]
  },
  {
   "cell_type": "code",
   "execution_count": null,
   "metadata": {
    "collapsed": false
   },
   "outputs": [],
   "source": [
    "scipy.stats.chi2.cdf(-2, 50)"
   ]
  },
  {
   "cell_type": "code",
   "execution_count": null,
   "metadata": {
    "collapsed": false
   },
   "outputs": [],
   "source": [
    "scipy.stats.chi2.cdf(np.dot(diff, np.dot(np.linalg.inv(cov), diff)), 50)"
   ]
  },
  {
   "cell_type": "code",
   "execution_count": null,
   "metadata": {
    "collapsed": false
   },
   "outputs": [],
   "source": [
    "std.shape, mu.shape"
   ]
  },
  {
   "cell_type": "code",
   "execution_count": null,
   "metadata": {
    "collapsed": false
   },
   "outputs": [],
   "source": [
    "plt.scatter(x[:ntot*50,0], y1.T.reshape(50*ntot,1))"
   ]
  },
  {
   "cell_type": "code",
   "execution_count": null,
   "metadata": {
    "collapsed": true
   },
   "outputs": [],
   "source": []
  }
 ],
 "metadata": {
  "kernelspec": {
   "display_name": "Python 2",
   "language": "python",
   "name": "python2"
  },
  "language_info": {
   "codemirror_mode": {
    "name": "ipython",
    "version": 2
   },
   "file_extension": ".py",
   "mimetype": "text/x-python",
   "name": "python",
   "nbconvert_exporter": "python",
   "pygments_lexer": "ipython2",
   "version": "2.7.6"
  }
 },
 "nbformat": 4,
 "nbformat_minor": 1
}