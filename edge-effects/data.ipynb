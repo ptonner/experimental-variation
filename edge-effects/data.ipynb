{
 "cells": [
  {
   "cell_type": "code",
   "execution_count": null,
   "metadata": {
    "collapsed": true
   },
   "outputs": [],
   "source": [
    "import gpmultipy, scipy\n",
    "import numpy as np\n",
    "import matplotlib.pyplot as plt"
   ]
  },
  {
   "cell_type": "code",
   "execution_count": null,
   "metadata": {
    "collapsed": true
   },
   "outputs": [],
   "source": [
    "from gpmultipy import dataset\n",
    "from gpmultipy.model import Model\n",
    "from gpmultipy.prior import Prior\n",
    "from gpmultipy.kernel import RBF, White, Addition\n",
    "from gpmultipy.freeze import Freezer\n",
    "from gpmultipy.sampler.slice import Slice\n",
    "from gpmultipy.kernel import Product, Linear"
   ]
  },
  {
   "cell_type": "code",
   "execution_count": null,
   "metadata": {
    "collapsed": true
   },
   "outputs": [],
   "source": [
    "%matplotlib inline"
   ]
  },
  {
   "cell_type": "code",
   "execution_count": null,
   "metadata": {
    "collapsed": false
   },
   "outputs": [],
   "source": [
    "ds = dataset.DataSet('data/')\n",
    "x,y,effect,labels = ds.build(Strain='ura3',mM_PQ=0.0,scale='range',effects=['Well'])\n",
    "y = np.log2(y)\n",
    "y = (y-y.mean())/y.std()"
   ]
  },
  {
   "cell_type": "code",
   "execution_count": null,
   "metadata": {
    "collapsed": false
   },
   "outputs": [],
   "source": [
    "edge = range(101,111) + range(111,191,10) + range(120,191,10) + range(191,201) + range(201,211) + range(211,291,10) + range(220,291,10) + range(291,301)\n",
    "edge = np.array(edge)\n",
    "edge"
   ]
  },
  {
   "cell_type": "code",
   "execution_count": null,
   "metadata": {
    "collapsed": false
   },
   "outputs": [],
   "source": [
    "plt.plot(x,y-y.mean(1)[:,None],c='k',alpha=.4);"
   ]
  },
  {
   "cell_type": "code",
   "execution_count": null,
   "metadata": {
    "collapsed": true
   },
   "outputs": [],
   "source": [
    "dist = np.array([min(abs(l-edge)) for l in labels[0]])\n",
    "position = (dist==0).astype(int)"
   ]
  },
  {
   "cell_type": "code",
   "execution_count": null,
   "metadata": {
    "collapsed": false
   },
   "outputs": [],
   "source": [
    "[plt.plot(x,y[:,i],alpha=.4,color=c) for i,c in zip(range(y.shape[1]), ['C0' if p==0 else 'C2' for p in position])];\n",
    "\n",
    "plt.xlabel(\"time\", fontsize=15)\n",
    "plt.ylabel(\"log(OD)\", fontsize=15)\n",
    "\n",
    "plt.savefig(\"figures/edge-effect-data-single.pdf\")\n",
    "\n",
    "# plt.plot(x,y[:,position==0].mean(1),c='r',alpha=1)\n",
    "# plt.plot(x,y[:,position==1].mean(1),c='g',alpha=1)"
   ]
  },
  {
   "cell_type": "code",
   "execution_count": null,
   "metadata": {
    "collapsed": false
   },
   "outputs": [],
   "source": [
    "plt.figure(figsize=(10,6))\n",
    "for i,p in enumerate([0,1]):\n",
    "    select = position==p\n",
    "    \n",
    "    plt.subplot(2,2,i+1)\n",
    "    plt.plot(x,y[:,select],c='k',alpha=.4)\n",
    "    plt.plot(x,y[:,select].mean(1),c='r',alpha=1)\n",
    "    plt.ylim(y.min(),y.max())\n",
    "    \n",
    "    plt.subplot(2,2,i+3)\n",
    "    plt.plot(x,y[:,select]-y[:,select].mean(1)[:,None],c='k',alpha=.4)\n",
    "    plt.ylim(-.6,.6)\n",
    "    \n",
    "plt.subplot(223)\n",
    "plt.xlabel(\"time\", fontsize=15)\n",
    "plt.ylabel(\"log(OD)\", fontsize=15)\n",
    "plt.subplot(224)\n",
    "plt.xlabel(\"time\", fontsize=15)\n",
    "\n",
    "plt.tight_layout()\n",
    "\n",
    "plt.savefig(\"figures/edge-effect-data.pdf\")"
   ]
  },
  {
   "cell_type": "code",
   "execution_count": null,
   "metadata": {
    "collapsed": false
   },
   "outputs": [],
   "source": [
    "plt.plot(x,y[:,position==0].mean(1) - y[:,position==1].mean(1))"
   ]
  },
  {
   "cell_type": "code",
   "execution_count": null,
   "metadata": {
    "collapsed": false,
    "scrolled": true
   },
   "outputs": [],
   "source": [
    "def wellPosition(number):\n",
    "    number = int(number)\n",
    "    if number > 100:\n",
    "        return wellPosition(number%100)\n",
    "    if number == 0:\n",
    "        return 9,9\n",
    "    return [(number-1) % 10, (number-1)/10]\n",
    "\n",
    "# zip(labels[0],map(wellPosition,labels[0]))"
   ]
  },
  {
   "cell_type": "code",
   "execution_count": null,
   "metadata": {
    "collapsed": true
   },
   "outputs": [],
   "source": [
    "position = np.array(map(wellPosition,labels[0]))"
   ]
  },
  {
   "cell_type": "code",
   "execution_count": null,
   "metadata": {
    "collapsed": false
   },
   "outputs": [],
   "source": [
    "dist = np.column_stack((position.min(1),(9-position).min(1))).min(1)\n",
    "dist"
   ]
  },
  {
   "cell_type": "code",
   "execution_count": null,
   "metadata": {
    "collapsed": false
   },
   "outputs": [],
   "source": [
    "plt.figure(figsize=(12,8))\n",
    "for i,d in enumerate(np.unique(dist)):\n",
    "    select = dist==d\n",
    "    \n",
    "    plt.subplot(2,3,i+1)\n",
    "    plt.title(d)\n",
    "    plt.plot(x,y[:,select],c='C%d'%i,alpha=.4)\n",
    "    plt.ylim(y.min(), y.max())\n",
    "\n",
    "plt.subplot(231)\n",
    "plt.ylabel(\"log(OD)\",fontsize=15)\n",
    "plt.subplot(2,3,4)\n",
    "plt.xlabel(\"time (h)\",fontsize=15)\n",
    "plt.ylabel(\"log(OD)\",fontsize=15)\n",
    "plt.subplot(2,3,5)\n",
    "plt.xlabel(\"time (h)\",fontsize=15)\n",
    "\n",
    "plt.savefig(\"figures/edge-effect-data-distance.pdf\", bbox_inches='tight')"
   ]
  },
  {
   "cell_type": "code",
   "execution_count": null,
   "metadata": {
    "collapsed": true
   },
   "outputs": [],
   "source": []
  }
 ],
 "metadata": {
  "kernelspec": {
   "display_name": "Python 2",
   "language": "python",
   "name": "python2"
  },
  "language_info": {
   "codemirror_mode": {
    "name": "ipython",
    "version": 2
   },
   "file_extension": ".py",
   "mimetype": "text/x-python",
   "name": "python",
   "nbconvert_exporter": "python",
   "pygments_lexer": "ipython2",
   "version": "2.7.6"
  }
 },
 "nbformat": 4,
 "nbformat_minor": 1
}