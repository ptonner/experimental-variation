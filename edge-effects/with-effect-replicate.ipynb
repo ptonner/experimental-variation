{
 "cells": [
  {
   "cell_type": "code",
   "execution_count": null,
   "metadata": {
    "collapsed": true
   },
   "outputs": [],
   "source": [
    "import gpmultipy, scipy, GPy\n",
    "import numpy as np\n",
    "import matplotlib.pyplot as plt\n",
    "import json,copy"
   ]
  },
  {
   "cell_type": "code",
   "execution_count": null,
   "metadata": {
    "collapsed": true
   },
   "outputs": [],
   "source": [
    "from gpmultipy import dataset\n",
    "from gpmultipy.model import Model\n",
    "from gpmultipy.prior import Prior\n",
    "from gpmultipy.kernel import RBF, White, Addition\n",
    "from gpmultipy.freeze import Freezer\n",
    "from gpmultipy.sampler.slice import Slice\n",
    "from gpmultipy.kernel import Product, Linear"
   ]
  },
  {
   "cell_type": "code",
   "execution_count": null,
   "metadata": {
    "collapsed": true
   },
   "outputs": [],
   "source": [
    "%matplotlib inline"
   ]
  },
  {
   "cell_type": "code",
   "execution_count": null,
   "metadata": {
    "collapsed": true
   },
   "outputs": [],
   "source": [
    "def printSample(sample,depth=1):\n",
    "    keys = sample.keys()\n",
    "    keys.sort()\n",
    "    \n",
    "    for k in keys:\n",
    "        if type(sample[k]) == dict:\n",
    "            print \"\\t\".join([\"\"]*depth) + k\n",
    "            printSample(sample[k],depth=depth+1)\n",
    "        else:\n",
    "            print \"\\t\".join([\"\"]*depth) + \"%s: %s\"%(k,str(sample[k]))"
   ]
  },
  {
   "cell_type": "code",
   "execution_count": null,
   "metadata": {
    "collapsed": true
   },
   "outputs": [],
   "source": [
    "ds = dataset.DataSet('data/')\n",
    "x,y,effect,labels = ds.build(Strain='ura3',mM_PQ=0.0,scale='range',effects=['Well','Bio'])\n",
    "y = np.log2(y)\n",
    "y = (y-y.mean())/y.std()"
   ]
  },
  {
   "cell_type": "code",
   "execution_count": null,
   "metadata": {
    "collapsed": false
   },
   "outputs": [],
   "source": [
    "edge = range(101,111) + range(111,191,10) + range(120,191,10) + range(191,201) + range(201,211) + range(211,291,10) + range(220,291,10) + range(291,301)\n",
    "edge = np.array(edge)\n",
    "edge"
   ]
  },
  {
   "cell_type": "code",
   "execution_count": null,
   "metadata": {
    "collapsed": true
   },
   "outputs": [],
   "source": [
    "dist = np.array([min(abs(l-edge)) for l in labels[0]])\n",
    "position = (dist==0).astype(int)"
   ]
  },
  {
   "cell_type": "code",
   "execution_count": null,
   "metadata": {
    "collapsed": false
   },
   "outputs": [],
   "source": [
    "xgp = np.zeros((x.shape[0]*y.shape[1], 3))\n",
    "xgp[:,0] = np.tile(x[:,0], y.shape[1])\n",
    "xgp[:,1] = np.repeat(position, x.shape[0])\n",
    "xgp[:,2] = np.repeat(effect.Bio, x.shape[0])\n",
    "\n",
    "ygp = y.ravel(1)[:,None]\n",
    "\n",
    "xgp = xgp[::10]\n",
    "ygp = ygp[::10]\n",
    "\n",
    "xgp.shape"
   ]
  },
  {
   "cell_type": "code",
   "execution_count": null,
   "metadata": {
    "collapsed": false
   },
   "outputs": [],
   "source": [
    "kmain = GPy.kern.RBF(2, ARD=True,name='main')\n",
    "kbio = GPy.kern.RBF(2,ARD=True,name='bio')\n",
    "k = GPy.kern.Hierarchical([kmain, kbio])\n",
    "#k = GPy.kern.RBF(1,name='time')*GPy.kern.RBF(1,name='edge',active_dims=[1])\n",
    "\n",
    "m = GPy.models.GPRegression(xgp,ygp,k)\n",
    "m"
   ]
  },
  {
   "cell_type": "code",
   "execution_count": null,
   "metadata": {
    "collapsed": false
   },
   "outputs": [],
   "source": [
    "m.optimize()\n",
    "m"
   ]
  },
  {
   "cell_type": "code",
   "execution_count": null,
   "metadata": {
    "collapsed": false
   },
   "outputs": [],
   "source": [
    "plt.bar(range(2), [kmain.variance, kbio.variance], tick_label=['main','bio'])\n",
    "plt.xticks(fontsize=20)\n",
    "plt.yticks(fontsize=20)\n",
    "plt.title(\"$\\sigma$\",fontsize=20)\n",
    "plt.tight_layout()\n",
    "plt.savefig(\"figures/kern-variance-withBio.pdf\")"
   ]
  },
  {
   "cell_type": "code",
   "execution_count": null,
   "metadata": {
    "collapsed": false
   },
   "outputs": [],
   "source": [
    "xpred = np.zeros((100,3))\n",
    "xpred[:50,0] = xpred[50:,0] = np.linspace(x.min(),x.max())\n",
    "xpred[50:,1] = 1\n",
    "xpred[:,2] = 1000\n",
    "\n",
    "mu,cov = m.predict_noiseless(xpred,full_cov=True, kern=kmain)\n",
    "\n",
    "op = np.zeros((50,100))\n",
    "for i in range(50):\n",
    "    op[i,i] = 1\n",
    "    op[i,i+50] = -1\n",
    "    \n",
    "mu = np.dot(op,mu)[:,0]\n",
    "cov = np.dot(op,np.dot(cov,op.T))\n",
    "\n",
    "plt.plot(xpred[:50,0],mu)\n",
    "plt.fill_between(xpred[:50,0],mu+1.96*np.sqrt(cov.diagonal()),mu-1.96*np.sqrt(cov.diagonal()),alpha=.1)\n",
    "plt.plot([x.min(),x.max()],[0,0],'k',lw=3)\n",
    "\n",
    "plt.plot(x,y[:,position==0].mean(1) - y[:,position==1].mean(1))\n",
    "\n",
    "plt.xlabel(\"time\", fontsize=15)\n",
    "plt.ylabel(\"log(OD)\", fontsize=15)\n",
    "plt.tight_layout()\n",
    "\n",
    "plt.savefig(\"figures/edge-effect-gp-withBio.pdf\")"
   ]
  },
  {
   "cell_type": "code",
   "execution_count": null,
   "metadata": {
    "collapsed": true
   },
   "outputs": [],
   "source": []
  },
  {
   "cell_type": "code",
   "execution_count": null,
   "metadata": {
    "collapsed": false
   },
   "outputs": [],
   "source": [
    "ds = dataset.DataSet('data/')\n",
    "x,y,effect,labels = ds.build(Strain='ura3',mM_PQ=0.0,scale='range',effects=['Well'])\n",
    "y = np.log2(y)\n",
    "\n",
    "ymean,ystd = y.mean(),y.std()\n",
    "y = (y-y.mean())/y.std()"
   ]
  },
  {
   "cell_type": "code",
   "execution_count": null,
   "metadata": {
    "collapsed": false
   },
   "outputs": [],
   "source": [
    "edge = range(101,111) + range(111,191,10) + range(120,191,10) + range(191,201) + range(201,211) + range(211,291,10) + range(220,291,10) + range(291,301)\n",
    "edge = np.array(edge)\n",
    "edge"
   ]
  },
  {
   "cell_type": "code",
   "execution_count": null,
   "metadata": {
    "collapsed": true
   },
   "outputs": [],
   "source": [
    "dist = np.array([min(abs(l-edge)) for l in labels[0]])\n",
    "position = (dist==0).astype(int)"
   ]
  },
  {
   "cell_type": "code",
   "execution_count": null,
   "metadata": {
    "collapsed": true
   },
   "outputs": [],
   "source": [
    "yKernel = Addition(White(1,.1),RBF(1,.1))\n",
    "k1 = RBF(1,1,1)\n",
    "k2 = RBF(1,1,.1)\n",
    "\n",
    "p = y.shape[1]\n",
    "dm = np.ones((2,p))\n",
    "dm[1,:] = 1-2*position\n",
    "\n",
    "prior = Prior(x,k1,[0])\n",
    "prior2 = Prior(x,k2,range(1,dm.shape[0]))\n",
    "\n",
    "model = Model(x,y,dm)"
   ]
  },
  {
   "cell_type": "code",
   "execution_count": null,
   "metadata": {
    "collapsed": true
   },
   "outputs": [],
   "source": [
    "ySigmaSlice = Slice('ySigma',\n",
    "                    lambda x: model.dataLikelihood(yKernel,k1_sigma=x),\n",
    "                    lambda x: scipy.stats.uniform(1e-6,1e2).logpdf(x),\n",
    "                    .2,5,logspace=True)\n",
    "\n",
    "ySigma2Slice = Slice('ySigma',\n",
    "                    lambda x: model.dataLikelihood(yKernel,k2_sigma=x),\n",
    "                    lambda x: scipy.stats.uniform(1e-2,1e2).logpdf(x),\n",
    "                    .2,5,logspace=True)\n",
    "\n",
    "yLengthscaleSlice = Slice('yLengthscale',\n",
    "                    lambda x: model.dataLikelihood(yKernel,k2_lengthscale=x),\n",
    "                    lambda x: scipy.stats.uniform(1e-2,1e2).logpdf(x),\n",
    "                    .2,5,logspace=True)\n",
    "\n",
    "\n",
    "kSigmaSlice = Slice('kSigma',\n",
    "                    lambda x: prior.loglikelihood(model.beta,sigma=x),\n",
    "                    lambda x: scipy.stats.uniform(1e-6,1e2).logpdf(x),\n",
    "                    .2,5,logspace=True)\n",
    "\n",
    "kLengthscaleSlice = Slice('kLengthscale',\n",
    "                    lambda x: prior.loglikelihood(model.beta,lengthscale=x),\n",
    "                    lambda x: scipy.stats.uniform(1e-1,1e2).logpdf(x),\n",
    "                    .2,5,logspace=True)\n",
    "\n",
    "k2SigmaSlice = Slice('kSigma',\n",
    "                    lambda x: prior2.loglikelihood(model.beta,sigma=x),\n",
    "                    lambda x: scipy.stats.uniform(1e-6,1e2).logpdf(x),\n",
    "                    .2,5,logspace=True)\n",
    "\n",
    "k2LengthscaleSlice = Slice('kLengthscale',\n",
    "                    lambda x: prior2.loglikelihood(model.beta,lengthscale=x),\n",
    "                    lambda x: scipy.stats.uniform(1e-1,1e2).logpdf(x),\n",
    "                    .2,5,logspace=True)\n",
    "\n",
    "samples = []\n",
    "freeze = Freezer(yKernel=yKernel,k1=k1,k2=k2,model=model)"
   ]
  },
  {
   "cell_type": "code",
   "execution_count": null,
   "metadata": {
    "collapsed": false,
    "scrolled": true
   },
   "outputs": [],
   "source": [
    "thin = 10\n",
    "burnin = 0\n",
    "nsample = 3000\n",
    "\n",
    "for i in range(nsample):\n",
    "    prior.sample(model,yKernel)\n",
    "    prior2.sample(model,yKernel)\n",
    "    \n",
    "    yKernel.k1.sigma = ySigmaSlice.sample(yKernel.k1.sigma)\n",
    "    yKernel.k2.sigma = ySigma2Slice.sample(yKernel.k2.sigma)\n",
    "    yKernel.k2.lengthscale = yLengthscaleSlice.sample(yKernel.k2.lengthscale)\n",
    "    \n",
    "    k1.sigma = kSigmaSlice.sample(k1.sigma)\n",
    "    k1.lengthscale = kLengthscaleSlice.sample(k1.lengthscale)\n",
    "    \n",
    "    k2.sigma = k2SigmaSlice.sample(k2.sigma)\n",
    "    k2.lengthscale = k2LengthscaleSlice.sample(k2.lengthscale)\n",
    "\n",
    "    if i % thin == 0 and i > burnin:\n",
    "        f = freeze.freeze()\n",
    "        del f['model']\n",
    "        \n",
    "        print \"~~~~~~~~~~~~~~~~~~~~~~~~~~~~~~~~~~~~~~~\"\n",
    "        print model.dataLikelihood(yKernel)\n",
    "        printSample(f)\n",
    "        print\n",
    "        \n",
    "        samples.append(freeze.freeze())"
   ]
  },
  {
   "cell_type": "code",
   "execution_count": null,
   "metadata": {
    "collapsed": false
   },
   "outputs": [],
   "source": [
    "samples = json.load(open(\"edgeEffect-edge-replicate.json\"))\n",
    "\n",
    "for s in samples:\n",
    "    s['model']['beta'] = np.array(s['model']['beta'])"
   ]
  },
  {
   "cell_type": "code",
   "execution_count": null,
   "metadata": {
    "collapsed": false
   },
   "outputs": [],
   "source": [
    "plt.plot(x,np.array([s['model']['beta'][:,0] for s in samples]).T,c='k',alpha=.5);"
   ]
  },
  {
   "cell_type": "code",
   "execution_count": null,
   "metadata": {
    "collapsed": false
   },
   "outputs": [],
   "source": [
    "plt.plot(x,np.array([2*s['model']['beta'][:,1] for s in samples]).T,c='k',alpha=.5);"
   ]
  },
  {
   "cell_type": "code",
   "execution_count": null,
   "metadata": {
    "collapsed": false
   },
   "outputs": [],
   "source": [
    "plt.plot(x,scipy.stats.multivariate_normal.rvs(np.zeros(x.shape[0]),yKernel.K(x),size=20).T);"
   ]
  },
  {
   "cell_type": "code",
   "execution_count": null,
   "metadata": {
    "collapsed": false
   },
   "outputs": [],
   "source": [
    "beta = samples[-1]['model']['beta']\n",
    "\n",
    "plt.figure(figsize=(10,5))\n",
    "for i,p in enumerate([0,1]):\n",
    "    select = position==p\n",
    "    \n",
    "    plt.subplot(1,2,i+1)\n",
    "    plt.plot(x,y[:,select],c='k',alpha=.4)\n",
    "    plt.plot(x,y[:,select].mean(1),c='b',alpha=1)\n",
    "    plt.plot(x,beta[:,0] + (1-2*p)*beta[:,1],c='r')\n",
    "    \n",
    "    plt.ylim(y.min(),y.max())"
   ]
  },
  {
   "cell_type": "code",
   "execution_count": null,
   "metadata": {
    "collapsed": false
   },
   "outputs": [],
   "source": [
    "beta = samples[-1]['model']['beta']\n",
    "\n",
    "plt.figure(figsize=(10,10))\n",
    "for i,p in enumerate([0,1]):\n",
    "    select = position==p\n",
    "    \n",
    "    plt.subplot(2,2,i+1)\n",
    "    plt.plot(x,y[:,select],c='k',alpha=.2)\n",
    "    plt.plot(x,beta[:,0] + (1-2*p)*beta[:,1],c='r')\n",
    "    \n",
    "    plt.subplot(2,2,i+3)\n",
    "    sample = scipy.stats.multivariate_normal.rvs(beta[:,0] + (1-2*p)*beta[:,1],yKernel.K(x),size=sum(select)).T\n",
    "    plt.plot(x,sample,c='k',alpha=.2)\n",
    "    plt.plot(x,beta[:,0] + (1-2*p)*beta[:,1],c='r')\n",
    "    plt.ylim(y.min(),y.max())"
   ]
  },
  {
   "cell_type": "code",
   "execution_count": null,
   "metadata": {
    "collapsed": false
   },
   "outputs": [],
   "source": [
    "samplesCopy = [copy.deepcopy(s) for s in samples]\n",
    "for s in samplesCopy:\n",
    "    s['model']['beta'] = s['model']['beta'].tolist()\n",
    "    \n",
    "s = json.dumps(samplesCopy)\n",
    "\n",
    "ofile = open(\"edgeEffect-edge-replicate.json\",'w')\n",
    "ofile.write(s)\n",
    "ofile.close()"
   ]
  },
  {
   "cell_type": "code",
   "execution_count": null,
   "metadata": {
    "collapsed": true
   },
   "outputs": [],
   "source": []
  }
 ],
 "metadata": {
  "kernelspec": {
   "display_name": "Python 2",
   "language": "python",
   "name": "python2"
  },
  "language_info": {
   "codemirror_mode": {
    "name": "ipython",
    "version": 2
   },
   "file_extension": ".py",
   "mimetype": "text/x-python",
   "name": "python",
   "nbconvert_exporter": "python",
   "pygments_lexer": "ipython2",
   "version": "2.7.6"
  }
 },
 "nbformat": 4,
 "nbformat_minor": 1
}