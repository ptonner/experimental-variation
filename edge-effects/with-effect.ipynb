{
 "cells": [
  {
   "cell_type": "code",
   "execution_count": null,
   "metadata": {
    "collapsed": true
   },
   "outputs": [],
   "source": [
    "import GPy, scipy, patsy\n",
    "from gpmultipy import dataset"
   ]
  },
  {
   "cell_type": "code",
   "execution_count": null,
   "metadata": {
    "collapsed": false
   },
   "outputs": [],
   "source": [
    "%pylab"
   ]
  },
  {
   "cell_type": "code",
   "execution_count": null,
   "metadata": {
    "collapsed": true
   },
   "outputs": [],
   "source": [
    "%matplotlib inline"
   ]
  },
  {
   "cell_type": "code",
   "execution_count": null,
   "metadata": {
    "collapsed": false
   },
   "outputs": [],
   "source": [
    "ds = dataset.DataSet('data/')\n",
    "x,y,effect,labels = ds.build(Strain='ura3',mM_PQ=0.0,scale='range',effects=['Well'])\n",
    "y = np.log2(y)\n",
    "y = (y-y.mean())/y.std()"
   ]
  },
  {
   "cell_type": "code",
   "execution_count": null,
   "metadata": {
    "collapsed": false
   },
   "outputs": [],
   "source": [
    "edge = range(101,111) + range(111,191,10) + range(120,191,10) + range(191,201) + range(201,211) + range(211,291,10) + range(220,291,10) + range(291,301)\n",
    "edge = np.array(edge)\n",
    "edge"
   ]
  },
  {
   "cell_type": "code",
   "execution_count": null,
   "metadata": {
    "collapsed": true
   },
   "outputs": [],
   "source": [
    "dist = np.array([min(abs(l-edge)) for l in labels[0]])\n",
    "position = (dist==0).astype(int)"
   ]
  },
  {
   "cell_type": "code",
   "execution_count": null,
   "metadata": {
    "collapsed": false
   },
   "outputs": [],
   "source": [
    "xgp = np.zeros((x.shape[0]*y.shape[1], 2))\n",
    "xgp[:,0] = np.tile(x[:,0], y.shape[1])\n",
    "xgp[:,1] = np.repeat(position, x.shape[0])\n",
    "\n",
    "ygp = y.ravel(1)[:,None]\n",
    "\n",
    "xgp = xgp[::10]\n",
    "ygp = ygp[::10]\n",
    "\n",
    "xgp.shape"
   ]
  },
  {
   "cell_type": "code",
   "execution_count": null,
   "metadata": {
    "collapsed": false
   },
   "outputs": [],
   "source": [
    "# k = GPy.kern.RBF(2, ARD=True)\n",
    "k = GPy.kern.RBF(1,name='time')*GPy.kern.RBF(1,name='edge',active_dims=[1])\n",
    "\n",
    "m = GPy.models.GPRegression(xgp,ygp,k)\n",
    "m"
   ]
  },
  {
   "cell_type": "code",
   "execution_count": null,
   "metadata": {
    "collapsed": false
   },
   "outputs": [],
   "source": [
    "m.optimize()\n",
    "m"
   ]
  },
  {
   "cell_type": "code",
   "execution_count": null,
   "metadata": {
    "collapsed": false
   },
   "outputs": [],
   "source": [
    "k"
   ]
  },
  {
   "cell_type": "code",
   "execution_count": null,
   "metadata": {
    "collapsed": false
   },
   "outputs": [],
   "source": [
    "m.input_sensitivity()"
   ]
  },
  {
   "cell_type": "code",
   "execution_count": null,
   "metadata": {
    "collapsed": false
   },
   "outputs": [],
   "source": [
    "xpred = np.zeros((100,2))\n",
    "xpred[:50,0] = xpred[50:,0] = np.linspace(x.min(),x.max())\n",
    "xpred[50:,1] = 1\n",
    "\n",
    "mu,cov = m.predict_noiseless(xpred,full_cov=True)\n",
    "\n",
    "op = np.zeros((50,100))\n",
    "for i in range(50):\n",
    "    op[i,i] = 1\n",
    "    op[i,i+50] = -1\n",
    "    \n",
    "mu = np.dot(op,mu)[:,0]\n",
    "cov = np.dot(op,np.dot(cov,op.T))\n",
    "\n",
    "plt.plot(xpred[:50,0],mu)\n",
    "plt.fill_between(xpred[:50,0],mu+1.96*np.sqrt(cov.diagonal()),mu-1.96*np.sqrt(cov.diagonal()),alpha=.1)\n",
    "plt.plot([x.min(),x.max()],[0,0],'k',lw=3)\n",
    "\n",
    "plt.plot(x,y[:,position==0].mean(1) - y[:,position==1].mean(1))\n",
    "plt.title('Non-edge vs edge',fontsize=20)\n",
    "plt.xlabel(\"time\", fontsize=15)\n",
    "plt.ylabel(\"log(OD)\", fontsize=15)\n",
    "plt.tight_layout()\n",
    "\n",
    "plt.savefig(\"figures/edge-effect-gp.pdf\")"
   ]
  },
  {
   "cell_type": "code",
   "execution_count": null,
   "metadata": {
    "collapsed": false
   },
   "outputs": [],
   "source": [
    "cov = k.K(xpred)\n",
    "cov = np.dot(op,np.dot(cov,op.T))\n",
    "\n",
    "np.sqrt(cov.diagonal()*1.96)"
   ]
  },
  {
   "cell_type": "code",
   "execution_count": null,
   "metadata": {
    "collapsed": false
   },
   "outputs": [],
   "source": [
    "xpred = np.zeros((50,2))\n",
    "xpred[:,0] = np.linspace(x.min(),x.max())\n",
    "# xpred[50:,1] = 1\n",
    "\n",
    "mu,cov = m.predict_noiseless(xpred,full_cov=True,kern=k.time)\n",
    "mu = mu[:,0]\n",
    "\n",
    "plt.plot(xpred[:50,0],mu)\n",
    "plt.fill_between(xpred[:50,0],mu+1.96*np.sqrt(cov.diagonal()),mu-1.96*np.sqrt(cov.diagonal()),alpha=.1)\n",
    "plt.plot([x.min(),x.max()],[0,0],'k',lw=3)"
   ]
  },
  {
   "cell_type": "code",
   "execution_count": null,
   "metadata": {
    "collapsed": true
   },
   "outputs": [],
   "source": []
  }
 ],
 "metadata": {
  "kernelspec": {
   "display_name": "Python 2",
   "language": "python",
   "name": "python2"
  },
  "language_info": {
   "codemirror_mode": {
    "name": "ipython",
    "version": 2
   },
   "file_extension": ".py",
   "mimetype": "text/x-python",
   "name": "python",
   "nbconvert_exporter": "python",
   "pygments_lexer": "ipython2",
   "version": "2.7.6"
  }
 },
 "nbformat": 4,
 "nbformat_minor": 1
}