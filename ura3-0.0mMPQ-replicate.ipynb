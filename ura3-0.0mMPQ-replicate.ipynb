{
 "cells": [
  {
   "cell_type": "code",
   "execution_count": null,
   "metadata": {},
   "outputs": [],
   "source": [
    "%pylab"
   ]
  },
  {
   "cell_type": "code",
   "execution_count": null,
   "metadata": {
    "collapsed": true
   },
   "outputs": [],
   "source": [
    "%matplotlib inline"
   ]
  },
  {
   "cell_type": "code",
   "execution_count": null,
   "metadata": {},
   "outputs": [],
   "source": [
    "import pystan, pickle, popmachine, scipy\n",
    "import pandas as pd\n",
    "\n",
    "from pystan_cache.pystan_cache import caching_stan"
   ]
  },
  {
   "cell_type": "code",
   "execution_count": null,
   "metadata": {},
   "outputs": [],
   "source": [
    "pystan.__version__"
   ]
  },
  {
   "cell_type": "code",
   "execution_count": null,
   "metadata": {
    "collapsed": true
   },
   "outputs": [],
   "source": [
    "machine = popmachine.Machine('sqlite:///../popmachine_local/.popmachine.db')"
   ]
  },
  {
   "cell_type": "code",
   "execution_count": null,
   "metadata": {
    "collapsed": true
   },
   "outputs": [],
   "source": [
    "gp_multi = caching_stan.stan_model(file='stan-models/gp_multi.stan')\n",
    "gp_multi_marginal = caching_stan.stan_model(file='stan-models/gp_multi_marginal.stan')\n",
    "# gp_multi_marginal_gamma = caching_stan.stan_model(file='stan-models/gp_multi_marginal_gamma.stan')"
   ]
  },
  {
   "cell_type": "code",
   "execution_count": null,
   "metadata": {
    "collapsed": true
   },
   "outputs": [],
   "source": [
    "plates = ['20161010_PQ_osmo', u'20150517 PQ 3', u'20161107_PQ_osmo_combo',\n",
    "       u'20150715 PQ 8', u'20150702 PQ 6', u'20150607 PQ 4',\n",
    "       u'20150630 PQ 5', u'20150704 PQ 7', u'20150717 PQ 9']"
   ]
  },
  {
   "cell_type": "code",
   "execution_count": null,
   "metadata": {
    "collapsed": true
   },
   "outputs": [],
   "source": [
    "np.kron?"
   ]
  },
  {
   "cell_type": "code",
   "execution_count": null,
   "metadata": {},
   "outputs": [],
   "source": [
    "dm.shape"
   ]
  },
  {
   "cell_type": "code",
   "execution_count": null,
   "metadata": {},
   "outputs": [],
   "source": [
    "temp = np.zeros((dm.shape[0], 2))\n",
    "temp[:, 0] = 1\n",
    "temp[::2, 1] = 1\n",
    "\n",
    "r = np.zeros((dm.shape[0], 3))\n",
    "r[:5, 0] = 1\n",
    "r[5:10,1] = 1\n",
    "r[10:, 2] = 1\n",
    "\n",
    "# plt.imshow(np.kron(temp[0,:], r[0,:]), aspect='auto')"
   ]
  },
  {
   "cell_type": "code",
   "execution_count": null,
   "metadata": {},
   "outputs": [],
   "source": [
    "temp.shape, r.shape"
   ]
  },
  {
   "cell_type": "code",
   "execution_count": null,
   "metadata": {},
   "outputs": [],
   "source": [
    "temp"
   ]
  },
  {
   "cell_type": "code",
   "execution_count": null,
   "metadata": {},
   "outputs": [],
   "source": [
    "r"
   ]
  },
  {
   "cell_type": "code",
   "execution_count": null,
   "metadata": {},
   "outputs": [],
   "source": [
    "np.array([np.kron(temp[i,:], r[i,:]) for i in range(dm.shape[0])])"
   ]
  },
  {
   "cell_type": "code",
   "execution_count": null,
   "metadata": {},
   "outputs": [],
   "source": [
    "for plate in plates:\n",
    "    \n",
    "    ds = machine.search(plates = [plate], Strain='ura3', **{'mM PQ':[0.0], 'M NaCl':[4.2, None]})\n",
    "\n",
    "    ds.log()\n",
    "    ds.filter()\n",
    "    ds.trim(5)\n",
    "    ds.poly_scale(2, groupby=['plate', 'mM PQ'])\n",
    "\n",
    "    ds.data = ds.data.iloc[::3,:]\n",
    "    \n",
    "    xraw ,y, design, labels = ds.build(['mM PQ', 'plate'],scale=True)\n",
    "    \n",
    "    ymean, ystd = y.mean(), y.std()\n",
    "    y = (y-y.mean())/y.std()\n",
    "    x = (xraw-xraw.mean())/xraw.std()\n",
    "    \n",
    "    dm = np.ones((y.shape[1], 1))\n",
    "    \n",
    "    p = dm.shape[1]\n",
    "    n = x.shape[0]\n",
    "\n",
    "    train_data = {\n",
    "        'N': n,\n",
    "        'P':y.shape[1],\n",
    "        'K':dm.shape[1],\n",
    "        'L':1,\n",
    "        'prior':[1],     \n",
    "        'design': dm\n",
    "    }\n",
    "\n",
    "    train_data['y'] = y.T\n",
    "    train_data['x'] = x[:,0]\n",
    "\n",
    "    train_data['alpha_prior'] = [[1,1]]\n",
    "    train_data['length_scale_prior'] = [[.5, .5]]\n",
    "    train_data['marginal_alpha_prior'] = [.5, .1]\n",
    "    train_data['marginal_lengthscale_prior'] = [8, 2.0]\n",
    "\n",
    "    train_data['sigma_prior'] = [.1,1.5]\n",
    "\n",
    "    tsamples = gp_multi_marginal.sampling(data=train_data, chains=4, iter=2000, control = {'adapt_delta': 0.8})\n",
    "    \n",
    "    summary = tsamples.summary()\n",
    "    summary = pd.DataFrame(summary['summary'], columns=summary['summary_colnames'], index=summary['summary_rownames'])\n",
    "    \n",
    "    tsamp = tsamples.extract(permuted=True)\n",
    "    pickle.dump(tsamp, open('samples/ura3-0.0mMPQ-replicate-%s-samples.pkl'%plate, 'wb'))\n",
    "    \n",
    "    print plate\n",
    "    print summary.Rhat.describe()"
   ]
  },
  {
   "cell_type": "code",
   "execution_count": null,
   "metadata": {},
   "outputs": [],
   "source": [
    "for plate in plates:\n",
    "    \n",
    "    ds = machine.search(plates = [plate], Strain='ura3', **{'mM PQ':[0.0], 'M NaCl':[4.2, None]})\n",
    "\n",
    "    ds.log()\n",
    "    ds.filter()\n",
    "    ds.trim(5)\n",
    "    ds.poly_scale(2, groupby=['plate', 'mM PQ'])\n",
    "\n",
    "    ds.data = ds.data.iloc[::3,:]\n",
    "    \n",
    "    xraw ,y, design, labels = ds.build(['mM PQ', 'plate'],scale=True)\n",
    "    \n",
    "    ymean, ystd = y.mean(), y.std()\n",
    "    y = (y-y.mean())/y.std()\n",
    "    x = (xraw-xraw.mean())/xraw.std()\n",
    "    \n",
    "    dm = np.ones((y.shape[1], 1))\n",
    "    \n",
    "    p = dm.shape[1]\n",
    "    n = x.shape[0]\n",
    "\n",
    "    train_data = {\n",
    "        'N': n,\n",
    "        'P':y.shape[1],\n",
    "        'K':dm.shape[1],\n",
    "        'L':1,\n",
    "        'prior':[1],     \n",
    "        'design': dm\n",
    "    }\n",
    "\n",
    "    train_data['y'] = y.T\n",
    "    train_data['x'] = x[:,0]\n",
    "\n",
    "    train_data['alpha_prior'] = [[1,1]]\n",
    "    train_data['length_scale_prior'] = [[.5, .5]]\n",
    "    train_data['marginal_alpha_prior'] = [.5, .1]\n",
    "    train_data['marginal_lengthscale_prior'] = [8, 2.0]\n",
    "\n",
    "    train_data['sigma_prior'] = [.1,1.5]\n",
    "\n",
    "    tsamples = gp_multi.sampling(data=train_data, chains=4, iter=2000, control = {'adapt_delta': 0.8})\n",
    "    \n",
    "    summary = tsamples.summary()\n",
    "    summary = pd.DataFrame(summary['summary'], columns=summary['summary_colnames'], index=summary['summary_rownames'])\n",
    "    \n",
    "    tsamp = tsamples.extract(permuted=True)\n",
    "    pickle.dump(tsamp, open('samples/ura3-0.0mMPQ-replicate-mnull-%s-samples.pkl'%plate, 'wb'))\n",
    "    \n",
    "    print plate\n",
    "    print summary.Rhat.describe()"
   ]
  },
  {
   "cell_type": "code",
   "execution_count": null,
   "metadata": {},
   "outputs": [],
   "source": [
    "plates"
   ]
  },
  {
   "cell_type": "code",
   "execution_count": null,
   "metadata": {
    "collapsed": true
   },
   "outputs": [],
   "source": [
    "plate = plates[-2]"
   ]
  },
  {
   "cell_type": "code",
   "execution_count": null,
   "metadata": {
    "collapsed": true
   },
   "outputs": [],
   "source": [
    "tsamp = pickle.load(open('samples/ura3-0.0mMPQ-replicate-%s-samples.pkl'%plate, 'rb'))\n",
    "nsamp = pickle.load(open('samples/ura3-0.0mMPQ-replicate-mnull-%s-samples.pkl'%plate, 'rb'))"
   ]
  },
  {
   "cell_type": "code",
   "execution_count": null,
   "metadata": {},
   "outputs": [],
   "source": [
    "plt.figure(figsize=(len(plates) * 4, 4))\n",
    "\n",
    "for p, plate in enumerate(plates):\n",
    "    \n",
    "    ds = machine.search(plates = [plate], Strain='ura3', **{'mM PQ':[0.0], 'M NaCl':[4.2, None]})\n",
    "\n",
    "    ds.log()\n",
    "    ds.filter()\n",
    "    ds.trim(5)\n",
    "    ds.poly_scale(2, groupby=['plate', 'mM PQ'])\n",
    "\n",
    "    ds.data = ds.data.iloc[::3,:]\n",
    "    \n",
    "    xraw ,y, design, labels = ds.build(['mM PQ', 'plate'],scale=True)\n",
    "    \n",
    "    tsamp = pickle.load(open('samples/ura3-0.0mMPQ-replicate-%s-samples.pkl'%plate, 'rb'))\n",
    "    nsamp = pickle.load(open('samples/ura3-0.0mMPQ-replicate-mnull-%s-samples.pkl'%plate, 'rb'))\n",
    "\n",
    "    plt.subplot(1, len(plates), p+1)\n",
    "    i = 0\n",
    "\n",
    "    plt.plot(xraw, nsamp['f'][:,i,:].mean(0),)\n",
    "    plt.fill_between(xraw[:,0], \n",
    "                     nsamp['f'][:,i,:].mean(0)-2*nsamp['f'][:,i,:].std(0),\n",
    "                     nsamp['f'][:,i,:].mean(0)+2*nsamp['f'][:,i,:].std(0),alpha=.1)\n",
    "\n",
    "    plt.plot(xraw, tsamp['f'][:,i,:].mean(0),)\n",
    "    plt.fill_between(xraw[:,0], \n",
    "                     tsamp['f'][:,i,:].mean(0)-2*tsamp['f'][:,i,:].std(0),\n",
    "                     tsamp['f'][:,i,:].mean(0)+2*tsamp['f'][:,i,:].std(0),alpha=.3)"
   ]
  },
  {
   "cell_type": "code",
   "execution_count": null,
   "metadata": {},
   "outputs": [],
   "source": [
    "plt.figure(figsize=(8, 4))\n",
    "\n",
    "for p, plate in enumerate(plates):\n",
    "    \n",
    "    ds = machine.search(plates = [plate], Strain='ura3', **{'mM PQ':[0.0], 'M NaCl':[4.2, None]})\n",
    "\n",
    "    ds.log()\n",
    "    ds.filter()\n",
    "    ds.trim(5)\n",
    "    ds.poly_scale(2, groupby=['plate', 'mM PQ'])\n",
    "\n",
    "    ds.data = ds.data.iloc[::3,:]\n",
    "    \n",
    "    xraw ,y, design, labels = ds.build(['mM PQ', 'plate'],scale=True)\n",
    "    ymean, ystd = y.mean(), y.std()\n",
    "    \n",
    "    xraw = xraw[:31,:]\n",
    "    \n",
    "    tsamp = pickle.load(open('samples/ura3-0.0mMPQ-replicate-%s-samples.pkl'%plate, 'rb'))\n",
    "    nsamp = pickle.load(open('samples/ura3-0.0mMPQ-replicate-mnull-%s-samples.pkl'%plate, 'rb'))\n",
    "\n",
    "    plt.subplot(121)    \n",
    "    temp = nsamp['f'][:,0,:31]\n",
    "    temp = temp*ystd + ymean\n",
    "    plt.plot(xraw, temp.mean(0),)\n",
    "    plt.fill_between(xraw[:,0], \n",
    "                     temp.mean(0)-2*temp.std(0),\n",
    "                     temp.mean(0)+2*temp.std(0),alpha=.1)\n",
    "\n",
    "    plt.subplot(122)    \n",
    "    temp = tsamp['f'][:,0,:31]\n",
    "    temp = temp*ystd + ymean\n",
    "    plt.plot(xraw, temp.mean(0),)\n",
    "    plt.fill_between(xraw[:,0], \n",
    "                     temp.mean(0)-2*temp.std(0),\n",
    "                     temp.mean(0)+2*temp.std(0),alpha=.1)\n",
    "    \n",
    "\n",
    "plt.subplot(121)\n",
    "plt.xlabel('time (h)', fontsize=16)\n",
    "plt.ylabel('log(OD)', fontsize=16)\n",
    "plt.xticks(fontsize=12)\n",
    "plt.yticks(fontsize=12)\n",
    "\n",
    "plt.subplot(122)\n",
    "plt.xlabel('time (h)', fontsize=16)\n",
    "plt.xticks(fontsize=12)\n",
    "plt.yticks(fontsize=12)\n",
    "\n",
    "plt.tight_layout()\n",
    "\n",
    "plt.savefig('figures/ura3_0.0mMPQ-replicate-functions.pdf', bbox_inches='tight')"
   ]
  },
  {
   "cell_type": "code",
   "execution_count": null,
   "metadata": {},
   "outputs": [],
   "source": [
    "plt.figure(figsize=(8, 4))\n",
    "\n",
    "for p, plate in enumerate(plates):\n",
    "    \n",
    "    ds = machine.search(plates = [plate], Strain='ura3', **{'mM PQ':[0.0], 'M NaCl':[4.2, None]})\n",
    "\n",
    "    ds.log()\n",
    "    ds.filter()\n",
    "    ds.trim(5)\n",
    "    ds.poly_scale(2, groupby=['plate', 'mM PQ'])\n",
    "\n",
    "    ds.data = ds.data.iloc[::3,:]\n",
    "    \n",
    "    xraw ,y, design, labels = ds.build(['mM PQ', 'plate'],scale=True)\n",
    "    ymean, ystd = y.mean(), y.std()\n",
    "    \n",
    "    xraw = xraw[:31,:]\n",
    "    \n",
    "    tsamp = pickle.load(open('samples/ura3-0.0mMPQ-replicate-%s-samples.pkl'%plate, 'rb'))\n",
    "    nsamp = pickle.load(open('samples/ura3-0.0mMPQ-replicate-mnull-%s-samples.pkl'%plate, 'rb'))\n",
    "    \n",
    "    temp = nsamp['f'][:,0,:31]\n",
    "    temp = temp*ystd + ymean\n",
    "    \n",
    "    temp2 = tsamp['f'][:,0,:31]\n",
    "    temp2 = temp2*ystd + ymean\n",
    "    \n",
    "    plt.boxplot([np.log10(temp2.var(0)/temp.var(0))], positions=[p], showfliers=False)\n",
    "\n",
    "plt.xticks([])\n",
    "plt.plot([-1, len(plates)], [0,0], c='k')   \n",
    "plt.xlim(-1, len(plates))\n",
    "plt.yticks(fontsize=16)\n",
    "\n",
    "plt.savefig('figures/ura3_0.0mMPQ-replicate-functionInterval.pdf', bbox_inches='tight')"
   ]
  },
  {
   "cell_type": "code",
   "execution_count": null,
   "metadata": {},
   "outputs": [],
   "source": [
    "plt.figure(figsize=(16, 4))\n",
    "\n",
    "for p, plate in enumerate(plates):\n",
    "    \n",
    "    ds = machine.search(plates = [plate], Strain='ura3', **{'mM PQ':[0.0], 'M NaCl':[4.2, None]})\n",
    "\n",
    "    ds.log()\n",
    "    ds.filter()\n",
    "    ds.trim(5)\n",
    "    ds.poly_scale(2, groupby=['plate', 'mM PQ'])\n",
    "\n",
    "    ds.data = ds.data.iloc[::3,:]\n",
    "    \n",
    "    xraw ,y, design, labels = ds.build(['mM PQ', 'plate'],scale=True)\n",
    "    ymean, ystd = y.mean(), y.std()\n",
    "    \n",
    "    xraw = xraw[:31,:]\n",
    "    \n",
    "    tsamp = pickle.load(open('samples/ura3-0.0mMPQ-replicate-%s-samples.pkl'%plate, 'rb'))\n",
    "    nsamp = pickle.load(open('samples/ura3-0.0mMPQ-replicate-mnull-%s-samples.pkl'%plate, 'rb'))\n",
    "    \n",
    "    for r, param in enumerate(['alpha', 'length_scale', 'marginal_alpha', 'marginal_lengthscale']):\n",
    "        \n",
    "        temp = tsamp[param]\n",
    "        z = np.linspace(temp.min()*.7, temp.max()*1.3)\n",
    "        kde = scipy.stats.gaussian_kde(temp)\n",
    "        \n",
    "        plt.subplot(1, 4, r+1)\n",
    "        plt.plot(z, kde(z))"
   ]
  },
  {
   "cell_type": "code",
   "execution_count": null,
   "metadata": {},
   "outputs": [],
   "source": [
    "plt.figure(figsize=(12, 4))\n",
    "\n",
    "for p, plate in enumerate(plates):\n",
    "    \n",
    "    ds = machine.search(plates = [plate], Strain='ura3', **{'mM PQ':[0.0], 'M NaCl':[4.2, None]})\n",
    "\n",
    "    ds.log()\n",
    "    ds.filter()\n",
    "    ds.trim(5)\n",
    "    ds.poly_scale(2, groupby=['plate', 'mM PQ'])\n",
    "\n",
    "    ds.data = ds.data.iloc[::3,:]\n",
    "    \n",
    "    xraw ,y, design, labels = ds.build(['mM PQ', 'plate'],scale=True)\n",
    "    ymean, ystd = y.mean(), y.std()\n",
    "    \n",
    "    xraw = xraw[:31,:]\n",
    "    \n",
    "    tsamp = pickle.load(open('samples/ura3-0.0mMPQ-replicate-%s-samples.pkl'%plate, 'rb'))\n",
    "    nsamp = pickle.load(open('samples/ura3-0.0mMPQ-replicate-mnull-%s-samples.pkl'%plate, 'rb'))\n",
    "    \n",
    "    for r, param in enumerate(['alpha', 'length_scale', 'sigma']):\n",
    "        \n",
    "        temp = tsamp[param]\n",
    "        temp2 = nsamp[param]\n",
    "        \n",
    "        plt.subplot(1,3,r+1)\n",
    "        plt.boxplot([temp2], positions=[p*2], showfliers=False)\n",
    "        plt.boxplot([temp], positions=[p*2 + 1], showfliers=False, boxprops={'color':'blue'})\n",
    "        \n",
    "plt.subplot(131)\n",
    "plt.xlim(-1, 2*len(plates))\n",
    "\n",
    "plt.subplot(132)\n",
    "plt.xlim(-1, 2*len(plates))\n",
    "\n",
    "plt.subplot(133)\n",
    "plt.xlim(-1, 2*len(plates))"
   ]
  },
  {
   "cell_type": "code",
   "execution_count": null,
   "metadata": {},
   "outputs": [],
   "source": [
    "plt.figure(figsize=(9,9))\n",
    "\n",
    "for p, plate in enumerate(plates):\n",
    "    \n",
    "    ds = machine.search(plates = [plate], Strain='ura3', **{'mM PQ':[0.0], 'M NaCl':[4.2, None]})\n",
    "\n",
    "    ds.log()\n",
    "    ds.filter()\n",
    "    ds.trim(5)\n",
    "    ds.poly_scale(2, groupby=['plate', 'mM PQ'])\n",
    "\n",
    "    ds.data = ds.data.iloc[::3,:]\n",
    "    \n",
    "    xraw ,y, design, labels = ds.build(['mM PQ', 'plate'],scale=True)\n",
    "    ymean, ystd = y.mean(), y.std()\n",
    "    \n",
    "    xraw = xraw[:31,:]\n",
    "    \n",
    "    tsamp = pickle.load(open('samples/ura3-0.0mMPQ-replicate-%s-samples.pkl'%plate, 'rb'))\n",
    "    nsamp = pickle.load(open('samples/ura3-0.0mMPQ-replicate-mnull-%s-samples.pkl'%plate, 'rb'))\n",
    "    \n",
    "        \n",
    "    #temp = tsamp['alpha'] + tsamp['sigma'] + tsamp['marginal_alpha']\n",
    "    #temp2 = nsamp['alpha'] + nsamp['sigma']\n",
    "    \n",
    "    temp = tsamp['sigma'] + tsamp['marginal_alpha']\n",
    "    temp2 = nsamp['sigma']\n",
    "\n",
    "#     buff = 5\n",
    "#     plt.boxplot([temp2], positions=[p*buff], showfliers=False, vert=True, widths=[.5])\n",
    "#     plt.boxplot([tsamp['sigma']], positions=[p*buff + 1], showfliers=False, boxprops={'color':'blue'}, widths=[.5], vert=True)\n",
    "#     plt.boxplot([tsamp['marginal_alpha']], positions=[p*buff + 2], showfliers=False, boxprops={'color':'red'}, widths=[.5], vert=True)\n",
    "#     plt.boxplot([tsamp['sigma'] + tsamp['marginal_alpha']], positions=[p*buff + 3], showfliers=False, boxprops={'color':'green'}, widths=[.5], vert=True)\n",
    "\n",
    "    plt.subplot(3, 3, p+1)\n",
    "    plt.boxplot([temp2], positions=[0], showfliers=False, vert=False, widths=[.5])\n",
    "    plt.boxplot([tsamp['sigma']], positions=[1], showfliers=False, boxprops={'color':'blue'}, widths=[.5], vert=False)\n",
    "    plt.boxplot([tsamp['marginal_alpha']], positions=[2], showfliers=False, boxprops={'color':'red'}, widths=[.5], vert=False)\n",
    "    plt.boxplot([tsamp['sigma'] + tsamp['marginal_alpha']], positions=[3], showfliers=False, boxprops={'color':'green'}, widths=[.5], vert=False)\n",
    "    plt.ylim(-1, 4)\n",
    "    \n",
    "    if p % 3 == 0:\n",
    "        plt.yticks(range(4), ['']*4)\n",
    "    else:\n",
    "        plt.yticks([])\n",
    "        \n",
    "    plt.xticks(fontsize=12)\n",
    "    \n",
    "plt.tight_layout()\n",
    "plt.savefig('figures/ura3_0.0mMPQ-varianceTotal-replicate.pdf', bbox_inches='tight')"
   ]
  },
  {
   "cell_type": "code",
   "execution_count": null,
   "metadata": {},
   "outputs": [],
   "source": [
    "plt.figure(figsize=(12, 4))\n",
    "\n",
    "for p, plate in enumerate(plates):\n",
    "    \n",
    "    ds = machine.search(plates = [plate], Strain='ura3', **{'mM PQ':[0.0], 'M NaCl':[4.2, None]})\n",
    "\n",
    "    ds.log()\n",
    "    ds.filter()\n",
    "    ds.trim(5)\n",
    "    ds.poly_scale(2, groupby=['plate', 'mM PQ'])\n",
    "\n",
    "    ds.data = ds.data.iloc[::3,:]\n",
    "    \n",
    "    xraw ,y, design, labels = ds.build(['mM PQ', 'plate'],scale=True)\n",
    "    ymean, ystd = y.mean(), y.std()\n",
    "    \n",
    "    xraw = xraw[:31,:]\n",
    "    \n",
    "    tsamp = pickle.load(open('samples/ura3-0.0mMPQ-replicate-%s-samples.pkl'%plate, 'rb'))\n",
    "    nsamp = pickle.load(open('samples/ura3-0.0mMPQ-replicate-mnull-%s-samples.pkl'%plate, 'rb'))\n",
    "    \n",
    "        \n",
    "    #temp = tsamp['alpha'] + tsamp['sigma'] + tsamp['marginal_alpha']\n",
    "    #temp2 = nsamp['alpha'] + nsamp['sigma']\n",
    "    \n",
    "    temp = tsamp['sigma']\n",
    "    temp2 = nsamp['sigma']\n",
    "\n",
    "    plt.boxplot([temp2], positions=[p*3], showfliers=False, vert=True, widths=[.5])\n",
    "    plt.boxplot([temp], positions=[p*3 + 1], showfliers=False, boxprops={'color':'blue'}, widths=[.5], vert=True)\n",
    "        \n",
    "plt.xlim(-1, 3*len(plates)-1)\n",
    "plt.xticks([])\n",
    "\n",
    "plt.savefig('figures/ura3_0.0mMPQ-varianceNoise-replicate.pdf', bbox_inches='tight')"
   ]
  },
  {
   "cell_type": "code",
   "execution_count": null,
   "metadata": {
    "collapsed": true
   },
   "outputs": [],
   "source": [
    "line = line[0]"
   ]
  },
  {
   "cell_type": "code",
   "execution_count": null,
   "metadata": {},
   "outputs": [],
   "source": [
    "line.properties()"
   ]
  },
  {
   "cell_type": "markdown",
   "metadata": {},
   "source": [
    "# null model "
   ]
  },
  {
   "cell_type": "code",
   "execution_count": null,
   "metadata": {
    "collapsed": true
   },
   "outputs": [],
   "source": [
    "null_train_data = train_data.copy()\n",
    "null_train_data['design'] = train_data['design'][:,:2]\n",
    "null_train_data['prior'] = null_train_data['prior'][:2]\n",
    "null_train_data['length_scale_prior'] = null_train_data['length_scale_prior'][:2]\n",
    "null_train_data['alpha_prior'] = null_train_data['alpha_prior'][:2]\n",
    "null_train_data['K'] = null_train_data['L'] = 2"
   ]
  },
  {
   "cell_type": "code",
   "execution_count": null,
   "metadata": {
    "collapsed": true
   },
   "outputs": [],
   "source": [
    "nullSamples = gp_multi.sampling(data=null_train_data, chains=4, iter=2000, control = {'adapt_delta': 0.8})"
   ]
  },
  {
   "cell_type": "code",
   "execution_count": null,
   "metadata": {},
   "outputs": [],
   "source": [
    "nullSamples"
   ]
  },
  {
   "cell_type": "code",
   "execution_count": null,
   "metadata": {},
   "outputs": [],
   "source": [
    "plt.figure(figsize=(10,4))\n",
    "nullSamples.traceplot(['length_scale', 'alpha', 'sigma','lp__'])\n",
    "plt.tight_layout()"
   ]
  },
  {
   "cell_type": "code",
   "execution_count": null,
   "metadata": {
    "collapsed": true
   },
   "outputs": [],
   "source": [
    "nsamp = nullSamples.extract(permuted=True)"
   ]
  },
  {
   "cell_type": "code",
   "execution_count": null,
   "metadata": {},
   "outputs": [],
   "source": [
    "ncol = 2\n",
    "nrow = int(1.*(dm.shape[1]-1)/ncol) + 1\n",
    "\n",
    "plt.figure(figsize=(4*ncol, 4*nrow))\n",
    "\n",
    "for i in range(2):\n",
    "    \n",
    "    plt.subplot(dm.shape[1]/ncol + 1, ncol, i + 1)\n",
    "    \n",
    "    plt.plot(x, nsamp['f'][:,i,:].mean(0),)\n",
    "    #plt.plot(x, tsamp['f'][:,i,:].T,c='k', alpha=.2)\n",
    "    plt.fill_between(x[:,0], \n",
    "                     nsamp['f'][:,i,:].mean(0)-2*nsamp['f'][:,i,:].std(0),\n",
    "                     nsamp['f'][:,i,:].mean(0)+2*nsamp['f'][:,i,:].std(0),alpha=.1)\n",
    "    plt.plot([x.min(), x.max()], [0, 0], lw=3, c='k')\n",
    "    \n",
    "    if i > 1:\n",
    "        plt.ylim(-.48, .48)\n",
    "    \n",
    "    #plt.plot(x[train_ind],f[i,train_ind].T,'--')"
   ]
  },
  {
   "cell_type": "code",
   "execution_count": null,
   "metadata": {},
   "outputs": [],
   "source": [
    "for i in range(2):\n",
    "\n",
    "    temp = nsamp['alpha'][:,i]\n",
    "\n",
    "    z = np.linspace(temp.min()*.7, temp.max()*1.3)\n",
    "    kde = scipy.stats.gaussian_kde(temp)\n",
    "\n",
    "\n",
    "    plt.plot(z, kde(z), label='alpha %d'%i)\n",
    "\n",
    "plt.semilogx()    \n",
    "plt.legend()"
   ]
  },
  {
   "cell_type": "code",
   "execution_count": null,
   "metadata": {},
   "outputs": [],
   "source": [
    "for i in range(2):\n",
    "\n",
    "    temp = nsamp['length_scale'][:,i]\n",
    "\n",
    "    z = np.linspace(temp.min(), temp.max())\n",
    "    kde = scipy.stats.gaussian_kde(temp)\n",
    "\n",
    "\n",
    "    plt.plot(z, kde(z), label='length_scale %d'%i)\n",
    "\n",
    "plt.semilogx()    \n",
    "plt.legend()"
   ]
  },
  {
   "cell_type": "code",
   "execution_count": null,
   "metadata": {},
   "outputs": [],
   "source": [
    "temp = ystd*2*tsamp['f'][:,1]\n",
    "\n",
    "# plt.plot(x, (2*temp).mean(0),)\n",
    "# plt.fill_between(x[:,0], \n",
    "#                  (2*temp).mean(0)-2*(2*temp).std(0),\n",
    "#                  (2*temp).mean(0)+2*(2*temp).std(0),alpha=.1)\n",
    "\n",
    "plt.plot(xraw, (temp).mean(0), label='$M_2$')\n",
    "plt.fill_between(xraw[:,0], \n",
    "                 (temp).mean(0)-2*(temp).std(0),\n",
    "                 (temp).mean(0)+2*(temp).std(0),alpha=.3)\n",
    "\n",
    "temp = ystd*2*nsamp['f'][:,1]\n",
    "\n",
    "plt.plot(xraw, temp.mean(0), label='$M_0$')\n",
    "plt.fill_between(xraw[:,0], \n",
    "                 temp.mean(0)-2*temp.std(0),\n",
    "                 temp.mean(0)+2*temp.std(0),alpha=.3)\n",
    "\n",
    "# plt.plot(xraw, ds.data.loc[:,ds.meta['mM PQ'] != '0.0'].mean(1) - ds.data.loc[:,ds.meta['mM PQ'] == '0.0'].mean(1));\n",
    "\n",
    "plt.plot([xraw.min(), xraw.max()], [0, 0], lw=3, c='k')\n",
    "\n",
    "plt.legend(fontsize=12)\n",
    "plt.xticks(fontsize=12)\n",
    "plt.yticks(fontsize=12)\n",
    "plt.ylabel('log(OD)', fontsize=16)\n",
    "plt.xlabel('time (h)', fontsize=16)\n",
    "\n",
    "plt.plot()\n",
    "\n",
    "plt.savefig('figures/ura3_0.083mM-PQ_f1_m02-stan.pdf', bbox_inches='tight')"
   ]
  },
  {
   "cell_type": "code",
   "execution_count": null,
   "metadata": {},
   "outputs": [],
   "source": [
    "plt.plot(ds.data.loc[:,ds.meta['mM PQ'] != '0.0'].mean(1) - ds.data.loc[:,ds.meta['mM PQ'] == '0.0'].mean(1));"
   ]
  },
  {
   "cell_type": "code",
   "execution_count": null,
   "metadata": {},
   "outputs": [],
   "source": [
    "temp = ystd*tsamp['f'][:,0]\n",
    "\n",
    "# plt.plot(x, (2*temp).mean(0),)\n",
    "# plt.fill_between(x[:,0], \n",
    "#                  (2*temp).mean(0)-2*(2*temp).std(0),\n",
    "#                  (2*temp).mean(0)+2*(2*temp).std(0),alpha=.1)\n",
    "\n",
    "plt.plot(xraw, (temp).mean(0), label='$M_2$')\n",
    "plt.fill_between(xraw[:,0], \n",
    "                 (temp).mean(0)-2*(temp).std(0),\n",
    "                 (temp).mean(0)+2*(temp).std(0),alpha=.3)\n",
    "\n",
    "temp = ystd*nsamp['f'][:,0]\n",
    "\n",
    "plt.plot(xraw, temp.mean(0), label='$M_0$')\n",
    "plt.fill_between(xraw[:,0], \n",
    "                 temp.mean(0)-2*temp.std(0),\n",
    "                 temp.mean(0)+2*temp.std(0),alpha=.3)\n",
    "\n",
    "plt.plot([xraw.min(), xraw.max()], [0, 0], lw=3, c='k')\n",
    "\n",
    "plt.legend(fontsize=12)\n",
    "plt.xticks(fontsize=12)\n",
    "plt.yticks(fontsize=12)\n",
    "plt.ylabel('log(OD)', fontsize=16)\n",
    "plt.xlabel('time (h)', fontsize=16)\n",
    "\n",
    "# plt.savefig('figures/ura3_0.083mM-PQ_f0_m02-stan.pdf', bbox_inches='tight')"
   ]
  }
 ],
 "metadata": {
  "kernelspec": {
   "display_name": "Python 2",
   "language": "python",
   "name": "python2"
  },
  "language_info": {
   "codemirror_mode": {
    "name": "ipython",
    "version": 2
   },
   "file_extension": ".py",
   "mimetype": "text/x-python",
   "name": "python",
   "nbconvert_exporter": "python",
   "pygments_lexer": "ipython2",
   "version": "2.7.6"
  }
 },
 "nbformat": 4,
 "nbformat_minor": 2
}