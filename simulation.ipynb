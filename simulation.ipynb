{
 "cells": [
  {
   "cell_type": "code",
   "execution_count": null,
   "metadata": {
    "collapsed": false
   },
   "outputs": [],
   "source": [
    "%pylab"
   ]
  },
  {
   "cell_type": "code",
   "execution_count": null,
   "metadata": {
    "collapsed": true
   },
   "outputs": [],
   "source": [
    "%matplotlib inline"
   ]
  },
  {
   "cell_type": "code",
   "execution_count": null,
   "metadata": {
    "collapsed": true
   },
   "outputs": [],
   "source": [
    "import factory, simulate, scipy, re, os, GPy\n",
    "import pandas as pd"
   ]
  },
  {
   "cell_type": "code",
   "execution_count": null,
   "metadata": {
    "collapsed": false
   },
   "outputs": [],
   "source": [
    "reload(factory)\n",
    "reload(simulate)"
   ]
  },
  {
   "cell_type": "code",
   "execution_count": null,
   "metadata": {
    "collapsed": true
   },
   "outputs": [],
   "source": [
    "from GPy.core import Mapping, Param\n",
    "from paramz.transformations import Logexp\n",
    "import paramz.transformations"
   ]
  },
  {
   "cell_type": "code",
   "execution_count": null,
   "metadata": {
    "collapsed": false
   },
   "outputs": [],
   "source": [
    "sim = simulate.Simulation(batchVariance=.1,repVariance=0.05,nobs=10)\n",
    "sim"
   ]
  },
  {
   "cell_type": "code",
   "execution_count": null,
   "metadata": {
    "collapsed": false
   },
   "outputs": [],
   "source": [
    "sim.generateSamples()"
   ]
  },
  {
   "cell_type": "code",
   "execution_count": null,
   "metadata": {
    "collapsed": false,
    "scrolled": false
   },
   "outputs": [],
   "source": [
    "for ds in sim.datasets:\n",
    "    sim.plotSamples(ds)"
   ]
  },
  {
   "cell_type": "code",
   "execution_count": null,
   "metadata": {
    "collapsed": false,
    "scrolled": false
   },
   "outputs": [],
   "source": [
    "for ds in sim.datasets:\n",
    "\n",
    "    y0, y1, y2, y3 = sim.splitSample(ds['sample'])\n",
    "\n",
    "    f = (sim.f-ds['mean'])/ds['std']\n",
    "\n",
    "    gp, trained = sim.m3.batchTrain(y3,10)\n",
    "    \n",
    "    print sum([gp.log_likelihood()<t.log_likelihood() for t in trained]) <= 1\n",
    "    \n",
    "    plt.figure()\n",
    "    plt.hist([t.log_likelihood() for t in trained])\n",
    "    \n",
    "    #gp.plot_f(fixed_inputs=[(1,-1), (2,-1)])\n",
    "    \n",
    "    plt.figure()\n",
    "    \n",
    "    mu, cov = gp.predict_noiseless(sim.xpred,kern=sim.m3.predictionKernel(gp.kern))\n",
    "    mu = mu[:,0]\n",
    "    std = np.sqrt(cov[:,0])\n",
    "\n",
    "    plt.plot(sim.xpred[:,0], mu)\n",
    "    plt.fill_between(sim.xpred[:,0], mu-2*std,mu+2*std, alpha=.4)"
   ]
  },
  {
   "cell_type": "code",
   "execution_count": null,
   "metadata": {
    "collapsed": false
   },
   "outputs": [],
   "source": [
    "sim.xpred"
   ]
  },
  {
   "cell_type": "code",
   "execution_count": null,
   "metadata": {
    "collapsed": false
   },
   "outputs": [],
   "source": [
    "sum([gp.log_likelihood()<t.log_likelihood() for t in trained]) <= 1"
   ]
  },
  {
   "cell_type": "code",
   "execution_count": null,
   "metadata": {
    "collapsed": false
   },
   "outputs": [],
   "source": [
    "plt.hist([t.log_likelihood() for t in trained])"
   ]
  },
  {
   "cell_type": "code",
   "execution_count": null,
   "metadata": {
    "collapsed": false
   },
   "outputs": [],
   "source": [
    "gp.plot_f(fixed_inputs=[(1,-1), (2,-1)])"
   ]
  },
  {
   "cell_type": "code",
   "execution_count": null,
   "metadata": {
    "collapsed": true
   },
   "outputs": [],
   "source": []
  },
  {
   "cell_type": "code",
   "execution_count": null,
   "metadata": {
    "collapsed": false
   },
   "outputs": [],
   "source": [
    "g = gompertz.Gompertz(1,.3,1)\n",
    "g"
   ]
  },
  {
   "cell_type": "code",
   "execution_count": null,
   "metadata": {
    "collapsed": false
   },
   "outputs": [],
   "source": [
    "x = np.linspace(0,2)[:,None]\n",
    "y = g.f(x) + scipy.stats.norm.rvs(scale=.05,size=50)[:,None]\n",
    "\n",
    "\n",
    "plt.plot(g.f(x))\n",
    "plt.plot(y);"
   ]
  },
  {
   "cell_type": "code",
   "execution_count": null,
   "metadata": {
    "collapsed": false
   },
   "outputs": [],
   "source": [
    "g.A.gradient"
   ]
  },
  {
   "cell_type": "code",
   "execution_count": null,
   "metadata": {
    "collapsed": false,
    "scrolled": true
   },
   "outputs": [],
   "source": [
    "g = gompertz.Gompertz(1,.3,1)\n",
    "\n",
    "temp = GPy.models.GPRegression(x,y, mean_function=g.copy())\n",
    "temp.randomize()\n",
    "temp.optimize()\n",
    "temp"
   ]
  },
  {
   "cell_type": "code",
   "execution_count": null,
   "metadata": {
    "collapsed": false
   },
   "outputs": [],
   "source": [
    "plt.plot(g.f(x))\n",
    "plt.plot(temp.gompertz.f(x))\n",
    "plt.plot(y)"
   ]
  },
  {
   "cell_type": "code",
   "execution_count": null,
   "metadata": {
    "collapsed": false
   },
   "outputs": [],
   "source": [
    "temp.gompertz.param_array"
   ]
  },
  {
   "cell_type": "code",
   "execution_count": null,
   "metadata": {
    "collapsed": false
   },
   "outputs": [],
   "source": [
    "import gompertz\n",
    "reload(gompertz)"
   ]
  },
  {
   "cell_type": "code",
   "execution_count": null,
   "metadata": {
    "collapsed": false
   },
   "outputs": [],
   "source": [
    "import gompertz\n",
    "reload(gompertz)\n",
    "\n",
    "plt.plot(g.f(x))\n",
    "plt.plot(y)\n",
    "\n",
    "params = []\n",
    "\n",
    "for i in range(20):\n",
    "    temp = GPy.models.GPRegression(x,y, mean_function=gompertz.Gompertz(1,1,1))\n",
    "    temp.randomize()\n",
    "    temp.optimize()\n",
    "    \n",
    "    plt.plot(temp.gompertz.f(x))\n",
    "    \n",
    "    params.append(temp.gompertz.param_array)"
   ]
  },
  {
   "cell_type": "code",
   "execution_count": null,
   "metadata": {
    "collapsed": false
   },
   "outputs": [],
   "source": [
    "plt.boxplot(np.array(params));\n",
    "plt.plot(range(1,4), g.param_array)"
   ]
  },
  {
   "cell_type": "code",
   "execution_count": null,
   "metadata": {
    "collapsed": false
   },
   "outputs": [],
   "source": [
    "dist = np.sum((np.array(params)-g.param_array)**2,1)\n",
    "\n",
    "params[np.where(dist==dist.min())[0][0]]\n",
    "# np.where(dist==dist.min())[0]"
   ]
  },
  {
   "cell_type": "code",
   "execution_count": null,
   "metadata": {
    "collapsed": false
   },
   "outputs": [],
   "source": [
    "g"
   ]
  },
  {
   "cell_type": "code",
   "execution_count": null,
   "metadata": {
    "collapsed": true
   },
   "outputs": [],
   "source": [
    "temp2 = GPy.models.GPRegression(sim.x0, sim.m0.reshape(sim.splitSample(sim.datasets[0])[0]))"
   ]
  },
  {
   "cell_type": "code",
   "execution_count": null,
   "metadata": {
    "collapsed": false
   },
   "outputs": [],
   "source": [
    "temp.plot_f()"
   ]
  },
  {
   "cell_type": "code",
   "execution_count": null,
   "metadata": {
    "collapsed": false
   },
   "outputs": [],
   "source": [
    "temp2.plot_f()"
   ]
  },
  {
   "cell_type": "code",
   "execution_count": null,
   "metadata": {
    "collapsed": false
   },
   "outputs": [],
   "source": [
    "g"
   ]
  },
  {
   "cell_type": "code",
   "execution_count": null,
   "metadata": {
    "collapsed": false
   },
   "outputs": [],
   "source": [
    "p = GPy.priors.Gamma(5,1000)"
   ]
  },
  {
   "cell_type": "code",
   "execution_count": null,
   "metadata": {
    "collapsed": false
   },
   "outputs": [],
   "source": [
    "p.plot()"
   ]
  },
  {
   "cell_type": "code",
   "execution_count": null,
   "metadata": {
    "collapsed": true
   },
   "outputs": [],
   "source": [
    "def addPriors(m):\n",
    "    m.kern.level0.variance.set_prior(GPy.priors.Gamma(5,1000))\n",
    "    m.kern.level1.variance.set_prior(GPy.priors.LogGaussian(5,1000))\n",
    "    \n",
    "    return m"
   ]
  },
  {
   "cell_type": "code",
   "execution_count": null,
   "metadata": {
    "collapsed": false
   },
   "outputs": [],
   "source": [
    "gp = GPy.models.GPRegression(sim.x0, sim.m0.reshape(sim.splitSample(sim.datasets[0])[1]), mean_function=gompertz.Gompertz(1,1,1))\n",
    "gp.randomize()\n",
    "gp"
   ]
  },
  {
   "cell_type": "code",
   "execution_count": null,
   "metadata": {
    "collapsed": false
   },
   "outputs": [],
   "source": [
    "gp.optimize()\n",
    "gp.plot_f()\n",
    "plt.plot(sim.x0[:15,0],sim.f[:15,])"
   ]
  },
  {
   "cell_type": "code",
   "execution_count": null,
   "metadata": {
    "collapsed": false
   },
   "outputs": [],
   "source": [
    "params = []\n",
    "\n",
    "plt.plot(sim.f[:15],c='k',lw=3)\n",
    "\n",
    "for i in range(20):\n",
    "    temp = GPy.models.GPRegression(sim.x0, sim.m0.reshape(sim.splitSample(sim.datasets[0])[0]), mean_function=gompertz.Gompertz(1,1,1))\n",
    "    temp.randomize()\n",
    "    temp.optimize()\n",
    "    \n",
    "    plt.plot(temp.gompertz.f(sim.x0[:15]))\n",
    "    \n",
    "    params.append(temp.gompertz.param_array)"
   ]
  },
  {
   "cell_type": "code",
   "execution_count": null,
   "metadata": {
    "collapsed": false
   },
   "outputs": [],
   "source": [
    "plt.boxplot(np.array(params));\n",
    "plt.plot(range(1,4), [2,.4,1])"
   ]
  },
  {
   "cell_type": "code",
   "execution_count": null,
   "metadata": {
    "collapsed": true
   },
   "outputs": [],
   "source": []
  },
  {
   "cell_type": "code",
   "execution_count": null,
   "metadata": {
    "collapsed": false
   },
   "outputs": [],
   "source": [
    "gp, trained = sim.m3.batchTrain(sim.splitSample(sim.datasets[0])[1], 5, callback=addPriors)"
   ]
  },
  {
   "cell_type": "code",
   "execution_count": null,
   "metadata": {
    "collapsed": false
   },
   "outputs": [],
   "source": [
    "gp"
   ]
  },
  {
   "cell_type": "code",
   "execution_count": null,
   "metadata": {
    "collapsed": false
   },
   "outputs": [],
   "source": [
    "gp.kern.level0.variance = 1e-10\n",
    "gp.kern.level1.variance = .04"
   ]
  },
  {
   "cell_type": "code",
   "execution_count": null,
   "metadata": {
    "collapsed": false
   },
   "outputs": [],
   "source": [
    "plt.imshow(gp.kern.K(gp.X))"
   ]
  },
  {
   "cell_type": "code",
   "execution_count": null,
   "metadata": {
    "collapsed": true
   },
   "outputs": [],
   "source": [
    "def extractParam(m, *args):\n",
    "    if len(args) == 0:\n",
    "        return m\n",
    "    else:\n",
    "        if args[0] in m.__dict__:\n",
    "            return extractParam(m.__dict__[args[0]], *args[1:])\n",
    "        else:\n",
    "            return np.nan"
   ]
  },
  {
   "cell_type": "code",
   "execution_count": null,
   "metadata": {
    "collapsed": false
   },
   "outputs": [],
   "source": [
    "p = extractParam(gp, *'kern.fdsafdsa.variance'.split(\".\"))"
   ]
  },
  {
   "cell_type": "code",
   "execution_count": null,
   "metadata": {
    "collapsed": false
   },
   "outputs": [],
   "source": [
    "type(p) == float"
   ]
  },
  {
   "cell_type": "code",
   "execution_count": null,
   "metadata": {
    "collapsed": true
   },
   "outputs": [],
   "source": []
  },
  {
   "cell_type": "code",
   "execution_count": null,
   "metadata": {
    "collapsed": false
   },
   "outputs": [],
   "source": [
    "p.values"
   ]
  },
  {
   "cell_type": "code",
   "execution_count": null,
   "metadata": {
    "collapsed": false
   },
   "outputs": [],
   "source": [
    "p"
   ]
  },
  {
   "cell_type": "code",
   "execution_count": null,
   "metadata": {
    "collapsed": true
   },
   "outputs": [],
   "source": []
  },
  {
   "cell_type": "code",
   "execution_count": null,
   "metadata": {
    "collapsed": false
   },
   "outputs": [],
   "source": [
    "[t.log_likelihood() for t in trained]"
   ]
  },
  {
   "cell_type": "code",
   "execution_count": null,
   "metadata": {
    "collapsed": false
   },
   "outputs": [],
   "source": [
    "gp.plot_f(fixed_inputs=[(1,-1), (2,-1)])"
   ]
  },
  {
   "cell_type": "code",
   "execution_count": null,
   "metadata": {
    "collapsed": false,
    "scrolled": false
   },
   "outputs": [],
   "source": [
    "[t.plot_f(fixed_inputs=[(1,-1), (2,-1)]) for t in trained]"
   ]
  },
  {
   "cell_type": "code",
   "execution_count": null,
   "metadata": {
    "collapsed": false,
    "scrolled": true
   },
   "outputs": [],
   "source": [
    "intervals = {}\n",
    "accuracy = {}\n",
    "\n",
    "for ds in sim.datasets:\n",
    "\n",
    "    plt.figure(figsize=(10,10))\n",
    "\n",
    "    models = {}\n",
    "    for i,y in enumerate(sim.splitSample(ds)):\n",
    "\n",
    "        ax = plt.subplot2grid((4,5),(i,0))\n",
    "        plt.plot(y);\n",
    "\n",
    "        for j, m in enumerate([sim.m0, sim.m1, sim.m2, sim.m3]):\n",
    "            ax = plt.subplot2grid((4,5),(i,1+j))\n",
    "\n",
    "            gp,_ = m.batchTrain(y)\n",
    "\n",
    "            models[(i,j)] = gp\n",
    "\n",
    "            mu, cov = gp.predict_noiseless(sim.xpred,kern=m.predictionKernel(gp.kern))\n",
    "            mu = mu[:,0]\n",
    "            std = np.sqrt(cov[:,0])\n",
    "\n",
    "            plt.plot(sim.xpred[:,0], mu)\n",
    "            plt.fill_between(sim.xpred[:,0], mu-2*std,mu+2*std, alpha=.4)\n",
    "            \n",
    "            if not (i,j) in intervals:\n",
    "                intervals[(i,j)] = 0\n",
    "                accuracy[(i,j)] = []\n",
    "                \n",
    "            if all((sim.f[:sim.nobs] > mu-thresh*std) & (sim.f[:sim.nobs] < mu+thresh*std)):\n",
    "                intervals[(i,j)] += 1\n",
    "            accuracy[(i,j)].append(1.*sum((sim.f[:sim.nobs] > mu-thresh*std) & (sim.f[:sim.nobs] < mu+thresh*std))/sim.nobs)\n",
    "\n",
    "            plt.plot(sim.x[:sim.nobs,0], sim.f[:sim.nobs],c='k')\n"
   ]
  },
  {
   "cell_type": "code",
   "execution_count": null,
   "metadata": {
    "collapsed": false
   },
   "outputs": [],
   "source": [
    "# pattern = 'simulation-([0-9]+)-([0-9]+)-([0-9]+)-([0-9.]+)-([0-9.]+)-([0-9.]+)-([a-zA-Z.0-9]+).csv'\n",
    "pattern = 'simulation-([0-9.]+-)*([a-zA-Z.0-9]+).csv'\n",
    "\n",
    "targets = os.listdir(\"results/\")\n",
    "targets = filter(lambda x: re.match(pattern,x), targets)\n",
    "targets = map(lambda x: re.match(pattern, x).groups()[-1], targets)\n",
    "\n",
    "targets = list(set(targets))\n",
    "targets.sort()\n",
    "targets"
   ]
  },
  {
   "cell_type": "code",
   "execution_count": null,
   "metadata": {
    "collapsed": false
   },
   "outputs": [],
   "source": [
    "pattern = 'simulation-([0-9]+)-([0-9]+)-([0-9]+)-([0-9.]+)-([0-9.]+)-([0-9.]+)-%s.csv'\n",
    "\n",
    "for target in targets:\n",
    "\n",
    "    files = os.listdir(\"results/\")\n",
    "    files = filter(lambda x: re.match(pattern%target,x), files)\n",
    "    \n",
    "    print target, files\n",
    "    print"
   ]
  },
  {
   "cell_type": "code",
   "execution_count": null,
   "metadata": {
    "collapsed": true
   },
   "outputs": [],
   "source": [
    "def findFiles(target, pattern='simulation-([0-9]+)-([0-9]+)-([0-9]+)-([0-9.]+)-([0-9.]+)-([0-9.]+)-%s.csv'):\n",
    "    files = os.listdir(\"results/\")\n",
    "    files = filter(lambda x: re.match(pattern%target,x), files)\n",
    "    return files"
   ]
  },
  {
   "cell_type": "code",
   "execution_count": null,
   "metadata": {
    "collapsed": true
   },
   "outputs": [],
   "source": [
    "def loadResults(target, files=None, pattern='simulation-([0-9]+)-([0-9]+)-([0-9]+)-([0-9.]+)-([0-9.]+)-([0-9.]+)-%s.csv'):\n",
    "    \n",
    "    if files is None:\n",
    "        files = findFiles(target, pattern)\n",
    "    \n",
    "    results = {}\n",
    "    for f in files:\n",
    "        nobs, nbatch, nrep, sigma, batchVariance, repVariance = re.match(pattern%target,f).groups()\n",
    "        results[(nobs, nbatch, nrep, sigma, batchVariance, repVariance)] = pd.read_csv('results/%s'%f, header=[0,1], index_col=None)\n",
    "        \n",
    "    return results"
   ]
  },
  {
   "cell_type": "code",
   "execution_count": null,
   "metadata": {
    "collapsed": true
   },
   "outputs": [],
   "source": [
    "def plotResult(res, target, title=False, prefix=None):\n",
    "    \n",
    "    if type(res) == dict:\n",
    "        for k,v in res.iteritems():\n",
    "            plt.figure(figsize=(10,4))\n",
    "            plotResult(v.values, target)\n",
    "            if title:\n",
    "                plt.suptitle(k,y=1.05)\n",
    "                \n",
    "            if not prefix is None:\n",
    "                plt.savefig(\"%s-%s-%s.pdf\"%(prefix, str(k),target), bbox_inches='tight')\n",
    "        \n",
    "        return\n",
    "\n",
    "    for i in range(4):\n",
    "\n",
    "        plt.subplot(1,4,i+1)\n",
    "        plt.title(\"M%d\"%i)\n",
    "\n",
    "        plt.boxplot(res[:,i*4:(i+1)*4],\n",
    "                       labels=['M%d'%i for i in  range(4)]);\n",
    "\n",
    "        if 'accuracy' in target:\n",
    "            plt.plot([1,4], [.95,.95])\n",
    "\n",
    "        plt.ylim(np.nanmin(res), np.nanmax(res))\n",
    "\n",
    "    plt.tight_layout()"
   ]
  },
  {
   "cell_type": "code",
   "execution_count": null,
   "metadata": {
    "collapsed": true
   },
   "outputs": [],
   "source": [
    "def plotBayesFactor(res, title=False):\n",
    "    \n",
    "    if type(res) == dict:\n",
    "        for k,v in res.iteritems():\n",
    "            plt.figure(figsize=(10,4))\n",
    "            plotBayesFactor(v.values)\n",
    "            if title:\n",
    "                plt.suptitle(k)\n",
    "        \n",
    "        return\n",
    "    \n",
    "    ylim = (np.inf, -np.inf)\n",
    "\n",
    "    for i in range(4):\n",
    "\n",
    "        plt.subplot(1,4,i+1)\n",
    "        plt.title(\"M%d\"%i)\n",
    "        \n",
    "        plt.boxplot(res[:,i*4:(i+1)*4] - res[:,i*4][:,None],\n",
    "                       labels=['M%d'%i for i in  range(4)]);\n",
    "\n",
    "#         plt.boxplot(res[:,i*4:(i+1)*4],\n",
    "#                        labels=['M%d'%i for i in  range(4)]);\n",
    "\n",
    "        if 'accuracy' in target:\n",
    "            plt.plot([1,4], [.95,.95])\n",
    "            \n",
    "        ylim = (min(ylim[0], np.nanmin(res[:,i*4:(i+1)*4] - res[:,i*4][:,None])), max(ylim[1], np.nanmax(res[:,i*4:(i+1)*4] - res[:,i*4][:,None])))\n",
    "\n",
    "    for i in range(4):\n",
    "\n",
    "        plt.subplot(1,4,i+1)\n",
    "        plt.ylim(ylim)\n",
    "\n",
    "    plt.tight_layout()"
   ]
  },
  {
   "cell_type": "code",
   "execution_count": null,
   "metadata": {
    "collapsed": false
   },
   "outputs": [],
   "source": [
    "res = loadResults('accuracy')\n",
    "plt.boxplot(res[res.keys()[0]].values);"
   ]
  },
  {
   "cell_type": "code",
   "execution_count": null,
   "metadata": {
    "collapsed": false
   },
   "outputs": [],
   "source": [
    "plt.hist(res[res.keys()[0]].values[:,-6])\n",
    "plt.hist(res[res.keys()[0]].values[:,-5])"
   ]
  },
  {
   "cell_type": "code",
   "execution_count": null,
   "metadata": {
    "collapsed": false
   },
   "outputs": [],
   "source": [
    "n = 20\n",
    "np.arange(n+1,dtype=float)/n"
   ]
  },
  {
   "cell_type": "code",
   "execution_count": null,
   "metadata": {
    "collapsed": false
   },
   "outputs": [],
   "source": [
    "for t in targets:\n",
    "    res = loadResults(t)\n",
    "    plotResult(res,t,title=True,prefix='figures/simulation')"
   ]
  },
  {
   "cell_type": "code",
   "execution_count": null,
   "metadata": {
    "collapsed": false
   },
   "outputs": [],
   "source": [
    "res = loadResults('likelihood')\n",
    "plotResult(res,title=True)"
   ]
  },
  {
   "cell_type": "code",
   "execution_count": null,
   "metadata": {
    "collapsed": false,
    "scrolled": true
   },
   "outputs": [],
   "source": [
    "plotBayesFactor(res, title=True)"
   ]
  },
  {
   "cell_type": "code",
   "execution_count": null,
   "metadata": {
    "collapsed": true
   },
   "outputs": [],
   "source": [
    "def plotLikelihoodRatio(res, title=False, prefix=None):\n",
    "    \n",
    "    if type(res) == dict:\n",
    "        for k,v in res.iteritems():\n",
    "            plt.figure(figsize=(16,4))\n",
    "            plotLikelihoodRatio(v.values)\n",
    "            if title:\n",
    "                plt.suptitle(k,y=1.05)\n",
    "                \n",
    "            if not prefix is None:\n",
    "                plt.savefig(\"%s-%s-likelihoodRatio.pdf\"%(prefix, str(k)), bbox_inches='tight')\n",
    "        \n",
    "        return\n",
    "    \n",
    "    ylim = (np.inf, -np.inf)\n",
    "\n",
    "    for i in range(4):\n",
    "\n",
    "        plt.subplot(1,4,i+1)\n",
    "        plt.title(\"M%d\"%i)\n",
    "        \n",
    "        #diff = 2*(res[:,[i*4+1, i*4+2, i*4+2, i*4+3, i*4+3]] - res[:,[i*4, i*4, i*4+1, i*4+1, i*4+2]])\n",
    "        diff = 2*(res[:,[i*4+1, i*4+2, i*4+2, i*4+3, i*4+3, i*4+3]] - res[:,[i*4, i*4, i*4+1, i*4+1, i*4+2, i*4]])\n",
    "        \n",
    "        plt.boxplot(diff, labels=['M1/M0', 'M2/M0', 'M2/M1', 'M3/M1', 'M3/M2', 'M3/M0']);\n",
    "        \n",
    "        plt.plot([.5,5.5], [scipy.stats.chi2.ppf(.95, 2)]*2)\n",
    "        plt.plot([5.5,6.5], [scipy.stats.chi2.ppf(.95, 4)]*2)\n",
    "            \n",
    "        ylim = (min(ylim[0], diff.min()), max(ylim[1], diff.max()))\n",
    "\n",
    "    for i in range(4):\n",
    "\n",
    "        plt.subplot(1,4,i+1)\n",
    "        plt.ylim(ylim)\n",
    "\n",
    "    plt.tight_layout()"
   ]
  },
  {
   "cell_type": "code",
   "execution_count": null,
   "metadata": {
    "collapsed": false,
    "scrolled": true
   },
   "outputs": [],
   "source": [
    "plotLikelihoodRatio(res, title=True, prefix='figures/simulation-')"
   ]
  },
  {
   "cell_type": "code",
   "execution_count": null,
   "metadata": {
    "collapsed": true
   },
   "outputs": [],
   "source": []
  },
  {
   "cell_type": "code",
   "execution_count": null,
   "metadata": {
    "collapsed": true
   },
   "outputs": [],
   "source": []
  },
  {
   "cell_type": "code",
   "execution_count": null,
   "metadata": {
    "collapsed": true
   },
   "outputs": [],
   "source": []
  },
  {
   "cell_type": "code",
   "execution_count": null,
   "metadata": {
    "collapsed": false
   },
   "outputs": [],
   "source": [
    "for target in targets:\n",
    "    res = loadResults(target)\n",
    "    \n",
    "    for k,v in res.iteritems():\n",
    "        plt.figure(figsize=(10,5))\n",
    "        plotResult(v.values, target)\n",
    "        \n",
    "        plt.savefig(\"figures/simulation-%s-%s.pdf\"%(','.join(k), target), bbox_inches='tight')"
   ]
  },
  {
   "cell_type": "code",
   "execution_count": null,
   "metadata": {
    "collapsed": false
   },
   "outputs": [],
   "source": [
    "pattern = 'simulation-([0-9]+)-([0-9]+)-([0-9]+)-([0-9.]+)-([0-9.]+)-([0-9.]+)-%s.csv'\n",
    "\n",
    "for target in targets:\n",
    "\n",
    "    files = os.listdir(\"results/\")\n",
    "    files = filter(lambda x: re.match(pattern%target,x), files)\n",
    "\n",
    "    results = {}\n",
    "    for f in files:\n",
    "        nobs, nbatch, nrep, sigma, batchVariance, repVariance = re.match(pattern%target,f).groups()\n",
    "        results[(nobs, nbatch, nrep, sigma, batchVariance, repVariance)] = pd.read_csv('results/%s'%f, header=[0,1], index_col=None)\n",
    "\n",
    "    for nobs, nbatch, nrep, sigma, batchVariance, repVariance in results.keys():\n",
    "\n",
    "        res = results[nobs, nbatch, nrep, sigma, batchVariance, repVariance].values\n",
    "\n",
    "        plt.figure(figsize=(10,5))\n",
    "\n",
    "        for i in range(4):\n",
    "            \n",
    "            ii = i\n",
    "            if ii == 1:\n",
    "                ii = 2\n",
    "            elif ii == 2:\n",
    "                ii = 1\n",
    "                \n",
    "            plt.subplot(1,4,ii+1)\n",
    "            plt.title(\"M%d\"%ii)\n",
    "            \n",
    "            plt.boxplot(res[:,i*4:(i+1)*4],\n",
    "                           labels=['M%d'%i for i in  range(4)]);\n",
    "            \n",
    "            if 'accuracy' in target:\n",
    "                plt.plot([1,4], [.95,.95])\n",
    "\n",
    "            plt.ylim(res.min().min(), res.max().max())\n",
    "\n",
    "        plt.tight_layout()\n",
    "        plt.savefig(\"figures/simulation-%s-%s.pdf\"%(','.join([nobs, nbatch, nrep, sigma, batchVariance, repVariance]), target), bbox_inches='tight')"
   ]
  },
  {
   "cell_type": "code",
   "execution_count": null,
   "metadata": {
    "collapsed": false
   },
   "outputs": [],
   "source": [
    "pattern = 'simulation-([0-9]+)-([0-9]+)-([0-9]+)-([0-9.]+)-([0-9.]+)-([0-9.]+)-%s.csv'\n",
    "\n",
    "target = 'likelihood'\n",
    "\n",
    "files = os.listdir(\"results/\")\n",
    "files = filter(lambda x: re.match(pattern%target,x), files)\n",
    "\n",
    "results = {}\n",
    "for f in files:\n",
    "    nobs, nbatch, nrep, sigma, batchVariance, repVariance = re.match(pattern%target,f).groups()\n",
    "    results[(nobs, nbatch, nrep, sigma, batchVariance, repVariance)] = pd.read_csv('results/%s'%f, header=[0,1], index_col=None)\n",
    "\n",
    "for nobs, nbatch, nrep, sigma, batchVariance, repVariance in results.keys():\n",
    "\n",
    "    res = results[nobs, nbatch, nrep, sigma, batchVariance, repVariance].values\n",
    "\n",
    "    plt.figure(figsize=(10,5))\n",
    "\n",
    "    for i in range(4):\n",
    "\n",
    "        ii = i\n",
    "        if ii == 1:\n",
    "            ii = 2\n",
    "        elif ii == 2:\n",
    "            ii = 1\n",
    "            \n",
    "        plt.subplot(1,4,ii+1)\n",
    "        plt.title(\"M%d\"%ii)\n",
    "\n",
    "        plt.boxplot(res[:,i*4:(i+1)*4] - res[:,i*4][:,None],\n",
    "                       labels=['M%d'%i for i in  range(4)]);\n",
    "\n",
    "        plt.ylim(-10, 190)\n",
    "\n",
    "    plt.tight_layout()\n",
    "    plt.savefig(\"figures/simulation-%s-bayesFactor.pdf\"%(','.join([nobs, nbatch, nrep, sigma, batchVariance, repVariance])), bbox_inches='tight')"
   ]
  },
  {
   "cell_type": "code",
   "execution_count": null,
   "metadata": {
    "collapsed": false
   },
   "outputs": [],
   "source": [
    "# target='kern.level0.variance'\n",
    "target='likelihood.variance'\n",
    "\n",
    "files = os.listdir(\"results/\")\n",
    "files = filter(lambda x: re.match(pattern%target,x), files)\n",
    "\n",
    "results = {}\n",
    "for f in files:\n",
    "    nobs, nbatch, nrep, sigma, batchVariance, repVariance = re.match(pattern%target,f).groups()\n",
    "    \n",
    "    results[(nobs, nbatch, nrep, sigma, batchVariance, repVariance)] = pd.read_csv('results/%s'%f, header=[0,1], index_col=None)\n",
    "    \n",
    "    \n",
    "for nobs, nbatch, nrep, sigma, batchVariance, repVariance in results.keys():\n",
    "    \n",
    "    acc = results[nobs, nbatch, nrep, sigma, batchVariance, repVariance].values\n",
    "    \n",
    "    plt.figure(figsize=(10,5))\n",
    "    \n",
    "    for i in range(4):\n",
    "        plt.subplot(1,4,i+1)\n",
    "        plt.title(\"M%d\"%i)\n",
    "        plt.boxplot(results[nobs, nbatch, nrep, sigma, batchVariance, repVariance].values[:,i*4:(i+1)*4],\n",
    "                       labels=['M%d'%i for i in  range(4)]);\n",
    "        \n",
    "        #if 'level0.variance' in target:\n",
    "        #    plt.plot([1,4],[repVariance, repVariance])\n",
    "        \n",
    "        plt.ylim(results[nobs, nbatch, nrep, sigma, batchVariance, repVariance].min().min(), results[nobs, nbatch, nrep, sigma, batchVariance, repVariance].max().max())\n",
    "        \n",
    "    plt.tight_layout()\n",
    "    plt.savefig(\"figures/simulation-%s-%s.pdf\"%(','.join([nobs, nbatch, nrep, sigma, batchVariance, repVariance]), target), bbox_inches='tight')"
   ]
  },
  {
   "cell_type": "code",
   "execution_count": null,
   "metadata": {
    "collapsed": false
   },
   "outputs": [],
   "source": [
    "for nobs, nbatch, nrep, sigma, batchVariance, repVariance in accuracy.keys():\n",
    "    \n",
    "    acc = accuracy[nobs, nbatch, nrep, sigma, batchVariance, repVariance].values\n",
    "    \n",
    "    plt.figure(figsize=(10,5))\n",
    "    \n",
    "    for i in range(4):\n",
    "        plt.subplot(1,4,i+1)\n",
    "        plt.title(\"M%d\"%i)\n",
    "        plt.boxplot(accuracy[nobs, nbatch, nrep, sigma, batchVariance, repVariance].values[:,i*4:(i+1)*4],\n",
    "                       labels=['M%d'%i for i in  range(4)]);\n",
    "        \n",
    "        plt.ylim(-.1,1.1)\n",
    "        \n",
    "    plt.tight_layout()\n",
    "    plt.savefig(\"figures/simulation-%s-accuracy.pdf\"%','.join([nobs, nbatch, nrep, sigma, batchVariance, repVariance]), bbox_inches='tight')"
   ]
  },
  {
   "cell_type": "code",
   "execution_count": null,
   "metadata": {
    "collapsed": false
   },
   "outputs": [],
   "source": [
    "files = os.listdir(\"results/\")\n",
    "files = filter(lambda x: re.match(pattern%'accuracy',x), files)\n",
    "files"
   ]
  },
  {
   "cell_type": "code",
   "execution_count": null,
   "metadata": {
    "collapsed": true
   },
   "outputs": [],
   "source": [
    "accuracy = {}\n",
    "for f in files:\n",
    "    nobs, nbatch, nrep, sigma, batchVariance, repVariance = re.match(pattern%'accuracy',f).groups()\n",
    "    \n",
    "    accuracy[(nobs, nbatch, nrep, sigma, batchVariance, repVariance)] = pd.read_csv('results/%s'%f, header=[0,1], index_col=None)"
   ]
  },
  {
   "cell_type": "code",
   "execution_count": null,
   "metadata": {
    "collapsed": false
   },
   "outputs": [],
   "source": [
    "for nobs, nbatch, nrep, sigma, batchVariance, repVariance in accuracy.keys():\n",
    "    \n",
    "    acc = accuracy[nobs, nbatch, nrep, sigma, batchVariance, repVariance].values\n",
    "    \n",
    "    plt.figure(figsize=(10,5))\n",
    "    \n",
    "    for i in range(4):\n",
    "        plt.subplot(1,4,i+1)\n",
    "        plt.title(\"M%d\"%i)\n",
    "        plt.boxplot(accuracy[nobs, nbatch, nrep, sigma, batchVariance, repVariance].values[:,i*4:(i+1)*4],\n",
    "                       labels=['M%d'%i for i in  range(4)]);\n",
    "        \n",
    "        plt.ylim(-.1,1.1)\n",
    "        \n",
    "    plt.tight_layout()\n",
    "    plt.savefig(\"figures/simulation-%s-accuracy.pdf\"%','.join([nobs, nbatch, nrep, sigma, batchVariance, repVariance]), bbox_inches='tight')"
   ]
  },
  {
   "cell_type": "code",
   "execution_count": null,
   "metadata": {
    "collapsed": false
   },
   "outputs": [],
   "source": [
    "files = os.listdir(\"results/\")\n",
    "files = filter(lambda x: re.match(pattern%'likelihood',x), files)\n",
    "files"
   ]
  },
  {
   "cell_type": "code",
   "execution_count": null,
   "metadata": {
    "collapsed": false
   },
   "outputs": [],
   "source": [
    "accuracy = {}\n",
    "for f in files:\n",
    "    nobs, nbatch, nrep, sigma, batchVariance, repVariance = re.match(pattern%'likelihood',f).groups()\n",
    "    \n",
    "    accuracy[(nobs, nbatch, nrep, sigma, batchVariance, repVariance)] = pd.read_csv('results/%s'%f, header=[0,1], index_col=None)"
   ]
  },
  {
   "cell_type": "code",
   "execution_count": null,
   "metadata": {
    "collapsed": false
   },
   "outputs": [],
   "source": [
    "for nobs, nbatch, nrep, sigma, batchVariance, repVariance in accuracy.keys():\n",
    "    plt.figure()\n",
    "    plt.suptitle(str((nobs, nbatch, nrep, sigma, batchVariance, repVariance)), y=1.05)\n",
    "    \n",
    "    for i in range(4):\n",
    "        plt.subplot(1,4,i+1)\n",
    "        plt.boxplot(accuracy[nobs, nbatch, nrep, sigma, batchVariance, repVariance].values[:,i*4:(i+1)*4]);\n",
    "        \n",
    "    plt.tight_layout()"
   ]
  },
  {
   "cell_type": "code",
   "execution_count": null,
   "metadata": {
    "collapsed": false
   },
   "outputs": [],
   "source": [
    "accuracy.keys()"
   ]
  },
  {
   "cell_type": "code",
   "execution_count": null,
   "metadata": {
    "collapsed": true
   },
   "outputs": [],
   "source": [
    "for k in intervals.keys():\n",
    "    intervals[k] = 1.*intervals[k]/len(sim.datasets)"
   ]
  },
  {
   "cell_type": "code",
   "execution_count": null,
   "metadata": {
    "collapsed": false
   },
   "outputs": [],
   "source": [
    "intervals"
   ]
  },
  {
   "cell_type": "code",
   "execution_count": null,
   "metadata": {
    "collapsed": true
   },
   "outputs": [],
   "source": [
    "import pandas as pd"
   ]
  },
  {
   "cell_type": "code",
   "execution_count": null,
   "metadata": {
    "collapsed": false
   },
   "outputs": [],
   "source": [
    "pd.DataFrame(accuracy)"
   ]
  },
  {
   "cell_type": "code",
   "execution_count": null,
   "metadata": {
    "collapsed": true
   },
   "outputs": [],
   "source": []
  },
  {
   "cell_type": "code",
   "execution_count": null,
   "metadata": {
    "collapsed": false
   },
   "outputs": [],
   "source": [
    "m = sim.m3\n",
    "gp = models[(3,3)]"
   ]
  },
  {
   "cell_type": "code",
   "execution_count": null,
   "metadata": {
    "collapsed": false
   },
   "outputs": [],
   "source": [
    "alpha = .05\n",
    "thresh = scipy.stats.norm.ppf((1-alpha/2))\n",
    "thresh"
   ]
  },
  {
   "cell_type": "code",
   "execution_count": null,
   "metadata": {
    "collapsed": true
   },
   "outputs": [],
   "source": [
    "mu, cov = gp.predict_noiseless(sim.xpred,kern=m.predictionKernel(gp.kern), full_cov=False)\n",
    "mu = mu[:,0]\n",
    "std = np.sqrt(cov[:,0])"
   ]
  },
  {
   "cell_type": "code",
   "execution_count": null,
   "metadata": {
    "collapsed": false
   },
   "outputs": [],
   "source": []
  },
  {
   "cell_type": "code",
   "execution_count": null,
   "metadata": {
    "collapsed": false
   },
   "outputs": [],
   "source": [
    "mu, cov = gp.predict_noiseless(sim.xpred,kern=m.predictionKernel(gp.kern), full_cov=True)"
   ]
  },
  {
   "cell_type": "code",
   "execution_count": null,
   "metadata": {
    "collapsed": false
   },
   "outputs": [],
   "source": [
    "std = np.sqrt(cov.diagonal())\n",
    "\n",
    "plt.plot(sim.xpred[:,0], mu[:,0])\n",
    "plt.fill_between(sim.xpred[:,0], mu[:,0]-thresh*std,mu[:,0]+thresh*std, alpha=.4)\n",
    "plt.plot(sim.x[:sim.nobs,0], sim.f[:sim.nobs], c='k')"
   ]
  },
  {
   "cell_type": "code",
   "execution_count": null,
   "metadata": {
    "collapsed": true
   },
   "outputs": [],
   "source": []
  },
  {
   "cell_type": "code",
   "execution_count": null,
   "metadata": {
    "collapsed": false
   },
   "outputs": [],
   "source": [
    "plt.imshow(cov+1e-3*cov.mean()*np.eye(15))"
   ]
  },
  {
   "cell_type": "code",
   "execution_count": null,
   "metadata": {
    "collapsed": true
   },
   "outputs": [],
   "source": [
    "diff = mu[:,0]-sim.f[:sim.nobs]"
   ]
  },
  {
   "cell_type": "code",
   "execution_count": null,
   "metadata": {
    "collapsed": false
   },
   "outputs": [],
   "source": [
    "plt.plot(diff)"
   ]
  },
  {
   "cell_type": "code",
   "execution_count": null,
   "metadata": {
    "collapsed": false
   },
   "outputs": [],
   "source": [
    "np.dot(diff, np.dot(np.linalg.inv(cov+1e-6*cov.mean()*np.eye(15)), diff))"
   ]
  },
  {
   "cell_type": "code",
   "execution_count": null,
   "metadata": {
    "collapsed": false
   },
   "outputs": [],
   "source": [
    "scipy.stats.chi2.ppf(.95, 15)"
   ]
  },
  {
   "cell_type": "code",
   "execution_count": null,
   "metadata": {
    "collapsed": false
   },
   "outputs": [],
   "source": [
    "scipy.stats.multivariate_normal.logpdf(sim.f[:sim.nobs], mu[:,0], cov)"
   ]
  },
  {
   "cell_type": "code",
   "execution_count": null,
   "metadata": {
    "collapsed": false
   },
   "outputs": [],
   "source": [
    "y0, y2 , y1, y3 = sim.splitSample(sim.datasets[0])"
   ]
  },
  {
   "cell_type": "code",
   "execution_count": null,
   "metadata": {
    "collapsed": false
   },
   "outputs": [],
   "source": [
    "gp = sim.m1.train(y1)"
   ]
  },
  {
   "cell_type": "code",
   "execution_count": null,
   "metadata": {
    "collapsed": false
   },
   "outputs": [],
   "source": [
    "gp"
   ]
  },
  {
   "cell_type": "code",
   "execution_count": null,
   "metadata": {
    "collapsed": true
   },
   "outputs": [],
   "source": []
  },
  {
   "cell_type": "code",
   "execution_count": null,
   "metadata": {
    "collapsed": false
   },
   "outputs": [],
   "source": [
    "gp.plot_f(fixed_inputs=[(1,-1)])\n",
    "plt.plot(sim.x[:sim.nobs,0], sim.f[:sim.nobs])"
   ]
  },
  {
   "cell_type": "code",
   "execution_count": null,
   "metadata": {
    "collapsed": false
   },
   "outputs": [],
   "source": [
    "y0.shape, sim.x.shape"
   ]
  },
  {
   "cell_type": "code",
   "execution_count": null,
   "metadata": {
    "collapsed": false
   },
   "outputs": [],
   "source": [
    "simulate.generateSample(sim.f, sim.sampleCov, sim.sigma, sim.nobs)"
   ]
  },
  {
   "cell_type": "code",
   "execution_count": null,
   "metadata": {
    "collapsed": false
   },
   "outputs": [],
   "source": [
    "plt.plot(sim.f)"
   ]
  },
  {
   "cell_type": "code",
   "execution_count": null,
   "metadata": {
    "collapsed": true
   },
   "outputs": [],
   "source": []
  }
 ],
 "metadata": {
  "kernelspec": {
   "display_name": "Python 2",
   "language": "python",
   "name": "python2"
  },
  "language_info": {
   "codemirror_mode": {
    "name": "ipython",
    "version": 2
   },
   "file_extension": ".py",
   "mimetype": "text/x-python",
   "name": "python",
   "nbconvert_exporter": "python",
   "pygments_lexer": "ipython2",
   "version": "2.7.6"
  }
 },
 "nbformat": 4,
 "nbformat_minor": 1
}