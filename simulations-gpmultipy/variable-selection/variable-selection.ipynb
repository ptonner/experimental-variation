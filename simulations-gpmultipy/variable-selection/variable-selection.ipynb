{
 "cells": [
  {
   "cell_type": "code",
   "execution_count": null,
   "metadata": {
    "collapsed": false
   },
   "outputs": [],
   "source": [
    "%pylab\n",
    "%matplotlib inline"
   ]
  },
  {
   "cell_type": "code",
   "execution_count": null,
   "metadata": {
    "collapsed": false
   },
   "outputs": [],
   "source": [
    "import gpmultipy\n",
    "import scipy\n",
    "import pandas as pd"
   ]
  },
  {
   "cell_type": "code",
   "execution_count": null,
   "metadata": {
    "collapsed": false
   },
   "outputs": [],
   "source": [
    "x = np.linspace(-1,1)[:,None]\n",
    "\n",
    "yKernel = gpmultipy.kernel.White(1,1)\n",
    "k = gpmultipy.kernel.RBF(1,.1,.5)\n",
    "\n",
    "p = 10\n",
    "beta = np.zeros((50,1))\n",
    "beta[:,0] = scipy.stats.multivariate_normal.rvs(np.zeros(50),k.K(x))\n",
    "\n",
    "dm = np.ones((1,p))\n",
    "# dm[0,1.*p/2:] = -1\n",
    "\n",
    "y = np.dot(beta,dm) + scipy.stats.multivariate_normal.rvs(np.zeros(50),yKernel.K(x),size=p).reshape((50,p))\n",
    "\n",
    "model = gpmultipy.model.Model(x,y,dm)"
   ]
  },
  {
   "cell_type": "code",
   "execution_count": null,
   "metadata": {
    "collapsed": false
   },
   "outputs": [],
   "source": [
    "plt.plot(x,y,c='k',alpha=.4);\n",
    "plt.plot(x,y.mean(1),c='r',lw=3)\n",
    "plt.plot(x,beta,c='b',lw=3)"
   ]
  },
  {
   "cell_type": "code",
   "execution_count": null,
   "metadata": {
    "collapsed": false
   },
   "outputs": [],
   "source": [
    "plt.plot(x,beta)"
   ]
  },
  {
   "cell_type": "code",
   "execution_count": null,
   "metadata": {
    "collapsed": false
   },
   "outputs": [],
   "source": [
    "prior = gpmultipy.prior.VariableSelection(x,k,[0],theta=.1)\n",
    "prior.sample(model,yKernel)"
   ]
  },
  {
   "cell_type": "code",
   "execution_count": null,
   "metadata": {
    "collapsed": false
   },
   "outputs": [],
   "source": [
    "prior.inclusionLikelihood(model,yKernel,0)"
   ]
  },
  {
   "cell_type": "code",
   "execution_count": null,
   "metadata": {
    "collapsed": true
   },
   "outputs": [],
   "source": [
    "ySigmaPrior = gpmultipy.sampler.Slice('ysigma',\n",
    "                                      lambda x: model.dataLikelihood(yKernel),\n",
    "                                      #lambda x: scipy.stats.uniform(loc=1e-4,scale=1e1).logpdf(x),\n",
    "                                      lambda x: scipy.stats.lognorm(s=1e-0,scale=1e0).logpdf(x),\n",
    "                                      .2,5,logspace=True)"
   ]
  },
  {
   "cell_type": "code",
   "execution_count": null,
   "metadata": {
    "collapsed": false
   },
   "outputs": [],
   "source": [
    "freeze = gpmultipy.Freezer(model=model,prior=prior,yKernel=yKernel)"
   ]
  },
  {
   "cell_type": "code",
   "execution_count": null,
   "metadata": {
    "collapsed": false
   },
   "outputs": [],
   "source": [
    "nsample = 2000\n",
    "samples = []\n",
    "pis = []\n",
    "for i in range(nsample):\n",
    "    \n",
    "    pi = prior.inclusionLikelihood(model,yKernel,0)\n",
    "    pis.append(pi)\n",
    "    \n",
    "    prior.toggle[0] = scipy.stats.bernoulli(pi).rvs()\n",
    "    \n",
    "    if prior.toggle[0]:\n",
    "        prior.sample(model,yKernel,)\n",
    "    else:\n",
    "        model.beta[:,0] = 0\n",
    "        \n",
    "    yKernel.sigma = ySigmaPrior.sample(yKernel.sigma)\n",
    "        \n",
    "    if i % 10 == 0:\n",
    "        samples.append(freeze.freeze())"
   ]
  },
  {
   "cell_type": "code",
   "execution_count": null,
   "metadata": {
    "collapsed": true
   },
   "outputs": [],
   "source": [
    "betaSamples = gpmultipy.ArraySamples(0,[s for s in samples if s['prior']['toggle'][0]],'model','beta')\n",
    "betaInterval = gpmultipy.interval.FunctionInterval(betaSamples,.98)\n",
    "\n",
    "toggle = gpmultipy.samples.LambdaSamples(lambda x: x[0],samples,'prior','toggle')\n",
    "ysigma = gpmultipy.samples.Samples(samples,'yKernel','sigma')"
   ]
  },
  {
   "cell_type": "code",
   "execution_count": null,
   "metadata": {
    "collapsed": false
   },
   "outputs": [],
   "source": [
    "betaInterval.plot()\n",
    "plt.plot(beta,c='r')\n",
    "plt.plot(y.mean(1),c='k',alpha=1)"
   ]
  },
  {
   "cell_type": "code",
   "execution_count": null,
   "metadata": {
    "collapsed": false
   },
   "outputs": [],
   "source": [
    "betaInterval.contains(beta[:,0])"
   ]
  },
  {
   "cell_type": "code",
   "execution_count": null,
   "metadata": {
    "collapsed": false
   },
   "outputs": [],
   "source": [
    "plt.hist([s['prior']['toggle'][0] for s in samples]);"
   ]
  },
  {
   "cell_type": "code",
   "execution_count": null,
   "metadata": {
    "collapsed": false
   },
   "outputs": [],
   "source": [
    "sum([s['prior']['toggle'][0] for s in samples])*1./len(samples)"
   ]
  },
  {
   "cell_type": "code",
   "execution_count": null,
   "metadata": {
    "collapsed": false
   },
   "outputs": [],
   "source": [
    "# plt.plot([s['yKernel']['sigma'] for s in samples]);\n",
    "plt.plot(ysigma.samples);\n",
    "plt.semilogy();"
   ]
  },
  {
   "cell_type": "code",
   "execution_count": null,
   "metadata": {
    "collapsed": false
   },
   "outputs": [],
   "source": [
    "plt.plot(pis)\n",
    "plt.ylim(-.1,1.1);"
   ]
  },
  {
   "cell_type": "code",
   "execution_count": null,
   "metadata": {
    "collapsed": false
   },
   "outputs": [],
   "source": [
    "plt.plot(toggle.samples)\n",
    "plt.ylim(-.1,1.1)"
   ]
  },
  {
   "cell_type": "code",
   "execution_count": null,
   "metadata": {
    "collapsed": false
   },
   "outputs": [],
   "source": [
    "plt.hist(pis,20);"
   ]
  },
  {
   "cell_type": "code",
   "execution_count": null,
   "metadata": {
    "collapsed": false
   },
   "outputs": [],
   "source": [
    "plt.scatter(ysigma.samples,pis[::10]);\n",
    "plt.semilogx();\n",
    "plt.xlim(7e-3,2e1)\n",
    "plt.ylim(-.1,1.1);"
   ]
  },
  {
   "cell_type": "code",
   "execution_count": null,
   "metadata": {
    "collapsed": false
   },
   "outputs": [],
   "source": [
    "plt.scatter(ysigma.samples,toggle.samples);\n",
    "plt.semilogx();\n",
    "plt.xlim(7e-3,2e1)\n",
    "plt.ylim(-.1,1.1);"
   ]
  },
  {
   "cell_type": "code",
   "execution_count": null,
   "metadata": {
    "collapsed": false
   },
   "outputs": [],
   "source": [
    "plt.scatter(pis[::10],toggle.samples)"
   ]
  },
  {
   "cell_type": "code",
   "execution_count": null,
   "metadata": {
    "collapsed": true
   },
   "outputs": [],
   "source": []
  },
  {
   "cell_type": "code",
   "execution_count": null,
   "metadata": {
    "collapsed": true
   },
   "outputs": [],
   "source": []
  },
  {
   "cell_type": "code",
   "execution_count": null,
   "metadata": {
    "collapsed": true
   },
   "outputs": [],
   "source": []
  },
  {
   "cell_type": "code",
   "execution_count": null,
   "metadata": {
    "collapsed": true
   },
   "outputs": [],
   "source": []
  },
  {
   "cell_type": "code",
   "execution_count": null,
   "metadata": {
    "collapsed": true
   },
   "outputs": [],
   "source": []
  },
  {
   "cell_type": "code",
   "execution_count": null,
   "metadata": {
    "collapsed": false
   },
   "outputs": [],
   "source": [
    "x = np.linspace(-1,1)[:,None]\n",
    "samplesizes = [5,10,15,20,25]\n",
    "\n",
    "yKernel = gpmultipy.kernel.White(1,1)\n",
    "k = gpmultipy.kernel.RBF(1,.05,.5)\n",
    "\n",
    "beta = np.zeros((50,1))\n",
    "beta[:,0] = scipy.stats.multivariate_normal.rvs(np.zeros(50),k.K(x))\n",
    "\n",
    "dm = np.ones((1,max(samplesizes)))\n",
    "\n",
    "y = np.dot(beta,dm) + scipy.stats.multivariate_normal.rvs(np.zeros(50),yKernel.K(x),size=max(samplesizes)).reshape((50,max(samplesizes)))"
   ]
  },
  {
   "cell_type": "code",
   "execution_count": null,
   "metadata": {
    "collapsed": false
   },
   "outputs": [],
   "source": [
    "plt.figure(figsize=(5*len(samplesizes),5))\n",
    "for i,p in enumerate(samplesizes):\n",
    "    plt.subplot(1,len(samplesizes),i+1)\n",
    "    plt.plot(x,y[:,:p],c='k',alpha=.2)\n",
    "    plt.plot(x,beta,c='r')"
   ]
  },
  {
   "cell_type": "code",
   "execution_count": null,
   "metadata": {
    "collapsed": false
   },
   "outputs": [],
   "source": [
    "allsamples = {}\n",
    "\n",
    "for p in samplesizes:\n",
    "    print p\n",
    "    allsamples[p] = []\n",
    "\n",
    "    dm = np.ones((1,p))\n",
    "\n",
    "    model = gpmultipy.model.Model(x,y[:,:p],dm)\n",
    "    prior = gpmultipy.prior.VariableSelection(x,k,[0],theta=.1)\n",
    "    prior.sample(model,yKernel)\n",
    "    \n",
    "    ySigmaPrior = gpmultipy.sampler.Slice('ysigma',\n",
    "                                      lambda x: model.dataLikelihood(yKernel),\n",
    "                                      #lambda x: scipy.stats.uniform(loc=1e-4,scale=1e1).logpdf(x),\n",
    "                                      lambda x: scipy.stats.lognorm(s=1e-0,scale=1e0).logpdf(x),\n",
    "                                      .2,5,logspace=True)\n",
    "    \n",
    "    freeze = gpmultipy.Freezer(model=model,prior=prior,yKernel=yKernel)\n",
    "    \n",
    "    nsample = 500\n",
    "    pis = []\n",
    "    for i in range(nsample):\n",
    "\n",
    "        pi = prior.inclusionLikelihood(model,yKernel,0)\n",
    "        pis.append(pi)\n",
    "\n",
    "        prior.toggle[0] = scipy.stats.bernoulli(pi).rvs()\n",
    "\n",
    "        if prior.toggle[0]:\n",
    "            prior.sample(model,yKernel,)\n",
    "        else:\n",
    "            model.beta[:,0] = 0\n",
    "\n",
    "        yKernel.sigma = ySigmaPrior.sample(yKernel.sigma)\n",
    "\n",
    "        if i % 10 == 0:\n",
    "            allsamples[p].append(freeze.freeze())"
   ]
  },
  {
   "cell_type": "code",
   "execution_count": null,
   "metadata": {
    "collapsed": false
   },
   "outputs": [],
   "source": [
    "keys = allsamples.keys()\n",
    "keys.sort()\n",
    "\n",
    "plt.figure(figsize=(5*len(keys),5))\n",
    "\n",
    "for i,k in enumerate(keys):\n",
    "    plt.subplot(1,len(keys),i+1)\n",
    "    plt.title(k)\n",
    "    \n",
    "    plt.plot(x,beta[:,0])\n",
    "    [plt.plot(x,s['model']['beta'][:,0],c='r',alpha=.2) for s in allsamples[k] if s['prior']['toggle'][0]]"
   ]
  },
  {
   "cell_type": "code",
   "execution_count": null,
   "metadata": {
    "collapsed": false
   },
   "outputs": [],
   "source": [
    "nrep = 5\n",
    "allreps = {}\n",
    "samplesizes = [5,10,15,20]\n",
    "for j in range(nrep):\n",
    "    print j\n",
    "    \n",
    "    x = np.linspace(-1,1)[:,None]\n",
    "\n",
    "    yKernel = gpmultipy.kernel.White(1,1)\n",
    "    k = gpmultipy.kernel.RBF(1,.05,.5)\n",
    "\n",
    "    beta = np.zeros((50,1))\n",
    "    beta[:,0] = scipy.stats.multivariate_normal.rvs(np.zeros(50),k.K(x))\n",
    "\n",
    "    dm = np.ones((1,max(samplesizes)))\n",
    "\n",
    "    y = np.dot(beta,dm) + scipy.stats.multivariate_normal.rvs(np.zeros(50),yKernel.K(x),size=max(samplesizes)).reshape((50,max(samplesizes)))\n",
    "    \n",
    "    allreps[j] = {}\n",
    "    allreps[j]['data'] = y\n",
    "    allreps[j]['beta'] = beta\n",
    "\n",
    "    for p in samplesizes:\n",
    "        print p\n",
    "        allreps[j][p] = []\n",
    "\n",
    "        dm = np.ones((1,p))\n",
    "\n",
    "        model = gpmultipy.model.Model(x,y[:,:p],dm)\n",
    "        prior = gpmultipy.prior.VariableSelection(x,k,[0],theta=.1)\n",
    "        prior.sample(model,yKernel)\n",
    "\n",
    "        ySigmaPrior = gpmultipy.sampler.Slice('ysigma',\n",
    "                                          lambda x: model.dataLikelihood(yKernel),\n",
    "                                          #lambda x: scipy.stats.uniform(loc=1e-4,scale=1e1).logpdf(x),\n",
    "                                          lambda x: scipy.stats.lognorm(s=1e-0,scale=1e0).logpdf(x),\n",
    "                                          .2,5,logspace=True)\n",
    "\n",
    "        freeze = gpmultipy.Freezer(model=model,prior=prior,yKernel=yKernel)\n",
    "\n",
    "        nsample = 500\n",
    "        pis = []\n",
    "        for i in range(nsample):\n",
    "\n",
    "            pi = prior.inclusionLikelihood(model,yKernel,0)\n",
    "            pis.append(pi)\n",
    "\n",
    "            prior.toggle[0] = scipy.stats.bernoulli(pi).rvs()\n",
    "\n",
    "            if prior.toggle[0]:\n",
    "                prior.sample(model,yKernel,)\n",
    "            else:\n",
    "                model.beta[:,0] = 0\n",
    "\n",
    "            yKernel.sigma = ySigmaPrior.sample(yKernel.sigma)\n",
    "\n",
    "            if i % 10 == 0:\n",
    "                allreps[j][p].append(freeze.freeze())\n"
   ]
  },
  {
   "cell_type": "code",
   "execution_count": null,
   "metadata": {
    "collapsed": false
   },
   "outputs": [],
   "source": [
    "for i in allreps.keys():\n",
    "    keys = allreps[i].keys()\n",
    "    keys = filter(lambda x: x!='beta',keys)\n",
    "    keys = filter(lambda x: x!='data',keys)\n",
    "    keys.sort()\n",
    "\n",
    "    plt.figure(figsize=(5*len(keys),5))\n",
    "\n",
    "    for j,k in enumerate(keys):\n",
    "        plt.subplot(1,len(keys),j+1)\n",
    "        plt.title(k)\n",
    "\n",
    "        plt.plot(x,allreps[i]['beta'][:,0])\n",
    "        [plt.plot(x,s['model']['beta'][:,0],c='r',alpha=.2) for s in allreps[i][k] if s['prior']['toggle'][0]]\n",
    "        plt.ylim(-.8,.8)"
   ]
  },
  {
   "cell_type": "code",
   "execution_count": null,
   "metadata": {
    "collapsed": false,
    "scrolled": true
   },
   "outputs": [],
   "source": [
    "for i in allreps.keys():\n",
    "    samples = allreps[i]\n",
    "    keys = samples.keys()\n",
    "    keys = filter(lambda x: x != 'beta',keys)\n",
    "    keys = filter(lambda x: x != 'data',keys)\n",
    "    keys.sort()\n",
    "    \n",
    "    toggle = [[s['prior']['toggle'][0] for s in samples[k]] for k in keys]\n",
    "    ratio = [sum(t)*1./len(t) for t in toggle]\n",
    "    \n",
    "    plt.figure()\n",
    "    plt.bar(range(len(keys)),ratio,)"
   ]
  },
  {
   "cell_type": "code",
   "execution_count": null,
   "metadata": {
    "collapsed": true
   },
   "outputs": [],
   "source": []
  },
  {
   "cell_type": "code",
   "execution_count": null,
   "metadata": {
    "collapsed": true
   },
   "outputs": [],
   "source": []
  },
  {
   "cell_type": "code",
   "execution_count": null,
   "metadata": {
    "collapsed": true
   },
   "outputs": [],
   "source": []
  },
  {
   "cell_type": "code",
   "execution_count": null,
   "metadata": {
    "collapsed": true
   },
   "outputs": [],
   "source": []
  },
  {
   "cell_type": "code",
   "execution_count": null,
   "metadata": {
    "collapsed": false
   },
   "outputs": [],
   "source": [
    "x = np.linspace(-1,1)[:,None]\n",
    "yKernel = gpmultipy.kernel.White(1,1)\n",
    "theta = .01\n",
    "p = 5\n",
    "\n",
    "samples = {}\n",
    "\n",
    "for s in np.power(10.,np.arange(-4,1,).tolist() + np.arange(-4-(1-np.log10(5)),1,).tolist()):\n",
    "    samples[s] = []\n",
    "    for rep in range(100):\n",
    "        \n",
    "        k = gpmultipy.kernel.RBF(1,s)\n",
    "\n",
    "        beta = np.zeros((50,1))\n",
    "        beta[:,0] = scipy.stats.multivariate_normal.rvs(np.zeros(50),k.K(x))\n",
    "\n",
    "        dm = np.ones((1,p))\n",
    "\n",
    "        y = np.dot(beta,dm) + scipy.stats.multivariate_normal.rvs(np.zeros(50),yKernel.K(x),size=p).reshape((50,p))\n",
    "\n",
    "        model = gpmultipy.model.Model(x,y,dm)\n",
    "        prior = gpmultipy.prior.VariableSelection(x,k,[0],theta=theta)\n",
    "        \n",
    "        samples[s].append(prior.inclusionLikelihood(model,yKernel,0))"
   ]
  },
  {
   "cell_type": "code",
   "execution_count": null,
   "metadata": {
    "collapsed": false,
    "scrolled": true
   },
   "outputs": [],
   "source": [
    "samplesDf = pd.DataFrame(samples)"
   ]
  },
  {
   "cell_type": "code",
   "execution_count": null,
   "metadata": {
    "collapsed": false
   },
   "outputs": [],
   "source": [
    "plt.figure(figsize=(8,6))\n",
    "plt.boxplot(samplesDf.values,labels=samplesDf.columns,vert=False);\n",
    "plt.xlim(-.1,1.1)"
   ]
  },
  {
   "cell_type": "code",
   "execution_count": null,
   "metadata": {
    "collapsed": true
   },
   "outputs": [],
   "source": []
  }
 ],
 "metadata": {
  "kernelspec": {
   "display_name": "Python 2",
   "language": "python",
   "name": "python2"
  },
  "language_info": {
   "codemirror_mode": {
    "name": "ipython",
    "version": 2
   },
   "file_extension": ".py",
   "mimetype": "text/x-python",
   "name": "python",
   "nbconvert_exporter": "python",
   "pygments_lexer": "ipython2",
   "version": "2.7.10"
  }
 },
 "nbformat": 4,
 "nbformat_minor": 1
}