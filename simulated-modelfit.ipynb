{
 "cells": [
  {
   "cell_type": "code",
   "execution_count": null,
   "metadata": {
    "collapsed": false
   },
   "outputs": [],
   "source": [
    "%pylab"
   ]
  },
  {
   "cell_type": "code",
   "execution_count": null,
   "metadata": {
    "collapsed": true
   },
   "outputs": [],
   "source": [
    "%matplotlib inline"
   ]
  },
  {
   "cell_type": "code",
   "execution_count": null,
   "metadata": {
    "collapsed": true
   },
   "outputs": [],
   "source": [
    "import GPy, scipy"
   ]
  },
  {
   "cell_type": "code",
   "execution_count": null,
   "metadata": {
    "collapsed": true
   },
   "outputs": [],
   "source": [
    "def gompertz(t,m,A,l):\n",
    "    return A * np.exp(-np.exp(m*np.e/A*(l-t) + 1))"
   ]
  },
  {
   "cell_type": "code",
   "execution_count": null,
   "metadata": {
    "collapsed": true
   },
   "outputs": [],
   "source": [
    "def add_subplot_axes(ax,rect,axisbg='w'):\n",
    "    fig = plt.gcf()\n",
    "    box = ax.get_position()\n",
    "    width = box.width\n",
    "    height = box.height\n",
    "    inax_position  = ax.transAxes.transform(rect[0:2])\n",
    "    transFigure = fig.transFigure.inverted()\n",
    "    infig_position = transFigure.transform(inax_position)    \n",
    "    x = infig_position[0]\n",
    "    y = infig_position[1]\n",
    "    width *= rect[2]\n",
    "    height *= rect[3]  # <= Typo was here\n",
    "    subax = fig.add_axes([x,y,width,height],axisbg=axisbg)\n",
    "    x_labelsize = subax.get_xticklabels()[0].get_size()\n",
    "    y_labelsize = subax.get_yticklabels()[0].get_size()\n",
    "    x_labelsize *= rect[2]**0.5\n",
    "    y_labelsize *= rect[3]**0.5\n",
    "    subax.xaxis.set_tick_params(labelsize=x_labelsize)\n",
    "    subax.yaxis.set_tick_params(labelsize=y_labelsize)\n",
    "    return subax\n"
   ]
  },
  {
   "cell_type": "code",
   "execution_count": null,
   "metadata": {
    "collapsed": true
   },
   "outputs": [],
   "source": [
    "def generateSample(mu, cov, nugget, length=50):\n",
    "    noise = np.eye(mu.shape[0])*nugget\n",
    "    \n",
    "    return scipy.stats.multivariate_normal.rvs(mu,cov+noise).reshape((mu.shape[0]/length,length)).T"
   ]
  },
  {
   "cell_type": "code",
   "execution_count": null,
   "metadata": {
    "collapsed": false
   },
   "outputs": [],
   "source": [
    "# kbase = GPy.kern.RBF(1,name='base')\n",
    "# kbio = GPy.kern.Hierarchical([GPy.kern.RBF(1,name='base'), GPy.kern.RBF(1,name='bio', variance=.1)])\n",
    "# ktech = GPy.kern.Hierarchical([GPy.kern.RBF(1,name='base'), GPy.kern.RBF(1,name='bio', variance=.1), GPy.kern.RBF(1,name='tech', variance=.05)])"
   ]
  },
  {
   "cell_type": "code",
   "execution_count": null,
   "metadata": {
    "collapsed": false
   },
   "outputs": [],
   "source": [
    "nbatch = 4\n",
    "nrep = 3\n",
    "ntot = nbatch * nrep\n",
    "nobs = 15\n",
    "time = np.linspace(0,2, nobs)\n",
    "\n",
    "x = np.zeros((nobs*ntot,3))\n",
    "x1 = np.zeros((nobs*ntot,2))\n",
    "x2 = np.zeros((nobs*ntot,2))\n",
    "\n",
    "x[:,0] = x1[:,0] = x2[:,0] = np.tile((time-time.mean())/time.std(), ntot)\n",
    "x[:,1] = x2[:,1] = np.repeat(np.arange(nbatch), nrep*nobs)\n",
    "x[:,2] = x1[:,1] = np.repeat(np.arange(nbatch*nrep), nobs)\n",
    "\n",
    "x3 = x.copy()"
   ]
  },
  {
   "cell_type": "code",
   "execution_count": null,
   "metadata": {
    "collapsed": true
   },
   "outputs": [],
   "source": [
    "baseVariance, batchVariance, repVariance = .01, .005, .005\n",
    "\n",
    "kbase = GPy.kern.RBF(1,name='base',variance=baseVariance)\n",
    "kbatch = GPy.kern.IndependentOutputs(GPy.kern.RBF(1,name='batch', variance=0.01, lengthscale=.7), index_dim=-2);\n",
    "krep = GPy.kern.IndependentOutputs(GPy.kern.RBF(1,name='replicate', variance=0.005, lengthscale=.7))"
   ]
  },
  {
   "cell_type": "code",
   "execution_count": null,
   "metadata": {
    "collapsed": false
   },
   "outputs": [],
   "source": [
    "cov = np.zeros((x.shape[0]*4, x.shape[0]*4))\n",
    "\n",
    "# cov = kbase.K(np.tile(x.T,4).T) #+ batchVariance + repVariance\n",
    "\n",
    "print cov.shape\n",
    "\n",
    "# cov[:,:x.shape[0]] = np.tile(kbase.K(x), 4).T\n",
    "# cov[:x.shape[0],:] = np.tile(kbase.K(x), 4)\n",
    "# cov[:x.shape[0],:] = kbase.K(x)\n",
    "cov[x.shape[0]:2*x.shape[0],x.shape[0]:2*x.shape[0]] += kbatch.K(x) #- batchVariance\n",
    "cov[x.shape[0]:2*x.shape[0],3*x.shape[0]:] += kbatch.K(x) #- batchVarianceA\n",
    "cov[3*x.shape[0]:,x.shape[0]:2*x.shape[0]] += kbatch.K(x) #- batchVariance\n",
    "\n",
    "cov[2*x.shape[0]:3*x.shape[0],2*x.shape[0]:3*x.shape[0]] += krep.K(x) #- repVariance\n",
    "cov[2*x.shape[0]:3*x.shape[0],3*x.shape[0]:] += krep.K(x) #- repVariance\n",
    "cov[3*x.shape[0]:,2*x.shape[0]:3*x.shape[0]] += krep.K(x) #- repVariance\n",
    "\n",
    "cov[3*x.shape[0]:,3*x.shape[0]:] += kbatch.K(x) + krep.K(x) # - repVariance-  batchVariance\n",
    "\n",
    "# equal variance\n",
    "#cov[range(cov.shape[0]),range(cov.shape[0])] = np.diag(cov).max()\n",
    "\n",
    "sampleCov = cov.copy()\n",
    "\n",
    "plt.imshow(sampleCov)"
   ]
  },
  {
   "cell_type": "code",
   "execution_count": null,
   "metadata": {
    "collapsed": true
   },
   "outputs": [],
   "source": [
    "samples = []"
   ]
  },
  {
   "cell_type": "code",
   "execution_count": null,
   "metadata": {
    "collapsed": false
   },
   "outputs": [],
   "source": [
    "datasets = []\n",
    "\n",
    "nsamp = 5\n",
    "\n",
    "f = gompertz(np.tile(time, ntot), 2, 1, .4)\n",
    "sigma = .001\n",
    "\n",
    "for _ in range(nsamp):\n",
    "    samples.append([])\n",
    "\n",
    "    s = generateSample(np.tile(f, 4), sampleCov, sigma, nobs)\n",
    "    datasets.append(s)"
   ]
  },
  {
   "cell_type": "code",
   "execution_count": null,
   "metadata": {
    "collapsed": false,
    "scrolled": false
   },
   "outputs": [],
   "source": [
    "for s in datasets:\n",
    "    y0, y2 , y1, y3 = np.array_split(s,4,1)\n",
    "    \n",
    "    plt.figure(figsize=(12,6))\n",
    "    \n",
    "    plt.subplot(241)\n",
    "    plt.plot(x[:nobs,0], f[:nobs],c='k',lw=3)\n",
    "    for j,z in enumerate(x[::nobs,1]):\n",
    "            k = np.unique(x[:,1]).tolist().index(z)\n",
    "            plt.plot(x[:nobs,0],y0[:,j],color='C%d'%k,alpha=.6);\n",
    "            \n",
    "    plt.subplot(245)\n",
    "    plt.plot([x[:,0].min(),x[:,0].max()],[0,0],'k', lw=3)\n",
    "    for j,z in enumerate(x[::nobs,1]):\n",
    "            k = np.unique(x[:,1]).tolist().index(z)\n",
    "            plt.plot(x[:nobs,0],y0[:,j]-y0.mean(1),color='C%d'%k,alpha=.6);\n",
    "    \n",
    "    plt.subplot(242)\n",
    "    plt.plot(x[:nobs,0], f[:nobs],c='k',lw=3)\n",
    "    for j,z in enumerate(x[::nobs,1]):\n",
    "            k = np.unique(x[:,1]).tolist().index(z)\n",
    "            plt.plot(x[:nobs,0],y1[:,j],color='C%d'%k,alpha=.6);\n",
    "            \n",
    "    plt.subplot(246)\n",
    "    plt.plot([x[:,0].min(),x[:,0].max()],[0,0],'k', lw=3)\n",
    "    for j,z in enumerate(x[::nobs,1]):\n",
    "            k = np.unique(x[:,1]).tolist().index(z)\n",
    "            plt.plot(x[:nobs,0],y1[:,j]-y1.mean(1),color='C%d'%k,alpha=.6);\n",
    "    \n",
    "    plt.subplot(243)\n",
    "    plt.plot(x[:nobs,0], f[:nobs],c='k',lw=3)\n",
    "    for j,z in enumerate(x[::nobs,1]):\n",
    "            k = np.unique(x[:,1]).tolist().index(z)\n",
    "            plt.plot(x[:nobs,0],y2[:,j],color='C%d'%k,alpha=.6);\n",
    "            \n",
    "    plt.subplot(247)\n",
    "    plt.plot([x[:,0].min(),x[:,0].max()],[0,0],'k', lw=3)\n",
    "    for j,z in enumerate(x[::nobs,1]):\n",
    "            k = np.unique(x[:,1]).tolist().index(z)\n",
    "            plt.plot(x[:nobs,0],y2[:,j]-y2.mean(1),color='C%d'%k,alpha=.6);\n",
    "    \n",
    "    plt.subplot(244)\n",
    "    plt.plot(x[:nobs,0], f[:nobs],c='k',lw=3)\n",
    "    for j,z in enumerate(x[::nobs,1]):\n",
    "            k = np.unique(x[:,1]).tolist().index(z)\n",
    "            plt.plot(x[:nobs,0],y3[:,j],color='C%d'%k,alpha=.6);\n",
    "            \n",
    "    plt.subplot(248)\n",
    "    plt.plot([x[:,0].min(),x[:,0].max()],[0,0],'k', lw=3)\n",
    "    for j,z in enumerate(x[::nobs,1]):\n",
    "            k = np.unique(x[:,1]).tolist().index(z)\n",
    "            plt.plot(x[:nobs,0],y3[:,j]-y3.mean(1),color='C%d'%k,alpha=.6);"
   ]
  },
  {
   "cell_type": "code",
   "execution_count": null,
   "metadata": {
    "collapsed": true
   },
   "outputs": [],
   "source": [
    "class ModelFactory(object):\n",
    "    \n",
    "    def __init__(self, x, ):\n",
    "        self.x = x\n",
    "    \n",
    "    def predictionKernel(self, k):\n",
    "        \"\"\"The kernel for predicting underlying function.\"\"\"\n",
    "        return k\n",
    "    \n",
    "    def buildKernel(self,):\n",
    "        return GPy.kern.RBF(1)\n",
    "    \n",
    "    def batchTrain(self, y, size=3):\n",
    "        best = None\n",
    "        \n",
    "        trained = []\n",
    "        \n",
    "        for s in range(size):\n",
    "            m = self.train(y)\n",
    "            \n",
    "            trained.append(m)\n",
    "            \n",
    "            if best is None or best.log_likelihood() < m.log_likelihood():\n",
    "                best = m\n",
    "        \n",
    "        return m, trained\n",
    "    \n",
    "    def train(self, y):\n",
    "        k = self.buildKernel()\n",
    "        \n",
    "        m = GPy.models.GPRegression(self.x, y.T.reshape(y.shape[0]*y.shape[1] ,1), k)\n",
    "        m.randomize()\n",
    "        m.optimize()\n",
    "        \n",
    "        return m\n",
    "    \n",
    "class HierarchicalFactory(ModelFactory):\n",
    "    \n",
    "    def __init__(self, x, levels=2):\n",
    "        ModelFactory.__init__(self,x)\n",
    "        self.levels = levels\n",
    "        \n",
    "    def buildKernel(self):\n",
    "        names = ['base'] + ['level%d'%i for i in range(self.levels)]\n",
    "        kerns = [GPy.kern.RBF(1, name=n) for n in names]\n",
    "        \n",
    "        return GPy.kern.Hierarchical(kerns)\n",
    "    \n",
    "    def predictionKernel(self, k):\n",
    "        return k.base\n",
    "\n",
    "class OneLevelFactory(ModelFactory):\n",
    "    \n",
    "    def predictionKernel(self, k):\n",
    "        return k.rbf\n",
    "    \n",
    "    def buildKernel(self,):\n",
    "        return GPy.kern.Hierarchical([GPy.kern.RBF(1), GPy.kern.RBF(1)])\n",
    "    \n",
    "class TwoLevelFactory(OneLevelFactory):\n",
    "    \n",
    "    def buildKernel(self,):\n",
    "        return GPy.kern.Hierarchical([GPy.kern.RBF(1), GPy.kern.RBF(1), GPy.kern.RBF(1)])"
   ]
  },
  {
   "cell_type": "code",
   "execution_count": null,
   "metadata": {
    "collapsed": true
   },
   "outputs": [],
   "source": [
    "m0 = ModelFactory(x)\n",
    "m1 = HierarchicalFactory(x1,1)\n",
    "m2 = HierarchicalFactory(x2,1)\n",
    "m3 = HierarchicalFactory(x3,2)"
   ]
  },
  {
   "cell_type": "code",
   "execution_count": null,
   "metadata": {
    "collapsed": false
   },
   "outputs": [],
   "source": [
    "scipy.stats.norm.ppf(.975)"
   ]
  },
  {
   "cell_type": "code",
   "execution_count": null,
   "metadata": {
    "collapsed": false,
    "scrolled": false
   },
   "outputs": [],
   "source": [
    "for s in datasets[:1]:\n",
    "\n",
    "    plt.figure(figsize=(16,16))\n",
    "\n",
    "    y0, y2 , y1, y3 = np.array_split(s,4,1)\n",
    "    for l,y in enumerate([y0, y1, y2, y3]):\n",
    "\n",
    "        for i,fact in enumerate([m0, m1, m2, m3]):\n",
    "            m, _ = fact.batchTrain(y,size=10)\n",
    "\n",
    "            mu,cov = m.predict_noiseless(fact.x[:nobs,:],full_cov=True,kern=fact.predictionKernel(m.kern))\n",
    "            mu = mu[:,0]\n",
    "            std = np.sqrt(cov.diagonal())\n",
    "            diff = (mu - f[:nobs])\n",
    "\n",
    "            plt.subplot(4,4,4*i+l+1)\n",
    "            plt.title(\"y%d m%d\" %(l, i))\n",
    "\n",
    "            plt.plot(fact.x[:nobs,0], mu)\n",
    "            plt.fill_between(fact.x[:nobs,0], mu-1.96*std, mu+1.96*std, alpha=.2)\n",
    "\n",
    "            plt.plot(x[:nobs,0], y)\n",
    "            #for j,z in enumerate(fact.x[::nobs,1]):\n",
    "            #    k = np.unique(fact.x[:,1]).tolist().index(z)\n",
    "            #    plt.plot(x[:nobs,0],y[:,j],color='C%d'%k,alpha=.6);\n",
    "            plt.plot(x[:nobs,0], f[:nobs],color='k', lw=3)\n",
    "\n",
    "    plt.tight_layout()"
   ]
  },
  {
   "cell_type": "code",
   "execution_count": null,
   "metadata": {
    "collapsed": false
   },
   "outputs": [],
   "source": [
    "plt.plot(fact.x[:nobs,0], mu)\n",
    "plt.fill_between(fact.x[:nobs,0], mu-1.96*std, mu+1.96*std, alpha=.2)\n",
    "plt.plot(x[:nobs,0], f[:nobs],color='k', lw=3)\n",
    "\n",
    "for j,z in enumerate(fact.x[::nobs,1]):\n",
    "    k = np.unique(fact.x[:,1]).tolist().index(z)\n",
    "    plt.plot(x[:nobs,0],y[:,j],color='C%d'%k,alpha=.4);"
   ]
  },
  {
   "cell_type": "code",
   "execution_count": null,
   "metadata": {
    "collapsed": false
   },
   "outputs": [],
   "source": [
    "m"
   ]
  },
  {
   "cell_type": "code",
   "execution_count": null,
   "metadata": {
    "collapsed": true
   },
   "outputs": [],
   "source": []
  },
  {
   "cell_type": "code",
   "execution_count": null,
   "metadata": {
    "collapsed": true
   },
   "outputs": [],
   "source": []
  },
  {
   "cell_type": "code",
   "execution_count": null,
   "metadata": {
    "collapsed": true
   },
   "outputs": [],
   "source": []
  },
  {
   "cell_type": "code",
   "execution_count": null,
   "metadata": {
    "collapsed": true
   },
   "outputs": [],
   "source": []
  },
  {
   "cell_type": "code",
   "execution_count": null,
   "metadata": {
    "collapsed": true
   },
   "outputs": [],
   "source": [
    "m, trained = m3.batchTrain(y3, size=10)"
   ]
  },
  {
   "cell_type": "code",
   "execution_count": null,
   "metadata": {
    "collapsed": false
   },
   "outputs": [],
   "source": [
    "[t.log_likelihood() for t in trained]"
   ]
  },
  {
   "cell_type": "code",
   "execution_count": null,
   "metadata": {
    "collapsed": false
   },
   "outputs": [],
   "source": [
    "for t in trained:\n",
    "    print t"
   ]
  },
  {
   "cell_type": "code",
   "execution_count": null,
   "metadata": {
    "collapsed": false
   },
   "outputs": [],
   "source": [
    "mu,cov = t.predict_noiseless(m3.x[:nobs,:],full_cov=True,kern=m3.predictionKernel(m.kern))\n",
    "# mu,cov = t.predict(m3.x[:nobs,:],full_cov=True,kern=m3.predictionKernel(m.kern))\n",
    "mu = mu[:,0]\n",
    "\n",
    "plt.plot(m3.x[:nobs,0], mu)\n",
    "plt.fill_between(m3.x[:nobs,0], mu-1.96*std, mu+1.96*std, alpha=.2)\n",
    "\n",
    "for j,z in enumerate(m3.x[::nobs,1]):\n",
    "    k = np.unique(m3.x[:,1]).tolist().index(z)\n",
    "    plt.plot(m3.x[:nobs,0],y3[:,j],color='C%d'%k,alpha=.6);"
   ]
  },
  {
   "cell_type": "code",
   "execution_count": null,
   "metadata": {
    "collapsed": false
   },
   "outputs": [],
   "source": [
    "m = m1.train(y3)\n",
    "m"
   ]
  },
  {
   "cell_type": "code",
   "execution_count": null,
   "metadata": {
    "collapsed": false
   },
   "outputs": [],
   "source": [
    "ax = m.plot_f(fixed_inputs=[(1,0)], predict_kw={'kern':m1.predictionKernel(m.kern)})\n",
    "ax.plot(x3[:nobs,0], y3)\n",
    "ax.plot(x[:nobs,0], f[:nobs],color='k', lw=3)"
   ]
  },
  {
   "cell_type": "code",
   "execution_count": null,
   "metadata": {
    "collapsed": true
   },
   "outputs": [],
   "source": [
    "samples = []"
   ]
  },
  {
   "cell_type": "code",
   "execution_count": null,
   "metadata": {
    "collapsed": false
   },
   "outputs": [],
   "source": [
    "for s in datasets:\n",
    "    y0, y2 , y1, y3 = np.array_split(s,4,1)\n",
    "\n",
    "    for y in [y0, y1, y2, y3]:\n",
    "        \n",
    "        samples[-1].append([])\n",
    "\n",
    "        k0 = GPy.kern.RBF(1)\n",
    "        k1 = GPy.kern.Hierarchical([GPy.kern.RBF(1), GPy.kern.RBF(1)])\n",
    "        k2 = GPy.kern.Hierarchical([GPy.kern.RBF(1), GPy.kern.RBF(1)])\n",
    "        k3 = GPy.kern.Hierarchical([GPy.kern.RBF(1), GPy.kern.RBF(1), GPy.kern.RBF(1)])\n",
    "\n",
    "        for z,k, kpred in [(x, k0, k0), (x1, k1, k1.rbf), (x2, k2, k2.rbf), (x3, k3, k3.rbf)]:\n",
    "            m = GPy.models.GPRegression(z, y.T.reshape(nobs*ntot,1), k)\n",
    "            m.randomize()\n",
    "            m.optimize()\n",
    "\n",
    "            mu,cov = m.predict_noiseless(z[:nobs,:],full_cov=True,kern=kpred)\n",
    "            std = np.sqrt(cov.diagonal())\n",
    "            diff = (mu[:,0] - f[:nobs])\n",
    "\n",
    "            incorrect = nobs-sum(((diff-1.98*std) < 0) & ((diff+1.98*std) > 0))\n",
    "            \n",
    "            samples[-1][-1].append(incorrect)\n",
    "            \n",
    "            del m"
   ]
  },
  {
   "cell_type": "code",
   "execution_count": null,
   "metadata": {
    "collapsed": false
   },
   "outputs": [],
   "source": [
    "failrate = 1.*np.array(samples[:-2],dtype=float)/nobs"
   ]
  },
  {
   "cell_type": "code",
   "execution_count": null,
   "metadata": {
    "collapsed": false,
    "scrolled": true
   },
   "outputs": [],
   "source": [
    "# failrate"
   ]
  },
  {
   "cell_type": "code",
   "execution_count": null,
   "metadata": {
    "collapsed": false
   },
   "outputs": [],
   "source": [
    "# each figure is different model type\n",
    "# each boxplot is generative type (m0-m3)\n",
    "\n",
    "plt.figure()\n",
    "plt.boxplot(np.array_split(failrate[:,:,0], 4, 1));\n",
    "\n",
    "plt.figure()\n",
    "plt.boxplot(np.array_split(failrate[:,:,1], 4, 1));\n",
    "\n",
    "plt.figure()\n",
    "plt.boxplot(np.array_split(failrate[:,:,2], 4, 1));\n",
    "\n",
    "plt.figure()\n",
    "plt.boxplot(np.array_split(failrate[:,:,3], 4, 1));"
   ]
  },
  {
   "cell_type": "code",
   "execution_count": null,
   "metadata": {
    "collapsed": true
   },
   "outputs": [],
   "source": []
  },
  {
   "cell_type": "code",
   "execution_count": null,
   "metadata": {
    "collapsed": true
   },
   "outputs": [],
   "source": []
  },
  {
   "cell_type": "code",
   "execution_count": null,
   "metadata": {
    "collapsed": false
   },
   "outputs": [],
   "source": [
    "plt.plot(x[:50,0],diff)\n",
    "plt.fill_between(x[:50,0], diff + 1.98*std, diff - 1.98*std, alpha=.1)\n",
    "# plt.plot(x[:50,0],f[:50])"
   ]
  },
  {
   "cell_type": "code",
   "execution_count": null,
   "metadata": {
    "collapsed": false
   },
   "outputs": [],
   "source": [
    "plt.plot(x[:50,0],mu[:,0])\n",
    "plt.fill_between(x[:50,0], mu[:,0] + 1.98*std, mu[:,0] - 1.98*std, alpha=.1)\n",
    "plt.plot(x[:50,0],f[:50])\n",
    "plt.plot(x[:50,0],y2,c='k',lw=.4)"
   ]
  },
  {
   "cell_type": "code",
   "execution_count": null,
   "metadata": {
    "collapsed": false
   },
   "outputs": [],
   "source": [
    "mu,cov = m.predict_noiseless(x[:50,:],full_cov=True)\n",
    "std = np.sqrt(cov.diagonal())"
   ]
  },
  {
   "cell_type": "code",
   "execution_count": null,
   "metadata": {
    "collapsed": false
   },
   "outputs": [],
   "source": [
    "sum(np.linalg.eigvals(cov) > 1e-9)"
   ]
  },
  {
   "cell_type": "code",
   "execution_count": null,
   "metadata": {
    "collapsed": false
   },
   "outputs": [],
   "source": [
    "diff = (mu[:,0] - f[:50])\n",
    "\n",
    "np.dot(diff, np.dot(np.linalg.inv(cov), diff))"
   ]
  },
  {
   "cell_type": "code",
   "execution_count": null,
   "metadata": {
    "collapsed": false
   },
   "outputs": [],
   "source": [
    "diff.shape"
   ]
  },
  {
   "cell_type": "code",
   "execution_count": null,
   "metadata": {
    "collapsed": false
   },
   "outputs": [],
   "source": [
    "cov"
   ]
  },
  {
   "cell_type": "code",
   "execution_count": null,
   "metadata": {
    "collapsed": false
   },
   "outputs": [],
   "source": [
    "plt.plot(diff)\n",
    "plt.plot(np.sqrt(cov));"
   ]
  },
  {
   "cell_type": "code",
   "execution_count": null,
   "metadata": {
    "collapsed": false
   },
   "outputs": [],
   "source": [
    "scipy.stats.chi2.ppf(.95, 50)"
   ]
  },
  {
   "cell_type": "code",
   "execution_count": null,
   "metadata": {
    "collapsed": false
   },
   "outputs": [],
   "source": [
    "scipy.stats.chi2.cdf(-2, 50)"
   ]
  },
  {
   "cell_type": "code",
   "execution_count": null,
   "metadata": {
    "collapsed": false
   },
   "outputs": [],
   "source": [
    "scipy.stats.chi2.cdf(np.dot(diff, np.dot(np.linalg.inv(cov), diff)), 50)"
   ]
  },
  {
   "cell_type": "code",
   "execution_count": null,
   "metadata": {
    "collapsed": false
   },
   "outputs": [],
   "source": [
    "std.shape, mu.shape"
   ]
  },
  {
   "cell_type": "code",
   "execution_count": null,
   "metadata": {
    "collapsed": false
   },
   "outputs": [],
   "source": [
    "plt.scatter(x[:ntot*50,0], y1.T.reshape(50*ntot,1))"
   ]
  },
  {
   "cell_type": "code",
   "execution_count": null,
   "metadata": {
    "collapsed": true
   },
   "outputs": [],
   "source": []
  }
 ],
 "metadata": {
  "kernelspec": {
   "display_name": "Python 2",
   "language": "python",
   "name": "python2"
  },
  "language_info": {
   "codemirror_mode": {
    "name": "ipython",
    "version": 2
   },
   "file_extension": ".py",
   "mimetype": "text/x-python",
   "name": "python",
   "nbconvert_exporter": "python",
   "pygments_lexer": "ipython2",
   "version": "2.7.6"
  }
 },
 "nbformat": 4,
 "nbformat_minor": 1
}