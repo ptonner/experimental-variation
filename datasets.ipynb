{
 "cells": [
  {
   "cell_type": "code",
   "execution_count": null,
   "metadata": {},
   "outputs": [],
   "source": [
    "%pylab"
   ]
  },
  {
   "cell_type": "code",
   "execution_count": null,
   "metadata": {
    "collapsed": true
   },
   "outputs": [],
   "source": [
    "%matplotlib inline"
   ]
  },
  {
   "cell_type": "code",
   "execution_count": null,
   "metadata": {},
   "outputs": [],
   "source": [
    "import popmachine, itertools, patsy, GPy, scipy\n",
    "from popmachine.normal import MultivariateNormal"
   ]
  },
  {
   "cell_type": "code",
   "execution_count": null,
   "metadata": {},
   "outputs": [],
   "source": [
    "machine = popmachine.Machine('sqlite:///../popmachine_local/.popmachine.db')"
   ]
  },
  {
   "cell_type": "markdown",
   "metadata": {},
   "source": [
    "## ura3 PQ gradient "
   ]
  },
  {
   "cell_type": "code",
   "execution_count": null,
   "metadata": {},
   "outputs": [],
   "source": [
    "ds = machine.search(Strain='ura3', **{'mM PQ':[0.0, 0.083, 0.333, 1.333], 'M NaCl':['4.2', None]})\n",
    "ds.trim(10)\n",
    "ds.log()\n",
    "ds.poly_scale(2,groupby=['plate','mM PQ'])\n",
    "ds.filter()\n",
    "\n",
    "# ds.data = ds.data.loc[~ds.data.isnull().any(1),:]\n",
    "# ds.data = ds.data.sort_index()"
   ]
  },
  {
   "cell_type": "code",
   "execution_count": null,
   "metadata": {},
   "outputs": [],
   "source": [
    "plt.figure(figsize=(20,3))\n",
    "\n",
    "ds.plot(columns=['plate'], colorby=['mM PQ'], buff=.3)"
   ]
  },
  {
   "cell_type": "code",
   "execution_count": null,
   "metadata": {
    "collapsed": true
   },
   "outputs": [],
   "source": []
  },
  {
   "cell_type": "markdown",
   "metadata": {},
   "source": [
    "## $H_2O_2$ "
   ]
  },
  {
   "cell_type": "code",
   "execution_count": null,
   "metadata": {},
   "outputs": [],
   "source": [
    "strains = ['ura3', 'hrg', 'rosR', 'cspD1', 'cspD2', 'VNG0194','hlx2', 'hlx1', 'ark', 'birA', 'asnC']\n",
    "plates = [u'20160108 phoRhlx2',\n",
    "       u'20150307 H2O2 batch 10', u'20150905 H2O2 batch 12',\n",
    "       u'20151014 H2O2 batch 16', u'20151010 H2O2 batch 14', u'20141106H2O2 hrg comp 1',\n",
    "       u'20141023 H2O2 batch 2', u'20150124 H2O2 batch 7',\n",
    "       u'20141221 H2O2 batch 3', u'20141106H2O2 hrg comp 2',\n",
    "       u'20150105 H2O2 batch 6', u'20141023 H2O2 batch 1',\n",
    "       u'20150907 H2O2 batch 13']\n",
    "\n",
    "# ds = machine.search(plates=plates, Strain=strains, include=['Plate Age'], **{'mM H2O2':[0, 0.0, 5, 5.0 , 6], 'mM PQ':[None, 0, 0.0]})\n",
    "# ds = machine.search(plates=plates, Strain=strains, \n",
    "#                         **{'mM H2O2':[0, 0.0, 5, 5.0 , 6], \n",
    "#                            'mM PQ':[None, 0, 0.0],\n",
    "#                            'Plate Age':['41', u'20', u'26', u'22', u'21']})\n",
    "\n",
    "ds = machine.search(plates=plates, Strain='ura3', \n",
    "                        **{'mM H2O2':[0, 0.0, 5, 5.0 , 6], \n",
    "                           'mM PQ':[None, 0, 0.0],\n",
    "                           'Plate Age':['41', u'20', u'26', u'22', u'21']})\n",
    "\n",
    "ds.trim(10)\n",
    "ds.log()\n",
    "ds.poly_scale(2,groupby=['plate','mM H2O2','Strain'])\n",
    "ds.filter()\n",
    "\n",
    "# ds.data = ds.data.loc[~ds.data.isnull().any(1),:]\n",
    "# ds.data = ds.data.sort_index()\n",
    "\n",
    "ds.meta['mM H2O2'] = ds.meta['mM H2O2'].astype(float)"
   ]
  },
  {
   "cell_type": "code",
   "execution_count": null,
   "metadata": {
    "collapsed": true
   },
   "outputs": [],
   "source": [
    "ds.meta.loc[ds.meta['Plate Age'].isnull(), 'Plate Age'] = 'unknown'"
   ]
  },
  {
   "cell_type": "code",
   "execution_count": null,
   "metadata": {},
   "outputs": [],
   "source": [
    "ds.meta['Plate Age'].unique()"
   ]
  },
  {
   "cell_type": "code",
   "execution_count": null,
   "metadata": {
    "scrolled": false
   },
   "outputs": [],
   "source": [
    "# plt.figure(figsize=(12,4*len(strains)))\n",
    "# ds.plot(rows=['Strain'], columns=['mM H2O2'], colorby=['plate'], buff=.3, colorLabels=False)\n",
    "ds.plot(rows=['Strain'], columns=['mM H2O2'], colorby=['Plate Age'], buff=.3, colorLabels=True)\n",
    "plt.tight_layout()"
   ]
  },
  {
   "cell_type": "code",
   "execution_count": null,
   "metadata": {
    "collapsed": true
   },
   "outputs": [],
   "source": [
    "ds = machine.search(plates=plates, Strain=strains, \n",
    "                        **{'mM H2O2':[0, 0.0, 5, 5.0 , 6], \n",
    "                           'mM PQ':[None, 0, 0.0],\n",
    "                           'Plate Age':['41', u'20', u'26', u'22', u'21']})"
   ]
  },
  {
   "cell_type": "code",
   "execution_count": null,
   "metadata": {},
   "outputs": [],
   "source": [
    "temp = machine.search(include=['Strain'], **{'mM H2O2':[0, 0.0, 5.0, 5, 6, 6.0]})\n",
    "temp.meta.Strain.unique()"
   ]
  },
  {
   "cell_type": "code",
   "execution_count": null,
   "metadata": {},
   "outputs": [],
   "source": [
    "temp.meta.plate.unique()"
   ]
  },
  {
   "cell_type": "code",
   "execution_count": null,
   "metadata": {},
   "outputs": [],
   "source": [
    "temp = machine.search(Strain='rosR', **{'mM H2O2':[0, 0.0, 5.0, 5, 6, 6.0]})\n",
    "temp.plot(colorby=['plate'])"
   ]
  },
  {
   "cell_type": "markdown",
   "metadata": {
    "collapsed": true
   },
   "source": [
    "## heatshock "
   ]
  },
  {
   "cell_type": "code",
   "execution_count": null,
   "metadata": {},
   "outputs": [],
   "source": [
    "# ds = machine.search(Strain=['ura3', 'VNG1179', 'copR'], **{'Heat Shift C':[54, 56]})\n",
    "ds = machine.search(Strain=['ura3', 'VNG1179', 'copR'], **{'Heat Shift C':[54]})\n",
    "ds.trim(32)\n",
    "ds.log()\n",
    "ds.poly_scale(2,groupby=['plate','Strain'])\n",
    "ds.filter()\n",
    "\n",
    "# ds.data = ds.data.loc[~ds.data.isnull().any(1),:]\n",
    "# ds.data = ds.data.sort_index()"
   ]
  },
  {
   "cell_type": "code",
   "execution_count": null,
   "metadata": {},
   "outputs": [],
   "source": [
    "plt.figure(figsize=(20, 8))\n",
    "ds.plot(columns=['plate'], colorby=['Strain'], rows=['Heat Shift C'])\n",
    "\n",
    "plt.tight_layout()"
   ]
  },
  {
   "cell_type": "code",
   "execution_count": null,
   "metadata": {
    "collapsed": true
   },
   "outputs": [],
   "source": [
    "plates = [u'20141124 Heat shift 1',\n",
    "       u'20141202 Heat shift 3', u'20141219 Heat shift 4',\n",
    "       u'20141126 Heat shift 2', u'20150121 Heat shift 7']"
   ]
  },
  {
   "cell_type": "code",
   "execution_count": null,
   "metadata": {},
   "outputs": [],
   "source": [
    "# ds = machine.search(Strain=['ura3', 'VNG1179', 'copR'], **{'Heat Shift C':[54, 56]})\n",
    "# ds = machine.search(Strain=['ura3', ''], **{'Heat Shift C':[56]})\n",
    "ds = machine.search(plates=plates, include=['Strain'], **{'Heat Shift C':[56]})\n",
    "# ds.trim(32)\n",
    "ds.log()\n",
    "ds.poly_scale(2,groupby=['plate','Strain'])\n",
    "# ds.filter()\n",
    "\n",
    "# ds.data = ds.data.loc[~ds.data.isnull().any(1),:]\n",
    "# ds.data = ds.data.sort_index()"
   ]
  },
  {
   "cell_type": "code",
   "execution_count": null,
   "metadata": {},
   "outputs": [],
   "source": [
    "plt.figure(figsize=(20, 60))\n",
    "ds.plot(columns=['plate'], colorby=['Strain'], rows=['Strain'])\n",
    "\n",
    "plt.tight_layout()"
   ]
  },
  {
   "cell_type": "code",
   "execution_count": null,
   "metadata": {
    "scrolled": false
   },
   "outputs": [],
   "source": [
    "ds = machine.search(include=['Strain'], **{'Heat Shift C':[54]})\n",
    "# ds.trim(32)\n",
    "ds.log()\n",
    "ds.poly_scale(2,groupby=['plate','Strain'])\n",
    "# ds.filter()\n",
    "\n",
    "plt.figure(figsize=(12, 60))\n",
    "ds.plot(columns=['plate'], colorby=['Strain'], rows=['Strain'], colorLabels=False)\n",
    "\n",
    "plt.tight_layout()"
   ]
  },
  {
   "cell_type": "code",
   "execution_count": null,
   "metadata": {},
   "outputs": [],
   "source": [
    "ds = machine.search(Strain=['ura3', 'VNG1179','vng1179c'], **{'Heat Shift C':[54]})\n",
    "# ds.trim(32)\n",
    "ds.log()\n",
    "ds.poly_scale(2,groupby=['plate','Strain'])\n",
    "# ds.filter()\n",
    "\n",
    "ds.meta.Strain.replace('vng1179c', 'VNG1179', inplace=True)\n",
    "\n",
    "plt.figure(figsize=(12, 4))\n",
    "ds.plot(columns=['plate'], colorby=['Strain'])\n",
    "\n",
    "plt.tight_layout()"
   ]
  },
  {
   "cell_type": "code",
   "execution_count": null,
   "metadata": {},
   "outputs": [],
   "source": [
    "ds = machine.search(Strain=['ura3', 'hlx2'], **{'Heat Shift C':[54]})\n",
    "# ds.trim(32)\n",
    "ds.log()\n",
    "ds.poly_scale(2,groupby=['plate','Strain'])\n",
    "# ds.filter()\n",
    "\n",
    "plt.figure(figsize=(12, 4))\n",
    "ds.plot(columns=['plate'], colorby=['Strain'])\n",
    "\n",
    "plt.tight_layout()"
   ]
  },
  {
   "cell_type": "code",
   "execution_count": null,
   "metadata": {},
   "outputs": [],
   "source": [
    "ds = machine.search(Strain=['ura3', 'phoU'], **{'Heat Shift C':[54]})\n",
    "# ds.trim(32)\n",
    "ds.log()\n",
    "ds.poly_scale(2,groupby=['plate','Strain'])\n",
    "# ds.filter()\n",
    "\n",
    "plt.figure(figsize=(12, 4))\n",
    "ds.plot(columns=['plate'], colorby=['Strain'])\n",
    "\n",
    "plt.tight_layout()"
   ]
  },
  {
   "cell_type": "code",
   "execution_count": null,
   "metadata": {},
   "outputs": [],
   "source": [
    "ds = machine.search(Strain=['ura3', 'sirR'], **{'Heat Shift C':[54]})\n",
    "# ds.trim(32)\n",
    "ds.log()\n",
    "ds.poly_scale(2,groupby=['plate','Strain'])\n",
    "# ds.filter()\n",
    "\n",
    "plt.figure(figsize=(12, 4))\n",
    "ds.plot(columns=['plate'], colorby=['Strain'])\n",
    "\n",
    "plt.tight_layout()"
   ]
  },
  {
   "cell_type": "code",
   "execution_count": null,
   "metadata": {},
   "outputs": [],
   "source": [
    "ds = machine.search(Strain=['ura3', 'VNG0194'], **{'Heat Shift C':[54]})\n",
    "# ds.trim(32)\n",
    "ds.log()\n",
    "ds.poly_scale(2,groupby=['plate','Strain'])\n",
    "# ds.filter()\n",
    "\n",
    "plt.figure(figsize=(12, 4))\n",
    "ds.plot(columns=['plate'], colorby=['Strain'])\n",
    "\n",
    "plt.tight_layout()"
   ]
  },
  {
   "cell_type": "code",
   "execution_count": null,
   "metadata": {},
   "outputs": [],
   "source": [
    "ds = machine.search(Strain=['ura3', 'trh2'], **{'Heat Shift C':[54]})\n",
    "# ds.trim(32)\n",
    "ds.log()\n",
    "ds.poly_scale(2,groupby=['plate','Strain'])\n",
    "# ds.filter()\n",
    "\n",
    "plt.figure(figsize=(12, 4))\n",
    "ds.plot(columns=['plate'], colorby=['Strain'])\n",
    "\n",
    "plt.tight_layout()"
   ]
  },
  {
   "cell_type": "code",
   "execution_count": null,
   "metadata": {
    "collapsed": true
   },
   "outputs": [],
   "source": []
  }
 ],
 "metadata": {
  "kernelspec": {
   "display_name": "Python 2",
   "language": "python",
   "name": "python2"
  },
  "language_info": {
   "codemirror_mode": {
    "name": "ipython",
    "version": 2
   },
   "file_extension": ".py",
   "mimetype": "text/x-python",
   "name": "python",
   "nbconvert_exporter": "python",
   "pygments_lexer": "ipython2",
   "version": "2.7.6"
  }
 },
 "nbformat": 4,
 "nbformat_minor": 1
}