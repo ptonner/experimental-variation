{
 "cells": [
  {
   "cell_type": "code",
   "execution_count": null,
   "metadata": {
    "collapsed": false
   },
   "outputs": [],
   "source": [
    "%pylab"
   ]
  },
  {
   "cell_type": "code",
   "execution_count": null,
   "metadata": {
    "collapsed": true
   },
   "outputs": [],
   "source": [
    "%matplotlib inline"
   ]
  },
  {
   "cell_type": "code",
   "execution_count": null,
   "metadata": {
    "collapsed": false
   },
   "outputs": [],
   "source": [
    "import pandas as pd\n",
    "import GPy, patsy, scipy, popmachine"
   ]
  },
  {
   "cell_type": "code",
   "execution_count": null,
   "metadata": {
    "collapsed": true
   },
   "outputs": [],
   "source": [
    "def transform(z, mean, std):\n",
    "    return (z - mean) / std"
   ]
  },
  {
   "cell_type": "code",
   "execution_count": null,
   "metadata": {
    "collapsed": false
   },
   "outputs": [],
   "source": [
    "def reverseTransform(z, mean, std):\n",
    "    return z*std + mean"
   ]
  },
  {
   "cell_type": "code",
   "execution_count": null,
   "metadata": {
    "collapsed": true
   },
   "outputs": [],
   "source": [
    "def plotPrediction(xpred, predict_func, n, **kwargs):\n",
    "    noise_dict = {'output_index':xpred[:,-1:].astype(int)}\n",
    "    mu, var = predict_func(xpred,Y_metadata=noise_dict)\n",
    "    std = np.sqrt(var[:,0])\n",
    "    mu = mu[:,0]\n",
    "\n",
    "    plt.plot(reverseTransform(xpred[:,0],*norm['time']), reverseTransform(mu, *n), **kwargs)\n",
    "    plt.fill_between(reverseTransform(xpred[:,0],*norm['time']), reverseTransform(mu-1.98*std, *n), reverseTransform(mu+1.98*std, *n), alpha=.2, **kwargs)"
   ]
  },
  {
   "cell_type": "code",
   "execution_count": null,
   "metadata": {
    "collapsed": true
   },
   "outputs": [],
   "source": [
    "machine = popmachine.Machine()"
   ]
  },
  {
   "cell_type": "code",
   "execution_count": null,
   "metadata": {
    "collapsed": false
   },
   "outputs": [],
   "source": [
    "machine.plates(names='True')"
   ]
  },
  {
   "cell_type": "code",
   "execution_count": null,
   "metadata": {
    "collapsed": false
   },
   "outputs": [],
   "source": [
    "ds = machine.search('cfu-od-1',include=['strain', 'measurment'])"
   ]
  },
  {
   "cell_type": "code",
   "execution_count": null,
   "metadata": {
    "collapsed": false
   },
   "outputs": [],
   "source": [
    "ds.data.head()"
   ]
  },
  {
   "cell_type": "code",
   "execution_count": null,
   "metadata": {
    "collapsed": false
   },
   "outputs": [],
   "source": [
    "ds.meta.head()"
   ]
  },
  {
   "cell_type": "code",
   "execution_count": null,
   "metadata": {
    "collapsed": false
   },
   "outputs": [],
   "source": [
    "melt = ds.melt()\n",
    "del melt['number']\n",
    "del melt['plate']\n",
    "\n",
    "od = melt[melt.measurment=='od']\n",
    "cfu = melt[melt.measurment=='cfu']\n",
    "\n",
    "del od['measurment']\n",
    "\n",
    "cfu['cfu'] = cfu.od\n",
    "del cfu['od']\n",
    "del cfu['measurment']"
   ]
  },
  {
   "cell_type": "code",
   "execution_count": null,
   "metadata": {
    "collapsed": false
   },
   "outputs": [],
   "source": [
    "od.head()"
   ]
  },
  {
   "cell_type": "code",
   "execution_count": null,
   "metadata": {
    "collapsed": false
   },
   "outputs": [],
   "source": [
    "cfu.tail()"
   ]
  },
  {
   "cell_type": "code",
   "execution_count": null,
   "metadata": {
    "collapsed": false
   },
   "outputs": [],
   "source": [
    "merge = pd.merge(od, cfu, 'outer')\n",
    "\n",
    "merge['logCFU'] = np.log10(merge['cfu'])\n",
    "merge['logOD'] = np.log2(merge.od)\n",
    "merge.time = merge.time.astype(float)\n",
    "merge['normtime'] = (merge.time-merge.time.mean())/merge.time.std()\n",
    "\n",
    "merge.tail()"
   ]
  },
  {
   "cell_type": "code",
   "execution_count": null,
   "metadata": {
    "collapsed": false
   },
   "outputs": [],
   "source": [
    "plt.figure(figsize=(6,4))\n",
    "\n",
    "plt.scatter(merge.time, merge.logOD,c='C0')\n",
    "plt.ylabel(\"$log_2($OD$)$\",fontsize=15,color='C0')\n",
    "plt.yticks(color='C0')\n",
    "plt.xticks(fontsize=12)\n",
    "plt.xlabel(\"time (h)\", fontsize=15)\n",
    "\n",
    "plt.twinx()\n",
    "plt.scatter(merge.time, merge.logCFU,c='C1')\n",
    "plt.ylabel(\"$log_{10}($CFU$)$\",fontsize=15,color='C1')\n",
    "plt.yticks(color='C1')\n",
    "\n",
    "plt.savefig(\"figures/cfu-vs-od.pdf\",bbox_inches='tight')"
   ]
  },
  {
   "cell_type": "code",
   "execution_count": null,
   "metadata": {
    "collapsed": false
   },
   "outputs": [],
   "source": [
    "plt.scatter(merge.logOD, merge.logCFU)\n",
    "plt.ylabel(\"$log_{10}($CFU$)$\",fontsize=15)\n",
    "plt.xlabel(\"$log_2($OD$)$\",fontsize=15)\n",
    "\n",
    "plt.savefig(\"figures/cfu-vs-od-corr.pdf\",bbox_inches='tight')"
   ]
  },
  {
   "cell_type": "code",
   "execution_count": null,
   "metadata": {
    "collapsed": false
   },
   "outputs": [],
   "source": [
    "select = ~merge.logCFU.isnull()\n",
    "scipy.stats.pearsonr(merge.logOD[select], merge.logCFU[select])"
   ]
  },
  {
   "cell_type": "code",
   "execution_count": null,
   "metadata": {
    "collapsed": false
   },
   "outputs": [],
   "source": [
    "x1 = merge.normtime.values[:,None]\n",
    "y1 = merge.logOD.values[:,None]\n",
    "\n",
    "x2 = merge.normtime.values[~merge.logCFU.isnull(),None]\n",
    "y2 = merge.logCFU.values[~merge.logCFU.isnull(),None]\n",
    "# x2 = merge.normtime.values[:,None]\n",
    "# y2 = merge.logCFU.values[:,None]\n",
    "\n",
    "norm = {'y1': (y1.mean(), y1.std()),\\\n",
    "        'y2': (y2.mean(), y2.std()),\\\n",
    "        'time': (merge.time.mean(), merge.time.std())}\n",
    "\n",
    "y1 = (y1-y1.mean())/y1.std()\n",
    "y2 = (y2-y2.mean())/y2.std()\n",
    "\n",
    "x1.shape, y1.shape, x2.shape, y2.shape,"
   ]
  },
  {
   "cell_type": "code",
   "execution_count": null,
   "metadata": {
    "collapsed": false
   },
   "outputs": [],
   "source": [
    "plt.scatter(x1,y1)\n",
    "plt.scatter(x2,y2)"
   ]
  },
  {
   "cell_type": "code",
   "execution_count": null,
   "metadata": {
    "collapsed": true
   },
   "outputs": [],
   "source": [
    "lcm = GPy.util.multioutput.LCM(1,1,[GPy.kern.RBF(1) for i in range(2)])"
   ]
  },
  {
   "cell_type": "code",
   "execution_count": null,
   "metadata": {
    "collapsed": false
   },
   "outputs": [],
   "source": [
    "lcm"
   ]
  },
  {
   "cell_type": "code",
   "execution_count": null,
   "metadata": {
    "collapsed": false
   },
   "outputs": [],
   "source": [
    "K = GPy.kern.Matern32(1)\n",
    "# K = GPy.kern.Matern52(1)\n",
    "kern = GPy.util.multioutput.ICM(input_dim=1,num_outputs=2,kernel=K,W_rank=2)\n",
    "\n",
    "# kern = GPy.util.multioutput.LCM(input_dim=1,num_outputs=2,kernels_list=[GPy.kern.Matern32(1) for i in range(2)])\n",
    "\n",
    "m = GPy.models.GPCoregionalizedRegression([x1,x2],[y1,y2],kernel=kern)\n",
    "m['.*Mat.*.var'].constrain_fixed(1.)\n",
    "\n",
    "# icm = GPy.util.multioutput.ICM(input_dim=1,num_outputs=2,kernel=GPy.kern.RBF(1))\n",
    "# m = GPy.models.GPCoregionalizedRegression([x1,x2],[y1,y2],kernel=icm)\n",
    "# m.kern.rbf.variance.constrain_fixed(1.)\n",
    "\n",
    "m.randomize()\n",
    "m.optimize()\n",
    "m"
   ]
  },
  {
   "cell_type": "code",
   "execution_count": null,
   "metadata": {
    "collapsed": false
   },
   "outputs": [],
   "source": [
    "# kern.ICM0.B.W"
   ]
  },
  {
   "cell_type": "code",
   "execution_count": null,
   "metadata": {
    "collapsed": false
   },
   "outputs": [],
   "source": [
    "# kern.ICM0.B.kappa"
   ]
  },
  {
   "cell_type": "code",
   "execution_count": null,
   "metadata": {
    "collapsed": false
   },
   "outputs": [],
   "source": [
    "# kern.ICM1.B.W"
   ]
  },
  {
   "cell_type": "code",
   "execution_count": null,
   "metadata": {
    "collapsed": false
   },
   "outputs": [],
   "source": [
    "# kern.ICM1.B.kappa"
   ]
  },
  {
   "cell_type": "code",
   "execution_count": null,
   "metadata": {
    "collapsed": false
   },
   "outputs": [],
   "source": [
    "# kern.B.W"
   ]
  },
  {
   "cell_type": "code",
   "execution_count": null,
   "metadata": {
    "collapsed": false
   },
   "outputs": [],
   "source": [
    "# icm.B.kappa"
   ]
  },
  {
   "cell_type": "code",
   "execution_count": null,
   "metadata": {
    "collapsed": false
   },
   "outputs": [],
   "source": [
    "kern.B.B[1,0]/np.sqrt(kern.B.B[0,0])/np.sqrt(kern.B.B[1,1])"
   ]
  },
  {
   "cell_type": "code",
   "execution_count": null,
   "metadata": {
    "collapsed": false
   },
   "outputs": [],
   "source": [
    "plt.figure(figsize=(8,4))\n",
    "\n",
    "xpred = np.hstack([np.linspace(x1.min(), x1.max())[:,None], [[0]]*50])\n",
    "\n",
    "plt.subplot(121)\n",
    "plt.title(\"$log_2($OD$)$\",fontsize=15,color='C0')\n",
    "plt.xlabel(\"time (h)\", fontsize=15)\n",
    "plotPrediction(xpred, m.predict_noiseless, norm['y1'])\n",
    "plt.scatter(reverseTransform(x1, *norm['time']), reverseTransform(y1[:,0],*norm['y1']),c='C0')\n",
    "\n",
    "plt.subplot(122)\n",
    "plt.title(\"$log_{10}($CFU$)$\",fontsize=15,color='C1')\n",
    "plt.xlabel(\"time (h)\", fontsize=15)\n",
    "xpred[:,1] = 1\n",
    "plotPrediction(xpred, m.predict_noiseless, norm['y2'],color='C1')\n",
    "plt.scatter(reverseTransform(x2, *norm['time']), reverseTransform(y2[:,0],*norm['y2']),c='C1')\n",
    "\n",
    "plt.savefig(\"figures/cfu-vs-od_gp.pdf\",bbox_inches='tight')"
   ]
  },
  {
   "cell_type": "code",
   "execution_count": null,
   "metadata": {
    "collapsed": false
   },
   "outputs": [],
   "source": [
    "plt.figure(figsize=(8,4))\n",
    "\n",
    "xpred = np.hstack([np.linspace(x1.min()*2.5, x1.max()*2.5)[:,None], [[0]]*50])\n",
    "\n",
    "plt.subplot(121)\n",
    "plt.title(\"$log_2($OD$)$\",fontsize=15,color='C0')\n",
    "plt.xlabel(\"time (h)\", fontsize=15)\n",
    "plotPrediction(xpred, m.predict_noiseless, norm['y1'])\n",
    "plt.scatter(reverseTransform(x1, *norm['time']), reverseTransform(y1[:,0],*norm['y1']),c='C0')\n",
    "\n",
    "plt.subplot(122)\n",
    "plt.title(\"$log_{10}($CFU$)$\",fontsize=15,color='C1')\n",
    "plt.xlabel(\"time (h)\", fontsize=15)\n",
    "xpred[:,1] = 1\n",
    "plotPrediction(xpred, m.predict_noiseless, norm['y2'],color='C1')\n",
    "plt.scatter(reverseTransform(x2, *norm['time']), reverseTransform(y2[:,0],*norm['y2']),c='C1')\n",
    "\n",
    "plt.savefig(\"figures/cfu-vs-od-long_gp.pdf\",bbox_inches='tight')"
   ]
  },
  {
   "cell_type": "code",
   "execution_count": null,
   "metadata": {
    "collapsed": false
   },
   "outputs": [],
   "source": [
    "plt.figure(figsize=(8,4))\n",
    "\n",
    "xpred = np.hstack([np.linspace(x1.min()*2.5, x1.max()*2.5)[:,None], [[0]]*50])\n",
    "\n",
    "plt.subplot(121)\n",
    "plt.title(\"$log_2($OD$)$\",fontsize=15,color='C0')\n",
    "plt.xlabel(\"time (h)\", fontsize=15)\n",
    "plotPrediction(xpred, m.predict, norm['y1'])\n",
    "plt.scatter(reverseTransform(x1, *norm['time']), reverseTransform(y1[:,0],*norm['y1']),c='C0')\n",
    "\n",
    "plt.subplot(122)\n",
    "plt.title(\"$log_{10}($CFU$)$\",fontsize=15,color='C1')\n",
    "plt.xlabel(\"time (h)\", fontsize=15)\n",
    "xpred[:,1] = 1\n",
    "plotPrediction(xpred, m.predict, norm['y2'],color='C1')\n",
    "plt.scatter(reverseTransform(x2, *norm['time']), reverseTransform(y2[:,0],*norm['y2']),c='C1')\n",
    "\n",
    "plt.savefig(\"figures/cfu-vs-od-obs-long_gp.pdf\",bbox_inches='tight')"
   ]
  },
  {
   "cell_type": "code",
   "execution_count": null,
   "metadata": {
    "collapsed": false
   },
   "outputs": [],
   "source": [
    "xpred = np.hstack([np.tile(np.linspace(x1.min(), x1.max()),2)[:,None], [[0]]*100])\n",
    "xpred[50:,1] = 1\n",
    "noise_dict = {'output_index':xpred[:,1:].astype(int)}\n",
    "mu, cov = m.predict_noiseless(xpred,Y_metadata=noise_dict,full_cov=True)\n",
    "mu = mu[:,0]\n",
    "\n",
    "# y = Bx + c\n",
    "B = np.zeros((100,100))\n",
    "B[range(100),range(100)] = [norm['y1'][1]]*50 + [norm['y2'][1]]*50\n",
    "\n",
    "c = np.zeros(100)\n",
    "c[:50] = norm['y1'][0]\n",
    "c[50:] = norm['y2'][0]\n",
    "\n",
    "mu = np.dot(B, mu) + c\n",
    "cov = np.dot(B, np.dot(cov, B.T))\n",
    "\n",
    "\n",
    "B = np.eye(100)\n",
    "# convert cfu to log2\n",
    "# B[range(50,100),range(50,100)] = 1./np.log10(2)\n",
    "# ..or convert OD to log10\n",
    "B[range(50),range(50)] = 1./np.log2(10)\n",
    "\n",
    "mu = np.dot(B, mu)\n",
    "cov = np.dot(B, np.dot(cov, B.T))\n",
    "\n",
    "# compute diff\n",
    "B = np.zeros((50,100))\n",
    "B[range(50),range(50)] = -1.\n",
    "B[range(50),range(50,100)] = 1.\n",
    "\n",
    "mu = np.dot(B, mu)\n",
    "cov = np.dot(B, np.dot(cov, B.T))\n",
    "std = np.sqrt(np.diag(cov))\n",
    "\n",
    "plt.figure(figsize=(4,4))\n",
    "\n",
    "plt.plot(reverseTransform(xpred[:50,0],*norm['time']), mu, color='C4')\n",
    "plt.fill_between(reverseTransform(xpred[:50,0],*norm['time']), mu-1.98*std, mu+1.98*std,alpha=.4, color='C4')\n",
    "\n",
    "plt.title(\"$log_{10}($CFU/OD$)$\",fontsize=15)\n",
    "plt.xlabel(\"time (h)\", fontsize=15)\n",
    "\n",
    "plt.savefig(\"figures/cfu-vs-od_gp-ratio.pdf\",bbox_inches='tight')"
   ]
  },
  {
   "cell_type": "code",
   "execution_count": null,
   "metadata": {
    "collapsed": false
   },
   "outputs": [],
   "source": [
    "K = GPy.kern.Matern32(1)\n",
    "\n",
    "m1 = GPy.models.GPRegression(x1,y1,kernel=K.copy())\n",
    "m1.optimize()\n",
    "m2 = GPy.models.GPRegression(x2,y2,kernel=K.copy())\n",
    "m2.optimize()"
   ]
  },
  {
   "cell_type": "code",
   "execution_count": null,
   "metadata": {
    "collapsed": false
   },
   "outputs": [],
   "source": [
    "plt.figure(figsize=(8,4))\n",
    "\n",
    "xpred = np.hstack([np.linspace(x1.min(), x1.max())[:,None], [[0]]*50])\n",
    "\n",
    "plt.subplot(121)\n",
    "plt.title(\"$log_2($OD$)$\",fontsize=15,color='C0')\n",
    "plt.xlabel(\"time (h)\", fontsize=15)\n",
    "plotPrediction(xpred, m1.predict_noiseless, norm['y1'])\n",
    "plt.scatter(reverseTransform(x1, *norm['time']), reverseTransform(y1[:,0],*norm['y1']),c='C0')\n",
    "\n",
    "plt.subplot(122)\n",
    "plt.title(\"$log_{10}($CFU$)$\",fontsize=15,color='C1')\n",
    "plt.xlabel(\"time (h)\", fontsize=15)\n",
    "xpred[:,1] = 1\n",
    "plotPrediction(xpred, m2.predict_noiseless, norm['y2'],color='C1')\n",
    "plt.scatter(reverseTransform(x2, *norm['time']), reverseTransform(y2[:,0],*norm['y2']),c='C1')\n",
    "plt.ylim(6.1, 9.5)\n",
    "\n",
    "plt.savefig(\"figures/cfu-vs-od_gp-null.pdf\")"
   ]
  },
  {
   "cell_type": "code",
   "execution_count": null,
   "metadata": {
    "collapsed": false
   },
   "outputs": [],
   "source": [
    "plt.figure(figsize=(8,4))\n",
    "\n",
    "xpred = np.hstack([np.linspace(x1.min()*2.5, x1.max()*2.5)[:,None], [[0]]*50])\n",
    "\n",
    "plt.subplot(121)\n",
    "plt.title(\"$log_2($OD$)$\",fontsize=15,color='C0')\n",
    "plt.xlabel(\"time (h)\", fontsize=15)\n",
    "plotPrediction(xpred, m1.predict_noiseless, norm['y1'])\n",
    "plt.scatter(reverseTransform(x1, *norm['time']), reverseTransform(y1[:,0],*norm['y1']),c='C0')\n",
    "\n",
    "plt.subplot(122)\n",
    "plt.title(\"$log_{10}($CFU$)$\",fontsize=15,color='C1')\n",
    "plt.xlabel(\"time (h)\", fontsize=15)\n",
    "xpred[:,1] = 1\n",
    "plotPrediction(xpred, m2.predict_noiseless, norm['y2'],color='C1')\n",
    "plt.scatter(reverseTransform(x2, *norm['time']), reverseTransform(y2[:,0],*norm['y2']),c='C1')\n",
    "plt.ylim(6.1, 9.5)\n",
    "\n",
    "plt.savefig(\"figures/cfu-vs-od-long_gp-null.pdf\",bbox_inches='tight')"
   ]
  },
  {
   "cell_type": "markdown",
   "metadata": {
    "collapsed": true
   },
   "source": [
    "# Add a second dataset "
   ]
  },
  {
   "cell_type": "code",
   "execution_count": null,
   "metadata": {
    "collapsed": false
   },
   "outputs": [],
   "source": [
    "ds2 = machine.search('ura3-replicate', Strain = 'ura3', Bio='A', **{'mM_PQ':[0.0]})\n",
    "print ds2"
   ]
  },
  {
   "cell_type": "code",
   "execution_count": null,
   "metadata": {
    "collapsed": false
   },
   "outputs": [],
   "source": [
    "melt2 = ds2.melt()\n",
    "melt2['logOD'] = np.log2(melt2.od)\n",
    "melt2['normtime'] = (melt2.time-norm['time'][0])/norm['time'][1]\n",
    "\n",
    "# melt2 = melt2.iloc[::10,:]"
   ]
  },
  {
   "cell_type": "code",
   "execution_count": null,
   "metadata": {
    "collapsed": false
   },
   "outputs": [],
   "source": [
    "plt.figure(figsize=(8,4))\n",
    "\n",
    "plt.subplot(121)\n",
    "plt.scatter(merge.time, merge.logOD,c='C0')\n",
    "plt.ylabel(\"$log_2($OD$)$\",fontsize=15,color='C0')\n",
    "plt.yticks(color='C0')\n",
    "plt.xticks(fontsize=12)\n",
    "plt.xlabel(\"time (h)\", fontsize=15)\n",
    "\n",
    "plt.scatter(melt2.time, melt2.logOD,c='C2')\n",
    "\n",
    "plt.twinx()\n",
    "plt.scatter(merge.time, merge.logCFU,c='C1')\n",
    "plt.ylabel(\"$log_{10}($CFU$)$\",fontsize=15,color='C1')\n",
    "plt.yticks(color='C1')\n",
    "\n",
    "# plt.subplot(122)\n",
    "# plt.scatter(melt2.time, melt2.logOD,c='C2')\n",
    "\n",
    "plt.tight_layout()\n",
    "\n",
    "# plt.savefig(\"figures/cfu-vs-od.pdf\",bbox_inches='tight')"
   ]
  },
  {
   "cell_type": "code",
   "execution_count": null,
   "metadata": {
    "collapsed": true
   },
   "outputs": [],
   "source": [
    "y11 = merge.od.values\n",
    "y12 = melt2.od.values\n",
    "\n",
    "y12 = 2.499*y12 - 0.2155\n",
    "\n",
    "y11 = np.log2(y11)\n",
    "y12 = np.log2(y12)\n",
    "\n",
    "x11 = merge.time.values\n",
    "x12 = melt2.time.values + 20\n",
    "\n",
    "x1 = np.zeros((x11.shape[0] + x12.shape[0], 2))\n",
    "x1[:x11.shape[0],0] = x11\n",
    "x1[x11.shape[0]:,0] = x12\n",
    "x1[x11.shape[0]:,1] = 1\n",
    "\n",
    "y1 = np.concatenate((y11, y12))[:,None]\n",
    "\n",
    "x2 = np.zeros((sum(~merge.logCFU.isnull()), 2))\n",
    "x2[:,0] = merge.time.values[~merge.logCFU.isnull()]\n",
    "\n",
    "# x2 = merge.time.values[~merge.logCFU.isnull(),None]\n",
    "y2 = merge.logCFU.values[~merge.logCFU.isnull(),None]"
   ]
  },
  {
   "cell_type": "code",
   "execution_count": null,
   "metadata": {
    "collapsed": false
   },
   "outputs": [],
   "source": [
    "plt.scatter(x11, y11)\n",
    "plt.scatter(x12, y12, c=\"C2\")\n",
    "\n",
    "plt.twinx()\n",
    "plt.scatter(x2[:,0],y2,c='C1')"
   ]
  },
  {
   "cell_type": "code",
   "execution_count": null,
   "metadata": {
    "collapsed": true
   },
   "outputs": [],
   "source": [
    "norm = {'y1': (y1.mean(), y1.std()),\\\n",
    "        'y2': (y2.mean(), y2.std()),\\\n",
    "        'time': (x1[:,0].mean(), x1[:,0].std())}\n",
    "\n",
    "y1 = (y1-y1.mean())/y1.std()\n",
    "y2 = (y2-y2.mean())/y2.std()\n",
    "x2[:,0] = (x2[:,0]-x1[:,0].mean())/x1[:,0].std()\n",
    "x1[:,0] = (x1[:,0]-x1[:,0].mean())/x1[:,0].std()"
   ]
  },
  {
   "cell_type": "code",
   "execution_count": null,
   "metadata": {
    "collapsed": false,
    "scrolled": true
   },
   "outputs": [],
   "source": [
    "plt.scatter(x1[:,0], y1)\n",
    "plt.scatter(x2[:,0], y2)"
   ]
  },
  {
   "cell_type": "code",
   "execution_count": null,
   "metadata": {
    "collapsed": false
   },
   "outputs": [],
   "source": [
    "x1.shape, y1.shape, x2.shape, y2.shape"
   ]
  },
  {
   "cell_type": "code",
   "execution_count": null,
   "metadata": {
    "collapsed": false
   },
   "outputs": [],
   "source": [
    "# K = GPy.kern.Hierarchical([GPy.kern.Matern32(1), GPy.kern.Matern32(1)])\n",
    "K = GPy.kern.Matern32(2)\n",
    "# K = GPy.kern.RBF(2)\n",
    "\n",
    "kern = GPy.util.multioutput.ICM(input_dim=2,num_outputs=2,kernel=K,W_rank=2)\n",
    "\n",
    "m = GPy.models.GPCoregionalizedRegression([x1,x2],[y1,y2],kernel=kern)\n",
    "# m['.*Mat.*.var'].constrain_fixed(1.)\n",
    "# m['.*rbf.*.var'].constrain_fixed(1.)\n",
    "\n",
    "m.randomize()\n",
    "m.optimize()\n",
    "m"
   ]
  },
  {
   "cell_type": "code",
   "execution_count": null,
   "metadata": {
    "collapsed": false
   },
   "outputs": [],
   "source": [
    "plt.figure(figsize=(12,6))\n",
    "plt.subplot(121)\n",
    "\n",
    "xpred = np.hstack([np.linspace(1.5*x1[:,0].min(), x1[:,0].max()*2)[:,None], [[0]]*50, [[0]]*50])\n",
    "plotPrediction(xpred, m.predict_noiseless, norm['y1'])\n",
    "plt.scatter(x11, y11, color='C0')\n",
    "\n",
    "xpred = np.hstack([np.linspace(1.5*x1[:,0].min(), x1[:,0].max()*2)[:,None], [[1]]*50, [[0]]*50])\n",
    "plotPrediction(xpred, m.predict_noiseless, norm['y1'],color='C2')\n",
    "plt.scatter(x12, y12, color='C2',s=10,alpha=.6)\n",
    "\n",
    "plt.title(\"$log_2($OD$)$\",fontsize=15)\n",
    "plt.yticks(fontsize=12)\n",
    "plt.xticks(fontsize=12)\n",
    "plt.xlabel(\"time (h)\", fontsize=15)\n",
    "\n",
    "plt.subplot(122)\n",
    "xpred = np.hstack([np.linspace(1.5*x1[:,0].min(), x1[:,0].max()*2)[:,None], [[0]]*50, [[1]]*50])\n",
    "plotPrediction(xpred, m.predict_noiseless, norm['y2'],color='C1')\n",
    "plt.scatter(reverseTransform(x2[:,0],*norm['time']), reverseTransform(y2,*norm['y2']), color='C1')\n",
    "\n",
    "xpred = np.hstack([np.linspace(1.5*x1[:,0].min(), x1[:,0].max()*2)[:,None], [[1]]*50, [[1]]*50])\n",
    "plotPrediction(xpred, m.predict_noiseless, norm['y2'],color='C4')\n",
    "\n",
    "plt.title(\"$log_{10}($CFU$)$\",fontsize=15)\n",
    "plt.yticks(fontsize=12)\n",
    "plt.xticks(fontsize=12)\n",
    "plt.xlabel(\"time (h)\", fontsize=15)\n",
    "\n",
    "plt.savefig(\"figures/cfu-vs-od_gp-extradata.pdf\",bbox_inches='tight')"
   ]
  },
  {
   "cell_type": "code",
   "execution_count": null,
   "metadata": {
    "collapsed": false
   },
   "outputs": [],
   "source": [
    "ds2 = machine.search('ura3-replicate', Strain = 'ura3', Bio='A', **{'mM_PQ':[0.0,1.333]})\n",
    "print ds2"
   ]
  },
  {
   "cell_type": "markdown",
   "metadata": {},
   "source": [
    "## And second condition"
   ]
  },
  {
   "cell_type": "code",
   "execution_count": null,
   "metadata": {
    "collapsed": false
   },
   "outputs": [],
   "source": [
    "melt2 = ds2.melt()\n",
    "melt2['logOD'] = np.log2(melt2.od)\n",
    "melt2['normtime'] = (melt2.time-norm['time'][0])/norm['time'][1]\n",
    "\n",
    "# melt2 = melt2.iloc[::5,:]"
   ]
  },
  {
   "cell_type": "code",
   "execution_count": null,
   "metadata": {
    "collapsed": false
   },
   "outputs": [],
   "source": [
    "plt.figure(figsize=(8,4))\n",
    "\n",
    "plt.subplot(121)\n",
    "plt.scatter(merge.time, merge.logOD,c='C0')\n",
    "plt.ylabel(\"$log_2($OD$)$\",fontsize=15,color='C0')\n",
    "plt.yticks(color='C0')\n",
    "plt.xticks(fontsize=12)\n",
    "plt.xlabel(\"time (h)\", fontsize=15)\n",
    "\n",
    "plt.scatter(melt2.time, melt2.logOD,c='C2')\n",
    "\n",
    "plt.twinx()\n",
    "plt.scatter(merge.time, merge.logCFU,c='C1')\n",
    "plt.ylabel(\"$log_{10}($CFU$)$\",fontsize=15,color='C1')\n",
    "plt.yticks(color='C1')\n",
    "\n",
    "# plt.subplot(122)\n",
    "# plt.scatter(melt2.time, melt2.logOD,c='C2')\n",
    "\n",
    "plt.tight_layout()\n",
    "\n",
    "# plt.savefig(\"figures/cfu-vs-od.pdf\",bbox_inches='tight')"
   ]
  },
  {
   "cell_type": "code",
   "execution_count": null,
   "metadata": {
    "collapsed": false
   },
   "outputs": [],
   "source": [
    "y11 = merge.od.values\n",
    "y12 = melt2.od.values\n",
    "\n",
    "y12 = 2.499*y12 - 0.2155\n",
    "\n",
    "y11 = np.log2(y11)\n",
    "y12 = np.log2(y12)\n",
    "\n",
    "x11 = merge.time.values\n",
    "x12 = melt2.time.values + 20\n",
    "\n",
    "x1 = np.zeros((x11.shape[0] + x12.shape[0], 3))\n",
    "x1[:x11.shape[0],0] = x11\n",
    "x1[x11.shape[0]:,0] = x12\n",
    "\n",
    "select = np.where(np.abs(melt2.mM_PQ.astype(float))>1e-9)[0]\n",
    "x1[x11.shape[0]+select,1] = 1\n",
    "x1[x11.shape[0]:,2] = 1\n",
    "\n",
    "y1 = np.concatenate((y11, y12))[:,None]\n",
    "\n",
    "x2 = np.zeros((sum(~merge.logCFU.isnull()), 3))\n",
    "x2[:,0] = merge.time.values[~merge.logCFU.isnull()]\n",
    "\n",
    "# x2 = merge.time.values[~merge.logCFU.isnull(),None]\n",
    "y2 = merge.logCFU.values[~merge.logCFU.isnull(),None]"
   ]
  },
  {
   "cell_type": "code",
   "execution_count": null,
   "metadata": {
    "collapsed": false
   },
   "outputs": [],
   "source": [
    "plt.scatter(x11, y11)\n",
    "plt.scatter(x12, y12, c=\"C2\")\n",
    "\n",
    "plt.twinx()\n",
    "plt.scatter(x2[:,0],y2,c='C1')"
   ]
  },
  {
   "cell_type": "code",
   "execution_count": null,
   "metadata": {
    "collapsed": true
   },
   "outputs": [],
   "source": [
    "norm = {'y1': (y1.mean(), y1.std()),\\\n",
    "        'y2': (y2.mean(), y2.std()),\\\n",
    "        'time': (x1[:,0].mean(), x1[:,0].std())}\n",
    "\n",
    "y1 = (y1-y1.mean())/y1.std()\n",
    "y2 = (y2-y2.mean())/y2.std()\n",
    "x2[:,0] = (x2[:,0]-x1[:,0].mean())/x1[:,0].std()\n",
    "x1[:,0] = (x1[:,0]-x1[:,0].mean())/x1[:,0].std()"
   ]
  },
  {
   "cell_type": "code",
   "execution_count": null,
   "metadata": {
    "collapsed": false,
    "scrolled": true
   },
   "outputs": [],
   "source": [
    "plt.scatter(x1[:,0], y1)\n",
    "plt.scatter(x2[:,0], y2)"
   ]
  },
  {
   "cell_type": "code",
   "execution_count": null,
   "metadata": {
    "collapsed": false
   },
   "outputs": [],
   "source": [
    "x1.shape, y1.shape, x2.shape, y2.shape"
   ]
  },
  {
   "cell_type": "code",
   "execution_count": null,
   "metadata": {
    "collapsed": false
   },
   "outputs": [],
   "source": [
    "# K = GPy.kern.Hierarchical([GPy.kern.Matern32(1), GPy.kern.Matern32(1)])\n",
    "K = GPy.kern.Matern32(3)\n",
    "# K = GPy.kern.RBF(2)\n",
    "\n",
    "kern = GPy.util.multioutput.ICM(input_dim=3,num_outputs=2,kernel=K,W_rank=2)\n",
    "\n",
    "m = GPy.models.GPCoregionalizedRegression([x1,x2],[y1,y2],kernel=kern)\n",
    "# m['.*Mat.*.var'].constrain_fixed(1.)\n",
    "# m['.*rbf.*.var'].constrain_fixed(1.)\n",
    "\n",
    "m.randomize()\n",
    "m.optimize()\n",
    "m"
   ]
  },
  {
   "cell_type": "code",
   "execution_count": null,
   "metadata": {
    "collapsed": false
   },
   "outputs": [],
   "source": [
    "plt.figure(figsize=(12,4))\n",
    "plt.subplot(121)\n",
    "\n",
    "xpred = np.hstack([np.linspace(1.5*x1[:,0].min(), x1[:,0].max()*2)[:,None], [[0]]*50, [[0]]*50, [[0]]*50])\n",
    "plotPrediction(xpred, m.predict_noiseless, norm['y1'])\n",
    "plt.scatter(x11, y11, color='C0')\n",
    "\n",
    "xpred = np.hstack([np.linspace(1.5*x1[:,0].min(), x1[:,0].max()*2)[:,None], [[0]]*50, [[1]]*50, [[0]]*50])\n",
    "plotPrediction(xpred, m.predict_noiseless, norm['y1'],color='C2')\n",
    "plt.scatter(x12[melt2.mM_PQ.astype(float)==0.0], y12[melt2.mM_PQ.astype(float)==0.0], color='C2',s=10,alpha=.6)\n",
    "\n",
    "xpred = np.hstack([np.linspace(1.5*x1[:,0].min(), x1[:,0].max()*2)[:,None], [[1]]*50, [[1]]*50, [[0]]*50])\n",
    "plotPrediction(xpred, m.predict_noiseless, norm['y1'],color='C9')\n",
    "plt.scatter(x12[melt2.mM_PQ.astype(float)!=0.0], y12[melt2.mM_PQ.astype(float)!=0.0], color='C9',s=10,alpha=.6)\n",
    "\n",
    "plt.title(\"$log_2($OD$)$\",fontsize=15)\n",
    "plt.yticks(fontsize=12)\n",
    "plt.xticks(fontsize=12)\n",
    "plt.xlabel(\"time (h)\", fontsize=15)\n",
    "\n",
    "plt.subplot(122)\n",
    "xpred = np.hstack([np.linspace(1.5*x1[:,0].min(), x1[:,0].max()*2)[:,None], [[0]]*50, [[0]]*50, [[1]]*50])\n",
    "plotPrediction(xpred, m.predict_noiseless, norm['y2'],color='C1')\n",
    "plt.scatter(reverseTransform(x2[:,0],*norm['time']), reverseTransform(y2,*norm['y2']), color='C1')\n",
    "\n",
    "xpred = np.hstack([np.linspace(1.5*x1[:,0].min(), x1[:,0].max()*2)[:,None], [[0]]*50, [[1]]*50, [[1]]*50])\n",
    "plotPrediction(xpred, m.predict_noiseless, norm['y2'],color='C4')\n",
    "\n",
    "xpred = np.hstack([np.linspace(1.5*x1[:,0].min(), x1[:,0].max()*2)[:,None], [[1]]*50, [[1]]*50, [[1]]*50])\n",
    "plotPrediction(xpred, m.predict_noiseless, norm['y2'],color='C9')\n",
    "\n",
    "plt.title(\"$log_{10}($CFU$)$\",fontsize=15)\n",
    "plt.yticks(fontsize=12)\n",
    "plt.xticks(fontsize=12)\n",
    "plt.xlabel(\"time (h)\", fontsize=15)\n",
    "\n",
    "plt.savefig(\"figures/cfu-vs-od_gp-extradata-extracondition.pdf\",bbox_inches='tight')"
   ]
  },
  {
   "cell_type": "markdown",
   "metadata": {},
   "source": [
    "## Treat as third function "
   ]
  },
  {
   "cell_type": "markdown",
   "metadata": {},
   "source": [
    "### no transform "
   ]
  },
  {
   "cell_type": "code",
   "execution_count": null,
   "metadata": {
    "collapsed": false
   },
   "outputs": [],
   "source": [
    "ds2 = machine.search('ura3-replicate', Strain = 'ura3', Bio='A', **{'mM_PQ':[0.0]})\n",
    "\n",
    "melt2 = ds2.melt()\n",
    "melt2['logOD'] = np.log2(melt2.od)\n",
    "melt2['normtime'] = (melt2.time-melt2.time.mean())/melt2.time.std()"
   ]
  },
  {
   "cell_type": "code",
   "execution_count": null,
   "metadata": {
    "collapsed": false
   },
   "outputs": [],
   "source": [
    "plt.scatter(merge.time, merge.logOD)\n",
    "plt.scatter(melt2.time+20, melt2.logOD, c=\"C2\")\n",
    "\n",
    "plt.ylabel(\"$log_2($OD$)$\",fontsize=15,color='C0')\n",
    "plt.yticks(color='C0')\n",
    "plt.xticks(fontsize=12)\n",
    "plt.xlabel(\"time (h)\", fontsize=15)\n",
    "\n",
    "\n",
    "plt.twinx()\n",
    "plt.scatter(merge.time,merge.logCFU,c='C1')\n",
    "\n",
    "plt.ylabel(\"$log_{10}($CFU$)$\",fontsize=15,color='C1')\n",
    "plt.yticks(color='C1')\n",
    "\n",
    "plt.savefig(\"figures/cfu-vs-od-flask&bioscreen.pdf\",bbox_inches='tight')"
   ]
  },
  {
   "cell_type": "code",
   "execution_count": null,
   "metadata": {
    "collapsed": false
   },
   "outputs": [],
   "source": [
    "plt.scatter(merge.time, merge.logOD)\n",
    "plt.scatter(melt2.time+20, np.log2(melt2.od*2.499 - 0.2155), c=\"C2\")\n",
    "\n",
    "plt.ylabel(\"$log_2($OD$)$\",fontsize=15,color='C0')\n",
    "plt.yticks(color='C0')\n",
    "plt.xticks(fontsize=12)\n",
    "plt.xlabel(\"time (h)\", fontsize=15)\n",
    "\n",
    "\n",
    "plt.twinx()\n",
    "plt.scatter(merge.time,merge.logCFU,c='C1')\n",
    "\n",
    "plt.ylabel(\"$log_{10}($CFU$)$\",fontsize=15,color='C1')\n",
    "plt.yticks(color='C1')\n",
    "\n",
    "plt.savefig(\"figures/cfu-vs-od-flask&bioscreen-transformed.pdf\",bbox_inches='tight')"
   ]
  },
  {
   "cell_type": "code",
   "execution_count": null,
   "metadata": {
    "collapsed": false
   },
   "outputs": [],
   "source": [
    "x1 = merge.time.values[:,None]\n",
    "y1 = merge.logOD.values[:,None]\n",
    "\n",
    "x2 = merge.time.values[~merge.logCFU.isnull(),None]\n",
    "y2 = merge.logCFU.values[~merge.logCFU.isnull(),None]\n",
    "# x2 = merge.normtime.values[:,None]\n",
    "# y2 = merge.logCFU.values[:,None]\n",
    "\n",
    "x3 = (melt2.time.values+20)[:,None]\n",
    "y3 = melt2.od.values\n",
    "# y3 = 2.499*y3 - 0.2155\n",
    "y3 = np.log2(y3)[:,None]\n",
    "\n",
    "norm = {'y1': (y1.mean(), y1.std()),\\\n",
    "        'y2': (y2.mean(), y2.std()),\\\n",
    "        'y3': (y3.mean(), y3.std()),\\\n",
    "        'time': (merge.time.mean(), merge.time.std())}\n",
    "\n",
    "y1 = (y1-y1.mean())/y1.std()\n",
    "y2 = (y2-y2.mean())/y2.std()\n",
    "y3 = (y3-y3.mean())/y3.std()\n",
    "\n",
    "x1 = transform(x1, *norm['time'])\n",
    "x2 = transform(x2, *norm['time'])\n",
    "x3 = transform(x3, *norm['time'])\n",
    "\n",
    "x1.shape, y1.shape, x2.shape, y2.shape, x3.shape, y3.shape"
   ]
  },
  {
   "cell_type": "code",
   "execution_count": null,
   "metadata": {
    "collapsed": false
   },
   "outputs": [],
   "source": [
    "plt.scatter(x1, y1)\n",
    "plt.scatter(x3, y3, c=\"C2\")\n",
    "\n",
    "plt.twinx()\n",
    "plt.scatter(x2[:,0],y2,c='C1')"
   ]
  },
  {
   "cell_type": "code",
   "execution_count": null,
   "metadata": {
    "collapsed": false
   },
   "outputs": [],
   "source": [
    "K = GPy.kern.Matern32(1)\n",
    "kern = GPy.util.multioutput.ICM(input_dim=1,num_outputs=3,kernel=K,W_rank=2)\n",
    "\n",
    "m = GPy.models.GPCoregionalizedRegression([x1,x2,x3],[y1,y2,y3],kernel=kern)\n",
    "m['.*Mat.*.var'].constrain_fixed(1.)\n",
    "# m['.*rbf.*.var'].constrain_fixed(1.)\n",
    "\n",
    "m.randomize()\n",
    "m.optimize()\n",
    "m"
   ]
  },
  {
   "cell_type": "code",
   "execution_count": null,
   "metadata": {
    "collapsed": false
   },
   "outputs": [],
   "source": [
    "plt.figure(figsize=(12,6))\n",
    "plt.subplot(121)\n",
    "\n",
    "xpred = np.hstack([np.linspace(1.5*x1[:,0].min(), x1[:,0].max()*2)[:,None], [[0]]*50])\n",
    "plotPrediction(xpred, m.predict_noiseless, (0,1))\n",
    "plt.scatter(reverseTransform(x1[:,0],*norm['time']), y1, color='C0')\n",
    "\n",
    "xpred = np.hstack([np.linspace(1.5*x1[:,0].min(), x1[:,0].max()*2)[:,None], [[2]]*50])\n",
    "plotPrediction(xpred, m.predict_noiseless, (0,1),color='C2')\n",
    "plt.scatter(reverseTransform(x3[:,0],*norm['time']), y3, color='C2',s=10,alpha=.6)\n",
    "\n",
    "plt.title(\"$log_2($OD$)$\",fontsize=15)\n",
    "plt.yticks(fontsize=12)\n",
    "plt.xticks(fontsize=12)\n",
    "plt.xlabel(\"time (h)\", fontsize=15)\n",
    "\n",
    "plt.subplot(122)\n",
    "xpred = np.hstack([np.linspace(1.5*x1[:,0].min(), x1[:,0].max()*2)[:,None], [[1]]*50])\n",
    "plotPrediction(xpred, m.predict_noiseless, (0,1),color='C1')\n",
    "plt.scatter(reverseTransform(x2[:,0],*norm['time']), y2, color='C1')\n",
    "\n",
    "plt.title(\"$log_{10}($CFU$)$\",fontsize=15)\n",
    "plt.yticks(fontsize=12)\n",
    "plt.xticks(fontsize=12)\n",
    "plt.xlabel(\"time (h)\", fontsize=15)\n",
    "\n",
    "# plt.savefig(\"figures/cfu-vs-od_gp-extradata.pdf\",bbox_inches='tight')"
   ]
  },
  {
   "cell_type": "code",
   "execution_count": null,
   "metadata": {
    "collapsed": false
   },
   "outputs": [],
   "source": [
    "plt.figure(figsize=(12,6))\n",
    "plt.subplot(121)\n",
    "\n",
    "xpred = np.hstack([np.linspace(1.5*x1[:,0].min(), x1[:,0].max()*2)[:,None], [[0]]*50])\n",
    "plotPrediction(xpred, m.predict_noiseless, norm['y1'])\n",
    "plt.scatter(reverseTransform(x1[:,0],*norm['time']), reverseTransform(y1,*norm['y1']), color='C0')\n",
    "\n",
    "xpred = np.hstack([np.linspace(1.5*x1[:,0].min(), x1[:,0].max()*2)[:,None], [[2]]*50])\n",
    "plotPrediction(xpred, m.predict_noiseless, norm['y3'],color='C2')\n",
    "plt.scatter(reverseTransform(x3[:,0],*norm['time']), reverseTransform(y3,*norm['y3']), color='C2',s=10,alpha=.6)\n",
    "\n",
    "plt.title(\"$log_2($OD$)$\",fontsize=15)\n",
    "plt.yticks(fontsize=12)\n",
    "plt.xticks(fontsize=12)\n",
    "plt.xlabel(\"time (h)\", fontsize=15)\n",
    "\n",
    "plt.subplot(122)\n",
    "xpred = np.hstack([np.linspace(1.5*x1[:,0].min(), x1[:,0].max()*2)[:,None], [[1]]*50])\n",
    "plotPrediction(xpred, m.predict_noiseless, norm['y2'],color='C1')\n",
    "plt.scatter(reverseTransform(x2[:,0],*norm['time']), reverseTransform(y2,*norm['y2']), color='C1')\n",
    "\n",
    "plt.title(\"$log_{10}($CFU$)$\",fontsize=15)\n",
    "plt.yticks(fontsize=12)\n",
    "plt.xticks(fontsize=12)\n",
    "plt.xlabel(\"time (h)\", fontsize=15)\n",
    "\n",
    "plt.savefig(\"figures/coregionalize-CFU-ODflask-ODbioscreen(no transform)-gp.pdf\",bbox_inches='tight')"
   ]
  },
  {
   "cell_type": "markdown",
   "metadata": {},
   "source": [
    "### with transform "
   ]
  },
  {
   "cell_type": "code",
   "execution_count": null,
   "metadata": {
    "collapsed": false
   },
   "outputs": [],
   "source": [
    "x1 = merge.time.values[:,None]\n",
    "y1 = merge.logOD.values[:,None]\n",
    "\n",
    "x2 = merge.time.values[~merge.logCFU.isnull(),None]\n",
    "y2 = merge.logCFU.values[~merge.logCFU.isnull(),None]\n",
    "# x2 = merge.normtime.values[:,None]\n",
    "# y2 = merge.logCFU.values[:,None]\n",
    "\n",
    "x3 = (melt2.time.values+20)[:,None]\n",
    "y3 = melt2.od.values\n",
    "y3 = 2.499*y3 - 0.2155\n",
    "y3 = np.log2(y3)[:,None]\n",
    "\n",
    "norm = {'y1': (y1.mean(), y1.std()),\\\n",
    "        'y2': (y2.mean(), y2.std()),\\\n",
    "        'y3': (y3.mean(), y3.std()),\\\n",
    "        'time': (merge.time.mean(), merge.time.std())}\n",
    "\n",
    "y1 = (y1-y1.mean())/y1.std()\n",
    "y2 = (y2-y2.mean())/y2.std()\n",
    "y3 = (y3-y3.mean())/y3.std()\n",
    "\n",
    "x1 = transform(x1, *norm['time'])\n",
    "x2 = transform(x2, *norm['time'])\n",
    "x3 = transform(x3, *norm['time'])\n",
    "\n",
    "x1.shape, y1.shape, x2.shape, y2.shape, x3.shape, y3.shape"
   ]
  },
  {
   "cell_type": "code",
   "execution_count": null,
   "metadata": {
    "collapsed": false
   },
   "outputs": [],
   "source": [
    "plt.scatter(x1, y1)\n",
    "plt.scatter(x3, y3, c=\"C2\")\n",
    "\n",
    "plt.twinx()\n",
    "plt.scatter(x2[:,0],y2,c='C1')"
   ]
  },
  {
   "cell_type": "code",
   "execution_count": null,
   "metadata": {
    "collapsed": false
   },
   "outputs": [],
   "source": [
    "K = GPy.kern.Matern32(1)\n",
    "kern = GPy.util.multioutput.ICM(input_dim=1,num_outputs=3,kernel=K,W_rank=2)\n",
    "\n",
    "m = GPy.models.GPCoregionalizedRegression([x1,x2,x3],[y1,y2,y3],kernel=kern)\n",
    "m['.*Mat.*.var'].constrain_fixed(1.)\n",
    "# m['.*rbf.*.var'].constrain_fixed(1.)\n",
    "\n",
    "m.randomize()\n",
    "m.optimize()\n",
    "m"
   ]
  },
  {
   "cell_type": "code",
   "execution_count": null,
   "metadata": {
    "collapsed": false
   },
   "outputs": [],
   "source": [
    "plt.figure(figsize=(12,6))\n",
    "plt.subplot(121)\n",
    "\n",
    "xpred = np.hstack([np.linspace(1.5*x1[:,0].min(), x1[:,0].max()*2)[:,None], [[0]]*50])\n",
    "plotPrediction(xpred, m.predict_noiseless, (0,1))\n",
    "plt.scatter(reverseTransform(x1[:,0],*norm['time']), y1, color='C0')\n",
    "\n",
    "xpred = np.hstack([np.linspace(1.5*x1[:,0].min(), x1[:,0].max()*2)[:,None], [[2]]*50])\n",
    "plotPrediction(xpred, m.predict_noiseless, (0,1),color='C2')\n",
    "plt.scatter(reverseTransform(x3[:,0],*norm['time']), y3, color='C2',s=10,alpha=.6)\n",
    "\n",
    "plt.title(\"$log_2($OD$)$\",fontsize=15)\n",
    "plt.yticks(fontsize=12)\n",
    "plt.xticks(fontsize=12)\n",
    "plt.xlabel(\"time (h)\", fontsize=15)\n",
    "\n",
    "plt.subplot(122)\n",
    "xpred = np.hstack([np.linspace(1.5*x1[:,0].min(), x1[:,0].max()*2)[:,None], [[1]]*50])\n",
    "plotPrediction(xpred, m.predict_noiseless, (0,1),color='C1')\n",
    "plt.scatter(reverseTransform(x2[:,0],*norm['time']), y2, color='C1')\n",
    "\n",
    "plt.title(\"$log_{10}($CFU$)$\",fontsize=15)\n",
    "plt.yticks(fontsize=12)\n",
    "plt.xticks(fontsize=12)\n",
    "plt.xlabel(\"time (h)\", fontsize=15)\n",
    "\n",
    "# plt.savefig(\"figures/cfu-vs-od_gp-extradata.pdf\",bbox_inches='tight')"
   ]
  },
  {
   "cell_type": "code",
   "execution_count": null,
   "metadata": {
    "collapsed": false
   },
   "outputs": [],
   "source": [
    "plt.figure(figsize=(12,6))\n",
    "plt.subplot(121)\n",
    "\n",
    "xpred = np.hstack([np.linspace(1.5*x1[:,0].min(), x1[:,0].max()*2)[:,None], [[0]]*50])\n",
    "plotPrediction(xpred, m.predict_noiseless, norm['y1'])\n",
    "plt.scatter(reverseTransform(x1[:,0],*norm['time']), reverseTransform(y1,*norm['y1']), color='C0')\n",
    "\n",
    "xpred = np.hstack([np.linspace(1.5*x1[:,0].min(), x1[:,0].max()*2)[:,None], [[2]]*50])\n",
    "plotPrediction(xpred, m.predict_noiseless, norm['y3'],color='C2')\n",
    "plt.scatter(reverseTransform(x3[:,0],*norm['time']), reverseTransform(y3,*norm['y3']), color='C2',s=10,alpha=.6)\n",
    "\n",
    "plt.title(\"$log_2($OD$)$\",fontsize=15)\n",
    "plt.yticks(fontsize=12)\n",
    "plt.xticks(fontsize=12)\n",
    "plt.xlabel(\"time (h)\", fontsize=15)\n",
    "\n",
    "plt.subplot(122)\n",
    "xpred = np.hstack([np.linspace(1.5*x1[:,0].min(), x1[:,0].max()*2)[:,None], [[1]]*50])\n",
    "plotPrediction(xpred, m.predict_noiseless, norm['y2'],color='C1')\n",
    "plt.scatter(reverseTransform(x2[:,0],*norm['time']), reverseTransform(y2,*norm['y2']), color='C1')\n",
    "\n",
    "plt.title(\"$log_{10}($CFU$)$\",fontsize=15)\n",
    "plt.yticks(fontsize=12)\n",
    "plt.xticks(fontsize=12)\n",
    "plt.xlabel(\"time (h)\", fontsize=15)\n",
    "\n",
    "plt.savefig(\"figures/coregionalize-CFU-ODflask-ODbioscreen(with transform)-gp.pdf\",bbox_inches='tight')"
   ]
  },
  {
   "cell_type": "code",
   "execution_count": null,
   "metadata": {
    "collapsed": true
   },
   "outputs": [],
   "source": []
  },
  {
   "cell_type": "markdown",
   "metadata": {},
   "source": [
    "### Add second condition"
   ]
  },
  {
   "cell_type": "code",
   "execution_count": null,
   "metadata": {
    "collapsed": true
   },
   "outputs": [],
   "source": []
  }
 ],
 "metadata": {
  "kernelspec": {
   "display_name": "Python 2",
   "language": "python",
   "name": "python2"
  },
  "language_info": {
   "codemirror_mode": {
    "name": "ipython",
    "version": 2
   },
   "file_extension": ".py",
   "mimetype": "text/x-python",
   "name": "python",
   "nbconvert_exporter": "python",
   "pygments_lexer": "ipython2",
   "version": "2.7.6"
  }
 },
 "nbformat": 4,
 "nbformat_minor": 1
}