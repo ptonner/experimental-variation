{
 "cells": [
  {
   "cell_type": "code",
   "execution_count": null,
   "metadata": {
    "collapsed": true
   },
   "outputs": [],
   "source": []
  },
  {
   "cell_type": "code",
   "execution_count": 1,
   "metadata": {
    "collapsed": false
   },
   "outputs": [
    {
     "name": "stdout",
     "output_type": "stream",
     "text": [
      "Using matplotlib backend: TkAgg\n",
      "Populating the interactive namespace from numpy and matplotlib\n"
     ]
    }
   ],
   "source": [
    "%pylab"
   ]
  },
  {
   "cell_type": "code",
   "execution_count": 2,
   "metadata": {
    "collapsed": true
   },
   "outputs": [],
   "source": [
    "%matplotlib inline"
   ]
  },
  {
   "cell_type": "code",
   "execution_count": 3,
   "metadata": {
    "collapsed": true
   },
   "outputs": [],
   "source": [
    "import pandas as pd\n",
    "import GPy, patsy, scipy"
   ]
  },
  {
   "cell_type": "code",
   "execution_count": 4,
   "metadata": {
    "collapsed": false
   },
   "outputs": [
    {
     "data": {
      "text/html": [
       "<div>\n",
       "<table border=\"1\" class=\"dataframe\">\n",
       "  <thead>\n",
       "    <tr style=\"text-align: right;\">\n",
       "      <th></th>\n",
       "      <th>strain</th>\n",
       "      <th>0</th>\n",
       "      <th>17</th>\n",
       "      <th>22</th>\n",
       "      <th>25</th>\n",
       "      <th>31</th>\n",
       "      <th>38</th>\n",
       "      <th>44</th>\n",
       "      <th>47</th>\n",
       "      <th>50.5</th>\n",
       "      <th>64.5</th>\n",
       "      <th>94.5</th>\n",
       "    </tr>\n",
       "  </thead>\n",
       "  <tbody>\n",
       "    <tr>\n",
       "      <th>0</th>\n",
       "      <td>ura3_A</td>\n",
       "      <td>0.007</td>\n",
       "      <td>0.020</td>\n",
       "      <td>0.030</td>\n",
       "      <td>0.046</td>\n",
       "      <td>0.116</td>\n",
       "      <td>0.249</td>\n",
       "      <td>0.489</td>\n",
       "      <td>0.598</td>\n",
       "      <td>0.814</td>\n",
       "      <td>1.71</td>\n",
       "      <td>1.91</td>\n",
       "    </tr>\n",
       "    <tr>\n",
       "      <th>1</th>\n",
       "      <td>ura3_B</td>\n",
       "      <td>0.007</td>\n",
       "      <td>0.023</td>\n",
       "      <td>0.040</td>\n",
       "      <td>0.061</td>\n",
       "      <td>0.128</td>\n",
       "      <td>0.261</td>\n",
       "      <td>0.477</td>\n",
       "      <td>0.580</td>\n",
       "      <td>0.721</td>\n",
       "      <td>1.70</td>\n",
       "      <td>1.73</td>\n",
       "    </tr>\n",
       "    <tr>\n",
       "      <th>2</th>\n",
       "      <td>ura3_C</td>\n",
       "      <td>0.007</td>\n",
       "      <td>0.020</td>\n",
       "      <td>0.044</td>\n",
       "      <td>0.052</td>\n",
       "      <td>0.124</td>\n",
       "      <td>0.259</td>\n",
       "      <td>0.482</td>\n",
       "      <td>0.606</td>\n",
       "      <td>0.823</td>\n",
       "      <td>1.78</td>\n",
       "      <td>2.62</td>\n",
       "    </tr>\n",
       "    <tr>\n",
       "      <th>3</th>\n",
       "      <td>0195_A</td>\n",
       "      <td>0.006</td>\n",
       "      <td>0.012</td>\n",
       "      <td>0.022</td>\n",
       "      <td>0.033</td>\n",
       "      <td>0.079</td>\n",
       "      <td>0.172</td>\n",
       "      <td>0.354</td>\n",
       "      <td>0.455</td>\n",
       "      <td>0.620</td>\n",
       "      <td>1.52</td>\n",
       "      <td>2.11</td>\n",
       "    </tr>\n",
       "    <tr>\n",
       "      <th>4</th>\n",
       "      <td>0195_B</td>\n",
       "      <td>0.007</td>\n",
       "      <td>0.019</td>\n",
       "      <td>0.036</td>\n",
       "      <td>0.043</td>\n",
       "      <td>0.101</td>\n",
       "      <td>0.212</td>\n",
       "      <td>0.409</td>\n",
       "      <td>0.542</td>\n",
       "      <td>0.699</td>\n",
       "      <td>1.71</td>\n",
       "      <td>2.25</td>\n",
       "    </tr>\n",
       "    <tr>\n",
       "      <th>5</th>\n",
       "      <td>0195_C</td>\n",
       "      <td>0.010</td>\n",
       "      <td>0.017</td>\n",
       "      <td>0.027</td>\n",
       "      <td>0.037</td>\n",
       "      <td>0.095</td>\n",
       "      <td>0.212</td>\n",
       "      <td>0.407</td>\n",
       "      <td>0.549</td>\n",
       "      <td>0.731</td>\n",
       "      <td>1.71</td>\n",
       "      <td>2.30</td>\n",
       "    </tr>\n",
       "    <tr>\n",
       "      <th>6</th>\n",
       "      <td>0194_A</td>\n",
       "      <td>0.006</td>\n",
       "      <td>0.018</td>\n",
       "      <td>0.032</td>\n",
       "      <td>0.043</td>\n",
       "      <td>0.093</td>\n",
       "      <td>0.191</td>\n",
       "      <td>0.357</td>\n",
       "      <td>0.469</td>\n",
       "      <td>0.608</td>\n",
       "      <td>1.71</td>\n",
       "      <td>2.36</td>\n",
       "    </tr>\n",
       "    <tr>\n",
       "      <th>7</th>\n",
       "      <td>0194_B</td>\n",
       "      <td>0.007</td>\n",
       "      <td>0.039</td>\n",
       "      <td>0.069</td>\n",
       "      <td>0.108</td>\n",
       "      <td>0.233</td>\n",
       "      <td>0.468</td>\n",
       "      <td>0.761</td>\n",
       "      <td>0.980</td>\n",
       "      <td>1.190</td>\n",
       "      <td>1.62</td>\n",
       "      <td>1.84</td>\n",
       "    </tr>\n",
       "    <tr>\n",
       "      <th>8</th>\n",
       "      <td>0194_C</td>\n",
       "      <td>0.009</td>\n",
       "      <td>0.034</td>\n",
       "      <td>0.061</td>\n",
       "      <td>0.095</td>\n",
       "      <td>0.199</td>\n",
       "      <td>0.419</td>\n",
       "      <td>0.645</td>\n",
       "      <td>0.870</td>\n",
       "      <td>0.970</td>\n",
       "      <td>1.78</td>\n",
       "      <td>2.06</td>\n",
       "    </tr>\n",
       "    <tr>\n",
       "      <th>9</th>\n",
       "      <td>ftsZ2_A</td>\n",
       "      <td>0.008</td>\n",
       "      <td>0.019</td>\n",
       "      <td>0.030</td>\n",
       "      <td>0.049</td>\n",
       "      <td>0.119</td>\n",
       "      <td>0.244</td>\n",
       "      <td>0.469</td>\n",
       "      <td>0.568</td>\n",
       "      <td>0.742</td>\n",
       "      <td>1.40</td>\n",
       "      <td>2.17</td>\n",
       "    </tr>\n",
       "    <tr>\n",
       "      <th>10</th>\n",
       "      <td>ftsZ2_B</td>\n",
       "      <td>0.008</td>\n",
       "      <td>0.022</td>\n",
       "      <td>0.042</td>\n",
       "      <td>0.062</td>\n",
       "      <td>0.134</td>\n",
       "      <td>0.296</td>\n",
       "      <td>0.538</td>\n",
       "      <td>0.597</td>\n",
       "      <td>0.748</td>\n",
       "      <td>1.34</td>\n",
       "      <td>2.07</td>\n",
       "    </tr>\n",
       "    <tr>\n",
       "      <th>11</th>\n",
       "      <td>ftsZ2_C</td>\n",
       "      <td>0.006</td>\n",
       "      <td>0.021</td>\n",
       "      <td>0.038</td>\n",
       "      <td>0.058</td>\n",
       "      <td>0.138</td>\n",
       "      <td>0.275</td>\n",
       "      <td>0.617</td>\n",
       "      <td>0.620</td>\n",
       "      <td>0.783</td>\n",
       "      <td>1.43</td>\n",
       "      <td>1.91</td>\n",
       "    </tr>\n",
       "  </tbody>\n",
       "</table>\n",
       "</div>"
      ],
      "text/plain": [
       "     strain      0     17     22     25     31     38     44     47   50.5  \\\n",
       "0    ura3_A  0.007  0.020  0.030  0.046  0.116  0.249  0.489  0.598  0.814   \n",
       "1    ura3_B  0.007  0.023  0.040  0.061  0.128  0.261  0.477  0.580  0.721   \n",
       "2    ura3_C  0.007  0.020  0.044  0.052  0.124  0.259  0.482  0.606  0.823   \n",
       "3    0195_A  0.006  0.012  0.022  0.033  0.079  0.172  0.354  0.455  0.620   \n",
       "4    0195_B  0.007  0.019  0.036  0.043  0.101  0.212  0.409  0.542  0.699   \n",
       "5    0195_C  0.010  0.017  0.027  0.037  0.095  0.212  0.407  0.549  0.731   \n",
       "6    0194_A  0.006  0.018  0.032  0.043  0.093  0.191  0.357  0.469  0.608   \n",
       "7    0194_B  0.007  0.039  0.069  0.108  0.233  0.468  0.761  0.980  1.190   \n",
       "8    0194_C  0.009  0.034  0.061  0.095  0.199  0.419  0.645  0.870  0.970   \n",
       "9   ftsZ2_A  0.008  0.019  0.030  0.049  0.119  0.244  0.469  0.568  0.742   \n",
       "10  ftsZ2_B  0.008  0.022  0.042  0.062  0.134  0.296  0.538  0.597  0.748   \n",
       "11  ftsZ2_C  0.006  0.021  0.038  0.058  0.138  0.275  0.617  0.620  0.783   \n",
       "\n",
       "    64.5  94.5  \n",
       "0   1.71  1.91  \n",
       "1   1.70  1.73  \n",
       "2   1.78  2.62  \n",
       "3   1.52  2.11  \n",
       "4   1.71  2.25  \n",
       "5   1.71  2.30  \n",
       "6   1.71  2.36  \n",
       "7   1.62  1.84  \n",
       "8   1.78  2.06  \n",
       "9   1.40  2.17  \n",
       "10  1.34  2.07  \n",
       "11  1.43  1.91  "
      ]
     },
     "execution_count": 4,
     "metadata": {},
     "output_type": "execute_result"
    }
   ],
   "source": [
    "od = pd.read_excel(\"data/cfu-od-raw.xlsx\")\n",
    "od"
   ]
  },
  {
   "cell_type": "code",
   "execution_count": 5,
   "metadata": {
    "collapsed": false
   },
   "outputs": [
    {
     "data": {
      "text/html": [
       "<div>\n",
       "<table border=\"1\" class=\"dataframe\">\n",
       "  <thead>\n",
       "    <tr style=\"text-align: right;\">\n",
       "      <th></th>\n",
       "      <th>strain</th>\n",
       "      <th>time</th>\n",
       "      <th>OD600</th>\n",
       "    </tr>\n",
       "  </thead>\n",
       "  <tbody>\n",
       "    <tr>\n",
       "      <th>0</th>\n",
       "      <td>ura3_A</td>\n",
       "      <td>0</td>\n",
       "      <td>0.007</td>\n",
       "    </tr>\n",
       "    <tr>\n",
       "      <th>1</th>\n",
       "      <td>ura3_B</td>\n",
       "      <td>0</td>\n",
       "      <td>0.007</td>\n",
       "    </tr>\n",
       "    <tr>\n",
       "      <th>2</th>\n",
       "      <td>ura3_C</td>\n",
       "      <td>0</td>\n",
       "      <td>0.007</td>\n",
       "    </tr>\n",
       "    <tr>\n",
       "      <th>3</th>\n",
       "      <td>0195_A</td>\n",
       "      <td>0</td>\n",
       "      <td>0.006</td>\n",
       "    </tr>\n",
       "    <tr>\n",
       "      <th>4</th>\n",
       "      <td>0195_B</td>\n",
       "      <td>0</td>\n",
       "      <td>0.007</td>\n",
       "    </tr>\n",
       "  </tbody>\n",
       "</table>\n",
       "</div>"
      ],
      "text/plain": [
       "   strain time  OD600\n",
       "0  ura3_A    0  0.007\n",
       "1  ura3_B    0  0.007\n",
       "2  ura3_C    0  0.007\n",
       "3  0195_A    0  0.006\n",
       "4  0195_B    0  0.007"
      ]
     },
     "execution_count": 5,
     "metadata": {},
     "output_type": "execute_result"
    }
   ],
   "source": [
    "melt = pd.melt(od,id_vars=['strain'],var_name='time', value_name='OD600')\n",
    "melt.head()"
   ]
  },
  {
   "cell_type": "code",
   "execution_count": 6,
   "metadata": {
    "collapsed": false,
    "scrolled": true
   },
   "outputs": [
    {
     "data": {
      "text/html": [
       "<div>\n",
       "<table border=\"1\" class=\"dataframe\">\n",
       "  <thead>\n",
       "    <tr style=\"text-align: right;\">\n",
       "      <th></th>\n",
       "      <th>strain</th>\n",
       "      <th>OD600</th>\n",
       "      <th>CFUs/ml</th>\n",
       "    </tr>\n",
       "  </thead>\n",
       "  <tbody>\n",
       "    <tr>\n",
       "      <th>0</th>\n",
       "      <td>ura3_A</td>\n",
       "      <td>0.249</td>\n",
       "      <td>100000000</td>\n",
       "    </tr>\n",
       "    <tr>\n",
       "      <th>1</th>\n",
       "      <td>ura3_A</td>\n",
       "      <td>0.814</td>\n",
       "      <td>280000000</td>\n",
       "    </tr>\n",
       "    <tr>\n",
       "      <th>2</th>\n",
       "      <td>ura3_A</td>\n",
       "      <td>1.710</td>\n",
       "      <td>600000000</td>\n",
       "    </tr>\n",
       "    <tr>\n",
       "      <th>3</th>\n",
       "      <td>ura3_A</td>\n",
       "      <td>1.910</td>\n",
       "      <td>2000000000</td>\n",
       "    </tr>\n",
       "    <tr>\n",
       "      <th>4</th>\n",
       "      <td>ura3_B</td>\n",
       "      <td>0.261</td>\n",
       "      <td>80000000</td>\n",
       "    </tr>\n",
       "    <tr>\n",
       "      <th>5</th>\n",
       "      <td>ura3_B</td>\n",
       "      <td>0.721</td>\n",
       "      <td>400000000</td>\n",
       "    </tr>\n",
       "    <tr>\n",
       "      <th>6</th>\n",
       "      <td>ura3_B</td>\n",
       "      <td>1.700</td>\n",
       "      <td>800000000</td>\n",
       "    </tr>\n",
       "    <tr>\n",
       "      <th>7</th>\n",
       "      <td>ura3_B</td>\n",
       "      <td>1.730</td>\n",
       "      <td>320000000</td>\n",
       "    </tr>\n",
       "    <tr>\n",
       "      <th>8</th>\n",
       "      <td>ura3_C</td>\n",
       "      <td>0.259</td>\n",
       "      <td>120000000</td>\n",
       "    </tr>\n",
       "    <tr>\n",
       "      <th>9</th>\n",
       "      <td>ura3_C</td>\n",
       "      <td>0.823</td>\n",
       "      <td>400000000</td>\n",
       "    </tr>\n",
       "    <tr>\n",
       "      <th>10</th>\n",
       "      <td>ura3_C</td>\n",
       "      <td>1.780</td>\n",
       "      <td>400000000</td>\n",
       "    </tr>\n",
       "    <tr>\n",
       "      <th>11</th>\n",
       "      <td>ura3_C</td>\n",
       "      <td>2.620</td>\n",
       "      <td>400000000</td>\n",
       "    </tr>\n",
       "    <tr>\n",
       "      <th>12</th>\n",
       "      <td>0195_A</td>\n",
       "      <td>0.172</td>\n",
       "      <td>18000000</td>\n",
       "    </tr>\n",
       "    <tr>\n",
       "      <th>13</th>\n",
       "      <td>0195_A</td>\n",
       "      <td>0.620</td>\n",
       "      <td>60000000</td>\n",
       "    </tr>\n",
       "    <tr>\n",
       "      <th>14</th>\n",
       "      <td>0195_A</td>\n",
       "      <td>1.520</td>\n",
       "      <td>280000000</td>\n",
       "    </tr>\n",
       "    <tr>\n",
       "      <th>15</th>\n",
       "      <td>0195_A</td>\n",
       "      <td>2.110</td>\n",
       "      <td>260000000</td>\n",
       "    </tr>\n",
       "    <tr>\n",
       "      <th>16</th>\n",
       "      <td>0195_B</td>\n",
       "      <td>0.212</td>\n",
       "      <td>60000000</td>\n",
       "    </tr>\n",
       "    <tr>\n",
       "      <th>17</th>\n",
       "      <td>0195_B</td>\n",
       "      <td>0.699</td>\n",
       "      <td>140000000</td>\n",
       "    </tr>\n",
       "    <tr>\n",
       "      <th>18</th>\n",
       "      <td>0195_B</td>\n",
       "      <td>1.710</td>\n",
       "      <td>200000000</td>\n",
       "    </tr>\n",
       "    <tr>\n",
       "      <th>19</th>\n",
       "      <td>0195_B</td>\n",
       "      <td>2.250</td>\n",
       "      <td>360000000</td>\n",
       "    </tr>\n",
       "    <tr>\n",
       "      <th>20</th>\n",
       "      <td>0195_C</td>\n",
       "      <td>0.212</td>\n",
       "      <td>40000000</td>\n",
       "    </tr>\n",
       "    <tr>\n",
       "      <th>21</th>\n",
       "      <td>0195_C</td>\n",
       "      <td>0.731</td>\n",
       "      <td>60000000</td>\n",
       "    </tr>\n",
       "    <tr>\n",
       "      <th>22</th>\n",
       "      <td>0195_C</td>\n",
       "      <td>1.710</td>\n",
       "      <td>800000000</td>\n",
       "    </tr>\n",
       "    <tr>\n",
       "      <th>23</th>\n",
       "      <td>0195_C</td>\n",
       "      <td>2.300</td>\n",
       "      <td>400000000</td>\n",
       "    </tr>\n",
       "    <tr>\n",
       "      <th>24</th>\n",
       "      <td>0194_A</td>\n",
       "      <td>0.191</td>\n",
       "      <td>80000000</td>\n",
       "    </tr>\n",
       "    <tr>\n",
       "      <th>25</th>\n",
       "      <td>0194_A</td>\n",
       "      <td>0.608</td>\n",
       "      <td>200000000</td>\n",
       "    </tr>\n",
       "    <tr>\n",
       "      <th>26</th>\n",
       "      <td>0194_A</td>\n",
       "      <td>1.710</td>\n",
       "      <td>400000000</td>\n",
       "    </tr>\n",
       "    <tr>\n",
       "      <th>27</th>\n",
       "      <td>0194_A</td>\n",
       "      <td>2.360</td>\n",
       "      <td>600000000</td>\n",
       "    </tr>\n",
       "    <tr>\n",
       "      <th>28</th>\n",
       "      <td>0194_B</td>\n",
       "      <td>0.233</td>\n",
       "      <td>60000000</td>\n",
       "    </tr>\n",
       "    <tr>\n",
       "      <th>29</th>\n",
       "      <td>0194_B</td>\n",
       "      <td>0.761</td>\n",
       "      <td>120000000</td>\n",
       "    </tr>\n",
       "    <tr>\n",
       "      <th>30</th>\n",
       "      <td>0194_B</td>\n",
       "      <td>1.620</td>\n",
       "      <td>1000000000</td>\n",
       "    </tr>\n",
       "    <tr>\n",
       "      <th>31</th>\n",
       "      <td>0194_B</td>\n",
       "      <td>1.840</td>\n",
       "      <td>200000000</td>\n",
       "    </tr>\n",
       "    <tr>\n",
       "      <th>32</th>\n",
       "      <td>0194_C</td>\n",
       "      <td>0.199</td>\n",
       "      <td>60000000</td>\n",
       "    </tr>\n",
       "    <tr>\n",
       "      <th>33</th>\n",
       "      <td>0194_C</td>\n",
       "      <td>0.645</td>\n",
       "      <td>200000000</td>\n",
       "    </tr>\n",
       "    <tr>\n",
       "      <th>34</th>\n",
       "      <td>0194_C</td>\n",
       "      <td>1.780</td>\n",
       "      <td>220000000</td>\n",
       "    </tr>\n",
       "    <tr>\n",
       "      <th>35</th>\n",
       "      <td>0194_C</td>\n",
       "      <td>2.060</td>\n",
       "      <td>400000000</td>\n",
       "    </tr>\n",
       "    <tr>\n",
       "      <th>36</th>\n",
       "      <td>ftsZ2_A</td>\n",
       "      <td>0.244</td>\n",
       "      <td>34000000</td>\n",
       "    </tr>\n",
       "    <tr>\n",
       "      <th>37</th>\n",
       "      <td>ftsZ2_A</td>\n",
       "      <td>0.742</td>\n",
       "      <td>100000000</td>\n",
       "    </tr>\n",
       "    <tr>\n",
       "      <th>38</th>\n",
       "      <td>ftsZ2_A</td>\n",
       "      <td>1.400</td>\n",
       "      <td>120000000</td>\n",
       "    </tr>\n",
       "    <tr>\n",
       "      <th>39</th>\n",
       "      <td>ftsZ2_A</td>\n",
       "      <td>2.170</td>\n",
       "      <td>320000000</td>\n",
       "    </tr>\n",
       "    <tr>\n",
       "      <th>40</th>\n",
       "      <td>ftsZ2_B</td>\n",
       "      <td>0.296</td>\n",
       "      <td>38000000</td>\n",
       "    </tr>\n",
       "    <tr>\n",
       "      <th>41</th>\n",
       "      <td>ftsZ2_B</td>\n",
       "      <td>0.748</td>\n",
       "      <td>600000000</td>\n",
       "    </tr>\n",
       "    <tr>\n",
       "      <th>42</th>\n",
       "      <td>ftsZ2_B</td>\n",
       "      <td>1.340</td>\n",
       "      <td>280000000</td>\n",
       "    </tr>\n",
       "    <tr>\n",
       "      <th>43</th>\n",
       "      <td>ftsZ2_B</td>\n",
       "      <td>2.070</td>\n",
       "      <td>260000000</td>\n",
       "    </tr>\n",
       "    <tr>\n",
       "      <th>44</th>\n",
       "      <td>ftsZ2_C</td>\n",
       "      <td>0.275</td>\n",
       "      <td>60000000</td>\n",
       "    </tr>\n",
       "    <tr>\n",
       "      <th>45</th>\n",
       "      <td>ftsZ2_C</td>\n",
       "      <td>0.783</td>\n",
       "      <td>400000000</td>\n",
       "    </tr>\n",
       "    <tr>\n",
       "      <th>46</th>\n",
       "      <td>ftsZ2_C</td>\n",
       "      <td>1.430</td>\n",
       "      <td>400000000</td>\n",
       "    </tr>\n",
       "    <tr>\n",
       "      <th>47</th>\n",
       "      <td>ftsZ2_C</td>\n",
       "      <td>1.910</td>\n",
       "      <td>260000000</td>\n",
       "    </tr>\n",
       "  </tbody>\n",
       "</table>\n",
       "</div>"
      ],
      "text/plain": [
       "     strain  OD600     CFUs/ml\n",
       "0    ura3_A  0.249   100000000\n",
       "1    ura3_A  0.814   280000000\n",
       "2    ura3_A  1.710   600000000\n",
       "3    ura3_A  1.910  2000000000\n",
       "4    ura3_B  0.261    80000000\n",
       "5    ura3_B  0.721   400000000\n",
       "6    ura3_B  1.700   800000000\n",
       "7    ura3_B  1.730   320000000\n",
       "8    ura3_C  0.259   120000000\n",
       "9    ura3_C  0.823   400000000\n",
       "10   ura3_C  1.780   400000000\n",
       "11   ura3_C  2.620   400000000\n",
       "12   0195_A  0.172    18000000\n",
       "13   0195_A  0.620    60000000\n",
       "14   0195_A  1.520   280000000\n",
       "15   0195_A  2.110   260000000\n",
       "16   0195_B  0.212    60000000\n",
       "17   0195_B  0.699   140000000\n",
       "18   0195_B  1.710   200000000\n",
       "19   0195_B  2.250   360000000\n",
       "20   0195_C  0.212    40000000\n",
       "21   0195_C  0.731    60000000\n",
       "22   0195_C  1.710   800000000\n",
       "23   0195_C  2.300   400000000\n",
       "24   0194_A  0.191    80000000\n",
       "25   0194_A  0.608   200000000\n",
       "26   0194_A  1.710   400000000\n",
       "27   0194_A  2.360   600000000\n",
       "28   0194_B  0.233    60000000\n",
       "29   0194_B  0.761   120000000\n",
       "30   0194_B  1.620  1000000000\n",
       "31   0194_B  1.840   200000000\n",
       "32   0194_C  0.199    60000000\n",
       "33   0194_C  0.645   200000000\n",
       "34   0194_C  1.780   220000000\n",
       "35   0194_C  2.060   400000000\n",
       "36  ftsZ2_A  0.244    34000000\n",
       "37  ftsZ2_A  0.742   100000000\n",
       "38  ftsZ2_A  1.400   120000000\n",
       "39  ftsZ2_A  2.170   320000000\n",
       "40  ftsZ2_B  0.296    38000000\n",
       "41  ftsZ2_B  0.748   600000000\n",
       "42  ftsZ2_B  1.340   280000000\n",
       "43  ftsZ2_B  2.070   260000000\n",
       "44  ftsZ2_C  0.275    60000000\n",
       "45  ftsZ2_C  0.783   400000000\n",
       "46  ftsZ2_C  1.430   400000000\n",
       "47  ftsZ2_C  1.910   260000000"
      ]
     },
     "execution_count": 6,
     "metadata": {},
     "output_type": "execute_result"
    }
   ],
   "source": [
    "cfu = pd.read_excel(\"data/cfu-od-raw.xlsx\",sheetname=1)\n",
    "cfu"
   ]
  },
  {
   "cell_type": "code",
   "execution_count": 453,
   "metadata": {
    "collapsed": false
   },
   "outputs": [
    {
     "data": {
      "text/html": [
       "<div>\n",
       "<table border=\"1\" class=\"dataframe\">\n",
       "  <thead>\n",
       "    <tr style=\"text-align: right;\">\n",
       "      <th></th>\n",
       "      <th>strain</th>\n",
       "      <th>time</th>\n",
       "      <th>OD600</th>\n",
       "      <th>CFUs/ml</th>\n",
       "      <th>logCFU</th>\n",
       "      <th>logOD</th>\n",
       "      <th>normtime</th>\n",
       "    </tr>\n",
       "  </thead>\n",
       "  <tbody>\n",
       "    <tr>\n",
       "      <th>0</th>\n",
       "      <td>ura3_A</td>\n",
       "      <td>0.0</td>\n",
       "      <td>0.007</td>\n",
       "      <td>NaN</td>\n",
       "      <td>NaN</td>\n",
       "      <td>-7.158429</td>\n",
       "      <td>-1.614436</td>\n",
       "    </tr>\n",
       "    <tr>\n",
       "      <th>1</th>\n",
       "      <td>ura3_B</td>\n",
       "      <td>0.0</td>\n",
       "      <td>0.007</td>\n",
       "      <td>NaN</td>\n",
       "      <td>NaN</td>\n",
       "      <td>-7.158429</td>\n",
       "      <td>-1.614436</td>\n",
       "    </tr>\n",
       "    <tr>\n",
       "      <th>2</th>\n",
       "      <td>ura3_C</td>\n",
       "      <td>0.0</td>\n",
       "      <td>0.007</td>\n",
       "      <td>NaN</td>\n",
       "      <td>NaN</td>\n",
       "      <td>-7.158429</td>\n",
       "      <td>-1.614436</td>\n",
       "    </tr>\n",
       "    <tr>\n",
       "      <th>3</th>\n",
       "      <td>0195_A</td>\n",
       "      <td>0.0</td>\n",
       "      <td>0.006</td>\n",
       "      <td>NaN</td>\n",
       "      <td>NaN</td>\n",
       "      <td>-7.380822</td>\n",
       "      <td>-1.614436</td>\n",
       "    </tr>\n",
       "    <tr>\n",
       "      <th>4</th>\n",
       "      <td>0195_B</td>\n",
       "      <td>0.0</td>\n",
       "      <td>0.007</td>\n",
       "      <td>NaN</td>\n",
       "      <td>NaN</td>\n",
       "      <td>-7.158429</td>\n",
       "      <td>-1.614436</td>\n",
       "    </tr>\n",
       "  </tbody>\n",
       "</table>\n",
       "</div>"
      ],
      "text/plain": [
       "   strain  time  OD600  CFUs/ml  logCFU     logOD  normtime\n",
       "0  ura3_A   0.0  0.007      NaN     NaN -7.158429 -1.614436\n",
       "1  ura3_B   0.0  0.007      NaN     NaN -7.158429 -1.614436\n",
       "2  ura3_C   0.0  0.007      NaN     NaN -7.158429 -1.614436\n",
       "3  0195_A   0.0  0.006      NaN     NaN -7.380822 -1.614436\n",
       "4  0195_B   0.0  0.007      NaN     NaN -7.158429 -1.614436"
      ]
     },
     "execution_count": 453,
     "metadata": {},
     "output_type": "execute_result"
    }
   ],
   "source": [
    "merge = pd.merge(melt, cfu, 'outer', ['strain', 'OD600'])\n",
    "# merge = pd.merge(melt, cfu, 'inner', ['strain', 'OD600'])\n",
    "\n",
    "merge['logCFU'] = np.log10(merge['CFUs/ml'])\n",
    "merge['logOD'] = np.log2(merge.OD600)\n",
    "merge.time = merge.time.astype(float)\n",
    "merge['normtime'] = (merge.time-merge.time.mean())/merge.time.std()\n",
    "\n",
    "merge.head()"
   ]
  },
  {
   "cell_type": "code",
   "execution_count": 454,
   "metadata": {
    "collapsed": false
   },
   "outputs": [
    {
     "data": {
      "text/html": [
       "<div>\n",
       "<table border=\"1\" class=\"dataframe\">\n",
       "  <thead>\n",
       "    <tr style=\"text-align: right;\">\n",
       "      <th></th>\n",
       "      <th>strain</th>\n",
       "      <th>time</th>\n",
       "      <th>OD600</th>\n",
       "      <th>CFUs/ml</th>\n",
       "      <th>logCFU</th>\n",
       "      <th>logOD</th>\n",
       "      <th>normtime</th>\n",
       "    </tr>\n",
       "  </thead>\n",
       "  <tbody>\n",
       "    <tr>\n",
       "      <th>127</th>\n",
       "      <td>0194_B</td>\n",
       "      <td>94.5</td>\n",
       "      <td>1.84</td>\n",
       "      <td>200000000.0</td>\n",
       "      <td>8.301030</td>\n",
       "      <td>0.879706</td>\n",
       "      <td>2.256859</td>\n",
       "    </tr>\n",
       "    <tr>\n",
       "      <th>128</th>\n",
       "      <td>0194_C</td>\n",
       "      <td>94.5</td>\n",
       "      <td>2.06</td>\n",
       "      <td>400000000.0</td>\n",
       "      <td>8.602060</td>\n",
       "      <td>1.042644</td>\n",
       "      <td>2.256859</td>\n",
       "    </tr>\n",
       "    <tr>\n",
       "      <th>129</th>\n",
       "      <td>ftsZ2_A</td>\n",
       "      <td>94.5</td>\n",
       "      <td>2.17</td>\n",
       "      <td>320000000.0</td>\n",
       "      <td>8.505150</td>\n",
       "      <td>1.117695</td>\n",
       "      <td>2.256859</td>\n",
       "    </tr>\n",
       "    <tr>\n",
       "      <th>130</th>\n",
       "      <td>ftsZ2_B</td>\n",
       "      <td>94.5</td>\n",
       "      <td>2.07</td>\n",
       "      <td>260000000.0</td>\n",
       "      <td>8.414973</td>\n",
       "      <td>1.049631</td>\n",
       "      <td>2.256859</td>\n",
       "    </tr>\n",
       "    <tr>\n",
       "      <th>131</th>\n",
       "      <td>ftsZ2_C</td>\n",
       "      <td>94.5</td>\n",
       "      <td>1.91</td>\n",
       "      <td>260000000.0</td>\n",
       "      <td>8.414973</td>\n",
       "      <td>0.933573</td>\n",
       "      <td>2.256859</td>\n",
       "    </tr>\n",
       "  </tbody>\n",
       "</table>\n",
       "</div>"
      ],
      "text/plain": [
       "      strain  time  OD600      CFUs/ml    logCFU     logOD  normtime\n",
       "127   0194_B  94.5   1.84  200000000.0  8.301030  0.879706  2.256859\n",
       "128   0194_C  94.5   2.06  400000000.0  8.602060  1.042644  2.256859\n",
       "129  ftsZ2_A  94.5   2.17  320000000.0  8.505150  1.117695  2.256859\n",
       "130  ftsZ2_B  94.5   2.07  260000000.0  8.414973  1.049631  2.256859\n",
       "131  ftsZ2_C  94.5   1.91  260000000.0  8.414973  0.933573  2.256859"
      ]
     },
     "execution_count": 454,
     "metadata": {},
     "output_type": "execute_result"
    }
   ],
   "source": [
    "merge.tail()"
   ]
  },
  {
   "cell_type": "code",
   "execution_count": 455,
   "metadata": {
    "collapsed": false
   },
   "outputs": [
    {
     "data": {
      "image/png": "[encoded data removed]",
      "text/plain": [
       "<matplotlib.figure.Figure at 0x7f0d3a33c650>"
      ]
     },
     "metadata": {},
     "output_type": "display_data"
    }
   ],
   "source": [
    "plt.figure(figsize=(6,4))\n",
    "\n",
    "plt.scatter(merge.time, merge.logOD,c='C0')\n",
    "plt.ylabel(\"$log_2($OD$)$\",fontsize=15,color='C0')\n",
    "plt.yticks(color='C0')\n",
    "plt.xticks(fontsize=12)\n",
    "plt.xlabel(\"time (h)\", fontsize=15)\n",
    "\n",
    "plt.twinx()\n",
    "plt.scatter(merge.time, merge.logCFU,c='C1')\n",
    "plt.ylabel(\"$log_{10}($CFU$)$\",fontsize=15,color='C1')\n",
    "plt.yticks(color='C1')\n",
    "\n",
    "plt.savefig(\"figures/cfu-vs-od.pdf\",bbox_inches='tight')"
   ]
  },
  {
   "cell_type": "code",
   "execution_count": 314,
   "metadata": {
    "collapsed": false
   },
   "outputs": [
    {
     "data": {
      "text/plain": [
       "<matplotlib.collections.PathCollection at 0x7f0d3bebe650>"
      ]
     },
     "execution_count": 314,
     "metadata": {},
     "output_type": "execute_result"
    },
    {
     "data": {
      "image/png": "[encoded data removed]",
      "text/plain": [
       "<matplotlib.figure.Figure at 0x7f0d3bbf4590>"
      ]
     },
     "metadata": {},
     "output_type": "display_data"
    }
   ],
   "source": [
    "plt.scatter(merge.logOD, merge.logCFU)"
   ]
  },
  {
   "cell_type": "code",
   "execution_count": 313,
   "metadata": {
    "collapsed": false
   },
   "outputs": [
    {
     "data": {
      "text/html": [
       "<div>\n",
       "<table border=\"1\" class=\"dataframe\">\n",
       "  <thead>\n",
       "    <tr style=\"text-align: right;\">\n",
       "      <th></th>\n",
       "      <th>strain</th>\n",
       "      <th>time</th>\n",
       "      <th>OD600</th>\n",
       "      <th>CFUs/ml</th>\n",
       "      <th>logCFU</th>\n",
       "      <th>logOD</th>\n",
       "      <th>normtime</th>\n",
       "    </tr>\n",
       "  </thead>\n",
       "  <tbody>\n",
       "    <tr>\n",
       "      <th>0</th>\n",
       "      <td>ura3_A</td>\n",
       "      <td>0.0</td>\n",
       "      <td>0.007</td>\n",
       "      <td>NaN</td>\n",
       "      <td>NaN</td>\n",
       "      <td>-7.158429</td>\n",
       "      <td>-1.614436</td>\n",
       "    </tr>\n",
       "    <tr>\n",
       "      <th>1</th>\n",
       "      <td>ura3_B</td>\n",
       "      <td>0.0</td>\n",
       "      <td>0.007</td>\n",
       "      <td>NaN</td>\n",
       "      <td>NaN</td>\n",
       "      <td>-7.158429</td>\n",
       "      <td>-1.614436</td>\n",
       "    </tr>\n",
       "    <tr>\n",
       "      <th>2</th>\n",
       "      <td>ura3_C</td>\n",
       "      <td>0.0</td>\n",
       "      <td>0.007</td>\n",
       "      <td>NaN</td>\n",
       "      <td>NaN</td>\n",
       "      <td>-7.158429</td>\n",
       "      <td>-1.614436</td>\n",
       "    </tr>\n",
       "    <tr>\n",
       "      <th>3</th>\n",
       "      <td>0195_A</td>\n",
       "      <td>0.0</td>\n",
       "      <td>0.006</td>\n",
       "      <td>NaN</td>\n",
       "      <td>NaN</td>\n",
       "      <td>-7.380822</td>\n",
       "      <td>-1.614436</td>\n",
       "    </tr>\n",
       "    <tr>\n",
       "      <th>4</th>\n",
       "      <td>0195_B</td>\n",
       "      <td>0.0</td>\n",
       "      <td>0.007</td>\n",
       "      <td>NaN</td>\n",
       "      <td>NaN</td>\n",
       "      <td>-7.158429</td>\n",
       "      <td>-1.614436</td>\n",
       "    </tr>\n",
       "  </tbody>\n",
       "</table>\n",
       "</div>"
      ],
      "text/plain": [
       "   strain  time  OD600  CFUs/ml  logCFU     logOD  normtime\n",
       "0  ura3_A   0.0  0.007      NaN     NaN -7.158429 -1.614436\n",
       "1  ura3_B   0.0  0.007      NaN     NaN -7.158429 -1.614436\n",
       "2  ura3_C   0.0  0.007      NaN     NaN -7.158429 -1.614436\n",
       "3  0195_A   0.0  0.006      NaN     NaN -7.380822 -1.614436\n",
       "4  0195_B   0.0  0.007      NaN     NaN -7.158429 -1.614436"
      ]
     },
     "execution_count": 313,
     "metadata": {},
     "output_type": "execute_result"
    }
   ],
   "source": [
    "merge.head()"
   ]
  },
  {
   "cell_type": "code",
   "execution_count": 384,
   "metadata": {
    "collapsed": false
   },
   "outputs": [
    {
     "data": {
      "text/plain": [
       "((132, 1), (132, 1), (48, 1), (48, 1))"
      ]
     },
     "execution_count": 384,
     "metadata": {},
     "output_type": "execute_result"
    }
   ],
   "source": [
    "# y1,x1 = patsy.dmatrices('standardize(logOD) ~ standardize(time) + 0', merge)\n",
    "\n",
    "# x2 = patsy.build_design_matrices([x1.design_info], merge[~merge.logCFU.isnull()])[0]\n",
    "# y2 = patsy.dmatrix('standardize(logCFU) + 0', merge[~merge.logCFU.isnull()])\n",
    "# # y2,x2 = patsy.dmatrices('standardize(logCFU) ~ standardize(time) + 0', merge[~merge.logCFU.isnull()])\n",
    "\n",
    "# x1.shape, y1.shape, x2.shape, y2.shape"
   ]
  },
  {
   "cell_type": "code",
   "execution_count": 392,
   "metadata": {
    "collapsed": false
   },
   "outputs": [],
   "source": [
    "# k = y1.design_info.factor_infos.keys()[0]\n",
    "# fi = y1.design_info.factor_infos[k]\n",
    "# st = fi.state['transforms']['_patsy_stobj0__standardize__']\n",
    "\n",
    "# st.current_mean, st.current_M2"
   ]
  },
  {
   "cell_type": "code",
   "execution_count": 441,
   "metadata": {
    "collapsed": false
   },
   "outputs": [
    {
     "data": {
      "text/plain": [
       "((132, 1), (132, 1), (48, 1), (48, 1))"
      ]
     },
     "execution_count": 441,
     "metadata": {},
     "output_type": "execute_result"
    }
   ],
   "source": [
    "x1 = merge.normtime.values[:,None]\n",
    "y1 = merge.logOD.values[:,None]\n",
    "\n",
    "x2 = merge.normtime.values[~merge.logCFU.isnull(),None]\n",
    "y2 = merge.logCFU.values[~merge.logCFU.isnull(),None]\n",
    "# x2 = merge.normtime.values[:,None]\n",
    "# y2 = merge.logCFU.values[:,None]\n",
    "\n",
    "norm = {'y1': (y1.mean(), y1.std()),\\\n",
    "        'y2': (y2.mean(), y2.std()),\\\n",
    "        'time': (merge.time.mean(), merge.time.std())}\n",
    "\n",
    "y1 = (y1-y1.mean())/y1.std()\n",
    "y2 = (y2-y2.mean())/y2.std()\n",
    "\n",
    "x1.shape, y1.shape, x2.shape, y2.shape,"
   ]
  },
  {
   "cell_type": "code",
   "execution_count": 389,
   "metadata": {
    "collapsed": false
   },
   "outputs": [
    {
     "data": {
      "text/plain": [
       "<matplotlib.collections.PathCollection at 0x7f0d3c21bf50>"
      ]
     },
     "execution_count": 389,
     "metadata": {},
     "output_type": "execute_result"
    },
    {
     "data": {
      "image/png": "[encoded data removed]",
      "text/plain": [
       "<matplotlib.figure.Figure at 0x7f0d3c21ba90>"
      ]
     },
     "metadata": {},
     "output_type": "display_data"
    }
   ],
   "source": [
    "plt.scatter(x1,y1)\n",
    "plt.scatter(x2,y2)"
   ]
  },
  {
   "cell_type": "code",
   "execution_count": 460,
   "metadata": {
    "collapsed": true
   },
   "outputs": [],
   "source": [
    "lcm = GPy.util.multioutput.LCM(1,1,[GPy.kern.RBF(1) for i in range(2)])"
   ]
  },
  {
   "cell_type": "code",
   "execution_count": 461,
   "metadata": {
    "collapsed": false
   },
   "outputs": [
    {
     "data": {
      "text/html": [
       "<style type=\"text/css\">\n",
       ".tg  {font-family:\"Courier New\", Courier, monospace !important;padding:2px 3px;word-break:normal;border-collapse:collapse;border-spacing:0;border-color:#DCDCDC;margin:0px auto;width:100%;}\n",
       ".tg td{font-family:\"Courier New\", Courier, monospace !important;font-weight:bold;color:#444;background-color:#F7FDFA;border-style:solid;border-width:1px;overflow:hidden;word-break:normal;border-color:#DCDCDC;}\n",
       ".tg th{font-family:\"Courier New\", Courier, monospace !important;font-weight:normal;color:#fff;background-color:#26ADE4;border-style:solid;border-width:1px;overflow:hidden;word-break:normal;border-color:#DCDCDC;}\n",
       ".tg .tg-left{font-family:\"Courier New\", Courier, monospace !important;font-weight:normal;text-align:left;}\n",
       ".tg .tg-center{font-family:\"Courier New\", Courier, monospace !important;font-weight:normal;text-align:center;}\n",
       ".tg .tg-right{font-family:\"Courier New\", Courier, monospace !important;font-weight:normal;text-align:right;}\n",
       "</style>\n",
       "<table class=\"tg\"><tr><th><b>  sum.                </b></th><th><b>        value</b></th><th><b>constraints</b></th><th><b>priors</b></th></tr>\n",
       "<tr><td class=tg-left>  ICM0.rbf.variance   </td><td class=tg-right>          1.0</td><td class=tg-center>    +ve    </td><td class=tg-center>      </td></tr>\n",
       "<tr><td class=tg-left>  ICM0.rbf.lengthscale</td><td class=tg-right>          1.0</td><td class=tg-center>    +ve    </td><td class=tg-center>      </td></tr>\n",
       "<tr><td class=tg-left>  ICM0.B.W            </td><td class=tg-right> [ 0.2959335]</td><td class=tg-center>           </td><td class=tg-center>      </td></tr>\n",
       "<tr><td class=tg-left>  ICM0.B.kappa        </td><td class=tg-right>          0.5</td><td class=tg-center>    +ve    </td><td class=tg-center>      </td></tr>\n",
       "<tr><td class=tg-left>  ICM1.rbf.variance   </td><td class=tg-right>          1.0</td><td class=tg-center>    +ve    </td><td class=tg-center>      </td></tr>\n",
       "<tr><td class=tg-left>  ICM1.rbf.lengthscale</td><td class=tg-right>          1.0</td><td class=tg-center>    +ve    </td><td class=tg-center>      </td></tr>\n",
       "<tr><td class=tg-left>  ICM1.B.W            </td><td class=tg-right>[ 0.35927787]</td><td class=tg-center>           </td><td class=tg-center>      </td></tr>\n",
       "<tr><td class=tg-left>  ICM1.B.kappa        </td><td class=tg-right>          0.5</td><td class=tg-center>    +ve    </td><td class=tg-center>      </td></tr>\n",
       "</table>"
      ],
      "text/plain": [
       "<GPy.kern.src.add.Add at 0x7f0d39bf4190>"
      ]
     },
     "execution_count": 461,
     "metadata": {},
     "output_type": "execute_result"
    }
   ],
   "source": [
    "lcm"
   ]
  },
  {
   "cell_type": "code",
   "execution_count": 462,
   "metadata": {
    "collapsed": false
   },
   "outputs": [
    {
     "data": {
      "text/html": [
       "<style type=\"text/css\">\n",
       ".tg  {font-family:\"Courier New\", Courier, monospace !important;padding:2px 3px;word-break:normal;border-collapse:collapse;border-spacing:0;border-color:#DCDCDC;margin:0px auto;width:100%;}\n",
       ".tg td{font-family:\"Courier New\", Courier, monospace !important;font-weight:bold;color:#444;background-color:#F7FDFA;border-style:solid;border-width:1px;overflow:hidden;word-break:normal;border-color:#DCDCDC;}\n",
       ".tg th{font-family:\"Courier New\", Courier, monospace !important;font-weight:normal;color:#fff;background-color:#26ADE4;border-style:solid;border-width:1px;overflow:hidden;word-break:normal;border-color:#DCDCDC;}\n",
       ".tg .tg-left{font-family:\"Courier New\", Courier, monospace !important;font-weight:normal;text-align:left;}\n",
       ".tg .tg-center{font-family:\"Courier New\", Courier, monospace !important;font-weight:normal;text-align:center;}\n",
       ".tg .tg-right{font-family:\"Courier New\", Courier, monospace !important;font-weight:normal;text-align:right;}\n",
       "</style>\n",
       "<table class=\"tg\"><tr><th><b>  B.   </b></th><th><b>       value</b></th><th><b>constraints</b></th><th><b>priors</b></th></tr>\n",
       "<tr><td class=tg-left>  W    </td><td class=tg-right>[ 0.2959335]</td><td class=tg-center>           </td><td class=tg-center>      </td></tr>\n",
       "<tr><td class=tg-left>  kappa</td><td class=tg-right>         0.5</td><td class=tg-center>    +ve    </td><td class=tg-center>      </td></tr>\n",
       "</table>"
      ],
      "text/plain": [
       "<GPy.kern.src.coregionalize.Coregionalize at 0x7f0d39bf46d0>"
      ]
     },
     "execution_count": 462,
     "metadata": {},
     "output_type": "execute_result"
    }
   ],
   "source": [
    "lcm.ICM0.B"
   ]
  },
  {
   "cell_type": "code",
   "execution_count": null,
   "metadata": {
    "collapsed": true
   },
   "outputs": [],
   "source": []
  },
  {
   "cell_type": "code",
   "execution_count": null,
   "metadata": {
    "collapsed": true
   },
   "outputs": [],
   "source": []
  },
  {
   "cell_type": "code",
   "execution_count": 494,
   "metadata": {
    "collapsed": false
   },
   "outputs": [
    {
     "data": {
      "text/html": [
       "<style type=\"text/css\">\n",
       ".pd{\n",
       "    font-family: \"Courier New\", Courier, monospace !important;\n",
       "    width: 100%;\n",
       "    padding: 3px;\n",
       "}\n",
       "</style>\n",
       "\n",
       "<p class=pd>\n",
       "<b>Model</b>: gp<br>\n",
       "<b>Objective</b>: -5.42126750213<br>\n",
       "<b>Number of Parameters</b>: 10<br>\n",
       "<b>Number of Optimization Parameters</b>: 9<br>\n",
       "<b>Updates</b>: True<br>\n",
       "</p>\n",
       "<style type=\"text/css\">\n",
       ".tg  {font-family:\"Courier New\", Courier, monospace !important;padding:2px 3px;word-break:normal;border-collapse:collapse;border-spacing:0;border-color:#DCDCDC;margin:0px auto;width:100%;}\n",
       ".tg td{font-family:\"Courier New\", Courier, monospace !important;font-weight:bold;color:#444;background-color:#F7FDFA;border-style:solid;border-width:1px;overflow:hidden;word-break:normal;border-color:#DCDCDC;}\n",
       ".tg th{font-family:\"Courier New\", Courier, monospace !important;font-weight:normal;color:#fff;background-color:#26ADE4;border-style:solid;border-width:1px;overflow:hidden;word-break:normal;border-color:#DCDCDC;}\n",
       ".tg .tg-left{font-family:\"Courier New\", Courier, monospace !important;font-weight:normal;text-align:left;}\n",
       ".tg .tg-center{font-family:\"Courier New\", Courier, monospace !important;font-weight:normal;text-align:center;}\n",
       ".tg .tg-right{font-family:\"Courier New\", Courier, monospace !important;font-weight:normal;text-align:right;}\n",
       "</style>\n",
       "<table class=\"tg\"><tr><th><b>  gp.                                  </b></th><th><b>          value</b></th><th><b>constraints</b></th><th><b>priors</b></th></tr>\n",
       "<tr><td class=tg-left>  ICM.Mat32.variance                   </td><td class=tg-right>            1.0</td><td class=tg-center> fixed +ve </td><td class=tg-center>      </td></tr>\n",
       "<tr><td class=tg-left>  ICM.Mat32.lengthscale                </td><td class=tg-right>  6.46633883733</td><td class=tg-center>    +ve    </td><td class=tg-center>      </td></tr>\n",
       "<tr><td class=tg-left>  ICM.B.W                              </td><td class=tg-right>         (2, 2)</td><td class=tg-center>           </td><td class=tg-center>      </td></tr>\n",
       "<tr><td class=tg-left>  ICM.B.kappa                          </td><td class=tg-right>           (2,)</td><td class=tg-center>    +ve    </td><td class=tg-center>      </td></tr>\n",
       "<tr><td class=tg-left>  mixed_noise.Gaussian_noise_0.variance</td><td class=tg-right>0.0191460330308</td><td class=tg-center>    +ve    </td><td class=tg-center>      </td></tr>\n",
       "<tr><td class=tg-left>  mixed_noise.Gaussian_noise_1.variance</td><td class=tg-right> 0.426411569426</td><td class=tg-center>    +ve    </td><td class=tg-center>      </td></tr>\n",
       "</table>"
      ],
      "text/plain": [
       "<GPy.models.gp_coregionalized_regression.GPCoregionalizedRegression at 0x7f0d39895550>"
      ]
     },
     "execution_count": 494,
     "metadata": {},
     "output_type": "execute_result"
    }
   ],
   "source": [
    "K = GPy.kern.Matern32(1)\n",
    "# K = GPy.kern.Matern52(1)\n",
    "kern = GPy.util.multioutput.ICM(input_dim=1,num_outputs=2,kernel=K,W_rank=2)\n",
    "\n",
    "# kern = GPy.util.multioutput.LCM(input_dim=1,num_outputs=2,kernels_list=[GPy.kern.Matern32(1) for i in range(2)])\n",
    "\n",
    "m = GPy.models.GPCoregionalizedRegression([x1,x2],[y1,y2],kernel=kern)\n",
    "m['.*Mat.*.var'].constrain_fixed(1.)\n",
    "\n",
    "# icm = GPy.util.multioutput.ICM(input_dim=1,num_outputs=2,kernel=GPy.kern.RBF(1))\n",
    "# m = GPy.models.GPCoregionalizedRegression([x1,x2],[y1,y2],kernel=icm)\n",
    "# m.kern.rbf.variance.constrain_fixed(1.)\n",
    "\n",
    "m.randomize()\n",
    "m.optimize()\n",
    "m"
   ]
  },
  {
   "cell_type": "code",
   "execution_count": 495,
   "metadata": {
    "collapsed": false
   },
   "outputs": [],
   "source": [
    "# kern.ICM0.B.W"
   ]
  },
  {
   "cell_type": "code",
   "execution_count": 496,
   "metadata": {
    "collapsed": false
   },
   "outputs": [],
   "source": [
    "# kern.ICM0.B.kappa"
   ]
  },
  {
   "cell_type": "code",
   "execution_count": 497,
   "metadata": {
    "collapsed": false
   },
   "outputs": [],
   "source": [
    "# kern.ICM1.B.W"
   ]
  },
  {
   "cell_type": "code",
   "execution_count": 498,
   "metadata": {
    "collapsed": false
   },
   "outputs": [],
   "source": [
    "# kern.ICM1.B.kappa"
   ]
  },
  {
   "cell_type": "code",
   "execution_count": 499,
   "metadata": {
    "collapsed": false
   },
   "outputs": [],
   "source": [
    "# kern.B.W"
   ]
  },
  {
   "cell_type": "code",
   "execution_count": 500,
   "metadata": {
    "collapsed": false
   },
   "outputs": [],
   "source": [
    "# icm.B.kappa"
   ]
  },
  {
   "cell_type": "code",
   "execution_count": 501,
   "metadata": {
    "collapsed": false
   },
   "outputs": [
    {
     "data": {
      "text/plain": [
       "0.97361024280868436"
      ]
     },
     "execution_count": 501,
     "metadata": {},
     "output_type": "execute_result"
    }
   ],
   "source": [
    "icm.B.B[1,0]/np.sqrt(icm.B.B[0,0])/np.sqrt(icm.B.B[1,1])"
   ]
  },
  {
   "cell_type": "code",
   "execution_count": 502,
   "metadata": {
    "collapsed": false
   },
   "outputs": [],
   "source": [
    "def reverseTransform(z, mean, std):\n",
    "    return z*std + mean"
   ]
  },
  {
   "cell_type": "code",
   "execution_count": 554,
   "metadata": {
    "collapsed": true
   },
   "outputs": [],
   "source": [
    "def plotPrediction(xpred, predict_func, n, **kwargs):\n",
    "    noise_dict = {'output_index':xpred[:,1:].astype(int)}\n",
    "    mu, var = predict_func(xpred,Y_metadata=noise_dict)\n",
    "    std = np.sqrt(var[:,0])\n",
    "    mu = mu[:,0]\n",
    "\n",
    "    plt.plot(reverseTransform(xpred[:,0],*norm['time']), reverseTransform(mu, *n), **kwargs)\n",
    "    plt.fill_between(reverseTransform(xpred[:,0],*norm['time']), reverseTransform(mu-1.98*std, *n), reverseTransform(mu+1.98*std, *n), alpha=.2, **kwargs)"
   ]
  },
  {
   "cell_type": "code",
   "execution_count": 555,
   "metadata": {
    "collapsed": false
   },
   "outputs": [
    {
     "data": {
      "image/png": "[encoded data removed]",
      "text/plain": [
       "<matplotlib.figure.Figure at 0x7f0d38d90e10>"
      ]
     },
     "metadata": {},
     "output_type": "display_data"
    }
   ],
   "source": [
    "plt.figure(figsize=(8,4))\n",
    "\n",
    "xpred = np.hstack([np.linspace(x1.min(), x1.max())[:,None], [[0]]*50])\n",
    "\n",
    "plt.subplot(121)\n",
    "plt.title(\"$log_2($OD$)$\",fontsize=15,color='C0')\n",
    "plt.xlabel(\"time (h)\", fontsize=15)\n",
    "plotPrediction(xpred, m.predict_noiseless, norm['y1'])\n",
    "plt.scatter(reverseTransform(x1, *norm['time']), reverseTransform(y1[:,0],*norm['y1']),c='C0')\n",
    "\n",
    "plt.subplot(122)\n",
    "plt.title(\"$log_{10}($CFU$)$\",fontsize=15,color='C1')\n",
    "plt.xlabel(\"time (h)\", fontsize=15)\n",
    "xpred[:,1] = 1\n",
    "plotPrediction(xpred, m.predict_noiseless, norm['y2'],color='C1')\n",
    "plt.scatter(reverseTransform(x2, *norm['time']), reverseTransform(y2[:,0],*norm['y2']),c='C1')\n",
    "\n",
    "plt.savefig(\"figures/cfu-vs-od_gp.pdf\",bbox_inches='tight')"
   ]
  },
  {
   "cell_type": "code",
   "execution_count": 556,
   "metadata": {
    "collapsed": false
   },
   "outputs": [
    {
     "data": {
      "image/png": "[encoded data removed]",
      "text/plain": [
       "<matplotlib.figure.Figure at 0x7f0d38dfc910>"
      ]
     },
     "metadata": {},
     "output_type": "display_data"
    }
   ],
   "source": [
    "plt.figure(figsize=(8,4))\n",
    "\n",
    "xpred = np.hstack([np.linspace(x1.min()*2.5, x1.max()*2.5)[:,None], [[0]]*50])\n",
    "\n",
    "plt.subplot(121)\n",
    "plt.title(\"$log_2($OD$)$\",fontsize=15,color='C0')\n",
    "plt.xlabel(\"time (h)\", fontsize=15)\n",
    "plotPrediction(xpred, m.predict_noiseless, norm['y1'])\n",
    "plt.scatter(reverseTransform(x1, *norm['time']), reverseTransform(y1[:,0],*norm['y1']),c='C0')\n",
    "\n",
    "plt.subplot(122)\n",
    "plt.title(\"$log_{10}($CFU$)$\",fontsize=15,color='C1')\n",
    "plt.xlabel(\"time (h)\", fontsize=15)\n",
    "xpred[:,1] = 1\n",
    "plotPrediction(xpred, m.predict_noiseless, norm['y2'],color='C1')\n",
    "plt.scatter(reverseTransform(x2, *norm['time']), reverseTransform(y2[:,0],*norm['y2']),c='C1')\n",
    "\n",
    "plt.savefig(\"figures/cfu-vs-od-long_gp.pdf\",bbox_inches='tight')"
   ]
  },
  {
   "cell_type": "code",
   "execution_count": 560,
   "metadata": {
    "collapsed": false
   },
   "outputs": [
    {
     "data": {
      "image/png": "[encoded data removed]",
      "text/plain": [
       "<matplotlib.figure.Figure at 0x7f0d3859c8d0>"
      ]
     },
     "metadata": {},
     "output_type": "display_data"
    }
   ],
   "source": [
    "plt.figure(figsize=(8,4))\n",
    "\n",
    "xpred = np.hstack([np.linspace(x1.min()*2.5, x1.max()*2.5)[:,None], [[0]]*50])\n",
    "\n",
    "plt.subplot(121)\n",
    "plt.title(\"$log_2($OD$)$\",fontsize=15,color='C0')\n",
    "plt.xlabel(\"time (h)\", fontsize=15)\n",
    "plotPrediction(xpred, m.predict, norm['y1'])\n",
    "plt.scatter(reverseTransform(x1, *norm['time']), reverseTransform(y1[:,0],*norm['y1']),c='C0')\n",
    "\n",
    "plt.subplot(122)\n",
    "plt.title(\"$log_{10}($CFU$)$\",fontsize=15,color='C1')\n",
    "plt.xlabel(\"time (h)\", fontsize=15)\n",
    "xpred[:,1] = 1\n",
    "plotPrediction(xpred, m.predict, norm['y2'],color='C1')\n",
    "plt.scatter(reverseTransform(x2, *norm['time']), reverseTransform(y2[:,0],*norm['y2']),c='C1')\n",
    "\n",
    "plt.savefig(\"figures/cfu-vs-od-obs-long_gp.pdf\",bbox_inches='tight')"
   ]
  },
  {
   "cell_type": "code",
   "execution_count": 543,
   "metadata": {
    "collapsed": false
   },
   "outputs": [
    {
     "data": {
      "image/png": "[encoded data removed]",
      "text/plain": [
       "<matplotlib.figure.Figure at 0x7f0d39eb1510>"
      ]
     },
     "metadata": {},
     "output_type": "display_data"
    }
   ],
   "source": [
    "xpred = np.hstack([np.tile(np.linspace(x1.min(), x1.max()),2)[:,None], [[0]]*100])\n",
    "xpred[50:,1] = 1\n",
    "noise_dict = {'output_index':xpred[:,1:].astype(int)}\n",
    "mu, cov = m.predict_noiseless(xpred,Y_metadata=noise_dict,full_cov=True)\n",
    "mu = mu[:,0]\n",
    "\n",
    "# y = Bx + c\n",
    "B = np.zeros((100,100))\n",
    "B[range(100),range(100)] = [norm['y1'][1]]*50 + [norm['y2'][1]]*50\n",
    "\n",
    "c = np.zeros(100)\n",
    "c[:50] = norm['y1'][0]\n",
    "c[50:] = norm['y2'][0]\n",
    "\n",
    "mu = np.dot(B, mu) + c\n",
    "cov = np.dot(B, np.dot(cov, B.T))\n",
    "\n",
    "\n",
    "B = np.eye(100)\n",
    "# convert cfu to log2\n",
    "# B[range(50,100),range(50,100)] = 1./np.log10(2)\n",
    "# ..or convert OD to log10\n",
    "B[range(50),range(50)] = 1./np.log2(10)\n",
    "\n",
    "mu = np.dot(B, mu)\n",
    "cov = np.dot(B, np.dot(cov, B.T))\n",
    "\n",
    "# compute diff\n",
    "B = np.zeros((50,100))\n",
    "B[range(50),range(50)] = -1.\n",
    "B[range(50),range(50,100)] = 1.\n",
    "\n",
    "mu = np.dot(B, mu)\n",
    "cov = np.dot(B, np.dot(cov, B.T))\n",
    "std = np.sqrt(np.diag(cov))\n",
    "\n",
    "plt.figure(figsize=(4,4))\n",
    "\n",
    "plt.plot(reverseTransform(xpred[:50,0],*norm['time']), mu, color='C4')\n",
    "plt.fill_between(reverseTransform(xpred[:50,0],*norm['time']), mu-1.98*std, mu+1.98*std,alpha=.4, color='C4')\n",
    "\n",
    "plt.title(\"$log_{10}($CFU/OD$)$\",fontsize=15)\n",
    "plt.xlabel(\"time (h)\", fontsize=15)\n",
    "\n",
    "plt.savefig(\"figures/cfu-vs-od_gp-ratio.pdf\",bbox_inches='tight')"
   ]
  },
  {
   "cell_type": "code",
   "execution_count": 328,
   "metadata": {
    "collapsed": false
   },
   "outputs": [],
   "source": [
    "K = GPy.kern.Matern32(1)\n",
    "\n",
    "m1 = GPy.models.GPRegression(x1,y1,kernel=K.copy())\n",
    "m1.optimize()\n",
    "m2 = GPy.models.GPRegression(x2,y2,kernel=K.copy())\n",
    "m2.optimize()"
   ]
  },
  {
   "cell_type": "code",
   "execution_count": 557,
   "metadata": {
    "collapsed": false
   },
   "outputs": [
    {
     "data": {
      "image/png": "[encoded data removed]",
      "text/plain": [
       "<matplotlib.figure.Figure at 0x7f0d3891cc10>"
      ]
     },
     "metadata": {},
     "output_type": "display_data"
    }
   ],
   "source": [
    "plt.figure(figsize=(8,4))\n",
    "\n",
    "xpred = np.hstack([np.linspace(x1.min(), x1.max())[:,None], [[0]]*50])\n",
    "\n",
    "plt.subplot(121)\n",
    "plt.title(\"$log_2($OD$)$\",fontsize=15,color='C0')\n",
    "plt.xlabel(\"time (h)\", fontsize=15)\n",
    "plotPrediction(xpred, m1.predict_noiseless, norm['y1'])\n",
    "plt.scatter(reverseTransform(x1, *norm['time']), reverseTransform(y1[:,0],*norm['y1']),c='C0')\n",
    "\n",
    "plt.subplot(122)\n",
    "plt.title(\"$log_{10}($CFU$)$\",fontsize=15,color='C1')\n",
    "plt.xlabel(\"time (h)\", fontsize=15)\n",
    "xpred[:,1] = 1\n",
    "plotPrediction(xpred, m2.predict_noiseless, norm['y2'],color='C1')\n",
    "plt.scatter(reverseTransform(x2, *norm['time']), reverseTransform(y2[:,0],*norm['y2']),c='C1')\n",
    "plt.ylim(6.1, 9.5)\n",
    "\n",
    "plt.savefig(\"figures/cfu-vs-od_gp-null.pdf\")"
   ]
  },
  {
   "cell_type": "code",
   "execution_count": 558,
   "metadata": {
    "collapsed": false
   },
   "outputs": [
    {
     "data": {
      "image/png": "[encoded data removed]",
      "text/plain": [
       "<matplotlib.figure.Figure at 0x7f0d388d3890>"
      ]
     },
     "metadata": {},
     "output_type": "display_data"
    }
   ],
   "source": [
    "plt.figure(figsize=(8,4))\n",
    "\n",
    "xpred = np.hstack([np.linspace(x1.min()*2.5, x1.max()*2.5)[:,None], [[0]]*50])\n",
    "\n",
    "plt.subplot(121)\n",
    "plt.title(\"$log_2($OD$)$\",fontsize=15,color='C0')\n",
    "plt.xlabel(\"time (h)\", fontsize=15)\n",
    "plotPrediction(xpred, m1.predict_noiseless, norm['y1'])\n",
    "plt.scatter(reverseTransform(x1, *norm['time']), reverseTransform(y1[:,0],*norm['y1']),c='C0')\n",
    "\n",
    "plt.subplot(122)\n",
    "plt.title(\"$log_{10}($CFU$)$\",fontsize=15,color='C1')\n",
    "plt.xlabel(\"time (h)\", fontsize=15)\n",
    "xpred[:,1] = 1\n",
    "plotPrediction(xpred, m2.predict_noiseless, norm['y2'],color='C1')\n",
    "plt.scatter(reverseTransform(x2, *norm['time']), reverseTransform(y2[:,0],*norm['y2']),c='C1')\n",
    "plt.ylim(6.1, 9.5)\n",
    "\n",
    "plt.savefig(\"figures/cfu-vs-od-long_gp-null.pdf\",bbox_inches='tight')"
   ]
  },
  {
   "cell_type": "code",
   "execution_count": null,
   "metadata": {
    "collapsed": true
   },
   "outputs": [],
   "source": []
  }
 ],
 "metadata": {
  "git": {
   "suppress_outputs": true
  },
  "kernelspec": {
   "display_name": "Python 2",
   "language": "python",
   "name": "python2"
  },
  "language_info": {
   "codemirror_mode": {
    "name": "ipython",
    "version": 2
   },
   "file_extension": ".py",
   "mimetype": "text/x-python",
   "name": "python",
   "nbconvert_exporter": "python",
   "pygments_lexer": "ipython2",
   "version": "2.7.6"
  }
 },
 "nbformat": 4,
 "nbformat_minor": 1
}
