{
 "cells": [
  {
   "cell_type": "code",
   "execution_count": null,
   "metadata": {
    "collapsed": false
   },
   "outputs": [],
   "source": [
    "%pylab"
   ]
  },
  {
   "cell_type": "code",
   "execution_count": null,
   "metadata": {
    "collapsed": true
   },
   "outputs": [],
   "source": [
    "%matplotlib inline"
   ]
  },
  {
   "cell_type": "code",
   "execution_count": null,
   "metadata": {
    "collapsed": true
   },
   "outputs": [],
   "source": [
    "import pandas as pd\n",
    "import GPy, patsy, scipy"
   ]
  },
  {
   "cell_type": "code",
   "execution_count": null,
   "metadata": {
    "collapsed": false
   },
   "outputs": [],
   "source": [
    "od = pd.read_excel(\"data/cfu-od-raw.xlsx\")\n",
    "od"
   ]
  },
  {
   "cell_type": "code",
   "execution_count": null,
   "metadata": {
    "collapsed": false
   },
   "outputs": [],
   "source": [
    "melt = pd.melt(od,id_vars=['strain'],var_name='time', value_name='OD600')\n",
    "melt.head()"
   ]
  },
  {
   "cell_type": "code",
   "execution_count": null,
   "metadata": {
    "collapsed": false,
    "scrolled": true
   },
   "outputs": [],
   "source": [
    "cfu = pd.read_excel(\"data/cfu-od-raw.xlsx\",sheetname=1)\n",
    "cfu"
   ]
  },
  {
   "cell_type": "code",
   "execution_count": null,
   "metadata": {
    "collapsed": false
   },
   "outputs": [],
   "source": [
    "merge = pd.merge(melt, cfu, 'outer', ['strain', 'OD600'])\n",
    "# merge = pd.merge(melt, cfu, 'inner', ['strain', 'OD600'])\n",
    "\n",
    "merge['logCFU'] = np.log10(merge['CFUs/ml'])\n",
    "merge['logOD'] = np.log2(merge.OD600)\n",
    "merge.time = merge.time.astype(float)\n",
    "merge['normtime'] = (merge.time-merge.time.mean())/merge.time.std()\n",
    "\n",
    "merge.head()"
   ]
  },
  {
   "cell_type": "code",
   "execution_count": null,
   "metadata": {
    "collapsed": false
   },
   "outputs": [],
   "source": [
    "merge.tail()"
   ]
  },
  {
   "cell_type": "code",
   "execution_count": null,
   "metadata": {
    "collapsed": false
   },
   "outputs": [],
   "source": [
    "plt.figure(figsize=(6,4))\n",
    "\n",
    "plt.scatter(merge.time, merge.logOD,c='C0')\n",
    "plt.ylabel(\"$log_2($OD$)$\",fontsize=15,color='C0')\n",
    "plt.yticks(color='C0')\n",
    "plt.xticks(fontsize=12)\n",
    "plt.xlabel(\"time (h)\", fontsize=15)\n",
    "\n",
    "plt.twinx()\n",
    "plt.scatter(merge.time, merge.logCFU,c='C1')\n",
    "plt.ylabel(\"$log_{10}($CFU$)$\",fontsize=15,color='C1')\n",
    "plt.yticks(color='C1')\n",
    "\n",
    "plt.savefig(\"figures/cfu-vs-od.pdf\",bbox_inches='tight')"
   ]
  },
  {
   "cell_type": "code",
   "execution_count": null,
   "metadata": {
    "collapsed": false
   },
   "outputs": [],
   "source": [
    "plt.scatter(merge.logOD, merge.logCFU)"
   ]
  },
  {
   "cell_type": "code",
   "execution_count": null,
   "metadata": {
    "collapsed": false
   },
   "outputs": [],
   "source": [
    "merge.head()"
   ]
  },
  {
   "cell_type": "code",
   "execution_count": null,
   "metadata": {
    "collapsed": false
   },
   "outputs": [],
   "source": [
    "# y1,x1 = patsy.dmatrices('standardize(logOD) ~ standardize(time) + 0', merge)\n",
    "\n",
    "# x2 = patsy.build_design_matrices([x1.design_info], merge[~merge.logCFU.isnull()])[0]\n",
    "# y2 = patsy.dmatrix('standardize(logCFU) + 0', merge[~merge.logCFU.isnull()])\n",
    "# # y2,x2 = patsy.dmatrices('standardize(logCFU) ~ standardize(time) + 0', merge[~merge.logCFU.isnull()])\n",
    "\n",
    "# x1.shape, y1.shape, x2.shape, y2.shape"
   ]
  },
  {
   "cell_type": "code",
   "execution_count": null,
   "metadata": {
    "collapsed": false
   },
   "outputs": [],
   "source": [
    "# k = y1.design_info.factor_infos.keys()[0]\n",
    "# fi = y1.design_info.factor_infos[k]\n",
    "# st = fi.state['transforms']['_patsy_stobj0__standardize__']\n",
    "\n",
    "# st.current_mean, st.current_M2"
   ]
  },
  {
   "cell_type": "code",
   "execution_count": null,
   "metadata": {
    "collapsed": false
   },
   "outputs": [],
   "source": [
    "x1 = merge.normtime.values[:,None]\n",
    "y1 = merge.logOD.values[:,None]\n",
    "\n",
    "x2 = merge.normtime.values[~merge.logCFU.isnull(),None]\n",
    "y2 = merge.logCFU.values[~merge.logCFU.isnull(),None]\n",
    "# x2 = merge.normtime.values[:,None]\n",
    "# y2 = merge.logCFU.values[:,None]\n",
    "\n",
    "norm = {'y1': (y1.mean(), y1.std()),\\\n",
    "        'y2': (y2.mean(), y2.std()),\\\n",
    "        'time': (merge.time.mean(), merge.time.std())}\n",
    "\n",
    "y1 = (y1-y1.mean())/y1.std()\n",
    "y2 = (y2-y2.mean())/y2.std()\n",
    "\n",
    "x1.shape, y1.shape, x2.shape, y2.shape,"
   ]
  },
  {
   "cell_type": "code",
   "execution_count": null,
   "metadata": {
    "collapsed": false
   },
   "outputs": [],
   "source": [
    "plt.scatter(x1,y1)\n",
    "plt.scatter(x2,y2)"
   ]
  },
  {
   "cell_type": "code",
   "execution_count": null,
   "metadata": {
    "collapsed": true
   },
   "outputs": [],
   "source": [
    "lcm = GPy.util.multioutput.LCM(1,1,[GPy.kern.RBF(1) for i in range(2)])"
   ]
  },
  {
   "cell_type": "code",
   "execution_count": null,
   "metadata": {
    "collapsed": false
   },
   "outputs": [],
   "source": [
    "lcm"
   ]
  },
  {
   "cell_type": "code",
   "execution_count": null,
   "metadata": {
    "collapsed": false
   },
   "outputs": [],
   "source": [
    "lcm.ICM0.B"
   ]
  },
  {
   "cell_type": "code",
   "execution_count": null,
   "metadata": {
    "collapsed": true
   },
   "outputs": [],
   "source": []
  },
  {
   "cell_type": "code",
   "execution_count": null,
   "metadata": {
    "collapsed": true
   },
   "outputs": [],
   "source": []
  },
  {
   "cell_type": "code",
   "execution_count": null,
   "metadata": {
    "collapsed": false
   },
   "outputs": [],
   "source": [
    "K = GPy.kern.Matern32(1)\n",
    "# K = GPy.kern.Matern52(1)\n",
    "kern = GPy.util.multioutput.ICM(input_dim=1,num_outputs=2,kernel=K,W_rank=2)\n",
    "\n",
    "# kern = GPy.util.multioutput.LCM(input_dim=1,num_outputs=2,kernels_list=[GPy.kern.Matern32(1) for i in range(2)])\n",
    "\n",
    "m = GPy.models.GPCoregionalizedRegression([x1,x2],[y1,y2],kernel=kern)\n",
    "m['.*Mat.*.var'].constrain_fixed(1.)\n",
    "\n",
    "# icm = GPy.util.multioutput.ICM(input_dim=1,num_outputs=2,kernel=GPy.kern.RBF(1))\n",
    "# m = GPy.models.GPCoregionalizedRegression([x1,x2],[y1,y2],kernel=icm)\n",
    "# m.kern.rbf.variance.constrain_fixed(1.)\n",
    "\n",
    "m.randomize()\n",
    "m.optimize()\n",
    "m"
   ]
  },
  {
   "cell_type": "code",
   "execution_count": null,
   "metadata": {
    "collapsed": false
   },
   "outputs": [],
   "source": [
    "# kern.ICM0.B.W"
   ]
  },
  {
   "cell_type": "code",
   "execution_count": null,
   "metadata": {
    "collapsed": false
   },
   "outputs": [],
   "source": [
    "# kern.ICM0.B.kappa"
   ]
  },
  {
   "cell_type": "code",
   "execution_count": null,
   "metadata": {
    "collapsed": false
   },
   "outputs": [],
   "source": [
    "# kern.ICM1.B.W"
   ]
  },
  {
   "cell_type": "code",
   "execution_count": null,
   "metadata": {
    "collapsed": false
   },
   "outputs": [],
   "source": [
    "# kern.ICM1.B.kappa"
   ]
  },
  {
   "cell_type": "code",
   "execution_count": null,
   "metadata": {
    "collapsed": false
   },
   "outputs": [],
   "source": [
    "# kern.B.W"
   ]
  },
  {
   "cell_type": "code",
   "execution_count": null,
   "metadata": {
    "collapsed": false
   },
   "outputs": [],
   "source": [
    "# icm.B.kappa"
   ]
  },
  {
   "cell_type": "code",
   "execution_count": null,
   "metadata": {
    "collapsed": false
   },
   "outputs": [],
   "source": [
    "icm.B.B[1,0]/np.sqrt(icm.B.B[0,0])/np.sqrt(icm.B.B[1,1])"
   ]
  },
  {
   "cell_type": "code",
   "execution_count": null,
   "metadata": {
    "collapsed": false
   },
   "outputs": [],
   "source": [
    "def reverseTransform(z, mean, std):\n",
    "    return z*std + mean"
   ]
  },
  {
   "cell_type": "code",
   "execution_count": null,
   "metadata": {
    "collapsed": true
   },
   "outputs": [],
   "source": [
    "def plotPrediction(xpred, predict_func, n, **kwargs):\n",
    "    noise_dict = {'output_index':xpred[:,1:].astype(int)}\n",
    "    mu, var = predict_func(xpred,Y_metadata=noise_dict)\n",
    "    std = np.sqrt(var[:,0])\n",
    "    mu = mu[:,0]\n",
    "\n",
    "    plt.plot(reverseTransform(xpred[:,0],*norm['time']), reverseTransform(mu, *n), **kwargs)\n",
    "    plt.fill_between(reverseTransform(xpred[:,0],*norm['time']), reverseTransform(mu-1.98*std, *n), reverseTransform(mu+1.98*std, *n), alpha=.2, **kwargs)"
   ]
  },
  {
   "cell_type": "code",
   "execution_count": null,
   "metadata": {
    "collapsed": false
   },
   "outputs": [],
   "source": [
    "plt.figure(figsize=(8,4))\n",
    "\n",
    "xpred = np.hstack([np.linspace(x1.min(), x1.max())[:,None], [[0]]*50])\n",
    "\n",
    "plt.subplot(121)\n",
    "plt.title(\"$log_2($OD$)$\",fontsize=15,color='C0')\n",
    "plt.xlabel(\"time (h)\", fontsize=15)\n",
    "plotPrediction(xpred, m.predict_noiseless, norm['y1'])\n",
    "plt.scatter(reverseTransform(x1, *norm['time']), reverseTransform(y1[:,0],*norm['y1']),c='C0')\n",
    "\n",
    "plt.subplot(122)\n",
    "plt.title(\"$log_{10}($CFU$)$\",fontsize=15,color='C1')\n",
    "plt.xlabel(\"time (h)\", fontsize=15)\n",
    "xpred[:,1] = 1\n",
    "plotPrediction(xpred, m.predict_noiseless, norm['y2'],color='C1')\n",
    "plt.scatter(reverseTransform(x2, *norm['time']), reverseTransform(y2[:,0],*norm['y2']),c='C1')\n",
    "\n",
    "plt.savefig(\"figures/cfu-vs-od_gp.pdf\",bbox_inches='tight')"
   ]
  },
  {
   "cell_type": "code",
   "execution_count": null,
   "metadata": {
    "collapsed": false
   },
   "outputs": [],
   "source": [
    "plt.figure(figsize=(8,4))\n",
    "\n",
    "xpred = np.hstack([np.linspace(x1.min()*2.5, x1.max()*2.5)[:,None], [[0]]*50])\n",
    "\n",
    "plt.subplot(121)\n",
    "plt.title(\"$log_2($OD$)$\",fontsize=15,color='C0')\n",
    "plt.xlabel(\"time (h)\", fontsize=15)\n",
    "plotPrediction(xpred, m.predict_noiseless, norm['y1'])\n",
    "plt.scatter(reverseTransform(x1, *norm['time']), reverseTransform(y1[:,0],*norm['y1']),c='C0')\n",
    "\n",
    "plt.subplot(122)\n",
    "plt.title(\"$log_{10}($CFU$)$\",fontsize=15,color='C1')\n",
    "plt.xlabel(\"time (h)\", fontsize=15)\n",
    "xpred[:,1] = 1\n",
    "plotPrediction(xpred, m.predict_noiseless, norm['y2'],color='C1')\n",
    "plt.scatter(reverseTransform(x2, *norm['time']), reverseTransform(y2[:,0],*norm['y2']),c='C1')\n",
    "\n",
    "plt.savefig(\"figures/cfu-vs-od-long_gp.pdf\",bbox_inches='tight')"
   ]
  },
  {
   "cell_type": "code",
   "execution_count": null,
   "metadata": {
    "collapsed": false
   },
   "outputs": [],
   "source": [
    "plt.figure(figsize=(8,4))\n",
    "\n",
    "xpred = np.hstack([np.linspace(x1.min()*2.5, x1.max()*2.5)[:,None], [[0]]*50])\n",
    "\n",
    "plt.subplot(121)\n",
    "plt.title(\"$log_2($OD$)$\",fontsize=15,color='C0')\n",
    "plt.xlabel(\"time (h)\", fontsize=15)\n",
    "plotPrediction(xpred, m.predict, norm['y1'])\n",
    "plt.scatter(reverseTransform(x1, *norm['time']), reverseTransform(y1[:,0],*norm['y1']),c='C0')\n",
    "\n",
    "plt.subplot(122)\n",
    "plt.title(\"$log_{10}($CFU$)$\",fontsize=15,color='C1')\n",
    "plt.xlabel(\"time (h)\", fontsize=15)\n",
    "xpred[:,1] = 1\n",
    "plotPrediction(xpred, m.predict, norm['y2'],color='C1')\n",
    "plt.scatter(reverseTransform(x2, *norm['time']), reverseTransform(y2[:,0],*norm['y2']),c='C1')\n",
    "\n",
    "plt.savefig(\"figures/cfu-vs-od-obs-long_gp.pdf\",bbox_inches='tight')"
   ]
  },
  {
   "cell_type": "code",
   "execution_count": null,
   "metadata": {
    "collapsed": false
   },
   "outputs": [],
   "source": [
    "xpred = np.hstack([np.tile(np.linspace(x1.min(), x1.max()),2)[:,None], [[0]]*100])\n",
    "xpred[50:,1] = 1\n",
    "noise_dict = {'output_index':xpred[:,1:].astype(int)}\n",
    "mu, cov = m.predict_noiseless(xpred,Y_metadata=noise_dict,full_cov=True)\n",
    "mu = mu[:,0]\n",
    "\n",
    "# y = Bx + c\n",
    "B = np.zeros((100,100))\n",
    "B[range(100),range(100)] = [norm['y1'][1]]*50 + [norm['y2'][1]]*50\n",
    "\n",
    "c = np.zeros(100)\n",
    "c[:50] = norm['y1'][0]\n",
    "c[50:] = norm['y2'][0]\n",
    "\n",
    "mu = np.dot(B, mu) + c\n",
    "cov = np.dot(B, np.dot(cov, B.T))\n",
    "\n",
    "\n",
    "B = np.eye(100)\n",
    "# convert cfu to log2\n",
    "# B[range(50,100),range(50,100)] = 1./np.log10(2)\n",
    "# ..or convert OD to log10\n",
    "B[range(50),range(50)] = 1./np.log2(10)\n",
    "\n",
    "mu = np.dot(B, mu)\n",
    "cov = np.dot(B, np.dot(cov, B.T))\n",
    "\n",
    "# compute diff\n",
    "B = np.zeros((50,100))\n",
    "B[range(50),range(50)] = -1.\n",
    "B[range(50),range(50,100)] = 1.\n",
    "\n",
    "mu = np.dot(B, mu)\n",
    "cov = np.dot(B, np.dot(cov, B.T))\n",
    "std = np.sqrt(np.diag(cov))\n",
    "\n",
    "plt.figure(figsize=(4,4))\n",
    "\n",
    "plt.plot(reverseTransform(xpred[:50,0],*norm['time']), mu, color='C4')\n",
    "plt.fill_between(reverseTransform(xpred[:50,0],*norm['time']), mu-1.98*std, mu+1.98*std,alpha=.4, color='C4')\n",
    "\n",
    "plt.title(\"$log_{10}($CFU/OD$)$\",fontsize=15)\n",
    "plt.xlabel(\"time (h)\", fontsize=15)\n",
    "\n",
    "plt.savefig(\"figures/cfu-vs-od_gp-ratio.pdf\",bbox_inches='tight')"
   ]
  },
  {
   "cell_type": "code",
   "execution_count": null,
   "metadata": {
    "collapsed": false
   },
   "outputs": [],
   "source": [
    "K = GPy.kern.Matern32(1)\n",
    "\n",
    "m1 = GPy.models.GPRegression(x1,y1,kernel=K.copy())\n",
    "m1.optimize()\n",
    "m2 = GPy.models.GPRegression(x2,y2,kernel=K.copy())\n",
    "m2.optimize()"
   ]
  },
  {
   "cell_type": "code",
   "execution_count": null,
   "metadata": {
    "collapsed": false
   },
   "outputs": [],
   "source": [
    "plt.figure(figsize=(8,4))\n",
    "\n",
    "xpred = np.hstack([np.linspace(x1.min(), x1.max())[:,None], [[0]]*50])\n",
    "\n",
    "plt.subplot(121)\n",
    "plt.title(\"$log_2($OD$)$\",fontsize=15,color='C0')\n",
    "plt.xlabel(\"time (h)\", fontsize=15)\n",
    "plotPrediction(xpred, m1.predict_noiseless, norm['y1'])\n",
    "plt.scatter(reverseTransform(x1, *norm['time']), reverseTransform(y1[:,0],*norm['y1']),c='C0')\n",
    "\n",
    "plt.subplot(122)\n",
    "plt.title(\"$log_{10}($CFU$)$\",fontsize=15,color='C1')\n",
    "plt.xlabel(\"time (h)\", fontsize=15)\n",
    "xpred[:,1] = 1\n",
    "plotPrediction(xpred, m2.predict_noiseless, norm['y2'],color='C1')\n",
    "plt.scatter(reverseTransform(x2, *norm['time']), reverseTransform(y2[:,0],*norm['y2']),c='C1')\n",
    "plt.ylim(6.1, 9.5)\n",
    "\n",
    "plt.savefig(\"figures/cfu-vs-od_gp-null.pdf\")"
   ]
  },
  {
   "cell_type": "code",
   "execution_count": null,
   "metadata": {
    "collapsed": false
   },
   "outputs": [],
   "source": [
    "plt.figure(figsize=(8,4))\n",
    "\n",
    "xpred = np.hstack([np.linspace(x1.min()*2.5, x1.max()*2.5)[:,None], [[0]]*50])\n",
    "\n",
    "plt.subplot(121)\n",
    "plt.title(\"$log_2($OD$)$\",fontsize=15,color='C0')\n",
    "plt.xlabel(\"time (h)\", fontsize=15)\n",
    "plotPrediction(xpred, m1.predict_noiseless, norm['y1'])\n",
    "plt.scatter(reverseTransform(x1, *norm['time']), reverseTransform(y1[:,0],*norm['y1']),c='C0')\n",
    "\n",
    "plt.subplot(122)\n",
    "plt.title(\"$log_{10}($CFU$)$\",fontsize=15,color='C1')\n",
    "plt.xlabel(\"time (h)\", fontsize=15)\n",
    "xpred[:,1] = 1\n",
    "plotPrediction(xpred, m2.predict_noiseless, norm['y2'],color='C1')\n",
    "plt.scatter(reverseTransform(x2, *norm['time']), reverseTransform(y2[:,0],*norm['y2']),c='C1')\n",
    "plt.ylim(6.1, 9.5)\n",
    "\n",
    "plt.savefig(\"figures/cfu-vs-od-long_gp-null.pdf\",bbox_inches='tight')"
   ]
  },
  {
   "cell_type": "code",
   "execution_count": null,
   "metadata": {
    "collapsed": true
   },
   "outputs": [],
   "source": []
  }
 ],
 "metadata": {
  "kernelspec": {
   "display_name": "Python 2",
   "language": "python",
   "name": "python2"
  },
  "language_info": {
   "codemirror_mode": {
    "name": "ipython",
    "version": 2
   },
   "file_extension": ".py",
   "mimetype": "text/x-python",
   "name": "python",
   "nbconvert_exporter": "python",
   "pygments_lexer": "ipython2",
   "version": "2.7.6"
  }
 },
 "nbformat": 4,
 "nbformat_minor": 1
}