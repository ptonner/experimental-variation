{
 "cells": [
  {
   "cell_type": "code",
   "execution_count": null,
   "metadata": {
    "collapsed": false
   },
   "outputs": [],
   "source": [
    "%pylab"
   ]
  },
  {
   "cell_type": "code",
   "execution_count": null,
   "metadata": {
    "collapsed": true
   },
   "outputs": [],
   "source": [
    "%matplotlib inline"
   ]
  },
  {
   "cell_type": "code",
   "execution_count": null,
   "metadata": {
    "collapsed": false
   },
   "outputs": [],
   "source": [
    "import popmachine, itertools, patsy, GPy, scipy, patsy, GPclust\n",
    "from popmachine.normal import MultivariateNormal"
   ]
  },
  {
   "cell_type": "code",
   "execution_count": null,
   "metadata": {
    "collapsed": true
   },
   "outputs": [],
   "source": [
    "op = np.zeros((50,100))\n",
    "op[:,:50] = -np.eye(50)\n",
    "op[:,50:] = np.eye(50)"
   ]
  },
  {
   "cell_type": "code",
   "execution_count": null,
   "metadata": {
    "collapsed": false
   },
   "outputs": [],
   "source": [
    "machine = popmachine.Machine('sqlite:///../popmachine_local/.popmachine.db')"
   ]
  },
  {
   "cell_type": "code",
   "execution_count": null,
   "metadata": {
    "collapsed": true
   },
   "outputs": [],
   "source": [
    "# ds = machine.search(plates=[u'20161010_PQ_osmo', u'20150517 PQ 3', u'20161107_PQ_osmo_combo',\n",
    "#        u'20150715 PQ 8', u'20150702 PQ 6', u'20150630 PQ 5', u'20150704 PQ 7', u'20150717 PQ 9'], Strain='ura3', **{'mM PQ':[0.0, 0.083, 0.333], 'M NaCl':['4.2', None]})\n",
    "\n",
    "ds = machine.search(plates=[u'20161010_PQ_osmo', u'20150517 PQ 3', u'20161107_PQ_osmo_combo',\n",
    "       u'20150715 PQ 8', u'20150702 PQ 6', u'20150630 PQ 5', u'20150704 PQ 7', u'20150717 PQ 9', u'20150607 PQ 4'], Strain='ura3', **{'mM PQ':[0.0, 0.083], 'M NaCl':['4.2', None]})\n",
    "ds.trim(10)\n",
    "ds.log()\n",
    "ds.poly_scale(2,groupby=['plate','mM PQ'])\n",
    "ds.filter()"
   ]
  },
  {
   "cell_type": "code",
   "execution_count": null,
   "metadata": {
    "collapsed": false
   },
   "outputs": [],
   "source": [
    "ds.data.shape"
   ]
  },
  {
   "cell_type": "code",
   "execution_count": null,
   "metadata": {
    "collapsed": true
   },
   "outputs": [],
   "source": [
    "X = ds.data.index.values[:,None]\n",
    "Y = ds.data.values.T"
   ]
  },
  {
   "cell_type": "code",
   "execution_count": null,
   "metadata": {
    "collapsed": false
   },
   "outputs": [],
   "source": [
    "k_underlying = GPy.kern.RBF(input_dim=1, variance=0.1, lengthscale=0.1)\n",
    "k_corruption = GPy.kern.RBF(input_dim=1, variance=0.01, lengthscale=0.1) + GPy.kern.White(1, variance=0.001)\n",
    "\n",
    "m = GPclust.MOHGP(X, k_underlying, k_corruption, Y, K=2, prior_Z='DP', alpha=1.0)\n",
    "m"
   ]
  },
  {
   "cell_type": "code",
   "execution_count": null,
   "metadata": {
    "collapsed": false
   },
   "outputs": [],
   "source": [
    "m.optimize()"
   ]
  },
  {
   "cell_type": "code",
   "execution_count": null,
   "metadata": {
    "collapsed": false
   },
   "outputs": [],
   "source": [
    "m.systematic_splits(verbose=False)"
   ]
  },
  {
   "cell_type": "code",
   "execution_count": null,
   "metadata": {
    "collapsed": true
   },
   "outputs": [],
   "source": [
    "m"
   ]
  },
  {
   "cell_type": "code",
   "execution_count": null,
   "metadata": {
    "collapsed": false
   },
   "outputs": [],
   "source": [
    "# ds.data = ds.data.iloc[::6,:]"
   ]
  },
  {
   "cell_type": "code",
   "execution_count": null,
   "metadata": {
    "collapsed": false
   },
   "outputs": [],
   "source": [
    "\n",
    "melt = ds.melt()\n",
    "# melt = melt.iloc[::10,:]\n",
    "# ind = np.random.choice(range(melt.shape[0]), 3000, replace=False)\n",
    "# melt = melt.iloc[ind,:]\n",
    "\n",
    "plt.scatter(melt.time, melt.od, c=melt['mM PQ'])\n",
    "\n",
    "melt.shape"
   ]
  },
  {
   "cell_type": "code",
   "execution_count": null,
   "metadata": {
    "collapsed": false
   },
   "outputs": [],
   "source": [
    "xgp = melt[['time', 'mM PQ', 'plate', 'number']].copy()\n",
    "xgp['pq'] = xgp['mM PQ'].astype(float)\n",
    "xgp['plate-number'] = xgp['plate'].astype(str) + \"_\" + xgp['number'].astype(str)\n",
    "xgp[['plate']], plate_labels = xgp.plate.factorize()\n",
    "xgp[['plate-number']], _ = xgp['plate-number'].factorize()\n",
    "\n",
    "xgp = patsy.dmatrix('scale(time) + scale(pq) + plate + number + 0', xgp)\n",
    "designInfo = xgp.design_info\n",
    "\n",
    "ygp = melt['od'].values[:,None]"
   ]
  },
  {
   "cell_type": "code",
   "execution_count": null,
   "metadata": {
    "collapsed": false
   },
   "outputs": [],
   "source": [
    "xgp = np.array(xgp)"
   ]
  },
  {
   "cell_type": "code",
   "execution_count": null,
   "metadata": {
    "collapsed": false
   },
   "outputs": [],
   "source": [
    "kmain = GPy.kern.RBF(2, ARD=True, name='main')\n",
    "\n",
    "# kbatch = GPy.kern.RBF(2, ARD=True, name='batch')\n",
    "# krep = GPy.kern.RBF(2, ARD=True, name='rep')\n",
    "\n",
    "# linear kernels\n",
    "kbatch = GPy.kern.Linear(1, name='batch-linear') * GPy.kern.RBF(2, ARD=True, name='batch')\n",
    "krep = GPy.kern.Linear(1, name='rep-linear') *  GPy.kern.RBF(2, ARD=True, name='rep')\n",
    "\n",
    "\n",
    "# kern = GPy.kern.Hierarchical((kmain, kbatch))\n",
    "kern = GPy.kern.Hierarchical((kmain, kbatch, krep))\n",
    "\n",
    "kern"
   ]
  },
  {
   "cell_type": "code",
   "execution_count": null,
   "metadata": {
    "collapsed": false
   },
   "outputs": [],
   "source": [
    "m = GPy.models.GPRegression(xgp, ygp, kern, normalizer=True)\n",
    "m.randomize()\n",
    "m"
   ]
  },
  {
   "cell_type": "code",
   "execution_count": null,
   "metadata": {
    "collapsed": false
   },
   "outputs": [],
   "source": [
    "m.optimize()\n",
    "m"
   ]
  },
  {
   "cell_type": "code",
   "execution_count": null,
   "metadata": {
    "collapsed": false
   },
   "outputs": [],
   "source": [
    "m['.*lengthscale']"
   ]
  },
  {
   "cell_type": "code",
   "execution_count": null,
   "metadata": {
    "collapsed": false
   },
   "outputs": [],
   "source": [
    "xpred = np.zeros((100,4))\n",
    "xpred[:,0] = np.tile(np.linspace(xgp[:,0].min(), xgp[:,0].max()), 2)\n",
    "xpred[:50,1] = xgp[:,1].min()\n",
    "xpred[50:,1] = xgp[:,1].max()\n",
    "xpred[:,2] = 1000\n",
    "xpred[:,3] = 1000\n",
    "\n",
    "mu, cov = m.predict_noiseless(xpred, full_cov=True, kern=m.kern.main)\n",
    "pred = popmachine.normal.MultivariateNormal(mu, cov)\n",
    "pred.plot()"
   ]
  },
  {
   "cell_type": "code",
   "execution_count": null,
   "metadata": {
    "collapsed": false
   },
   "outputs": [],
   "source": [
    "pred.dot(op).plot()"
   ]
  },
  {
   "cell_type": "code",
   "execution_count": null,
   "metadata": {
    "collapsed": false
   },
   "outputs": [],
   "source": [
    "mnull = GPy.models.GPRegression(xgp, ygp, GPy.kern.RBF(2, ARD=True), normalizer=True)\n",
    "mnull.randomize()\n",
    "mnull.optimize()\n",
    "mnull"
   ]
  },
  {
   "cell_type": "code",
   "execution_count": null,
   "metadata": {
    "collapsed": false
   },
   "outputs": [],
   "source": [
    "m"
   ]
  },
  {
   "cell_type": "code",
   "execution_count": null,
   "metadata": {
    "collapsed": false
   },
   "outputs": [],
   "source": [
    "xpred = np.zeros((100,4))\n",
    "xpred[:,0] = np.tile(np.linspace(xgp[:,0].min(), xgp[:,0].max()), 2)\n",
    "xpred[:50,1] = xgp[:,1].min()\n",
    "xpred[50:,1] = xgp[:,1].max()\n",
    "xpred[:,2] = 1000\n",
    "xpred[:,3] = 1000\n",
    "\n",
    "mu, cov = m.predict_noiseless(xpred, full_cov=True, kern=m.kern.main)\n",
    "pred = popmachine.normal.MultivariateNormal(mu, cov)\n",
    "\n",
    "nullPred = popmachine.normal.MultivariateNormal(*mnull.predict_noiseless(xpred, full_cov=True))\n",
    "\n",
    "nullPred.dot(op).plot(xpred[:50,0],color='r', label='M0')\n",
    "pred.dot(op).plot(xpred[:50,0],label='M3')\n",
    "\n",
    "plt.legend()\n",
    "\n",
    "plt.xlabel('time (normalized)', fontsize=12)\n",
    "plt.ylabel('OD (normalized)', fontsize=12)\n",
    "\n",
    "plt.savefig('figures/ura3_0.083mM-PQ_m03.pdf', bbox_inches='tight')"
   ]
  },
  {
   "cell_type": "code",
   "execution_count": null,
   "metadata": {
    "collapsed": false
   },
   "outputs": [],
   "source": [
    "models = {}\n",
    "for p in [u'20161010_PQ_osmo', u'20150517 PQ 3', u'20161107_PQ_osmo_combo',\n",
    "       u'20150715 PQ 8', u'20150702 PQ 6', u'20150630 PQ 5', u'20150704 PQ 7', u'20150717 PQ 9', u'20150607 PQ 4']:\n",
    "\n",
    "    ds = machine.search(plates=[p], Strain='ura3', **{'mM PQ':[0.0, 0.083], 'M NaCl':['4.2', None]})\n",
    "    ds.trim(10)\n",
    "    ds.log()\n",
    "    ds.poly_scale(2,groupby=['plate','mM PQ'])\n",
    "    ds.filter()\n",
    "    ds.data = ds.data.iloc[::6,:]\n",
    "    \n",
    "    melt = ds.melt()\n",
    "    #melt = melt.iloc[::10,:]\n",
    "    \n",
    "    xgp = melt[['time', 'mM PQ', 'plate', 'number']].copy()\n",
    "    #xgp[['plate']] = xgp.plate.factorize()[0]\n",
    "    xgp['pq'] = xgp['mM PQ'].astype(float)\n",
    "    xgp['plate-number'] = xgp['plate'].astype(str) + \"_\" + xgp['number'].astype(str)\n",
    "    xgp[['plate']], _ = xgp.plate.factorize()\n",
    "    xgp[['plate-number']], _ = xgp['plate-number'].factorize()\n",
    "    \n",
    "    xgp = patsy.build_design_matrices([designInfo], xgp)[0]\n",
    "    xgp = np.array(xgp)\n",
    "    xgp = xgp.astype(float)\n",
    "\n",
    "    ygp = melt['od'].values[:,None]\n",
    "\n",
    "    kmain = GPy.kern.RBF(2, ARD=True, name='main')\n",
    "\n",
    "    temp = GPy.models.GPRegression(xgp, ygp, kmain)\n",
    "    temp.randomize()\n",
    "    temp.optimize()\n",
    "    \n",
    "    print p, temp.log_likelihood()\n",
    "    \n",
    "    models[p] = temp\n",
    "    "
   ]
  },
  {
   "cell_type": "code",
   "execution_count": null,
   "metadata": {
    "collapsed": false
   },
   "outputs": [],
   "source": [
    "m.X"
   ]
  },
  {
   "cell_type": "code",
   "execution_count": null,
   "metadata": {
    "collapsed": false
   },
   "outputs": [],
   "source": [
    "plt.figure(figsize=(9,9))\n",
    "\n",
    "for i, p in enumerate(models.keys()):    \n",
    "    \n",
    "    plt.subplot(3, 3, i+1)\n",
    "    plt.title(p)\n",
    "    \n",
    "    temp = models[p]\n",
    "    \n",
    "    mu, cov = temp.predict_noiseless(xpred, full_cov=True)\n",
    "    tempPred = popmachine.normal.MultivariateNormal(mu, cov)\n",
    "    #pred.dot(op).plot(xpred[:50,0])\n",
    "    tempPred.dot(op).plot(xpred[:50,0],color='r')\n",
    "    \n",
    "    xpred[:,2] = plate_labels.tolist().index(p)\n",
    "    xpred[:,3] = 1000\n",
    "    mu, cov = m.predict_noiseless(xpred, full_cov=True, kern=GPy.kern.Hierarchical([m.kern.main.copy(), m.kern.batch.copy()]))    \n",
    "    tempPred = popmachine.normal.MultivariateNormal(mu, cov)\n",
    "    #pred.dot(op).plot(xpred[:50,0])\n",
    "    tempPred.dot(op).plot(xpred[:50,0],color='g')\n",
    "    \n",
    "    plt.plot([xpred[:50,0].min(), xpred[:50,0].max()], [0,0], 'k', lw=3)\n",
    "    \n",
    "    plt.ylim(-.69,.31)\n",
    "    \n",
    "    if i > 5:\n",
    "        plt.xlabel('time (normalized)', fontsize=12)\n",
    "        \n",
    "    if i % 3 == 0:\n",
    "        plt.ylabel('OD (normalized)', fontsize=12)\n",
    "    \n",
    "plt.tight_layout()\n",
    "\n",
    "plt.savefig('figures/ura3_0.083mM-PQ_individualBatches.pdf', bbox_inches='tight')"
   ]
  },
  {
   "cell_type": "code",
   "execution_count": null,
   "metadata": {
    "collapsed": false
   },
   "outputs": [],
   "source": [
    "plt.figure(figsize=(6,4))\n",
    "\n",
    "for i, p in enumerate(models.keys()):    \n",
    "    \n",
    "    temp = models[p]\n",
    "    \n",
    "    mu, cov = temp.predict_noiseless(xpred, full_cov=True)\n",
    "    tempPred = popmachine.normal.MultivariateNormal(mu, cov)\n",
    "    \n",
    "    tempPred.dot(op).plot(xpred[:50,0],color='r')\n",
    "    \n",
    "mu, cov = m.predict_noiseless(xpred, full_cov=True)\n",
    "pred = popmachine.normal.MultivariateNormal(mu, cov)\n",
    "pred.dot(op).plot(xpred[:50,0])\n",
    "\n",
    "plt.plot([xpred[:50,0].min(), xpred[:50,0].max()], [0,0], 'k', lw=3)\n",
    "    \n",
    "plt.tight_layout()\n",
    "\n",
    "plt.savefig('figures/ura3_0.083mM-PQ_batchDistribution.pdf', bbox_inches='tight')"
   ]
  },
  {
   "cell_type": "code",
   "execution_count": null,
   "metadata": {
    "collapsed": true
   },
   "outputs": [],
   "source": []
  }
 ],
 "metadata": {
  "kernelspec": {
   "display_name": "Python 2",
   "language": "python",
   "name": "python2"
  },
  "language_info": {
   "codemirror_mode": {
    "name": "ipython",
    "version": 2
   },
   "file_extension": ".py",
   "mimetype": "text/x-python",
   "name": "python",
   "nbconvert_exporter": "python",
   "pygments_lexer": "ipython2",
   "version": "2.7.6"
  }
 },
 "nbformat": 4,
 "nbformat_minor": 1
}