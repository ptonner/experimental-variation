{
 "cells": [
  {
   "cell_type": "code",
   "execution_count": null,
   "metadata": {
    "collapsed": false
   },
   "outputs": [],
   "source": [
    "%pylab"
   ]
  },
  {
   "cell_type": "code",
   "execution_count": null,
   "metadata": {
    "collapsed": true
   },
   "outputs": [],
   "source": [
    "%matplotlib inline"
   ]
  },
  {
   "cell_type": "code",
   "execution_count": null,
   "metadata": {
    "collapsed": true
   },
   "outputs": [],
   "source": [
    "import popmachine, itertools, patsy, GPy, scipy"
   ]
  },
  {
   "cell_type": "code",
   "execution_count": null,
   "metadata": {
    "collapsed": true
   },
   "outputs": [],
   "source": [
    "machine = popmachine.Machine()"
   ]
  },
  {
   "cell_type": "code",
   "execution_count": null,
   "metadata": {
    "collapsed": false
   },
   "outputs": [],
   "source": [
    "# ds = machine.search(genus='pseudomonas',strain='PA01',acid='acetic', pH=[7.0,6.5], **{'mM-acid':0})\n",
    "ds = machine.search(genus='pseudomonas',strain='PA01',acid='propionic', pH=[7.0,6.5], **{'mM-acid':0})\n",
    "ds.log()\n",
    "ds.trim(3)"
   ]
  },
  {
   "cell_type": "code",
   "execution_count": null,
   "metadata": {
    "collapsed": false
   },
   "outputs": [],
   "source": [
    "plt.plot(ds.data.index, ds.data.values)"
   ]
  },
  {
   "cell_type": "code",
   "execution_count": null,
   "metadata": {
    "collapsed": false
   },
   "outputs": [],
   "source": [
    "melt = ds.melt(norm=True)\n",
    "\n",
    "melt['mMAcid'] = melt['mM-acid'].astype(float)\n",
    "\n",
    "melt.head()"
   ]
  },
  {
   "cell_type": "code",
   "execution_count": null,
   "metadata": {
    "collapsed": false
   },
   "outputs": [],
   "source": [
    "ygp, xgp = patsy.dmatrices('od ~ scale(time) + scale(pH) + C(number) + 0', melt)\n",
    "\n",
    "# xgp[:,2] = xgp[:,2] - xgp[:,2].min()\n",
    "\n",
    "xgp = np.column_stack((xgp[:,-2:], np.where(xgp[:,:-2]==1)[1]))"
   ]
  },
  {
   "cell_type": "code",
   "execution_count": null,
   "metadata": {
    "collapsed": false
   },
   "outputs": [],
   "source": [
    "xgp"
   ]
  },
  {
   "cell_type": "code",
   "execution_count": null,
   "metadata": {
    "collapsed": false
   },
   "outputs": [],
   "source": [
    "plt.scatter(xgp[:,0], ygp, c=xgp[:,1])"
   ]
  },
  {
   "cell_type": "code",
   "execution_count": null,
   "metadata": {
    "collapsed": false
   },
   "outputs": [],
   "source": [
    "plt.plot(ds.data.values[:,ds.meta.pH==7].mean(1))\n",
    "plt.plot(ds.data.values[:,ds.meta.pH!=7].mean(1))"
   ]
  },
  {
   "cell_type": "code",
   "execution_count": null,
   "metadata": {
    "collapsed": false
   },
   "outputs": [],
   "source": [
    "kern = GPy.kern.Hierarchical((GPy.kern.RBF(2, ARD=True, name='main'), GPy.kern.RBF(2, ARD=True, name='rep')))\n",
    "\n",
    "gp = GPy.models.GPRegression(xgp, ygp, kern)\n",
    "gp.randomize()\n",
    "gp"
   ]
  },
  {
   "cell_type": "code",
   "execution_count": null,
   "metadata": {
    "collapsed": false
   },
   "outputs": [],
   "source": [
    "gp.optimize()\n",
    "gp"
   ]
  },
  {
   "cell_type": "code",
   "execution_count": null,
   "metadata": {
    "collapsed": false
   },
   "outputs": [],
   "source": [
    "plt.imshow(kern.K(xgp[:50,:]))"
   ]
  },
  {
   "cell_type": "code",
   "execution_count": null,
   "metadata": {
    "collapsed": false
   },
   "outputs": [],
   "source": [
    "gp_null = GPy.models.GPRegression(xgp, ygp, GPy.kern.RBF(2, ARD=True))\n",
    "gp_null.randomize()\n",
    "gp_null"
   ]
  },
  {
   "cell_type": "code",
   "execution_count": null,
   "metadata": {
    "collapsed": false
   },
   "outputs": [],
   "source": [
    "gp_null.optimize()\n",
    "gp_null"
   ]
  },
  {
   "cell_type": "code",
   "execution_count": null,
   "metadata": {
    "collapsed": true
   },
   "outputs": [],
   "source": [
    "def plotOp(mu, cov, op, xpred):\n",
    "    mu = np.dot(op, mu)[:,0]\n",
    "    cov = np.dot(op, np.dot(cov, op.T))\n",
    "\n",
    "    std = np.sqrt(np.diag(cov))\n",
    "\n",
    "    plt.plot(xpred[:50,0],mu)\n",
    "    plt.fill_between(xpred[:50,0],mu-1.96*std, mu+1.96*std,alpha=.1)"
   ]
  },
  {
   "cell_type": "code",
   "execution_count": null,
   "metadata": {
    "collapsed": false
   },
   "outputs": [],
   "source": [
    "xpred = np.zeros((100,3))\n",
    "xpred[:,0] = np.tile(np.linspace(xgp[:,0].min(), xgp[:,0].max()), 2)\n",
    "xpred[:50,1] = 1\n",
    "xpred[50:,1] = -1\n",
    "xpred[:,2] = 100\n",
    "\n",
    "op = np.zeros((50,100))\n",
    "op[:,:50] = np.eye(50)\n",
    "op[:,50:] = -np.eye(50)\n",
    "\n",
    "mu, cov = gp.predict_noiseless(xpred, full_cov=True, kern=kern.main)\n",
    "\n",
    "plotOp(mu, cov, op, xpred)\n",
    "\n",
    "mu, cov = gp_null.predict_noiseless(xpred, full_cov=True)\n",
    "\n",
    "plotOp(mu, cov, op, xpred)\n",
    "\n",
    "plt.plot([xgp[:,0].min(), xgp[:,0].max()], [0]*2, c='k', lw=2)"
   ]
  },
  {
   "cell_type": "code",
   "execution_count": null,
   "metadata": {
    "collapsed": false
   },
   "outputs": [],
   "source": [
    "xpred = np.zeros((50,3))\n",
    "xpred[:,0] = np.linspace(xgp[:,0].min(), xgp[:,0].max())\n",
    "xpred[:,1] = 1\n",
    "xpred[:,2] = 100\n",
    "\n",
    "mu, cov = gp.predict(xpred, full_cov=True)\n",
    "\n",
    "plt.plot(scipy.stats.multivariate_normal(mu[:,0], cov).rvs(size=10).T);"
   ]
  },
  {
   "cell_type": "code",
   "execution_count": null,
   "metadata": {
    "collapsed": true
   },
   "outputs": [],
   "source": []
  }
 ],
 "metadata": {
  "kernelspec": {
   "display_name": "Python 2",
   "language": "python",
   "name": "python2"
  },
  "language_info": {
   "codemirror_mode": {
    "name": "ipython",
    "version": 2
   },
   "file_extension": ".py",
   "mimetype": "text/x-python",
   "name": "python",
   "nbconvert_exporter": "python",
   "pygments_lexer": "ipython2",
   "version": "2.7.6"
  }
 },
 "nbformat": 4,
 "nbformat_minor": 1
}