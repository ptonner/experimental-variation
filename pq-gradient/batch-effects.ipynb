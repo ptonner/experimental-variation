{
 "cells": [
  {
   "cell_type": "code",
   "execution_count": null,
   "metadata": {
    "collapsed": true
   },
   "outputs": [],
   "source": [
    "import scipy, patsy, GPy\n",
    "from gpmultipy import dataset\n",
    "import pandas as pd"
   ]
  },
  {
   "cell_type": "code",
   "execution_count": null,
   "metadata": {
    "collapsed": false
   },
   "outputs": [],
   "source": [
    "%pylab"
   ]
  },
  {
   "cell_type": "code",
   "execution_count": null,
   "metadata": {
    "collapsed": true
   },
   "outputs": [],
   "source": [
    "%matplotlib inline"
   ]
  },
  {
   "cell_type": "code",
   "execution_count": null,
   "metadata": {
    "collapsed": false
   },
   "outputs": [],
   "source": [
    "ds1 = dataset.DataSet(\"../data/normalized/ura3-pq-replicate/\")\n",
    "ds1.meta['batch'] = 1\n",
    "\n",
    "ds2 = dataset.DataSet(\"../data/pq-osmo-control/\")\n",
    "ds2.meta['mM_PQ'] = ds2.meta['mM PQ']\n",
    "ds2.meta.mM_PQ[ds2.meta.mM_PQ.isnull()] = 0\n",
    "ds2.meta['batch'] = 2\n",
    "\n",
    "ds3 = dataset.DataSet(\"../data/pq-osmo-combo/\")\n",
    "ds3.meta['mM_PQ'] = ds3.meta['mM PQ']\n",
    "ds3.meta.mM_PQ[ds3.meta.mM_PQ.isnull()] = 0\n",
    "ds3.meta['batch'] = 3"
   ]
  },
  {
   "cell_type": "code",
   "execution_count": null,
   "metadata": {
    "collapsed": false
   },
   "outputs": [],
   "source": [
    "meta = pd.concat((ds1.meta,ds2.meta,ds3.meta))\n",
    "meta.loc[meta['M NaCl'].isnull(),'M NaCl'] = 4.2\n",
    "\n",
    "meta.head()"
   ]
  },
  {
   "cell_type": "code",
   "execution_count": null,
   "metadata": {
    "collapsed": false
   },
   "outputs": [],
   "source": [
    "', '.join(['%.3lf' % pq for pq in sorted(meta.mM_PQ.unique())])"
   ]
  },
  {
   "cell_type": "code",
   "execution_count": null,
   "metadata": {
    "collapsed": false
   },
   "outputs": [],
   "source": [
    "data = pd.concat((ds1.data,ds2.data,ds3.data),1)\n",
    "data.head()"
   ]
  },
  {
   "cell_type": "code",
   "execution_count": null,
   "metadata": {
    "collapsed": true
   },
   "outputs": [],
   "source": [
    "# remove osmo stress\n",
    "\n",
    "select = meta['M NaCl']==4.2\n",
    "meta = meta[select]\n",
    "data = data.loc[:,select]"
   ]
  },
  {
   "cell_type": "code",
   "execution_count": null,
   "metadata": {
    "collapsed": false
   },
   "outputs": [],
   "source": [
    "# remove edges\n",
    "\n",
    "edge = range(101,111) + range(111,191,10) + range(120,191,10) + range(191,201) + range(201,211) + range(211,291,10) + range(220,291,10) + range(291,301)\n",
    "edge = np.array(edge)\n",
    "\n",
    "select = ~meta.Well.isin(edge)\n",
    "\n",
    "meta = meta[select]\n",
    "data = data.loc[:,select]"
   ]
  },
  {
   "cell_type": "code",
   "execution_count": null,
   "metadata": {
    "collapsed": true
   },
   "outputs": [],
   "source": [
    "ds = dataset.DataSet('data/')"
   ]
  },
  {
   "cell_type": "code",
   "execution_count": null,
   "metadata": {
    "collapsed": false
   },
   "outputs": [],
   "source": [
    "pivot = pd.concat((ds.meta, ds.data.T),1,ignore_index=False)\n",
    "\n",
    "pivot.mM_PQ = pivot.mM_PQ.round(2)\n",
    "pivot = pivot[pivot.Strain=='ura3']\n",
    "pivot = pivot[~(pivot.Bio.isin(list('EFGHIJKLMN')))]\n",
    "\n",
    "pivot.head()"
   ]
  },
  {
   "cell_type": "code",
   "execution_count": null,
   "metadata": {
    "collapsed": false
   },
   "outputs": [],
   "source": [
    "melt = pd.melt(pivot, ds.meta.columns.tolist(), ds.data.columns.tolist(), var_name='time', value_name='od')\n",
    "\n",
    "melt.time = melt.time.astype(float)\n",
    "melt.mM_PQ = melt.mM_PQ.round(2)\n",
    "\n",
    "melt = melt[~melt.od.isnull()]\n",
    "melt = melt[melt.Strain=='ura3']\n",
    "melt = melt[~(melt.Bio.isin(list('EFGHIJKLMN')))]\n",
    "\n",
    "melt.Bio = melt.Bio.astype('category').cat.codes\n",
    "melt.Bio += 1\n",
    "\n",
    "melt.batch = melt.batch.astype(int)\n",
    "\n",
    "melt.od = np.log2(melt.od)\n",
    "\n",
    "melt = melt.loc[(melt.time.astype(int) % 3) == 0,:]\n",
    "\n",
    "melt.shape"
   ]
  },
  {
   "cell_type": "code",
   "execution_count": null,
   "metadata": {
    "collapsed": false
   },
   "outputs": [],
   "source": [
    "select = melt[melt.mM_PQ==0.0]\n",
    "g = select.groupby(['batch','Well'])\n",
    "\n",
    "plt.figure(figsize=(10,6))\n",
    "\n",
    "for k, temp in g:\n",
    "    #print k\n",
    "    batch, well = k\n",
    "    \n",
    "    temp = temp.sort_values('time')\n",
    "    \n",
    "    if batch == 1:\n",
    "        color = 'g'\n",
    "    elif batch == 2:\n",
    "        color = 'r'\n",
    "    else:\n",
    "        color = 'b'\n",
    "    \n",
    "    plt.plot(temp.time,temp.od,c=color,alpha=.6)\n",
    "    plt.ylim(melt.od.min(), melt.od.max())\n",
    "\n",
    "plt.ylabel(\"log(OD)\",fontsize=20)\n",
    "plt.xlabel(\"time (h)\",fontsize=20)\n",
    "plt.tight_layout()"
   ]
  },
  {
   "cell_type": "code",
   "execution_count": null,
   "metadata": {
    "collapsed": false
   },
   "outputs": [],
   "source": [
    "g = melt.groupby(['mM_PQ','batch','Bio','Well'])\n",
    "pqvals = melt.mM_PQ.unique()\n",
    "pqvals.sort()\n",
    "\n",
    "plt.figure(figsize=(20,8))\n",
    "\n",
    "for k, temp in g:\n",
    "    #print k\n",
    "    pq, batch, bio, well = k\n",
    "    \n",
    "    ind = pqvals.tolist().index(pq)\n",
    "    plt.subplot(2,5,ind+1)\n",
    "    plt.title(pq)\n",
    "    \n",
    "    temp = temp.sort_values('time')\n",
    "    \n",
    "    if batch == 1:\n",
    "        color = 'g'\n",
    "    elif batch == 2:\n",
    "        color = 'r'\n",
    "    else:\n",
    "        color = 'b'\n",
    "    \n",
    "    plt.plot(temp.time,temp.od,c=color,alpha=.6)\n",
    "    plt.ylim(melt.od.min(), melt.od.max())\n",
    "    \n",
    "plt.tight_layout()"
   ]
  },
  {
   "cell_type": "code",
   "execution_count": null,
   "metadata": {
    "collapsed": false
   },
   "outputs": [],
   "source": [
    "plt.scatter(melt.time.values[::10], melt.od.values[::10])"
   ]
  },
  {
   "cell_type": "code",
   "execution_count": null,
   "metadata": {
    "collapsed": false
   },
   "outputs": [],
   "source": [
    "melt.head()"
   ]
  },
  {
   "cell_type": "code",
   "execution_count": null,
   "metadata": {
    "collapsed": true
   },
   "outputs": [],
   "source": [
    "# xgp = melt[['time', 'mM_PQ', 'batch']].values\n",
    "\n",
    "# ygp = "
   ]
  },
  {
   "cell_type": "code",
   "execution_count": null,
   "metadata": {
    "collapsed": false
   },
   "outputs": [],
   "source": [
    "ygp, xgp = patsy.dmatrices('standardize(od) ~ standardize(time) + standardize(mM_PQ) + batch + 0', melt)\n",
    "\n",
    "fi = ygp.design_info.factor_infos[ygp.design_info.factor_infos.keys()[0]]\n",
    "s = fi.state['transforms']['_patsy_stobj0__standardize__']\n",
    "\n",
    "xgp"
   ]
  },
  {
   "cell_type": "code",
   "execution_count": null,
   "metadata": {
    "collapsed": true
   },
   "outputs": [],
   "source": [
    "kmain = GPy.kern.RBF(1, ARD=True, name='time') + GPy.kern.RBF(2, ARD=True,name='interaction')\n",
    "kmain.name='main'\n",
    "\n",
    "kbatch = GPy.kern.RBF(2, ARD=True, name='batch')"
   ]
  },
  {
   "cell_type": "code",
   "execution_count": null,
   "metadata": {
    "collapsed": false
   },
   "outputs": [],
   "source": [
    "select = xgp[:,-1] == 1\n",
    "gp_b1 = GPy.models.GPRegression(xgp[select,:], ygp[select,:], kmain.copy())\n",
    "gp_b1.randomize()\n",
    "gp_b1.optimize()\n",
    "gp_b1"
   ]
  },
  {
   "cell_type": "code",
   "execution_count": null,
   "metadata": {
    "collapsed": false
   },
   "outputs": [],
   "source": [
    "select = xgp[:,-1] == 2\n",
    "gp_b2 = GPy.models.GPRegression(xgp[select,:], ygp[select,:], kmain.copy())\n",
    "gp_b2.randomize()\n",
    "gp_b2.optimize()\n",
    "gp_b2"
   ]
  },
  {
   "cell_type": "code",
   "execution_count": null,
   "metadata": {
    "collapsed": false
   },
   "outputs": [],
   "source": [
    "select = xgp[:,-1] == 3\n",
    "gp_b3 = GPy.models.GPRegression(xgp[select,:], ygp[select,:], kmain.copy())\n",
    "gp_b3.randomize()\n",
    "gp_b3.optimize()\n",
    "gp_b3"
   ]
  },
  {
   "cell_type": "code",
   "execution_count": null,
   "metadata": {
    "collapsed": false
   },
   "outputs": [],
   "source": [
    "kern = GPy.kern.Hierarchical((kmain.copy(), kbatch.copy()))\n",
    "\n",
    "gp = GPy.models.GPRegression(xgp, ygp, kern)\n",
    "gp.randomize()\n",
    "gp"
   ]
  },
  {
   "cell_type": "code",
   "execution_count": null,
   "metadata": {
    "collapsed": false
   },
   "outputs": [],
   "source": [
    "gp.optimize()\n",
    "gp"
   ]
  },
  {
   "cell_type": "code",
   "execution_count": null,
   "metadata": {
    "collapsed": false
   },
   "outputs": [],
   "source": [
    "meltpred = {'time':np.linspace(melt.time.min(), melt.time.max()),'mM_PQ':[0]*50, 'batch':[3]*50}\n",
    "xpred = patsy.build_design_matrices([xgp.design_info], meltpred)[0]\n",
    "\n",
    "mu, cov = gp.predict_noiseless(xpred, kern = kmain)\n",
    "# mu, cov = gp.predict_noiseless(xpred)\n",
    "# mu, cov = gp.predict(xpred)\n",
    "cov = cov[:,0]\n",
    "mu = mu[:,0]\n",
    "plt.plot(xpred[:,0], mu)\n",
    "plt.fill_between(xpred[:,0], mu-2*np.sqrt(cov), mu+2*np.sqrt(cov), alpha=.3)\n",
    "\n",
    "plt.scatter(xgp[xgp[:,1]==xpred[0,1],0], ygp[xgp[:,1]==xpred[0,1],0], color='C0',alpha=.1)\n",
    "\n",
    "meltpred['mM_PQ'] = [0.33]*50\n",
    "xpred = patsy.build_design_matrices([xgp.design_info], meltpred)[0]\n",
    "mu, cov = gp.predict_noiseless(xpred, kern = kmain)\n",
    "# mu, cov = gp.predict_noiseless(xpred,)\n",
    "# mu, cov = gp.predict(xpred)\n",
    "cov = cov[:,0]\n",
    "mu = mu[:,0]\n",
    "plt.plot(xpred[:,0], mu)\n",
    "plt.fill_between(xpred[:,0], mu-2*np.sqrt(cov), mu+2*np.sqrt(cov), alpha=.3)\n",
    "\n",
    "plt.scatter(xgp[np.isclose(xgp[:,1],xpred[0,1]),0], ygp[np.isclose(xgp[:,1],xpred[0,1]),0], color='C1',alpha=.1)\n",
    "\n"
   ]
  },
  {
   "cell_type": "code",
   "execution_count": null,
   "metadata": {
    "collapsed": false
   },
   "outputs": [],
   "source": [
    "plt.bar(range(2), [kmain.interaction.variance, kern.batch.variance])"
   ]
  },
  {
   "cell_type": "code",
   "execution_count": null,
   "metadata": {
    "collapsed": false
   },
   "outputs": [],
   "source": [
    "select = melt[melt.mM_PQ==0.0]\n",
    "g = select.groupby(['batch','Well'])\n",
    "\n",
    "meltpred = {'time':np.linspace(melt.time.min(), melt.time.max()),'mM_PQ':[0]*50, 'batch':[3]*50}\n",
    "xpred = patsy.build_design_matrices([xgp.design_info], meltpred)[0]\n",
    "\n",
    "mu, cov = gp.predict_noiseless(xpred, kern = gp.kern.main)\n",
    "# mu, cov = gp.predict_noiseless(xpred)\n",
    "# mu, cov = gp.predict(xpred)\n",
    "cov = cov[:,0]\n",
    "mu = mu[:,0]\n",
    "\n",
    "plt.figure(figsize=(12,4))\n",
    "\n",
    "for k, temp in g:\n",
    "    #print k\n",
    "    batch, well = k\n",
    "        \n",
    "    plt.subplot(1,3,batch)\n",
    "    \n",
    "    temp = temp.sort_values('time')\n",
    "    \n",
    "    color = \"C%d\"%(batch-1)\n",
    "    \n",
    "    #plt.plot(temp.time,s.transform(temp.od),c=color,alpha=.6)\n",
    "    \n",
    "for batch in range(1,4):\n",
    "    plt.subplot(1,3,batch)\n",
    "    plt.plot(meltpred['time'], mu, c='k')\n",
    "    plt.fill_between(meltpred['time'], mu-2*np.sqrt(cov), mu+2*np.sqrt(cov), alpha=.3, color='k')\n",
    "    \n",
    "    temp_gp = [gp_b1, gp_b2, gp_b3][batch-1]\n",
    "    mu2,cov2 = temp_gp.predict_noiseless(xpred)\n",
    "    cov2 = cov2[:,0]\n",
    "    mu2 = mu2[:,0]\n",
    "\n",
    "    plt.plot(meltpred['time'], mu2, c='C%d'%(batch-1))\n",
    "    plt.fill_between(meltpred['time'], mu2-2*np.sqrt(cov2), mu2+2*np.sqrt(cov2), alpha=.3, color='C%d'%(batch-1))\n",
    "\n",
    "# plt.ylabel(\"log(OD)\",fontsize=20)\n",
    "# plt.xlabel(\"time (h)\",fontsize=20)\n",
    "plt.tight_layout()\n",
    "\n",
    "\n"
   ]
  },
  {
   "cell_type": "code",
   "execution_count": null,
   "metadata": {
    "collapsed": false
   },
   "outputs": [],
   "source": []
  },
  {
   "cell_type": "code",
   "execution_count": null,
   "metadata": {
    "collapsed": false
   },
   "outputs": [],
   "source": [
    "s = fi.state['transforms']['_patsy_stobj0__standardize__']"
   ]
  },
  {
   "cell_type": "code",
   "execution_count": null,
   "metadata": {
    "collapsed": false
   },
   "outputs": [],
   "source": [
    "s.transform(temp.od)"
   ]
  },
  {
   "cell_type": "code",
   "execution_count": null,
   "metadata": {
    "collapsed": true
   },
   "outputs": [],
   "source": []
  }
 ],
 "metadata": {
  "kernelspec": {
   "display_name": "Python 2",
   "language": "python",
   "name": "python2"
  },
  "language_info": {
   "codemirror_mode": {
    "name": "ipython",
    "version": 2
   },
   "file_extension": ".py",
   "mimetype": "text/x-python",
   "name": "python",
   "nbconvert_exporter": "python",
   "pygments_lexer": "ipython2",
   "version": "2.7.6"
  }
 },
 "nbformat": 4,
 "nbformat_minor": 1
}