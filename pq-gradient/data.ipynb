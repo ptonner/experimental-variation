{
 "cells": [
  {
   "cell_type": "code",
   "execution_count": null,
   "metadata": {
    "collapsed": true
   },
   "outputs": [],
   "source": [
    "import scipy, patsy\n",
    "from gpmultipy import dataset\n",
    "import pandas as pd"
   ]
  },
  {
   "cell_type": "code",
   "execution_count": null,
   "metadata": {
    "collapsed": false
   },
   "outputs": [],
   "source": [
    "%pylab"
   ]
  },
  {
   "cell_type": "code",
   "execution_count": null,
   "metadata": {
    "collapsed": true
   },
   "outputs": [],
   "source": [
    "%matplotlib inline"
   ]
  },
  {
   "cell_type": "code",
   "execution_count": null,
   "metadata": {
    "collapsed": false
   },
   "outputs": [],
   "source": [
    "ds1 = dataset.DataSet(\"../data/normalized/ura3-pq-replicate/\")\n",
    "ds1.meta['batch'] = 1\n",
    "\n",
    "ds2 = dataset.DataSet(\"../data/pq-osmo-control/\")\n",
    "ds2.meta['mM_PQ'] = ds2.meta['mM PQ']\n",
    "ds2.meta.mM_PQ[ds2.meta.mM_PQ.isnull()] = 0\n",
    "ds2.meta['batch'] = 2\n",
    "\n",
    "ds3 = dataset.DataSet(\"../data/pq-osmo-combo/\")\n",
    "ds3.meta['mM_PQ'] = ds3.meta['mM PQ']\n",
    "ds3.meta.mM_PQ[ds3.meta.mM_PQ.isnull()] = 0\n",
    "ds3.meta['batch'] = 3"
   ]
  },
  {
   "cell_type": "code",
   "execution_count": null,
   "metadata": {
    "collapsed": false
   },
   "outputs": [],
   "source": [
    "meta = pd.concat((ds1.meta,ds2.meta,ds3.meta))\n",
    "meta.loc[meta['M NaCl'].isnull(),'M NaCl'] = 4.2\n",
    "\n",
    "meta.head()"
   ]
  },
  {
   "cell_type": "code",
   "execution_count": null,
   "metadata": {
    "collapsed": false
   },
   "outputs": [],
   "source": [
    "', '.join(['%.3lf' % pq for pq in sorted(meta.mM_PQ.unique())])"
   ]
  },
  {
   "cell_type": "code",
   "execution_count": null,
   "metadata": {
    "collapsed": false
   },
   "outputs": [],
   "source": [
    "data = pd.concat((ds1.data,ds2.data,ds3.data),1)\n",
    "data.head()"
   ]
  },
  {
   "cell_type": "code",
   "execution_count": null,
   "metadata": {
    "collapsed": true
   },
   "outputs": [],
   "source": [
    "# remove osmo stress\n",
    "\n",
    "select = meta['M NaCl']==4.2\n",
    "meta = meta[select]\n",
    "data = data.loc[:,select]"
   ]
  },
  {
   "cell_type": "code",
   "execution_count": null,
   "metadata": {
    "collapsed": false
   },
   "outputs": [],
   "source": [
    "# remove edges\n",
    "\n",
    "edge = range(101,111) + range(111,191,10) + range(120,191,10) + range(191,201) + range(201,211) + range(211,291,10) + range(220,291,10) + range(291,301)\n",
    "edge = np.array(edge)\n",
    "\n",
    "select = ~meta.Well.isin(edge)\n",
    "\n",
    "meta = meta[select]\n",
    "data = data.loc[:,select]"
   ]
  },
  {
   "cell_type": "code",
   "execution_count": null,
   "metadata": {
    "collapsed": true
   },
   "outputs": [],
   "source": [
    "data.to_csv(\"data/data.csv\")\n",
    "meta.to_csv(\"data/meta.csv\",index=False)"
   ]
  },
  {
   "cell_type": "code",
   "execution_count": null,
   "metadata": {
    "collapsed": true
   },
   "outputs": [],
   "source": [
    "ds = dataset.DataSet('data/')"
   ]
  },
  {
   "cell_type": "code",
   "execution_count": null,
   "metadata": {
    "collapsed": false
   },
   "outputs": [],
   "source": [
    "pivot = pd.concat((ds.meta, ds.data.T),1,ignore_index=False)\n",
    "\n",
    "pivot.mM_PQ = pivot.mM_PQ.round(2)\n",
    "pivot = pivot[pivot.Strain=='ura3']\n",
    "pivot = pivot[~(pivot.Bio.isin(list('EFGHIJKLMN')))]\n",
    "\n",
    "pivot.head()"
   ]
  },
  {
   "cell_type": "code",
   "execution_count": null,
   "metadata": {
    "collapsed": false
   },
   "outputs": [],
   "source": [
    "melt = pd.melt(pivot, ds.meta.columns.tolist(), ds.data.columns.tolist(), var_name='time', value_name='od')\n",
    "melt.head()"
   ]
  },
  {
   "cell_type": "code",
   "execution_count": null,
   "metadata": {
    "collapsed": false
   },
   "outputs": [],
   "source": [
    "melt.time = melt.time.astype(float)\n",
    "melt.mM_PQ = melt.mM_PQ.round(2)\n",
    "\n",
    "melt = melt[~melt.od.isnull()]\n",
    "melt = melt[melt.Strain=='ura3']\n",
    "melt = melt[~(melt.Bio.isin(list('EFGHIJKLMN')))]\n",
    "\n",
    "melt.Bio = melt.Bio.astype('category').cat.codes\n",
    "melt.Bio += 1\n",
    "\n",
    "melt.od = np.log2(melt.od)\n",
    "\n",
    "melt.shape"
   ]
  },
  {
   "cell_type": "code",
   "execution_count": null,
   "metadata": {
    "collapsed": true
   },
   "outputs": [],
   "source": [
    "melt.to_csv(\"data/melt.csv\",index=False)"
   ]
  },
  {
   "cell_type": "code",
   "execution_count": null,
   "metadata": {
    "collapsed": false
   },
   "outputs": [],
   "source": [
    "select = melt[melt.mM_PQ==0.0]\n",
    "g = select.groupby(['batch','Well'])\n",
    "\n",
    "plt.figure(figsize=(10,6))\n",
    "\n",
    "for k, temp in g:\n",
    "    #print k\n",
    "    batch, well = k\n",
    "    \n",
    "    temp = temp.sort_values('time')\n",
    "    \n",
    "    if batch == 1:\n",
    "        color = 'g'\n",
    "    elif batch == 2:\n",
    "        color = 'r'\n",
    "    else:\n",
    "        color = 'b'\n",
    "    \n",
    "    plt.plot(temp.time,temp.od,c=color,alpha=.6)\n",
    "    plt.ylim(melt.od.min(), melt.od.max())\n",
    "\n",
    "plt.ylabel(\"log(OD)\",fontsize=20)\n",
    "plt.xlabel(\"time (h)\",fontsize=20)\n",
    "plt.tight_layout()\n",
    "\n",
    "plt.savefig(\"figures/batch-0mMPQ.pdf\",bbox_inches='tight')"
   ]
  },
  {
   "cell_type": "code",
   "execution_count": null,
   "metadata": {
    "collapsed": true
   },
   "outputs": [],
   "source": []
  },
  {
   "cell_type": "code",
   "execution_count": null,
   "metadata": {
    "collapsed": false
   },
   "outputs": [],
   "source": [
    "g = melt.groupby(['mM_PQ','batch','Bio','Well'])\n",
    "pqvals = melt.mM_PQ.unique()\n",
    "pqvals.sort()\n",
    "\n",
    "plt.figure(figsize=(20,8))\n",
    "\n",
    "for k, temp in g:\n",
    "    #print k\n",
    "    pq, batch, bio, well = k\n",
    "    \n",
    "    ind = pqvals.tolist().index(pq)\n",
    "    plt.subplot(2,5,ind+1)\n",
    "    plt.title(pq)\n",
    "    \n",
    "    temp = temp.sort_values('time')\n",
    "    \n",
    "    if batch == 1:\n",
    "        color = 'g'\n",
    "    elif batch == 2:\n",
    "        color = 'r'\n",
    "    else:\n",
    "        color = 'b'\n",
    "    \n",
    "    plt.plot(temp.time,temp.od,c=color,alpha=.6)\n",
    "    plt.ylim(melt.od.min(), melt.od.max())\n",
    "    \n",
    "plt.tight_layout()\n",
    "plt.savefig(\"figures/data.pdf\")"
   ]
  },
  {
   "cell_type": "code",
   "execution_count": null,
   "metadata": {
    "collapsed": false
   },
   "outputs": [],
   "source": [
    "g = pivot.groupby(['batch','mM_PQ'])\n",
    "\n",
    "d1 = g.get_group((1,0.0)).iloc[:,10:]\n",
    "d2 = g.get_group((2,0.0)).iloc[:,10:]\n",
    "\n",
    "plt.plot(d1.columns,d1.T,c='g');\n",
    "plt.plot(d1.columns,d2.T,c='r');"
   ]
  },
  {
   "cell_type": "code",
   "execution_count": null,
   "metadata": {
    "collapsed": false
   },
   "outputs": [],
   "source": [
    "combined = pd.concat((d1,d2))\n",
    "combined.head()"
   ]
  },
  {
   "cell_type": "code",
   "execution_count": null,
   "metadata": {
    "collapsed": false
   },
   "outputs": [],
   "source": [
    "combined.shape"
   ]
  },
  {
   "cell_type": "code",
   "execution_count": null,
   "metadata": {
    "collapsed": true
   },
   "outputs": [],
   "source": [
    "X = pivot.iloc[:,10:]\n",
    "Y = pivot[['mM_PQ','batch']]"
   ]
  },
  {
   "cell_type": "code",
   "execution_count": null,
   "metadata": {
    "collapsed": false
   },
   "outputs": [],
   "source": [
    "X.head()"
   ]
  },
  {
   "cell_type": "code",
   "execution_count": null,
   "metadata": {
    "collapsed": false
   },
   "outputs": [],
   "source": [
    "Y.head()"
   ]
  },
  {
   "cell_type": "code",
   "execution_count": null,
   "metadata": {
    "collapsed": true
   },
   "outputs": [],
   "source": [
    "import sklearn.decomposition"
   ]
  },
  {
   "cell_type": "code",
   "execution_count": null,
   "metadata": {
    "collapsed": false
   },
   "outputs": [],
   "source": [
    "pca = sklearn.decomposition.PCA()\n",
    "reduced = pca.fit_transform(X)\n",
    "reduced.shape"
   ]
  },
  {
   "cell_type": "code",
   "execution_count": null,
   "metadata": {
    "collapsed": false
   },
   "outputs": [],
   "source": [
    "plt.plot(pca.explained_variance_)\n",
    "plt.semilogy()"
   ]
  },
  {
   "cell_type": "code",
   "execution_count": null,
   "metadata": {
    "collapsed": false
   },
   "outputs": [],
   "source": [
    "plt.plot(pca.mean_)"
   ]
  },
  {
   "cell_type": "code",
   "execution_count": null,
   "metadata": {
    "collapsed": false
   },
   "outputs": [],
   "source": [
    "plt.scatter(reduced[:,0],reduced[:,1],c=Y.batch);"
   ]
  },
  {
   "cell_type": "code",
   "execution_count": null,
   "metadata": {
    "collapsed": false
   },
   "outputs": [],
   "source": [
    "plt.scatter(reduced[:,1],reduced[:,2],c=Y.batch);"
   ]
  },
  {
   "cell_type": "code",
   "execution_count": null,
   "metadata": {
    "collapsed": false
   },
   "outputs": [],
   "source": [
    "for i in range(20):\n",
    "    plt.figure()\n",
    "    plt.xlabel(i)\n",
    "    plt.ylabel(i+1)\n",
    "    plt.scatter(reduced[:,i],reduced[:,i+1],c=Y.batch);"
   ]
  },
  {
   "cell_type": "code",
   "execution_count": null,
   "metadata": {
    "collapsed": false
   },
   "outputs": [],
   "source": [
    "plt.scatter(reduced[:,0],reduced[:,1],c=Y.mM_PQ);"
   ]
  },
  {
   "cell_type": "code",
   "execution_count": null,
   "metadata": {
    "collapsed": false
   },
   "outputs": [],
   "source": [
    "plt.plot(np.dot(reduced, pca.components_).T);"
   ]
  },
  {
   "cell_type": "code",
   "execution_count": null,
   "metadata": {
    "collapsed": false
   },
   "outputs": [],
   "source": [
    "plt.plot(np.dot(reduced, pca.components_).T+pca.mean_[:,None]);"
   ]
  },
  {
   "cell_type": "code",
   "execution_count": null,
   "metadata": {
    "collapsed": false
   },
   "outputs": [],
   "source": [
    "r = 1\n",
    "plt.plot(np.dot(reduced[:,r:], pca.components_[r:,:]).T + pca.mean_[:,None]);"
   ]
  },
  {
   "cell_type": "code",
   "execution_count": null,
   "metadata": {
    "collapsed": false
   },
   "outputs": [],
   "source": [
    "# selected = [0] + range(2,pca.n_components_)\n",
    "selected = [0] #+ range(2,3)\n",
    "plt.plot(np.dot(reduced[:,selected], pca.components_[selected,:]).T + pca.mean_[:,None]);"
   ]
  },
  {
   "cell_type": "code",
   "execution_count": null,
   "metadata": {
    "collapsed": false,
    "scrolled": true
   },
   "outputs": [],
   "source": [
    "r = 1\n",
    "\n",
    "plt.figure(figsize=(20,8))\n",
    "\n",
    "for i in range(X.shape[0]):\n",
    "\n",
    "    pq,batch = Y.iloc[i,]\n",
    "        \n",
    "    ind = pqvals.tolist().index(pq)\n",
    "    plt.subplot(2,pqvals.shape[0],ind+1)\n",
    "    plt.title(pq)\n",
    "    \n",
    "    if batch == 1:\n",
    "        color = 'g'\n",
    "    elif batch == 2:\n",
    "        color = 'r'\n",
    "    else:\n",
    "        color = 'b'\n",
    "        \n",
    "    d = X.iloc[i,:]\n",
    "    plt.plot(pivot.columns[10:],d.T, c=color)\n",
    "    plt.semilogy(basey=2)\n",
    "    plt.ylim(2**-4,2**0)\n",
    "    \n",
    "    plt.subplot(2,pqvals.shape[0],pqvals.shape[0]+ind+1)\n",
    "    trans = pca.transform(d.values[None,:])\n",
    "    \n",
    "    plt.plot(pivot.columns[10:],np.dot(trans[:,selected], pca.components_[selected,:]).T+pca.mean_[:,None],c=color)\n",
    "    plt.semilogy(basey=2)\n",
    "    plt.ylim(2**-4,2**0)\n",
    "    \n",
    "plt.tight_layout()"
   ]
  },
  {
   "cell_type": "code",
   "execution_count": null,
   "metadata": {
    "collapsed": false
   },
   "outputs": [],
   "source": [
    "plt.get_cmap()(.1)"
   ]
  },
  {
   "cell_type": "code",
   "execution_count": null,
   "metadata": {
    "collapsed": false
   },
   "outputs": [],
   "source": [
    "R = 4\n",
    "\n",
    "plt.figure(figsize=(20,4*(R+1)))\n",
    "\n",
    "for i in range(X.shape[0]):\n",
    "\n",
    "    pq,batch = Y.iloc[i,]\n",
    "\n",
    "    ind = pqvals.tolist().index(pq)\n",
    "    plt.subplot(R+1,pqvals.shape[0],ind+1)\n",
    "    plt.title(pq)\n",
    "\n",
    "    d = X.iloc[i,:]\n",
    "    plt.plot(pivot.columns[10:],d.T, c=plt.get_cmap()(batch*1./3))\n",
    "    plt.semilogy(basey=2)\n",
    "    plt.ylim(2**-4,2**0)\n",
    "\n",
    "    \n",
    "    for r in range(R):\n",
    "        plt.subplot(R+1,pqvals.shape[0],pqvals.shape[0]*(r+1)+ind+1)\n",
    "        trans = pca.transform(d.values[None,:])\n",
    "\n",
    "        #plt.plot(pivot.columns[10:],np.dot(trans[:,[r]], pca.components_[[r],:]).T+pca.mean_[:,None],c=plt.get_cmap()(batch*1./3))\n",
    "        plt.plot(pivot.columns[10:],np.dot(trans[:,[r]], pca.components_[[r],:]).T,c=plt.get_cmap()(batch*1./3))\n",
    "        #plt.semilogy(basey=2)\n",
    "        #plt.ylim(2**-4,2**0)\n",
    "\n",
    "plt.tight_layout()"
   ]
  },
  {
   "cell_type": "code",
   "execution_count": null,
   "metadata": {
    "collapsed": true
   },
   "outputs": [],
   "source": []
  },
  {
   "cell_type": "code",
   "execution_count": null,
   "metadata": {
    "collapsed": true
   },
   "outputs": [],
   "source": [
    "from dtw import dtw"
   ]
  },
  {
   "cell_type": "code",
   "execution_count": null,
   "metadata": {
    "collapsed": false
   },
   "outputs": [],
   "source": [
    "d1.mean()"
   ]
  },
  {
   "cell_type": "code",
   "execution_count": null,
   "metadata": {
    "collapsed": false
   },
   "outputs": [],
   "source": [
    "dist, cost, acc, path = dtw(d1.mean().values[:,None], d2.mean().values[:,None], dist=lambda x, y: norm(x - y, ord=inf))\n",
    "# dist, cost, acc, path = dtw(d1.mean().values[:,None], d2.mean().values[:,None],dist=norm)\n",
    "\n",
    "plt.imshow(acc.T, origin='lower', cmap=cm.gray, interpolation='nearest')\n",
    "plt.plot(path[0], path[1], 'w')\n",
    "plt.xlim((-0.5, acc.shape[0]-0.5))\n",
    "plt.ylim((-0.5, acc.shape[1]-0.5))\n",
    "\n",
    "plt.figure()\n",
    "plt.plot(d1.mean().values[path[0]])\n",
    "plt.plot(d2.mean().values[path[1]])"
   ]
  },
  {
   "cell_type": "code",
   "execution_count": null,
   "metadata": {
    "collapsed": true
   },
   "outputs": [],
   "source": []
  },
  {
   "cell_type": "code",
   "execution_count": null,
   "metadata": {
    "collapsed": true
   },
   "outputs": [],
   "source": []
  },
  {
   "cell_type": "code",
   "execution_count": null,
   "metadata": {
    "collapsed": true
   },
   "outputs": [],
   "source": []
  },
  {
   "cell_type": "code",
   "execution_count": null,
   "metadata": {
    "collapsed": true
   },
   "outputs": [],
   "source": []
  },
  {
   "cell_type": "code",
   "execution_count": null,
   "metadata": {
    "collapsed": true
   },
   "outputs": [],
   "source": []
  },
  {
   "cell_type": "code",
   "execution_count": null,
   "metadata": {
    "collapsed": false
   },
   "outputs": [],
   "source": [
    "ygp, xgp = patsy.dmatrices('standardize(od) ~ standardize(time) + standardize(mM_PQ) + batch + Bio + 0', melt)\n",
    "xgp"
   ]
  },
  {
   "cell_type": "code",
   "execution_count": null,
   "metadata": {
    "collapsed": false
   },
   "outputs": [],
   "source": [
    "np.unique(xgp[:,-1])"
   ]
  },
  {
   "cell_type": "code",
   "execution_count": null,
   "metadata": {
    "collapsed": false
   },
   "outputs": [],
   "source": [
    "plt.scatter(xgp[:,-1],xgp[:,-2])"
   ]
  },
  {
   "cell_type": "code",
   "execution_count": null,
   "metadata": {
    "collapsed": false
   },
   "outputs": [],
   "source": [
    "xgp = pd.DataFrame(xgp, columns = xgp.design_info.column_names)"
   ]
  },
  {
   "cell_type": "code",
   "execution_count": null,
   "metadata": {
    "collapsed": false
   },
   "outputs": [],
   "source": [
    "# g = melt.groupby(['mM_PQ','batch','Bio'])\n",
    "# pqvals = melt.mM_PQ.unique(); pqvals.sort()"
   ]
  },
  {
   "cell_type": "code",
   "execution_count": null,
   "metadata": {
    "collapsed": false
   },
   "outputs": [],
   "source": [
    "# for k, in g:\n",
    "#     print i,k"
   ]
  },
  {
   "cell_type": "code",
   "execution_count": null,
   "metadata": {
    "collapsed": true
   },
   "outputs": [],
   "source": [
    "g = "
   ]
  },
  {
   "cell_type": "code",
   "execution_count": null,
   "metadata": {
    "collapsed": false
   },
   "outputs": [],
   "source": [
    "\n",
    "\n",
    "# x,y,effect,labels = ds.build(Strain='ura3',scale='range',effects=['Well','Bio','mM_PQ'])\n",
    "x,y,effect,labels = ds.build(Strain='ura3',scale='range',Bio=['B','C','D'],effects=['Well','batch','Bio','mM_PQ'])\n",
    "\n",
    "# remove early time points\n",
    "x = x[6:,:]\n",
    "y = y[6:,:]\n",
    "\n",
    "# observations that are on an edge are removed\n",
    "edge = range(101,111) + range(111,191,10) + range(120,191,10) + range(191,201) + range(201,211) + range(211,291,10) + range(220,291,10) + range(291,301)\n",
    "edge = np.array(edge)\n",
    "\n",
    "dist = np.array([min(abs(l-edge)) for l in labels[0]])\n",
    "position = (dist==0).astype(int)\n",
    "\n",
    "select = dist > 0"
   ]
  },
  {
   "cell_type": "code",
   "execution_count": null,
   "metadata": {
    "collapsed": false
   },
   "outputs": [],
   "source": [
    "effect"
   ]
  },
  {
   "cell_type": "code",
   "execution_count": null,
   "metadata": {
    "collapsed": true
   },
   "outputs": [],
   "source": [
    "y = y[:,select]\n",
    "effect = effect.iloc[select,:]\n",
    "\n",
    "# standardize\n",
    "y = np.log2(y)\n",
    "\n",
    "# scale to 0 within bio reps\n",
    "# for i,p in enumerate(effect.Bio.unique()):\n",
    "#     select = effect.Bio==p\n",
    "#     y[:,select] -= y[0,select].mean()\n",
    "\n",
    "y = (y-y.mean())/y.std()\n",
    "\n",
    "y.shape"
   ]
  },
  {
   "cell_type": "code",
   "execution_count": null,
   "metadata": {
    "collapsed": false
   },
   "outputs": [],
   "source": [
    "labels[2]"
   ]
  },
  {
   "cell_type": "code",
   "execution_count": null,
   "metadata": {
    "collapsed": true
   },
   "outputs": [],
   "source": [
    "# reindex so groups are useful\n",
    "effect.index = range(effect.shape[0])\n",
    "\n",
    "gall = effect.groupby(['mM_PQ','Bio'])\n",
    "gpq = effect.groupby(['mM_PQ'])"
   ]
  },
  {
   "cell_type": "code",
   "execution_count": null,
   "metadata": {
    "collapsed": false,
    "scrolled": true
   },
   "outputs": [],
   "source": [
    "plt.figure(figsize=(len(labels[1])*4, len(labels[2])*4))\n",
    "\n",
    "for k,v in gall:\n",
    "    #print k,v.index\n",
    "    \n",
    "    pq,bio = k\n",
    "    \n",
    "    plt.subplot(len(labels[2]), len(labels[1]), pq*len(labels[1]) + bio + 1)\n",
    "    \n",
    "    plt.plot(x[:,0], y[:,v.index])\n",
    "    plt.ylim(y.min()*1.05,y.max()*1.05)"
   ]
  },
  {
   "cell_type": "code",
   "execution_count": null,
   "metadata": {
    "collapsed": false
   },
   "outputs": [],
   "source": [
    "plt.figure(figsize=(len(labels[2])*4,4))\n",
    "cmap = plt.get_cmap()\n",
    "\n",
    "for k,v in gall:\n",
    "    \n",
    "    pq,bio = k\n",
    "    \n",
    "    plt.subplot(1, len(labels[2]), pq + 1)\n",
    "    \n",
    "    plt.plot(x[:,0], y[:,v.index], color = cmap((bio+1)*1./3))\n",
    "    plt.ylim(y.min()*1.05,y.max()*1.05)"
   ]
  },
  {
   "cell_type": "code",
   "execution_count": null,
   "metadata": {
    "collapsed": false
   },
   "outputs": [],
   "source": [
    "ds = dataset.DataSet('data/')\n",
    "\n",
    "# x,y,effect,labels = ds.build(Strain='ura3',scale='range',effects=['Well','Bio','mM_PQ'])\n",
    "x,y,effect,labels = ds.build(Strain='ura3',scale='range',batch=2,effects=['Well','Bio','mM_PQ'])\n",
    "\n",
    "# remove early time points\n",
    "x = x[6:,:]\n",
    "y = y[6:,:]\n",
    "\n",
    "# observations that are on an edge are removed\n",
    "edge = range(101,111) + range(111,191,10) + range(120,191,10) + range(191,201) + range(201,211) + range(211,291,10) + range(220,291,10) + range(291,301)\n",
    "edge = np.array(edge)\n",
    "\n",
    "dist = np.array([min(abs(l-edge)) for l in labels[0]])\n",
    "position = (dist==0).astype(int)\n",
    "\n",
    "select = dist > 0\n",
    "y = y[:,select]\n",
    "effect = effect.iloc[select,:]\n",
    "\n",
    "# standardize\n",
    "y = np.log2(y)\n",
    "\n",
    "# scale to 0 within bio reps\n",
    "# for i,p in enumerate(effect.Bio.unique()):\n",
    "#     select = effect.Bio==p\n",
    "#     y[:,select] -= y[0,select].mean()\n",
    "\n",
    "y = (y-y.mean())/y.std()\n",
    "\n",
    "y.shape"
   ]
  },
  {
   "cell_type": "code",
   "execution_count": null,
   "metadata": {
    "collapsed": true
   },
   "outputs": [],
   "source": [
    "# reindex so groups are useful\n",
    "effect.index = range(effect.shape[0])\n",
    "\n",
    "gall = effect.groupby(['mM_PQ','Bio'])\n",
    "gpq = effect.groupby(['mM_PQ'])"
   ]
  },
  {
   "cell_type": "code",
   "execution_count": null,
   "metadata": {
    "collapsed": false
   },
   "outputs": [],
   "source": [
    "plt.figure(figsize=(len(labels[2])*4,4))\n",
    "cmap = plt.get_cmap()\n",
    "\n",
    "for k,v in gall:\n",
    "    \n",
    "    pq,bio = k\n",
    "    \n",
    "    plt.subplot(1, len(labels[2]), pq + 1)\n",
    "    \n",
    "    plt.plot(x[:,0], y[:,v.index], color = cmap((bio+1)*1./3))\n",
    "    plt.ylim(y.min()*1.05,y.max()*1.05)"
   ]
  },
  {
   "cell_type": "code",
   "execution_count": null,
   "metadata": {
    "collapsed": true
   },
   "outputs": [],
   "source": []
  }
 ],
 "metadata": {
  "kernelspec": {
   "display_name": "Python 2",
   "language": "python",
   "name": "python2"
  },
  "language_info": {
   "codemirror_mode": {
    "name": "ipython",
    "version": 2
   },
   "file_extension": ".py",
   "mimetype": "text/x-python",
   "name": "python",
   "nbconvert_exporter": "python",
   "pygments_lexer": "ipython2",
   "version": "2.7.6"
  }
 },
 "nbformat": 4,
 "nbformat_minor": 1
}