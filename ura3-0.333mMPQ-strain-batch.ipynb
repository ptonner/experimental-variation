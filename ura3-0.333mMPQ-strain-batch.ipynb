{
 "cells": [
  {
   "cell_type": "code",
   "execution_count": null,
   "metadata": {},
   "outputs": [],
   "source": [
    "%pylab"
   ]
  },
  {
   "cell_type": "code",
   "execution_count": null,
   "metadata": {
    "collapsed": true
   },
   "outputs": [],
   "source": [
    "%matplotlib inline"
   ]
  },
  {
   "cell_type": "code",
   "execution_count": null,
   "metadata": {},
   "outputs": [],
   "source": [
    "import pystan, pickle, popmachine\n",
    "\n",
    "from pystan_cache.pystan_cache import caching_stan"
   ]
  },
  {
   "cell_type": "code",
   "execution_count": null,
   "metadata": {
    "collapsed": true
   },
   "outputs": [],
   "source": [
    "machine = popmachine.Machine('sqlite:///../popmachine_local/.popmachine.db')"
   ]
  },
  {
   "cell_type": "code",
   "execution_count": null,
   "metadata": {},
   "outputs": [],
   "source": [
    "filter(lambda x: 'PQ' in x, machine.plates(names=True))"
   ]
  },
  {
   "cell_type": "code",
   "execution_count": null,
   "metadata": {
    "collapsed": true
   },
   "outputs": [],
   "source": [
    "plates = [\n",
    " u'20150517 PQ 3',\n",
    " u'20150715 PQ 8',\n",
    " u'20150702 PQ 6',\n",
    " u'20150514 PQ 2',\n",
    "#  u'20150409 PQ test',\n",
    " u'20150630 PQ 5',\n",
    " u'20150607 PQ 4',\n",
    " u'20150704 PQ 7',\n",
    " u'20150717 PQ 9',\n",
    " u'20161010_PQ_osmo',\n",
    " u'20161107_PQ_osmo_combo',\n",
    " u'20161024 PQ crosscomp',\n",
    " u'20150828 PQ glutamate']"
   ]
  },
  {
   "cell_type": "code",
   "execution_count": null,
   "metadata": {},
   "outputs": [],
   "source": [
    "# ds = machine.search(include=['Strain'], **{'mM PQ':[0.0, .333, 333.0]})\n",
    "ds = machine.search(plates = plates, include=['Strain'], **{'mM PQ':[0.0, .333, 333.0], 'M NaCl':[4.2, None]})\n",
    "ds.meta.Strain.unique()"
   ]
  },
  {
   "cell_type": "code",
   "execution_count": null,
   "metadata": {
    "collapsed": true
   },
   "outputs": [],
   "source": [
    "ds = machine.search(plates = plates, Strain=['ura3', 'rosR'], **{'mM PQ':[0.0, .333], 'M NaCl':[4.2, None]})\n",
    "ds.log()\n",
    "ds.filter()\n",
    "ds.trim(5)\n",
    "ds.poly_scale(2, groupby=['plate', 'mM PQ'])\n",
    "\n",
    "ds.data = ds.data.iloc[::3,:]"
   ]
  },
  {
   "cell_type": "code",
   "execution_count": null,
   "metadata": {},
   "outputs": [],
   "source": [
    "plt.figure(figsize=(12,4))\n",
    "ds.plot(columns=['plate'], colorby=['mM PQ'], rows=['Strain'])"
   ]
  },
  {
   "cell_type": "code",
   "execution_count": null,
   "metadata": {},
   "outputs": [],
   "source": [
    "ds.meta.Strain.unique()"
   ]
  },
  {
   "cell_type": "code",
   "execution_count": null,
   "metadata": {},
   "outputs": [],
   "source": [
    "ds.meta.plate.unique()"
   ]
  },
  {
   "cell_type": "code",
   "execution_count": null,
   "metadata": {
    "collapsed": true,
    "scrolled": false
   },
   "outputs": [],
   "source": [
    "x,y, design, labels = ds.build(['mM PQ', 'Strain', 'plate'],scale=True)"
   ]
  },
  {
   "cell_type": "code",
   "execution_count": null,
   "metadata": {
    "collapsed": true
   },
   "outputs": [],
   "source": [
    "y = (y-y.mean())/y.std()\n",
    "x = (x-x.mean())/x.std()"
   ]
  },
  {
   "cell_type": "code",
   "execution_count": null,
   "metadata": {},
   "outputs": [],
   "source": [
    "design"
   ]
  },
  {
   "cell_type": "code",
   "execution_count": null,
   "metadata": {},
   "outputs": [],
   "source": [
    "y.shape, x.shape"
   ]
  },
  {
   "cell_type": "code",
   "execution_count": null,
   "metadata": {},
   "outputs": [],
   "source": [
    "labels"
   ]
  },
  {
   "cell_type": "code",
   "execution_count": null,
   "metadata": {},
   "outputs": [],
   "source": [
    "dm = np.zeros((y.shape[1], 4 + 4*ds.meta.plate.unique().shape[0]))\n",
    "dm[:,0] = 1\n",
    "# dm[:,1] = 1 - 2*design['mM PQ']\n",
    "# dm[:,1] = 1 - 2*(design['mM PQ'] == labels[0].index('0.0'))\n",
    "dm[:,1:3] = design[['mM PQ', 'Strain']].values\n",
    "dm[:,3] = dm[:,1] * dm[:,2]\n",
    "\n",
    "for i in range(design.plate.unique().shape[0]):\n",
    "    dm[:,4+i*4:8+i*4] = dm[:,:4] * (design.plate==i).values[:,None]"
   ]
  },
  {
   "cell_type": "code",
   "execution_count": null,
   "metadata": {},
   "outputs": [],
   "source": [
    "plt.imshow(dm, aspect='auto')"
   ]
  },
  {
   "cell_type": "code",
   "execution_count": null,
   "metadata": {},
   "outputs": [],
   "source": [
    "dm = dm[:,(dm!=0).any(0)]\n",
    "plt.imshow(dm, aspect='auto')"
   ]
  },
  {
   "cell_type": "code",
   "execution_count": null,
   "metadata": {
    "collapsed": true
   },
   "outputs": [],
   "source": [
    "gp_multi = caching_stan.stan_model(file='models/gp_multi.stan')"
   ]
  },
  {
   "cell_type": "code",
   "execution_count": null,
   "metadata": {
    "collapsed": true
   },
   "outputs": [],
   "source": [
    "# random effect\n",
    "\n",
    "p = dm.shape[1]\n",
    "n = x.shape[0]\n",
    "\n",
    "# design = np.zeros((p, 1+p))\n",
    "# design[:,0] = 1\n",
    "# design[:,1:] = np.eye(p)\n",
    "\n",
    "priors = [1, 2, 3, 4] + [5,6,7,8] * ds.meta.plate.unique().shape[0]\n",
    "\n",
    "sim_data = {\n",
    "    'N': n,\n",
    "    'P':y.shape[1],\n",
    "    'K':dm.shape[1],\n",
    "    'L': max(priors),\n",
    "    'prior':priors,     \n",
    "    'design': dm #[[1,1,0,0],[1,0,1,0],[1,0,0,1]]\n",
    "}"
   ]
  },
  {
   "cell_type": "code",
   "execution_count": null,
   "metadata": {
    "collapsed": true
   },
   "outputs": [],
   "source": [
    "import scipy"
   ]
  },
  {
   "cell_type": "code",
   "execution_count": null,
   "metadata": {},
   "outputs": [],
   "source": [
    "z = np.linspace(0, 10)\n",
    "\n",
    "plt.plot(z, scipy.stats.gamma.pdf(z, 1.5, scale=.4))\n",
    "plt.plot(z, scipy.stats.gamma.pdf(z, 1.5, scale=2))\n",
    "\n",
    "# plt.semilogx()"
   ]
  },
  {
   "cell_type": "code",
   "execution_count": null,
   "metadata": {},
   "outputs": [],
   "source": [
    "train_data = sim_data.copy()\n",
    "train_data['N'] = x.shape[0]\n",
    "train_data['y'] = y.T\n",
    "train_data['x'] = x[:,0]\n",
    "\n",
    "train_data['alpha_prior'] = [[1,1]] * 4 + [[.1,1]] * dm.shape[1] - 4\n",
    "train_data['length_scale_prior'] = [[1.5,2]] * dm.shape[1]\n",
    "\n",
    "train_data"
   ]
  },
  {
   "cell_type": "code",
   "execution_count": null,
   "metadata": {
    "collapsed": true
   },
   "outputs": [],
   "source": [
    "tsamples = gp_multi.sampling(data=train_data, chains=2, iter=2000, control = {'adapt_delta': 0.8})"
   ]
  },
  {
   "cell_type": "code",
   "execution_count": null,
   "metadata": {},
   "outputs": [],
   "source": [
    "tsamples"
   ]
  },
  {
   "cell_type": "code",
   "execution_count": null,
   "metadata": {},
   "outputs": [],
   "source": [
    "plt.figure(figsize=(10,4))\n",
    "tsamples.traceplot(['length_scale', 'alpha', 'sigma','lp__'])\n",
    "plt.tight_layout()"
   ]
  },
  {
   "cell_type": "code",
   "execution_count": null,
   "metadata": {
    "collapsed": true
   },
   "outputs": [],
   "source": [
    "tsamp = tsamples.extract(permuted=True)"
   ]
  },
  {
   "cell_type": "code",
   "execution_count": null,
   "metadata": {},
   "outputs": [],
   "source": [
    "ncol = 2\n",
    "nrow = int(1.*(dm.shape[1]-1)/ncol) + 1\n",
    "\n",
    "plt.figure(figsize=(4*ncol, 4*nrow))\n",
    "\n",
    "for i in range(dm.shape[1]):\n",
    "    \n",
    "    plt.subplot(dm.shape[1]/ncol + 1, ncol, i + 1)\n",
    "    \n",
    "    plt.plot(x, tsamp['f'][:,i,:].mean(0),)\n",
    "    #plt.plot(x, tsamp['f'][:,i,:].T,c='k', alpha=.2)\n",
    "    plt.fill_between(x[:,0], \n",
    "                     tsamp['f'][:,i,:].mean(0)-2*tsamp['f'][:,i,:].std(0),\n",
    "                     tsamp['f'][:,i,:].mean(0)+2*tsamp['f'][:,i,:].std(0),alpha=.1)\n",
    "    plt.plot([x.min(), x.max()], [0, 0], lw=3, c='k')\n",
    "    \n",
    "    if i > 1:\n",
    "        plt.ylim(-.41, .41)\n",
    "    \n",
    "    #plt.plot(x[train_ind],f[i,train_ind].T,'--')"
   ]
  },
  {
   "cell_type": "code",
   "execution_count": null,
   "metadata": {},
   "outputs": [],
   "source": [
    "temp = tsamp['f'][:,3::2].sum(1)\n",
    "\n",
    "plt.plot(x, temp.mean(0),)\n",
    "#plt.plot(x, tsamp['f'][:,i,:].T,c='k', alpha=.2)\n",
    "plt.fill_between(x[:,0], \n",
    "                 temp.mean(0)-2*temp.std(0),\n",
    "                 temp.mean(0)+2*temp.std(0),alpha=.1)"
   ]
  },
  {
   "cell_type": "code",
   "execution_count": null,
   "metadata": {},
   "outputs": [],
   "source": [
    "plt.plot(tsamp['alpha'],alpha=.4)\n",
    "plt.semilogy()\n",
    "plt.legend()"
   ]
  },
  {
   "cell_type": "code",
   "execution_count": null,
   "metadata": {},
   "outputs": [],
   "source": [
    "tsamp['alpha'].shape"
   ]
  },
  {
   "cell_type": "code",
   "execution_count": null,
   "metadata": {},
   "outputs": [],
   "source": [
    "for i in range(4):\n",
    "\n",
    "    temp = tsamp['alpha'][:,i]\n",
    "\n",
    "    z = np.linspace(temp.min()*.7, temp.max()*1.3)\n",
    "    kde = scipy.stats.gaussian_kde(temp)\n",
    "\n",
    "\n",
    "    plt.plot(z, kde.pdf(z), label='alpha %d'%i)\n",
    "\n",
    "plt.semilogx()    \n",
    "plt.legend()"
   ]
  },
  {
   "cell_type": "code",
   "execution_count": null,
   "metadata": {},
   "outputs": [],
   "source": [
    "for i in range(4):\n",
    "\n",
    "    temp = tsamp['alpha'][:,i]\n",
    "\n",
    "    z = np.linspace(temp.min(), temp.max())\n",
    "    kde = scipy.stats.gaussian_kde(temp)\n",
    "\n",
    "    plt.plot(z, kde(z)/kde(z).max(), label='alpha %d'%i)\n",
    "    \n",
    "temp = tsamp['sigma']\n",
    "z = np.linspace(temp.min(), temp.max())\n",
    "kde = scipy.stats.gaussian_kde(temp)\n",
    "\n",
    "plt.plot(z, kde(z)/kde(z).max(), label='sigma')\n",
    "\n",
    "plt.semilogx()    \n",
    "plt.legend()"
   ]
  },
  {
   "cell_type": "code",
   "execution_count": null,
   "metadata": {},
   "outputs": [],
   "source": [
    "for i in range(4):\n",
    "\n",
    "    temp = tsamp['length_scale'][:,i]\n",
    "\n",
    "    z = np.linspace(temp.min()*.7, temp.max()*1.3)\n",
    "    kde = scipy.stats.gaussian_kde(temp)\n",
    "\n",
    "\n",
    "    plt.plot(z, kde(z), label='length_scale %d'%i)\n",
    "\n",
    "plt.semilogx()    \n",
    "plt.legend()"
   ]
  },
  {
   "cell_type": "markdown",
   "metadata": {},
   "source": [
    "# null model "
   ]
  },
  {
   "cell_type": "code",
   "execution_count": null,
   "metadata": {
    "collapsed": true
   },
   "outputs": [],
   "source": [
    "null_train_data = train_data.copy()\n",
    "null_train_data['design'] = train_data['design'][:,:2]\n",
    "null_train_data['prior'] = null_train_data['prior'][:2]\n",
    "null_train_data['length_scale_prior'] = null_train_data['length_scale_prior'][:2]\n",
    "null_train_data['alpha_prior'] = null_train_data['alpha_prior'][:2]\n",
    "null_train_data['K'] = null_train_data['L'] = 2"
   ]
  },
  {
   "cell_type": "code",
   "execution_count": null,
   "metadata": {
    "collapsed": true
   },
   "outputs": [],
   "source": [
    "nullSamples = gp_multi.sampling(data=null_train_data, chains=2, iter=2000, control = {'adapt_delta': 0.8})"
   ]
  },
  {
   "cell_type": "code",
   "execution_count": null,
   "metadata": {},
   "outputs": [],
   "source": [
    "nullSamples"
   ]
  },
  {
   "cell_type": "code",
   "execution_count": null,
   "metadata": {},
   "outputs": [],
   "source": [
    "plt.figure(figsize=(10,4))\n",
    "nullSamples.traceplot(['length_scale', 'alpha', 'sigma','lp__'])\n",
    "plt.tight_layout()"
   ]
  },
  {
   "cell_type": "code",
   "execution_count": null,
   "metadata": {
    "collapsed": true
   },
   "outputs": [],
   "source": [
    "nsamp = nullSamples.extract(permuted=True)"
   ]
  },
  {
   "cell_type": "code",
   "execution_count": null,
   "metadata": {},
   "outputs": [],
   "source": [
    "ncol = 2\n",
    "nrow = int(1.*(dm.shape[1]-1)/ncol) + 1\n",
    "\n",
    "plt.figure(figsize=(4*ncol, 4*nrow))\n",
    "\n",
    "for i in range(2):\n",
    "    \n",
    "    plt.subplot(dm.shape[1]/ncol + 1, ncol, i + 1)\n",
    "    \n",
    "    plt.plot(x, nsamp['f'][:,i,:].mean(0),)\n",
    "    #plt.plot(x, tsamp['f'][:,i,:].T,c='k', alpha=.2)\n",
    "    plt.fill_between(x[:,0], \n",
    "                     nsamp['f'][:,i,:].mean(0)-2*nsamp['f'][:,i,:].std(0),\n",
    "                     nsamp['f'][:,i,:].mean(0)+2*nsamp['f'][:,i,:].std(0),alpha=.1)\n",
    "    plt.plot([x.min(), x.max()], [0, 0], lw=3, c='k')\n",
    "    \n",
    "    if i > 1:\n",
    "        plt.ylim(-.48, .48)\n",
    "    \n",
    "    #plt.plot(x[train_ind],f[i,train_ind].T,'--')"
   ]
  },
  {
   "cell_type": "code",
   "execution_count": null,
   "metadata": {},
   "outputs": [],
   "source": [
    "temp = tsamp['f'][:,1]\n",
    "\n",
    "plt.plot(x, temp.mean(0),)\n",
    "plt.fill_between(x[:,0], \n",
    "                 temp.mean(0)-2*temp.std(0),\n",
    "                 temp.mean(0)+2*temp.std(0),alpha=.1)\n",
    "\n",
    "temp = nsamp['f'][:,1]\n",
    "\n",
    "plt.plot(x, temp.mean(0),)\n",
    "plt.fill_between(x[:,0], \n",
    "                 temp.mean(0)-2*temp.std(0),\n",
    "                 temp.mean(0)+2*temp.std(0),alpha=.1)\n",
    "\n",
    "plt.plot([x.min(), x.max()], [0, 0], lw=3, c='k')"
   ]
  },
  {
   "cell_type": "code",
   "execution_count": null,
   "metadata": {
    "collapsed": true
   },
   "outputs": [],
   "source": []
  }
 ],
 "metadata": {
  "kernelspec": {
   "display_name": "Python 2",
   "language": "python",
   "name": "python2"
  },
  "language_info": {
   "codemirror_mode": {
    "name": "ipython",
    "version": 2
   },
   "file_extension": ".py",
   "mimetype": "text/x-python",
   "name": "python",
   "nbconvert_exporter": "python",
   "pygments_lexer": "ipython2",
   "version": "2.7.12"
  }
 },
 "nbformat": 4,
 "nbformat_minor": 2
}