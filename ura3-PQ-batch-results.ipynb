{
 "cells": [
  {
   "cell_type": "code",
   "execution_count": null,
   "metadata": {},
   "outputs": [],
   "source": [
    "%pylab"
   ]
  },
  {
   "cell_type": "code",
   "execution_count": null,
   "metadata": {
    "collapsed": true
   },
   "outputs": [],
   "source": [
    "%matplotlib inline"
   ]
  },
  {
   "cell_type": "code",
   "execution_count": null,
   "metadata": {},
   "outputs": [],
   "source": [
    "import pystan, pickle, popmachine, scipy\n",
    "import pandas as pd\n",
    "\n",
    "from pystan_cache.pystan_cache import caching_stan"
   ]
  },
  {
   "cell_type": "code",
   "execution_count": null,
   "metadata": {},
   "outputs": [],
   "source": [
    "tsamp083 = pickle.load(open('ura3-0.083mMPQ-batch-samples.pkl', 'rb'))\n",
    "tsamp333 = pickle.load(open('ura3-0.333mMPQ-batch-samples.pkl', 'rb'))"
   ]
  },
  {
   "cell_type": "code",
   "execution_count": null,
   "metadata": {},
   "outputs": [],
   "source": [
    "tsamp333.keys()"
   ]
  },
  {
   "cell_type": "code",
   "execution_count": null,
   "metadata": {},
   "outputs": [],
   "source": [
    "plt.figure(figsize=(10,4))\n",
    "\n",
    "for i in range(4):\n",
    "    \n",
    "    plt.subplot(1,5,i + 1)\n",
    "    plt.title('alpha %d'%i)\n",
    "\n",
    "    temp = tsamp083['alpha'][:,i]\n",
    "\n",
    "    z = np.linspace(temp.min(), temp.max())\n",
    "    kde = scipy.stats.gaussian_kde(temp)\n",
    "\n",
    "    plt.plot(z, kde(z)/kde(z).max(), label='mM PQ = 0.083')\n",
    "    \n",
    "    temp = tsamp333['alpha'][:,i]\n",
    "\n",
    "    z = np.linspace(temp.min(), temp.max())\n",
    "    kde = scipy.stats.gaussian_kde(temp)\n",
    "\n",
    "    plt.plot(z, kde(z)/kde(z).max(), label='mM PQ = 0.333')\n",
    "    \n",
    "    if i == 0:\n",
    "        plt.legend()\n",
    "    \n",
    "    plt.semilogx()\n",
    "    plt.xlim(.01, 4)\n",
    "    \n",
    "plt.subplot(1,5,i + 2)\n",
    "plt.title('sigma')\n",
    "\n",
    "temp = tsamp083['sigma']\n",
    "z = np.linspace(temp.min(), temp.max())\n",
    "kde = scipy.stats.gaussian_kde(temp)\n",
    "\n",
    "plt.plot(z, kde(z)/kde(z).max(), label='sigma')\n",
    "\n",
    "temp = tsamp333['sigma']\n",
    "z = np.linspace(temp.min(), temp.max())\n",
    "kde = scipy.stats.gaussian_kde(temp)\n",
    "\n",
    "plt.plot(z, kde(z)/kde(z).max(), label='sigma')\n",
    "\n",
    "plt.semilogx()\n",
    "plt.xlim(.01, 1)\n",
    "# plt.xticks([.17, .19])\n",
    "\n",
    "plt.tight_layout()\n",
    "\n",
    "\n",
    "plt.savefig('figures/ura3_PQ-alpha-stan.pdf', bbox_inches='tight')"
   ]
  },
  {
   "cell_type": "code",
   "execution_count": null,
   "metadata": {
    "collapsed": true
   },
   "outputs": [],
   "source": []
  },
  {
   "cell_type": "code",
   "execution_count": null,
   "metadata": {
    "collapsed": true
   },
   "outputs": [],
   "source": []
  },
  {
   "cell_type": "code",
   "execution_count": null,
   "metadata": {
    "collapsed": true
   },
   "outputs": [],
   "source": []
  },
  {
   "cell_type": "code",
   "execution_count": null,
   "metadata": {
    "collapsed": true
   },
   "outputs": [],
   "source": []
  },
  {
   "cell_type": "code",
   "execution_count": null,
   "metadata": {},
   "outputs": [],
   "source": [
    "maxapos, = np.where(tsamp['lp__'] == tsamp['lp__'].max())[0]\n",
    "maxapos"
   ]
  },
  {
   "cell_type": "code",
   "execution_count": null,
   "metadata": {},
   "outputs": [],
   "source": [
    "gp_multi_sim = caching_stan.stan_model(file='stan-models/gp_multi_sim.stan')"
   ]
  },
  {
   "cell_type": "code",
   "execution_count": null,
   "metadata": {
    "collapsed": true
   },
   "outputs": [],
   "source": [
    "gp_multi = caching_stan.stan_model(file='stan-models/gp_multi.stan')"
   ]
  },
  {
   "cell_type": "code",
   "execution_count": null,
   "metadata": {
    "collapsed": true
   },
   "outputs": [],
   "source": [
    "machine = popmachine.Machine('sqlite:///../popmachine_local/.popmachine.db')"
   ]
  },
  {
   "cell_type": "code",
   "execution_count": null,
   "metadata": {
    "collapsed": true
   },
   "outputs": [],
   "source": [
    "ds = machine.search(Strain='ura3', **{'mM PQ':[0.0, .083], 'M NaCl':[4.2, None]})\n",
    "\n",
    "# plates = [u'20150517 PQ 3', u'20150715 PQ 8', u'20150702 PQ 6',\n",
    "#        u'20150630 PQ 5', u'20150704 PQ 7', u'20150717 PQ 9']\n",
    "# ds = machine.search(plates=plates, Strain='ura3', **{'mM PQ':[0.0, .083], 'M NaCl':[4.2, None]})\n",
    "\n",
    "ds.log()\n",
    "ds.filter()\n",
    "ds.trim(5)\n",
    "ds.poly_scale(2, groupby=['plate', 'mM PQ'])\n",
    "\n",
    "ds.data = ds.data.iloc[::3,:]"
   ]
  },
  {
   "cell_type": "code",
   "execution_count": null,
   "metadata": {},
   "outputs": [],
   "source": [
    "plt.figure(figsize=(12,4))\n",
    "ds.plot(columns=['plate'], colorby=['mM PQ'])"
   ]
  },
  {
   "cell_type": "code",
   "execution_count": null,
   "metadata": {
    "collapsed": true,
    "scrolled": false
   },
   "outputs": [],
   "source": [
    "xraw ,y, design, labels = ds.build(['mM PQ', 'plate'],scale=True)"
   ]
  },
  {
   "cell_type": "code",
   "execution_count": null,
   "metadata": {},
   "outputs": [],
   "source": [
    "labels"
   ]
  },
  {
   "cell_type": "code",
   "execution_count": null,
   "metadata": {
    "collapsed": true
   },
   "outputs": [],
   "source": [
    "ymean, ystd = y.mean(), y.std()\n",
    "\n",
    "y = (y-y.mean())/y.std()\n",
    "\n",
    "x = (xraw-xraw.mean())/xraw.std()"
   ]
  },
  {
   "cell_type": "code",
   "execution_count": null,
   "metadata": {},
   "outputs": [],
   "source": [
    "y.shape, x.shape"
   ]
  },
  {
   "cell_type": "code",
   "execution_count": null,
   "metadata": {
    "collapsed": true
   },
   "outputs": [],
   "source": [
    "dm = np.zeros((y.shape[1], 2 + 2*ds.meta.plate.unique().shape[0]))\n",
    "dm[:,0] = 1\n",
    "# dm[:,1] = design['mM PQ'] != labels[0].index('0.0') #1 - 2*design['mM PQ']\n",
    "dm[:,1] = 1 - 2*(design['mM PQ'] == labels[0].index('0.0'))\n",
    "# dm[:,1] = 1 - 2*design['mM PQ']\n",
    "\n",
    "for i in range(design.plate.unique().shape[0]):\n",
    "    dm[:,2+i*2:4+i*2] = dm[:,:2] * (design.plate==i).values[:,None]"
   ]
  },
  {
   "cell_type": "code",
   "execution_count": null,
   "metadata": {},
   "outputs": [],
   "source": [
    "plt.imshow(dm, aspect='auto')"
   ]
  },
  {
   "cell_type": "code",
   "execution_count": null,
   "metadata": {},
   "outputs": [],
   "source": [
    "tsamp['length_scale'][maxapos]"
   ]
  },
  {
   "cell_type": "code",
   "execution_count": null,
   "metadata": {},
   "outputs": [],
   "source": [
    "tsamp['alpha'][maxapos]"
   ]
  },
  {
   "cell_type": "code",
   "execution_count": null,
   "metadata": {},
   "outputs": [],
   "source": [
    "tsamp['sigma'][maxapos]"
   ]
  },
  {
   "cell_type": "code",
   "execution_count": null,
   "metadata": {
    "collapsed": true
   },
   "outputs": [],
   "source": [
    "p = dm.shape[1]\n",
    "n = x.shape[0]\n",
    "priors = [1, 2] + [3, 4] * ds.meta.plate.unique().shape[0]\n",
    "\n",
    "sim_data = {\n",
    "    'N': n,\n",
    "    'x': x[:,0],\n",
    "    'P':y.shape[1],\n",
    "    'K':dm.shape[1],\n",
    "    'L':4,\n",
    "    'prior':priors,     \n",
    "    'length_scale': tsamp['length_scale'][maxapos],\n",
    "    'alpha': tsamp['alpha'][maxapos],\n",
    "    'sigma': tsamp['sigma'][maxapos],\n",
    "    'design': dm #[[1,1,0,0],[1,0,1,0],[1,0,0,1]]\n",
    "}"
   ]
  },
  {
   "cell_type": "code",
   "execution_count": null,
   "metadata": {
    "collapsed": true
   },
   "outputs": [],
   "source": [
    "sample = gp_multi_sim.sampling(sim_data, chains=1, iter=1, algorithm='Fixed_param').extract()"
   ]
  },
  {
   "cell_type": "code",
   "execution_count": null,
   "metadata": {},
   "outputs": [],
   "source": [
    "plt.figure(figsize=(9,9))\n",
    "\n",
    "for i in range(ds.meta.plate.unique().shape[0]):\n",
    "    s, = np.where(dm[:,2+i*2]!=0)\n",
    "    \n",
    "    plt.subplot(3,3,i+1)\n",
    "    plt.plot(x[:,0], sample['y'][0,s,:].T)"
   ]
  },
  {
   "cell_type": "code",
   "execution_count": null,
   "metadata": {},
   "outputs": [],
   "source": [
    "plt.figure(figsize=(9,9))\n",
    "\n",
    "g = ds.meta.groupby(['plate', 'mM PQ'])\n",
    "\n",
    "keys = ds.meta.plate.unique().tolist()\n",
    "for k, ind in g:\n",
    "    temp = ds.data.iloc[:,ind.index]\n",
    "    \n",
    "    p, pq = k\n",
    "    \n",
    "    i = keys.index(p)\n",
    "    \n",
    "    plt.subplot(3,3,i+1)\n",
    "   \n",
    "    if pq == '0.0':\n",
    "        plt.plot(temp.index, sample['y'][0,ind.index,:].T, c='k', label='mM PQ = 0.0')\n",
    "    else:\n",
    "        plt.plot(temp.index, sample['y'][0,ind.index,:].T, c='limegreen', label='mM PQ = 0.0')\n",
    "#     elif pq == '0.333':\n",
    "#         plt.plot(temp.index, temp.values, c='limegreen', label='mM PQ = 0.333')\n",
    "#     else:\n",
    "#         plt.plot(temp.index, temp.values, c='cyan', label='mM PQ = 0.083')\n",
    "            \n",
    "    if i % 3 == 0:\n",
    "        plt.ylabel('AU', fontsize=14)\n",
    "    if i > 5:\n",
    "        plt.xlabel('time (AU)', fontsize=14)\n",
    "            \n",
    "    plt.ylim(sample['y'].min(),sample['y'].max())\n",
    "    \n",
    "plt.tight_layout()\n",
    "plt.savefig('figures/ura3_0.083mM-PQ_simulated-data.pdf', bbox_inches='tight')"
   ]
  },
  {
   "cell_type": "code",
   "execution_count": null,
   "metadata": {},
   "outputs": [],
   "source": [
    "train_data = sim_data.copy()\n",
    "train_data['y'] = sample['y'][0,:,:]\n",
    "\n",
    "train_data['alpha_prior'] = [[1,1], [1,1], [.1,1], [.1,1]]\n",
    "train_data['length_scale_prior'] = [[1.5,2]] * 4\n",
    "\n",
    "train_data"
   ]
  },
  {
   "cell_type": "code",
   "execution_count": null,
   "metadata": {},
   "outputs": [],
   "source": [
    "1175./60 /500*2000"
   ]
  },
  {
   "cell_type": "code",
   "execution_count": null,
   "metadata": {
    "collapsed": true
   },
   "outputs": [],
   "source": [
    "# tsamples = gp_multi.sampling(data=train_data, chains=2, iter=100, control = {'adapt_delta': 0.8})\n",
    "tsamples = gp_multi.sampling(data=train_data, chains=4, iter=2000, control = {'adapt_delta': 0.8})"
   ]
  },
  {
   "cell_type": "code",
   "execution_count": null,
   "metadata": {},
   "outputs": [],
   "source": [
    "tsamples"
   ]
  },
  {
   "cell_type": "code",
   "execution_count": null,
   "metadata": {
    "collapsed": true
   },
   "outputs": [],
   "source": [
    "summary = tsamples.summary()\n",
    "summary = pd.DataFrame(summary['summary'], columns=summary['summary_colnames'], index=summary['summary_rownames'])"
   ]
  },
  {
   "cell_type": "code",
   "execution_count": null,
   "metadata": {},
   "outputs": [],
   "source": [
    "summary.head()"
   ]
  },
  {
   "cell_type": "code",
   "execution_count": null,
   "metadata": {},
   "outputs": [],
   "source": [
    "plt.figure(figsize=(10,4))\n",
    "tsamples.traceplot(['length_scale', 'alpha', 'sigma','lp__'])\n",
    "plt.tight_layout()"
   ]
  },
  {
   "cell_type": "code",
   "execution_count": null,
   "metadata": {
    "collapsed": true
   },
   "outputs": [],
   "source": [
    "tsamp = tsamples.extract(permuted=True)"
   ]
  },
  {
   "cell_type": "code",
   "execution_count": null,
   "metadata": {
    "scrolled": false
   },
   "outputs": [],
   "source": [
    "ncol = 5\n",
    "nrow = int(1.*(dm.shape[1]-1)/ncol) + 1\n",
    "\n",
    "plt.figure(figsize=(4*ncol, 4*nrow))\n",
    "\n",
    "for i in range(dm.shape[1]):\n",
    "    \n",
    "    plt.subplot(dm.shape[1]/ncol + 1, ncol, i + 1)\n",
    "    \n",
    "    plt.plot(x, tsamp['f'][:,i,:].mean(0),)\n",
    "    #plt.plot(x, tsamp['f'][:,i,:].T,c='k', alpha=.2)\n",
    "    plt.fill_between(x[:,0], \n",
    "                     tsamp['f'][:,i,:].mean(0)-2*tsamp['f'][:,i,:].std(0),\n",
    "                     tsamp['f'][:,i,:].mean(0)+2*tsamp['f'][:,i,:].std(0),alpha=.1)\n",
    "    plt.plot([x.min(), x.max()], [0, 0], lw=3, c='k')\n",
    "    \n",
    "    plt.plot(x, sample['f'][0,i,:])\n",
    "    \n",
    "    #if i > 1:\n",
    "    #    plt.ylim(-.48, .48)\n",
    "    \n",
    "    #plt.plot(x[train_ind],f[i,train_ind].T,'--')\n",
    "    \n",
    "plt.savefig('figures/ura3_0.083mM-PQ_simulation-functions.pdf', bbox_inches='tight')"
   ]
  },
  {
   "cell_type": "code",
   "execution_count": null,
   "metadata": {},
   "outputs": [],
   "source": [
    "for i in range(2,dm.shape[1]):\n",
    "    \n",
    "    plt.subplot(1, 2, i%2 + 1)\n",
    "    \n",
    "    plt.plot(xraw, tsamp['f'][:,i,:].mean(0),)\n",
    "    #plt.plot(x, tsamp['f'][:,i,:].T,c='k', alpha=.2)\n",
    "    plt.fill_between(xraw[:,0], \n",
    "                     tsamp['f'][:,i,:].mean(0)-2*tsamp['f'][:,i,:].std(0),\n",
    "                     tsamp['f'][:,i,:].mean(0)+2*tsamp['f'][:,i,:].std(0),alpha=.1)\n",
    "    \n",
    "    #if i % 2 == 0:\n",
    "    #    plt.ylim(-.32, .28)\n",
    "    #else:\n",
    "    #    plt.ylim(-.34, .48)\n",
    "    plt.ylim(-1.6, .8)\n",
    "    \n",
    "\n",
    "ax = plt.subplot(121)\n",
    "plt.title('$f_0$', fontsize=16)\n",
    "# plt.legend(fontsize=12)\n",
    "plt.xticks(fontsize=12)\n",
    "plt.yticks(fontsize=12)\n",
    "plt.ylabel('log(OD)', fontsize=16)\n",
    "plt.xlabel('time (h)', fontsize=16)\n",
    "plt.plot([xraw.min(), xraw.max()], [0, 0], lw=1, c='k')\n",
    "\n",
    "# ax = add_subplot_axes(ax, (.2,.8,.3,.2))\n",
    "# temp = tsamp['f'][:,2::2].sum(1)\n",
    "# plt.plot(x, temp.mean(0),)\n",
    "# #plt.plot(x, tsamp['f'][:,i,:].T,c='k', alpha=.2)\n",
    "# plt.fill_between(x[:,0], \n",
    "#                  temp.mean(0)-2*temp.std(0),\n",
    "#                  temp.mean(0)+2*temp.std(0),alpha=.1)\n",
    "\n",
    "\n",
    "ax = plt.subplot(122)\n",
    "plt.title('$f_1$', fontsize=16)\n",
    "# plt.legend(fontsize=12)\n",
    "plt.xticks(fontsize=12)\n",
    "plt.yticks(fontsize=12)\n",
    "plt.xlabel('time (h)', fontsize=16)\n",
    "plt.plot([xraw.min(), xraw.max()], [0, 0], lw=1, c='k')\n",
    "\n",
    "# ax = add_subplot_axes(ax, (.33,.8,.3,.2))\n",
    "# temp = tsamp['f'][:,3::2].sum(1)\n",
    "# plt.plot(x, temp.mean(0),)\n",
    "# #plt.plot(x, tsamp['f'][:,i,:].T,c='k', alpha=.2)\n",
    "# plt.fill_between(x[:,0], \n",
    "#                  temp.mean(0)-2*temp.std(0),\n",
    "#                  temp.mean(0)+2*temp.std(0),alpha=.1)\n",
    "\n",
    "plt.tight_layout()\n",
    "# plt.savefig('figures/ura3_0.083mM-PQ_batchFunctions-stan.pdf', bbox_inches='tight')"
   ]
  },
  {
   "cell_type": "code",
   "execution_count": null,
   "metadata": {},
   "outputs": [],
   "source": [
    "plt.subplot(121)\n",
    "\n",
    "temp = ((ystd*tsamp['f'][:,2::2])**2).sum(1)\n",
    "temp.sort(0)\n",
    "\n",
    "plt.plot(xraw, temp.mean(0),)\n",
    "plt.fill_between(xraw[:,0], \n",
    "                 temp[int(.025*temp.shape[0]),:],\n",
    "                 temp[int(.975*temp.shape[0]),:],alpha=.1)\n",
    "\n",
    "plt.ylim(-.01, 1.4)\n",
    "plt.title('$f_0$', fontsize=16)\n",
    "plt.yticks(np.arange(.2, 1.4, .2), fontsize=12)\n",
    "plt.xlabel('time (h)', fontsize=16)\n",
    "plt.ylabel('log(OD)$^2$', fontsize=16)\n",
    "\n",
    "plt.subplot(122)\n",
    "temp = ((ystd*tsamp['f'][:,3::2])**2).sum(1)\n",
    "temp.sort(0)\n",
    "\n",
    "plt.plot(xraw, temp.mean(0),)\n",
    "plt.fill_between(xraw[:,0], \n",
    "                 temp[int(.025*temp.shape[0]),:],\n",
    "                 temp[int(.975*temp.shape[0]),:],alpha=.1)\n",
    "\n",
    "plt.ylim(-.01, 1.4)\n",
    "\n",
    "plt.title('$f_1$', fontsize=16)\n",
    "plt.xticks(fontsize=12)\n",
    "plt.yticks(np.arange(.2, 1.4, .2), fontsize=12)\n",
    "plt.xlabel('time (h)', fontsize=16)\n",
    "\n",
    "\n",
    "plt.tight_layout()\n",
    "# plt.savefig('figures/ura3_0.083mM-PQ_finitePopVariance-stan.pdf', bbox_inches='tight')"
   ]
  },
  {
   "cell_type": "code",
   "execution_count": null,
   "metadata": {},
   "outputs": [],
   "source": [
    "plt.plot(tsamp['alpha'],alpha=.4)\n",
    "plt.semilogy()\n",
    "plt.legend()"
   ]
  },
  {
   "cell_type": "code",
   "execution_count": null,
   "metadata": {},
   "outputs": [],
   "source": [
    "for i in range(4):\n",
    "\n",
    "    temp = tsamp['alpha'][:,i]\n",
    "\n",
    "    z = np.linspace(temp.min(), temp.max())\n",
    "    kde = scipy.stats.gaussian_kde(temp)\n",
    "\n",
    "    plt.plot(z, kde(z)/kde(z).max(), label='alpha %d'%i)\n",
    "    \n",
    "    plt.scatter([sim_data['alpha'][i]], [-.1])\n",
    "    \n",
    "temp = tsamp['sigma']\n",
    "z = np.linspace(temp.min(), temp.max())\n",
    "kde = scipy.stats.gaussian_kde(temp)\n",
    "\n",
    "plt.plot(z, kde(z)/kde(z).max(), label='sigma')\n",
    "plt.scatter([sim_data['sigma']], [-.1])\n",
    "\n",
    "plt.semilogx()    \n",
    "plt.legend()\n",
    "\n",
    "plt.savefig('figures/ura3_0.083mMPQ-simulations-alpha-stan.pdf', bbox_inches='tight')"
   ]
  },
  {
   "cell_type": "code",
   "execution_count": null,
   "metadata": {},
   "outputs": [],
   "source": [
    "for i in range(4):\n",
    "\n",
    "    temp = tsamp['length_scale'][:,i]\n",
    "\n",
    "    z = np.linspace(temp.min(), temp.max())\n",
    "    kde = scipy.stats.gaussian_kde(temp)\n",
    "    \n",
    "    plt.scatter([sim_data['length_scale'][i]], [-.1])\n",
    "\n",
    "\n",
    "    plt.plot(z, kde(z), label='length_scale %d'%i)\n",
    "\n",
    "plt.semilogx()    \n",
    "plt.legend()"
   ]
  },
  {
   "cell_type": "markdown",
   "metadata": {},
   "source": [
    "# null model "
   ]
  },
  {
   "cell_type": "code",
   "execution_count": null,
   "metadata": {
    "collapsed": true
   },
   "outputs": [],
   "source": [
    "null_train_data = train_data.copy()\n",
    "null_train_data['design'] = train_data['design'][:,:2]\n",
    "null_train_data['prior'] = null_train_data['prior'][:2]\n",
    "null_train_data['length_scale_prior'] = null_train_data['length_scale_prior'][:2]\n",
    "null_train_data['alpha_prior'] = null_train_data['alpha_prior'][:2]\n",
    "null_train_data['K'] = null_train_data['L'] = 2"
   ]
  },
  {
   "cell_type": "code",
   "execution_count": null,
   "metadata": {
    "collapsed": true
   },
   "outputs": [],
   "source": [
    "nullSamples = gp_multi.sampling(data=null_train_data, chains=4, iter=2000, control = {'adapt_delta': 0.8})"
   ]
  },
  {
   "cell_type": "code",
   "execution_count": null,
   "metadata": {},
   "outputs": [],
   "source": [
    "nullSamples"
   ]
  },
  {
   "cell_type": "code",
   "execution_count": null,
   "metadata": {},
   "outputs": [],
   "source": [
    "plt.figure(figsize=(10,4))\n",
    "nullSamples.traceplot(['length_scale', 'alpha', 'sigma','lp__'])\n",
    "plt.tight_layout()"
   ]
  },
  {
   "cell_type": "code",
   "execution_count": null,
   "metadata": {
    "collapsed": true
   },
   "outputs": [],
   "source": [
    "nsamp = nullSamples.extract(permuted=True)"
   ]
  },
  {
   "cell_type": "code",
   "execution_count": null,
   "metadata": {},
   "outputs": [],
   "source": [
    "ncol = 2\n",
    "nrow = int(1.*(dm.shape[1]-1)/ncol) + 1\n",
    "\n",
    "plt.figure(figsize=(4*ncol, 4*nrow))\n",
    "\n",
    "for i in range(2):\n",
    "    \n",
    "    plt.subplot(dm.shape[1]/ncol + 1, ncol, i + 1)\n",
    "    \n",
    "    plt.plot(x, nsamp['f'][:,i,:].mean(0),)\n",
    "    #plt.plot(x, tsamp['f'][:,i,:].T,c='k', alpha=.2)\n",
    "    plt.fill_between(x[:,0], \n",
    "                     nsamp['f'][:,i,:].mean(0)-2*nsamp['f'][:,i,:].std(0),\n",
    "                     nsamp['f'][:,i,:].mean(0)+2*nsamp['f'][:,i,:].std(0),alpha=.1)\n",
    "    plt.plot([x.min(), x.max()], [0, 0], lw=3, c='k')\n",
    "    \n",
    "    if i > 1:\n",
    "        plt.ylim(-.48, .48)\n",
    "    \n",
    "    #plt.plot(x[train_ind],f[i,train_ind].T,'--')"
   ]
  },
  {
   "cell_type": "code",
   "execution_count": null,
   "metadata": {},
   "outputs": [],
   "source": [
    "for i in range(2):\n",
    "\n",
    "    temp = nsamp['alpha'][:,i]\n",
    "\n",
    "    z = np.linspace(temp.min()*.7, temp.max()*1.3)\n",
    "    kde = scipy.stats.gaussian_kde(temp)\n",
    "\n",
    "\n",
    "    plt.plot(z, kde(z), label='alpha %d'%i)\n",
    "\n",
    "plt.semilogx()    \n",
    "plt.legend()"
   ]
  },
  {
   "cell_type": "code",
   "execution_count": null,
   "metadata": {},
   "outputs": [],
   "source": [
    "for i in range(2):\n",
    "\n",
    "    temp = nsamp['length_scale'][:,i]\n",
    "\n",
    "    z = np.linspace(temp.min(), temp.max())\n",
    "    kde = scipy.stats.gaussian_kde(temp)\n",
    "\n",
    "\n",
    "    plt.plot(z, kde(z), label='length_scale %d'%i)\n",
    "\n",
    "plt.semilogx()    \n",
    "plt.legend()"
   ]
  },
  {
   "cell_type": "code",
   "execution_count": null,
   "metadata": {},
   "outputs": [],
   "source": [
    "temp = ystd*2*tsamp['f'][:,1]\n",
    "\n",
    "# plt.plot(x, (2*temp).mean(0),)\n",
    "# plt.fill_between(x[:,0], \n",
    "#                  (2*temp).mean(0)-2*(2*temp).std(0),\n",
    "#                  (2*temp).mean(0)+2*(2*temp).std(0),alpha=.1)\n",
    "\n",
    "plt.plot(xraw, (temp).mean(0), label='$M_2$')\n",
    "plt.fill_between(xraw[:,0], \n",
    "                 (temp).mean(0)-2*(temp).std(0),\n",
    "                 (temp).mean(0)+2*(temp).std(0),alpha=.3)\n",
    "\n",
    "temp = ystd*2*nsamp['f'][:,1]\n",
    "\n",
    "plt.plot(xraw, temp.mean(0), label='$M_0$')\n",
    "plt.fill_between(xraw[:,0], \n",
    "                 temp.mean(0)-2*temp.std(0),\n",
    "                 temp.mean(0)+2*temp.std(0),alpha=.3)\n",
    "\n",
    "# plt.plot(xraw, ds.data.loc[:,ds.meta['mM PQ'] != '0.0'].mean(1) - ds.data.loc[:,ds.meta['mM PQ'] == '0.0'].mean(1));\n",
    "\n",
    "plt.plot([xraw.min(), xraw.max()], [0, 0], lw=3, c='k')\n",
    "\n",
    "plt.legend(fontsize=12)\n",
    "plt.xticks(fontsize=12)\n",
    "plt.yticks(fontsize=12)\n",
    "plt.ylabel('log(OD)', fontsize=16)\n",
    "plt.xlabel('time (h)', fontsize=16)\n",
    "\n",
    "plt.plot()\n",
    "\n",
    "plt.savefig('figures/ura3_0.083mM-PQ_f1_m02-stan.pdf', bbox_inches='tight')"
   ]
  },
  {
   "cell_type": "code",
   "execution_count": null,
   "metadata": {},
   "outputs": [],
   "source": [
    "plt.plot(ds.data.loc[:,ds.meta['mM PQ'] != '0.0'].mean(1) - ds.data.loc[:,ds.meta['mM PQ'] == '0.0'].mean(1));"
   ]
  },
  {
   "cell_type": "code",
   "execution_count": null,
   "metadata": {},
   "outputs": [],
   "source": [
    "temp = ystd*tsamp['f'][:,0]\n",
    "\n",
    "# plt.plot(x, (2*temp).mean(0),)\n",
    "# plt.fill_between(x[:,0], \n",
    "#                  (2*temp).mean(0)-2*(2*temp).std(0),\n",
    "#                  (2*temp).mean(0)+2*(2*temp).std(0),alpha=.1)\n",
    "\n",
    "plt.plot(xraw, (temp).mean(0), label='$M_2$')\n",
    "plt.fill_between(xraw[:,0], \n",
    "                 (temp).mean(0)-2*(temp).std(0),\n",
    "                 (temp).mean(0)+2*(temp).std(0),alpha=.3)\n",
    "\n",
    "temp = ystd*nsamp['f'][:,0]\n",
    "\n",
    "plt.plot(xraw, temp.mean(0), label='$M_0$')\n",
    "plt.fill_between(xraw[:,0], \n",
    "                 temp.mean(0)-2*temp.std(0),\n",
    "                 temp.mean(0)+2*temp.std(0),alpha=.3)\n",
    "\n",
    "plt.plot([xraw.min(), xraw.max()], [0, 0], lw=3, c='k')\n",
    "\n",
    "plt.legend(fontsize=12)\n",
    "plt.xticks(fontsize=12)\n",
    "plt.yticks(fontsize=12)\n",
    "plt.ylabel('log(OD)', fontsize=16)\n",
    "plt.xlabel('time (h)', fontsize=16)\n",
    "\n",
    "# plt.savefig('figures/ura3_0.083mM-PQ_f0_m02-stan.pdf', bbox_inches='tight')"
   ]
  }
 ],
 "metadata": {
  "kernelspec": {
   "display_name": "Python 2",
   "language": "python",
   "name": "python2"
  },
  "language_info": {
   "codemirror_mode": {
    "name": "ipython",
    "version": 2
   },
   "file_extension": ".py",
   "mimetype": "text/x-python",
   "name": "python",
   "nbconvert_exporter": "python",
   "pygments_lexer": "ipython2",
   "version": "2.7.6"
  }
 },
 "nbformat": 4,
 "nbformat_minor": 2
}