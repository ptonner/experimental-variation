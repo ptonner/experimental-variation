{
 "cells": [
  {
   "cell_type": "code",
   "execution_count": null,
   "metadata": {
    "collapsed": false
   },
   "outputs": [],
   "source": [
    "%pylab"
   ]
  },
  {
   "cell_type": "code",
   "execution_count": null,
   "metadata": {
    "collapsed": true
   },
   "outputs": [],
   "source": [
    "%matplotlib inline"
   ]
  },
  {
   "cell_type": "code",
   "execution_count": null,
   "metadata": {
    "collapsed": true
   },
   "outputs": [],
   "source": [
    "import GPy, scipy"
   ]
  },
  {
   "cell_type": "code",
   "execution_count": null,
   "metadata": {
    "collapsed": true
   },
   "outputs": [],
   "source": [
    "def gompertz(t,m,A,l):\n",
    "    return A * np.exp(-np.exp(m*np.e/A*(l-t) + 1))"
   ]
  },
  {
   "cell_type": "code",
   "execution_count": null,
   "metadata": {
    "collapsed": true
   },
   "outputs": [],
   "source": [
    "def add_subplot_axes(ax,rect,axisbg='w'):\n",
    "    fig = plt.gcf()\n",
    "    box = ax.get_position()\n",
    "    width = box.width\n",
    "    height = box.height\n",
    "    inax_position  = ax.transAxes.transform(rect[0:2])\n",
    "    transFigure = fig.transFigure.inverted()\n",
    "    infig_position = transFigure.transform(inax_position)    \n",
    "    x = infig_position[0]\n",
    "    y = infig_position[1]\n",
    "    width *= rect[2]\n",
    "    height *= rect[3]  # <= Typo was here\n",
    "    subax = fig.add_axes([x,y,width,height],axisbg=axisbg)\n",
    "    x_labelsize = subax.get_xticklabels()[0].get_size()\n",
    "    y_labelsize = subax.get_yticklabels()[0].get_size()\n",
    "    x_labelsize *= rect[2]**0.5\n",
    "    y_labelsize *= rect[3]**0.5\n",
    "    subax.xaxis.set_tick_params(labelsize=x_labelsize)\n",
    "    subax.yaxis.set_tick_params(labelsize=y_labelsize)\n",
    "    return subax\n"
   ]
  },
  {
   "cell_type": "code",
   "execution_count": null,
   "metadata": {
    "collapsed": false
   },
   "outputs": [],
   "source": [
    "# kbase = GPy.kern.RBF(1,name='base')\n",
    "# kbio = GPy.kern.Hierarchical([GPy.kern.RBF(1,name='base'), GPy.kern.RBF(1,name='bio', variance=.1)])\n",
    "# ktech = GPy.kern.Hierarchical([GPy.kern.RBF(1,name='base'), GPy.kern.RBF(1,name='bio', variance=.1), GPy.kern.RBF(1,name='tech', variance=.05)])"
   ]
  },
  {
   "cell_type": "code",
   "execution_count": null,
   "metadata": {
    "collapsed": false
   },
   "outputs": [],
   "source": [
    "nbatch = 3\n",
    "nrep = 3\n",
    "ntot = nbatch * nrep\n",
    "\n",
    "x = np.zeros((50*ntot,3))\n",
    "x[:,0] = np.tile(np.linspace(0,2), ntot)\n",
    "x[:,1] = np.repeat(np.arange(nbatch), nrep*50)\n",
    "x[:,2] = np.repeat(np.arange(nbatch*nrep), 50)"
   ]
  },
  {
   "cell_type": "code",
   "execution_count": null,
   "metadata": {
    "collapsed": false
   },
   "outputs": [],
   "source": [
    "baseVariance, batchVariance, repVariance = .01, .01, .005\n",
    "\n",
    "kbase = GPy.kern.RBF(1,name='base',variance=baseVariance)\n",
    "kbatch = GPy.kern.IndependentOutputs(GPy.kern.RBF(1,name='batch', variance=batchVariance), index_dim=-2);\n",
    "krep = GPy.kern.IndependentOutputs(GPy.kern.RBF(1,name='replicate', variance=repVariance))"
   ]
  },
  {
   "cell_type": "code",
   "execution_count": null,
   "metadata": {
    "collapsed": false
   },
   "outputs": [],
   "source": [
    "plt.imshow(kbatch.K(x))\n",
    "\n",
    "plt.figure()\n",
    "plt.imshow(krep.K(x))"
   ]
  },
  {
   "cell_type": "code",
   "execution_count": null,
   "metadata": {
    "collapsed": false
   },
   "outputs": [],
   "source": [
    "plt.figure(figsize=(10,10))\n",
    "\n",
    "plt.subplot(221)\n",
    "plt.imshow(kbase.K(x))\n",
    "\n",
    "plt.subplot(222)\n",
    "plt.imshow(kbatch.K(x) + kbase.K(x))\n",
    "\n",
    "plt.subplot(223)\n",
    "plt.imshow(krep.K(x) + kbase.K(x))\n",
    "\n",
    "plt.subplot(224)\n",
    "plt.imshow(krep.K(x) + kbatch.K(x) + kbase.K(x))\n",
    "\n",
    "plt.savefig(\"figures/simulated-kernel.pdf\",bbox_inches='tight')"
   ]
  },
  {
   "cell_type": "code",
   "execution_count": null,
   "metadata": {
    "collapsed": true
   },
   "outputs": [],
   "source": [
    "def generateSample(mu, cov, nugget, length=50):\n",
    "    noise = np.eye(mu.shape[0])*nugget\n",
    "    \n",
    "    return scipy.stats.multivariate_normal.rvs(mu,cov+noise).reshape((mu.shape[0]/length,length)).T"
   ]
  },
  {
   "cell_type": "code",
   "execution_count": null,
   "metadata": {
    "collapsed": false
   },
   "outputs": [],
   "source": [
    "cov = np.zeros((x.shape[0]*4, x.shape[0]*4))\n",
    "\n",
    "# cov = kbase.K(np.tile(x.T,4).T) #+ batchVariance + repVariance\n",
    "\n",
    "print cov.shape\n",
    "\n",
    "# cov[:,:x.shape[0]] = np.tile(kbase.K(x), 4).T\n",
    "# cov[:x.shape[0],:] = np.tile(kbase.K(x), 4)\n",
    "# cov[:x.shape[0],:] = kbase.K(x)\n",
    "cov[x.shape[0]:2*x.shape[0],x.shape[0]:2*x.shape[0]] += kbatch.K(x) #- batchVariance\n",
    "cov[x.shape[0]:2*x.shape[0],3*x.shape[0]:] += kbatch.K(x) #- batchVariance\n",
    "cov[3*x.shape[0]:,x.shape[0]:2*x.shape[0]] += kbatch.K(x) #- batchVariance\n",
    "\n",
    "cov[2*x.shape[0]:3*x.shape[0],2*x.shape[0]:3*x.shape[0]] += krep.K(x) #- repVariance\n",
    "cov[2*x.shape[0]:3*x.shape[0],3*x.shape[0]:] += krep.K(x) #- repVariance\n",
    "cov[3*x.shape[0]:,2*x.shape[0]:3*x.shape[0]] += krep.K(x) #- repVariance\n",
    "\n",
    "cov[3*x.shape[0]:,3*x.shape[0]:] += kbatch.K(x) + krep.K(x) # - repVariance-  batchVariance\n",
    "\n",
    "# equal variance\n",
    "# cov[range(cov.shape[0]),range(cov.shape[0])] = np.diag(cov).max()\n",
    "\n",
    "plt.imshow(cov)"
   ]
  },
  {
   "cell_type": "code",
   "execution_count": null,
   "metadata": {
    "collapsed": false
   },
   "outputs": [],
   "source": [
    "np.random.seed(1)\n",
    "\n",
    "sigma = .001\n",
    "f = gompertz(x[:,0], 2, 1, .4)\n",
    "s = generateSample(np.tile(f, 4), cov, sigma)"
   ]
  },
  {
   "cell_type": "code",
   "execution_count": null,
   "metadata": {
    "collapsed": false
   },
   "outputs": [],
   "source": [
    "plt.figure(figsize=(6,6))\n",
    "for i in range(4):\n",
    "    ax = plt.subplot(2,2,i+1)\n",
    "    \n",
    "    plt.title('$M_%d$'%[0,2,1,3][i])\n",
    "    \n",
    "    if i > 1:\n",
    "        plt.xlabel(\"time (AU)\",)\n",
    "    else:\n",
    "        plt.xticks([0,20,40],['']*3)\n",
    "        \n",
    "    if i % 2 == 0:\n",
    "        plt.ylabel(\"OD (AU)\")\n",
    "    else:\n",
    "        plt.yticks(np.arange(-.2,1.4,.2), ['']*8)\n",
    "    plt.plot(x[:50,0],f[:50],c='k', lw=3)\n",
    "    \n",
    "    for j,z in enumerate(x[::50,1]):\n",
    "            k = np.unique(x[:,1]).tolist().index(z)\n",
    "            plt.plot(x[:50,0],s[:,ntot*i:ntot*(i+1)][:,j],color='C%d'%k,alpha=.6);\n",
    "            \n",
    "    plt.ylim(-.24, 1.29)\n",
    "    \n",
    "    subpos = [.45,.05,.5,.4]\n",
    "    a = add_subplot_axes(ax,subpos)\n",
    "    #n, bins, patches = plt.hist(x[:,0], 400, normed=1)\n",
    "    plt.plot([x[:,0].min(), x[:,0].max()], [0,0], c='k', lw=3)\n",
    "    for j,z in enumerate(x[::50,1]):\n",
    "            k = np.unique(x[:,1]).tolist().index(z)\n",
    "            plt.plot(x[:50,0],s[:,ntot*i:ntot*(i+1)][:,j]-f[:50],color='C%d'%k, alpha=.5);\n",
    "    plt.xticks([])\n",
    "    plt.yticks([])\n",
    "            \n",
    "#plt.tight_layout()\n",
    "plt.savefig(\"figures/simulated-data.pdf\", bbox_inches='tight')"
   ]
  },
  {
   "cell_type": "code",
   "execution_count": null,
   "metadata": {
    "collapsed": false
   },
   "outputs": [],
   "source": [
    "plt.figure(figsize=(10,10))\n",
    "for i in range(4):\n",
    "    plt.subplot(2,2,i+1)\n",
    "    plt.plot([0, 50], [0,0], c='k', lw=3)\n",
    "    for j,z in enumerate(x[::50,1]):\n",
    "            k = np.unique(x[:,1]).tolist().index(z)\n",
    "            plt.plot(s[:,ntot*i:ntot*(i+1)][:,j]-f[:50],color='C%d'%k);"
   ]
  },
  {
   "cell_type": "code",
   "execution_count": null,
   "metadata": {
    "collapsed": false
   },
   "outputs": [],
   "source": [
    "plt.figure(figsize=(10,10))\n",
    "\n",
    "sigma = .001\n",
    "\n",
    "plt.subplot(221)\n",
    "cov = kbase.K(x)\n",
    "plt.plot(generateSample(gompertz(x[:,0]+1, 2, 1, .4), cov, sigma))\n",
    "\n",
    "plt.subplot(222)\n",
    "cov = kbatch.K(x) + kbase.K(x)\n",
    "plt.plot(generateSample(gompertz(x[:,0]+1, 2, 1, .4), cov, sigma))\n",
    "\n",
    "plt.subplot(223)\n",
    "cov = krep.K(x) + kbase.K(x)\n",
    "plt.plot(generateSample(gompertz(x[:,0]+1, 2, 1, .4), cov, sigma))\n",
    "\n",
    "plt.subplot(224)\n",
    "cov = kbatch.K(x) + krep.K(x) + kbase.K(x)\n",
    "plt.plot(generateSample(gompertz(x[:,0]+1, 2, 1, .4), cov, sigma))"
   ]
  },
  {
   "cell_type": "code",
   "execution_count": null,
   "metadata": {
    "collapsed": false
   },
   "outputs": [],
   "source": [
    "sigma = .001\n",
    "# noise = np.eye(50*ntot)*sigma\n",
    "\n",
    "f = gompertz(x[:,0]+1, 2, 1, .4)\n",
    "\n",
    "np.random.seed(1)\n",
    "\n",
    "plt.figure(figsize=(12,4))\n",
    "for i,kern in enumerate([None, kbio, ktech]):\n",
    "\n",
    "    mu = np.zeros(x.shape[0])\n",
    "    \n",
    "    if not kern is None:\n",
    "        cov = kern.K(x)\n",
    "        f += scipy.stats.multivariate_normal.rvs(mu,cov)\n",
    "        \n",
    "    extraVariance = sum([0, bioVariance, techVariace][i+1:])\n",
    "    noise = np.eye(50*ntot)*(sigma+extraVariance)\n",
    "    \n",
    "    s = scipy.stats.multivariate_normal.rvs(f,noise).reshape((ntot,50)).T\n",
    "    \n",
    "    plt.subplot(1,3,i+1)\n",
    "    \n",
    "#     if i > 0:\n",
    "#         for j,z in enumerate(x[::50,i]):\n",
    "#             k = np.unique(x[:,i]).tolist().index(z)\n",
    "#             plt.plot(s[:,j],color='C%d'%k);\n",
    "#     else:\n",
    "#         plt.plot(s,c='k');\n",
    "    for j,z in enumerate(x[::50,1]):\n",
    "            k = np.unique(x[:,1]).tolist().index(z)\n",
    "            plt.plot(s[:,j],color='C%d'%k);\n",
    "            \n",
    "    plt.ylim(-.25,1.3)\n",
    "        \n",
    "plt.savefig(\"figures/simulated-data.pdf\",bbox_inches='tight')"
   ]
  },
  {
   "cell_type": "code",
   "execution_count": null,
   "metadata": {
    "collapsed": true
   },
   "outputs": [],
   "source": []
  },
  {
   "cell_type": "code",
   "execution_count": null,
   "metadata": {
    "collapsed": true
   },
   "outputs": [],
   "source": []
  }
 ],
 "metadata": {
  "kernelspec": {
   "display_name": "Python 2",
   "language": "python",
   "name": "python2"
  },
  "language_info": {
   "codemirror_mode": {
    "name": "ipython",
    "version": 2
   },
   "file_extension": ".py",
   "mimetype": "text/x-python",
   "name": "python",
   "nbconvert_exporter": "python",
   "pygments_lexer": "ipython2",
   "version": "2.7.6"
  }
 },
 "nbformat": 4,
 "nbformat_minor": 1
}