{
 "cells": [
  {
   "cell_type": "code",
   "execution_count": null,
   "metadata": {
    "collapsed": false
   },
   "outputs": [],
   "source": [
    "%pylab"
   ]
  },
  {
   "cell_type": "code",
   "execution_count": null,
   "metadata": {
    "collapsed": true
   },
   "outputs": [],
   "source": [
    "%matplotlib inline"
   ]
  },
  {
   "cell_type": "code",
   "execution_count": null,
   "metadata": {
    "collapsed": true
   },
   "outputs": [],
   "source": [
    "import GPy, scipy"
   ]
  },
  {
   "cell_type": "code",
   "execution_count": null,
   "metadata": {
    "collapsed": false
   },
   "outputs": [],
   "source": [
    "from GPy.kern import RBF\n",
    "\n",
    "class RBFDerivative(RBF):\n",
    "    \n",
    "    def Kxx(self, X, X2=None):\n",
    "        return super(RBFDerivative, self).K(X,X2)\n",
    "\n",
    "    def K(self,X,X2):\n",
    "        k = super(RBFDerivative, self).K(X,X2)\n",
    "        if X2 is None:\n",
    "            diff = np.zeros((X.shape[0],X.shape[0]))\n",
    "            for i in range(X.shape[0]):\n",
    "                for j in range(X.shape[0]):\n",
    "                    diff[i,j] = X[i,0] - X[j,0]\n",
    "                    #diff[i,j] = -X[i,0] + X[j,0]\n",
    "\n",
    "            return (1./(self.lengthscale[0]))*(1-(1./(self.lengthscale[0]))*(diff**2))*k\n",
    "            #return k * (-1./(self.lengthscale[0]))*diff\n",
    "        else:\n",
    "            #X2 is derivative obs\n",
    "\n",
    "            diff = np.zeros((X.shape[0],X2.shape[0]))\n",
    "            for i in range(X.shape[0]):\n",
    "                for j in range(X2.shape[0]):\n",
    "                    diff[i,j] = X[i,0] - X2[j,0]\n",
    "                    #diff[i,j] = -X[i,0] + X[j,0]\n",
    "\n",
    "            return k * (1./(self.lengthscale[0]))*diff\n",
    "            #return (1./(self.lengthscale[0]))*(1-(1./(self.lengthscale[0]))*(diff**2))*k\n"
   ]
  },
  {
   "cell_type": "code",
   "execution_count": null,
   "metadata": {
    "collapsed": false
   },
   "outputs": [],
   "source": [
    "x = np.linspace(1e-1,1)[:,None]\n",
    "\n",
    "k = RBFDerivative(1, variance=.1)\n",
    "k"
   ]
  },
  {
   "cell_type": "code",
   "execution_count": null,
   "metadata": {
    "collapsed": false
   },
   "outputs": [],
   "source": [
    "plt.imshow(k.K(x))"
   ]
  },
  {
   "cell_type": "code",
   "execution_count": null,
   "metadata": {
    "collapsed": false
   },
   "outputs": [],
   "source": [
    "plt.imshow(k.K(x,x))"
   ]
  },
  {
   "cell_type": "code",
   "execution_count": null,
   "metadata": {
    "collapsed": false
   },
   "outputs": [],
   "source": [
    "s = scipy.stats.multivariate_normal.rvs(np.zeros(50), k.K(x), size=10)\n",
    "\n",
    "plt.plot(x[:,0],s.T);"
   ]
  },
  {
   "cell_type": "code",
   "execution_count": null,
   "metadata": {
    "collapsed": false
   },
   "outputs": [],
   "source": [
    "t = 100\n",
    "nrep = 3\n",
    "\n",
    "x2 = np.zeros((t*nrep, 2))\n",
    "x2[:,0] = np.tile(np.linspace(1e-9,1,t), nrep)\n",
    "x2[:,1] = np.repeat(range(nrep), t)\n",
    "\n",
    "# k2 = GPy.kern.Hierarchical([GPy.kern.Integral(1, variances=1.), GPy.kern.RBF(1)])\n",
    "# k2 = GPy.kern.Hierarchical([GPy.kern.Integral(1, variances=1.), GPy.kern.Integral(1, variances=.1)])\n",
    "k2 = GPy.kern.Hierarchical([RBFDerivative(1), RBFDerivative(1, variance=.1, lengthscale=.25)])"
   ]
  },
  {
   "cell_type": "code",
   "execution_count": null,
   "metadata": {
    "collapsed": false
   },
   "outputs": [],
   "source": [
    "x2.shape"
   ]
  },
  {
   "cell_type": "code",
   "execution_count": null,
   "metadata": {
    "collapsed": false
   },
   "outputs": [],
   "source": [
    "plt.imshow(k2.K(x2))"
   ]
  },
  {
   "cell_type": "code",
   "execution_count": null,
   "metadata": {
    "collapsed": false
   },
   "outputs": [],
   "source": [
    "plt.imshow(k2.K(x2, x2))"
   ]
  },
  {
   "cell_type": "code",
   "execution_count": null,
   "metadata": {
    "collapsed": false
   },
   "outputs": [],
   "source": [
    "s = scipy.stats.multivariate_normal.rvs(np.zeros(t*nrep), k2.K(x2))\n",
    "\n",
    "plt.plot(s.reshape(nrep,t).T);"
   ]
  },
  {
   "cell_type": "code",
   "execution_count": null,
   "metadata": {
    "collapsed": false
   },
   "outputs": [],
   "source": [
    "n = x2.shape[0]\n",
    "\n",
    "# rep = np.array([1,0,0,0,0]*20 + [0,1,0,0,0]*20 + [0,0,1,0,0]*20 + [0,0,0,1,0]*20 + [0,0,0,0,1]*20).reshape((n,5))\n",
    "rep = np.array([1,0,0,0,0]*t + [0,1,0,0,0]*t + [0,0,1,0,0]*t).reshape((n,5))\n",
    "\n",
    "cov = np.zeros((n*2, n*2))\n",
    "\n",
    "cov[:n,:n] = k2.K(x2)\n",
    "cov[:n,n:] = k2.K(x2, x2).T\n",
    "cov[n:,:n] = k2.K(x2, x2)\n",
    "cov[n:,n:] = k2.rbf.Kxx(x2) + k2.rbf_1.Kxx(x2)*np.dot(rep,rep.T) + np.eye(t*nrep)*1e-3\n",
    "\n",
    "plt.imshow(cov)\n"
   ]
  },
  {
   "cell_type": "code",
   "execution_count": null,
   "metadata": {
    "collapsed": false
   },
   "outputs": [],
   "source": [
    "s = scipy.stats.multivariate_normal.rvs(np.zeros(n*2), cov).reshape(nrep*2,t).T\n",
    "\n",
    "dy, y = np.array_split(s, 2, 1)\n",
    "\n",
    "# plt.plot(s.reshape(10,20).T);\n",
    "plt.figure(figsize=(8,4))\n",
    "# plt.subplot(121)\n",
    "plt.plot(dy);\n",
    "plt.plot([0,t],[0,0],'k',lw=3)\n",
    "# plt.subplot(122)\n",
    "plt.twinx()\n",
    "ax = plt.gca()\n",
    "plt.gca().set_color_cycle(None)\n",
    "plt.plot(y, '--')"
   ]
  },
  {
   "cell_type": "code",
   "execution_count": null,
   "metadata": {
    "collapsed": true
   },
   "outputs": [],
   "source": [
    "def gompertz(t,m,A,l):\n",
    "    return A * np.exp(-np.exp(m*np.e/A*(l-t) + 1))"
   ]
  },
  {
   "cell_type": "code",
   "execution_count": null,
   "metadata": {
    "collapsed": true
   },
   "outputs": [],
   "source": [
    "def add_subplot_axes(ax,rect,axisbg='w'):\n",
    "    fig = plt.gcf()\n",
    "    box = ax.get_position()\n",
    "    width = box.width\n",
    "    height = box.height\n",
    "    inax_position  = ax.transAxes.transform(rect[0:2])\n",
    "    transFigure = fig.transFigure.inverted()\n",
    "    infig_position = transFigure.transform(inax_position)    \n",
    "    x = infig_position[0]\n",
    "    y = infig_position[1]\n",
    "    width *= rect[2]\n",
    "    height *= rect[3]  # <= Typo was here\n",
    "    subax = fig.add_axes([x,y,width,height],axisbg=axisbg)\n",
    "    x_labelsize = subax.get_xticklabels()[0].get_size()\n",
    "    y_labelsize = subax.get_yticklabels()[0].get_size()\n",
    "    x_labelsize *= rect[2]**0.5\n",
    "    y_labelsize *= rect[3]**0.5\n",
    "    subax.xaxis.set_tick_params(labelsize=x_labelsize)\n",
    "    subax.yaxis.set_tick_params(labelsize=y_labelsize)\n",
    "    return subax\n"
   ]
  },
  {
   "cell_type": "code",
   "execution_count": null,
   "metadata": {
    "collapsed": false
   },
   "outputs": [],
   "source": [
    "# kbase = GPy.kern.RBF(1,name='base')\n",
    "# kbio = GPy.kern.Hierarchical([GPy.kern.RBF(1,name='base'), GPy.kern.RBF(1,name='bio', variance=.1)])\n",
    "# ktech = GPy.kern.Hierarchical([GPy.kern.RBF(1,name='base'), GPy.kern.RBF(1,name='bio', variance=.1), GPy.kern.RBF(1,name='tech', variance=.05)])"
   ]
  },
  {
   "cell_type": "code",
   "execution_count": null,
   "metadata": {
    "collapsed": false
   },
   "outputs": [],
   "source": [
    "nbatch = 3\n",
    "nrep = 3\n",
    "ntot = nbatch * nrep\n",
    "nobs = 30\n",
    "\n",
    "x = np.zeros((nobs*ntot,3))\n",
    "x1 = np.zeros((nobs*ntot,2))\n",
    "x2 = np.zeros((nobs*ntot,2))\n",
    "\n",
    "x[:,0] = x1[:,0] = x2[:,0] = np.tile(np.linspace(0,2, nobs), ntot)\n",
    "x[:,1] = x2[:,1] = np.repeat(np.arange(nbatch), nrep*nobs)\n",
    "x[:,2] = x1[:,1] = np.repeat(np.arange(nbatch*nrep), nobs)\n",
    "\n",
    "x3 = x.copy()"
   ]
  },
  {
   "cell_type": "code",
   "execution_count": null,
   "metadata": {
    "collapsed": false
   },
   "outputs": [],
   "source": [
    "baseVariance, batchVariance, repVariance = .01, .01, .005\n",
    "\n",
    "kbase = GPy.kern.RBF(1,name='base',variance=baseVariance)\n",
    "kbatch = GPy.kern.IndependentOutputs(GPy.kern.RBF(1,name='batch', variance=batchVariance), index_dim=-2);\n",
    "krep = GPy.kern.IndependentOutputs(GPy.kern.RBF(1,name='replicate', variance=repVariance))"
   ]
  },
  {
   "cell_type": "code",
   "execution_count": null,
   "metadata": {
    "collapsed": false
   },
   "outputs": [],
   "source": [
    "plt.imshow(kbatch.K(x))\n",
    "\n",
    "plt.figure()\n",
    "plt.imshow(krep.K(x))"
   ]
  },
  {
   "cell_type": "code",
   "execution_count": null,
   "metadata": {
    "collapsed": false
   },
   "outputs": [],
   "source": [
    "plt.figure(figsize=(10,10))\n",
    "\n",
    "plt.subplot(221)\n",
    "plt.imshow(kbase.K(x))\n",
    "\n",
    "plt.subplot(222)\n",
    "plt.imshow(kbatch.K(x) + kbase.K(x))\n",
    "\n",
    "plt.subplot(223)\n",
    "plt.imshow(krep.K(x) + kbase.K(x))\n",
    "\n",
    "plt.subplot(224)\n",
    "plt.imshow(krep.K(x) + kbatch.K(x) + kbase.K(x))\n",
    "\n",
    "plt.savefig(\"figures/simulated-kernel.pdf\",bbox_inches='tight')"
   ]
  },
  {
   "cell_type": "code",
   "execution_count": null,
   "metadata": {
    "collapsed": true
   },
   "outputs": [],
   "source": [
    "def generateSample(mu, cov, nugget, length=50):\n",
    "    noise = np.eye(mu.shape[0])*nugget\n",
    "    \n",
    "    return scipy.stats.multivariate_normal.rvs(mu,cov+noise).reshape((mu.shape[0]/length,length)).T"
   ]
  },
  {
   "cell_type": "code",
   "execution_count": null,
   "metadata": {
    "collapsed": false
   },
   "outputs": [],
   "source": [
    "cov = np.zeros((x.shape[0]*4, x.shape[0]*4))\n",
    "\n",
    "# cov = kbase.K(np.tile(x.T,4).T) #+ batchVariance + repVariance\n",
    "\n",
    "print cov.shape\n",
    "\n",
    "# cov[:,:x.shape[0]] = np.tile(kbase.K(x), 4).T\n",
    "# cov[:x.shape[0],:] = np.tile(kbase.K(x), 4)\n",
    "# cov[:x.shape[0],:] = kbase.K(x)\n",
    "cov[x.shape[0]:2*x.shape[0],x.shape[0]:2*x.shape[0]] += kbatch.K(x) #- batchVariance\n",
    "cov[x.shape[0]:2*x.shape[0],3*x.shape[0]:] += kbatch.K(x) #- batchVarianceA\n",
    "cov[3*x.shape[0]:,x.shape[0]:2*x.shape[0]] += kbatch.K(x) #- batchVariance\n",
    "\n",
    "cov[2*x.shape[0]:3*x.shape[0],2*x.shape[0]:3*x.shape[0]] += krep.K(x) #- repVariance\n",
    "cov[2*x.shape[0]:3*x.shape[0],3*x.shape[0]:] += krep.K(x) #- repVariance\n",
    "cov[3*x.shape[0]:,2*x.shape[0]:3*x.shape[0]] += krep.K(x) #- repVariance\n",
    "\n",
    "cov[3*x.shape[0]:,3*x.shape[0]:] += kbatch.K(x) + krep.K(x) # - repVariance-  batchVariance\n",
    "\n",
    "# equal variance\n",
    "# cov[range(cov.shape[0]),range(cov.shape[0])] = np.diag(cov).max()\n",
    "\n",
    "plt.imshow(cov)"
   ]
  },
  {
   "cell_type": "code",
   "execution_count": null,
   "metadata": {
    "collapsed": false
   },
   "outputs": [],
   "source": [
    "np.random.seed(1)\n",
    "\n",
    "sigma = .001\n",
    "f = gompertz(x[:,0], 2, 1, .4)\n",
    "s = generateSample(np.tile(f, 4), cov, sigma)"
   ]
  },
  {
   "cell_type": "code",
   "execution_count": null,
   "metadata": {
    "collapsed": false
   },
   "outputs": [],
   "source": [
    "plt.figure(figsize=(6,6))\n",
    "for i in range(4):\n",
    "    ax = plt.subplot(2,2,i+1)\n",
    "    \n",
    "    plt.title('$M_%d$'%[0,2,1,3][i])\n",
    "    \n",
    "    if i > 1:\n",
    "        plt.xlabel(\"time (AU)\",)\n",
    "    else:\n",
    "        plt.xticks([0,20,40],['']*3)\n",
    "        \n",
    "    if i % 2 == 0:\n",
    "        plt.ylabel(\"growth (AU)\")\n",
    "    else:\n",
    "        plt.yticks(np.arange(-.2,1.4,.2), ['']*8)\n",
    "    plt.plot(x[:50,0],f[:50],c='k', lw=3)\n",
    "    \n",
    "    for j,z in enumerate(x[::50,1]):\n",
    "            k = np.unique(x[:,1]).tolist().index(z)\n",
    "            plt.plot(x[:50,0],s[:,ntot*i:ntot*(i+1)][:,j],color='C%d'%k,alpha=.6);\n",
    "            \n",
    "    plt.ylim(-.24, 1.29)\n",
    "    \n",
    "    subpos = [.45,.05,.5,.4]\n",
    "    a = add_subplot_axes(ax,subpos)\n",
    "    #n, bins, patches = plt.hist(x[:,0], 400, normed=1)\n",
    "    plt.plot([x[:,0].min(), x[:,0].max()], [0,0], c='k', lw=3)\n",
    "    for j,z in enumerate(x[::50,1]):\n",
    "            k = np.unique(x[:,1]).tolist().index(z)\n",
    "            plt.plot(x[:50,0],s[:,ntot*i:ntot*(i+1)][:,j]-f[:50],color='C%d'%k, alpha=.5);\n",
    "    plt.xticks([])\n",
    "    plt.yticks([])\n",
    "            \n",
    "#plt.tight_layout()\n",
    "plt.savefig(\"figures/simulated-data.pdf\", bbox_inches='tight')"
   ]
  },
  {
   "cell_type": "code",
   "execution_count": null,
   "metadata": {
    "collapsed": false
   },
   "outputs": [],
   "source": [
    "plt.figure(figsize=(10,10))\n",
    "for i in range(4):\n",
    "    plt.subplot(2,2,i+1)\n",
    "    plt.plot([0, 50], [0,0], c='k', lw=3)\n",
    "    for j,z in enumerate(x[::50,1]):\n",
    "            k = np.unique(x[:,1]).tolist().index(z)\n",
    "            plt.plot(s[:,ntot*i:ntot*(i+1)][:,j]-f[:50],color='C%d'%k);"
   ]
  },
  {
   "cell_type": "code",
   "execution_count": null,
   "metadata": {
    "collapsed": false
   },
   "outputs": [],
   "source": [
    "s.shape, ntot"
   ]
  },
  {
   "cell_type": "code",
   "execution_count": null,
   "metadata": {
    "collapsed": true
   },
   "outputs": [],
   "source": []
  },
  {
   "cell_type": "code",
   "execution_count": null,
   "metadata": {
    "collapsed": true
   },
   "outputs": [],
   "source": [
    "nsamp = 3\n",
    "scores = []\n",
    "\n",
    "for _ in range(nsamp):\n",
    "    "
   ]
  },
  {
   "cell_type": "code",
   "execution_count": null,
   "metadata": {
    "collapsed": true
   },
   "outputs": [],
   "source": [
    "baseVariance, batchVariance, repVariance = .01, .01, .005\n",
    "\n",
    "kbase = GPy.kern.RBF(1,name='base',variance=baseVariance)\n",
    "kbatch = GPy.kern.IndependentOutputs(GPy.kern.RBF(1,name='batch', variance=batchVariance), index_dim=-2);\n",
    "krep = GPy.kern.IndependentOutputs(GPy.kern.RBF(1,name='replicate', variance=repVariance))\n",
    "\n",
    "k0 = kbase\n",
    "k1 = kbase + krep\n",
    "k2 = kbase + kbatch\n",
    "k3 = kbase + kbatch + krep"
   ]
  },
  {
   "cell_type": "code",
   "execution_count": null,
   "metadata": {
    "collapsed": true
   },
   "outputs": [],
   "source": [
    "class OtherHierarchy(GPy.kern.Hierarchical):\n",
    "    def __init__(self, kernels, extra_dims=None, name='hierarchy'):\n",
    "        assert all([k.input_dim==kernels[0].input_dim for k in kernels])\n",
    "        assert len(kernels) > 1\n",
    "        self.levels = len(kernels) -1\n",
    "        input_max = max([k.input_dim for k in kernels])\n",
    "        \n",
    "        if extra_dims is None:\n",
    "            extra_dims = range(input_max, input_max + len(kernels)-1)\n",
    "        \n",
    "        GPy.kern.src.kern.CombinationKernel.__init__(self,kernels=kernels, extra_dims=extra_dims, name=name)"
   ]
  },
  {
   "cell_type": "code",
   "execution_count": null,
   "metadata": {
    "collapsed": false
   },
   "outputs": [],
   "source": [
    "m = GPy.models.GPRegression(x[:,[0]], y.T.reshape(50*ntot,1))\n",
    "m.randomize()\n",
    "m.optimize()\n",
    "m"
   ]
  },
  {
   "cell_type": "code",
   "execution_count": null,
   "metadata": {
    "collapsed": false
   },
   "outputs": [],
   "source": [
    "ax = m.plot_f()\n",
    "ax.plot(x[:50,0], f[:50],lw=1,color='r')\n",
    "plt.ylim(0,1)"
   ]
  },
  {
   "cell_type": "code",
   "execution_count": null,
   "metadata": {
    "collapsed": false
   },
   "outputs": [],
   "source": [
    "plt.imshow(cov)\n",
    "plt.colorbar()"
   ]
  },
  {
   "cell_type": "code",
   "execution_count": null,
   "metadata": {
    "collapsed": false
   },
   "outputs": [],
   "source": [
    "cov = np.zeros((x.shape[0]*4, x.shape[0]*4))\n",
    "\n",
    "# cov = kbase.K(np.tile(x.T,4).T) #+ batchVariance + repVariance\n",
    "\n",
    "print cov.shape\n",
    "\n",
    "# cov[:,:x.shape[0]] = np.tile(kbase.K(x), 4).T\n",
    "# cov[:x.shape[0],:] = np.tile(kbase.K(x), 4)\n",
    "# cov[:x.shape[0],:] = kbase.K(x)\n",
    "cov[x.shape[0]:2*x.shape[0],x.shape[0]:2*x.shape[0]] += kbatch.K(x) #- batchVariance\n",
    "cov[x.shape[0]:2*x.shape[0],3*x.shape[0]:] += kbatch.K(x) #- batchVarianceA\n",
    "cov[3*x.shape[0]:,x.shape[0]:2*x.shape[0]] += kbatch.K(x) #- batchVariance\n",
    "\n",
    "cov[2*x.shape[0]:3*x.shape[0],2*x.shape[0]:3*x.shape[0]] += krep.K(x) #- repVariance\n",
    "cov[2*x.shape[0]:3*x.shape[0],3*x.shape[0]:] += krep.K(x) #- repVariance\n",
    "cov[3*x.shape[0]:,2*x.shape[0]:3*x.shape[0]] += krep.K(x) #- repVariance\n",
    "\n",
    "cov[3*x.shape[0]:,3*x.shape[0]:] += kbatch.K(x) + krep.K(x) # - repVariance-  batchVariance\n",
    "\n",
    "# equal variance\n",
    "# cov[range(cov.shape[0]),range(cov.shape[0])] = np.diag(cov).max()\n",
    "sampleCov = cov.copy()\n",
    "\n",
    "plt.imshow(sampleCov)"
   ]
  },
  {
   "cell_type": "code",
   "execution_count": null,
   "metadata": {
    "collapsed": false,
    "scrolled": true
   },
   "outputs": [],
   "source": [
    "s = generateSample(np.tile(f, 4), sampleCov, sigma)\n",
    "y0, y2 , y1, y3 = np.array_split(s,4,1)\n",
    "\n",
    "k0 = GPy.kern.RBF(1)\n",
    "k1 = GPy.kern.Hierarchical([GPy.kern.RBF(1), GPy.kern.RBF(1)])\n",
    "k2 = GPy.kern.Hierarchical([GPy.kern.RBF(1), GPy.kern.RBF(1)])\n",
    "k3 = GPy.kern.Hierarchical([GPy.kern.RBF(1), GPy.kern.RBF(1), GPy.kern.RBF(1)])\n",
    "\n",
    "y = y1\n",
    "\n",
    "for z,k, kpred in [(x, k0, k0), (x1, k1, k1.rbf), (x2, k2, k2.rbf), (x3, k3, k3.rbf)]:\n",
    "    m = GPy.models.GPRegression(z, y.T.reshape(50*ntot,1), k)\n",
    "    m.randomize()\n",
    "    m.optimize()\n",
    "\n",
    "    mu,cov = m.predict_noiseless(z[:50,:],full_cov=True,kern=kpred)\n",
    "    std = np.sqrt(cov.diagonal())\n",
    "    diff = (mu[:,0] - f[:50])\n",
    "    \n",
    "    incorrect = 50-sum(((diff-1.98*std) < 0) & ((diff+1.98*std) > 0))\n",
    "    \n",
    "    print np.sum(np.linalg.eigvals(cov) > 1e-9)\n",
    "    #print np.dot(diff, np.dot(np.linalg.inv(cov+np.eye(50)*cov.mean()), diff))\n",
    "    print np.dot(diff, np.dot(np.linalg.inv(cov), diff))\n",
    "    \n",
    "    plt.figure()\n",
    "    plt.subplot(121)\n",
    "    plt.plot(x[:50,0],diff)\n",
    "    plt.fill_between(x[:50,0], diff + 1.98*std, diff - 1.98*std, alpha=.1)\n",
    "    \n",
    "    plt.subplot(122)\n",
    "    plt.plot(x[:50,0],mu[:,0])\n",
    "    plt.fill_between(x[:50,0], mu[:,0] + 1.98*std, mu[:,0] - 1.98*std, alpha=.1)\n",
    "    plt.plot(x[:50,0],f[:50])\n",
    "    plt.plot(x[:50,0],y,c='k',lw=.1)\n",
    "\n",
    "# m0 = GPy.models.GPRegression(x[:ntot*50,:], y0.T.reshape(50*ntot,1), k0)\n",
    "# m0.randomize()\n",
    "# m0.optimize()\n",
    "\n",
    "# mu,cov = m0.predict_noiseless(x[:50,:],full_cov=True)\n",
    "# diff = (mu[:,0] - f[:50])\n",
    "# np.dot(diff, np.dot(np.linalg.inv(cov), diff))"
   ]
  },
  {
   "cell_type": "code",
   "execution_count": null,
   "metadata": {
    "collapsed": false
   },
   "outputs": [],
   "source": [
    "s = generateSample(np.tile(f, 4), sampleCov, sigma)\n",
    "y0, y2 , y1, y3 = np.array_split(s,4,1)\n",
    "\n",
    "for y in [y0, y1, y2, y3]:\n",
    "\n",
    "    k0 = GPy.kern.RBF(1)\n",
    "    k1 = GPy.kern.Hierarchical([GPy.kern.RBF(1), GPy.kern.RBF(1)])\n",
    "    k2 = GPy.kern.Hierarchical([GPy.kern.RBF(1), GPy.kern.RBF(1)])\n",
    "    k3 = GPy.kern.Hierarchical([GPy.kern.RBF(1), GPy.kern.RBF(1), GPy.kern.RBF(1)])\n",
    "\n",
    "    for z,k, kpred in [(x, k0, k0), (x1, k1, k1.rbf), (x2, k2, k2.rbf), (x3, k3, k3.rbf)]:\n",
    "        m = GPy.models.GPRegression(z, y.T.reshape(50*ntot,1), k)\n",
    "        m.randomize()\n",
    "        m.optimize()\n",
    "\n",
    "        mu,cov = m.predict_noiseless(z[:50,:],full_cov=True,kern=kpred)\n",
    "        std = np.sqrt(cov.diagonal())\n",
    "        diff = (mu[:,0] - f[:50])\n",
    "\n",
    "        incorrect = 50-sum(((diff-1.98*std) < 0) & ((diff+1.98*std) > 0))\n",
    "        \n",
    "        print incorrect\n",
    "\n",
    "        #print np.sum(np.linalg.eigvals(cov) > 1e-9)\n",
    "        #print np.dot(diff, np.dot(np.linalg.inv(cov+np.eye(50)*cov.mean()), diff))\n",
    "        #print np.dot(diff, np.dot(np.linalg.inv(cov), diff))\n",
    "\n",
    "        plt.figure()\n",
    "        plt.subplot(121)\n",
    "        plt.plot(x[:50,0],diff)\n",
    "        plt.fill_between(x[:50,0], diff + 1.98*std, diff - 1.98*std, alpha=.1)\n",
    "\n",
    "        plt.subplot(122)\n",
    "        plt.plot(x[:50,0],mu[:,0])\n",
    "        plt.fill_between(x[:50,0], mu[:,0] + 1.98*std, mu[:,0] - 1.98*std, alpha=.1)\n",
    "        plt.plot(x[:50,0],f[:50])\n",
    "        plt.plot(x[:50,0],y,c='k',lw=.1)\n",
    "    \n",
    "    print"
   ]
  },
  {
   "cell_type": "code",
   "execution_count": null,
   "metadata": {
    "collapsed": true
   },
   "outputs": [],
   "source": [
    "samples = []"
   ]
  },
  {
   "cell_type": "code",
   "execution_count": null,
   "metadata": {
    "collapsed": false
   },
   "outputs": [],
   "source": [
    "nsamp = 30\n",
    "\n",
    "for _ in range(nsamp):\n",
    "    samples.append([])\n",
    "\n",
    "    s = generateSample(np.tile(f, 4), sampleCov, sigma)\n",
    "    y0, y2 , y1, y3 = np.array_split(s,4,1)\n",
    "\n",
    "    for y in [y0, y1, y2, y3]:\n",
    "        \n",
    "        samples[-1].append([])\n",
    "\n",
    "        k0 = GPy.kern.RBF(1)\n",
    "        k1 = GPy.kern.Hierarchical([GPy.kern.RBF(1), GPy.kern.RBF(1)])\n",
    "        k2 = GPy.kern.Hierarchical([GPy.kern.RBF(1), GPy.kern.RBF(1)])\n",
    "        k3 = GPy.kern.Hierarchical([GPy.kern.RBF(1), GPy.kern.RBF(1), GPy.kern.RBF(1)])\n",
    "\n",
    "        for z,k, kpred in [(x, k0, k0), (x1, k1, k1.rbf), (x2, k2, k2.rbf), (x3, k3, k3.rbf)]:\n",
    "            m = GPy.models.GPRegression(z, y.T.reshape(nobs*ntot,1), k)\n",
    "            m.randomize()\n",
    "            m.optimize()\n",
    "\n",
    "            mu,cov = m.predict_noiseless(z[:nobs,:],full_cov=True,kern=kpred)\n",
    "            std = np.sqrt(cov.diagonal())\n",
    "            diff = (mu[:,0] - f[:nobs])\n",
    "\n",
    "            incorrect = nobs-sum(((diff-1.98*std) < 0) & ((diff+1.98*std) > 0))\n",
    "            \n",
    "            samples[-1][-1].append(incorrect)\n",
    "            \n",
    "            del m"
   ]
  },
  {
   "cell_type": "code",
   "execution_count": null,
   "metadata": {
    "collapsed": false
   },
   "outputs": [],
   "source": [
    "failrate = 1.*np.array(samples)/50"
   ]
  },
  {
   "cell_type": "code",
   "execution_count": null,
   "metadata": {
    "collapsed": false,
    "scrolled": true
   },
   "outputs": [],
   "source": [
    "# failrate"
   ]
  },
  {
   "cell_type": "code",
   "execution_count": null,
   "metadata": {
    "collapsed": false
   },
   "outputs": [],
   "source": [
    "# each figure is different model type\n",
    "# each boxplot is generative type (m0-m3)\n",
    "\n",
    "plt.figure()\n",
    "plt.boxplot(np.array_split(failrate[:,:,0], 4, 1));\n",
    "\n",
    "plt.figure()\n",
    "plt.boxplot(np.array_split(failrate[:,:,1], 4, 1));\n",
    "\n",
    "plt.figure()\n",
    "plt.boxplot(np.array_split(failrate[:,:,2], 4, 1));\n",
    "\n",
    "plt.figure()\n",
    "plt.boxplot(np.array_split(failrate[:,:,3], 4, 1));"
   ]
  },
  {
   "cell_type": "code",
   "execution_count": null,
   "metadata": {
    "collapsed": true
   },
   "outputs": [],
   "source": []
  },
  {
   "cell_type": "code",
   "execution_count": null,
   "metadata": {
    "collapsed": true
   },
   "outputs": [],
   "source": []
  },
  {
   "cell_type": "code",
   "execution_count": null,
   "metadata": {
    "collapsed": false
   },
   "outputs": [],
   "source": [
    "plt.plot(x[:50,0],diff)\n",
    "plt.fill_between(x[:50,0], diff + 1.98*std, diff - 1.98*std, alpha=.1)\n",
    "# plt.plot(x[:50,0],f[:50])"
   ]
  },
  {
   "cell_type": "code",
   "execution_count": null,
   "metadata": {
    "collapsed": false
   },
   "outputs": [],
   "source": [
    "plt.plot(x[:50,0],mu[:,0])\n",
    "plt.fill_between(x[:50,0], mu[:,0] + 1.98*std, mu[:,0] - 1.98*std, alpha=.1)\n",
    "plt.plot(x[:50,0],f[:50])\n",
    "plt.plot(x[:50,0],y2,c='k',lw=.4)"
   ]
  },
  {
   "cell_type": "code",
   "execution_count": null,
   "metadata": {
    "collapsed": false
   },
   "outputs": [],
   "source": [
    "mu,cov = m.predict_noiseless(x[:50,:],full_cov=True)\n",
    "std = np.sqrt(cov.diagonal())"
   ]
  },
  {
   "cell_type": "code",
   "execution_count": null,
   "metadata": {
    "collapsed": false
   },
   "outputs": [],
   "source": [
    "sum(np.linalg.eigvals(cov) > 1e-9)"
   ]
  },
  {
   "cell_type": "code",
   "execution_count": null,
   "metadata": {
    "collapsed": false
   },
   "outputs": [],
   "source": [
    "diff = (mu[:,0] - f[:50])\n",
    "\n",
    "np.dot(diff, np.dot(np.linalg.inv(cov), diff))"
   ]
  },
  {
   "cell_type": "code",
   "execution_count": null,
   "metadata": {
    "collapsed": false
   },
   "outputs": [],
   "source": [
    "diff.shape"
   ]
  },
  {
   "cell_type": "code",
   "execution_count": null,
   "metadata": {
    "collapsed": false
   },
   "outputs": [],
   "source": [
    "cov"
   ]
  },
  {
   "cell_type": "code",
   "execution_count": null,
   "metadata": {
    "collapsed": false
   },
   "outputs": [],
   "source": [
    "plt.plot(diff)\n",
    "plt.plot(np.sqrt(cov));"
   ]
  },
  {
   "cell_type": "code",
   "execution_count": null,
   "metadata": {
    "collapsed": false
   },
   "outputs": [],
   "source": [
    "scipy.stats.chi2.ppf(.95, 50)"
   ]
  },
  {
   "cell_type": "code",
   "execution_count": null,
   "metadata": {
    "collapsed": false
   },
   "outputs": [],
   "source": [
    "scipy.stats.chi2.cdf(-2, 50)"
   ]
  },
  {
   "cell_type": "code",
   "execution_count": null,
   "metadata": {
    "collapsed": false
   },
   "outputs": [],
   "source": [
    "scipy.stats.chi2.cdf(np.dot(diff, np.dot(np.linalg.inv(cov), diff)), 50)"
   ]
  },
  {
   "cell_type": "code",
   "execution_count": null,
   "metadata": {
    "collapsed": false
   },
   "outputs": [],
   "source": [
    "std.shape, mu.shape"
   ]
  },
  {
   "cell_type": "code",
   "execution_count": null,
   "metadata": {
    "collapsed": false
   },
   "outputs": [],
   "source": [
    "plt.scatter(x[:ntot*50,0], y1.T.reshape(50*ntot,1))"
   ]
  },
  {
   "cell_type": "code",
   "execution_count": null,
   "metadata": {
    "collapsed": true
   },
   "outputs": [],
   "source": []
  }
 ],
 "metadata": {
  "kernelspec": {
   "display_name": "Python 2",
   "language": "python",
   "name": "python2"
  },
  "language_info": {
   "codemirror_mode": {
    "name": "ipython",
    "version": 2
   },
   "file_extension": ".py",
   "mimetype": "text/x-python",
   "name": "python",
   "nbconvert_exporter": "python",
   "pygments_lexer": "ipython2",
   "version": "2.7.6"
  }
 },
 "nbformat": 4,
 "nbformat_minor": 1
}